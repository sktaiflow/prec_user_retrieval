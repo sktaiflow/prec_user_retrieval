{
 "cells": [
  {
   "cell_type": "code",
   "execution_count": 1,
   "id": "afa07610-8fe8-4d61-8bfc-f93546444825",
   "metadata": {
    "execution": {
     "iopub.execute_input": "2024-06-28T04:05:30.213625Z",
     "iopub.status.busy": "2024-06-28T04:05:30.213263Z",
     "iopub.status.idle": "2024-06-28T04:05:30.223033Z",
     "shell.execute_reply": "2024-06-28T04:05:30.222064Z",
     "shell.execute_reply.started": "2024-06-28T04:05:30.213586Z"
    },
    "tags": []
   },
   "outputs": [],
   "source": [
    "# # # Parameters\n",
    "DT = \"2024-06-26\"   "
   ]
  },
  {
   "cell_type": "markdown",
   "id": "363b08fe-586b-4b37-9a98-dbee9c39d641",
   "metadata": {},
   "source": [
    "## **One Model Profile 생성 작업**"
   ]
  },
  {
   "cell_type": "markdown",
   "id": "6e8bbfe0-3d1d-41ea-b97d-3394ad548dcf",
   "metadata": {
    "execution": {
     "iopub.execute_input": "2024-06-03T23:07:29.647241Z",
     "iopub.status.busy": "2024-06-03T23:07:29.646408Z",
     "iopub.status.idle": "2024-06-03T23:07:29.655344Z",
     "shell.execute_reply": "2024-06-03T23:07:29.654108Z",
     "shell.execute_reply.started": "2024-06-03T23:07:29.647184Z"
    },
    "tags": []
   },
   "source": [
    "- 개요\n",
    "    - One Model Profile 생성 작업\n",
    "- 내용\n",
    "    - item, cat1, cat2 level로 프로파일링 작업 수행\n",
    "    - 단기 preference 정보\n",
    "        - 7일 내 item 정보를 통해서 생성\n",
    "        - 이때, item은 정규화 로직을 통해 추출된 단어 기반으로 최종 단어들은 추출\n",
    "    - 장기 preference 정보\n",
    "        - 60일 내 cat1, cat2 정보를 통해서 생성\n",
    "        - cat2가 더 상위 레벨임. 어떤 레벨로 장기 구성할지 선택 필요- 내용- 내용"
   ]
  },
  {
   "cell_type": "code",
   "execution_count": 2,
   "id": "f400f032-be1d-409d-82c1-914745945958",
   "metadata": {
    "execution": {
     "iopub.execute_input": "2024-06-28T04:05:30.226435Z",
     "iopub.status.busy": "2024-06-28T04:05:30.225874Z",
     "iopub.status.idle": "2024-06-28T04:05:32.075324Z",
     "shell.execute_reply": "2024-06-28T04:05:32.074140Z",
     "shell.execute_reply.started": "2024-06-28T04:05:30.226382Z"
    },
    "tags": []
   },
   "outputs": [],
   "source": [
    "from skt.gcp import get_bigquery_client, bq_insert_overwrite, get_max_part, bq_to_df, bq_to_pandas, pandas_to_bq_table, load_query_result_to_table, df_to_bq_table\n",
    "from pyspark.sql.functions import *\n",
    "from pyspark.sql.window import Window\n",
    "from pyspark.sql.functions import row_number, col, lit, count, log, exp, sum as spark_sum\n",
    "from pyspark.sql import functions as F\n",
    "from datetime import datetime, date, timedelta\n",
    "from skt.ye import get_spark\n",
    "import pandas as pd\n",
    "import re\n",
    "from sklearn.feature_extraction.text import TfidfVectorizer\n",
    "import numpy as np\n",
    "import math\n",
    "from pyspark.sql.types import DoubleType"
   ]
  },
  {
   "cell_type": "code",
   "execution_count": 3,
   "id": "833d4a36-7a7f-4587-b170-a6c3904d41ea",
   "metadata": {
    "execution": {
     "iopub.execute_input": "2024-06-28T04:05:32.076755Z",
     "iopub.status.busy": "2024-06-28T04:05:32.076398Z",
     "iopub.status.idle": "2024-06-28T04:05:32.082457Z",
     "shell.execute_reply": "2024-06-28T04:05:32.081508Z",
     "shell.execute_reply.started": "2024-06-28T04:05:32.076731Z"
    },
    "tags": []
   },
   "outputs": [],
   "source": [
    "def calculate_days(start_date, end_date):\n",
    "    date_range = pd.date_range(start=start_date, end=end_date)\n",
    "    total_days = len(date_range)\n",
    "    weekend_days = date_range.to_series().map(lambda x: x.weekday() >= 5).sum()\n",
    "    weekday_days = total_days - weekend_days\n",
    "    return total_days, int(weekend_days), int(weekday_days)"
   ]
  },
  {
   "cell_type": "markdown",
   "id": "a4db68ef-3781-4d45-8e71-17a6663a83ee",
   "metadata": {},
   "source": [
    "# 프로파일 : tmap"
   ]
  },
  {
   "cell_type": "code",
   "execution_count": 4,
   "id": "a45fd9bf-f169-4975-ba44-e07781779a98",
   "metadata": {
    "execution": {
     "iopub.execute_input": "2024-06-28T04:05:32.083459Z",
     "iopub.status.busy": "2024-06-28T04:05:32.083251Z",
     "iopub.status.idle": "2024-06-28T04:05:32.099666Z",
     "shell.execute_reply": "2024-06-28T04:05:32.098512Z",
     "shell.execute_reply.started": "2024-06-28T04:05:32.083439Z"
    },
    "tags": []
   },
   "outputs": [
    {
     "name": "stdout",
     "output_type": "stream",
     "text": [
      "DT :  2024-06-26\n",
      "DT_threshold :  2024-04-26\n",
      "DT_threshold :  2024-06-18\n"
     ]
    }
   ],
   "source": [
    "# DT = \"2024-06-02\"\n",
    "current_date = datetime.strptime(DT, \"%Y-%m-%d\") - timedelta(days=2)\n",
    "DT_threshold1 = (current_date - timedelta(days=59)).strftime(\"%Y-%m-%d\")\n",
    "DT_threshold2 = (current_date - timedelta(days=6)).strftime(\"%Y-%m-%d\")\n",
    "\n",
    "print(\"DT : \", DT)\n",
    "print(\"DT_threshold : \", DT_threshold1)\n",
    "print(\"DT_threshold : \", DT_threshold2)"
   ]
  },
  {
   "cell_type": "code",
   "execution_count": 5,
   "id": "c78779d6-f895-4118-ab9f-e821db8f857b",
   "metadata": {
    "execution": {
     "iopub.execute_input": "2024-06-28T04:05:32.104796Z",
     "iopub.status.busy": "2024-06-28T04:05:32.104432Z",
     "iopub.status.idle": "2024-06-28T04:05:32.113146Z",
     "shell.execute_reply": "2024-06-28T04:05:32.112260Z",
     "shell.execute_reply.started": "2024-06-28T04:05:32.104769Z"
    },
    "tags": []
   },
   "outputs": [],
   "source": [
    "total_days, weekend_days, weekday_days = calculate_days(DT_threshold1, current_date.strftime(\"%Y-%m-%d\"))"
   ]
  },
  {
   "cell_type": "code",
   "execution_count": 6,
   "id": "94dabfbb-98c6-49e2-a467-43cede77439d",
   "metadata": {
    "execution": {
     "iopub.execute_input": "2024-06-28T04:05:32.114124Z",
     "iopub.status.busy": "2024-06-28T04:05:32.113917Z",
     "iopub.status.idle": "2024-06-28T04:05:32.128619Z",
     "shell.execute_reply": "2024-06-28T04:05:32.127711Z",
     "shell.execute_reply.started": "2024-06-28T04:05:32.114103Z"
    },
    "tags": []
   },
   "outputs": [
    {
     "data": {
      "text/plain": [
       "(60, 18, 42)"
      ]
     },
     "execution_count": 6,
     "metadata": {},
     "output_type": "execute_result"
    }
   ],
   "source": [
    "total_days, weekend_days, weekday_days"
   ]
  },
  {
   "cell_type": "code",
   "execution_count": 7,
   "id": "4a3e1e90-d4f5-4fab-a14a-3fe4971eeb76",
   "metadata": {
    "execution": {
     "iopub.execute_input": "2024-06-28T04:05:32.129721Z",
     "iopub.status.busy": "2024-06-28T04:05:32.129501Z",
     "iopub.status.idle": "2024-06-28T04:05:32.139981Z",
     "shell.execute_reply": "2024-06-28T04:05:32.139019Z",
     "shell.execute_reply.started": "2024-06-28T04:05:32.129698Z"
    },
    "tags": []
   },
   "outputs": [],
   "source": [
    "query_item = f\"\"\"\n",
    "    select *\n",
    "    from adot_reco_dev.tmap_item_cnt\n",
    "    where dt >= '{DT_threshold1}'\n",
    "\"\"\""
   ]
  },
  {
   "cell_type": "code",
   "execution_count": 8,
   "id": "5eb902fa-7786-405e-a1ec-36887b6458e4",
   "metadata": {
    "execution": {
     "iopub.execute_input": "2024-06-28T04:05:32.141331Z",
     "iopub.status.busy": "2024-06-28T04:05:32.140985Z",
     "iopub.status.idle": "2024-06-28T04:06:33.456666Z",
     "shell.execute_reply": "2024-06-28T04:06:33.454919Z",
     "shell.execute_reply.started": "2024-06-28T04:05:32.141277Z"
    },
    "tags": []
   },
   "outputs": [
    {
     "name": "stderr",
     "output_type": "stream",
     "text": [
      "Setting default log level to \"WARN\".\n",
      "To adjust logging level use sc.setLogLevel(newLevel). For SparkR, use setLogLevel(newLevel).\n",
      "24/06/28 13:06:04 WARN Client: Neither spark.yarn.jars nor spark.yarn.archive is set, falling back to uploading libraries under SPARK_HOME.\n",
      "24/06/28 13:06:29 WARN SQLConf: The SQL config 'spark.sql.execution.arrow.enabled' has been deprecated in Spark v3.0 and may be removed in the future. Use 'spark.sql.execution.arrow.pyspark.enabled' instead of it.\n"
     ]
    }
   ],
   "source": [
    "data_item = bq_to_df(query_item)"
   ]
  },
  {
   "cell_type": "code",
   "execution_count": 10,
   "id": "e9f4d86a-c880-4d39-9fef-20a9243f7a1a",
   "metadata": {
    "execution": {
     "iopub.execute_input": "2024-06-25T23:53:26.263893Z",
     "iopub.status.busy": "2024-06-25T23:53:26.263388Z",
     "iopub.status.idle": "2024-06-25T23:53:32.422617Z",
     "shell.execute_reply": "2024-06-25T23:53:32.421937Z",
     "shell.execute_reply.started": "2024-06-25T23:53:26.263866Z"
    },
    "tags": []
   },
   "outputs": [
    {
     "name": "stderr",
     "output_type": "stream",
     "text": [
      "[Stage 0:>                                                          (0 + 1) / 1]\r"
     ]
    },
    {
     "name": "stdout",
     "output_type": "stream",
     "text": [
      "+--------------------+--------------------+------------+----+----+--------+--------+----------+----------+\n",
      "|        svc_mgmt_num|             luna_id|        item|cat1|cat2|item_cnt|second_s|is_weekend|        dt|\n",
      "+--------------------+--------------------+------------+----+----+--------+--------+----------+----------+\n",
      "|58a0b20493b152fe3...|                null|      이케아|가구|쇼핑|       2|     0_6|         0|2024-04-26|\n",
      "|c404add21c4e58a1b...|                null|      이케아|가구|쇼핑|       2|   13_18|         0|2024-04-26|\n",
      "|bdaa84add3536a5bf...|APL00000D1MO3IPNKX6O|      이케아|가구|쇼핑|       2|   13_18|         0|2024-04-26|\n",
      "|4bc57aac33df27c8c...|                null|    가구기타|가구|쇼핑|       2|   13_18|         0|2024-04-26|\n",
      "|f0d641aa5fb457a40...|APL00000BPNBTD1BRE9S|    가구기타|가구|쇼핑|       4|   13_18|         0|2024-04-26|\n",
      "|2bea244d24c088905...|APL00000DBGP8NSGVYF4|기타국내가구|가구|쇼핑|       2|   13_18|         0|2024-04-26|\n",
      "|88f5c7b5b500ab920...|APL00000BU4IESM90CG0|      이케아|가구|쇼핑|       4|   18_21|         0|2024-04-26|\n",
      "|a08ed39aef6270e4b...|APL00000D04MANYOMWW0|        삼성|가전|쇼핑|       2|     6_9|         0|2024-04-26|\n",
      "|ef245a21b1c4dbe06...|                null|        삼성|가전|쇼핑|       6|     6_9|         0|2024-04-26|\n",
      "|b40c34698af3e3492...|                null|        삼성|가전|쇼핑|       2|     6_9|         0|2024-04-26|\n",
      "+--------------------+--------------------+------------+----+----+--------+--------+----------+----------+\n",
      "only showing top 10 rows\n",
      "\n"
     ]
    },
    {
     "name": "stderr",
     "output_type": "stream",
     "text": [
      "                                                                                \r"
     ]
    }
   ],
   "source": [
    "data_item.show(n=10)"
   ]
  },
  {
   "cell_type": "code",
   "execution_count": 9,
   "id": "02c78615-89d1-4daf-aa0e-b74b0449c449",
   "metadata": {
    "execution": {
     "iopub.execute_input": "2024-06-28T04:06:33.462865Z",
     "iopub.status.busy": "2024-06-28T04:06:33.461724Z",
     "iopub.status.idle": "2024-06-28T04:06:33.485680Z",
     "shell.execute_reply": "2024-06-28T04:06:33.484631Z",
     "shell.execute_reply.started": "2024-06-28T04:06:33.462796Z"
    },
    "tags": []
   },
   "outputs": [],
   "source": [
    "def extract_prefer_list(data, thre=0.7, col_names='tmap_total'):\n",
    "    data_distinct = data.select(['cat1','cat2','item']).distinct()\n",
    "    \n",
    "    data = data.select(['svc_mgmt_num','luna_id','item']).na.drop(\"any\", subset='item')\n",
    "    data = data.groupby('svc_mgmt_num','luna_id','item').agg(count(\"*\").alias('item_cnt'))\n",
    "    data_user = data.groupby(['svc_mgmt_num','luna_id']).agg(max('item_cnt').alias('item_max_cnt'))\n",
    "    data = data.join(data_user, on=['svc_mgmt_num','luna_id'], how=\"left\")\n",
    "    data = data.withColumn('item_prop', col('item_cnt')/col('item_max_cnt'))\n",
    "    \n",
    "    # 전체 빈도수 기반으로 선호 장소 추출\n",
    "    data1 = data.filter(col('item_prop') > thre)\n",
    "    window_spec1 = Window.partitionBy([\"svc_mgmt_num\",'luna_id']).orderBy(desc('item_prop'))\n",
    "\n",
    "    top_keywords1 = data1.withColumn(\"rank\", row_number().over(window_spec1)) \\\n",
    "                    .filter(col(\"rank\") <= 10) \\\n",
    "                    .drop(\"rank\")\n",
    "    \n",
    "    top_keywords1 = top_keywords1.dropDuplicates(['luna_id','item']).select(['svc_mgmt_num', 'luna_id', 'item'])\n",
    "    # data1 = top_keywords.groupBy(\"svc_mgmt_num\",'luna_id').agg(concat_ws(\", \",collect_list(f'{cate}')).alias(f'{cate}_list'))\n",
    "    \n",
    "    # IDF 고려하여 유저가 특이하게 방문하는 장소 추출\n",
    "    data_item_user_cnt = data.select(['svc_mgmt_num','luna_id']).distinct().count()\n",
    "    \n",
    "    data_idf = data.select(['svc_mgmt_num','luna_id','item']).distinct()\n",
    "    data_idf_cnt = data_idf.groupby('item').agg(count(\"*\").alias('item_idf_cnt'))\n",
    "    data2 = data.join(data_idf_cnt,on='item',how=\"left\")\n",
    "    data2 = data2.withColumn('idf_wei', log(data_item_user_cnt / (1+col(\"item_idf_cnt\"))))\n",
    "    data2 = data2.withColumn('rev_item_prop', 0.6/(1.0 + exp(-col(\"idf_wei\")))+col('item_prop')*0.4)\n",
    "    data2 = data2.filter(col('rev_item_prop') > 0.7)\n",
    "    \n",
    "    window_spec2 = Window.partitionBy([\"svc_mgmt_num\",'luna_id']).orderBy(desc('rev_item_prop'))\n",
    "\n",
    "    top_keywords2 = data2.withColumn(\"rank\", row_number().over(window_spec2)) \\\n",
    "                    .filter(col(\"rank\") <= 5) \\\n",
    "                    .drop(\"rank\")\n",
    "    \n",
    "    top_keywords2 = top_keywords2.dropDuplicates(['luna_id','item'])\n",
    "    # top_keywords2 = top_keywords2.withColumnRenamed('item', 'item_rev')\n",
    "    \n",
    "    # top_keywords = top_keywords1.join(top_keywords2, on=['svc_mgmt_num', 'luna_id'], how=\"left\")\n",
    "    item_per_group = top_keywords1.groupBy(['svc_mgmt_num', 'luna_id']).agg(collect_set(\"item\").alias(\"item_values\"))\n",
    "    \n",
    "    top_keywords2 = top_keywords2.join(item_per_group, on=['svc_mgmt_num', 'luna_id'])\n",
    "    top_keywords2 = top_keywords2.filter(~array_contains(col(\"item_values\"), col(\"item\"))).select(['svc_mgmt_num', 'luna_id', 'item'])\n",
    "    \n",
    "    \n",
    "    ## cat1, cat2 붙이기 위한 작업\n",
    "    top_keywords = top_keywords1.union(top_keywords2)\n",
    "    top_keywords = top_keywords.join(data_distinct, on=\"item\", how=\"left\")\n",
    "    \n",
    "    ## 전체 데이터 merge\n",
    "    data = top_keywords1.groupBy('luna_id').agg(concat_ws(\", \",collect_set('item')).alias(f'{col_names}_item_list'))\n",
    "    data = data.join(top_keywords2.groupBy('luna_id').agg(concat_ws(\", \",collect_set('item')).alias(f'{col_names}_item_list_unique')), on=['luna_id'], how=\"left\")\n",
    "    data = data.join(top_keywords.groupBy('luna_id').agg(concat_ws(\", \",collect_set('cat1')).alias(f'{col_names}_cat1_list'), concat_ws(\", \",collect_set('cat2')).alias(f'{col_names}_cat2_list')), on=['luna_id'], how=\"left\")\n",
    "    \n",
    "\n",
    "    return data"
   ]
  },
  {
   "cell_type": "code",
   "execution_count": null,
   "id": "9d429d28-1c54-464f-a62f-3910a57c8472",
   "metadata": {},
   "outputs": [],
   "source": []
  },
  {
   "cell_type": "code",
   "execution_count": null,
   "id": "1f4fa5e2-b049-4133-b872-b6da04119bcb",
   "metadata": {},
   "outputs": [],
   "source": []
  },
  {
   "cell_type": "markdown",
   "id": "6e878713-c4ea-4369-9192-8024f48c08cb",
   "metadata": {},
   "source": [
    "## item 기준으로 주말, 평일로 나누고, item에 해당하는 cat1,cat2도 함께 저장하는 형태"
   ]
  },
  {
   "cell_type": "code",
   "execution_count": 10,
   "id": "338b809d-006a-45a1-9078-9b425c54deb6",
   "metadata": {
    "execution": {
     "iopub.execute_input": "2024-06-28T04:06:33.486856Z",
     "iopub.status.busy": "2024-06-28T04:06:33.486654Z",
     "iopub.status.idle": "2024-06-28T04:07:32.907803Z",
     "shell.execute_reply": "2024-06-28T04:07:32.906329Z",
     "shell.execute_reply.started": "2024-06-28T04:06:33.486834Z"
    },
    "tags": []
   },
   "outputs": [
    {
     "name": "stderr",
     "output_type": "stream",
     "text": [
      "                                                                                \r"
     ]
    }
   ],
   "source": [
    "total_data = extract_prefer_list(data_item, 0.5, 'tmap_total')\n",
    "total_data = total_data.join(extract_prefer_list(data_item.filter(col('is_weekend')==1), 0.5, 'tmap_weekend'),on=\"luna_id\",how=\"left\")\n",
    "total_data = total_data.join(extract_prefer_list(data_item.filter(col('is_weekend')==0), 0.5, 'tmap_weekday'),on=\"luna_id\",how=\"left\")"
   ]
  },
  {
   "cell_type": "code",
   "execution_count": 11,
   "id": "b9d6381e-28cc-4e04-8044-32d628d46f0b",
   "metadata": {
    "execution": {
     "iopub.execute_input": "2024-06-28T04:07:32.910444Z",
     "iopub.status.busy": "2024-06-28T04:07:32.909728Z",
     "iopub.status.idle": "2024-06-28T04:07:32.926628Z",
     "shell.execute_reply": "2024-06-28T04:07:32.925537Z",
     "shell.execute_reply.started": "2024-06-28T04:07:32.910387Z"
    },
    "tags": []
   },
   "outputs": [
    {
     "name": "stdout",
     "output_type": "stream",
     "text": [
      "root\n",
      " |-- luna_id: string (nullable = true)\n",
      " |-- tmap_total_item_list: string (nullable = false)\n",
      " |-- tmap_total_item_list_unique: string (nullable = true)\n",
      " |-- tmap_total_cat1_list: string (nullable = true)\n",
      " |-- tmap_total_cat2_list: string (nullable = true)\n",
      " |-- tmap_weekend_item_list: string (nullable = true)\n",
      " |-- tmap_weekend_item_list_unique: string (nullable = true)\n",
      " |-- tmap_weekend_cat1_list: string (nullable = true)\n",
      " |-- tmap_weekend_cat2_list: string (nullable = true)\n",
      " |-- tmap_weekday_item_list: string (nullable = true)\n",
      " |-- tmap_weekday_item_list_unique: string (nullable = true)\n",
      " |-- tmap_weekday_cat1_list: string (nullable = true)\n",
      " |-- tmap_weekday_cat2_list: string (nullable = true)\n",
      "\n"
     ]
    }
   ],
   "source": [
    "total_data.printSchema()"
   ]
  },
  {
   "cell_type": "code",
   "execution_count": 12,
   "id": "f3925a24-d9c7-4497-b23a-eebe5f443d33",
   "metadata": {
    "execution": {
     "iopub.execute_input": "2024-06-28T04:07:32.928734Z",
     "iopub.status.busy": "2024-06-28T04:07:32.928180Z",
     "iopub.status.idle": "2024-06-28T04:07:32.987997Z",
     "shell.execute_reply": "2024-06-28T04:07:32.984845Z",
     "shell.execute_reply.started": "2024-06-28T04:07:32.928686Z"
    },
    "tags": []
   },
   "outputs": [],
   "source": [
    "total_data = total_data.withColumn(\"tmap_total_item_list\", concat_ws(\", \", total_data.tmap_total_item_list, total_data.tmap_total_item_list_unique))"
   ]
  },
  {
   "cell_type": "code",
   "execution_count": null,
   "id": "ceb1b59e-342d-4e72-aea8-f93e466e5b2f",
   "metadata": {},
   "outputs": [],
   "source": []
  },
  {
   "cell_type": "markdown",
   "id": "6c7096f1-c220-450b-9159-5bb84a11fb84",
   "metadata": {},
   "source": [
    "### Profile text 화"
   ]
  },
  {
   "cell_type": "code",
   "execution_count": 13,
   "id": "1eaf3d1e-7937-4122-b20d-361750e12ce1",
   "metadata": {
    "execution": {
     "iopub.execute_input": "2024-06-28T04:07:32.992927Z",
     "iopub.status.busy": "2024-06-28T04:07:32.991688Z",
     "iopub.status.idle": "2024-06-28T04:07:36.508879Z",
     "shell.execute_reply": "2024-06-28T04:07:36.507668Z",
     "shell.execute_reply.started": "2024-06-28T04:07:32.992857Z"
    },
    "tags": []
   },
   "outputs": [
    {
     "name": "stdout",
     "output_type": "stream",
     "text": [
      "query: select * from adot_reco_dev.profile_template\n",
      "destination: skt-datahub._775c5ccab1096b3cccd7ac34a5db11c0a354fb07.anonede30ccb69980634173a489a463132ab54db42983ba882a85f38a05248ccba31\n",
      "total_rows: 6\n",
      "slot_secs: 0.058\n",
      "\n"
     ]
    },
    {
     "name": "stderr",
     "output_type": "stream",
     "text": [
      "/usr/local/lib/python3.8/dist-packages/google/cloud/bigquery/table.py:2309: UserWarning: Unable to represent RANGE schema as struct using pandas ArrowDtype. Using `object` instead. To use ArrowDtype, use pandas >= 1.5 and pyarrow >= 10.0.1.\n",
      "  warnings.warn(_RANGE_PYARROW_WARNING)\n",
      "/usr/local/lib/python3.8/dist-packages/google/cloud/bigquery/table.py:2323: UserWarning: Unable to represent RANGE schema as struct using pandas ArrowDtype. Using `object` instead. To use ArrowDtype, use pandas >= 1.5 and pyarrow >= 10.0.1.\n",
      "  warnings.warn(_RANGE_PYARROW_WARNING)\n",
      "/usr/local/lib/python3.8/dist-packages/google/cloud/bigquery/table.py:2337: UserWarning: Unable to represent RANGE schema as struct using pandas ArrowDtype. Using `object` instead. To use ArrowDtype, use pandas >= 1.5 and pyarrow >= 10.0.1.\n",
      "  warnings.warn(_RANGE_PYARROW_WARNING)\n"
     ]
    },
    {
     "name": "stdout",
     "output_type": "stream",
     "text": [
      "Downloading: 100%|\u001b[32m██████████\u001b[0m|\n"
     ]
    }
   ],
   "source": [
    "profile_template = bq_to_pandas(\"select * from adot_reco_dev.profile_template\")"
   ]
  },
  {
   "cell_type": "code",
   "execution_count": 14,
   "id": "76f50038-88f4-49e3-a154-9f965285f6b8",
   "metadata": {
    "execution": {
     "iopub.execute_input": "2024-06-28T04:07:36.510782Z",
     "iopub.status.busy": "2024-06-28T04:07:36.510289Z",
     "iopub.status.idle": "2024-06-28T04:07:36.585934Z",
     "shell.execute_reply": "2024-06-28T04:07:36.584542Z",
     "shell.execute_reply.started": "2024-06-28T04:07:36.510746Z"
    },
    "tags": []
   },
   "outputs": [],
   "source": [
    "template = list(profile_template[profile_template['source_domain']==\"tmap\"].template)[0]\n",
    "\n",
    "def profile_text(tmap_cat1,tmap_item):\n",
    "    return template.format(cat1_profile=tmap_cat1, item_profile=tmap_item)\n",
    "\n",
    "profile_text_udf = udf(profile_text, StringType())\n",
    "total_data = total_data.withColumn(\"tmap_profile\", profile_text_udf(total_data[\"tmap_total_cat1_list\"], total_data[\"tmap_total_item_list\"]))"
   ]
  },
  {
   "cell_type": "code",
   "execution_count": 15,
   "id": "7964885a-6f40-4a9e-93c1-b2d96ec0949f",
   "metadata": {
    "execution": {
     "iopub.execute_input": "2024-06-28T04:07:36.588492Z",
     "iopub.status.busy": "2024-06-28T04:07:36.587851Z",
     "iopub.status.idle": "2024-06-28T04:07:36.597818Z",
     "shell.execute_reply": "2024-06-28T04:07:36.596691Z",
     "shell.execute_reply.started": "2024-06-28T04:07:36.588437Z"
    },
    "tags": []
   },
   "outputs": [
    {
     "data": {
      "text/plain": [
       "['luna_id',\n",
       " 'tmap_total_item_list',\n",
       " 'tmap_total_item_list_unique',\n",
       " 'tmap_total_cat1_list',\n",
       " 'tmap_total_cat2_list',\n",
       " 'tmap_weekend_item_list',\n",
       " 'tmap_weekend_item_list_unique',\n",
       " 'tmap_weekend_cat1_list',\n",
       " 'tmap_weekend_cat2_list',\n",
       " 'tmap_weekday_item_list',\n",
       " 'tmap_weekday_item_list_unique',\n",
       " 'tmap_weekday_cat1_list',\n",
       " 'tmap_weekday_cat2_list',\n",
       " 'tmap_profile']"
      ]
     },
     "execution_count": 15,
     "metadata": {},
     "output_type": "execute_result"
    }
   ],
   "source": [
    "total_data.columns"
   ]
  },
  {
   "cell_type": "code",
   "execution_count": null,
   "id": "76370e61-3950-43f5-88db-3c663e27ddf1",
   "metadata": {},
   "outputs": [],
   "source": []
  },
  {
   "cell_type": "code",
   "execution_count": null,
   "id": "31f4a6be-0dcd-4684-bb8e-c82a9115e6ec",
   "metadata": {},
   "outputs": [],
   "source": []
  },
  {
   "cell_type": "markdown",
   "id": "1c246162-6f43-4f53-a288-9a8137fca784",
   "metadata": {},
   "source": [
    "### AIDP 저장"
   ]
  },
  {
   "cell_type": "code",
   "execution_count": 16,
   "id": "bb1b5e4f-4313-494f-8759-0b94aeeb4bc6",
   "metadata": {
    "execution": {
     "iopub.execute_input": "2024-06-28T04:07:36.599557Z",
     "iopub.status.busy": "2024-06-28T04:07:36.599252Z",
     "iopub.status.idle": "2024-06-28T04:07:36.609718Z",
     "shell.execute_reply": "2024-06-28T04:07:36.608831Z",
     "shell.execute_reply.started": "2024-06-28T04:07:36.599530Z"
    },
    "tags": []
   },
   "outputs": [],
   "source": [
    "dest_dataset = \"x1113099\"\n",
    "partitioned_dest_table = \"user_retrieval_profile_tmap_text\""
   ]
  },
  {
   "cell_type": "code",
   "execution_count": 17,
   "id": "eb39d93a-b48d-49a4-862f-ecb160f56644",
   "metadata": {
    "execution": {
     "iopub.execute_input": "2024-06-28T04:07:36.612622Z",
     "iopub.status.busy": "2024-06-28T04:07:36.612269Z",
     "iopub.status.idle": "2024-06-28T04:07:38.416206Z",
     "shell.execute_reply": "2024-06-28T04:07:38.415012Z",
     "shell.execute_reply.started": "2024-06-28T04:07:36.612593Z"
    },
    "tags": []
   },
   "outputs": [
    {
     "name": "stdout",
     "output_type": "stream",
     "text": [
      "생성된 테이블 : x1113099.user_retrieval_profile_tmap_text\n"
     ]
    }
   ],
   "source": [
    "get_bigquery_client().query(f\"\"\"\n",
    "    CREATE TABLE IF NOT EXISTS {dest_dataset}.{partitioned_dest_table}\n",
    "    (\n",
    "        luna_id STRING,\n",
    "        tmap_total_item_list STRING,\n",
    "        tmap_total_item_list_unique STRING,\n",
    "        tmap_total_cat1_list STRING,\n",
    "        tmap_total_cat2_list STRING,\n",
    "        tmap_weekend_item_list STRING,\n",
    "        tmap_weekend_item_list_unique STRING,\n",
    "        tmap_weekend_cat1_list STRING,\n",
    "        tmap_weekend_cat2_list STRING,\n",
    "        tmap_weekday_item_list STRING,\n",
    "        tmap_weekday_item_list_unique STRING,\n",
    "        tmap_weekday_cat1_list STRING,\n",
    "        tmap_weekday_cat2_list STRING,\n",
    "        tmap_profile STRING\n",
    "    )\n",
    "\"\"\").result()\n",
    "\n",
    "print(f\"생성된 테이블 : {dest_dataset}.{partitioned_dest_table}\")"
   ]
  },
  {
   "cell_type": "code",
   "execution_count": 18,
   "id": "9087dbc1-a338-45f5-bc0a-1a0346cf3a4f",
   "metadata": {
    "execution": {
     "iopub.execute_input": "2024-06-28T04:07:38.418855Z",
     "iopub.status.busy": "2024-06-28T04:07:38.418158Z",
     "iopub.status.idle": "2024-06-28T04:13:38.579651Z",
     "shell.execute_reply": "2024-06-28T04:13:38.578134Z",
     "shell.execute_reply.started": "2024-06-28T04:07:38.418799Z"
    },
    "tags": []
   },
   "outputs": [
    {
     "name": "stderr",
     "output_type": "stream",
     "text": [
      "                                                                                \r"
     ]
    }
   ],
   "source": [
    "df_to_bq_table(df=total_data,\n",
    "               dataset=dest_dataset,\n",
    "               table_name=partitioned_dest_table,\n",
    "               mode=\"overwrite\")"
   ]
  },
  {
   "cell_type": "code",
   "execution_count": null,
   "id": "5fe41eed-65be-4490-ba12-5f76d5abeed7",
   "metadata": {},
   "outputs": [],
   "source": []
  },
  {
   "cell_type": "code",
   "execution_count": null,
   "id": "dbaee90e-5037-4179-8457-8d556336d095",
   "metadata": {},
   "outputs": [],
   "source": []
  }
 ],
 "metadata": {
  "kernelspec": {
   "display_name": "Python 3 (ipykernel)",
   "language": "python",
   "name": "python3"
  },
  "language_info": {
   "codemirror_mode": {
    "name": "ipython",
    "version": 3
   },
   "file_extension": ".py",
   "mimetype": "text/x-python",
   "name": "python",
   "nbconvert_exporter": "python",
   "pygments_lexer": "ipython3",
   "version": "3.8.19"
  }
 },
 "nbformat": 4,
 "nbformat_minor": 5
}
