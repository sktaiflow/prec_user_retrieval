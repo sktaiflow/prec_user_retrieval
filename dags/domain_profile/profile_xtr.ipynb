{
 "cells": [
  {
   "cell_type": "code",
   "execution_count": 1,
   "id": "afa07610-8fe8-4d61-8bfc-f93546444825",
   "metadata": {
    "execution": {
     "iopub.execute_input": "2024-06-11T23:41:15.621351Z",
     "iopub.status.busy": "2024-06-11T23:41:15.620565Z",
     "iopub.status.idle": "2024-06-11T23:41:15.632596Z",
     "shell.execute_reply": "2024-06-11T23:41:15.631574Z",
     "shell.execute_reply.started": "2024-06-11T23:41:15.621291Z"
    },
    "tags": []
   },
   "outputs": [],
   "source": [
    "# # # Parameters\n",
    "DT = \"2024-06-11\"   "
   ]
  },
  {
   "cell_type": "markdown",
   "id": "363b08fe-586b-4b37-9a98-dbee9c39d641",
   "metadata": {},
   "source": [
    "## **One Model Profile 생성 작업**"
   ]
  },
  {
   "cell_type": "markdown",
   "id": "6e8bbfe0-3d1d-41ea-b97d-3394ad548dcf",
   "metadata": {
    "execution": {
     "iopub.execute_input": "2024-06-03T23:07:29.647241Z",
     "iopub.status.busy": "2024-06-03T23:07:29.646408Z",
     "iopub.status.idle": "2024-06-03T23:07:29.655344Z",
     "shell.execute_reply": "2024-06-03T23:07:29.654108Z",
     "shell.execute_reply.started": "2024-06-03T23:07:29.647184Z"
    },
    "tags": []
   },
   "source": [
    "- 개요\n",
    "    - One Model Profile 생성 작업\n",
    "- 내용\n",
    "    - item, cat1, cat2 level로 프로파일링 작업 수행\n",
    "    - 단기 preference 정보\n",
    "        - 7일 내 item 정보를 통해서 생성\n",
    "    - 장기 preference 정보\n",
    "        - 60일 내 cat1, cat2 정보를 통해서 생성\n",
    "        - cat2가 더 상위 레벨임. 어떤 레벨로 장기 구성할지 선택 필요"
   ]
  },
  {
   "cell_type": "code",
   "execution_count": 2,
   "id": "f400f032-be1d-409d-82c1-914745945958",
   "metadata": {
    "execution": {
     "iopub.execute_input": "2024-06-11T23:41:16.234641Z",
     "iopub.status.busy": "2024-06-11T23:41:16.233894Z",
     "iopub.status.idle": "2024-06-11T23:41:17.614372Z",
     "shell.execute_reply": "2024-06-11T23:41:17.613224Z",
     "shell.execute_reply.started": "2024-06-11T23:41:16.234585Z"
    },
    "tags": []
   },
   "outputs": [],
   "source": [
    "from skt.gcp import get_bigquery_client, bq_insert_overwrite, get_max_part, bq_to_df, bq_to_pandas, pandas_to_bq_table, load_query_result_to_table, df_to_bq_table\n",
    "from pyspark.sql.functions import *\n",
    "from pyspark.sql.window import Window\n",
    "from pyspark.sql.functions import row_number\n",
    "from pyspark.sql import functions as F\n",
    "from datetime import datetime, date, timedelta\n",
    "from skt.ye import get_spark\n",
    "import pandas as pd\n",
    "import re\n",
    "from sklearn.feature_extraction.text import TfidfVectorizer\n",
    "import numpy as np"
   ]
  },
  {
   "cell_type": "markdown",
   "id": "a4db68ef-3781-4d45-8e71-17a6663a83ee",
   "metadata": {},
   "source": [
    "# 프로파일 : xtr"
   ]
  },
  {
   "cell_type": "code",
   "execution_count": 3,
   "id": "a45fd9bf-f169-4975-ba44-e07781779a98",
   "metadata": {
    "execution": {
     "iopub.execute_input": "2024-06-11T23:41:17.616339Z",
     "iopub.status.busy": "2024-06-11T23:41:17.615783Z",
     "iopub.status.idle": "2024-06-11T23:41:17.622611Z",
     "shell.execute_reply": "2024-06-11T23:41:17.621673Z",
     "shell.execute_reply.started": "2024-06-11T23:41:17.616312Z"
    },
    "tags": []
   },
   "outputs": [
    {
     "name": "stdout",
     "output_type": "stream",
     "text": [
      "DT :  2024-06-11\n",
      "DT_threshold :  2024-04-12\n",
      "DT_threshold :  2024-06-04\n"
     ]
    }
   ],
   "source": [
    "# DT = \"2024-06-02\"\n",
    "current_date = datetime.strptime(DT, \"%Y-%m-%d\")\n",
    "DT_threshold1 = (current_date - timedelta(days=60)).strftime(\"%Y-%m-%d\")\n",
    "DT_threshold2 = (current_date - timedelta(days=7)).strftime(\"%Y-%m-%d\")\n",
    "\n",
    "print(\"DT : \", DT)\n",
    "print(\"DT_threshold : \", DT_threshold1)\n",
    "print(\"DT_threshold : \", DT_threshold2)"
   ]
  },
  {
   "cell_type": "code",
   "execution_count": 4,
   "id": "25132bec-03d0-44d0-b7e3-60dec430e039",
   "metadata": {
    "execution": {
     "iopub.execute_input": "2024-06-11T23:41:17.762985Z",
     "iopub.status.busy": "2024-06-11T23:41:17.762259Z",
     "iopub.status.idle": "2024-06-11T23:41:17.769025Z",
     "shell.execute_reply": "2024-06-11T23:41:17.767764Z",
     "shell.execute_reply.started": "2024-06-11T23:41:17.762923Z"
    },
    "tags": []
   },
   "outputs": [],
   "source": [
    "query = f\"\"\"\n",
    "    select *\n",
    "    from adot_reco.recgpt_log_sequence_daily_prd\n",
    "    where dt >= '{DT_threshold1}' and type = 'xtr'\n",
    "\"\"\""
   ]
  },
  {
   "cell_type": "code",
   "execution_count": 5,
   "id": "b0424344-3148-4457-bfdc-262457902153",
   "metadata": {
    "execution": {
     "iopub.execute_input": "2024-06-11T23:41:18.113727Z",
     "iopub.status.busy": "2024-06-11T23:41:18.112566Z",
     "iopub.status.idle": "2024-06-11T23:43:27.768300Z",
     "shell.execute_reply": "2024-06-11T23:43:27.766701Z",
     "shell.execute_reply.started": "2024-06-11T23:41:18.113646Z"
    },
    "tags": []
   },
   "outputs": [
    {
     "name": "stderr",
     "output_type": "stream",
     "text": [
      "Setting default log level to \"WARN\".\n",
      "To adjust logging level use sc.setLogLevel(newLevel). For SparkR, use setLogLevel(newLevel).\n",
      "24/06/12 08:43:01 WARN Client: Neither spark.yarn.jars nor spark.yarn.archive is set, falling back to uploading libraries under SPARK_HOME.\n",
      "24/06/12 08:43:23 WARN SQLConf: The SQL config 'spark.sql.execution.arrow.enabled' has been deprecated in Spark v3.0 and may be removed in the future. Use 'spark.sql.execution.arrow.pyspark.enabled' instead of it.\n"
     ]
    }
   ],
   "source": [
    "data = bq_to_df(query)"
   ]
  },
  {
   "cell_type": "code",
   "execution_count": 8,
   "id": "c3066773-9c7f-4a70-ac3c-528557cc353c",
   "metadata": {
    "execution": {
     "iopub.execute_input": "2024-06-09T23:23:47.058334Z",
     "iopub.status.busy": "2024-06-09T23:23:47.057587Z",
     "iopub.status.idle": "2024-06-09T23:23:47.063195Z",
     "shell.execute_reply": "2024-06-09T23:23:47.062223Z",
     "shell.execute_reply.started": "2024-06-09T23:23:47.058292Z"
    },
    "tags": []
   },
   "outputs": [],
   "source": [
    "# data.count()"
   ]
  },
  {
   "cell_type": "code",
   "execution_count": 9,
   "id": "9d553d03-fccb-45b6-ba21-e68d54afb502",
   "metadata": {
    "execution": {
     "iopub.execute_input": "2024-06-09T23:23:47.070518Z",
     "iopub.status.busy": "2024-06-09T23:23:47.070337Z",
     "iopub.status.idle": "2024-06-09T23:23:53.281616Z",
     "shell.execute_reply": "2024-06-09T23:23:53.280184Z",
     "shell.execute_reply.started": "2024-06-09T23:23:47.070498Z"
    },
    "tags": []
   },
   "outputs": [
    {
     "name": "stderr",
     "output_type": "stream",
     "text": [
      "[Stage 0:>                                                          (0 + 1) / 1]\r"
     ]
    },
    {
     "name": "stdout",
     "output_type": "stream",
     "text": [
      "+--------------------+----+-------------+-----------------+----+--------------------+--------+----------+----+----------+----+\n",
      "|        svc_mgmt_num|item|         cat1|             cat2|cat3|           unix_time|second_s|      etc1|etc2|        dt|type|\n",
      "+--------------------+----+-------------+-----------------+----+--------------------+--------+----------+----+----------+----+\n",
      "|560181909b70857c4...|  5G|모바일 요금제|티월드 모바일 APP|null|1712827263.000000000|   33663|상품서비스|null|2024-04-11| xtr|\n",
      "|b283368c4b237be00...|  5G|모바일 요금제|티월드 모바일 APP|null|1712824112.000000000|   30512|상품서비스|null|2024-04-11| xtr|\n",
      "|5fa4ad46c41a6c692...|  5G|모바일 요금제|티월드 모바일 APP|null|1712806155.000000000|   12555|상품서비스|null|2024-04-11| xtr|\n",
      "|bc1da8929dfe50baf...|  5G|모바일 요금제|티월드 모바일 APP|null|1712801735.000000000|    8135|상품서비스|null|2024-04-11| xtr|\n",
      "|5c899a210f4be221c...|  5G|모바일 요금제|티월드 모바일 APP|null|1712811742.000000000|   18142|상품서비스|null|2024-04-11| xtr|\n",
      "|3b9b210e3930e5a06...|  5G|모바일 요금제|티월드 모바일 APP|null|1712826575.000000000|   32975|상품서비스|null|2024-04-11| xtr|\n",
      "|1facbc3431aa95653...|  5G|모바일 요금제|티월드 모바일 APP|null|1712800513.000000000|    6913|상품서비스|null|2024-04-11| xtr|\n",
      "|b18053afc37a87994...|  5G|모바일 요금제|티월드 모바일 APP|null|1712791252.000000000|   84052|상품서비스|null|2024-04-11| xtr|\n",
      "|0695684358fe06187...|  5G|모바일 요금제|티월드 모바일 APP|null|1712804116.000000000|   10516|상품서비스|null|2024-04-11| xtr|\n",
      "|a9d264bfb5b54f74e...|  5G|모바일 요금제|티월드 모바일 APP|null|1712779996.000000000|   72796|상품서비스|null|2024-04-11| xtr|\n",
      "+--------------------+----+-------------+-----------------+----+--------------------+--------+----------+----+----------+----+\n",
      "only showing top 10 rows\n",
      "\n"
     ]
    },
    {
     "name": "stderr",
     "output_type": "stream",
     "text": [
      "                                                                                \r"
     ]
    }
   ],
   "source": [
    "data.show(n=10)"
   ]
  },
  {
   "cell_type": "code",
   "execution_count": 10,
   "id": "e216a3a9-5fe8-433b-b333-12c421f82cff",
   "metadata": {
    "execution": {
     "iopub.execute_input": "2024-06-09T23:23:53.284585Z",
     "iopub.status.busy": "2024-06-09T23:23:53.283544Z",
     "iopub.status.idle": "2024-06-09T23:23:59.308176Z",
     "shell.execute_reply": "2024-06-09T23:23:59.307237Z",
     "shell.execute_reply.started": "2024-06-09T23:23:53.284526Z"
    },
    "tags": []
   },
   "outputs": [
    {
     "name": "stderr",
     "output_type": "stream",
     "text": [
      "[Stage 1:===============================================>         (25 + 5) / 30]\r"
     ]
    },
    {
     "name": "stdout",
     "output_type": "stream",
     "text": [
      "+----+\n",
      "|cat3|\n",
      "+----+\n",
      "|null|\n",
      "+----+\n",
      "\n"
     ]
    },
    {
     "name": "stderr",
     "output_type": "stream",
     "text": [
      "                                                                                \r"
     ]
    }
   ],
   "source": [
    "data.select('cat3').distinct().show()"
   ]
  },
  {
   "cell_type": "code",
   "execution_count": 11,
   "id": "9b85dc0e-8e79-40b2-bec3-2be0b2342870",
   "metadata": {
    "execution": {
     "iopub.execute_input": "2024-06-09T23:23:59.310523Z",
     "iopub.status.busy": "2024-06-09T23:23:59.309917Z",
     "iopub.status.idle": "2024-06-09T23:24:04.803834Z",
     "shell.execute_reply": "2024-06-09T23:24:04.802267Z",
     "shell.execute_reply.started": "2024-06-09T23:23:59.310466Z"
    },
    "tags": []
   },
   "outputs": [
    {
     "name": "stderr",
     "output_type": "stream",
     "text": [
      "[Stage 4:=====================================================>   (28 + 2) / 30]\r"
     ]
    },
    {
     "name": "stdout",
     "output_type": "stream",
     "text": [
      "+-----------------+\n",
      "|             cat2|\n",
      "+-----------------+\n",
      "|티월드 모바일 APP|\n",
      "|    티월드 온라인|\n",
      "|티월드 모바일 WEB|\n",
      "+-----------------+\n",
      "\n"
     ]
    },
    {
     "name": "stderr",
     "output_type": "stream",
     "text": [
      "                                                                                \r"
     ]
    }
   ],
   "source": [
    "data.select('cat2').distinct().show()"
   ]
  },
  {
   "cell_type": "code",
   "execution_count": 12,
   "id": "f37238e3-08cd-48a8-b8d7-ac151f123804",
   "metadata": {
    "execution": {
     "iopub.execute_input": "2024-06-09T23:24:04.806482Z",
     "iopub.status.busy": "2024-06-09T23:24:04.805761Z",
     "iopub.status.idle": "2024-06-09T23:24:08.901239Z",
     "shell.execute_reply": "2024-06-09T23:24:08.899355Z",
     "shell.execute_reply.started": "2024-06-09T23:24:04.806426Z"
    },
    "tags": []
   },
   "outputs": [
    {
     "name": "stderr",
     "output_type": "stream",
     "text": [
      "[Stage 7:=======================================================> (29 + 1) / 30]\r"
     ]
    },
    {
     "name": "stdout",
     "output_type": "stream",
     "text": [
      "+-------------------------+\n",
      "|                     cat1|\n",
      "+-------------------------+\n",
      "|                 결합상품|\n",
      "|            회원정보 관리|\n",
      "|            모바일 요금제|\n",
      "|            자주하는 질문|\n",
      "|                로밍 상품|\n",
      "|                 본인인증|\n",
      "|                     인증|\n",
      "|                고객 의견|\n",
      "|          회원가입/로그인|\n",
      "|   신규기변 통합 자동문자|\n",
      "|                   보관함|\n",
      "|매장 찾기 및 행복 AS 안내|\n",
      "|         데이터/통화 관리|\n",
      "|                    PLANS|\n",
      "|           자주 하는 질문|\n",
      "|                나의 활동|\n",
      "|                 공지사항|\n",
      "|                     My T|\n",
      "|                   T 로밍|\n",
      "|         서비스 장애 안내|\n",
      "+-------------------------+\n",
      "only showing top 20 rows\n",
      "\n"
     ]
    },
    {
     "name": "stderr",
     "output_type": "stream",
     "text": [
      "                                                                                \r"
     ]
    }
   ],
   "source": [
    "data.select('cat1').distinct().show()"
   ]
  },
  {
   "cell_type": "code",
   "execution_count": 13,
   "id": "3a850281-c1c9-4a52-9161-123e313153f3",
   "metadata": {
    "execution": {
     "iopub.execute_input": "2024-06-09T23:24:08.904561Z",
     "iopub.status.busy": "2024-06-09T23:24:08.903688Z",
     "iopub.status.idle": "2024-06-09T23:24:13.953118Z",
     "shell.execute_reply": "2024-06-09T23:24:13.951720Z",
     "shell.execute_reply.started": "2024-06-09T23:24:08.904504Z"
    },
    "tags": []
   },
   "outputs": [
    {
     "name": "stderr",
     "output_type": "stream",
     "text": [
      "[Stage 10:====================================================>   (28 + 2) / 30]\r"
     ]
    },
    {
     "name": "stdout",
     "output_type": "stream",
     "text": [
      "+--------------------------------+\n",
      "|                            item|\n",
      "+--------------------------------+\n",
      "|                서비스 신청 현황|\n",
      "|                             LTE|\n",
      "|                     최근 사용량|\n",
      "|  인터넷/전화/IPTV 이용계약 정보|\n",
      "|                        결합상품|\n",
      "|               부가서비스 리스트|\n",
      "|                       상담 예약|\n",
      "|      인터넷/전화/B tv 가입 내역|\n",
      "|                       로밍이란?|\n",
      "|                T world Site Map|\n",
      "|                휴대폰 결제 내역|\n",
      "|             검색 결과 노출 영역|\n",
      "|기가라이트인터넷 와이파이 + B...|\n",
      "|     이용자 피해예방 관련 사이트|\n",
      "|       데이터 함께쓰기 요금 충전|\n",
      "|                 사이트 이용방법|\n",
      "|               잔여기본통화 조회|\n",
      "|                            예약|\n",
      "|                  칭찬 등록 내역|\n",
      "|                          LTE/3G|\n",
      "+--------------------------------+\n",
      "only showing top 20 rows\n",
      "\n"
     ]
    },
    {
     "name": "stderr",
     "output_type": "stream",
     "text": [
      "                                                                                \r"
     ]
    }
   ],
   "source": [
    "data.select('item').distinct().show()"
   ]
  },
  {
   "cell_type": "code",
   "execution_count": 6,
   "id": "c8a1a785-edfb-474a-af5b-3c941acc51c4",
   "metadata": {
    "execution": {
     "iopub.execute_input": "2024-06-11T23:43:27.772313Z",
     "iopub.status.busy": "2024-06-11T23:43:27.771323Z",
     "iopub.status.idle": "2024-06-11T23:43:27.781719Z",
     "shell.execute_reply": "2024-06-11T23:43:27.780865Z",
     "shell.execute_reply.started": "2024-06-11T23:43:27.772245Z"
    },
    "tags": []
   },
   "outputs": [],
   "source": [
    "def prefer_list(data, cate=\"cat1\", thre=0.7):\n",
    "    data = data.select(['svc_mgmt_num',f'{cate}']).na.drop(\"any\", subset=f'{cate}')\n",
    "    data = data.groupby('svc_mgmt_num',f'{cate}').agg(count(\"*\").alias(f'{cate}_cnt'))\n",
    "    data_user = data.groupby('svc_mgmt_num').agg(max(f'{cate}_cnt').alias(f'{cate}_max_cnt'))\n",
    "    data = data.join(data_user, on='svc_mgmt_num', how=\"left\")\n",
    "    data = data.withColumn(f'{cate}_prop', col(f'{cate}_cnt')/col(f'{cate}_max_cnt'))\n",
    "    data = data.filter(col(f'{cate}_prop') > thre)\n",
    "    \n",
    "    window_spec = Window.partitionBy(\"svc_mgmt_num\").orderBy(desc(f'{cate}_prop'))\n",
    "\n",
    "    top_keywords = data.withColumn(\"rank\", row_number().over(window_spec)) \\\n",
    "                    .filter(col(\"rank\") <= 10) \\\n",
    "                    .drop(\"rank\")\n",
    "    data = top_keywords.groupBy(\"svc_mgmt_num\").agg(concat_ws(\", \",collect_list(f'{cate}')).alias(f'{cate}_list'))\n",
    "    \n",
    "    return data"
   ]
  },
  {
   "cell_type": "markdown",
   "id": "9f42b66c-971a-4961-aea6-42c4b9e31e0c",
   "metadata": {},
   "source": [
    "## xtr item level"
   ]
  },
  {
   "cell_type": "code",
   "execution_count": 7,
   "id": "551154c9-7412-46be-961e-48bbf352c631",
   "metadata": {
    "execution": {
     "iopub.execute_input": "2024-06-11T23:43:27.783137Z",
     "iopub.status.busy": "2024-06-11T23:43:27.782783Z",
     "iopub.status.idle": "2024-06-11T23:43:28.268657Z",
     "shell.execute_reply": "2024-06-11T23:43:28.267268Z",
     "shell.execute_reply.started": "2024-06-11T23:43:27.783111Z"
    },
    "tags": []
   },
   "outputs": [],
   "source": [
    "data_item = data.filter(col('dt') >= f'{DT_threshold2}')\n",
    "data_item = data_item.select(['svc_mgmt_num','item']).na.drop(\"any\", subset='item')\n",
    "data_item = prefer_list(data_item, cate=\"item\", thre=0.5)"
   ]
  },
  {
   "cell_type": "markdown",
   "id": "7baaa5d2-932c-459a-8e26-66ddc9337a8d",
   "metadata": {},
   "source": [
    "## xtr cat level\n",
    "- cat2(더 상위 카테고리) > cat1"
   ]
  },
  {
   "cell_type": "markdown",
   "id": "458d2f64-5f8c-4bb8-aa03-b560ef9b3f64",
   "metadata": {},
   "source": [
    "- cat1"
   ]
  },
  {
   "cell_type": "code",
   "execution_count": 8,
   "id": "eccf113f-f1ec-42cd-9ef5-7357b3021ca5",
   "metadata": {
    "execution": {
     "iopub.execute_input": "2024-06-11T23:43:28.272492Z",
     "iopub.status.busy": "2024-06-11T23:43:28.271869Z",
     "iopub.status.idle": "2024-06-11T23:43:28.419538Z",
     "shell.execute_reply": "2024-06-11T23:43:28.418243Z",
     "shell.execute_reply.started": "2024-06-11T23:43:28.272436Z"
    },
    "tags": []
   },
   "outputs": [],
   "source": [
    "data_cat1 = prefer_list(data, cate=\"cat1\", thre=0.6)"
   ]
  },
  {
   "cell_type": "markdown",
   "id": "e29b9ac9-25a7-4e2b-a12b-d961aa503721",
   "metadata": {},
   "source": [
    "- cat2"
   ]
  },
  {
   "cell_type": "code",
   "execution_count": 9,
   "id": "4ab2507a-63c3-424a-85d0-4ce28eaf0866",
   "metadata": {
    "execution": {
     "iopub.execute_input": "2024-06-11T23:43:28.421980Z",
     "iopub.status.busy": "2024-06-11T23:43:28.421174Z",
     "iopub.status.idle": "2024-06-11T23:43:28.540777Z",
     "shell.execute_reply": "2024-06-11T23:43:28.539707Z",
     "shell.execute_reply.started": "2024-06-11T23:43:28.421923Z"
    },
    "tags": []
   },
   "outputs": [],
   "source": [
    "data_cat2 = prefer_list(data, cate=\"cat2\", thre=0.6)"
   ]
  },
  {
   "cell_type": "markdown",
   "id": "9bac1cc4-b725-41b7-82b4-be03578e1706",
   "metadata": {},
   "source": [
    "### 전체 데이터 Merge"
   ]
  },
  {
   "cell_type": "code",
   "execution_count": 10,
   "id": "7c1c5068-0366-4060-a618-0afb7714c971",
   "metadata": {
    "execution": {
     "iopub.execute_input": "2024-06-11T23:43:28.543040Z",
     "iopub.status.busy": "2024-06-11T23:43:28.542404Z",
     "iopub.status.idle": "2024-06-11T23:43:28.618013Z",
     "shell.execute_reply": "2024-06-11T23:43:28.616865Z",
     "shell.execute_reply.started": "2024-06-11T23:43:28.542983Z"
    },
    "tags": []
   },
   "outputs": [],
   "source": [
    "full_data = data_item.join(data_cat1,on=\"svc_mgmt_num\")\n",
    "full_data = full_data.join(data_cat2,on=\"svc_mgmt_num\")\n",
    "full_data = full_data.withColumn(\"dt\", lit(DT).cast(\"date\"))"
   ]
  },
  {
   "cell_type": "code",
   "execution_count": 11,
   "id": "8809d08e-26da-4241-b8e6-78a4425c3474",
   "metadata": {
    "execution": {
     "iopub.execute_input": "2024-06-11T23:43:28.620714Z",
     "iopub.status.busy": "2024-06-11T23:43:28.619756Z",
     "iopub.status.idle": "2024-06-11T23:43:28.649217Z",
     "shell.execute_reply": "2024-06-11T23:43:28.648084Z",
     "shell.execute_reply.started": "2024-06-11T23:43:28.620631Z"
    },
    "tags": []
   },
   "outputs": [],
   "source": [
    "full_data = full_data.withColumnRenamed(\"item_list\", \"xtr_item_prefer\")\\\n",
    "                      .withColumnRenamed(\"cat1_list\", \"xtr_cat1_prefer\")\\\n",
    "                      .withColumnRenamed(\"cat2_list\", \"xtr_cat2_prefer\")"
   ]
  },
  {
   "cell_type": "code",
   "execution_count": 12,
   "id": "2d0c3a53-9d8a-4c18-a3ac-b81936dbb98f",
   "metadata": {
    "execution": {
     "iopub.execute_input": "2024-06-11T23:43:28.651588Z",
     "iopub.status.busy": "2024-06-11T23:43:28.650932Z",
     "iopub.status.idle": "2024-06-11T23:43:28.669374Z",
     "shell.execute_reply": "2024-06-11T23:43:28.668200Z",
     "shell.execute_reply.started": "2024-06-11T23:43:28.651531Z"
    },
    "tags": []
   },
   "outputs": [
    {
     "name": "stdout",
     "output_type": "stream",
     "text": [
      "root\n",
      " |-- svc_mgmt_num: string (nullable = true)\n",
      " |-- xtr_item_prefer: string (nullable = false)\n",
      " |-- xtr_cat1_prefer: string (nullable = false)\n",
      " |-- xtr_cat2_prefer: string (nullable = false)\n",
      " |-- dt: date (nullable = true)\n",
      "\n"
     ]
    }
   ],
   "source": [
    "full_data.printSchema()"
   ]
  },
  {
   "cell_type": "markdown",
   "id": "dba57c93-4317-4dd1-9967-7a1d0d1beeaa",
   "metadata": {},
   "source": [
    "### AIDP 저장"
   ]
  },
  {
   "cell_type": "code",
   "execution_count": 13,
   "id": "5d5e372b-523a-42e8-9441-f3aa2e832519",
   "metadata": {
    "execution": {
     "iopub.execute_input": "2024-06-11T23:43:28.671547Z",
     "iopub.status.busy": "2024-06-11T23:43:28.671013Z",
     "iopub.status.idle": "2024-06-11T23:43:28.676103Z",
     "shell.execute_reply": "2024-06-11T23:43:28.675158Z",
     "shell.execute_reply.started": "2024-06-11T23:43:28.671502Z"
    },
    "tags": []
   },
   "outputs": [],
   "source": [
    "dest_dataset = \"x1113099\"\n",
    "partitioned_dest_table = \"one_model_profile_xtr\""
   ]
  },
  {
   "cell_type": "code",
   "execution_count": 14,
   "id": "ea527d8b-3206-405e-baa6-9bed4f97a905",
   "metadata": {
    "execution": {
     "iopub.execute_input": "2024-06-11T23:43:28.678801Z",
     "iopub.status.busy": "2024-06-11T23:43:28.678358Z",
     "iopub.status.idle": "2024-06-11T23:43:30.663860Z",
     "shell.execute_reply": "2024-06-11T23:43:30.662422Z",
     "shell.execute_reply.started": "2024-06-11T23:43:28.678768Z"
    },
    "tags": []
   },
   "outputs": [
    {
     "name": "stdout",
     "output_type": "stream",
     "text": [
      "생성된 테이블 : x1113099.one_model_profile_xtr\n"
     ]
    }
   ],
   "source": [
    "get_bigquery_client().query(f\"\"\"\n",
    "    CREATE TABLE IF NOT EXISTS {dest_dataset}.{partitioned_dest_table}\n",
    "    (\n",
    "        svc_mgmt_num STRING,\n",
    "        xtr_item_prefer STRING,\n",
    "        xtr_cat1_prefer STRING,\n",
    "        xtr_cat2_prefer STRING,\n",
    "        dt DATE,\n",
    "    )\n",
    "    PARTITION BY dt\n",
    "\"\"\").result()\n",
    "\n",
    "print(f\"생성된 테이블 : {dest_dataset}.{partitioned_dest_table}\")"
   ]
  },
  {
   "cell_type": "code",
   "execution_count": 15,
   "id": "a8c06596-4aa0-4b0e-a481-08bcccd8a313",
   "metadata": {
    "execution": {
     "iopub.execute_input": "2024-06-11T23:43:30.666442Z",
     "iopub.status.busy": "2024-06-11T23:43:30.665733Z",
     "iopub.status.idle": "2024-06-11T23:45:57.839633Z",
     "shell.execute_reply": "2024-06-11T23:45:57.838177Z",
     "shell.execute_reply.started": "2024-06-11T23:43:30.666384Z"
    },
    "tags": []
   },
   "outputs": [
    {
     "name": "stderr",
     "output_type": "stream",
     "text": [
      "                                                                                \r"
     ]
    }
   ],
   "source": [
    "df_to_bq_table(df=full_data,\n",
    "               dataset=dest_dataset,\n",
    "               table_name=partitioned_dest_table,\n",
    "               mode=\"overwrite\")"
   ]
  },
  {
   "cell_type": "code",
   "execution_count": null,
   "id": "4548d578-1760-4af9-bd0c-2442d8c2f7f5",
   "metadata": {},
   "outputs": [],
   "source": []
  },
  {
   "cell_type": "code",
   "execution_count": null,
   "id": "290acaf2-baff-4eb5-b44e-b89a83e8a568",
   "metadata": {},
   "outputs": [],
   "source": []
  }
 ],
 "metadata": {
  "kernelspec": {
   "display_name": "Python 3 (ipykernel)",
   "language": "python",
   "name": "python3"
  },
  "language_info": {
   "codemirror_mode": {
    "name": "ipython",
    "version": 3
   },
   "file_extension": ".py",
   "mimetype": "text/x-python",
   "name": "python",
   "nbconvert_exporter": "python",
   "pygments_lexer": "ipython3",
   "version": "3.8.19"
  }
 },
 "nbformat": 4,
 "nbformat_minor": 5
}
