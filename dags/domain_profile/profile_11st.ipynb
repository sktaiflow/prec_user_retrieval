{
 "cells": [
  {
   "cell_type": "code",
   "execution_count": 1,
   "id": "afa07610-8fe8-4d61-8bfc-f93546444825",
   "metadata": {
    "execution": {
     "iopub.execute_input": "2024-06-11T06:24:38.226690Z",
     "iopub.status.busy": "2024-06-11T06:24:38.225882Z",
     "iopub.status.idle": "2024-06-11T06:24:38.238583Z",
     "shell.execute_reply": "2024-06-11T06:24:38.237491Z",
     "shell.execute_reply.started": "2024-06-11T06:24:38.226628Z"
    },
    "tags": []
   },
   "outputs": [],
   "source": [
    "# # # Parameters\n",
    "DT = \"2024-06-11\"   "
   ]
  },
  {
   "cell_type": "markdown",
   "id": "363b08fe-586b-4b37-9a98-dbee9c39d641",
   "metadata": {},
   "source": [
    "## **One Model Profile 생성 작업**"
   ]
  },
  {
   "cell_type": "markdown",
   "id": "6e8bbfe0-3d1d-41ea-b97d-3394ad548dcf",
   "metadata": {
    "execution": {
     "iopub.execute_input": "2024-06-03T23:07:29.647241Z",
     "iopub.status.busy": "2024-06-03T23:07:29.646408Z",
     "iopub.status.idle": "2024-06-03T23:07:29.655344Z",
     "shell.execute_reply": "2024-06-03T23:07:29.654108Z",
     "shell.execute_reply.started": "2024-06-03T23:07:29.647184Z"
    },
    "tags": []
   },
   "source": [
    "- 개요\n",
    "    - One Model Profile 생성 작업\n",
    "- 내용\n",
    "    - item, cat1, cat2 level로 프로파일링 작업 수행\n",
    "    - 단기 preference 정보\n",
    "        - 7일 내 item 정보를 통해서 생성\n",
    "    - 장기 preference 정보\n",
    "        - 60일 내 cat1, cat2 정보를 통해서 생성\n",
    "        - cat2가 더 상위 레벨임. 어떤 레벨로 장기 구성할지 선택 필요"
   ]
  },
  {
   "cell_type": "code",
   "execution_count": 2,
   "id": "f400f032-be1d-409d-82c1-914745945958",
   "metadata": {
    "execution": {
     "iopub.execute_input": "2024-06-11T06:24:40.059433Z",
     "iopub.status.busy": "2024-06-11T06:24:40.058558Z",
     "iopub.status.idle": "2024-06-11T06:24:41.526764Z",
     "shell.execute_reply": "2024-06-11T06:24:41.526005Z",
     "shell.execute_reply.started": "2024-06-11T06:24:40.059368Z"
    },
    "tags": []
   },
   "outputs": [],
   "source": [
    "from skt.gcp import get_bigquery_client, bq_insert_overwrite, get_max_part, bq_to_df, bq_to_pandas, pandas_to_bq_table, load_query_result_to_table, df_to_bq_table\n",
    "from pyspark.sql.functions import *\n",
    "from pyspark.sql.window import Window\n",
    "from pyspark.sql.functions import row_number\n",
    "from pyspark.sql import functions as F\n",
    "from datetime import datetime, date, timedelta\n",
    "from skt.ye import get_spark\n",
    "import pandas as pd\n",
    "import re\n",
    "from sklearn.feature_extraction.text import TfidfVectorizer\n",
    "import numpy as np"
   ]
  },
  {
   "cell_type": "markdown",
   "id": "a4db68ef-3781-4d45-8e71-17a6663a83ee",
   "metadata": {},
   "source": [
    "# 프로파일 : 11st"
   ]
  },
  {
   "cell_type": "code",
   "execution_count": 3,
   "id": "a45fd9bf-f169-4975-ba44-e07781779a98",
   "metadata": {
    "execution": {
     "iopub.execute_input": "2024-06-11T06:24:41.528608Z",
     "iopub.status.busy": "2024-06-11T06:24:41.528262Z",
     "iopub.status.idle": "2024-06-11T06:24:41.533654Z",
     "shell.execute_reply": "2024-06-11T06:24:41.533101Z",
     "shell.execute_reply.started": "2024-06-11T06:24:41.528584Z"
    },
    "tags": []
   },
   "outputs": [
    {
     "name": "stdout",
     "output_type": "stream",
     "text": [
      "DT :  2024-06-11\n",
      "DT_threshold :  2024-04-12\n",
      "DT_threshold :  2024-06-04\n"
     ]
    }
   ],
   "source": [
    "# DT = \"2024-06-02\"\n",
    "current_date = datetime.strptime(DT, \"%Y-%m-%d\")\n",
    "DT_threshold1 = (current_date - timedelta(days=60)).strftime(\"%Y-%m-%d\")\n",
    "DT_threshold2 = (current_date - timedelta(days=7)).strftime(\"%Y-%m-%d\")\n",
    "\n",
    "print(\"DT : \", DT)\n",
    "print(\"DT_threshold : \", DT_threshold1)\n",
    "print(\"DT_threshold : \", DT_threshold2)"
   ]
  },
  {
   "cell_type": "code",
   "execution_count": 4,
   "id": "25132bec-03d0-44d0-b7e3-60dec430e039",
   "metadata": {
    "execution": {
     "iopub.execute_input": "2024-06-11T06:24:41.541033Z",
     "iopub.status.busy": "2024-06-11T06:24:41.540737Z",
     "iopub.status.idle": "2024-06-11T06:24:41.544810Z",
     "shell.execute_reply": "2024-06-11T06:24:41.544012Z",
     "shell.execute_reply.started": "2024-06-11T06:24:41.541011Z"
    },
    "tags": []
   },
   "outputs": [],
   "source": [
    "query = f\"\"\"\n",
    "    select *\n",
    "    from adot_reco.recgpt_log_sequence_lag_daily_prd\n",
    "    where dt >= '{DT_threshold1}' and type = \"11st\"\n",
    "\"\"\""
   ]
  },
  {
   "cell_type": "code",
   "execution_count": 5,
   "id": "b0424344-3148-4457-bfdc-262457902153",
   "metadata": {
    "execution": {
     "iopub.execute_input": "2024-06-11T06:24:41.721319Z",
     "iopub.status.busy": "2024-06-11T06:24:41.720598Z",
     "iopub.status.idle": "2024-06-11T06:25:29.240722Z",
     "shell.execute_reply": "2024-06-11T06:25:29.239034Z",
     "shell.execute_reply.started": "2024-06-11T06:24:41.721257Z"
    },
    "tags": []
   },
   "outputs": [
    {
     "name": "stderr",
     "output_type": "stream",
     "text": [
      "Setting default log level to \"WARN\".\n",
      "To adjust logging level use sc.setLogLevel(newLevel). For SparkR, use setLogLevel(newLevel).\n",
      "24/06/11 15:24:53 WARN Client: Neither spark.yarn.jars nor spark.yarn.archive is set, falling back to uploading libraries under SPARK_HOME.\n",
      "24/06/11 15:25:16 WARN SQLConf: The SQL config 'spark.sql.execution.arrow.enabled' has been deprecated in Spark v3.0 and may be removed in the future. Use 'spark.sql.execution.arrow.pyspark.enabled' instead of it.\n"
     ]
    }
   ],
   "source": [
    "data = bq_to_df(query)"
   ]
  },
  {
   "cell_type": "code",
   "execution_count": 6,
   "id": "9d553d03-fccb-45b6-ba21-e68d54afb502",
   "metadata": {
    "execution": {
     "iopub.execute_input": "2024-06-11T06:25:29.244677Z",
     "iopub.status.busy": "2024-06-11T06:25:29.243775Z",
     "iopub.status.idle": "2024-06-11T06:25:35.151445Z",
     "shell.execute_reply": "2024-06-11T06:25:35.150748Z",
     "shell.execute_reply.started": "2024-06-11T06:25:29.244612Z"
    },
    "tags": []
   },
   "outputs": [
    {
     "name": "stderr",
     "output_type": "stream",
     "text": [
      "[Stage 0:>                                                          (0 + 1) / 1]\r"
     ]
    },
    {
     "name": "stdout",
     "output_type": "stream",
     "text": [
      "+--------------------+----+---------+--------+--------+--------------------+--------+----+----+----------+----+\n",
      "|        svc_mgmt_num|item|     cat1|    cat2|    cat3|           unix_time|second_s|etc1|etc2|        dt|type|\n",
      "+--------------------+----+---------+--------+--------+--------------------+--------+----+----+----------+----+\n",
      "|6c1f2db8c3b9819bf...| CPU|   PC부품|      PC|ORDCMPLT|1712881397.000000000|   33797|null|null|2024-04-12|11st|\n",
      "|6c1f2db8c3b9819bf...| CPU|   PC부품|      PC|ORDCMPLT|1712881397.000000000|   33797|null|null|2024-04-12|11st|\n",
      "|418e8f687b4f355e3...| SSD| 저장장치|      PC|ORDCMPLT|1712875968.000000000|   28368|null|null|2024-04-12|11st|\n",
      "|55a4c32edece172e1...| SSD| 저장장치|      PC|ORDCMPLT|1712889741.000000000|   42141|null|null|2024-04-12|11st|\n",
      "|45d07caef1d3e5f3a...|  빵|과자/간식|가공식품|ORDCMPLT|1712905196.000000000|   57596|null|null|2024-04-12|11st|\n",
      "|da7a4f556718bc409...|  빵|과자/간식|가공식품|ORDCMPLT|1712884208.000000000|   36608|null|null|2024-04-12|11st|\n",
      "|08c8a058a826bc3ec...|  빵|과자/간식|가공식품|ORDCMPLT|1712852010.000000000|    4410|null|null|2024-04-12|11st|\n",
      "|00d186f2a16fc4754...|  빵|과자/간식|가공식품|ORDCMPLT|1712897095.000000000|   49495|null|null|2024-04-12|11st|\n",
      "|b7035bd3c0f6c9a52...|  빵|과자/간식|가공식품|ORDCMPLT|1712915608.000000000|   68008|null|null|2024-04-12|11st|\n",
      "|a479c077f4eb57c64...|  빵|과자/간식|가공식품|ORDCMPLT|1712928762.000000000|   81162|null|null|2024-04-12|11st|\n",
      "+--------------------+----+---------+--------+--------+--------------------+--------+----+----+----------+----+\n",
      "only showing top 10 rows\n",
      "\n"
     ]
    },
    {
     "name": "stderr",
     "output_type": "stream",
     "text": [
      "                                                                                \r"
     ]
    }
   ],
   "source": [
    "data.show(n=10)"
   ]
  },
  {
   "cell_type": "code",
   "execution_count": 7,
   "id": "0cf43625-4a3e-4da7-b30a-ae412591c322",
   "metadata": {
    "execution": {
     "iopub.execute_input": "2024-06-11T06:25:35.153155Z",
     "iopub.status.busy": "2024-06-11T06:25:35.152733Z",
     "iopub.status.idle": "2024-06-11T06:25:37.734530Z",
     "shell.execute_reply": "2024-06-11T06:25:37.733369Z",
     "shell.execute_reply.started": "2024-06-11T06:25:35.153126Z"
    },
    "tags": []
   },
   "outputs": [
    {
     "name": "stderr",
     "output_type": "stream",
     "text": [
      "[Stage 1:>                                                          (0 + 1) / 1]\r"
     ]
    },
    {
     "name": "stdout",
     "output_type": "stream",
     "text": [
      "+--------+\n",
      "|    cat3|\n",
      "+--------+\n",
      "|ORDCMPLT|\n",
      "+--------+\n",
      "\n"
     ]
    },
    {
     "name": "stderr",
     "output_type": "stream",
     "text": [
      "                                                                                \r"
     ]
    }
   ],
   "source": [
    "data.select('cat3').distinct().show()"
   ]
  },
  {
   "cell_type": "code",
   "execution_count": 8,
   "id": "9b85dc0e-8e79-40b2-bec3-2be0b2342870",
   "metadata": {
    "execution": {
     "iopub.execute_input": "2024-06-11T06:25:37.737956Z",
     "iopub.status.busy": "2024-06-11T06:25:37.737441Z",
     "iopub.status.idle": "2024-06-11T06:25:42.388903Z",
     "shell.execute_reply": "2024-06-11T06:25:42.387543Z",
     "shell.execute_reply.started": "2024-06-11T06:25:37.737914Z"
    },
    "tags": []
   },
   "outputs": [
    {
     "name": "stderr",
     "output_type": "stream",
     "text": [
      "[Stage 4:>                                                          (0 + 1) / 1]\r"
     ]
    },
    {
     "name": "stdout",
     "output_type": "stream",
     "text": [
      "+------------+\n",
      "|        cat2|\n",
      "+------------+\n",
      "|        여행|\n",
      "|          PC|\n",
      "|  스포츠패션|\n",
      "|스마트디지털|\n",
      "|해당사항없음|\n",
      "|    해외쇼핑|\n",
      "|      생필품|\n",
      "|        리빙|\n",
      "|    생활문화|\n",
      "|    신선식품|\n",
      "|       E쿠폰|\n",
      "|  브랜드패션|\n",
      "|    가공식품|\n",
      "|        뷰티|\n",
      "|        레저|\n",
      "|        가전|\n",
      "|     B2B사업|\n",
      "|  트렌드패션|\n",
      "+------------+\n",
      "\n"
     ]
    },
    {
     "name": "stderr",
     "output_type": "stream",
     "text": [
      "                                                                                \r"
     ]
    }
   ],
   "source": [
    "data.select('cat2').distinct().show()"
   ]
  },
  {
   "cell_type": "code",
   "execution_count": 9,
   "id": "f37238e3-08cd-48a8-b8d7-ac151f123804",
   "metadata": {
    "execution": {
     "iopub.execute_input": "2024-06-11T06:25:42.391401Z",
     "iopub.status.busy": "2024-06-11T06:25:42.390725Z",
     "iopub.status.idle": "2024-06-11T06:25:48.525090Z",
     "shell.execute_reply": "2024-06-11T06:25:48.523772Z",
     "shell.execute_reply.started": "2024-06-11T06:25:42.391343Z"
    },
    "tags": []
   },
   "outputs": [
    {
     "name": "stderr",
     "output_type": "stream",
     "text": [
      "[Stage 7:>                                                          (0 + 1) / 1]\r"
     ]
    },
    {
     "name": "stdout",
     "output_type": "stream",
     "text": [
      "+----------------+\n",
      "|            cat1|\n",
      "+----------------+\n",
      "|            악기|\n",
      "|      스포츠신발|\n",
      "|  여행/숙박/항공|\n",
      "|            조명|\n",
      "|            시계|\n",
      "|            낚시|\n",
      "|        실버용품|\n",
      "|        음향가전|\n",
      "|         꽃/원예|\n",
      "|            골프|\n",
      "|   세탁기/건조기|\n",
      "|      비즈11번가|\n",
      "|        화방용품|\n",
      "|   프린터/복합기|\n",
      "|구기/라켓/스포츠|\n",
      "|      자동차용품|\n",
      "|  세제/방향/살충|\n",
      "|          선케어|\n",
      "|    DIY자재/용품|\n",
      "|      이미용가전|\n",
      "+----------------+\n",
      "only showing top 20 rows\n",
      "\n"
     ]
    },
    {
     "name": "stderr",
     "output_type": "stream",
     "text": [
      "                                                                                \r"
     ]
    }
   ],
   "source": [
    "data.select('cat1').distinct().show()"
   ]
  },
  {
   "cell_type": "code",
   "execution_count": 10,
   "id": "3a850281-c1c9-4a52-9161-123e313153f3",
   "metadata": {
    "execution": {
     "iopub.execute_input": "2024-06-11T06:25:48.527430Z",
     "iopub.status.busy": "2024-06-11T06:25:48.526787Z",
     "iopub.status.idle": "2024-06-11T06:25:53.553804Z",
     "shell.execute_reply": "2024-06-11T06:25:53.552677Z",
     "shell.execute_reply.started": "2024-06-11T06:25:48.527373Z"
    },
    "tags": []
   },
   "outputs": [
    {
     "name": "stderr",
     "output_type": "stream",
     "text": [
      "[Stage 10:>                                                         (0 + 1) / 1]\r"
     ]
    },
    {
     "name": "stdout",
     "output_type": "stream",
     "text": [
      "+-----------------+\n",
      "|             item|\n",
      "+-----------------+\n",
      "|           후드티|\n",
      "|      샤워기/수전|\n",
      "|후방카메라/감지기|\n",
      "|      식품/영양제|\n",
      "|     헤어액세서리|\n",
      "|        피자/치킨|\n",
      "|           액션캠|\n",
      "|             샴푸|\n",
      "|           관상어|\n",
      "|  아이스크림/빙수|\n",
      "|         튜닝용품|\n",
      "|   게임기주변기기|\n",
      "|             사료|\n",
      "|             시계|\n",
      "|             조명|\n",
      "|  디자인/팬시용품|\n",
      "|           골프화|\n",
      "|           젤네일|\n",
      "|           파라솔|\n",
      "|         메인보드|\n",
      "+-----------------+\n",
      "only showing top 20 rows\n",
      "\n"
     ]
    },
    {
     "name": "stderr",
     "output_type": "stream",
     "text": [
      "                                                                                \r"
     ]
    }
   ],
   "source": [
    "data.select('item').distinct().show()"
   ]
  },
  {
   "cell_type": "code",
   "execution_count": 11,
   "id": "c8a1a785-edfb-474a-af5b-3c941acc51c4",
   "metadata": {
    "execution": {
     "iopub.execute_input": "2024-06-11T06:25:53.555663Z",
     "iopub.status.busy": "2024-06-11T06:25:53.555179Z",
     "iopub.status.idle": "2024-06-11T06:25:53.563445Z",
     "shell.execute_reply": "2024-06-11T06:25:53.562895Z",
     "shell.execute_reply.started": "2024-06-11T06:25:53.555624Z"
    },
    "tags": []
   },
   "outputs": [],
   "source": [
    "def prefer_list(data, cate=\"cat1\", thre=0.7):\n",
    "    data = data.select(['svc_mgmt_num',f'{cate}']).na.drop(\"any\", subset=f'{cate}')\n",
    "    data = data.groupby('svc_mgmt_num',f'{cate}').agg(count(\"*\").alias(f'{cate}_cnt'))\n",
    "    data_user = data.groupby('svc_mgmt_num').agg(max(f'{cate}_cnt').alias(f'{cate}_max_cnt'))\n",
    "    data = data.join(data_user, on='svc_mgmt_num', how=\"left\")\n",
    "    data = data.withColumn(f'{cate}_prop', col(f'{cate}_cnt')/col(f'{cate}_max_cnt'))\n",
    "    data = data.filter(col(f'{cate}_prop') > thre)\n",
    "    \n",
    "    window_spec = Window.partitionBy(\"svc_mgmt_num\").orderBy(desc(f'{cate}_prop'))\n",
    "\n",
    "    top_keywords = data.withColumn(\"rank\", row_number().over(window_spec)) \\\n",
    "                    .filter(col(\"rank\") <= 10) \\\n",
    "                    .drop(\"rank\")\n",
    "    \n",
    "    # data = top_keywords.groupBy(\"svc_mgmt_num\").agg(collect_list(f'{cate}').alias(f'{cate}_list'))\n",
    "    data = top_keywords.groupBy(\"svc_mgmt_num\").agg(concat_ws(\", \",collect_list(f'{cate}')).alias(f'{cate}_list'))\n",
    "    \n",
    "    return data"
   ]
  },
  {
   "cell_type": "markdown",
   "id": "9f42b66c-971a-4961-aea6-42c4b9e31e0c",
   "metadata": {},
   "source": [
    "## 11st item level"
   ]
  },
  {
   "cell_type": "code",
   "execution_count": 12,
   "id": "551154c9-7412-46be-961e-48bbf352c631",
   "metadata": {
    "execution": {
     "iopub.execute_input": "2024-06-11T06:25:53.564882Z",
     "iopub.status.busy": "2024-06-11T06:25:53.564589Z",
     "iopub.status.idle": "2024-06-11T06:25:53.907922Z",
     "shell.execute_reply": "2024-06-11T06:25:53.906611Z",
     "shell.execute_reply.started": "2024-06-11T06:25:53.564860Z"
    },
    "tags": []
   },
   "outputs": [],
   "source": [
    "data_item = data.filter(col('dt') >= f'{DT_threshold2}')\n",
    "data_item = data_item.select(['svc_mgmt_num','item']).na.drop(\"any\", subset='item')\n",
    "data_item = prefer_list(data_item, cate=\"item\", thre=0.4)"
   ]
  },
  {
   "cell_type": "markdown",
   "id": "7baaa5d2-932c-459a-8e26-66ddc9337a8d",
   "metadata": {},
   "source": [
    "## 11st cat level\n",
    "- cat2(더 상위 카테고리) > cat1"
   ]
  },
  {
   "cell_type": "markdown",
   "id": "458d2f64-5f8c-4bb8-aa03-b560ef9b3f64",
   "metadata": {},
   "source": [
    "- cat1"
   ]
  },
  {
   "cell_type": "code",
   "execution_count": 13,
   "id": "eccf113f-f1ec-42cd-9ef5-7357b3021ca5",
   "metadata": {
    "execution": {
     "iopub.execute_input": "2024-06-11T06:25:53.910366Z",
     "iopub.status.busy": "2024-06-11T06:25:53.909714Z",
     "iopub.status.idle": "2024-06-11T06:25:54.025098Z",
     "shell.execute_reply": "2024-06-11T06:25:54.023779Z",
     "shell.execute_reply.started": "2024-06-11T06:25:53.910310Z"
    },
    "tags": []
   },
   "outputs": [],
   "source": [
    "data_cat1 = prefer_list(data, cate=\"cat1\", thre=0.5)"
   ]
  },
  {
   "cell_type": "markdown",
   "id": "31b163e1-d5d6-473f-94ee-a3c022c5f211",
   "metadata": {},
   "source": [
    "- cat2"
   ]
  },
  {
   "cell_type": "code",
   "execution_count": 14,
   "id": "674e4c7e-7e2e-4b57-adf0-95581c410f6b",
   "metadata": {
    "execution": {
     "iopub.execute_input": "2024-06-11T06:25:54.029727Z",
     "iopub.status.busy": "2024-06-11T06:25:54.029095Z",
     "iopub.status.idle": "2024-06-11T06:25:54.139145Z",
     "shell.execute_reply": "2024-06-11T06:25:54.137755Z",
     "shell.execute_reply.started": "2024-06-11T06:25:54.029670Z"
    },
    "tags": []
   },
   "outputs": [],
   "source": [
    "data_cat2 = prefer_list(data, cate=\"cat2\", thre=0.5)"
   ]
  },
  {
   "cell_type": "markdown",
   "id": "9bac1cc4-b725-41b7-82b4-be03578e1706",
   "metadata": {},
   "source": [
    "### 전체 데이터 Merge"
   ]
  },
  {
   "cell_type": "code",
   "execution_count": 15,
   "id": "7c1c5068-0366-4060-a618-0afb7714c971",
   "metadata": {
    "execution": {
     "iopub.execute_input": "2024-06-11T06:25:54.142625Z",
     "iopub.status.busy": "2024-06-11T06:25:54.141466Z",
     "iopub.status.idle": "2024-06-11T06:25:54.194307Z",
     "shell.execute_reply": "2024-06-11T06:25:54.192977Z",
     "shell.execute_reply.started": "2024-06-11T06:25:54.142532Z"
    },
    "tags": []
   },
   "outputs": [],
   "source": [
    "full_data = data_item.join(data_cat1,on=\"svc_mgmt_num\")\n",
    "full_data = full_data.join(data_cat2,on=\"svc_mgmt_num\")"
   ]
  },
  {
   "cell_type": "code",
   "execution_count": 16,
   "id": "764e836c-0e2f-40d3-8758-3302adf89ead",
   "metadata": {
    "execution": {
     "iopub.execute_input": "2024-06-11T06:25:54.196698Z",
     "iopub.status.busy": "2024-06-11T06:25:54.196061Z",
     "iopub.status.idle": "2024-06-11T06:25:54.218898Z",
     "shell.execute_reply": "2024-06-11T06:25:54.218027Z",
     "shell.execute_reply.started": "2024-06-11T06:25:54.196641Z"
    },
    "tags": []
   },
   "outputs": [],
   "source": [
    "full_data = full_data.withColumn(\"dt\", lit(DT).cast(\"date\"))"
   ]
  },
  {
   "cell_type": "code",
   "execution_count": 17,
   "id": "d03f6e9d-4b7b-4b51-83e7-0b74bdedf351",
   "metadata": {
    "execution": {
     "iopub.execute_input": "2024-06-11T06:25:54.220736Z",
     "iopub.status.busy": "2024-06-11T06:25:54.220242Z",
     "iopub.status.idle": "2024-06-11T06:26:11.840967Z",
     "shell.execute_reply": "2024-06-11T06:26:11.839533Z",
     "shell.execute_reply.started": "2024-06-11T06:25:54.220690Z"
    },
    "tags": []
   },
   "outputs": [
    {
     "name": "stderr",
     "output_type": "stream",
     "text": [
      "[Stage 38:>                                                         (0 + 1) / 1]\r"
     ]
    },
    {
     "name": "stdout",
     "output_type": "stream",
     "text": [
      "+--------------------+-------------------------------+------------------------------------+-------------------------------+----------+\n",
      "|        svc_mgmt_num|                      item_list|                           cat1_list|                      cat2_list|        dt|\n",
      "+--------------------+-------------------------------+------------------------------------+-------------------------------+----------+\n",
      "|000477938a6a87581...|                       롤화장지|                              화장지|                         생필품|2024-06-11|\n",
      "|000b234a19db8309f...|기타,종이컵/테이크아웃컵,염색약|                           과자/간식|              생활문화,가공식품|2024-06-11|\n",
      "|001110011e9c3c4c8...|                             잼|                  가공식품,도서/음반|              생활문화,가공식품|2024-06-11|\n",
      "|001281cdb47b6bf1d...|                       클렌징폼|                            침실가구|                           리빙|2024-06-11|\n",
      "|0013405015c4ef6fe...|                         닭고기|               간편식/냉장/냉동,축산|              가공식품,신선식품|2024-06-11|\n",
      "|0015a973183467c08...|                       수분크림|                            스킨케어|                           뷰티|2024-06-11|\n",
      "|0018894fa0de565a6...|                       포장용품|                       전기/산업자재|                           리빙|2024-06-11|\n",
      "|001963baaf04948bb...|                         티셔츠|   여성의류,등산/아웃도어,캐주얼/...|     브랜드패션,트렌드패션,레저|2024-06-11|\n",
      "|001c06482b05bb7e9...|                   남성언더웨어|         수납정리용품,브랜드언더웨어|                리빙,브랜드패션|2024-06-11|\n",
      "|0020415c549deb343...|                          잔/컵|과일,화장지,스킨케어,캐주얼/유니섹스|신선식품,뷰티,브랜드패션,생필품|2024-06-11|\n",
      "+--------------------+-------------------------------+------------------------------------+-------------------------------+----------+\n",
      "only showing top 10 rows\n",
      "\n"
     ]
    },
    {
     "name": "stderr",
     "output_type": "stream",
     "text": [
      "                                                                                \r"
     ]
    }
   ],
   "source": [
    "full_data.show(n=10)"
   ]
  },
  {
   "cell_type": "code",
   "execution_count": 18,
   "id": "8809d08e-26da-4241-b8e6-78a4425c3474",
   "metadata": {
    "execution": {
     "iopub.execute_input": "2024-06-11T06:28:04.647494Z",
     "iopub.status.busy": "2024-06-11T06:28:04.646615Z",
     "iopub.status.idle": "2024-06-11T06:28:04.690292Z",
     "shell.execute_reply": "2024-06-11T06:28:04.688859Z",
     "shell.execute_reply.started": "2024-06-11T06:28:04.647431Z"
    },
    "tags": []
   },
   "outputs": [],
   "source": [
    "full_data = full_data.drop('cat3_list')\n",
    "full_data = full_data.withColumnRenamed(\"item_list\", \"_11st_item_prefer\")\\\n",
    "                      .withColumnRenamed(\"cat1_list\", \"_11st_cat1_prefer\")\\\n",
    "                      .withColumnRenamed(\"cat2_list\", \"_11st_cat2_prefer\")"
   ]
  },
  {
   "cell_type": "code",
   "execution_count": 19,
   "id": "2d0c3a53-9d8a-4c18-a3ac-b81936dbb98f",
   "metadata": {
    "execution": {
     "iopub.execute_input": "2024-06-11T06:28:05.552910Z",
     "iopub.status.busy": "2024-06-11T06:28:05.552079Z",
     "iopub.status.idle": "2024-06-11T06:28:05.577471Z",
     "shell.execute_reply": "2024-06-11T06:28:05.576495Z",
     "shell.execute_reply.started": "2024-06-11T06:28:05.552831Z"
    },
    "tags": []
   },
   "outputs": [
    {
     "name": "stdout",
     "output_type": "stream",
     "text": [
      "root\n",
      " |-- svc_mgmt_num: string (nullable = true)\n",
      " |-- _11st_item_prefer: string (nullable = false)\n",
      " |-- _11st_cat1_prefer: string (nullable = false)\n",
      " |-- _11st_cat2_prefer: string (nullable = false)\n",
      " |-- dt: date (nullable = true)\n",
      "\n"
     ]
    }
   ],
   "source": [
    "full_data.printSchema()"
   ]
  },
  {
   "cell_type": "markdown",
   "id": "dba57c93-4317-4dd1-9967-7a1d0d1beeaa",
   "metadata": {},
   "source": [
    "### AIDP 저장"
   ]
  },
  {
   "cell_type": "code",
   "execution_count": 20,
   "id": "5d5e372b-523a-42e8-9441-f3aa2e832519",
   "metadata": {
    "execution": {
     "iopub.execute_input": "2024-06-11T06:28:49.235009Z",
     "iopub.status.busy": "2024-06-11T06:28:49.234691Z",
     "iopub.status.idle": "2024-06-11T06:28:49.239646Z",
     "shell.execute_reply": "2024-06-11T06:28:49.238678Z",
     "shell.execute_reply.started": "2024-06-11T06:28:49.234983Z"
    },
    "tags": []
   },
   "outputs": [],
   "source": [
    "dest_dataset = \"x1113099\"\n",
    "partitioned_dest_table = \"one_model_profile_11st\""
   ]
  },
  {
   "cell_type": "code",
   "execution_count": 21,
   "id": "ea527d8b-3206-405e-baa6-9bed4f97a905",
   "metadata": {
    "execution": {
     "iopub.execute_input": "2024-06-11T06:28:49.455270Z",
     "iopub.status.busy": "2024-06-11T06:28:49.454510Z",
     "iopub.status.idle": "2024-06-11T06:28:51.061763Z",
     "shell.execute_reply": "2024-06-11T06:28:51.060228Z",
     "shell.execute_reply.started": "2024-06-11T06:28:49.455208Z"
    },
    "tags": []
   },
   "outputs": [
    {
     "name": "stdout",
     "output_type": "stream",
     "text": [
      "생성된 테이블 : x1113099.one_model_profile_11st\n"
     ]
    }
   ],
   "source": [
    "get_bigquery_client().query(f\"\"\"\n",
    "    CREATE TABLE IF NOT EXISTS {dest_dataset}.{partitioned_dest_table}\n",
    "    (\n",
    "        svc_mgmt_num STRING,\n",
    "        _11st_item_prefer STRING,\n",
    "        _11st_cat1_prefer STRING,\n",
    "        _11st_cat2_prefer STRING,\n",
    "        dt DATE,\n",
    "    )\n",
    "    PARTITION BY dt\n",
    "\"\"\").result()\n",
    "\n",
    "print(f\"생성된 테이블 : {dest_dataset}.{partitioned_dest_table}\")"
   ]
  },
  {
   "cell_type": "code",
   "execution_count": 22,
   "id": "a8c06596-4aa0-4b0e-a481-08bcccd8a313",
   "metadata": {
    "execution": {
     "iopub.execute_input": "2024-06-11T06:28:51.065117Z",
     "iopub.status.busy": "2024-06-11T06:28:51.064396Z",
     "iopub.status.idle": "2024-06-11T06:29:42.337459Z",
     "shell.execute_reply": "2024-06-11T06:29:42.336635Z",
     "shell.execute_reply.started": "2024-06-11T06:28:51.065053Z"
    },
    "tags": []
   },
   "outputs": [
    {
     "name": "stderr",
     "output_type": "stream",
     "text": [
      "                                                                                \r"
     ]
    }
   ],
   "source": [
    "df_to_bq_table(df=full_data,\n",
    "               dataset=dest_dataset,\n",
    "               table_name=partitioned_dest_table,\n",
    "               mode=\"overwrite\")"
   ]
  },
  {
   "cell_type": "code",
   "execution_count": null,
   "id": "783d228b-5ed2-42b2-aac8-ff0ed059e0ae",
   "metadata": {},
   "outputs": [],
   "source": []
  }
 ],
 "metadata": {
  "kernelspec": {
   "display_name": "Python 3 (ipykernel)",
   "language": "python",
   "name": "python3"
  },
  "language_info": {
   "codemirror_mode": {
    "name": "ipython",
    "version": 3
   },
   "file_extension": ".py",
   "mimetype": "text/x-python",
   "name": "python",
   "nbconvert_exporter": "python",
   "pygments_lexer": "ipython3",
   "version": "3.8.19"
  }
 },
 "nbformat": 4,
 "nbformat_minor": 5
}
