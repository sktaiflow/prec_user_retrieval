{
 "cells": [
  {
   "cell_type": "code",
   "execution_count": 1,
   "id": "afa07610-8fe8-4d61-8bfc-f93546444825",
   "metadata": {
    "execution": {
     "iopub.execute_input": "2024-06-11T14:16:25.475311Z",
     "iopub.status.busy": "2024-06-11T14:16:25.474502Z",
     "iopub.status.idle": "2024-06-11T14:16:25.487748Z",
     "shell.execute_reply": "2024-06-11T14:16:25.486935Z",
     "shell.execute_reply.started": "2024-06-11T14:16:25.475247Z"
    },
    "tags": []
   },
   "outputs": [],
   "source": [
    "# # # Parameters\n",
    "DT = \"2024-06-11\"  "
   ]
  },
  {
   "cell_type": "markdown",
   "id": "363b08fe-586b-4b37-9a98-dbee9c39d641",
   "metadata": {},
   "source": [
    "## **One Model Profile 생성 작업**"
   ]
  },
  {
   "cell_type": "markdown",
   "id": "6e8bbfe0-3d1d-41ea-b97d-3394ad548dcf",
   "metadata": {
    "execution": {
     "iopub.execute_input": "2024-06-03T23:07:29.647241Z",
     "iopub.status.busy": "2024-06-03T23:07:29.646408Z",
     "iopub.status.idle": "2024-06-03T23:07:29.655344Z",
     "shell.execute_reply": "2024-06-03T23:07:29.654108Z",
     "shell.execute_reply.started": "2024-06-03T23:07:29.647184Z"
    },
    "tags": []
   },
   "source": [
    "- 개요\n",
    "    - One Model Profile 생성 작업\n",
    "- 내용\n",
    "    - 단기 preference 정보\n",
    "        - 7일 내 item 정보를 통해서 생성"
   ]
  },
  {
   "cell_type": "code",
   "execution_count": 2,
   "id": "f400f032-be1d-409d-82c1-914745945958",
   "metadata": {
    "execution": {
     "iopub.execute_input": "2024-06-11T14:16:25.931195Z",
     "iopub.status.busy": "2024-06-11T14:16:25.930512Z",
     "iopub.status.idle": "2024-06-11T14:16:27.304297Z",
     "shell.execute_reply": "2024-06-11T14:16:27.303533Z",
     "shell.execute_reply.started": "2024-06-11T14:16:25.931139Z"
    },
    "tags": []
   },
   "outputs": [],
   "source": [
    "from skt.gcp import get_bigquery_client, bq_insert_overwrite, get_max_part, bq_to_df, bq_to_pandas, pandas_to_bq_table, load_query_result_to_table, df_to_bq_table\n",
    "from pyspark.sql.functions import *\n",
    "from pyspark.sql.window import Window\n",
    "from pyspark.sql.functions import row_number\n",
    "from pyspark.sql import functions as F\n",
    "from datetime import datetime, date, timedelta\n",
    "from skt.ye import get_spark\n",
    "import pandas as pd\n",
    "import re\n",
    "from sklearn.feature_extraction.text import TfidfVectorizer\n",
    "import numpy as np"
   ]
  },
  {
   "cell_type": "markdown",
   "id": "a4db68ef-3781-4d45-8e71-17a6663a83ee",
   "metadata": {},
   "source": [
    "# 프로파일 : tmbr"
   ]
  },
  {
   "cell_type": "code",
   "execution_count": 3,
   "id": "a45fd9bf-f169-4975-ba44-e07781779a98",
   "metadata": {
    "execution": {
     "iopub.execute_input": "2024-06-11T14:16:27.306168Z",
     "iopub.status.busy": "2024-06-11T14:16:27.305794Z",
     "iopub.status.idle": "2024-06-11T14:16:27.313315Z",
     "shell.execute_reply": "2024-06-11T14:16:27.311963Z",
     "shell.execute_reply.started": "2024-06-11T14:16:27.306143Z"
    },
    "tags": []
   },
   "outputs": [
    {
     "name": "stdout",
     "output_type": "stream",
     "text": [
      "DT :  2024-06-11\n",
      "DT_threshold :  2024-04-12\n",
      "DT_threshold :  2024-06-04\n"
     ]
    }
   ],
   "source": [
    "# DT = \"2024-06-02\"\n",
    "current_date = datetime.strptime(DT, \"%Y-%m-%d\")\n",
    "DT_threshold1 = (current_date - timedelta(days=60)).strftime(\"%Y-%m-%d\")\n",
    "DT_threshold2 = (current_date - timedelta(days=7)).strftime(\"%Y-%m-%d\")\n",
    "\n",
    "print(\"DT : \", DT)\n",
    "print(\"DT_threshold : \", DT_threshold1)\n",
    "print(\"DT_threshold : \", DT_threshold2)"
   ]
  },
  {
   "cell_type": "code",
   "execution_count": 4,
   "id": "25132bec-03d0-44d0-b7e3-60dec430e039",
   "metadata": {
    "execution": {
     "iopub.execute_input": "2024-06-11T14:16:27.316085Z",
     "iopub.status.busy": "2024-06-11T14:16:27.315210Z",
     "iopub.status.idle": "2024-06-11T14:16:27.322465Z",
     "shell.execute_reply": "2024-06-11T14:16:27.321436Z",
     "shell.execute_reply.started": "2024-06-11T14:16:27.316024Z"
    },
    "tags": []
   },
   "outputs": [],
   "source": [
    "query = f\"\"\"\n",
    "    select *\n",
    "    from adot_reco.recgpt_log_sequence_lag_daily_prd\n",
    "    where dt >= '{DT_threshold1}' and type='tmbr'\n",
    "\"\"\""
   ]
  },
  {
   "cell_type": "code",
   "execution_count": 5,
   "id": "b0424344-3148-4457-bfdc-262457902153",
   "metadata": {
    "execution": {
     "iopub.execute_input": "2024-06-11T14:16:27.325189Z",
     "iopub.status.busy": "2024-06-11T14:16:27.324708Z",
     "iopub.status.idle": "2024-06-11T14:17:18.492628Z",
     "shell.execute_reply": "2024-06-11T14:17:18.491732Z",
     "shell.execute_reply.started": "2024-06-11T14:16:27.325151Z"
    },
    "tags": []
   },
   "outputs": [
    {
     "name": "stderr",
     "output_type": "stream",
     "text": [
      "Setting default log level to \"WARN\".\n",
      "To adjust logging level use sc.setLogLevel(newLevel). For SparkR, use setLogLevel(newLevel).\n",
      "24/06/11 23:16:51 WARN Client: Neither spark.yarn.jars nor spark.yarn.archive is set, falling back to uploading libraries under SPARK_HOME.\n",
      "24/06/11 23:17:14 WARN SQLConf: The SQL config 'spark.sql.execution.arrow.enabled' has been deprecated in Spark v3.0 and may be removed in the future. Use 'spark.sql.execution.arrow.pyspark.enabled' instead of it.\n"
     ]
    }
   ],
   "source": [
    "data = bq_to_df(query)"
   ]
  },
  {
   "cell_type": "code",
   "execution_count": 6,
   "id": "9d553d03-fccb-45b6-ba21-e68d54afb502",
   "metadata": {
    "execution": {
     "iopub.execute_input": "2024-06-11T14:17:18.494616Z",
     "iopub.status.busy": "2024-06-11T14:17:18.493929Z",
     "iopub.status.idle": "2024-06-11T14:17:25.319092Z",
     "shell.execute_reply": "2024-06-11T14:17:25.317569Z",
     "shell.execute_reply.started": "2024-06-11T14:17:18.494575Z"
    },
    "tags": []
   },
   "outputs": [
    {
     "name": "stderr",
     "output_type": "stream",
     "text": [
      "[Stage 0:>                                                          (0 + 1) / 1]\r"
     ]
    },
    {
     "name": "stdout",
     "output_type": "stream",
     "text": [
      "+--------------------+----+----+----+----+--------------------+--------+----+----+----------+----+\n",
      "|        svc_mgmt_num|item|cat1|cat2|cat3|           unix_time|second_s|etc1|etc2|        dt|type|\n",
      "+--------------------+----+----+----+----+--------------------+--------+----+----+----------+----+\n",
      "|96819fc6430838f5e...|  CU|null|null|null|1712906180.000000000| 58580.0|null|null|2024-04-12|tmbr|\n",
      "|30780fb49ce9dbbd4...|  CU|null|null|null|1712930825.000000000| 83225.0|null|null|2024-04-12|tmbr|\n",
      "|028f95b7d7f3fd667...|  CU|null|null|null|1712920092.000000000| 72492.0|null|null|2024-04-12|tmbr|\n",
      "|a1d118c880cf7e740...|  CU|null|null|null|1712914777.000000000| 67177.0|null|null|2024-04-12|tmbr|\n",
      "|ce96c0459609781b1...|  CU|null|null|null|1712927247.000000000| 79647.0|null|null|2024-04-12|tmbr|\n",
      "|788b69b9176dd3874...|  CU|null|null|null|1712932187.000000000| 84587.0|null|null|2024-04-12|tmbr|\n",
      "|3678400d0beebeee3...|  CU|null|null|null|1712918252.000000000| 70652.0|null|null|2024-04-12|tmbr|\n",
      "|e38b6771732cde20c...|  CU|null|null|null|1712929400.000000000| 81800.0|null|null|2024-04-12|tmbr|\n",
      "|929039d8bd3f83f41...|  CU|null|null|null|1712878219.000000000| 30619.0|null|null|2024-04-12|tmbr|\n",
      "|8aa67a9be71a86afb...|  CU|null|null|null|1712931860.000000000| 84260.0|null|null|2024-04-12|tmbr|\n",
      "+--------------------+----+----+----+----+--------------------+--------+----+----+----------+----+\n",
      "only showing top 10 rows\n",
      "\n"
     ]
    },
    {
     "name": "stderr",
     "output_type": "stream",
     "text": [
      "                                                                                \r"
     ]
    }
   ],
   "source": [
    "data.show(n=10)"
   ]
  },
  {
   "cell_type": "code",
   "execution_count": 7,
   "id": "3a850281-c1c9-4a52-9161-123e313153f3",
   "metadata": {
    "execution": {
     "iopub.execute_input": "2024-06-11T14:17:25.321735Z",
     "iopub.status.busy": "2024-06-11T14:17:25.321049Z",
     "iopub.status.idle": "2024-06-11T14:17:43.924719Z",
     "shell.execute_reply": "2024-06-11T14:17:43.923093Z",
     "shell.execute_reply.started": "2024-06-11T14:17:25.321676Z"
    },
    "tags": []
   },
   "outputs": [
    {
     "name": "stderr",
     "output_type": "stream",
     "text": [
      "[Stage 1:=======================================================> (28 + 1) / 29]\r"
     ]
    },
    {
     "name": "stdout",
     "output_type": "stream",
     "text": [
      "+--------------------+\n",
      "|                item|\n",
      "+--------------------+\n",
      "|          신라면세점|\n",
      "|                씽씽|\n",
      "|            온더보더|\n",
      "|          안경매니져|\n",
      "|롯데월드어드벤처부산|\n",
      "|            카페베네|\n",
      "|            SK스토아|\n",
      "|              그리팅|\n",
      "|              사이판|\n",
      "|              피자헛|\n",
      "|                던킨|\n",
      "|              이월드|\n",
      "|          파리크라상|\n",
      "|          할리스커피|\n",
      "|        스피드메이트|\n",
      "|        배스킨라빈스|\n",
      "|            착한소비|\n",
      "|        신세계면세점|\n",
      "|            퍼블로그|\n",
      "|                 FLO|\n",
      "+--------------------+\n",
      "only showing top 20 rows\n",
      "\n"
     ]
    },
    {
     "name": "stderr",
     "output_type": "stream",
     "text": [
      "                                                                                \r"
     ]
    }
   ],
   "source": [
    "data.select('item').distinct().show()"
   ]
  },
  {
   "cell_type": "code",
   "execution_count": 8,
   "id": "c8a1a785-edfb-474a-af5b-3c941acc51c4",
   "metadata": {
    "execution": {
     "iopub.execute_input": "2024-06-11T14:17:43.927380Z",
     "iopub.status.busy": "2024-06-11T14:17:43.926727Z",
     "iopub.status.idle": "2024-06-11T14:17:43.939524Z",
     "shell.execute_reply": "2024-06-11T14:17:43.938633Z",
     "shell.execute_reply.started": "2024-06-11T14:17:43.927320Z"
    },
    "tags": []
   },
   "outputs": [],
   "source": [
    "def prefer_list(data, cate=\"cat1\", thre=0.7):\n",
    "    data = data.select(['svc_mgmt_num',f'{cate}']).na.drop(\"any\", subset=f'{cate}')\n",
    "    data = data.groupby('svc_mgmt_num',f'{cate}').agg(count(\"*\").alias(f'{cate}_cnt'))\n",
    "    data_user = data.groupby('svc_mgmt_num').agg(max(f'{cate}_cnt').alias(f'{cate}_max_cnt'))\n",
    "    data = data.join(data_user, on='svc_mgmt_num', how=\"left\")\n",
    "    data = data.withColumn(f'{cate}_prop', col(f'{cate}_cnt')/col(f'{cate}_max_cnt'))\n",
    "    data = data.filter(col(f'{cate}_prop') > thre)\n",
    "    \n",
    "    window_spec = Window.partitionBy(\"svc_mgmt_num\").orderBy(desc(f'{cate}_prop'))\n",
    "\n",
    "    top_keywords = data.withColumn(\"rank\", row_number().over(window_spec)) \\\n",
    "                    .filter(col(\"rank\") <= 10) \\\n",
    "                    .drop(\"rank\")\n",
    "    data = top_keywords.groupBy(\"svc_mgmt_num\").agg(concat_ws(\", \",collect_list(f'{cate}')).alias(f'{cate}_list'))\n",
    "    \n",
    "    return data"
   ]
  },
  {
   "cell_type": "markdown",
   "id": "9f42b66c-971a-4961-aea6-42c4b9e31e0c",
   "metadata": {},
   "source": [
    "## tmbr item level"
   ]
  },
  {
   "cell_type": "code",
   "execution_count": 9,
   "id": "551154c9-7412-46be-961e-48bbf352c631",
   "metadata": {
    "execution": {
     "iopub.execute_input": "2024-06-11T14:17:43.941635Z",
     "iopub.status.busy": "2024-06-11T14:17:43.941296Z",
     "iopub.status.idle": "2024-06-11T14:17:44.293644Z",
     "shell.execute_reply": "2024-06-11T14:17:44.292152Z",
     "shell.execute_reply.started": "2024-06-11T14:17:43.941613Z"
    },
    "tags": []
   },
   "outputs": [],
   "source": [
    "data_item = data.filter(col('dt') >= f'{DT_threshold2}')\n",
    "data_item = data_item.select(['svc_mgmt_num','item']).na.drop(\"any\", subset='item')\n",
    "data_item = prefer_list(data_item, cate=\"item\", thre=0.3)"
   ]
  },
  {
   "cell_type": "code",
   "execution_count": 10,
   "id": "764e836c-0e2f-40d3-8758-3302adf89ead",
   "metadata": {
    "execution": {
     "iopub.execute_input": "2024-06-11T14:17:44.296226Z",
     "iopub.status.busy": "2024-06-11T14:17:44.295487Z",
     "iopub.status.idle": "2024-06-11T14:17:44.328797Z",
     "shell.execute_reply": "2024-06-11T14:17:44.327370Z",
     "shell.execute_reply.started": "2024-06-11T14:17:44.296168Z"
    },
    "tags": []
   },
   "outputs": [],
   "source": [
    "full_data = data_item.withColumn(\"dt\", lit(DT).cast(\"date\"))\n",
    "full_data = full_data.withColumnRenamed(\"item_list\", \"tmbr_item_prefer\")"
   ]
  },
  {
   "cell_type": "code",
   "execution_count": 11,
   "id": "2d0c3a53-9d8a-4c18-a3ac-b81936dbb98f",
   "metadata": {
    "execution": {
     "iopub.execute_input": "2024-06-11T14:17:44.331252Z",
     "iopub.status.busy": "2024-06-11T14:17:44.330580Z",
     "iopub.status.idle": "2024-06-11T14:17:44.346917Z",
     "shell.execute_reply": "2024-06-11T14:17:44.345747Z",
     "shell.execute_reply.started": "2024-06-11T14:17:44.331195Z"
    },
    "tags": []
   },
   "outputs": [
    {
     "name": "stdout",
     "output_type": "stream",
     "text": [
      "root\n",
      " |-- svc_mgmt_num: string (nullable = true)\n",
      " |-- tmbr_item_prefer: string (nullable = false)\n",
      " |-- dt: date (nullable = true)\n",
      "\n"
     ]
    }
   ],
   "source": [
    "full_data.printSchema()"
   ]
  },
  {
   "cell_type": "markdown",
   "id": "dba57c93-4317-4dd1-9967-7a1d0d1beeaa",
   "metadata": {},
   "source": [
    "### AIDP 저장"
   ]
  },
  {
   "cell_type": "code",
   "execution_count": 12,
   "id": "5d5e372b-523a-42e8-9441-f3aa2e832519",
   "metadata": {
    "execution": {
     "iopub.execute_input": "2024-06-11T14:17:44.349063Z",
     "iopub.status.busy": "2024-06-11T14:17:44.348463Z",
     "iopub.status.idle": "2024-06-11T14:17:44.355069Z",
     "shell.execute_reply": "2024-06-11T14:17:44.353606Z",
     "shell.execute_reply.started": "2024-06-11T14:17:44.349011Z"
    },
    "tags": []
   },
   "outputs": [],
   "source": [
    "dest_dataset = \"x1113099\"\n",
    "partitioned_dest_table = \"one_model_profile_tmbr\""
   ]
  },
  {
   "cell_type": "code",
   "execution_count": 13,
   "id": "ea527d8b-3206-405e-baa6-9bed4f97a905",
   "metadata": {
    "execution": {
     "iopub.execute_input": "2024-06-11T14:17:44.358041Z",
     "iopub.status.busy": "2024-06-11T14:17:44.357068Z",
     "iopub.status.idle": "2024-06-11T14:17:47.081809Z",
     "shell.execute_reply": "2024-06-11T14:17:47.080263Z",
     "shell.execute_reply.started": "2024-06-11T14:17:44.357978Z"
    },
    "tags": []
   },
   "outputs": [
    {
     "name": "stdout",
     "output_type": "stream",
     "text": [
      "생성된 테이블 : x1113099.one_model_profile_tmbr\n"
     ]
    }
   ],
   "source": [
    "get_bigquery_client().query(f\"\"\"\n",
    "    CREATE TABLE IF NOT EXISTS {dest_dataset}.{partitioned_dest_table}\n",
    "    (\n",
    "        svc_mgmt_num STRING,\n",
    "        tmbr_item_prefer STRING,\n",
    "        dt DATE,\n",
    "    )\n",
    "    PARTITION BY dt\n",
    "\"\"\").result()\n",
    "\n",
    "print(f\"생성된 테이블 : {dest_dataset}.{partitioned_dest_table}\")"
   ]
  },
  {
   "cell_type": "code",
   "execution_count": 14,
   "id": "a8c06596-4aa0-4b0e-a481-08bcccd8a313",
   "metadata": {
    "execution": {
     "iopub.execute_input": "2024-06-11T14:17:47.084499Z",
     "iopub.status.busy": "2024-06-11T14:17:47.083777Z",
     "iopub.status.idle": "2024-06-11T14:18:15.977594Z",
     "shell.execute_reply": "2024-06-11T14:18:15.976372Z",
     "shell.execute_reply.started": "2024-06-11T14:17:47.084436Z"
    },
    "tags": []
   },
   "outputs": [
    {
     "name": "stderr",
     "output_type": "stream",
     "text": [
      "                                                                                \r"
     ]
    }
   ],
   "source": [
    "df_to_bq_table(df=full_data,\n",
    "               dataset=dest_dataset,\n",
    "               table_name=partitioned_dest_table,\n",
    "               mode=\"overwrite\")"
   ]
  },
  {
   "cell_type": "code",
   "execution_count": null,
   "id": "4548d578-1760-4af9-bd0c-2442d8c2f7f5",
   "metadata": {},
   "outputs": [],
   "source": []
  },
  {
   "cell_type": "code",
   "execution_count": null,
   "id": "290acaf2-baff-4eb5-b44e-b89a83e8a568",
   "metadata": {},
   "outputs": [],
   "source": []
  }
 ],
 "metadata": {
  "kernelspec": {
   "display_name": "Python 3 (ipykernel)",
   "language": "python",
   "name": "python3"
  },
  "language_info": {
   "codemirror_mode": {
    "name": "ipython",
    "version": 3
   },
   "file_extension": ".py",
   "mimetype": "text/x-python",
   "name": "python",
   "nbconvert_exporter": "python",
   "pygments_lexer": "ipython3",
   "version": "3.8.19"
  }
 },
 "nbformat": 4,
 "nbformat_minor": 5
}
