{
 "cells": [
  {
   "cell_type": "code",
   "execution_count": 1,
   "id": "afa07610-8fe8-4d61-8bfc-f93546444825",
   "metadata": {
    "execution": {
     "iopub.execute_input": "2024-06-12T06:55:37.349969Z",
     "iopub.status.busy": "2024-06-12T06:55:37.349177Z",
     "iopub.status.idle": "2024-06-12T06:55:37.362435Z",
     "shell.execute_reply": "2024-06-12T06:55:37.361235Z",
     "shell.execute_reply.started": "2024-06-12T06:55:37.349909Z"
    },
    "tags": []
   },
   "outputs": [],
   "source": [
    "# # # Parameters\n",
    "DT = \"2024-06-11\"   "
   ]
  },
  {
   "cell_type": "markdown",
   "id": "363b08fe-586b-4b37-9a98-dbee9c39d641",
   "metadata": {},
   "source": [
    "## **One Model Profile 생성 작업**"
   ]
  },
  {
   "cell_type": "markdown",
   "id": "6e8bbfe0-3d1d-41ea-b97d-3394ad548dcf",
   "metadata": {
    "execution": {
     "iopub.execute_input": "2024-06-03T23:07:29.647241Z",
     "iopub.status.busy": "2024-06-03T23:07:29.646408Z",
     "iopub.status.idle": "2024-06-03T23:07:29.655344Z",
     "shell.execute_reply": "2024-06-03T23:07:29.654108Z",
     "shell.execute_reply.started": "2024-06-03T23:07:29.647184Z"
    },
    "tags": []
   },
   "source": [
    "- 개요\n",
    "    - One Model Profile 생성 작업\n",
    "- 내용\n",
    "    - item, cat1(도메인), cat3(장르 등) level로 프로파일링 작업 수행\n",
    "    - 단기 preference 정보\n",
    "        - 7일 내 item 정보를 통해서 생성\n",
    "    - 장기 preference 정보\n",
    "        - 60일 내 cat1, cat3 정보를 통해서 생성\n",
    "        - cat3의 경우 음악의 경우는 장르, 가수 분리\n",
    "- 가정\n",
    "    - 제대로 하려면 서비스 이용한 빈도 기반이 아닌 체류시간으로 해야 함(음악은 한시간 내 여러번 클릭이 존재 할 수 있으나, 영상은 1-2번 클릭일 수 있음)\n",
    "    - 에이닷 사용자들이 여러 도메인을 다 헤비 유저로써 이용하지 않는다?\n",
    "    - 위 가정을 깨려면 도메인 별 평균 체류 시간을 기반한 가중치 조절이 들어가야 함."
   ]
  },
  {
   "cell_type": "code",
   "execution_count": 2,
   "id": "f400f032-be1d-409d-82c1-914745945958",
   "metadata": {
    "execution": {
     "iopub.execute_input": "2024-06-12T06:55:38.806743Z",
     "iopub.status.busy": "2024-06-12T06:55:38.805964Z",
     "iopub.status.idle": "2024-06-12T06:55:45.004241Z",
     "shell.execute_reply": "2024-06-12T06:55:45.003481Z",
     "shell.execute_reply.started": "2024-06-12T06:55:38.806685Z"
    },
    "tags": []
   },
   "outputs": [],
   "source": [
    "from skt.gcp import get_bigquery_client, bq_insert_overwrite, get_max_part, bq_to_df, bq_to_pandas, pandas_to_bq_table, load_query_result_to_table, df_to_bq_table\n",
    "from pyspark.sql.functions import *\n",
    "from pyspark.sql.window import Window\n",
    "from pyspark.sql.functions import row_number\n",
    "from pyspark.sql.functions import udf\n",
    "from pyspark.sql.types import StringType, IntegerType\n",
    "from pyspark.sql import functions as F\n",
    "from datetime import datetime, date, timedelta\n",
    "from skt.ye import get_spark\n",
    "import pandas as pd\n",
    "import re\n",
    "from sklearn.feature_extraction.text import TfidfVectorizer\n",
    "import numpy as np"
   ]
  },
  {
   "cell_type": "markdown",
   "id": "a4db68ef-3781-4d45-8e71-17a6663a83ee",
   "metadata": {},
   "source": [
    "# 프로파일 : adot"
   ]
  },
  {
   "cell_type": "code",
   "execution_count": 3,
   "id": "a45fd9bf-f169-4975-ba44-e07781779a98",
   "metadata": {
    "execution": {
     "iopub.execute_input": "2024-06-12T06:55:45.006486Z",
     "iopub.status.busy": "2024-06-12T06:55:45.006003Z",
     "iopub.status.idle": "2024-06-12T06:55:45.011305Z",
     "shell.execute_reply": "2024-06-12T06:55:45.010749Z",
     "shell.execute_reply.started": "2024-06-12T06:55:45.006460Z"
    },
    "tags": []
   },
   "outputs": [
    {
     "name": "stdout",
     "output_type": "stream",
     "text": [
      "DT :  2024-06-11\n",
      "DT_threshold :  2024-04-12\n",
      "DT_threshold :  2024-06-04\n"
     ]
    }
   ],
   "source": [
    "# DT = \"2024-06-02\"\n",
    "current_date = datetime.strptime(DT, \"%Y-%m-%d\")\n",
    "DT_threshold1 = (current_date - timedelta(days=60)).strftime(\"%Y-%m-%d\")\n",
    "DT_threshold2 = (current_date - timedelta(days=7)).strftime(\"%Y-%m-%d\")\n",
    "\n",
    "print(\"DT : \", DT)\n",
    "print(\"DT_threshold : \", DT_threshold1)\n",
    "print(\"DT_threshold : \", DT_threshold2)"
   ]
  },
  {
   "cell_type": "code",
   "execution_count": 4,
   "id": "25132bec-03d0-44d0-b7e3-60dec430e039",
   "metadata": {
    "execution": {
     "iopub.execute_input": "2024-06-12T06:55:45.012267Z",
     "iopub.status.busy": "2024-06-12T06:55:45.012084Z",
     "iopub.status.idle": "2024-06-12T06:55:45.076575Z",
     "shell.execute_reply": "2024-06-12T06:55:45.075397Z",
     "shell.execute_reply.started": "2024-06-12T06:55:45.012247Z"
    },
    "tags": []
   },
   "outputs": [],
   "source": [
    "query = f\"\"\"\n",
    "    SELECT luna_id as user_id, item, item_id, cat3, cat2, cat1, basis_date as dt\n",
    "    FROM adot_reco.apollo_daily_preprocessed_prd\n",
    "    where dt >= '{DT_threshold1}'\n",
    "\"\"\""
   ]
  },
  {
   "cell_type": "code",
   "execution_count": 5,
   "id": "b0424344-3148-4457-bfdc-262457902153",
   "metadata": {
    "execution": {
     "iopub.execute_input": "2024-06-12T06:55:45.078687Z",
     "iopub.status.busy": "2024-06-12T06:55:45.078108Z",
     "iopub.status.idle": "2024-06-12T06:56:36.411779Z",
     "shell.execute_reply": "2024-06-12T06:56:36.409600Z",
     "shell.execute_reply.started": "2024-06-12T06:55:45.078635Z"
    },
    "tags": []
   },
   "outputs": [
    {
     "name": "stderr",
     "output_type": "stream",
     "text": [
      "Setting default log level to \"WARN\".\n",
      "To adjust logging level use sc.setLogLevel(newLevel). For SparkR, use setLogLevel(newLevel).\n",
      "24/06/12 15:56:10 WARN Client: Neither spark.yarn.jars nor spark.yarn.archive is set, falling back to uploading libraries under SPARK_HOME.\n",
      "24/06/12 15:56:32 WARN SQLConf: The SQL config 'spark.sql.execution.arrow.enabled' has been deprecated in Spark v3.0 and may be removed in the future. Use 'spark.sql.execution.arrow.pyspark.enabled' instead of it.\n"
     ]
    }
   ],
   "source": [
    "data = bq_to_df(query)"
   ]
  },
  {
   "cell_type": "code",
   "execution_count": 6,
   "id": "d5a41784-dfb8-4689-ae31-5556859d3af5",
   "metadata": {
    "execution": {
     "iopub.execute_input": "2024-06-12T06:56:36.417383Z",
     "iopub.status.busy": "2024-06-12T06:56:36.416517Z",
     "iopub.status.idle": "2024-06-12T06:56:36.607275Z",
     "shell.execute_reply": "2024-06-12T06:56:36.606174Z",
     "shell.execute_reply.started": "2024-06-12T06:56:36.417325Z"
    },
    "tags": []
   },
   "outputs": [],
   "source": [
    "data = data.withColumn(\"split_cat3\", split(data[\"cat3\"], \"\\|\"))\n",
    "data = data.withColumn(\"cat3_genre\", data[\"split_cat3\"].getItem(0)) \\\n",
    "            .withColumn(\"cat3_artist\", data[\"split_cat3\"].getItem(1))"
   ]
  },
  {
   "cell_type": "code",
   "execution_count": 7,
   "id": "f278b13d-5b89-423c-abb5-82a5e4b3e917",
   "metadata": {
    "execution": {
     "iopub.execute_input": "2024-06-12T06:56:36.609686Z",
     "iopub.status.busy": "2024-06-12T06:56:36.608984Z",
     "iopub.status.idle": "2024-06-12T06:56:42.923238Z",
     "shell.execute_reply": "2024-06-12T06:56:42.922181Z",
     "shell.execute_reply.started": "2024-06-12T06:56:36.609629Z"
    },
    "tags": []
   },
   "outputs": [
    {
     "name": "stderr",
     "output_type": "stream",
     "text": [
      "[Stage 0:>                                                          (0 + 1) / 1]\r"
     ]
    },
    {
     "name": "stdout",
     "output_type": "stream",
     "text": [
      "+--------------------+----+-------+----------------+----+------------------+----------+------------------+----------------+-----------+\n",
      "|             user_id|item|item_id|            cat3|cat2|              cat1|        dt|        split_cat3|      cat3_genre|cat3_artist|\n",
      "+--------------------+----+-------+----------------+----+------------------+----------+------------------+----------------+-----------+\n",
      "|APL00000CQLOUASE27EO|null|   null|            null|    |      apollo_alarm|2024-06-05|              null|            null|       null|\n",
      "|APL00000BUSE4V0A8Q2O|null|   null|TBN 대전교통방송|    |      apollo_radio|2024-06-05|[TBN 대전교통방송]|TBN 대전교통방송|       null|\n",
      "|APL00000D1LFK6NYDYWW|null|   null|            null|    |      apollo_radio|2024-05-23|              null|            null|       null|\n",
      "|APL00000BPV29QRHWXS0|null|   null|            null|    |      apollo_radio|2024-04-22|              null|            null|       null|\n",
      "|APL00000CRHT4GPFEWOW|null|   null|            null|    |      apollo_radio|2024-04-22|              null|            null|       null|\n",
      "|APL00000BTUVXC3OA5TS|null|   null|            null|    |apollo_anniversary|2024-04-22|              null|            null|       null|\n",
      "|APL00000CWOCV69WH6O0|null|   null|            null|    |      apollo_radio|2024-04-16|              null|            null|       null|\n",
      "|APL00000DDX2ODMELWXS|null|   null|            null|    |      apollo_radio|2024-04-16|              null|            null|       null|\n",
      "|APL00000BP9GIDED7YM8|null|   null|            null|    |      apollo_radio|2024-04-16|              null|            null|       null|\n",
      "|APL00000D1NFS3CXGUM8|null|   null|            null|    |      apollo_radio|2024-04-16|              null|            null|       null|\n",
      "+--------------------+----+-------+----------------+----+------------------+----------+------------------+----------------+-----------+\n",
      "only showing top 10 rows\n",
      "\n"
     ]
    },
    {
     "name": "stderr",
     "output_type": "stream",
     "text": [
      "                                                                                \r"
     ]
    }
   ],
   "source": [
    "data.show(n=10)"
   ]
  },
  {
   "cell_type": "code",
   "execution_count": 8,
   "id": "0cf43625-4a3e-4da7-b30a-ae412591c322",
   "metadata": {
    "execution": {
     "iopub.execute_input": "2024-06-12T06:56:42.925349Z",
     "iopub.status.busy": "2024-06-12T06:56:42.924839Z",
     "iopub.status.idle": "2024-06-12T06:57:06.069266Z",
     "shell.execute_reply": "2024-06-12T06:57:06.067946Z",
     "shell.execute_reply.started": "2024-06-12T06:56:42.925306Z"
    },
    "tags": []
   },
   "outputs": [
    {
     "name": "stderr",
     "output_type": "stream",
     "text": [
      "[Stage 1:=======================================>                   (2 + 1) / 3]\r"
     ]
    },
    {
     "name": "stdout",
     "output_type": "stream",
     "text": [
      "+-------------------------------------+\n",
      "|                                 cat3|\n",
      "+-------------------------------------+\n",
      "|              해외 팝|아리아나 그란데|\n",
      "|                        트로트|김범룡|\n",
      "|                해외 팝|휘트니 휴스턴|\n",
      "|                          가족,드라마|\n",
      "|                            액션,전쟁|\n",
      "|                   국내 발라드|김동희|\n",
      "|                    해외 팝|원 디렉션|\n",
      "|                    국내 락/메탈|헌서|\n",
      "|                     국내 발라드|니브|\n",
      "|                  해외 팝|런던 보이즈|\n",
      "|                국내 팝/어쿠스틱|디어|\n",
      "|                        트로트|오세욱|\n",
      "|                            트로트|린|\n",
      "|                     국내 힙합|오션검|\n",
      "|                       OST/BGM|박강성|\n",
      "|클래식|슬로바키아 필하모니 오케스트라|\n",
      "|             해외 힙합|Dirty Hipho...|\n",
      "|                 해외 일렉트로닉|토부|\n",
      "|               국내 팝/어쿠스틱|샘 옥|\n",
      "|                       OST/BGM|유주혜|\n",
      "+-------------------------------------+\n",
      "only showing top 20 rows\n",
      "\n"
     ]
    },
    {
     "name": "stderr",
     "output_type": "stream",
     "text": [
      "                                                                                \r"
     ]
    }
   ],
   "source": [
    "data.select('cat3').distinct().show()"
   ]
  },
  {
   "cell_type": "code",
   "execution_count": 9,
   "id": "9b85dc0e-8e79-40b2-bec3-2be0b2342870",
   "metadata": {
    "execution": {
     "iopub.execute_input": "2024-06-12T06:57:06.071812Z",
     "iopub.status.busy": "2024-06-12T06:57:06.071161Z",
     "iopub.status.idle": "2024-06-12T06:57:55.017487Z",
     "shell.execute_reply": "2024-06-12T06:57:55.016143Z",
     "shell.execute_reply.started": "2024-06-12T06:57:06.071755Z"
    },
    "tags": []
   },
   "outputs": [
    {
     "name": "stderr",
     "output_type": "stream",
     "text": [
      "[Stage 4:=======================================================> (48 + 1) / 49]\r"
     ]
    },
    {
     "name": "stdout",
     "output_type": "stream",
     "text": [
      "+--------------------+\n",
      "|                cat2|\n",
      "+--------------------+\n",
      "|      play.education|\n",
      "|    general.run.menu|\n",
      "|ask.weather.tempe...|\n",
      "|phone.tagdetail.c...|\n",
      "|radio.ask.radio.c...|\n",
      "|music.playlistgen...|\n",
      "|        routine.view|\n",
      "|    routine.recoedit|\n",
      "|music.play.music....|\n",
      "|tmbr.event.detail...|\n",
      "|          keep.intro|\n",
      "|congestion.placed...|\n",
      "|phone.contact.uns...|\n",
      "|            tmbr.otb|\n",
      "|           tmbr.0day|\n",
      "|     request.reserve|\n",
      "|music.playlistgen...|\n",
      "|      general.repeat|\n",
      "|music.show.music....|\n",
      "|callbrief.detail....|\n",
      "+--------------------+\n",
      "only showing top 20 rows\n",
      "\n"
     ]
    },
    {
     "name": "stderr",
     "output_type": "stream",
     "text": [
      "                                                                                \r"
     ]
    }
   ],
   "source": [
    "data.select('cat2').distinct().show()"
   ]
  },
  {
   "cell_type": "code",
   "execution_count": 10,
   "id": "f37238e3-08cd-48a8-b8d7-ac151f123804",
   "metadata": {
    "execution": {
     "iopub.execute_input": "2024-06-12T06:57:55.019880Z",
     "iopub.status.busy": "2024-06-12T06:57:55.019232Z",
     "iopub.status.idle": "2024-06-12T06:58:24.918740Z",
     "shell.execute_reply": "2024-06-12T06:58:24.917244Z",
     "shell.execute_reply.started": "2024-06-12T06:57:55.019823Z"
    },
    "tags": []
   },
   "outputs": [
    {
     "name": "stderr",
     "output_type": "stream",
     "text": [
      "[Stage 7:======================================================>  (47 + 2) / 49]\r"
     ]
    },
    {
     "name": "stdout",
     "output_type": "stream",
     "text": [
      "+-------------------+\n",
      "|               cat1|\n",
      "+-------------------+\n",
      "|      apollo_liveqa|\n",
      "|    apollo_calendar|\n",
      "|       apollo_photo|\n",
      "|   apollo_character|\n",
      "|apollo_samsungstock|\n",
      "|   apollo_calendar2|\n",
      "|apollo_dailycostume|\n",
      "|        apollo_call|\n",
      "|       apollo_quest|\n",
      "|     apollo_fortune|\n",
      "|        apollo_news|\n",
      "|        apollo_game|\n",
      "|    apollo_campaign|\n",
      "|     apollo_weather|\n",
      "|        apollo_time|\n",
      "|        apollo_tmap|\n",
      "|       apollo_music|\n",
      "|       apollo_sleep|\n",
      "|     apollo_english|\n",
      "|        apollo_mytv|\n",
      "+-------------------+\n",
      "only showing top 20 rows\n",
      "\n"
     ]
    },
    {
     "name": "stderr",
     "output_type": "stream",
     "text": [
      "                                                                                \r"
     ]
    }
   ],
   "source": [
    "data.select('cat1').distinct().show()"
   ]
  },
  {
   "cell_type": "code",
   "execution_count": 11,
   "id": "3a850281-c1c9-4a52-9161-123e313153f3",
   "metadata": {
    "execution": {
     "iopub.execute_input": "2024-06-12T06:58:24.921337Z",
     "iopub.status.busy": "2024-06-12T06:58:24.920662Z",
     "iopub.status.idle": "2024-06-12T06:58:44.394842Z",
     "shell.execute_reply": "2024-06-12T06:58:44.393397Z",
     "shell.execute_reply.started": "2024-06-12T06:58:24.921280Z"
    },
    "tags": []
   },
   "outputs": [
    {
     "name": "stderr",
     "output_type": "stream",
     "text": [
      "[Stage 10:======================================>                   (2 + 1) / 3]\r"
     ]
    },
    {
     "name": "stdout",
     "output_type": "stream",
     "text": [
      "+--------------------------+\n",
      "|                      item|\n",
      "+--------------------------+\n",
      "|                송파감자국|\n",
      "|           충청남도 예산군|\n",
      "|           경기도 의정부시|\n",
      "|                    고고기|\n",
      "|                 붉은 노을|\n",
      "|                    Winwin|\n",
      "|                겨울이야기|\n",
      "|         What A Girl Wants|\n",
      "|                    Helium|\n",
      "|    바다보러갈래 (SEE SEA)|\n",
      "|             브람스 자장가|\n",
      "|                  1도 없어|\n",
      "|             그때가 좋았어|\n",
      "|                   KissHug|\n",
      "|            Where Are You?|\n",
      "|                    Heaven|\n",
      "|             뚫고 지나가요|\n",
      "|          5882 (OPPA ASAP)|\n",
      "|      상사화 (With 안예은)|\n",
      "|Miracle (기적은 너와 내...|\n",
      "+--------------------------+\n",
      "only showing top 20 rows\n",
      "\n"
     ]
    },
    {
     "name": "stderr",
     "output_type": "stream",
     "text": [
      "                                                                                \r"
     ]
    }
   ],
   "source": [
    "data.select('item').distinct().show()"
   ]
  },
  {
   "cell_type": "code",
   "execution_count": 119,
   "id": "c8a1a785-edfb-474a-af5b-3c941acc51c4",
   "metadata": {
    "execution": {
     "iopub.execute_input": "2024-06-12T23:20:26.127635Z",
     "iopub.status.busy": "2024-06-12T23:20:26.126814Z",
     "iopub.status.idle": "2024-06-12T23:20:26.140592Z",
     "shell.execute_reply": "2024-06-12T23:20:26.139667Z",
     "shell.execute_reply.started": "2024-06-12T23:20:26.127574Z"
    },
    "tags": []
   },
   "outputs": [],
   "source": [
    "def prefer_list(data, cate=\"cat1\", thre=0.7):\n",
    "    data = data.select(['user_id',f'{cate}']).na.drop(\"any\", subset=f'{cate}')\n",
    "    data = data.groupby('user_id',f'{cate}').agg(count(\"*\").alias(f'{cate}_cnt'))\n",
    "    data_user = data.groupby('user_id').agg(max(f'{cate}_cnt').alias(f'{cate}_max_cnt'))\n",
    "    data = data.join(data_user, on='user_id', how=\"left\")\n",
    "    data = data.withColumn(f'{cate}_prop', col(f'{cate}_cnt')/col(f'{cate}_max_cnt'))\n",
    "    data = data.filter(col(f'{cate}_prop') > thre)\n",
    "    \n",
    "    window_spec = Window.partitionBy(\"user_id\").orderBy(desc(f'{cate}_prop'))\n",
    "\n",
    "    top_keywords = data.withColumn(\"rank\", row_number().over(window_spec)) \\\n",
    "                    .filter(col(\"rank\") <= 10) \\\n",
    "                    .drop(\"rank\")\n",
    "    top_keywords = top_keywords.filter(trim(col(f'{cate}')) != \"\")\n",
    "    \n",
    "    # data = top_keywords.groupBy(\"user_id\").agg(concat_ws(\",\",collect_list(f'{cate}')).alias(f'{cate}_list'))\n",
    "    \n",
    "    return top_keywords.select(['user_id','cat1'])"
   ]
  },
  {
   "cell_type": "code",
   "execution_count": 84,
   "id": "253d8b1b-503c-4a31-a3b1-78a17c00adba",
   "metadata": {
    "execution": {
     "iopub.execute_input": "2024-06-12T23:11:58.463123Z",
     "iopub.status.busy": "2024-06-12T23:11:58.462307Z",
     "iopub.status.idle": "2024-06-12T23:11:58.475399Z",
     "shell.execute_reply": "2024-06-12T23:11:58.474179Z",
     "shell.execute_reply.started": "2024-06-12T23:11:58.463063Z"
    },
    "tags": []
   },
   "outputs": [],
   "source": [
    "def prefer_list_cat1(data, cate=\"cat1\", thre=0.7):\n",
    "    data = data.select(['user_id','cat1',f'{cate}']).na.drop(\"any\", subset=f'{cate}')\n",
    "    data = data.groupby('user_id','cat1',f'{cate}').agg(count(\"*\").alias(f'{cate}_cnt'))\n",
    "    data_user = data.groupby('user_id','cat1').agg(max(f'{cate}_cnt').alias(f'{cate}_max_cnt'))\n",
    "    data = data.join(data_user, on=['user_id','cat1'], how=\"left\")\n",
    "    data = data.withColumn(f'{cate}_prop', col(f'{cate}_cnt')/col(f'{cate}_max_cnt'))\n",
    "    data = data.filter(col(f'{cate}_prop') > thre)\n",
    "    \n",
    "    window_spec = Window.partitionBy(\"user_id\",\"cat1\").orderBy(desc(f'{cate}_prop'))\n",
    "\n",
    "    top_keywords = data.withColumn(\"rank\", row_number().over(window_spec)) \\\n",
    "                    .filter(col(\"rank\") <= 10) \\\n",
    "                    .drop(\"rank\")\n",
    "    top_keywords = top_keywords.filter(trim(col(f'{cate}')) != \"\")\n",
    "\n",
    "    data = top_keywords.groupBy(\"user_id\",\"cat1\").agg(concat_ws(\", \",collect_list(f'{cate}')).alias(f'{cate}_list'))\n",
    "    \n",
    "    return data"
   ]
  },
  {
   "cell_type": "markdown",
   "id": "9f42b66c-971a-4961-aea6-42c4b9e31e0c",
   "metadata": {},
   "source": [
    "## adot item level"
   ]
  },
  {
   "cell_type": "code",
   "execution_count": 164,
   "id": "5f2099c9-ced3-460b-94fb-e8ff3b166cde",
   "metadata": {
    "execution": {
     "iopub.execute_input": "2024-06-13T00:37:41.216162Z",
     "iopub.status.busy": "2024-06-13T00:37:41.215327Z",
     "iopub.status.idle": "2024-06-13T00:37:41.242878Z",
     "shell.execute_reply": "2024-06-13T00:37:41.241586Z",
     "shell.execute_reply.started": "2024-06-13T00:37:41.216099Z"
    },
    "tags": []
   },
   "outputs": [],
   "source": [
    "data_item = data.filter(col('dt') >= f'{DT_threshold2}')\n",
    "data_item = data_item.select(['user_id','cat1','item']).na.drop(\"any\", subset='item')"
   ]
  },
  {
   "cell_type": "code",
   "execution_count": 165,
   "id": "999f9763-f5bd-4eae-a11e-3e1fa8021bcc",
   "metadata": {
    "execution": {
     "iopub.execute_input": "2024-06-13T00:37:41.446323Z",
     "iopub.status.busy": "2024-06-13T00:37:41.445608Z",
     "iopub.status.idle": "2024-06-13T00:37:41.673917Z",
     "shell.execute_reply": "2024-06-13T00:37:41.672422Z",
     "shell.execute_reply.started": "2024-06-13T00:37:41.446265Z"
    },
    "tags": []
   },
   "outputs": [],
   "source": [
    "data_item1 = prefer_list_cat1(data_item.filter(col('cat1')!=\"apollo_music\"), cate=\"item\", thre=0.4)\n",
    "data_item1 = data_item1.withColumn(\"music_item_list\", lit(None))\n",
    "data_item2 = prefer_list_cat1(data_item.filter(col('cat1')==\"apollo_music\"), cate=\"item\", thre=0.4)\n",
    "\n",
    "data_item2 = data_item2.withColumnRenamed(\"item_list\", \"music_item_list\")\n",
    "data_item2 = data_item2.withColumn(\"item_list\", lit(None))\n",
    "data_item2 = data_item2.select('user_id','cat1','item_list','music_item_list')"
   ]
  },
  {
   "cell_type": "code",
   "execution_count": 166,
   "id": "6f90cda1-a2fd-4fde-9a96-6fa9cb7e6e5d",
   "metadata": {
    "execution": {
     "iopub.execute_input": "2024-06-13T00:37:46.141781Z",
     "iopub.status.busy": "2024-06-13T00:37:46.140984Z",
     "iopub.status.idle": "2024-06-13T00:37:46.163429Z",
     "shell.execute_reply": "2024-06-13T00:37:46.162119Z",
     "shell.execute_reply.started": "2024-06-13T00:37:46.141721Z"
    },
    "tags": []
   },
   "outputs": [],
   "source": [
    "data_item = data_item1.union(data_item2)"
   ]
  },
  {
   "cell_type": "code",
   "execution_count": 167,
   "id": "fa3cecd8-b6b4-4e12-adc0-1af1afb679e5",
   "metadata": {
    "execution": {
     "iopub.execute_input": "2024-06-13T00:37:46.166271Z",
     "iopub.status.busy": "2024-06-13T00:37:46.165660Z",
     "iopub.status.idle": "2024-06-13T00:37:59.331098Z",
     "shell.execute_reply": "2024-06-13T00:37:59.329763Z",
     "shell.execute_reply.started": "2024-06-13T00:37:46.166217Z"
    },
    "tags": []
   },
   "outputs": [
    {
     "name": "stderr",
     "output_type": "stream",
     "text": [
      "                                                                                \r"
     ]
    },
    {
     "name": "stdout",
     "output_type": "stream",
     "text": [
      "+--------------------+--------------+------------------------------+---------------+\n",
      "|             user_id|          cat1|                     item_list|music_item_list|\n",
      "+--------------------+--------------+------------------------------+---------------+\n",
      "|APL00000BJ19IFQXK54W|   apollo_game|요리조리 길 건너기,월드 사커 M|           null|\n",
      "|APL00000BJ436WSTST8G|     apollo_mj|                        도마29|           null|\n",
      "|APL00000BJ4RDYF1Q39C|   apollo_mytv|                     YTN 뉴스 |           null|\n",
      "|APL00000BJB1OGJWJF9C|  apollo_radio|               김현정의 뉴스쇼|           null|\n",
      "|APL00000BJCAJNIZHBLS|   apollo_mytv|                        집결호|           null|\n",
      "|APL00000BJEUSHR47DHC|apollo_weather|               대전광역시 서구|           null|\n",
      "|APL00000BJFZS2Y4RRI8|   apollo_game|                        주시팡|           null|\n",
      "|APL00000BJQE5Y830Y68|   apollo_mytv|                     YTN 뉴스 |           null|\n",
      "|APL00000BJQFTBD134SG|     apollo_mj|               팔레드신,피크닉|           null|\n",
      "|APL00000BJQFTBD134SG|   apollo_mytv|                  KLPGA AI숏폼|           null|\n",
      "+--------------------+--------------+------------------------------+---------------+\n",
      "only showing top 10 rows\n",
      "\n"
     ]
    }
   ],
   "source": [
    "data_item.show(n=10)"
   ]
  },
  {
   "cell_type": "code",
   "execution_count": null,
   "id": "324e1776-681d-4e64-8bfe-d810b5aadac5",
   "metadata": {},
   "outputs": [],
   "source": []
  },
  {
   "cell_type": "markdown",
   "id": "7baaa5d2-932c-459a-8e26-66ddc9337a8d",
   "metadata": {},
   "source": [
    "## adot cat level"
   ]
  },
  {
   "cell_type": "markdown",
   "id": "458d2f64-5f8c-4bb8-aa03-b560ef9b3f64",
   "metadata": {},
   "source": [
    "- cat3 : music에 경우는 장르, artist 분리한 버전으로 나머지는 그대로"
   ]
  },
  {
   "cell_type": "code",
   "execution_count": 128,
   "id": "eccf113f-f1ec-42cd-9ef5-7357b3021ca5",
   "metadata": {
    "execution": {
     "iopub.execute_input": "2024-06-13T00:21:53.018482Z",
     "iopub.status.busy": "2024-06-13T00:21:53.017577Z",
     "iopub.status.idle": "2024-06-13T00:21:53.370871Z",
     "shell.execute_reply": "2024-06-13T00:21:53.369262Z",
     "shell.execute_reply.started": "2024-06-13T00:21:53.018403Z"
    },
    "tags": []
   },
   "outputs": [],
   "source": [
    "data_cat3_1 = prefer_list_cat1(data.filter(col(\"cat1\") != \"apollo_music\"), cate=\"cat3\", thre=0.5)\n",
    "data_cat3_genre = prefer_list_cat1(data.filter(col(\"cat1\") == \"apollo_music\"), cate=\"cat3_genre\", thre=0.5)\n",
    "data_cat3_artist = prefer_list_cat1(data.filter(col(\"cat1\") == \"apollo_music\"), cate=\"cat3_artist\", thre=0.5)"
   ]
  },
  {
   "cell_type": "code",
   "execution_count": 131,
   "id": "0daab8ee-4e3e-4aa5-a2fb-ff9cb6eace21",
   "metadata": {
    "execution": {
     "iopub.execute_input": "2024-06-13T00:22:46.614416Z",
     "iopub.status.busy": "2024-06-13T00:22:46.613662Z",
     "iopub.status.idle": "2024-06-13T00:22:46.665341Z",
     "shell.execute_reply": "2024-06-13T00:22:46.663929Z",
     "shell.execute_reply.started": "2024-06-13T00:22:46.614331Z"
    },
    "tags": []
   },
   "outputs": [],
   "source": [
    "data_cat3_music = data_cat3_genre.join(data_cat3_artist,on=[\"user_id\",\"cat1\"],how=\"left\")\n",
    "# data_cat3_music = data_cat3_music.withColumn(\"cat3_list\", concat_ws(\" & \", concat_ws(\": \", lit(\"장르\"), \"cat3_genre_list\"), concat_ws(\": \", lit(\"가수\"), \"cat3_artist_list\")))\n",
    "data_cat3_music = data_cat3_music.withColumn(\"cat3_list\", lit(None))\n",
    "data_cat3_music_1 = data_cat3_music.select(\"user_id\",\"cat1\",\"cat3_genre_list\", \"cat3_artist_list\")\n",
    "data_cat3_music = data_cat3_music.drop(\"cat3_genre_list\", \"cat3_artist_list\")"
   ]
  },
  {
   "cell_type": "code",
   "execution_count": 132,
   "id": "d82c67eb-54e6-40b1-b00a-07606f972db0",
   "metadata": {
    "execution": {
     "iopub.execute_input": "2024-06-13T00:23:02.656414Z",
     "iopub.status.busy": "2024-06-13T00:23:02.655655Z",
     "iopub.status.idle": "2024-06-13T00:23:02.692799Z",
     "shell.execute_reply": "2024-06-13T00:23:02.691347Z",
     "shell.execute_reply.started": "2024-06-13T00:23:02.656331Z"
    },
    "tags": []
   },
   "outputs": [],
   "source": [
    "data_cat3 = data_cat3_1.union(data_cat3_music)"
   ]
  },
  {
   "cell_type": "code",
   "execution_count": 133,
   "id": "f235fe55-5ac6-460f-8d89-e77ccbc5e3b1",
   "metadata": {
    "execution": {
     "iopub.execute_input": "2024-06-13T00:23:02.880896Z",
     "iopub.status.busy": "2024-06-13T00:23:02.880174Z",
     "iopub.status.idle": "2024-06-13T00:23:02.921152Z",
     "shell.execute_reply": "2024-06-13T00:23:02.919812Z",
     "shell.execute_reply.started": "2024-06-13T00:23:02.880838Z"
    },
    "tags": []
   },
   "outputs": [],
   "source": [
    "data_cat3 = data_cat3.join(data_cat3_music_1, on=['user_id','cat1'], how=\"left\")"
   ]
  },
  {
   "cell_type": "code",
   "execution_count": 134,
   "id": "feb196b7-4fb5-4c09-93dc-651eef22be4f",
   "metadata": {
    "execution": {
     "iopub.execute_input": "2024-06-13T00:23:03.338239Z",
     "iopub.status.busy": "2024-06-13T00:23:03.337541Z",
     "iopub.status.idle": "2024-06-13T00:23:03.348373Z",
     "shell.execute_reply": "2024-06-13T00:23:03.347169Z",
     "shell.execute_reply.started": "2024-06-13T00:23:03.338183Z"
    },
    "tags": []
   },
   "outputs": [
    {
     "data": {
      "text/plain": [
       "['user_id', 'cat1', 'cat3_list', 'cat3_genre_list', 'cat3_artist_list']"
      ]
     },
     "execution_count": 134,
     "metadata": {},
     "output_type": "execute_result"
    }
   ],
   "source": [
    "data_cat3.columns"
   ]
  },
  {
   "cell_type": "markdown",
   "id": "31b163e1-d5d6-473f-94ee-a3c022c5f211",
   "metadata": {},
   "source": [
    "- cat1"
   ]
  },
  {
   "cell_type": "code",
   "execution_count": 120,
   "id": "674e4c7e-7e2e-4b57-adf0-95581c410f6b",
   "metadata": {
    "execution": {
     "iopub.execute_input": "2024-06-12T23:20:36.748543Z",
     "iopub.status.busy": "2024-06-12T23:20:36.747727Z",
     "iopub.status.idle": "2024-06-12T23:20:36.869450Z",
     "shell.execute_reply": "2024-06-12T23:20:36.868003Z",
     "shell.execute_reply.started": "2024-06-12T23:20:36.748483Z"
    },
    "tags": []
   },
   "outputs": [],
   "source": [
    "data_cat1 = prefer_list(data, cate=\"cat1\", thre=0.5)"
   ]
  },
  {
   "cell_type": "code",
   "execution_count": 121,
   "id": "d4e9fcb5-d5c7-451c-9a28-f32e0fad10a5",
   "metadata": {
    "execution": {
     "iopub.execute_input": "2024-06-12T23:20:37.004794Z",
     "iopub.status.busy": "2024-06-12T23:20:37.004040Z",
     "iopub.status.idle": "2024-06-12T23:20:37.014039Z",
     "shell.execute_reply": "2024-06-12T23:20:37.013032Z",
     "shell.execute_reply.started": "2024-06-12T23:20:37.004737Z"
    },
    "tags": []
   },
   "outputs": [
    {
     "data": {
      "text/plain": [
       "['user_id', 'cat1']"
      ]
     },
     "execution_count": 121,
     "metadata": {},
     "output_type": "execute_result"
    }
   ],
   "source": [
    "data_cat1.columns"
   ]
  },
  {
   "cell_type": "markdown",
   "id": "9bac1cc4-b725-41b7-82b4-be03578e1706",
   "metadata": {},
   "source": [
    "### 전체 데이터 Merge"
   ]
  },
  {
   "cell_type": "markdown",
   "id": "e028c336-a9f8-412e-8951-25da74a3f736",
   "metadata": {},
   "source": [
    "- user, cat1 별 item, cat3"
   ]
  },
  {
   "cell_type": "code",
   "execution_count": 169,
   "id": "63dd989d-0d78-404e-bd11-b28a84d60b8a",
   "metadata": {
    "execution": {
     "iopub.execute_input": "2024-06-13T00:38:51.644991Z",
     "iopub.status.busy": "2024-06-13T00:38:51.644183Z",
     "iopub.status.idle": "2024-06-13T00:38:51.691321Z",
     "shell.execute_reply": "2024-06-13T00:38:51.690019Z",
     "shell.execute_reply.started": "2024-06-13T00:38:51.644931Z"
    },
    "tags": []
   },
   "outputs": [],
   "source": [
    "full_data1 = data_item.join(data_cat3, on=['user_id','cat1'], how=\"inner\")"
   ]
  },
  {
   "cell_type": "code",
   "execution_count": 171,
   "id": "157bd498-9f2f-4d0a-981f-f3472160561f",
   "metadata": {
    "execution": {
     "iopub.execute_input": "2024-06-13T00:39:27.886445Z",
     "iopub.status.busy": "2024-06-13T00:39:27.885632Z",
     "iopub.status.idle": "2024-06-13T00:39:27.894375Z",
     "shell.execute_reply": "2024-06-13T00:39:27.893459Z",
     "shell.execute_reply.started": "2024-06-13T00:39:27.886385Z"
    },
    "tags": []
   },
   "outputs": [
    {
     "data": {
      "text/plain": [
       "['user_id',\n",
       " 'cat1',\n",
       " 'item_list',\n",
       " 'music_item_list',\n",
       " 'cat3_list',\n",
       " 'cat3_genre_list',\n",
       " 'cat3_artist_list']"
      ]
     },
     "execution_count": 171,
     "metadata": {},
     "output_type": "execute_result"
    }
   ],
   "source": [
    "full_data1.columns"
   ]
  },
  {
   "cell_type": "code",
   "execution_count": 91,
   "id": "3c732d02-521a-430e-aeca-c960120145c1",
   "metadata": {
    "execution": {
     "iopub.execute_input": "2024-06-11T05:12:05.302348Z",
     "iopub.status.busy": "2024-06-11T05:12:05.301560Z",
     "iopub.status.idle": "2024-06-11T05:13:13.980866Z",
     "shell.execute_reply": "2024-06-11T05:13:13.979207Z",
     "shell.execute_reply.started": "2024-06-11T05:12:05.302289Z"
    },
    "tags": []
   },
   "outputs": [
    {
     "name": "stderr",
     "output_type": "stream",
     "text": [
      "[Stage 269:====================================================>  (23 + 1) / 24]\r"
     ]
    },
    {
     "name": "stdout",
     "output_type": "stream",
     "text": [
      "+--------------------+------------+-------------------------------+-------------------------+\n",
      "|             user_id|        cat1|                      item_list|                cat3_list|\n",
      "+--------------------+------------+-------------------------------+-------------------------+\n",
      "|APL00000BJ19IFQXK54W| apollo_game|[요리조리 길 건너기, 월드 사...|           [하이퍼캐쥬얼]|\n",
      "|APL00000BJ4RDYF1Q39C| apollo_mytv|                    [YTN 뉴스 ]|           [뉴스, 드라마]|\n",
      "|APL00000BJB1OGJWJF9C|apollo_radio|              [김현정의 뉴스쇼]|             [CBS 표준FM]|\n",
      "|APL00000BJCAJNIZHBLS| apollo_mytv|                       [집결호]|[뉴스, 액션,전쟁, 스포츠]|\n",
      "|APL00000BJFZS2Y4RRI8| apollo_game|                       [주시팡]|           [하이퍼캐쥬얼]|\n",
      "+--------------------+------------+-------------------------------+-------------------------+\n",
      "only showing top 5 rows\n",
      "\n"
     ]
    },
    {
     "name": "stderr",
     "output_type": "stream",
     "text": [
      "                                                                                \r"
     ]
    }
   ],
   "source": [
    "full_data1.show(n=5)"
   ]
  },
  {
   "cell_type": "code",
   "execution_count": 172,
   "id": "858dfa3c-4192-4af6-a24f-64086a885679",
   "metadata": {
    "execution": {
     "iopub.execute_input": "2024-06-13T00:39:30.636334Z",
     "iopub.status.busy": "2024-06-13T00:39:30.635553Z",
     "iopub.status.idle": "2024-06-13T00:39:30.700421Z",
     "shell.execute_reply": "2024-06-13T00:39:30.699110Z",
     "shell.execute_reply.started": "2024-06-13T00:39:30.636274Z"
    },
    "tags": []
   },
   "outputs": [],
   "source": [
    "full_data1 = full_data1.withColumn(\"dt\", lit(DT).cast(\"date\"))"
   ]
  },
  {
   "cell_type": "code",
   "execution_count": 173,
   "id": "8809d08e-26da-4241-b8e6-78a4425c3474",
   "metadata": {
    "execution": {
     "iopub.execute_input": "2024-06-13T00:39:31.089900Z",
     "iopub.status.busy": "2024-06-13T00:39:31.089096Z",
     "iopub.status.idle": "2024-06-13T00:39:31.132346Z",
     "shell.execute_reply": "2024-06-13T00:39:31.131060Z",
     "shell.execute_reply.started": "2024-06-13T00:39:31.089810Z"
    },
    "tags": []
   },
   "outputs": [],
   "source": [
    "full_data1 = full_data1.withColumnRenamed(\"cat1\", \"adot_cat1\")\\\n",
    "                       .withColumnRenamed(\"item_list\", \"adot_item_prefer\")\\\n",
    "                       .withColumnRenamed(\"cat3_list\", \"adot_cat3_prefer\") "
   ]
  },
  {
   "cell_type": "code",
   "execution_count": 174,
   "id": "2d0c3a53-9d8a-4c18-a3ac-b81936dbb98f",
   "metadata": {
    "execution": {
     "iopub.execute_input": "2024-06-13T00:39:31.569998Z",
     "iopub.status.busy": "2024-06-13T00:39:31.569196Z",
     "iopub.status.idle": "2024-06-13T00:39:31.577561Z",
     "shell.execute_reply": "2024-06-13T00:39:31.576149Z",
     "shell.execute_reply.started": "2024-06-13T00:39:31.569938Z"
    },
    "tags": []
   },
   "outputs": [
    {
     "name": "stdout",
     "output_type": "stream",
     "text": [
      "root\n",
      " |-- user_id: string (nullable = true)\n",
      " |-- adot_cat1: string (nullable = true)\n",
      " |-- adot_item_prefer: string (nullable = true)\n",
      " |-- music_item_list: string (nullable = true)\n",
      " |-- adot_cat3_prefer: string (nullable = true)\n",
      " |-- cat3_genre_list: string (nullable = true)\n",
      " |-- cat3_artist_list: string (nullable = true)\n",
      " |-- dt: date (nullable = true)\n",
      "\n"
     ]
    }
   ],
   "source": [
    "full_data1.printSchema()"
   ]
  },
  {
   "cell_type": "markdown",
   "id": "aba57e6b-8b45-4617-b4df-f686e15bc7ca",
   "metadata": {},
   "source": [
    "- cat1 정보"
   ]
  },
  {
   "cell_type": "code",
   "execution_count": 175,
   "id": "7252f7cf-1ed9-4411-92ca-b5869b334c15",
   "metadata": {
    "execution": {
     "iopub.execute_input": "2024-06-13T00:39:38.090110Z",
     "iopub.status.busy": "2024-06-13T00:39:38.089191Z",
     "iopub.status.idle": "2024-06-13T00:39:38.109220Z",
     "shell.execute_reply": "2024-06-13T00:39:38.107968Z",
     "shell.execute_reply.started": "2024-06-13T00:39:38.090049Z"
    },
    "tags": []
   },
   "outputs": [],
   "source": [
    "full_data2 = data_cat1\n",
    "full_data2 = full_data2.withColumn(\"dt\", lit(DT).cast(\"date\"))"
   ]
  },
  {
   "cell_type": "code",
   "execution_count": 176,
   "id": "7a712d5d-2a3c-4ae1-9c8b-7145827def32",
   "metadata": {
    "execution": {
     "iopub.execute_input": "2024-06-13T00:39:38.270300Z",
     "iopub.status.busy": "2024-06-13T00:39:38.269617Z",
     "iopub.status.idle": "2024-06-13T00:39:38.546898Z",
     "shell.execute_reply": "2024-06-13T00:39:38.545580Z",
     "shell.execute_reply.started": "2024-06-13T00:39:38.270244Z"
    },
    "tags": []
   },
   "outputs": [],
   "source": [
    "full_data2 = full_data2.withColumnRenamed(\"cat1\", \"adot_cat1_prefer\")"
   ]
  },
  {
   "cell_type": "code",
   "execution_count": 177,
   "id": "f62bc77b-2184-41c7-abd7-72987e3138bf",
   "metadata": {
    "execution": {
     "iopub.execute_input": "2024-06-13T00:39:38.549983Z",
     "iopub.status.busy": "2024-06-13T00:39:38.549116Z",
     "iopub.status.idle": "2024-06-13T00:39:38.609473Z",
     "shell.execute_reply": "2024-06-13T00:39:38.608255Z",
     "shell.execute_reply.started": "2024-06-13T00:39:38.549928Z"
    },
    "tags": []
   },
   "outputs": [
    {
     "name": "stdout",
     "output_type": "stream",
     "text": [
      "root\n",
      " |-- user_id: string (nullable = true)\n",
      " |-- adot_cat1_prefer: string (nullable = true)\n",
      " |-- dt: date (nullable = true)\n",
      "\n"
     ]
    }
   ],
   "source": [
    "full_data2.printSchema()"
   ]
  },
  {
   "cell_type": "markdown",
   "id": "dba57c93-4317-4dd1-9967-7a1d0d1beeaa",
   "metadata": {},
   "source": [
    "### AIDP 저장"
   ]
  },
  {
   "cell_type": "markdown",
   "id": "64105cc8-cda8-48ce-8d11-a8790c35a407",
   "metadata": {},
   "source": [
    "- user, cat1 별 item, cat3 정보 저장"
   ]
  },
  {
   "cell_type": "code",
   "execution_count": 178,
   "id": "5d5e372b-523a-42e8-9441-f3aa2e832519",
   "metadata": {
    "execution": {
     "iopub.execute_input": "2024-06-13T00:39:41.241307Z",
     "iopub.status.busy": "2024-06-13T00:39:41.240519Z",
     "iopub.status.idle": "2024-06-13T00:39:41.247170Z",
     "shell.execute_reply": "2024-06-13T00:39:41.245880Z",
     "shell.execute_reply.started": "2024-06-13T00:39:41.241246Z"
    },
    "tags": []
   },
   "outputs": [],
   "source": [
    "dest_dataset = \"x1113099\"\n",
    "partitioned_dest_table = \"one_model_profile_adot_cat3_item\""
   ]
  },
  {
   "cell_type": "code",
   "execution_count": 179,
   "id": "ea527d8b-3206-405e-baa6-9bed4f97a905",
   "metadata": {
    "execution": {
     "iopub.execute_input": "2024-06-13T00:39:41.250167Z",
     "iopub.status.busy": "2024-06-13T00:39:41.249657Z",
     "iopub.status.idle": "2024-06-13T00:39:42.936033Z",
     "shell.execute_reply": "2024-06-13T00:39:42.935279Z",
     "shell.execute_reply.started": "2024-06-13T00:39:41.250135Z"
    },
    "tags": []
   },
   "outputs": [
    {
     "name": "stdout",
     "output_type": "stream",
     "text": [
      "생성된 테이블 : x1113099.one_model_profile_adot_cat3_item\n"
     ]
    }
   ],
   "source": [
    "get_bigquery_client().query(f\"\"\"\n",
    "    CREATE TABLE IF NOT EXISTS {dest_dataset}.{partitioned_dest_table}\n",
    "    (\n",
    "        user_id STRING,\n",
    "        adot_cat1 STRING,\n",
    "        adot_item_prefer STRING,\n",
    "        music_item_list STRING,\n",
    "        adot_cat3_prefer STRING,\n",
    "        cat3_genre_list STRING,\n",
    "        cat3_artist_list STRING,\n",
    "        dt DATE,\n",
    "    )\n",
    "    PARTITION BY dt\n",
    "\"\"\").result()\n",
    "\n",
    "print(f\"생성된 테이블 : {dest_dataset}.{partitioned_dest_table}\")"
   ]
  },
  {
   "cell_type": "code",
   "execution_count": 180,
   "id": "a8c06596-4aa0-4b0e-a481-08bcccd8a313",
   "metadata": {
    "execution": {
     "iopub.execute_input": "2024-06-13T00:39:42.938079Z",
     "iopub.status.busy": "2024-06-13T00:39:42.937626Z",
     "iopub.status.idle": "2024-06-13T00:40:55.376722Z",
     "shell.execute_reply": "2024-06-13T00:40:55.375027Z",
     "shell.execute_reply.started": "2024-06-13T00:39:42.938046Z"
    },
    "tags": []
   },
   "outputs": [
    {
     "name": "stderr",
     "output_type": "stream",
     "text": [
      "                                                                                \r"
     ]
    }
   ],
   "source": [
    "df_to_bq_table(df=full_data1,\n",
    "               dataset=dest_dataset,\n",
    "               table_name=partitioned_dest_table,\n",
    "               mode=\"overwrite\")"
   ]
  },
  {
   "cell_type": "markdown",
   "id": "48fabafd-34bb-46be-a14e-72444523c554",
   "metadata": {},
   "source": [
    "- cat3 정보 저장"
   ]
  },
  {
   "cell_type": "code",
   "execution_count": 181,
   "id": "a3be1e00-8564-45a9-9c7d-9fde0d55edf9",
   "metadata": {
    "execution": {
     "iopub.execute_input": "2024-06-13T00:40:55.379879Z",
     "iopub.status.busy": "2024-06-13T00:40:55.379093Z",
     "iopub.status.idle": "2024-06-13T00:40:55.386450Z",
     "shell.execute_reply": "2024-06-13T00:40:55.385398Z",
     "shell.execute_reply.started": "2024-06-13T00:40:55.379815Z"
    },
    "tags": []
   },
   "outputs": [],
   "source": [
    "partitioned_dest_table1 = \"one_model_profile_adot_cat1\""
   ]
  },
  {
   "cell_type": "code",
   "execution_count": 182,
   "id": "c1091c57-92ea-43a3-9857-1a07d933416b",
   "metadata": {
    "execution": {
     "iopub.execute_input": "2024-06-13T00:40:55.389015Z",
     "iopub.status.busy": "2024-06-13T00:40:55.388704Z",
     "iopub.status.idle": "2024-06-13T00:40:57.096997Z",
     "shell.execute_reply": "2024-06-13T00:40:57.095792Z",
     "shell.execute_reply.started": "2024-06-13T00:40:55.388983Z"
    },
    "tags": []
   },
   "outputs": [
    {
     "name": "stdout",
     "output_type": "stream",
     "text": [
      "생성된 테이블 : x1113099.one_model_profile_adot_cat1\n"
     ]
    }
   ],
   "source": [
    "get_bigquery_client().query(f\"\"\"\n",
    "    CREATE TABLE IF NOT EXISTS {dest_dataset}.{partitioned_dest_table1}\n",
    "    (\n",
    "        user_id STRING,\n",
    "        adot_cat1_prefer STRING,\n",
    "        dt DATE,\n",
    "    )\n",
    "    PARTITION BY dt\n",
    "\"\"\").result()\n",
    "\n",
    "print(f\"생성된 테이블 : {dest_dataset}.{partitioned_dest_table1}\")"
   ]
  },
  {
   "cell_type": "code",
   "execution_count": 183,
   "id": "d2712065-a341-41d1-a200-57ee5b87ddc7",
   "metadata": {
    "execution": {
     "iopub.execute_input": "2024-06-13T00:40:57.099337Z",
     "iopub.status.busy": "2024-06-13T00:40:57.098678Z",
     "iopub.status.idle": "2024-06-13T00:41:49.639449Z",
     "shell.execute_reply": "2024-06-13T00:41:49.638183Z",
     "shell.execute_reply.started": "2024-06-13T00:40:57.099282Z"
    },
    "tags": []
   },
   "outputs": [
    {
     "name": "stderr",
     "output_type": "stream",
     "text": [
      "                                                                                \r"
     ]
    }
   ],
   "source": [
    "df_to_bq_table(df=full_data2,\n",
    "               dataset=dest_dataset,\n",
    "               table_name=partitioned_dest_table1,\n",
    "               mode=\"overwrite\")"
   ]
  },
  {
   "cell_type": "code",
   "execution_count": null,
   "id": "9cfd6c0a-88b7-4fb9-8447-019f979beebc",
   "metadata": {},
   "outputs": [],
   "source": []
  },
  {
   "cell_type": "code",
   "execution_count": null,
   "id": "9081e629-0777-4559-8765-e14952d16d01",
   "metadata": {},
   "outputs": [],
   "source": []
  }
 ],
 "metadata": {
  "kernelspec": {
   "display_name": "Python 3 (ipykernel)",
   "language": "python",
   "name": "python3"
  },
  "language_info": {
   "codemirror_mode": {
    "name": "ipython",
    "version": 3
   },
   "file_extension": ".py",
   "mimetype": "text/x-python",
   "name": "python",
   "nbconvert_exporter": "python",
   "pygments_lexer": "ipython3",
   "version": "3.8.19"
  }
 },
 "nbformat": 4,
 "nbformat_minor": 5
}
