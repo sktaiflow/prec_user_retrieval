{
 "cells": [
  {
   "cell_type": "code",
   "execution_count": 1,
   "id": "afa07610-8fe8-4d61-8bfc-f93546444825",
   "metadata": {
    "execution": {
     "iopub.execute_input": "2024-06-11T14:18:54.637758Z",
     "iopub.status.busy": "2024-06-11T14:18:54.636939Z",
     "iopub.status.idle": "2024-06-11T14:18:54.649202Z",
     "shell.execute_reply": "2024-06-11T14:18:54.648371Z",
     "shell.execute_reply.started": "2024-06-11T14:18:54.637697Z"
    },
    "tags": []
   },
   "outputs": [],
   "source": [
    "# # # Parameters\n",
    "DT = \"2024-06-11\"   "
   ]
  },
  {
   "cell_type": "markdown",
   "id": "363b08fe-586b-4b37-9a98-dbee9c39d641",
   "metadata": {},
   "source": [
    "## **One Model Profile 생성 작업**"
   ]
  },
  {
   "cell_type": "markdown",
   "id": "6e8bbfe0-3d1d-41ea-b97d-3394ad548dcf",
   "metadata": {
    "execution": {
     "iopub.execute_input": "2024-06-03T23:07:29.647241Z",
     "iopub.status.busy": "2024-06-03T23:07:29.646408Z",
     "iopub.status.idle": "2024-06-03T23:07:29.655344Z",
     "shell.execute_reply": "2024-06-03T23:07:29.654108Z",
     "shell.execute_reply.started": "2024-06-03T23:07:29.647184Z"
    },
    "tags": []
   },
   "source": [
    "- 개요\n",
    "    - One Model Profile 생성 작업\n",
    "- 내용\n",
    "    - item, cat1, cat2 level로 프로파일링 작업 수행\n",
    "    - 단기 preference 정보\n",
    "        - 7일 내 item 정보를 통해서 생성\n",
    "    - 장기 preference 정보\n",
    "        - 30일 내 cat1, cat2 정보를 통해서 생성\n",
    "        - cat2가 더 상위 레벨임. 어떤 레벨로 장기 구성할지 선택 필요\n",
    "        - 다른 프로파일은 60일인데 이건 30일인 이유? 데이터가 너무 커서.. 필요시 날짜 늘리는거 고려 필요"
   ]
  },
  {
   "cell_type": "code",
   "execution_count": 2,
   "id": "f400f032-be1d-409d-82c1-914745945958",
   "metadata": {
    "execution": {
     "iopub.execute_input": "2024-06-11T14:18:55.392889Z",
     "iopub.status.busy": "2024-06-11T14:18:55.392124Z",
     "iopub.status.idle": "2024-06-11T14:18:56.820443Z",
     "shell.execute_reply": "2024-06-11T14:18:56.819625Z",
     "shell.execute_reply.started": "2024-06-11T14:18:55.392818Z"
    },
    "tags": []
   },
   "outputs": [],
   "source": [
    "from skt.gcp import get_bigquery_client, bq_insert_overwrite, get_max_part, bq_to_df, bq_to_pandas, pandas_to_bq_table, load_query_result_to_table, df_to_bq_table\n",
    "from pyspark.sql.functions import *\n",
    "from pyspark.sql.window import Window\n",
    "from pyspark.sql.functions import row_number\n",
    "from pyspark.sql import functions as F\n",
    "from datetime import datetime, date, timedelta\n",
    "from skt.ye import get_spark\n",
    "import pandas as pd\n",
    "import re\n",
    "from sklearn.feature_extraction.text import TfidfVectorizer\n",
    "import numpy as np"
   ]
  },
  {
   "cell_type": "markdown",
   "id": "a4db68ef-3781-4d45-8e71-17a6663a83ee",
   "metadata": {},
   "source": [
    "# 프로파일 : xdr"
   ]
  },
  {
   "cell_type": "code",
   "execution_count": 3,
   "id": "a45fd9bf-f169-4975-ba44-e07781779a98",
   "metadata": {
    "execution": {
     "iopub.execute_input": "2024-06-11T14:18:56.823940Z",
     "iopub.status.busy": "2024-06-11T14:18:56.822739Z",
     "iopub.status.idle": "2024-06-11T14:18:56.833985Z",
     "shell.execute_reply": "2024-06-11T14:18:56.832858Z",
     "shell.execute_reply.started": "2024-06-11T14:18:56.823826Z"
    },
    "tags": []
   },
   "outputs": [
    {
     "name": "stdout",
     "output_type": "stream",
     "text": [
      "DT :  2024-06-11\n",
      "DT_threshold :  2024-05-12\n",
      "DT_threshold :  2024-06-04\n"
     ]
    }
   ],
   "source": [
    "# DT = \"2024-06-02\"\n",
    "current_date = datetime.strptime(DT, \"%Y-%m-%d\")\n",
    "DT_threshold1 = (current_date - timedelta(days=30)).strftime(\"%Y-%m-%d\")\n",
    "DT_threshold2 = (current_date - timedelta(days=7)).strftime(\"%Y-%m-%d\")\n",
    "\n",
    "print(\"DT : \", DT)\n",
    "print(\"DT_threshold : \", DT_threshold1)\n",
    "print(\"DT_threshold : \", DT_threshold2)"
   ]
  },
  {
   "cell_type": "code",
   "execution_count": 4,
   "id": "25132bec-03d0-44d0-b7e3-60dec430e039",
   "metadata": {
    "execution": {
     "iopub.execute_input": "2024-06-11T14:18:57.920126Z",
     "iopub.status.busy": "2024-06-11T14:18:57.919270Z",
     "iopub.status.idle": "2024-06-11T14:18:57.926955Z",
     "shell.execute_reply": "2024-06-11T14:18:57.925547Z",
     "shell.execute_reply.started": "2024-06-11T14:18:57.920063Z"
    },
    "tags": []
   },
   "outputs": [],
   "source": [
    "query = f\"\"\"\n",
    "    select *\n",
    "    from adot_reco.recgpt_log_sequence_daily_prd\n",
    "    where dt >= '{DT_threshold1}' and type = 'xdr'\n",
    "\"\"\""
   ]
  },
  {
   "cell_type": "code",
   "execution_count": 5,
   "id": "b0424344-3148-4457-bfdc-262457902153",
   "metadata": {
    "execution": {
     "iopub.execute_input": "2024-06-11T14:18:58.302147Z",
     "iopub.status.busy": "2024-06-11T14:18:58.301359Z",
     "iopub.status.idle": "2024-06-11T14:21:57.729350Z",
     "shell.execute_reply": "2024-06-11T14:21:57.727672Z",
     "shell.execute_reply.started": "2024-06-11T14:18:58.302085Z"
    },
    "tags": []
   },
   "outputs": [
    {
     "name": "stderr",
     "output_type": "stream",
     "text": [
      "Setting default log level to \"WARN\".\n",
      "To adjust logging level use sc.setLogLevel(newLevel). For SparkR, use setLogLevel(newLevel).\n",
      "24/06/11 23:21:31 WARN Client: Neither spark.yarn.jars nor spark.yarn.archive is set, falling back to uploading libraries under SPARK_HOME.\n",
      "24/06/11 23:21:53 WARN SQLConf: The SQL config 'spark.sql.execution.arrow.enabled' has been deprecated in Spark v3.0 and may be removed in the future. Use 'spark.sql.execution.arrow.pyspark.enabled' instead of it.\n"
     ]
    }
   ],
   "source": [
    "data = bq_to_df(query)"
   ]
  },
  {
   "cell_type": "code",
   "execution_count": 10,
   "id": "fdf52ca0-852a-4cff-908b-a9d0f7f101d0",
   "metadata": {
    "execution": {
     "iopub.execute_input": "2024-06-09T23:55:40.646244Z",
     "iopub.status.busy": "2024-06-09T23:55:40.645379Z",
     "iopub.status.idle": "2024-06-09T23:55:40.652238Z",
     "shell.execute_reply": "2024-06-09T23:55:40.651282Z",
     "shell.execute_reply.started": "2024-06-09T23:55:40.646191Z"
    },
    "tags": []
   },
   "outputs": [],
   "source": [
    "# data1.count()"
   ]
  },
  {
   "cell_type": "code",
   "execution_count": 11,
   "id": "9d553d03-fccb-45b6-ba21-e68d54afb502",
   "metadata": {
    "execution": {
     "iopub.execute_input": "2024-06-09T23:55:40.653640Z",
     "iopub.status.busy": "2024-06-09T23:55:40.653370Z",
     "iopub.status.idle": "2024-06-09T23:55:47.807820Z",
     "shell.execute_reply": "2024-06-09T23:55:47.806821Z",
     "shell.execute_reply.started": "2024-06-09T23:55:40.653613Z"
    },
    "tags": []
   },
   "outputs": [
    {
     "name": "stderr",
     "output_type": "stream",
     "text": [
      "[Stage 0:>                                                          (0 + 1) / 1]\r"
     ]
    },
    {
     "name": "stdout",
     "output_type": "stream",
     "text": [
      "+--------------------+----+--------+-------------+----+--------------------+--------+----+----+----------+----+\n",
      "|        svc_mgmt_num|item|    cat1|         cat2|cat3|           unix_time|second_s|etc1|etc2|        dt|type|\n",
      "+--------------------+----+--------+-------------+----+--------------------+--------+----+----+----------+----+\n",
      "|1cc2330f0e6b3b22d...|  S1|Security|         Life|null|1715416300.000000000|   63100|null|null|2024-05-11| xdr|\n",
      "|9ec09e3e8e662bf9d...|  S1|Security|         Life|null|1715426327.000000000|   73127|null|null|2024-05-11| xdr|\n",
      "|94a3475462b10e657...|  S1|Security|         Life|null|1715399294.000000000|   46094|null|null|2024-05-11| xdr|\n",
      "|c6139fc43c455dd49...|  S1|Security|         Life|null|1715381060.000000000|   27860|null|null|2024-05-11| xdr|\n",
      "|9db8e0a583694d018...|  S1|Security|         Life|null|1715379336.000000000|   26136|null|null|2024-05-11| xdr|\n",
      "|fa363be78a6b9712c...|  S1|Security|         Life|null|1715415173.000000000|   61973|null|null|2024-05-11| xdr|\n",
      "|6b953201cbf9f5d3f...|  S1|Security|         Life|null|1715414086.000000000|   60886|null|null|2024-05-11| xdr|\n",
      "|d3d612f54fa6bcbad...|  S1|Security|         Life|null|1715398350.000000000|   45150|null|null|2024-05-11| xdr|\n",
      "|16b303e2426d2981c...|  S1|Security|         Life|null|1715395749.000000000|   42549|null|null|2024-05-11| xdr|\n",
      "|13b9979cae1594255...|  VK|     SNS|Communication|null|1715401843.000000000|   48643|null|null|2024-05-11| xdr|\n",
      "+--------------------+----+--------+-------------+----+--------------------+--------+----+----+----------+----+\n",
      "only showing top 10 rows\n",
      "\n"
     ]
    },
    {
     "name": "stderr",
     "output_type": "stream",
     "text": [
      "                                                                                \r"
     ]
    }
   ],
   "source": [
    "data.show(n=10)"
   ]
  },
  {
   "cell_type": "code",
   "execution_count": 12,
   "id": "35d51540-5ab8-4750-9151-7c3885d32667",
   "metadata": {
    "execution": {
     "iopub.execute_input": "2024-06-09T23:55:47.810541Z",
     "iopub.status.busy": "2024-06-09T23:55:47.810070Z",
     "iopub.status.idle": "2024-06-09T23:56:26.775804Z",
     "shell.execute_reply": "2024-06-09T23:56:26.774357Z",
     "shell.execute_reply.started": "2024-06-09T23:55:47.810503Z"
    },
    "tags": []
   },
   "outputs": [
    {
     "name": "stderr",
     "output_type": "stream",
     "text": [
      "[Stage 1:======================================================>(199 + 1) / 200]\r"
     ]
    },
    {
     "name": "stdout",
     "output_type": "stream",
     "text": [
      "+----+\n",
      "|cat3|\n",
      "+----+\n",
      "|null|\n",
      "+----+\n",
      "\n"
     ]
    },
    {
     "name": "stderr",
     "output_type": "stream",
     "text": [
      "                                                                                \r"
     ]
    }
   ],
   "source": [
    "data.select('cat3').distinct().show()"
   ]
  },
  {
   "cell_type": "code",
   "execution_count": 13,
   "id": "9b85dc0e-8e79-40b2-bec3-2be0b2342870",
   "metadata": {
    "execution": {
     "iopub.execute_input": "2024-06-09T23:56:26.778396Z",
     "iopub.status.busy": "2024-06-09T23:56:26.777672Z",
     "iopub.status.idle": "2024-06-09T23:58:10.226921Z",
     "shell.execute_reply": "2024-06-09T23:58:10.225152Z",
     "shell.execute_reply.started": "2024-06-09T23:56:26.778341Z"
    },
    "tags": []
   },
   "outputs": [
    {
     "name": "stderr",
     "output_type": "stream",
     "text": [
      "[Stage 4:======================================================>(199 + 1) / 200]\r"
     ]
    },
    {
     "name": "stdout",
     "output_type": "stream",
     "text": [
      "+-------------+\n",
      "|         cat2|\n",
      "+-------------+\n",
      "|    Education|\n",
      "|Entertainment|\n",
      "|  Information|\n",
      "|         Life|\n",
      "|      Finance|\n",
      "|     Shopping|\n",
      "|      Utility|\n",
      "|         Game|\n",
      "|     Business|\n",
      "|     Location|\n",
      "|      Leisure|\n",
      "|Communication|\n",
      "+-------------+\n",
      "\n"
     ]
    },
    {
     "name": "stderr",
     "output_type": "stream",
     "text": [
      "                                                                                \r"
     ]
    }
   ],
   "source": [
    "data.select('cat2').distinct().show()"
   ]
  },
  {
   "cell_type": "code",
   "execution_count": 14,
   "id": "f37238e3-08cd-48a8-b8d7-ac151f123804",
   "metadata": {
    "execution": {
     "iopub.execute_input": "2024-06-09T23:58:10.229558Z",
     "iopub.status.busy": "2024-06-09T23:58:10.228885Z",
     "iopub.status.idle": "2024-06-09T23:59:52.825496Z",
     "shell.execute_reply": "2024-06-09T23:59:52.823956Z",
     "shell.execute_reply.started": "2024-06-09T23:58:10.229502Z"
    },
    "tags": []
   },
   "outputs": [
    {
     "name": "stderr",
     "output_type": "stream",
     "text": [
      "[Stage 7:======================================================>(198 + 2) / 200]\r"
     ]
    },
    {
     "name": "stdout",
     "output_type": "stream",
     "text": [
      "+-----------------+\n",
      "|             cat1|\n",
      "+-----------------+\n",
      "|      SmartDevice|\n",
      "|       References|\n",
      "|  Information_etc|\n",
      "|   Fresh_delivery|\n",
      "|     Location_etc|\n",
      "|              Job|\n",
      "|             Food|\n",
      "|              SNS|\n",
      "|          sharing|\n",
      "|    OnlinePayment|\n",
      "|            telco|\n",
      "|             Used|\n",
      "|         Security|\n",
      "|      RealEstates|\n",
      "| Culture and Arts|\n",
      "|     Shopping_etc|\n",
      "|Coupons_Discounts|\n",
      "|       SportsGame|\n",
      "|     Ride_request|\n",
      "|           Sports|\n",
      "+-----------------+\n",
      "only showing top 20 rows\n",
      "\n"
     ]
    },
    {
     "name": "stderr",
     "output_type": "stream",
     "text": [
      "                                                                                \r"
     ]
    }
   ],
   "source": [
    "data.select('cat1').distinct().show()"
   ]
  },
  {
   "cell_type": "code",
   "execution_count": 15,
   "id": "3a850281-c1c9-4a52-9161-123e313153f3",
   "metadata": {
    "execution": {
     "iopub.execute_input": "2024-06-09T23:59:52.828103Z",
     "iopub.status.busy": "2024-06-09T23:59:52.827389Z",
     "iopub.status.idle": "2024-06-10T00:01:49.909479Z",
     "shell.execute_reply": "2024-06-10T00:01:49.908130Z",
     "shell.execute_reply.started": "2024-06-09T23:59:52.828048Z"
    },
    "tags": []
   },
   "outputs": [
    {
     "name": "stderr",
     "output_type": "stream",
     "text": [
      "[Stage 10:=====================================================>(199 + 1) / 200]\r"
     ]
    },
    {
     "name": "stdout",
     "output_type": "stream",
     "text": [
      "+--------------------+\n",
      "|                item|\n",
      "+--------------------+\n",
      "|                29cm|\n",
      "|                BAND|\n",
      "|             Zigbang|\n",
      "|         efine.go.kr|\n",
      "|  L.POINT with L.PAY|\n",
      "|Garena Free Fire ...|\n",
      "|         CHANEL CODE|\n",
      "|  The New York Times|\n",
      "|       GirlFrontLine|\n",
      "|          WithNature|\n",
      "|              PHO.TO|\n",
      "|      EBS Elementary|\n",
      "|          kric.go.kr|\n",
      "|              Winwin|\n",
      "|   SlotSocialCasino2|\n",
      "|        EpicWar_Game|\n",
      "|gwangju.childcare...|\n",
      "|    Basketball Stars|\n",
      "|            EashShop|\n",
      "|      CasualJoyGames|\n",
      "+--------------------+\n",
      "only showing top 20 rows\n",
      "\n"
     ]
    },
    {
     "name": "stderr",
     "output_type": "stream",
     "text": [
      "                                                                                \r"
     ]
    }
   ],
   "source": [
    "data.select('item').distinct().show()"
   ]
  },
  {
   "cell_type": "code",
   "execution_count": 6,
   "id": "c8a1a785-edfb-474a-af5b-3c941acc51c4",
   "metadata": {
    "execution": {
     "iopub.execute_input": "2024-06-11T14:21:57.733342Z",
     "iopub.status.busy": "2024-06-11T14:21:57.732477Z",
     "iopub.status.idle": "2024-06-11T14:21:57.743557Z",
     "shell.execute_reply": "2024-06-11T14:21:57.742271Z",
     "shell.execute_reply.started": "2024-06-11T14:21:57.733274Z"
    },
    "tags": []
   },
   "outputs": [],
   "source": [
    "def prefer_list(data, cate=\"cat1\", thre=0.7):\n",
    "    data = data.select(['svc_mgmt_num',f'{cate}']).na.drop(\"any\", subset=f'{cate}')\n",
    "    data = data.groupby('svc_mgmt_num',f'{cate}').agg(count(\"*\").alias(f'{cate}_cnt'))\n",
    "    data_user = data.groupby('svc_mgmt_num').agg(max(f'{cate}_cnt').alias(f'{cate}_max_cnt'))\n",
    "    data = data.join(data_user, on='svc_mgmt_num', how=\"left\")\n",
    "    data = data.withColumn(f'{cate}_prop', col(f'{cate}_cnt')/col(f'{cate}_max_cnt'))\n",
    "    data = data.filter(col(f'{cate}_prop') > thre)\n",
    "    \n",
    "    window_spec = Window.partitionBy(\"svc_mgmt_num\").orderBy(desc(f'{cate}_prop'))\n",
    "\n",
    "    top_keywords = data.withColumn(\"rank\", row_number().over(window_spec)) \\\n",
    "                    .filter(col(\"rank\") <= 10) \\\n",
    "                    .drop(\"rank\")\n",
    "    data = top_keywords.groupBy(\"svc_mgmt_num\").agg(concat_ws(\", \",collect_list(f'{cate}')).alias(f'{cate}_list'))\n",
    "    \n",
    "    return data"
   ]
  },
  {
   "cell_type": "markdown",
   "id": "9f42b66c-971a-4961-aea6-42c4b9e31e0c",
   "metadata": {},
   "source": [
    "## xdr item level"
   ]
  },
  {
   "cell_type": "code",
   "execution_count": 7,
   "id": "551154c9-7412-46be-961e-48bbf352c631",
   "metadata": {
    "execution": {
     "iopub.execute_input": "2024-06-11T14:21:57.746392Z",
     "iopub.status.busy": "2024-06-11T14:21:57.745588Z",
     "iopub.status.idle": "2024-06-11T14:21:58.184233Z",
     "shell.execute_reply": "2024-06-11T14:21:58.183141Z",
     "shell.execute_reply.started": "2024-06-11T14:21:57.746317Z"
    },
    "tags": []
   },
   "outputs": [],
   "source": [
    "data_item = data.filter(col('dt') >= f'{DT_threshold2}')\n",
    "data_item = data_item.select(['svc_mgmt_num','item']).na.drop(\"any\", subset='item')\n",
    "data_item = prefer_list(data_item, cate=\"item\", thre=0.5)"
   ]
  },
  {
   "cell_type": "markdown",
   "id": "7baaa5d2-932c-459a-8e26-66ddc9337a8d",
   "metadata": {},
   "source": [
    "## xdr cat level\n",
    "- cat2(더 상위 카테고리) > cat1"
   ]
  },
  {
   "cell_type": "markdown",
   "id": "458d2f64-5f8c-4bb8-aa03-b560ef9b3f64",
   "metadata": {},
   "source": [
    "- cat1"
   ]
  },
  {
   "cell_type": "code",
   "execution_count": 8,
   "id": "eccf113f-f1ec-42cd-9ef5-7357b3021ca5",
   "metadata": {
    "execution": {
     "iopub.execute_input": "2024-06-11T14:21:58.186454Z",
     "iopub.status.busy": "2024-06-11T14:21:58.186113Z",
     "iopub.status.idle": "2024-06-11T14:21:58.350640Z",
     "shell.execute_reply": "2024-06-11T14:21:58.349327Z",
     "shell.execute_reply.started": "2024-06-11T14:21:58.186426Z"
    },
    "tags": []
   },
   "outputs": [],
   "source": [
    "data_cat1 = prefer_list(data, cate=\"cat1\", thre=0.6)"
   ]
  },
  {
   "cell_type": "markdown",
   "id": "31b163e1-d5d6-473f-94ee-a3c022c5f211",
   "metadata": {},
   "source": [
    "- cat2"
   ]
  },
  {
   "cell_type": "code",
   "execution_count": 9,
   "id": "674e4c7e-7e2e-4b57-adf0-95581c410f6b",
   "metadata": {
    "execution": {
     "iopub.execute_input": "2024-06-11T14:21:58.353069Z",
     "iopub.status.busy": "2024-06-11T14:21:58.352412Z",
     "iopub.status.idle": "2024-06-11T14:21:58.461670Z",
     "shell.execute_reply": "2024-06-11T14:21:58.460347Z",
     "shell.execute_reply.started": "2024-06-11T14:21:58.353014Z"
    },
    "tags": []
   },
   "outputs": [],
   "source": [
    "data_cat2 = prefer_list(data, cate=\"cat2\", thre=0.6)"
   ]
  },
  {
   "cell_type": "markdown",
   "id": "9bac1cc4-b725-41b7-82b4-be03578e1706",
   "metadata": {},
   "source": [
    "### 전체 데이터 Merge"
   ]
  },
  {
   "cell_type": "code",
   "execution_count": 10,
   "id": "7c1c5068-0366-4060-a618-0afb7714c971",
   "metadata": {
    "execution": {
     "iopub.execute_input": "2024-06-11T14:21:58.464070Z",
     "iopub.status.busy": "2024-06-11T14:21:58.463429Z",
     "iopub.status.idle": "2024-06-11T14:21:58.531125Z",
     "shell.execute_reply": "2024-06-11T14:21:58.529695Z",
     "shell.execute_reply.started": "2024-06-11T14:21:58.464015Z"
    },
    "tags": []
   },
   "outputs": [],
   "source": [
    "full_data = data_item.join(data_cat1,on=\"svc_mgmt_num\")\n",
    "full_data = full_data.join(data_cat2,on=\"svc_mgmt_num\")\n",
    "full_data = full_data.withColumn(\"dt\", lit(DT).cast(\"date\"))"
   ]
  },
  {
   "cell_type": "code",
   "execution_count": 11,
   "id": "d03f6e9d-4b7b-4b51-83e7-0b74bdedf351",
   "metadata": {
    "execution": {
     "iopub.execute_input": "2024-06-11T14:21:58.533527Z",
     "iopub.status.busy": "2024-06-11T14:21:58.532935Z",
     "iopub.status.idle": "2024-06-11T14:21:58.538325Z",
     "shell.execute_reply": "2024-06-11T14:21:58.537285Z",
     "shell.execute_reply.started": "2024-06-11T14:21:58.533472Z"
    },
    "tags": []
   },
   "outputs": [],
   "source": [
    "# full_data.show(n=10)"
   ]
  },
  {
   "cell_type": "code",
   "execution_count": 12,
   "id": "8809d08e-26da-4241-b8e6-78a4425c3474",
   "metadata": {
    "execution": {
     "iopub.execute_input": "2024-06-11T14:21:58.540084Z",
     "iopub.status.busy": "2024-06-11T14:21:58.539644Z",
     "iopub.status.idle": "2024-06-11T14:21:58.569582Z",
     "shell.execute_reply": "2024-06-11T14:21:58.568353Z",
     "shell.execute_reply.started": "2024-06-11T14:21:58.540045Z"
    },
    "tags": []
   },
   "outputs": [],
   "source": [
    "full_data = full_data.withColumnRenamed(\"item_list\", \"xdr_item_prefer\")\\\n",
    "                     .withColumnRenamed(\"cat1_list\", \"xdr_cat1_prefer\")\\\n",
    "                     .withColumnRenamed(\"cat2_list\", \"xdr_cat2_prefer\")"
   ]
  },
  {
   "cell_type": "code",
   "execution_count": 13,
   "id": "2d0c3a53-9d8a-4c18-a3ac-b81936dbb98f",
   "metadata": {
    "execution": {
     "iopub.execute_input": "2024-06-11T14:21:58.571743Z",
     "iopub.status.busy": "2024-06-11T14:21:58.571184Z",
     "iopub.status.idle": "2024-06-11T14:21:58.589302Z",
     "shell.execute_reply": "2024-06-11T14:21:58.588154Z",
     "shell.execute_reply.started": "2024-06-11T14:21:58.571694Z"
    },
    "tags": []
   },
   "outputs": [
    {
     "name": "stdout",
     "output_type": "stream",
     "text": [
      "root\n",
      " |-- svc_mgmt_num: string (nullable = true)\n",
      " |-- xdr_item_prefer: string (nullable = false)\n",
      " |-- xdr_cat1_prefer: string (nullable = false)\n",
      " |-- xdr_cat2_prefer: string (nullable = false)\n",
      " |-- dt: date (nullable = true)\n",
      "\n"
     ]
    }
   ],
   "source": [
    "full_data.printSchema()"
   ]
  },
  {
   "cell_type": "markdown",
   "id": "dba57c93-4317-4dd1-9967-7a1d0d1beeaa",
   "metadata": {},
   "source": [
    "### AIDP 저장"
   ]
  },
  {
   "cell_type": "code",
   "execution_count": 14,
   "id": "5d5e372b-523a-42e8-9441-f3aa2e832519",
   "metadata": {
    "execution": {
     "iopub.execute_input": "2024-06-11T14:21:58.593154Z",
     "iopub.status.busy": "2024-06-11T14:21:58.592611Z",
     "iopub.status.idle": "2024-06-11T14:21:58.597671Z",
     "shell.execute_reply": "2024-06-11T14:21:58.596734Z",
     "shell.execute_reply.started": "2024-06-11T14:21:58.593108Z"
    },
    "tags": []
   },
   "outputs": [],
   "source": [
    "dest_dataset = \"x1113099\"\n",
    "partitioned_dest_table = \"one_model_profile_xdr\""
   ]
  },
  {
   "cell_type": "code",
   "execution_count": 15,
   "id": "ea527d8b-3206-405e-baa6-9bed4f97a905",
   "metadata": {
    "execution": {
     "iopub.execute_input": "2024-06-11T14:21:58.598876Z",
     "iopub.status.busy": "2024-06-11T14:21:58.598621Z",
     "iopub.status.idle": "2024-06-11T14:22:00.302327Z",
     "shell.execute_reply": "2024-06-11T14:22:00.300266Z",
     "shell.execute_reply.started": "2024-06-11T14:21:58.598835Z"
    },
    "tags": []
   },
   "outputs": [
    {
     "name": "stdout",
     "output_type": "stream",
     "text": [
      "생성된 테이블 : x1113099.one_model_profile_xdr\n"
     ]
    }
   ],
   "source": [
    "get_bigquery_client().query(f\"\"\"\n",
    "    CREATE TABLE IF NOT EXISTS {dest_dataset}.{partitioned_dest_table}\n",
    "    (\n",
    "        svc_mgmt_num STRING,\n",
    "        xdr_item_prefer STRING,\n",
    "        xdr_cat1_prefer STRING,\n",
    "        xdr_cat2_prefer STRING,\n",
    "        dt DATE,\n",
    "    )\n",
    "    PARTITION BY dt\n",
    "\"\"\").result()\n",
    "\n",
    "print(f\"생성된 테이블 : {dest_dataset}.{partitioned_dest_table}\")"
   ]
  },
  {
   "cell_type": "code",
   "execution_count": 16,
   "id": "a8c06596-4aa0-4b0e-a481-08bcccd8a313",
   "metadata": {
    "execution": {
     "iopub.execute_input": "2024-06-11T14:22:00.305577Z",
     "iopub.status.busy": "2024-06-11T14:22:00.304538Z",
     "iopub.status.idle": "2024-06-11T15:10:47.514442Z",
     "shell.execute_reply": "2024-06-11T15:10:47.511999Z",
     "shell.execute_reply.started": "2024-06-11T14:22:00.305495Z"
    },
    "tags": []
   },
   "outputs": [
    {
     "name": "stderr",
     "output_type": "stream",
     "text": [
      "                                                                                \r"
     ]
    }
   ],
   "source": [
    "df_to_bq_table(df=full_data,\n",
    "               dataset=dest_dataset,\n",
    "               table_name=partitioned_dest_table,\n",
    "               mode=\"overwrite\")"
   ]
  },
  {
   "cell_type": "code",
   "execution_count": null,
   "id": "4548d578-1760-4af9-bd0c-2442d8c2f7f5",
   "metadata": {},
   "outputs": [],
   "source": []
  },
  {
   "cell_type": "code",
   "execution_count": null,
   "id": "290acaf2-baff-4eb5-b44e-b89a83e8a568",
   "metadata": {},
   "outputs": [],
   "source": []
  }
 ],
 "metadata": {
  "kernelspec": {
   "display_name": "Python 3 (ipykernel)",
   "language": "python",
   "name": "python3"
  },
  "language_info": {
   "codemirror_mode": {
    "name": "ipython",
    "version": 3
   },
   "file_extension": ".py",
   "mimetype": "text/x-python",
   "name": "python",
   "nbconvert_exporter": "python",
   "pygments_lexer": "ipython3",
   "version": "3.8.19"
  }
 },
 "nbformat": 4,
 "nbformat_minor": 5
}
