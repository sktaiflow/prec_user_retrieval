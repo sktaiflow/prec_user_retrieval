{
 "cells": [
  {
   "cell_type": "code",
   "execution_count": 1,
   "id": "afa07610-8fe8-4d61-8bfc-f93546444825",
   "metadata": {
    "execution": {
     "iopub.execute_input": "2024-06-11T06:42:39.964357Z",
     "iopub.status.busy": "2024-06-11T06:42:39.963573Z",
     "iopub.status.idle": "2024-06-11T06:42:39.975447Z",
     "shell.execute_reply": "2024-06-11T06:42:39.974442Z",
     "shell.execute_reply.started": "2024-06-11T06:42:39.964298Z"
    },
    "tags": []
   },
   "outputs": [],
   "source": [
    "# # # Parameters\n",
    "DT = \"2024-06-11\"   "
   ]
  },
  {
   "cell_type": "markdown",
   "id": "363b08fe-586b-4b37-9a98-dbee9c39d641",
   "metadata": {},
   "source": [
    "## **One Model Profile 생성 작업**"
   ]
  },
  {
   "cell_type": "markdown",
   "id": "6e8bbfe0-3d1d-41ea-b97d-3394ad548dcf",
   "metadata": {
    "execution": {
     "iopub.execute_input": "2024-06-03T23:07:29.647241Z",
     "iopub.status.busy": "2024-06-03T23:07:29.646408Z",
     "iopub.status.idle": "2024-06-03T23:07:29.655344Z",
     "shell.execute_reply": "2024-06-03T23:07:29.654108Z",
     "shell.execute_reply.started": "2024-06-03T23:07:29.647184Z"
    },
    "tags": []
   },
   "source": [
    "- 개요\n",
    "    - One Model Profile 생성 작업\n",
    "- 내용\n",
    "    - 최근 구독한(7일내) 단기 preference 정보 저장(item 기반)"
   ]
  },
  {
   "cell_type": "code",
   "execution_count": 2,
   "id": "f400f032-be1d-409d-82c1-914745945958",
   "metadata": {
    "execution": {
     "iopub.execute_input": "2024-06-11T06:42:41.402749Z",
     "iopub.status.busy": "2024-06-11T06:42:41.401914Z",
     "iopub.status.idle": "2024-06-11T06:42:42.822966Z",
     "shell.execute_reply": "2024-06-11T06:42:42.821521Z",
     "shell.execute_reply.started": "2024-06-11T06:42:41.402689Z"
    },
    "tags": []
   },
   "outputs": [],
   "source": [
    "from skt.gcp import get_bigquery_client, bq_insert_overwrite, get_max_part, bq_to_df, bq_to_pandas, pandas_to_bq_table, load_query_result_to_table, df_to_bq_table\n",
    "from pyspark.sql.functions import *\n",
    "from pyspark.sql.window import Window\n",
    "from pyspark.sql.functions import row_number\n",
    "from pyspark.sql import functions as F\n",
    "from datetime import datetime, date, timedelta\n",
    "from skt.ye import get_spark\n",
    "import pandas as pd\n",
    "import re\n",
    "from sklearn.feature_extraction.text import TfidfVectorizer\n",
    "import numpy as np"
   ]
  },
  {
   "cell_type": "markdown",
   "id": "a4db68ef-3781-4d45-8e71-17a6663a83ee",
   "metadata": {},
   "source": [
    "# 프로파일 : subsc"
   ]
  },
  {
   "cell_type": "code",
   "execution_count": 3,
   "id": "a45fd9bf-f169-4975-ba44-e07781779a98",
   "metadata": {
    "execution": {
     "iopub.execute_input": "2024-06-11T06:42:42.824874Z",
     "iopub.status.busy": "2024-06-11T06:42:42.824389Z",
     "iopub.status.idle": "2024-06-11T06:42:42.831039Z",
     "shell.execute_reply": "2024-06-11T06:42:42.830161Z",
     "shell.execute_reply.started": "2024-06-11T06:42:42.824847Z"
    },
    "tags": []
   },
   "outputs": [
    {
     "name": "stdout",
     "output_type": "stream",
     "text": [
      "DT :  2024-06-11\n",
      "DT_threshold :  2024-04-12\n",
      "DT_threshold :  2024-06-04\n"
     ]
    }
   ],
   "source": [
    "# DT = \"2024-06-02\"\n",
    "current_date = datetime.strptime(DT, \"%Y-%m-%d\")\n",
    "DT_threshold1 = (current_date - timedelta(days=60)).strftime(\"%Y-%m-%d\")\n",
    "DT_threshold2 = (current_date - timedelta(days=7)).strftime(\"%Y-%m-%d\")\n",
    "\n",
    "print(\"DT : \", DT)\n",
    "print(\"DT_threshold : \", DT_threshold1)\n",
    "print(\"DT_threshold : \", DT_threshold2)"
   ]
  },
  {
   "cell_type": "code",
   "execution_count": 4,
   "id": "25132bec-03d0-44d0-b7e3-60dec430e039",
   "metadata": {
    "execution": {
     "iopub.execute_input": "2024-06-11T06:42:42.932234Z",
     "iopub.status.busy": "2024-06-11T06:42:42.931536Z",
     "iopub.status.idle": "2024-06-11T06:42:42.938345Z",
     "shell.execute_reply": "2024-06-11T06:42:42.936937Z",
     "shell.execute_reply.started": "2024-06-11T06:42:42.932180Z"
    },
    "tags": []
   },
   "outputs": [],
   "source": [
    "query = f\"\"\"\n",
    "    select *\n",
    "    from adot_reco.recgpt_log_sequence_subsc_v3_daily_prd\n",
    "    where dt >= '{DT_threshold1}' \n",
    "\"\"\""
   ]
  },
  {
   "cell_type": "code",
   "execution_count": 5,
   "id": "b0424344-3148-4457-bfdc-262457902153",
   "metadata": {
    "execution": {
     "iopub.execute_input": "2024-06-11T06:42:44.360362Z",
     "iopub.status.busy": "2024-06-11T06:42:44.359536Z",
     "iopub.status.idle": "2024-06-11T06:43:23.325358Z",
     "shell.execute_reply": "2024-06-11T06:43:23.323233Z",
     "shell.execute_reply.started": "2024-06-11T06:42:44.360302Z"
    },
    "tags": []
   },
   "outputs": [
    {
     "name": "stderr",
     "output_type": "stream",
     "text": [
      "Setting default log level to \"WARN\".\n",
      "To adjust logging level use sc.setLogLevel(newLevel). For SparkR, use setLogLevel(newLevel).\n",
      "24/06/11 15:42:54 WARN Client: Neither spark.yarn.jars nor spark.yarn.archive is set, falling back to uploading libraries under SPARK_HOME.\n",
      "24/06/11 15:43:19 WARN SQLConf: The SQL config 'spark.sql.execution.arrow.enabled' has been deprecated in Spark v3.0 and may be removed in the future. Use 'spark.sql.execution.arrow.pyspark.enabled' instead of it.\n"
     ]
    }
   ],
   "source": [
    "data = bq_to_df(query)"
   ]
  },
  {
   "cell_type": "code",
   "execution_count": 7,
   "id": "c3066773-9c7f-4a70-ac3c-528557cc353c",
   "metadata": {
    "execution": {
     "iopub.execute_input": "2024-06-04T03:02:50.835703Z",
     "iopub.status.busy": "2024-06-04T03:02:50.834604Z",
     "iopub.status.idle": "2024-06-04T03:02:50.841771Z",
     "shell.execute_reply": "2024-06-04T03:02:50.840698Z",
     "shell.execute_reply.started": "2024-06-04T03:02:50.835635Z"
    },
    "tags": []
   },
   "outputs": [],
   "source": [
    "# data.count()"
   ]
  },
  {
   "cell_type": "code",
   "execution_count": 9,
   "id": "565f5e61-0d77-4295-b989-fedd63abae8e",
   "metadata": {
    "execution": {
     "iopub.execute_input": "2024-06-04T03:03:21.743024Z",
     "iopub.status.busy": "2024-06-04T03:03:21.742222Z",
     "iopub.status.idle": "2024-06-04T03:03:21.748409Z",
     "shell.execute_reply": "2024-06-04T03:03:21.747268Z",
     "shell.execute_reply.started": "2024-06-04T03:03:21.742967Z"
    },
    "tags": []
   },
   "outputs": [],
   "source": [
    "# data.select(\"type\").distinct().show()"
   ]
  },
  {
   "cell_type": "code",
   "execution_count": 10,
   "id": "9d553d03-fccb-45b6-ba21-e68d54afb502",
   "metadata": {
    "execution": {
     "iopub.execute_input": "2024-06-04T03:03:33.170405Z",
     "iopub.status.busy": "2024-06-04T03:03:33.169587Z",
     "iopub.status.idle": "2024-06-04T03:03:37.724768Z",
     "shell.execute_reply": "2024-06-04T03:03:37.723326Z",
     "shell.execute_reply.started": "2024-06-04T03:03:33.170346Z"
    },
    "tags": []
   },
   "outputs": [
    {
     "name": "stderr",
     "output_type": "stream",
     "text": [
      "[Stage 3:>                                                          (0 + 1) / 1]\r"
     ]
    },
    {
     "name": "stdout",
     "output_type": "stream",
     "text": [
      "+--------------------+-------------------+----------+--------+----+--------------------+--------+----+----+----------+--------+\n",
      "|        svc_mgmt_num|               item|      cat1|    cat2|cat3|           unix_time|second_s|etc1|etc2|        dt|    type|\n",
      "+--------------------+-------------------+----------+--------+----+--------------------+--------+----+----+----------+--------+\n",
      "|3f9b1f55a35e69480...|11번가/ Amazon 혜택|NM00000027|옵션Only|해지|1712275310.000000000|     110|null|null|2024-04-05|subsc_v3|\n",
      "|f3ce03c59993490cb...|11번가/ Amazon 혜택|NM00000027|옵션Only|해지|1712277125.000000000|    1925|null|null|2024-04-05|subsc_v3|\n",
      "|b2d0100592fefbeb2...|11번가/ Amazon 혜택|NM00000027|옵션Only|가입|1712295269.000000000|   20069|null|null|2024-04-05|subsc_v3|\n",
      "|e3b0c44298fc1c149...|11번가/ Amazon 혜택|NM00000027|옵션Only|가입|1712309901.000000000|   34701|null|null|2024-04-05|subsc_v3|\n",
      "|df356429bf525026a...|11번가/ Amazon 혜택|NM00000027|옵션Only|해지|1712244199.000000000|   55399|null|null|2024-04-05|subsc_v3|\n",
      "|8ed19f4deac42b650...|11번가/ Amazon 혜택|NM00000027|옵션Only|해지|1712246481.000000000|   57681|null|null|2024-04-05|subsc_v3|\n",
      "|cbea4c7aede37da4f...|11번가/ Amazon 혜택|NM00000027|옵션Only|해지|1712247499.000000000|   58699|null|null|2024-04-05|subsc_v3|\n",
      "|090aaadcc0053a1fa...|11번가/ Amazon 혜택|NM00000027|옵션Only|해지|1712247820.000000000|   59020|null|null|2024-04-05|subsc_v3|\n",
      "|ab73322051074cdb9...|11번가/ Amazon 혜택|NM00000027|옵션Only|해지|1712247939.000000000|   59139|null|null|2024-04-05|subsc_v3|\n",
      "|f9f4808cd90f549b6...|11번가/ Amazon 혜택|NM00000027|옵션Only|해지|1712248352.000000000|   59552|null|null|2024-04-05|subsc_v3|\n",
      "+--------------------+-------------------+----------+--------+----+--------------------+--------+----+----+----------+--------+\n",
      "only showing top 10 rows\n",
      "\n"
     ]
    },
    {
     "name": "stderr",
     "output_type": "stream",
     "text": [
      "                                                                                \r"
     ]
    }
   ],
   "source": [
    "data.show(n=10)"
   ]
  },
  {
   "cell_type": "code",
   "execution_count": 15,
   "id": "3b692bcb-a583-43db-98d7-9b83e4a594c0",
   "metadata": {
    "execution": {
     "iopub.execute_input": "2024-06-04T04:28:22.884629Z",
     "iopub.status.busy": "2024-06-04T04:28:22.882390Z",
     "iopub.status.idle": "2024-06-04T04:28:22.893631Z",
     "shell.execute_reply": "2024-06-04T04:28:22.892398Z",
     "shell.execute_reply.started": "2024-06-04T04:28:22.884519Z"
    },
    "tags": []
   },
   "outputs": [],
   "source": [
    "data.select('cat3').distinct().show()"
   ]
  },
  {
   "cell_type": "code",
   "execution_count": 11,
   "id": "9b85dc0e-8e79-40b2-bec3-2be0b2342870",
   "metadata": {
    "execution": {
     "iopub.execute_input": "2024-06-04T03:03:37.727865Z",
     "iopub.status.busy": "2024-06-04T03:03:37.727104Z",
     "iopub.status.idle": "2024-06-04T03:03:39.403092Z",
     "shell.execute_reply": "2024-06-04T03:03:39.401756Z",
     "shell.execute_reply.started": "2024-06-04T03:03:37.727785Z"
    },
    "tags": []
   },
   "outputs": [
    {
     "name": "stderr",
     "output_type": "stream",
     "text": [
      "[Stage 4:=============================>                             (1 + 1) / 2]\r"
     ]
    },
    {
     "name": "stdout",
     "output_type": "stream",
     "text": [
      "+--------------+\n",
      "|          cat2|\n",
      "+--------------+\n",
      "|      옵션Only|\n",
      "|     단품/옵션|\n",
      "|패키지기본혜택|\n",
      "|        패키지|\n",
      "|      단품Only|\n",
      "+--------------+\n",
      "\n"
     ]
    },
    {
     "name": "stderr",
     "output_type": "stream",
     "text": [
      "                                                                                \r"
     ]
    }
   ],
   "source": [
    "data.select('cat2').distinct().show()"
   ]
  },
  {
   "cell_type": "code",
   "execution_count": 12,
   "id": "f37238e3-08cd-48a8-b8d7-ac151f123804",
   "metadata": {
    "execution": {
     "iopub.execute_input": "2024-06-04T03:03:39.406095Z",
     "iopub.status.busy": "2024-06-04T03:03:39.405402Z",
     "iopub.status.idle": "2024-06-04T03:03:44.506540Z",
     "shell.execute_reply": "2024-06-04T03:03:44.505102Z",
     "shell.execute_reply.started": "2024-06-04T03:03:39.406035Z"
    },
    "tags": []
   },
   "outputs": [
    {
     "name": "stderr",
     "output_type": "stream",
     "text": [
      "[Stage 7:=============================>                             (1 + 1) / 2]\r"
     ]
    },
    {
     "name": "stdout",
     "output_type": "stream",
     "text": [
      "+----------+\n",
      "|      cat1|\n",
      "+----------+\n",
      "|NM00000304|\n",
      "|NM00000286|\n",
      "|NM00000146|\n",
      "|NM00000259|\n",
      "|NM00000104|\n",
      "|NM00000085|\n",
      "|NM00000036|\n",
      "|NM00000155|\n",
      "|NM00000258|\n",
      "|NM00000330|\n",
      "|NM00000295|\n",
      "|NM00000160|\n",
      "|NM00000308|\n",
      "|NM00000353|\n",
      "|NM00000274|\n",
      "|NM00000227|\n",
      "|NM00000027|\n",
      "|NM00000094|\n",
      "|NM00000065|\n",
      "|NM00000311|\n",
      "+----------+\n",
      "only showing top 20 rows\n",
      "\n"
     ]
    },
    {
     "name": "stderr",
     "output_type": "stream",
     "text": [
      "                                                                                \r"
     ]
    }
   ],
   "source": [
    "data.select('cat1').distinct().show()"
   ]
  },
  {
   "cell_type": "code",
   "execution_count": 13,
   "id": "3a850281-c1c9-4a52-9161-123e313153f3",
   "metadata": {
    "execution": {
     "iopub.execute_input": "2024-06-04T03:03:44.509682Z",
     "iopub.status.busy": "2024-06-04T03:03:44.508979Z",
     "iopub.status.idle": "2024-06-04T03:03:50.172896Z",
     "shell.execute_reply": "2024-06-04T03:03:50.171492Z",
     "shell.execute_reply.started": "2024-06-04T03:03:44.509626Z"
    },
    "tags": []
   },
   "outputs": [
    {
     "name": "stderr",
     "output_type": "stream",
     "text": [
      "[Stage 10:=============================>                            (1 + 1) / 2]\r"
     ]
    },
    {
     "name": "stdout",
     "output_type": "stream",
     "text": [
      "+-----------------------+\n",
      "|                   item|\n",
      "+-----------------------+\n",
      "|        배달의민족 구독|\n",
      "|   우주패스 패밀리 멤버|\n",
      "|   가벼운샘 500mL x 4팩|\n",
      "|        FRITZ 원두 세트|\n",
      "|         독서평설첫걸음|\n",
      "|   얼라이브 공식몰 구독|\n",
      "|        진맛과 간편과일|\n",
      "|           오뚜기밥현미|\n",
      "|          굽네치킨 구독|\n",
      "|          우주패스 핫픽|\n",
      "|           초등독서평설|\n",
      "|      가벼운샘 2L x 2팩|\n",
      "|            11pay point|\n",
      "|      가벼운샘 2L x 4팩|\n",
      "|             Google_One|\n",
      "|          SK스토아 구독|\n",
      "|탄탄한 비건 콜라겐 앰플|\n",
      "|      폴 바셋 4900 구독|\n",
      "|       Google One_100GB|\n",
      "|            B tv_Y 구독|\n",
      "+-----------------------+\n",
      "only showing top 20 rows\n",
      "\n"
     ]
    },
    {
     "name": "stderr",
     "output_type": "stream",
     "text": [
      "                                                                                \r"
     ]
    }
   ],
   "source": [
    "data.select('item').distinct().show()"
   ]
  },
  {
   "cell_type": "code",
   "execution_count": 6,
   "id": "c8a1a785-edfb-474a-af5b-3c941acc51c4",
   "metadata": {
    "execution": {
     "iopub.execute_input": "2024-06-11T06:43:23.329661Z",
     "iopub.status.busy": "2024-06-11T06:43:23.328879Z",
     "iopub.status.idle": "2024-06-11T06:43:23.340372Z",
     "shell.execute_reply": "2024-06-11T06:43:23.339681Z",
     "shell.execute_reply.started": "2024-06-11T06:43:23.329595Z"
    },
    "tags": []
   },
   "outputs": [],
   "source": [
    "def prefer_list(data, cate=\"cat1\", thre=0.7):\n",
    "    data = data.select(['svc_mgmt_num',f'{cate}']).na.drop(\"any\", subset=f'{cate}')\n",
    "    data = data.groupby('svc_mgmt_num',f'{cate}').agg(count(\"*\").alias(f'{cate}_cnt'))\n",
    "    data_user = data.groupby('svc_mgmt_num').agg(max(f'{cate}_cnt').alias(f'{cate}_max_cnt'))\n",
    "    data = data.join(data_user, on='svc_mgmt_num', how=\"left\")\n",
    "    data = data.withColumn(f'{cate}_prop', col(f'{cate}_cnt')/col(f'{cate}_max_cnt'))\n",
    "    data = data.filter(col(f'{cate}_prop') > thre)\n",
    "    \n",
    "    window_spec = Window.partitionBy(\"svc_mgmt_num\").orderBy(desc(f'{cate}_prop'))\n",
    "\n",
    "    top_keywords = data.withColumn(\"rank\", row_number().over(window_spec)) \\\n",
    "                    .filter(col(\"rank\") <= 10) \\\n",
    "                    .drop(\"rank\")\n",
    "    \n",
    "    # data = top_keywords.groupBy(\"svc_mgmt_num\").agg(collect_list(f'{cate}').alias(f'{cate}_list'))\n",
    "    data = top_keywords.groupBy(\"svc_mgmt_num\").agg(concat_ws(\", \",collect_list(f'{cate}')).alias(f'{cate}_list'))\n",
    "\n",
    "    \n",
    "    return data"
   ]
  },
  {
   "cell_type": "markdown",
   "id": "9f42b66c-971a-4961-aea6-42c4b9e31e0c",
   "metadata": {},
   "source": [
    "## subsc item level"
   ]
  },
  {
   "cell_type": "code",
   "execution_count": 7,
   "id": "551154c9-7412-46be-961e-48bbf352c631",
   "metadata": {
    "execution": {
     "iopub.execute_input": "2024-06-11T06:43:23.341423Z",
     "iopub.status.busy": "2024-06-11T06:43:23.341214Z",
     "iopub.status.idle": "2024-06-11T06:43:23.514915Z",
     "shell.execute_reply": "2024-06-11T06:43:23.513414Z",
     "shell.execute_reply.started": "2024-06-11T06:43:23.341401Z"
    },
    "tags": []
   },
   "outputs": [],
   "source": [
    "data_item = data.filter(col('dt') >= f'{DT_threshold2}')\n",
    "data_item = data_item.select(['svc_mgmt_num','item']).na.drop(\"any\", subset='item')"
   ]
  },
  {
   "cell_type": "code",
   "execution_count": 8,
   "id": "39555eec-6794-4db6-aac6-cd79e64b3904",
   "metadata": {
    "execution": {
     "iopub.execute_input": "2024-06-11T06:43:23.518764Z",
     "iopub.status.busy": "2024-06-11T06:43:23.518040Z",
     "iopub.status.idle": "2024-06-11T06:43:23.778190Z",
     "shell.execute_reply": "2024-06-11T06:43:23.776954Z",
     "shell.execute_reply.started": "2024-06-11T06:43:23.518711Z"
    },
    "tags": []
   },
   "outputs": [],
   "source": [
    "data_item1 = prefer_list(data_item, cate=\"item\", thre=0.5)"
   ]
  },
  {
   "cell_type": "markdown",
   "id": "9bac1cc4-b725-41b7-82b4-be03578e1706",
   "metadata": {},
   "source": [
    "### 전체 데이터 Merge"
   ]
  },
  {
   "cell_type": "code",
   "execution_count": 9,
   "id": "764e836c-0e2f-40d3-8758-3302adf89ead",
   "metadata": {
    "execution": {
     "iopub.execute_input": "2024-06-11T06:43:23.780660Z",
     "iopub.status.busy": "2024-06-11T06:43:23.779944Z",
     "iopub.status.idle": "2024-06-11T06:43:23.802338Z",
     "shell.execute_reply": "2024-06-11T06:43:23.801014Z",
     "shell.execute_reply.started": "2024-06-11T06:43:23.780605Z"
    },
    "tags": []
   },
   "outputs": [],
   "source": [
    "full_data = data_item1.withColumn(\"dt\", lit(DT).cast(\"date\"))"
   ]
  },
  {
   "cell_type": "code",
   "execution_count": 21,
   "id": "d03f6e9d-4b7b-4b51-83e7-0b74bdedf351",
   "metadata": {
    "execution": {
     "iopub.execute_input": "2024-06-04T04:29:39.469394Z",
     "iopub.status.busy": "2024-06-04T04:29:39.468597Z",
     "iopub.status.idle": "2024-06-04T04:29:51.324042Z",
     "shell.execute_reply": "2024-06-04T04:29:51.323078Z",
     "shell.execute_reply.started": "2024-06-04T04:29:39.469334Z"
    },
    "tags": []
   },
   "outputs": [
    {
     "name": "stderr",
     "output_type": "stream",
     "text": [
      "[Stage 23:>                                                         (0 + 1) / 1]\r"
     ]
    },
    {
     "name": "stdout",
     "output_type": "stream",
     "text": [
      "+--------------------+--------------------------------+----------+\n",
      "|        svc_mgmt_num|                       item_list|        dt|\n",
      "+--------------------+--------------------------------+----------+\n",
      "|0009ae7829db495e9...|     [배달의민족 구독, Google...|2024-06-04|\n",
      "|000f1de87158e5b82...|   [우주패스 life, 투썸플레이...|2024-06-04|\n",
      "|00123039dc03efd62...|      [Wavve 앤 데이터 구독, ...|2024-06-04|\n",
      "|00140e3c42a29ace4...|[배스킨라빈스 구독, 우주패스 ...|2024-06-04|\n",
      "|001672e82b49911b5...|        [11번가/ Amazon 혜택,...|2024-06-04|\n",
      "|00168c950dfcfb771...|[배달의민족 구독, 세븐일레븐 ...|2024-06-04|\n",
      "|00181456b77b296fe...|            [Google One 100GB...|2024-06-04|\n",
      "|0019c5b84e65f5d13...| [세븐일레븐 할인, 우주패스 l...|2024-06-04|\n",
      "|001e10bb04131d233...|              [메가MGC커피 4900]|2024-06-04|\n",
      "|002385b8cf5f0f93f...|            [Google One 100GB...|2024-06-04|\n",
      "+--------------------+--------------------------------+----------+\n",
      "only showing top 10 rows\n",
      "\n"
     ]
    },
    {
     "name": "stderr",
     "output_type": "stream",
     "text": [
      "                                                                                \r"
     ]
    }
   ],
   "source": [
    "full_data.show(n=10)"
   ]
  },
  {
   "cell_type": "code",
   "execution_count": 10,
   "id": "8809d08e-26da-4241-b8e6-78a4425c3474",
   "metadata": {
    "execution": {
     "iopub.execute_input": "2024-06-11T06:43:23.805169Z",
     "iopub.status.busy": "2024-06-11T06:43:23.804074Z",
     "iopub.status.idle": "2024-06-11T06:43:23.815371Z",
     "shell.execute_reply": "2024-06-11T06:43:23.814218Z",
     "shell.execute_reply.started": "2024-06-11T06:43:23.805113Z"
    },
    "tags": []
   },
   "outputs": [],
   "source": [
    "full_data = full_data.withColumnRenamed(\"item_list\", \"subsc_item_prefer\")"
   ]
  },
  {
   "cell_type": "code",
   "execution_count": 11,
   "id": "2d0c3a53-9d8a-4c18-a3ac-b81936dbb98f",
   "metadata": {
    "execution": {
     "iopub.execute_input": "2024-06-11T06:43:23.817228Z",
     "iopub.status.busy": "2024-06-11T06:43:23.816618Z",
     "iopub.status.idle": "2024-06-11T06:43:23.833213Z",
     "shell.execute_reply": "2024-06-11T06:43:23.832142Z",
     "shell.execute_reply.started": "2024-06-11T06:43:23.817194Z"
    },
    "tags": []
   },
   "outputs": [
    {
     "name": "stdout",
     "output_type": "stream",
     "text": [
      "root\n",
      " |-- svc_mgmt_num: string (nullable = true)\n",
      " |-- subsc_item_prefer: string (nullable = false)\n",
      " |-- dt: date (nullable = true)\n",
      "\n"
     ]
    }
   ],
   "source": [
    "full_data.printSchema()"
   ]
  },
  {
   "cell_type": "markdown",
   "id": "dba57c93-4317-4dd1-9967-7a1d0d1beeaa",
   "metadata": {},
   "source": [
    "### AIDP 저장"
   ]
  },
  {
   "cell_type": "code",
   "execution_count": 12,
   "id": "5d5e372b-523a-42e8-9441-f3aa2e832519",
   "metadata": {
    "execution": {
     "iopub.execute_input": "2024-06-11T06:43:31.331458Z",
     "iopub.status.busy": "2024-06-11T06:43:31.330603Z",
     "iopub.status.idle": "2024-06-11T06:43:31.337543Z",
     "shell.execute_reply": "2024-06-11T06:43:31.336334Z",
     "shell.execute_reply.started": "2024-06-11T06:43:31.331397Z"
    },
    "tags": []
   },
   "outputs": [],
   "source": [
    "dest_dataset = \"x1113099\"\n",
    "partitioned_dest_table = \"one_model_profile_subsc\""
   ]
  },
  {
   "cell_type": "code",
   "execution_count": 13,
   "id": "ea527d8b-3206-405e-baa6-9bed4f97a905",
   "metadata": {
    "execution": {
     "iopub.execute_input": "2024-06-11T06:43:33.210272Z",
     "iopub.status.busy": "2024-06-11T06:43:33.209392Z",
     "iopub.status.idle": "2024-06-11T06:43:34.789877Z",
     "shell.execute_reply": "2024-06-11T06:43:34.788465Z",
     "shell.execute_reply.started": "2024-06-11T06:43:33.210210Z"
    },
    "tags": []
   },
   "outputs": [
    {
     "name": "stdout",
     "output_type": "stream",
     "text": [
      "생성된 테이블 : x1113099.one_model_profile_subsc\n"
     ]
    }
   ],
   "source": [
    "get_bigquery_client().query(f\"\"\"\n",
    "    CREATE TABLE IF NOT EXISTS {dest_dataset}.{partitioned_dest_table}\n",
    "    (\n",
    "        svc_mgmt_num STRING,\n",
    "        subsc_item_prefer STRING,\n",
    "        dt DATE,\n",
    "    )\n",
    "    PARTITION BY dt\n",
    "\"\"\").result()\n",
    "\n",
    "print(f\"생성된 테이블 : {dest_dataset}.{partitioned_dest_table}\")"
   ]
  },
  {
   "cell_type": "code",
   "execution_count": 14,
   "id": "a8c06596-4aa0-4b0e-a481-08bcccd8a313",
   "metadata": {
    "execution": {
     "iopub.execute_input": "2024-06-11T06:43:34.792934Z",
     "iopub.status.busy": "2024-06-11T06:43:34.792226Z",
     "iopub.status.idle": "2024-06-11T06:44:07.858307Z",
     "shell.execute_reply": "2024-06-11T06:44:07.856982Z",
     "shell.execute_reply.started": "2024-06-11T06:43:34.792874Z"
    },
    "tags": []
   },
   "outputs": [
    {
     "name": "stderr",
     "output_type": "stream",
     "text": [
      "                                                                                \r"
     ]
    }
   ],
   "source": [
    "df_to_bq_table(df=full_data,\n",
    "               dataset=dest_dataset,\n",
    "               table_name=partitioned_dest_table,\n",
    "               mode=\"overwrite\")"
   ]
  },
  {
   "cell_type": "code",
   "execution_count": null,
   "id": "4548d578-1760-4af9-bd0c-2442d8c2f7f5",
   "metadata": {},
   "outputs": [],
   "source": []
  },
  {
   "cell_type": "code",
   "execution_count": null,
   "id": "290acaf2-baff-4eb5-b44e-b89a83e8a568",
   "metadata": {},
   "outputs": [],
   "source": []
  }
 ],
 "metadata": {
  "kernelspec": {
   "display_name": "Python 3 (ipykernel)",
   "language": "python",
   "name": "python3"
  },
  "language_info": {
   "codemirror_mode": {
    "name": "ipython",
    "version": 3
   },
   "file_extension": ".py",
   "mimetype": "text/x-python",
   "name": "python",
   "nbconvert_exporter": "python",
   "pygments_lexer": "ipython3",
   "version": "3.8.19"
  }
 },
 "nbformat": 4,
 "nbformat_minor": 5
}
