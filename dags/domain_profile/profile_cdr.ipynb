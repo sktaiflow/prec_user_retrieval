{
 "cells": [
  {
   "cell_type": "code",
   "execution_count": 1,
   "id": "afa07610-8fe8-4d61-8bfc-f93546444825",
   "metadata": {
    "execution": {
     "iopub.execute_input": "2024-06-11T06:35:21.103896Z",
     "iopub.status.busy": "2024-06-11T06:35:21.103040Z",
     "iopub.status.idle": "2024-06-11T06:35:21.115330Z",
     "shell.execute_reply": "2024-06-11T06:35:21.114353Z",
     "shell.execute_reply.started": "2024-06-11T06:35:21.103805Z"
    },
    "tags": []
   },
   "outputs": [],
   "source": [
    "# # # Parameters\n",
    "DT = \"2024-06-11\"   "
   ]
  },
  {
   "cell_type": "markdown",
   "id": "363b08fe-586b-4b37-9a98-dbee9c39d641",
   "metadata": {},
   "source": [
    "## **One Model Profile 생성 작업**"
   ]
  },
  {
   "cell_type": "markdown",
   "id": "6e8bbfe0-3d1d-41ea-b97d-3394ad548dcf",
   "metadata": {
    "execution": {
     "iopub.execute_input": "2024-06-03T23:07:29.647241Z",
     "iopub.status.busy": "2024-06-03T23:07:29.646408Z",
     "iopub.status.idle": "2024-06-03T23:07:29.655344Z",
     "shell.execute_reply": "2024-06-03T23:07:29.654108Z",
     "shell.execute_reply.started": "2024-06-03T23:07:29.647184Z"
    },
    "tags": []
   },
   "source": [
    "- 개요\n",
    "    - One Model Profile 생성 작업\n",
    "- 내용\n",
    "    - item, cat1, cat2 level로 프로파일링 작업 수행\n",
    "    - 단기 preference 정보\n",
    "        - 7일 내 item 정보를 통해서 생성\n",
    "    - 장기 preference 정보\n",
    "        - 60일 내 cat1, cat2 정보를 통해서 생성\n",
    "        - cat2가 더 상위 레벨임. 어떤 레벨로 장기 구성할지 선택 필요"
   ]
  },
  {
   "cell_type": "code",
   "execution_count": 2,
   "id": "683fb10c-f398-4690-942d-19f99dd2df12",
   "metadata": {
    "execution": {
     "iopub.execute_input": "2024-06-11T06:35:22.293718Z",
     "iopub.status.busy": "2024-06-11T06:35:22.292962Z",
     "iopub.status.idle": "2024-06-11T06:35:22.299586Z",
     "shell.execute_reply": "2024-06-11T06:35:22.298073Z",
     "shell.execute_reply.started": "2024-06-11T06:35:22.293660Z"
    },
    "tags": []
   },
   "outputs": [],
   "source": [
    "# !pip install konlpy"
   ]
  },
  {
   "cell_type": "code",
   "execution_count": 5,
   "id": "f400f032-be1d-409d-82c1-914745945958",
   "metadata": {
    "execution": {
     "iopub.execute_input": "2024-06-11T06:35:33.901564Z",
     "iopub.status.busy": "2024-06-11T06:35:33.900764Z",
     "iopub.status.idle": "2024-06-11T06:35:34.395976Z",
     "shell.execute_reply": "2024-06-11T06:35:34.395227Z",
     "shell.execute_reply.started": "2024-06-11T06:35:33.901505Z"
    },
    "tags": []
   },
   "outputs": [],
   "source": [
    "from skt.gcp import get_bigquery_client, bq_insert_overwrite, get_max_part, bq_to_df, bq_to_pandas, pandas_to_bq_table, load_query_result_to_table, df_to_bq_table\n",
    "from pyspark.sql.functions import *\n",
    "from pyspark.sql.window import Window\n",
    "from pyspark.sql.functions import row_number\n",
    "from pyspark.sql import functions as F\n",
    "from datetime import datetime, date, timedelta\n",
    "from skt.ye import get_spark\n",
    "import pandas as pd\n",
    "import re\n",
    "from sklearn.feature_extraction.text import TfidfVectorizer\n",
    "import numpy as np"
   ]
  },
  {
   "cell_type": "markdown",
   "id": "a4db68ef-3781-4d45-8e71-17a6663a83ee",
   "metadata": {},
   "source": [
    "# 프로파일 : cdr"
   ]
  },
  {
   "cell_type": "code",
   "execution_count": 6,
   "id": "a45fd9bf-f169-4975-ba44-e07781779a98",
   "metadata": {
    "execution": {
     "iopub.execute_input": "2024-06-11T06:35:34.397909Z",
     "iopub.status.busy": "2024-06-11T06:35:34.397516Z",
     "iopub.status.idle": "2024-06-11T06:35:34.403189Z",
     "shell.execute_reply": "2024-06-11T06:35:34.402583Z",
     "shell.execute_reply.started": "2024-06-11T06:35:34.397883Z"
    },
    "tags": []
   },
   "outputs": [
    {
     "name": "stdout",
     "output_type": "stream",
     "text": [
      "DT :  2024-06-11\n",
      "DT_threshold :  2024-04-12\n",
      "DT_threshold :  2024-06-04\n"
     ]
    }
   ],
   "source": [
    "# DT = \"2024-06-02\"\n",
    "current_date = datetime.strptime(DT, \"%Y-%m-%d\")\n",
    "DT_threshold1 = (current_date - timedelta(days=60)).strftime(\"%Y-%m-%d\")\n",
    "DT_threshold2 = (current_date - timedelta(days=7)).strftime(\"%Y-%m-%d\")\n",
    "\n",
    "print(\"DT : \", DT)\n",
    "print(\"DT_threshold : \", DT_threshold1)\n",
    "print(\"DT_threshold : \", DT_threshold2)"
   ]
  },
  {
   "cell_type": "code",
   "execution_count": 7,
   "id": "25132bec-03d0-44d0-b7e3-60dec430e039",
   "metadata": {
    "execution": {
     "iopub.execute_input": "2024-06-11T06:35:34.487992Z",
     "iopub.status.busy": "2024-06-11T06:35:34.487254Z",
     "iopub.status.idle": "2024-06-11T06:35:34.494052Z",
     "shell.execute_reply": "2024-06-11T06:35:34.492770Z",
     "shell.execute_reply.started": "2024-06-11T06:35:34.487935Z"
    },
    "tags": []
   },
   "outputs": [],
   "source": [
    "query = f\"\"\"\n",
    "    select *\n",
    "    from adot_reco.recgpt_log_sequence_daily_prd\n",
    "    where dt >= '{DT_threshold1}' and type = 'cdr'\n",
    "\"\"\""
   ]
  },
  {
   "cell_type": "code",
   "execution_count": 9,
   "id": "b0424344-3148-4457-bfdc-262457902153",
   "metadata": {
    "execution": {
     "iopub.execute_input": "2024-06-11T06:36:57.877824Z",
     "iopub.status.busy": "2024-06-11T06:36:57.877058Z",
     "iopub.status.idle": "2024-06-11T06:41:08.007820Z",
     "shell.execute_reply": "2024-06-11T06:41:08.006062Z",
     "shell.execute_reply.started": "2024-06-11T06:36:57.877764Z"
    },
    "tags": []
   },
   "outputs": [
    {
     "name": "stderr",
     "output_type": "stream",
     "text": [
      "Setting default log level to \"WARN\".\n",
      "To adjust logging level use sc.setLogLevel(newLevel). For SparkR, use setLogLevel(newLevel).\n",
      "24/06/11 15:40:33 WARN Client: Neither spark.yarn.jars nor spark.yarn.archive is set, falling back to uploading libraries under SPARK_HOME.\n",
      "24/06/11 15:40:56 WARN SQLConf: The SQL config 'spark.sql.execution.arrow.enabled' has been deprecated in Spark v3.0 and may be removed in the future. Use 'spark.sql.execution.arrow.pyspark.enabled' instead of it.\n"
     ]
    }
   ],
   "source": [
    "data = bq_to_df(query)"
   ]
  },
  {
   "cell_type": "code",
   "execution_count": null,
   "id": "9d553d03-fccb-45b6-ba21-e68d54afb502",
   "metadata": {
    "execution": {
     "iopub.status.busy": "2024-06-11T06:36:55.856112Z",
     "iopub.status.idle": "2024-06-11T06:36:55.856382Z",
     "shell.execute_reply": "2024-06-11T06:36:55.856258Z",
     "shell.execute_reply.started": "2024-06-11T06:36:55.856245Z"
    },
    "tags": []
   },
   "outputs": [],
   "source": [
    "data.show(n=10)"
   ]
  },
  {
   "cell_type": "code",
   "execution_count": null,
   "id": "019b630d-8706-407c-a6d9-e65d7cf22639",
   "metadata": {
    "execution": {
     "iopub.status.busy": "2024-06-11T06:36:55.856950Z",
     "iopub.status.idle": "2024-06-11T06:36:55.857181Z",
     "shell.execute_reply": "2024-06-11T06:36:55.857077Z",
     "shell.execute_reply.started": "2024-06-11T06:36:55.857066Z"
    },
    "tags": []
   },
   "outputs": [],
   "source": [
    "# data.select('cat3').distinct().show()"
   ]
  },
  {
   "cell_type": "code",
   "execution_count": null,
   "id": "9b85dc0e-8e79-40b2-bec3-2be0b2342870",
   "metadata": {
    "execution": {
     "iopub.status.busy": "2024-06-11T06:36:55.857942Z",
     "iopub.status.idle": "2024-06-11T06:36:55.858173Z",
     "shell.execute_reply": "2024-06-11T06:36:55.858071Z",
     "shell.execute_reply.started": "2024-06-11T06:36:55.858059Z"
    },
    "tags": []
   },
   "outputs": [],
   "source": [
    "# data.select('cat2').distinct().show()"
   ]
  },
  {
   "cell_type": "code",
   "execution_count": null,
   "id": "f37238e3-08cd-48a8-b8d7-ac151f123804",
   "metadata": {
    "execution": {
     "iopub.status.busy": "2024-06-11T06:36:55.859164Z",
     "iopub.status.idle": "2024-06-11T06:36:55.859399Z",
     "shell.execute_reply": "2024-06-11T06:36:55.859292Z",
     "shell.execute_reply.started": "2024-06-11T06:36:55.859280Z"
    },
    "tags": []
   },
   "outputs": [],
   "source": [
    "# data.select('cat1').distinct().show()"
   ]
  },
  {
   "cell_type": "code",
   "execution_count": null,
   "id": "3a850281-c1c9-4a52-9161-123e313153f3",
   "metadata": {
    "execution": {
     "iopub.status.busy": "2024-06-11T06:36:55.860146Z",
     "iopub.status.idle": "2024-06-11T06:36:55.860371Z",
     "shell.execute_reply": "2024-06-11T06:36:55.860270Z",
     "shell.execute_reply.started": "2024-06-11T06:36:55.860258Z"
    },
    "tags": []
   },
   "outputs": [],
   "source": [
    "data.select('item').distinct().show()"
   ]
  },
  {
   "cell_type": "code",
   "execution_count": 10,
   "id": "c8a1a785-edfb-474a-af5b-3c941acc51c4",
   "metadata": {
    "execution": {
     "iopub.execute_input": "2024-06-11T06:41:08.011711Z",
     "iopub.status.busy": "2024-06-11T06:41:08.010984Z",
     "iopub.status.idle": "2024-06-11T06:41:08.023263Z",
     "shell.execute_reply": "2024-06-11T06:41:08.022380Z",
     "shell.execute_reply.started": "2024-06-11T06:41:08.011649Z"
    },
    "tags": []
   },
   "outputs": [],
   "source": [
    "def prefer_list(data, cate=\"cat1\", thre=0.7):\n",
    "    data = data.select(['svc_mgmt_num',f'{cate}']).na.drop(\"any\", subset=f'{cate}')\n",
    "    data = data.groupby('svc_mgmt_num',f'{cate}').agg(count(\"*\").alias(f'{cate}_cnt'))\n",
    "    data_user = data.groupby('svc_mgmt_num').agg(max(f'{cate}_cnt').alias(f'{cate}_max_cnt'))\n",
    "    data = data.join(data_user, on='svc_mgmt_num', how=\"left\")\n",
    "    data = data.withColumn(f'{cate}_prop', col(f'{cate}_cnt')/col(f'{cate}_max_cnt'))\n",
    "    data = data.filter(col(f'{cate}_prop') > thre)\n",
    "    \n",
    "    window_spec = Window.partitionBy(\"svc_mgmt_num\").orderBy(desc(f'{cate}_prop'))\n",
    "\n",
    "    top_keywords = data.withColumn(\"rank\", row_number().over(window_spec)) \\\n",
    "                    .filter(col(\"rank\") <= 10) \\\n",
    "                    .drop(\"rank\")\n",
    "    # data = top_keywords.groupBy(\"svc_mgmt_num\").agg(collect_list(f'{cate}').alias(f'{cate}_list'))\n",
    "    data = top_keywords.groupBy(\"svc_mgmt_num\").agg(concat_ws(\", \",collect_list(f'{cate}')).alias(f'{cate}_list'))\n",
    "    \n",
    "    return data"
   ]
  },
  {
   "cell_type": "markdown",
   "id": "9f42b66c-971a-4961-aea6-42c4b9e31e0c",
   "metadata": {},
   "source": [
    "## cdr item level"
   ]
  },
  {
   "cell_type": "code",
   "execution_count": 11,
   "id": "551154c9-7412-46be-961e-48bbf352c631",
   "metadata": {
    "execution": {
     "iopub.execute_input": "2024-06-11T06:41:08.024285Z",
     "iopub.status.busy": "2024-06-11T06:41:08.024096Z",
     "iopub.status.idle": "2024-06-11T06:41:08.449294Z",
     "shell.execute_reply": "2024-06-11T06:41:08.447873Z",
     "shell.execute_reply.started": "2024-06-11T06:41:08.024265Z"
    },
    "tags": []
   },
   "outputs": [],
   "source": [
    "data_item = data.filter(col('dt') >= f'{DT_threshold2}')\n",
    "data_item = data_item.select(['svc_mgmt_num','item']).na.drop(\"any\", subset='item')\n",
    "data_item = prefer_list(data_item, cate=\"item\", thre=0.4)"
   ]
  },
  {
   "cell_type": "markdown",
   "id": "7baaa5d2-932c-459a-8e26-66ddc9337a8d",
   "metadata": {},
   "source": [
    "## cdr cat level\n",
    "- cat2(더 상위 카테고리) > cat1"
   ]
  },
  {
   "cell_type": "markdown",
   "id": "458d2f64-5f8c-4bb8-aa03-b560ef9b3f64",
   "metadata": {},
   "source": [
    "- cat1"
   ]
  },
  {
   "cell_type": "code",
   "execution_count": 12,
   "id": "eccf113f-f1ec-42cd-9ef5-7357b3021ca5",
   "metadata": {
    "execution": {
     "iopub.execute_input": "2024-06-11T06:41:08.453343Z",
     "iopub.status.busy": "2024-06-11T06:41:08.452625Z",
     "iopub.status.idle": "2024-06-11T06:41:08.602438Z",
     "shell.execute_reply": "2024-06-11T06:41:08.601043Z",
     "shell.execute_reply.started": "2024-06-11T06:41:08.453287Z"
    },
    "tags": []
   },
   "outputs": [],
   "source": [
    "data_cat1 = prefer_list(data, cate=\"cat1\", thre=0.5)"
   ]
  },
  {
   "cell_type": "markdown",
   "id": "31b163e1-d5d6-473f-94ee-a3c022c5f211",
   "metadata": {},
   "source": [
    "- cat2"
   ]
  },
  {
   "cell_type": "code",
   "execution_count": 13,
   "id": "674e4c7e-7e2e-4b57-adf0-95581c410f6b",
   "metadata": {
    "execution": {
     "iopub.execute_input": "2024-06-11T06:41:08.604978Z",
     "iopub.status.busy": "2024-06-11T06:41:08.604282Z",
     "iopub.status.idle": "2024-06-11T06:41:08.713660Z",
     "shell.execute_reply": "2024-06-11T06:41:08.712440Z",
     "shell.execute_reply.started": "2024-06-11T06:41:08.604923Z"
    },
    "tags": []
   },
   "outputs": [],
   "source": [
    "data_cat2 = prefer_list(data, cate=\"cat2\", thre=0.5)"
   ]
  },
  {
   "cell_type": "markdown",
   "id": "9bac1cc4-b725-41b7-82b4-be03578e1706",
   "metadata": {},
   "source": [
    "### 전체 데이터 Merge"
   ]
  },
  {
   "cell_type": "code",
   "execution_count": 14,
   "id": "7c1c5068-0366-4060-a618-0afb7714c971",
   "metadata": {
    "execution": {
     "iopub.execute_input": "2024-06-11T06:41:08.715126Z",
     "iopub.status.busy": "2024-06-11T06:41:08.714757Z",
     "iopub.status.idle": "2024-06-11T06:41:08.764352Z",
     "shell.execute_reply": "2024-06-11T06:41:08.763341Z",
     "shell.execute_reply.started": "2024-06-11T06:41:08.715103Z"
    },
    "tags": []
   },
   "outputs": [],
   "source": [
    "full_data = data_item.join(data_cat1,on=\"svc_mgmt_num\")\n",
    "full_data = full_data.join(data_cat2,on=\"svc_mgmt_num\")"
   ]
  },
  {
   "cell_type": "code",
   "execution_count": 15,
   "id": "764e836c-0e2f-40d3-8758-3302adf89ead",
   "metadata": {
    "execution": {
     "iopub.execute_input": "2024-06-11T06:41:08.765746Z",
     "iopub.status.busy": "2024-06-11T06:41:08.765424Z",
     "iopub.status.idle": "2024-06-11T06:41:08.788500Z",
     "shell.execute_reply": "2024-06-11T06:41:08.787495Z",
     "shell.execute_reply.started": "2024-06-11T06:41:08.765724Z"
    },
    "tags": []
   },
   "outputs": [],
   "source": [
    "full_data = full_data.withColumn(\"dt\", lit(DT).cast(\"date\"))"
   ]
  },
  {
   "cell_type": "code",
   "execution_count": null,
   "id": "d03f6e9d-4b7b-4b51-83e7-0b74bdedf351",
   "metadata": {
    "execution": {
     "iopub.status.busy": "2024-06-11T06:36:55.866482Z",
     "iopub.status.idle": "2024-06-11T06:36:55.866717Z",
     "shell.execute_reply": "2024-06-11T06:36:55.866608Z",
     "shell.execute_reply.started": "2024-06-11T06:36:55.866597Z"
    },
    "tags": []
   },
   "outputs": [],
   "source": [
    "# full_data.show(n=10)"
   ]
  },
  {
   "cell_type": "code",
   "execution_count": 16,
   "id": "8809d08e-26da-4241-b8e6-78a4425c3474",
   "metadata": {
    "execution": {
     "iopub.execute_input": "2024-06-11T06:41:08.790322Z",
     "iopub.status.busy": "2024-06-11T06:41:08.789880Z",
     "iopub.status.idle": "2024-06-11T06:41:08.825704Z",
     "shell.execute_reply": "2024-06-11T06:41:08.824804Z",
     "shell.execute_reply.started": "2024-06-11T06:41:08.790285Z"
    },
    "tags": []
   },
   "outputs": [],
   "source": [
    "full_data = full_data.drop('cat3_list')\n",
    "full_data = full_data.withColumnRenamed(\"item_list\", \"cdr_item_prefer\")\\\n",
    "                      .withColumnRenamed(\"cat1_list\", \"cdr_cat1_prefer\")\\\n",
    "                      .withColumnRenamed(\"cat2_list\", \"cdr_cat2_prefer\")"
   ]
  },
  {
   "cell_type": "code",
   "execution_count": 17,
   "id": "2d0c3a53-9d8a-4c18-a3ac-b81936dbb98f",
   "metadata": {
    "execution": {
     "iopub.execute_input": "2024-06-11T06:41:08.827198Z",
     "iopub.status.busy": "2024-06-11T06:41:08.826798Z",
     "iopub.status.idle": "2024-06-11T06:41:08.844194Z",
     "shell.execute_reply": "2024-06-11T06:41:08.843090Z",
     "shell.execute_reply.started": "2024-06-11T06:41:08.827170Z"
    },
    "tags": []
   },
   "outputs": [
    {
     "name": "stdout",
     "output_type": "stream",
     "text": [
      "root\n",
      " |-- svc_mgmt_num: string (nullable = true)\n",
      " |-- cdr_item_prefer: string (nullable = false)\n",
      " |-- cdr_cat1_prefer: string (nullable = false)\n",
      " |-- cdr_cat2_prefer: string (nullable = false)\n",
      " |-- dt: date (nullable = true)\n",
      "\n"
     ]
    }
   ],
   "source": [
    "full_data.printSchema()"
   ]
  },
  {
   "cell_type": "markdown",
   "id": "dba57c93-4317-4dd1-9967-7a1d0d1beeaa",
   "metadata": {},
   "source": [
    "### AIDP 저장"
   ]
  },
  {
   "cell_type": "code",
   "execution_count": 18,
   "id": "5d5e372b-523a-42e8-9441-f3aa2e832519",
   "metadata": {
    "execution": {
     "iopub.execute_input": "2024-06-11T06:41:08.847993Z",
     "iopub.status.busy": "2024-06-11T06:41:08.847429Z",
     "iopub.status.idle": "2024-06-11T06:41:08.851602Z",
     "shell.execute_reply": "2024-06-11T06:41:08.850981Z",
     "shell.execute_reply.started": "2024-06-11T06:41:08.847947Z"
    },
    "tags": []
   },
   "outputs": [],
   "source": [
    "dest_dataset = \"x1113099\"\n",
    "partitioned_dest_table = \"one_model_profile_cdr\""
   ]
  },
  {
   "cell_type": "code",
   "execution_count": 19,
   "id": "ea527d8b-3206-405e-baa6-9bed4f97a905",
   "metadata": {
    "execution": {
     "iopub.execute_input": "2024-06-11T06:41:08.853121Z",
     "iopub.status.busy": "2024-06-11T06:41:08.852754Z",
     "iopub.status.idle": "2024-06-11T06:41:11.479310Z",
     "shell.execute_reply": "2024-06-11T06:41:11.477895Z",
     "shell.execute_reply.started": "2024-06-11T06:41:08.853096Z"
    },
    "tags": []
   },
   "outputs": [
    {
     "name": "stdout",
     "output_type": "stream",
     "text": [
      "생성된 테이블 : x1113099.one_model_profile_cdr\n"
     ]
    }
   ],
   "source": [
    "get_bigquery_client().query(f\"\"\"\n",
    "    CREATE TABLE IF NOT EXISTS {dest_dataset}.{partitioned_dest_table}\n",
    "    (\n",
    "        svc_mgmt_num STRING,\n",
    "        cdr_item_prefer STRING,\n",
    "        cdr_cat1_prefer STRING,\n",
    "        cdr_cat2_prefer STRING,\n",
    "        dt DATE,\n",
    "    )\n",
    "    PARTITION BY dt\n",
    "\"\"\").result()\n",
    "\n",
    "print(f\"생성된 테이블 : {dest_dataset}.{partitioned_dest_table}\")"
   ]
  },
  {
   "cell_type": "code",
   "execution_count": 20,
   "id": "a8c06596-4aa0-4b0e-a481-08bcccd8a313",
   "metadata": {
    "execution": {
     "iopub.execute_input": "2024-06-11T06:41:11.481961Z",
     "iopub.status.busy": "2024-06-11T06:41:11.481195Z",
     "iopub.status.idle": "2024-06-11T07:01:05.168340Z",
     "shell.execute_reply": "2024-06-11T07:01:05.166883Z",
     "shell.execute_reply.started": "2024-06-11T06:41:11.481903Z"
    },
    "tags": []
   },
   "outputs": [
    {
     "name": "stderr",
     "output_type": "stream",
     "text": [
      "                                                                                \r"
     ]
    }
   ],
   "source": [
    "df_to_bq_table(df=full_data,\n",
    "               dataset=dest_dataset,\n",
    "               table_name=partitioned_dest_table,\n",
    "               mode=\"overwrite\")"
   ]
  },
  {
   "cell_type": "code",
   "execution_count": null,
   "id": "4548d578-1760-4af9-bd0c-2442d8c2f7f5",
   "metadata": {},
   "outputs": [],
   "source": []
  },
  {
   "cell_type": "code",
   "execution_count": null,
   "id": "290acaf2-baff-4eb5-b44e-b89a83e8a568",
   "metadata": {},
   "outputs": [],
   "source": []
  }
 ],
 "metadata": {
  "kernelspec": {
   "display_name": "Python 3 (ipykernel)",
   "language": "python",
   "name": "python3"
  },
  "language_info": {
   "codemirror_mode": {
    "name": "ipython",
    "version": 3
   },
   "file_extension": ".py",
   "mimetype": "text/x-python",
   "name": "python",
   "nbconvert_exporter": "python",
   "pygments_lexer": "ipython3",
   "version": "3.8.19"
  }
 },
 "nbformat": 4,
 "nbformat_minor": 5
}
