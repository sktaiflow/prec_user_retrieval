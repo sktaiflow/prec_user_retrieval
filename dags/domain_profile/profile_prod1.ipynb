{
 "cells": [
  {
   "cell_type": "code",
   "execution_count": 1,
   "id": "afa07610-8fe8-4d61-8bfc-f93546444825",
   "metadata": {
    "execution": {
     "iopub.execute_input": "2024-06-10T01:44:39.772924Z",
     "iopub.status.busy": "2024-06-10T01:44:39.772139Z",
     "iopub.status.idle": "2024-06-10T01:44:39.783641Z",
     "shell.execute_reply": "2024-06-10T01:44:39.782907Z",
     "shell.execute_reply.started": "2024-06-10T01:44:39.772865Z"
    },
    "tags": []
   },
   "outputs": [],
   "source": [
    "# # # Parameters\n",
    "DT = \"2024-06-10\"   "
   ]
  },
  {
   "cell_type": "markdown",
   "id": "363b08fe-586b-4b37-9a98-dbee9c39d641",
   "metadata": {},
   "source": [
    "## **One Model Profile 생성 작업**"
   ]
  },
  {
   "cell_type": "markdown",
   "id": "6e8bbfe0-3d1d-41ea-b97d-3394ad548dcf",
   "metadata": {
    "execution": {
     "iopub.execute_input": "2024-06-03T23:07:29.647241Z",
     "iopub.status.busy": "2024-06-03T23:07:29.646408Z",
     "iopub.status.idle": "2024-06-03T23:07:29.655344Z",
     "shell.execute_reply": "2024-06-03T23:07:29.654108Z",
     "shell.execute_reply.started": "2024-06-03T23:07:29.647184Z"
    },
    "tags": []
   },
   "source": [
    "- 개요\n",
    "    - One Model Profile 생성 작업\n",
    "- 내용\n",
    "    - item, cat1, cat2, cat3에 대한 정보 저장\n",
    "    - 이때, prod1은 가장 최신 요금제 정보를 저장"
   ]
  },
  {
   "cell_type": "code",
   "execution_count": 2,
   "id": "f400f032-be1d-409d-82c1-914745945958",
   "metadata": {
    "execution": {
     "iopub.execute_input": "2024-06-10T01:44:54.490686Z",
     "iopub.status.busy": "2024-06-10T01:44:54.489915Z",
     "iopub.status.idle": "2024-06-10T01:44:55.905075Z",
     "shell.execute_reply": "2024-06-10T01:44:55.903965Z",
     "shell.execute_reply.started": "2024-06-10T01:44:54.490628Z"
    },
    "tags": []
   },
   "outputs": [],
   "source": [
    "from skt.gcp import get_bigquery_client, bq_insert_overwrite, get_max_part, bq_to_df, bq_to_pandas, pandas_to_bq_table, load_query_result_to_table, df_to_bq_table\n",
    "from pyspark.sql.functions import *\n",
    "from pyspark.sql.window import Window\n",
    "from pyspark.sql.functions import row_number\n",
    "from pyspark.sql import functions as F\n",
    "from datetime import datetime, date, timedelta\n",
    "from skt.ye import get_spark\n",
    "import pandas as pd\n",
    "import re\n",
    "from sklearn.feature_extraction.text import TfidfVectorizer\n",
    "import numpy as np\n",
    "from pyspark.sql.functions import row_number"
   ]
  },
  {
   "cell_type": "markdown",
   "id": "a4db68ef-3781-4d45-8e71-17a6663a83ee",
   "metadata": {},
   "source": [
    "# 프로파일 : prod1"
   ]
  },
  {
   "cell_type": "code",
   "execution_count": 3,
   "id": "a45fd9bf-f169-4975-ba44-e07781779a98",
   "metadata": {
    "execution": {
     "iopub.execute_input": "2024-06-10T01:44:55.906987Z",
     "iopub.status.busy": "2024-06-10T01:44:55.906592Z",
     "iopub.status.idle": "2024-06-10T01:44:55.913325Z",
     "shell.execute_reply": "2024-06-10T01:44:55.912415Z",
     "shell.execute_reply.started": "2024-06-10T01:44:55.906963Z"
    },
    "tags": []
   },
   "outputs": [
    {
     "name": "stdout",
     "output_type": "stream",
     "text": [
      "DT :  2024-06-10\n",
      "DT_threshold :  2024-04-11\n",
      "DT_threshold :  2024-06-03\n"
     ]
    }
   ],
   "source": [
    "# DT = \"2024-06-02\"\n",
    "current_date = datetime.strptime(DT, \"%Y-%m-%d\")\n",
    "DT_threshold1 = (current_date - timedelta(days=60)).strftime(\"%Y-%m-%d\")\n",
    "DT_threshold2 = (current_date - timedelta(days=7)).strftime(\"%Y-%m-%d\")\n",
    "\n",
    "print(\"DT : \", DT)\n",
    "print(\"DT_threshold : \", DT_threshold1)\n",
    "print(\"DT_threshold : \", DT_threshold2)"
   ]
  },
  {
   "cell_type": "code",
   "execution_count": 4,
   "id": "25132bec-03d0-44d0-b7e3-60dec430e039",
   "metadata": {
    "execution": {
     "iopub.execute_input": "2024-06-10T01:44:57.370720Z",
     "iopub.status.busy": "2024-06-10T01:44:57.369868Z",
     "iopub.status.idle": "2024-06-10T01:44:57.377529Z",
     "shell.execute_reply": "2024-06-10T01:44:57.376144Z",
     "shell.execute_reply.started": "2024-06-10T01:44:57.370655Z"
    },
    "tags": []
   },
   "outputs": [],
   "source": [
    "query = f\"\"\"\n",
    "    select *\n",
    "    from adot_reco.recgpt_log_sequence_daily_prd\n",
    "    where dt >= '{DT_threshold1}' and type = 'prod1'\n",
    "\"\"\""
   ]
  },
  {
   "cell_type": "code",
   "execution_count": 5,
   "id": "b0424344-3148-4457-bfdc-262457902153",
   "metadata": {
    "execution": {
     "iopub.execute_input": "2024-06-10T01:44:57.669765Z",
     "iopub.status.busy": "2024-06-10T01:44:57.669069Z",
     "iopub.status.idle": "2024-06-10T01:46:20.458909Z",
     "shell.execute_reply": "2024-06-10T01:46:20.457871Z",
     "shell.execute_reply.started": "2024-06-10T01:44:57.669707Z"
    },
    "tags": []
   },
   "outputs": [
    {
     "name": "stderr",
     "output_type": "stream",
     "text": [
      "Setting default log level to \"WARN\".\n",
      "To adjust logging level use sc.setLogLevel(newLevel). For SparkR, use setLogLevel(newLevel).\n",
      "24/06/10 10:45:52 WARN Client: Neither spark.yarn.jars nor spark.yarn.archive is set, falling back to uploading libraries under SPARK_HOME.\n",
      "24/06/10 10:46:16 WARN SQLConf: The SQL config 'spark.sql.execution.arrow.enabled' has been deprecated in Spark v3.0 and may be removed in the future. Use 'spark.sql.execution.arrow.pyspark.enabled' instead of it.\n"
     ]
    }
   ],
   "source": [
    "data = bq_to_df(query)"
   ]
  },
  {
   "cell_type": "code",
   "execution_count": 6,
   "id": "98a30e2c-35ce-40f3-949d-e06751183143",
   "metadata": {
    "execution": {
     "iopub.execute_input": "2024-06-10T01:46:20.461109Z",
     "iopub.status.busy": "2024-06-10T01:46:20.460517Z",
     "iopub.status.idle": "2024-06-10T01:46:27.396330Z",
     "shell.execute_reply": "2024-06-10T01:46:27.395514Z",
     "shell.execute_reply.started": "2024-06-10T01:46:20.461077Z"
    },
    "tags": []
   },
   "outputs": [
    {
     "name": "stderr",
     "output_type": "stream",
     "text": [
      "[Stage 0:>                                                          (0 + 1) / 1]\r"
     ]
    },
    {
     "name": "stdout",
     "output_type": "stream",
     "text": [
      "+------+\n",
      "|  cat3|\n",
      "+------+\n",
      "|요금제|\n",
      "+------+\n",
      "\n"
     ]
    },
    {
     "name": "stderr",
     "output_type": "stream",
     "text": [
      "                                                                                \r"
     ]
    }
   ],
   "source": [
    "data.select('cat3').distinct().show()"
   ]
  },
  {
   "cell_type": "code",
   "execution_count": 7,
   "id": "9b85dc0e-8e79-40b2-bec3-2be0b2342870",
   "metadata": {
    "execution": {
     "iopub.execute_input": "2024-06-10T01:46:27.398798Z",
     "iopub.status.busy": "2024-06-10T01:46:27.397983Z",
     "iopub.status.idle": "2024-06-10T01:46:31.605073Z",
     "shell.execute_reply": "2024-06-10T01:46:31.603636Z",
     "shell.execute_reply.started": "2024-06-10T01:46:27.398738Z"
    },
    "tags": []
   },
   "outputs": [
    {
     "name": "stderr",
     "output_type": "stream",
     "text": [
      "[Stage 3:>                                                          (0 + 1) / 1]\r"
     ]
    },
    {
     "name": "stdout",
     "output_type": "stream",
     "text": [
      "+--------+\n",
      "|    cat2|\n",
      "+--------+\n",
      "|    기타|\n",
      "|  유통망|\n",
      "|고객센터|\n",
      "| T world|\n",
      "+--------+\n",
      "\n"
     ]
    },
    {
     "name": "stderr",
     "output_type": "stream",
     "text": [
      "                                                                                \r"
     ]
    }
   ],
   "source": [
    "data.select('cat2').distinct().show()"
   ]
  },
  {
   "cell_type": "code",
   "execution_count": 8,
   "id": "f37238e3-08cd-48a8-b8d7-ac151f123804",
   "metadata": {
    "execution": {
     "iopub.execute_input": "2024-06-10T01:46:31.609088Z",
     "iopub.status.busy": "2024-06-10T01:46:31.608402Z",
     "iopub.status.idle": "2024-06-10T01:46:35.789064Z",
     "shell.execute_reply": "2024-06-10T01:46:35.787465Z",
     "shell.execute_reply.started": "2024-06-10T01:46:31.609031Z"
    },
    "tags": []
   },
   "outputs": [
    {
     "name": "stderr",
     "output_type": "stream",
     "text": [
      "[Stage 6:>                                                          (0 + 1) / 1]\r"
     ]
    },
    {
     "name": "stdout",
     "output_type": "stream",
     "text": [
      "+---------------+\n",
      "|           cat1|\n",
      "+---------------+\n",
      "|다이렉트 요금제|\n",
      "|    일반 요금제|\n",
      "+---------------+\n",
      "\n"
     ]
    },
    {
     "name": "stderr",
     "output_type": "stream",
     "text": [
      "                                                                                \r"
     ]
    }
   ],
   "source": [
    "data.select('cat1').distinct().show()"
   ]
  },
  {
   "cell_type": "code",
   "execution_count": 9,
   "id": "3a850281-c1c9-4a52-9161-123e313153f3",
   "metadata": {
    "execution": {
     "iopub.execute_input": "2024-06-10T01:46:35.791796Z",
     "iopub.status.busy": "2024-06-10T01:46:35.791078Z",
     "iopub.status.idle": "2024-06-10T01:46:39.959102Z",
     "shell.execute_reply": "2024-06-10T01:46:39.957467Z",
     "shell.execute_reply.started": "2024-06-10T01:46:35.791738Z"
    },
    "tags": []
   },
   "outputs": [
    {
     "name": "stderr",
     "output_type": "stream",
     "text": [
      "[Stage 9:>                                                          (0 + 1) / 1]\r"
     ]
    },
    {
     "name": "stdout",
     "output_type": "stream",
     "text": [
      "+---------------------+\n",
      "|                 item|\n",
      "+---------------------+\n",
      "|         T끼리 어르신|\n",
      "|            0 청년 69|\n",
      "|                 슬림|\n",
      "|         5GX 플래티넘|\n",
      "|           5GX 프라임|\n",
      "|            0 청년 43|\n",
      "|            0 청년 49|\n",
      "|         0플랜 미디엄|\n",
      "|            0 청년 89|\n",
      "|       다이렉트LTE 48|\n",
      "|  베이직플러스 30GB업|\n",
      "|         T플랜 스페셜|\n",
      "|       다이렉트LTE 22|\n",
      "|         T플랜 안심4G|\n",
      "|        다이렉트5G 62|\n",
      "|  T플랜 시니어 에센스|\n",
      "|         T플랜 세이브|\n",
      "|     5GX 프라임플러스|\n",
      "|T플랜 시니어 안심2.8G|\n",
      "|            0 청년 99|\n",
      "+---------------------+\n",
      "only showing top 20 rows\n",
      "\n"
     ]
    },
    {
     "name": "stderr",
     "output_type": "stream",
     "text": [
      "                                                                                \r"
     ]
    }
   ],
   "source": [
    "data.select('item').distinct().show()"
   ]
  },
  {
   "cell_type": "code",
   "execution_count": 10,
   "id": "c8a1a785-edfb-474a-af5b-3c941acc51c4",
   "metadata": {
    "execution": {
     "iopub.execute_input": "2024-06-10T01:46:39.961760Z",
     "iopub.status.busy": "2024-06-10T01:46:39.961077Z",
     "iopub.status.idle": "2024-06-10T01:46:40.261549Z",
     "shell.execute_reply": "2024-06-10T01:46:40.260089Z",
     "shell.execute_reply.started": "2024-06-10T01:46:39.961704Z"
    },
    "tags": []
   },
   "outputs": [],
   "source": [
    "windowSpec = Window.partitionBy(\"svc_mgmt_num\").orderBy(col(\"dt\").desc())\n",
    "df_with_row_number = data.withColumn(\"row_number\", row_number().over(windowSpec))\n",
    "df_max_dt = df_with_row_number.filter(col(\"row_number\") == 1).drop(\"row_number\")"
   ]
  },
  {
   "cell_type": "code",
   "execution_count": 11,
   "id": "8d5d2a2e-c623-4441-abbf-d5121c0c33f7",
   "metadata": {
    "execution": {
     "iopub.execute_input": "2024-06-10T01:46:40.264097Z",
     "iopub.status.busy": "2024-06-10T01:46:40.263423Z",
     "iopub.status.idle": "2024-06-10T01:46:43.467216Z",
     "shell.execute_reply": "2024-06-10T01:46:43.465892Z",
     "shell.execute_reply.started": "2024-06-10T01:46:40.264041Z"
    },
    "tags": []
   },
   "outputs": [
    {
     "name": "stderr",
     "output_type": "stream",
     "text": [
      "[Stage 12:>                                                         (0 + 1) / 1]\r"
     ]
    },
    {
     "name": "stdout",
     "output_type": "stream",
     "text": [
      "+--------------------+-------------------+-----------+--------+------+--------------------+--------+----+----+----------+-----+\n",
      "|        svc_mgmt_num|               item|       cat1|    cat2|  cat3|           unix_time|second_s|etc1|etc2|        dt| type|\n",
      "+--------------------+-------------------+-----------+--------+------+--------------------+--------+----+----+----------+-----+\n",
      "|000061c4f6bec017f...|베이직플러스 13GB업|일반 요금제|  유통망|요금제|1714787755.000000000| 36000.0|null|null|2024-05-04|prod1|\n",
      "|0001562af03ef5091...|          0 청년 43|일반 요금제|  유통망|요금제|1714525806.000000000| 36000.0|null|null|2024-05-01|prod1|\n",
      "|0001e785daf87ab8e...|          0 청년 49|일반 요금제| T world|요금제|1714356563.000000000| 39600.0|null|null|2024-04-29|prod1|\n",
      "|0002da519e15825fd...|          0 청년 49|일반 요금제|  유통망|요금제|1714977414.000000000| 54000.0|null|null|2024-05-06|prod1|\n",
      "|00039af6cdedb3a8e...|       T플랜 세이브|일반 요금제|  유통망|요금제|1714532945.000000000| 43200.0|null|null|2024-05-01|prod1|\n",
      "|0005438a8e4294e58...|   5GX 레귤러플러스|일반 요금제|  유통망|요금제|1714528246.000000000| 36000.0|null|null|2024-05-01|prod1|\n",
      "|0005a9bd227d0b541...|T플랜 시니어 세이브|일반 요금제|  유통망|요금제|1714529178.000000000| 39600.0|null|null|2024-05-01|prod1|\n",
      "|0005f6d6aa3239658...|          0 청년 69|일반 요금제|고객센터|요금제|1715068533.000000000| 57600.0|null|null|2024-05-07|prod1|\n",
      "|00077c3fc76bbe411...|베이직플러스 13GB업|일반 요금제|  유통망|요금제|1716609870.000000000| 46800.0|null|null|2024-05-25|prod1|\n",
      "|0007ca6073960672e...|           베이직　|일반 요금제|  유통망|요금제|1712797971.000000000| 36000.0|null|null|2024-04-11|prod1|\n",
      "+--------------------+-------------------+-----------+--------+------+--------------------+--------+----+----+----------+-----+\n",
      "only showing top 10 rows\n",
      "\n"
     ]
    },
    {
     "name": "stderr",
     "output_type": "stream",
     "text": [
      "                                                                                \r"
     ]
    }
   ],
   "source": [
    "df_max_dt.show(n=10)"
   ]
  },
  {
   "cell_type": "code",
   "execution_count": 12,
   "id": "764e836c-0e2f-40d3-8758-3302adf89ead",
   "metadata": {
    "execution": {
     "iopub.execute_input": "2024-06-10T01:46:43.469691Z",
     "iopub.status.busy": "2024-06-10T01:46:43.469034Z",
     "iopub.status.idle": "2024-06-10T01:46:43.506500Z",
     "shell.execute_reply": "2024-06-10T01:46:43.505417Z",
     "shell.execute_reply.started": "2024-06-10T01:46:43.469633Z"
    },
    "tags": []
   },
   "outputs": [],
   "source": [
    "full_data1 = df_max_dt.select(['svc_mgmt_num','item','cat1','cat2','cat3']).withColumn(\"dt\", lit(DT).cast(\"date\"))"
   ]
  },
  {
   "cell_type": "code",
   "execution_count": 13,
   "id": "d03f6e9d-4b7b-4b51-83e7-0b74bdedf351",
   "metadata": {
    "execution": {
     "iopub.execute_input": "2024-06-10T01:46:43.508785Z",
     "iopub.status.busy": "2024-06-10T01:46:43.508147Z",
     "iopub.status.idle": "2024-06-10T01:46:45.753170Z",
     "shell.execute_reply": "2024-06-10T01:46:45.751751Z",
     "shell.execute_reply.started": "2024-06-10T01:46:43.508728Z"
    },
    "tags": []
   },
   "outputs": [
    {
     "name": "stderr",
     "output_type": "stream",
     "text": [
      "[Stage 15:>                                                         (0 + 1) / 1]\r"
     ]
    },
    {
     "name": "stdout",
     "output_type": "stream",
     "text": [
      "+--------------------+-------------------+-----------+--------+------+----------+\n",
      "|        svc_mgmt_num|               item|       cat1|    cat2|  cat3|        dt|\n",
      "+--------------------+-------------------+-----------+--------+------+----------+\n",
      "|000061c4f6bec017f...|베이직플러스 13GB업|일반 요금제|  유통망|요금제|2024-06-10|\n",
      "|0001562af03ef5091...|          0 청년 43|일반 요금제|  유통망|요금제|2024-06-10|\n",
      "|0001e785daf87ab8e...|          0 청년 49|일반 요금제| T world|요금제|2024-06-10|\n",
      "|0002da519e15825fd...|          0 청년 49|일반 요금제|  유통망|요금제|2024-06-10|\n",
      "|00039af6cdedb3a8e...|       T플랜 세이브|일반 요금제|  유통망|요금제|2024-06-10|\n",
      "|0005438a8e4294e58...|   5GX 레귤러플러스|일반 요금제|  유통망|요금제|2024-06-10|\n",
      "|0005a9bd227d0b541...|T플랜 시니어 세이브|일반 요금제|  유통망|요금제|2024-06-10|\n",
      "|0005f6d6aa3239658...|          0 청년 69|일반 요금제|고객센터|요금제|2024-06-10|\n",
      "|00077c3fc76bbe411...|베이직플러스 13GB업|일반 요금제|  유통망|요금제|2024-06-10|\n",
      "|0007ca6073960672e...|           베이직　|일반 요금제|  유통망|요금제|2024-06-10|\n",
      "+--------------------+-------------------+-----------+--------+------+----------+\n",
      "only showing top 10 rows\n",
      "\n"
     ]
    },
    {
     "name": "stderr",
     "output_type": "stream",
     "text": [
      "                                                                                \r"
     ]
    }
   ],
   "source": [
    "full_data1.show(n=10)"
   ]
  },
  {
   "cell_type": "code",
   "execution_count": 33,
   "id": "8809d08e-26da-4241-b8e6-78a4425c3474",
   "metadata": {
    "execution": {
     "iopub.execute_input": "2024-06-04T06:54:28.185012Z",
     "iopub.status.busy": "2024-06-04T06:54:28.184300Z",
     "iopub.status.idle": "2024-06-04T06:54:28.211124Z",
     "shell.execute_reply": "2024-06-04T06:54:28.209817Z",
     "shell.execute_reply.started": "2024-06-04T06:54:28.184956Z"
    },
    "tags": []
   },
   "outputs": [],
   "source": [
    "full_data1 = full_data1.withColumnRenamed(\"item\", \"prod1_item_prefer\")\\\n",
    "                        .withColumnRenamed(\"cat1\", \"prod1_cat1_prefer\")\\\n",
    "                        .withColumnRenamed(\"cat2\", \"prod1_cat2_prefer\")\\\n",
    "                        .withColumnRenamed(\"cat3\", \"prod1_cat3_prefer\")"
   ]
  },
  {
   "cell_type": "code",
   "execution_count": 34,
   "id": "2d0c3a53-9d8a-4c18-a3ac-b81936dbb98f",
   "metadata": {
    "execution": {
     "iopub.execute_input": "2024-06-04T06:54:28.470026Z",
     "iopub.status.busy": "2024-06-04T06:54:28.469586Z",
     "iopub.status.idle": "2024-06-04T06:54:28.475761Z",
     "shell.execute_reply": "2024-06-04T06:54:28.475122Z",
     "shell.execute_reply.started": "2024-06-04T06:54:28.469998Z"
    },
    "tags": []
   },
   "outputs": [
    {
     "name": "stdout",
     "output_type": "stream",
     "text": [
      "root\n",
      " |-- svc_mgmt_num: string (nullable = true)\n",
      " |-- prod1_item_prefer: string (nullable = true)\n",
      " |-- prod1_cat1_prefer: string (nullable = true)\n",
      " |-- prod1_cat2_prefer: string (nullable = true)\n",
      " |-- prod1_cat3_prefer: string (nullable = true)\n",
      " |-- dt: date (nullable = true)\n",
      "\n"
     ]
    }
   ],
   "source": [
    "full_data1.printSchema()"
   ]
  },
  {
   "cell_type": "markdown",
   "id": "dba57c93-4317-4dd1-9967-7a1d0d1beeaa",
   "metadata": {},
   "source": [
    "### AIDP 저장"
   ]
  },
  {
   "cell_type": "code",
   "execution_count": 35,
   "id": "5d5e372b-523a-42e8-9441-f3aa2e832519",
   "metadata": {
    "execution": {
     "iopub.execute_input": "2024-06-04T06:55:34.595189Z",
     "iopub.status.busy": "2024-06-04T06:55:34.594707Z",
     "iopub.status.idle": "2024-06-04T06:55:34.599558Z",
     "shell.execute_reply": "2024-06-04T06:55:34.598697Z",
     "shell.execute_reply.started": "2024-06-04T06:55:34.595155Z"
    },
    "tags": []
   },
   "outputs": [],
   "source": [
    "dest_dataset = \"x1113099\"\n",
    "partitioned_dest_table = \"one_model_profile_prod1\""
   ]
  },
  {
   "cell_type": "code",
   "execution_count": 36,
   "id": "ea527d8b-3206-405e-baa6-9bed4f97a905",
   "metadata": {
    "execution": {
     "iopub.execute_input": "2024-06-04T06:55:36.538380Z",
     "iopub.status.busy": "2024-06-04T06:55:36.537980Z",
     "iopub.status.idle": "2024-06-04T06:55:38.120781Z",
     "shell.execute_reply": "2024-06-04T06:55:38.119361Z",
     "shell.execute_reply.started": "2024-06-04T06:55:36.538356Z"
    },
    "tags": []
   },
   "outputs": [
    {
     "name": "stdout",
     "output_type": "stream",
     "text": [
      "생성된 테이블 : x1113099.one_model_profile_prod1\n"
     ]
    }
   ],
   "source": [
    "get_bigquery_client().query(f\"\"\"\n",
    "    CREATE TABLE IF NOT EXISTS {dest_dataset}.{partitioned_dest_table}\n",
    "    (\n",
    "        svc_mgmt_num STRING,\n",
    "        prod1_item_prefer STRING,\n",
    "        prod1_cat1_prefer STRING,\n",
    "        prod1_cat2_prefer STRING,\n",
    "        prod1_cat3_prefer STRING,\n",
    "        dt DATE,\n",
    "    )\n",
    "    PARTITION BY dt\n",
    "\"\"\").result()\n",
    "\n",
    "print(f\"생성된 테이블 : {dest_dataset}.{partitioned_dest_table}\")"
   ]
  },
  {
   "cell_type": "code",
   "execution_count": 37,
   "id": "a8c06596-4aa0-4b0e-a481-08bcccd8a313",
   "metadata": {
    "execution": {
     "iopub.execute_input": "2024-06-04T06:55:47.380249Z",
     "iopub.status.busy": "2024-06-04T06:55:47.379549Z",
     "iopub.status.idle": "2024-06-04T06:56:15.779655Z",
     "shell.execute_reply": "2024-06-04T06:56:15.778535Z",
     "shell.execute_reply.started": "2024-06-04T06:55:47.380192Z"
    },
    "tags": []
   },
   "outputs": [
    {
     "name": "stderr",
     "output_type": "stream",
     "text": [
      "                                                                                \r"
     ]
    }
   ],
   "source": [
    "df_to_bq_table(df=full_data1,\n",
    "               dataset=dest_dataset,\n",
    "               table_name=partitioned_dest_table,\n",
    "               mode=\"overwrite\")"
   ]
  },
  {
   "cell_type": "code",
   "execution_count": null,
   "id": "4548d578-1760-4af9-bd0c-2442d8c2f7f5",
   "metadata": {},
   "outputs": [],
   "source": []
  },
  {
   "cell_type": "code",
   "execution_count": null,
   "id": "290acaf2-baff-4eb5-b44e-b89a83e8a568",
   "metadata": {},
   "outputs": [],
   "source": []
  }
 ],
 "metadata": {
  "kernelspec": {
   "display_name": "Python 3 (ipykernel)",
   "language": "python",
   "name": "python3"
  },
  "language_info": {
   "codemirror_mode": {
    "name": "ipython",
    "version": 3
   },
   "file_extension": ".py",
   "mimetype": "text/x-python",
   "name": "python",
   "nbconvert_exporter": "python",
   "pygments_lexer": "ipython3",
   "version": "3.8.19"
  }
 },
 "nbformat": 4,
 "nbformat_minor": 5
}
