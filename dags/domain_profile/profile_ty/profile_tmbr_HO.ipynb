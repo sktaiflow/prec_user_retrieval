{
 "cells": [
  {
   "cell_type": "code",
   "execution_count": 1,
   "id": "afa07610-8fe8-4d61-8bfc-f93546444825",
   "metadata": {
    "execution": {
     "iopub.execute_input": "2024-07-19T02:02:14.444084Z",
     "iopub.status.busy": "2024-07-19T02:02:14.443385Z",
     "iopub.status.idle": "2024-07-19T02:02:14.454828Z",
     "shell.execute_reply": "2024-07-19T02:02:14.453815Z",
     "shell.execute_reply.started": "2024-07-19T02:02:14.444023Z"
    },
    "tags": []
   },
   "outputs": [],
   "source": [
    "# # # Parameters\n",
    "DT = \"2024-07-19\"   "
   ]
  },
  {
   "cell_type": "markdown",
   "id": "363b08fe-586b-4b37-9a98-dbee9c39d641",
   "metadata": {},
   "source": [
    "## **One Model Profile 생성 작업**"
   ]
  },
  {
   "cell_type": "markdown",
   "id": "6e8bbfe0-3d1d-41ea-b97d-3394ad548dcf",
   "metadata": {
    "execution": {
     "iopub.execute_input": "2024-06-03T23:07:29.647241Z",
     "iopub.status.busy": "2024-06-03T23:07:29.646408Z",
     "iopub.status.idle": "2024-06-03T23:07:29.655344Z",
     "shell.execute_reply": "2024-06-03T23:07:29.654108Z",
     "shell.execute_reply.started": "2024-06-03T23:07:29.647184Z"
    },
    "tags": []
   },
   "source": [
    "- 개요\n",
    "    - One Model Profile 생성 작업\n",
    "- 내용\n",
    "    - item, cat1, cat2 level로 프로파일링 작업 수행\n",
    "    - 단기 preference 정보\n",
    "        - 7일 내 item 정보를 통해서 생성\n",
    "        - 이때, item은 정규화 로직을 통해 추출된 단어 기반으로 최종 단어들은 추출\n",
    "    - 장기 preference 정보\n",
    "        - 60일 내 cat1, cat2 정보를 통해서 생성\n",
    "        - cat2가 더 상위 레벨임. 어떤 레벨로 장기 구성할지 선택 필요- 내용- 내용"
   ]
  },
  {
   "cell_type": "code",
   "execution_count": 2,
   "id": "f400f032-be1d-409d-82c1-914745945958",
   "metadata": {
    "execution": {
     "iopub.execute_input": "2024-07-19T02:02:15.098114Z",
     "iopub.status.busy": "2024-07-19T02:02:15.097414Z",
     "iopub.status.idle": "2024-07-19T02:02:17.575978Z",
     "shell.execute_reply": "2024-07-19T02:02:17.574786Z",
     "shell.execute_reply.started": "2024-07-19T02:02:15.098055Z"
    },
    "tags": []
   },
   "outputs": [],
   "source": [
    "from skt.gcp import get_bigquery_client, bq_insert_overwrite, get_max_part, bq_to_df, bq_to_pandas, pandas_to_bq_table, load_query_result_to_table, df_to_bq_table\n",
    "from pyspark.sql.functions import *\n",
    "from pyspark.sql.window import Window\n",
    "from pyspark.sql.functions import row_number, col, lit, count, log, exp, sum as spark_sum\n",
    "from pyspark.sql import functions as F\n",
    "from datetime import datetime, date, timedelta\n",
    "from skt.ye import get_spark\n",
    "import pandas as pd\n",
    "import re\n",
    "from sklearn.feature_extraction.text import TfidfVectorizer\n",
    "import numpy as np\n",
    "import math\n",
    "from pyspark.sql.types import DoubleType"
   ]
  },
  {
   "cell_type": "code",
   "execution_count": 29,
   "id": "833d4a36-7a7f-4587-b170-a6c3904d41ea",
   "metadata": {
    "execution": {
     "iopub.execute_input": "2024-07-19T02:21:52.958549Z",
     "iopub.status.busy": "2024-07-19T02:21:52.957334Z",
     "iopub.status.idle": "2024-07-19T02:21:52.976392Z",
     "shell.execute_reply": "2024-07-19T02:21:52.975481Z",
     "shell.execute_reply.started": "2024-07-19T02:21:52.958490Z"
    },
    "tags": []
   },
   "outputs": [],
   "source": [
    "def tmbr_extract_profile(data, thre=0.6, freq_wei = 0.6, dt_cnt = 60, col_names1='tmbr_cat1_total', col_names2='tmbr_cat2_total'):\n",
    "    #############################\n",
    "    ### 빈도기반 확률 값 계산 ###\n",
    "    #############################\n",
    "    data_freq = data.select(['svc_mgmt_num','luna_id','cat1']).na.drop(\"any\", subset='cat1')\n",
    "    data_freq = data_freq.groupby('svc_mgmt_num','luna_id','cat1').agg(count(\"*\").alias('cat1_cnt'))\n",
    "    data_freq_user = data_freq.groupby(['svc_mgmt_num','luna_id']).agg(max('cat1_cnt').alias('cat1_max_cnt'))\n",
    "    data_freq = data_freq.join(data_freq_user, on=['svc_mgmt_num','luna_id'], how=\"left\")\n",
    "    data_freq = data_freq.withColumn('cat1_prop', col('cat1_cnt')/col('cat1_max_cnt'))\n",
    "    \n",
    "    result_df = data_freq.select('svc_mgmt_num','luna_id',\"cat1\", \"cat1_prop\").dropDuplicates(['luna_id',\"cat1\"])\n",
    "    \n",
    "    ############################\n",
    "    ### IDF 기반 weight 계산 ###\n",
    "    ############################\n",
    "    data_dt_cnt = data.select(['luna_id','cat1','dt']).distinct().groupby(['luna_id','cat1']).agg(count(\"*\").alias(\"luna_cat1_cnt\"))\n",
    "    data_dt_cnt = data_dt_cnt.withColumn(\"df_weight\", 1/log(lit(dt_cnt) / col(\"luna_cat1_cnt\") + 1.0e-8))\n",
    "    data_dt_cnt = data_dt_cnt.withColumn(\"rev_df_weight\", 1.0/(1.0 + exp(-col(\"df_weight\"))))\n",
    "    \n",
    "    #### Merge ####\n",
    "    merge_data = result_df.dropna(subset=\"luna_id\").select(['luna_id','cat1','cat1_prop']).join(data_dt_cnt.select(['luna_id', 'cat1','rev_df_weight']),on=['luna_id','cat1'],how=\"left\")\n",
    "    merge_data = merge_data.withColumn('score', col('cat1_prop')*freq_wei + col('rev_df_weight')*(1-freq_wei))\n",
    "    \n",
    "    data_cat1_distinct = data_cat1.select(['cat1','cat2']).distinct()\n",
    "    merge_data = merge_data.join(data_cat1_distinct, on=\"cat1\", how=\"left\")\n",
    "    \n",
    "    window_spec = Window.partitionBy(['luna_id']).orderBy(desc('score'))\n",
    "    merge_data = merge_data.withColumn(\"rank\", row_number().over(window_spec)) \\\n",
    "                    .filter(col(\"rank\") <= 10) \\\n",
    "                    .drop(\"rank\")\n",
    "    \n",
    "    merge_data = merge_data.filter(col(\"score\") >= thre).orderBy(desc(\"score\")).groupBy(\"luna_id\").agg(concat_ws(\", \",collect_set(\"cat1\")).alias(\"cat1_list\"), concat_ws(\", \",collect_set(\"cat2\")).alias(\"cat2_list\"))\n",
    "    merge_data = merge_data.withColumnRenamed(\"cat1_list\", col_names1)\n",
    "    merge_data = merge_data.withColumnRenamed(\"cat2_list\", col_names2)\n",
    "    \n",
    "    return merge_data\n",
    "\n",
    "def calculate_days(start_date, end_date):\n",
    "    date_range = pd.date_range(start=start_date, end=end_date)\n",
    "    total_days = len(date_range)\n",
    "    weekend_days = date_range.to_series().map(lambda x: x.weekday() >= 5).sum()\n",
    "    weekday_days = total_days - weekend_days\n",
    "    return total_days, int(weekend_days), int(weekday_days)"
   ]
  },
  {
   "cell_type": "markdown",
   "id": "a4db68ef-3781-4d45-8e71-17a6663a83ee",
   "metadata": {},
   "source": [
    "# 프로파일 : tmbr"
   ]
  },
  {
   "cell_type": "code",
   "execution_count": 4,
   "id": "a45fd9bf-f169-4975-ba44-e07781779a98",
   "metadata": {
    "execution": {
     "iopub.execute_input": "2024-07-19T02:02:17.590575Z",
     "iopub.status.busy": "2024-07-19T02:02:17.590368Z",
     "iopub.status.idle": "2024-07-19T02:02:17.604800Z",
     "shell.execute_reply": "2024-07-19T02:02:17.603813Z",
     "shell.execute_reply.started": "2024-07-19T02:02:17.590553Z"
    },
    "tags": []
   },
   "outputs": [
    {
     "name": "stdout",
     "output_type": "stream",
     "text": [
      "DT :  2024-07-19\n",
      "DT_threshold :  2024-05-19\n",
      "DT_threshold :  2024-07-11\n"
     ]
    }
   ],
   "source": [
    "# DT = \"2024-06-02\"\n",
    "current_date = datetime.strptime(DT, \"%Y-%m-%d\") - timedelta(days=2)\n",
    "DT_threshold1 = (current_date - timedelta(days=59)).strftime(\"%Y-%m-%d\")\n",
    "DT_threshold2 = (current_date - timedelta(days=6)).strftime(\"%Y-%m-%d\")\n",
    "\n",
    "print(\"DT : \", DT)\n",
    "print(\"DT_threshold : \", DT_threshold1)\n",
    "print(\"DT_threshold : \", DT_threshold2)"
   ]
  },
  {
   "cell_type": "code",
   "execution_count": 5,
   "id": "c78779d6-f895-4118-ab9f-e821db8f857b",
   "metadata": {
    "execution": {
     "iopub.execute_input": "2024-07-19T02:02:17.606791Z",
     "iopub.status.busy": "2024-07-19T02:02:17.606455Z",
     "iopub.status.idle": "2024-07-19T02:02:17.618783Z",
     "shell.execute_reply": "2024-07-19T02:02:17.617868Z",
     "shell.execute_reply.started": "2024-07-19T02:02:17.606766Z"
    },
    "tags": []
   },
   "outputs": [],
   "source": [
    "total_days, weekend_days, weekday_days = calculate_days(DT_threshold1, current_date.strftime(\"%Y-%m-%d\"))"
   ]
  },
  {
   "cell_type": "code",
   "execution_count": 6,
   "id": "94dabfbb-98c6-49e2-a467-43cede77439d",
   "metadata": {
    "execution": {
     "iopub.execute_input": "2024-07-19T02:02:17.620377Z",
     "iopub.status.busy": "2024-07-19T02:02:17.619980Z",
     "iopub.status.idle": "2024-07-19T02:02:17.636603Z",
     "shell.execute_reply": "2024-07-19T02:02:17.635518Z",
     "shell.execute_reply.started": "2024-07-19T02:02:17.620344Z"
    },
    "tags": []
   },
   "outputs": [
    {
     "data": {
      "text/plain": [
       "(60, 17, 43)"
      ]
     },
     "execution_count": 6,
     "metadata": {},
     "output_type": "execute_result"
    }
   ],
   "source": [
    "total_days, weekend_days, weekday_days"
   ]
  },
  {
   "cell_type": "code",
   "execution_count": 7,
   "id": "4a3e1e90-d4f5-4fab-a14a-3fe4971eeb76",
   "metadata": {
    "execution": {
     "iopub.execute_input": "2024-07-19T02:02:17.638607Z",
     "iopub.status.busy": "2024-07-19T02:02:17.638108Z",
     "iopub.status.idle": "2024-07-19T02:02:17.649391Z",
     "shell.execute_reply": "2024-07-19T02:02:17.648035Z",
     "shell.execute_reply.started": "2024-07-19T02:02:17.638564Z"
    },
    "tags": []
   },
   "outputs": [],
   "source": [
    "query_cat1 = f\"\"\"\n",
    "    select *\n",
    "    from adot_reco_dev.tmbr_cat1_cnt\n",
    "    where dt >= '{DT_threshold1}'\n",
    "\"\"\""
   ]
  },
  {
   "cell_type": "code",
   "execution_count": 8,
   "id": "5eb902fa-7786-405e-a1ec-36887b6458e4",
   "metadata": {
    "execution": {
     "iopub.execute_input": "2024-07-19T02:02:17.651769Z",
     "iopub.status.busy": "2024-07-19T02:02:17.651160Z",
     "iopub.status.idle": "2024-07-19T02:02:56.821397Z",
     "shell.execute_reply": "2024-07-19T02:02:56.819302Z",
     "shell.execute_reply.started": "2024-07-19T02:02:17.651712Z"
    },
    "tags": []
   },
   "outputs": [
    {
     "name": "stderr",
     "output_type": "stream",
     "text": [
      "Setting default log level to \"WARN\".\n",
      "To adjust logging level use sc.setLogLevel(newLevel). For SparkR, use setLogLevel(newLevel).\n",
      "24/07/19 11:02:30 WARN Client: Neither spark.yarn.jars nor spark.yarn.archive is set, falling back to uploading libraries under SPARK_HOME.\n",
      "24/07/19 11:02:52 WARN SQLConf: The SQL config 'spark.sql.execution.arrow.enabled' has been deprecated in Spark v3.0 and may be removed in the future. Use 'spark.sql.execution.arrow.pyspark.enabled' instead of it.\n"
     ]
    }
   ],
   "source": [
    "data_cat1 = bq_to_df(query_cat1)"
   ]
  },
  {
   "cell_type": "code",
   "execution_count": 9,
   "id": "e9f4d86a-c880-4d39-9fef-20a9243f7a1a",
   "metadata": {
    "execution": {
     "iopub.execute_input": "2024-07-19T02:02:56.825407Z",
     "iopub.status.busy": "2024-07-19T02:02:56.824250Z",
     "iopub.status.idle": "2024-07-19T02:02:56.832772Z",
     "shell.execute_reply": "2024-07-19T02:02:56.831728Z",
     "shell.execute_reply.started": "2024-07-19T02:02:56.825340Z"
    },
    "tags": []
   },
   "outputs": [],
   "source": [
    "# data_cat1.show(n=10)"
   ]
  },
  {
   "cell_type": "markdown",
   "id": "abb5af39-4943-4485-a073-6496ea4e8d09",
   "metadata": {
    "tags": []
   },
   "source": [
    "## 전체, 주말, 주중(출근, 퇴근, 일과시간) 별 cat1 list 추출"
   ]
  },
  {
   "cell_type": "code",
   "execution_count": 10,
   "id": "4c8b06c9-d6f6-4b0d-88cc-aacd3d45f632",
   "metadata": {
    "execution": {
     "iopub.execute_input": "2024-07-19T02:02:56.834272Z",
     "iopub.status.busy": "2024-07-19T02:02:56.833738Z",
     "iopub.status.idle": "2024-07-19T02:02:56.843074Z",
     "shell.execute_reply": "2024-07-19T02:02:56.842152Z",
     "shell.execute_reply.started": "2024-07-19T02:02:56.834245Z"
    },
    "tags": []
   },
   "outputs": [],
   "source": [
    "# def adot_extract_profile(data, thre=0.6, ecdf_wei = 0.6, dt_cnt = 60, col_names='adot_cat1_total')\n",
    "# total_days, weekend_days, weekday_days"
   ]
  },
  {
   "cell_type": "code",
   "execution_count": 30,
   "id": "d8610c9e-6a7a-4353-92fe-5e183ba2db99",
   "metadata": {
    "execution": {
     "iopub.execute_input": "2024-07-19T02:21:56.395334Z",
     "iopub.status.busy": "2024-07-19T02:21:56.394533Z",
     "iopub.status.idle": "2024-07-19T02:21:57.171079Z",
     "shell.execute_reply": "2024-07-19T02:21:57.169810Z",
     "shell.execute_reply.started": "2024-07-19T02:21:56.395274Z"
    },
    "tags": []
   },
   "outputs": [],
   "source": [
    "total_data = tmbr_extract_profile(data_cat1, 0.6, 0.6, total_days , 'tmbr_cat1_total', 'tmbr_cat2_total')\n",
    "total_data = total_data.join(tmbr_extract_profile(data_cat1.filter(col('is_weekend')==1), 0.5, 0.6, weekend_days, 'tmbr_cat1_weekend', 'tmbr_cat2_weekend'),on=\"luna_id\",how=\"left\")\n",
    "total_data = total_data.join(tmbr_extract_profile(data_cat1.filter(col('is_weekend')==0), 0.5, 0.6, weekend_days, 'tmbr_cat1_weekday', 'tmbr_cat2_weekday'),on=\"luna_id\",how=\"left\")"
   ]
  },
  {
   "cell_type": "code",
   "execution_count": 31,
   "id": "f92ae07b-2c22-45e8-acdb-8290d7dd6e22",
   "metadata": {
    "execution": {
     "iopub.execute_input": "2024-07-19T02:21:57.175819Z",
     "iopub.status.busy": "2024-07-19T02:21:57.175130Z",
     "iopub.status.idle": "2024-07-19T02:21:57.185187Z",
     "shell.execute_reply": "2024-07-19T02:21:57.184134Z",
     "shell.execute_reply.started": "2024-07-19T02:21:57.175762Z"
    },
    "tags": []
   },
   "outputs": [
    {
     "data": {
      "text/plain": [
       "['luna_id',\n",
       " 'tmbr_cat1_total',\n",
       " 'tmbr_cat2_total',\n",
       " 'tmbr_cat1_weekend',\n",
       " 'tmbr_cat2_weekend',\n",
       " 'tmbr_cat1_weekday',\n",
       " 'tmbr_cat2_weekday']"
      ]
     },
     "execution_count": 31,
     "metadata": {},
     "output_type": "execute_result"
    }
   ],
   "source": [
    "total_data.columns"
   ]
  },
  {
   "cell_type": "code",
   "execution_count": 32,
   "id": "cae3c3db-aa5d-44a5-9e2c-4f9087125c19",
   "metadata": {
    "execution": {
     "iopub.execute_input": "2024-07-19T02:21:57.186612Z",
     "iopub.status.busy": "2024-07-19T02:21:57.186275Z",
     "iopub.status.idle": "2024-07-19T02:23:17.081619Z",
     "shell.execute_reply": "2024-07-19T02:23:17.080272Z",
     "shell.execute_reply.started": "2024-07-19T02:21:57.186587Z"
    },
    "tags": []
   },
   "outputs": [
    {
     "name": "stderr",
     "output_type": "stream",
     "text": [
      "[Stage 919:>                                                        (0 + 1) / 1]\r"
     ]
    },
    {
     "name": "stdout",
     "output_type": "stream",
     "text": [
      "+--------------------+-----------------------------+-------------------------------+-----------------+------------------------+-----------------------------+------------------------------+\n",
      "|             luna_id|              tmbr_cat1_total|                tmbr_cat2_total|tmbr_cat1_weekend|       tmbr_cat2_weekend|            tmbr_cat1_weekday|             tmbr_cat2_weekday|\n",
      "+--------------------+-----------------------------+-------------------------------+-----------------+------------------------+-----------------------------+------------------------------+\n",
      "|APL00000BJ0H4R30LSLC|                       쇼핑몰|                           쇼핑|             null|                    null|                       쇼핑몰|                          쇼핑|\n",
      "|APL00000BJ19IFQXK54W|                         영화|                 영화/공연/전시|     영화, 쇼핑몰|    쇼핑, 영화/공연/전시|                         영화|                영화/공연/전시|\n",
      "|APL00000BJ1VXU5TVOQO|               영화, 베이커리|       영화/공연/전시, 베이커리|   영화, 베이커리|영화/공연/전시, 베이커리|  영화, 온라인 쇼핑, 베이커리|쇼핑, 영화/공연/전시, 베이커리|\n",
      "|APL00000BJ3M81SBZEO0|                     베이커리|                       베이커리|         베이커리|                베이커리|                     베이커리|                      베이커리|\n",
      "|APL00000BJ3T4RRPWT1C|쇼핑몰, 온라인 쇼핑, 베이커리|                 쇼핑, 베이커리|             null|                    null|쇼핑몰, 온라인 쇼핑, 베이커리|                쇼핑, 베이커리|\n",
      "|APL00000BJ450BY2BSOW|     편의점, 쇼핑몰, 베이커리|         쇼핑, 편의점, 베이커리|           편의점|                  편의점|     편의점, 쇼핑몰, 베이커리|        쇼핑, 편의점, 베이커리|\n",
      "|APL00000BJ4VC12P1HJ4|                         카페|                카페/아이스크림|             카페|         카페/아이스크림|            온라인 쇼핑, 카페|         쇼핑, 카페/아이스크림|\n",
      "|APL00000BJ7880KK6QKG|                     베이커리|                       베이커리|             null|                    null|                     베이커리|                      베이커리|\n",
      "|APL00000BJAN9OTD7W8W|     패밀리레스토랑, 베이커리|                 외식, 베이커리|   패밀리레스토랑|                    외식|                     베이커리|                      베이커리|\n",
      "|APL00000BJAR2M2YC8HS|                   영화, 카페|영화/공연/전시, 카페/아이스크림|             카페|         카페/아이스크림|                         영화|                영화/공연/전시|\n",
      "+--------------------+-----------------------------+-------------------------------+-----------------+------------------------+-----------------------------+------------------------------+\n",
      "only showing top 10 rows\n",
      "\n"
     ]
    },
    {
     "name": "stderr",
     "output_type": "stream",
     "text": [
      "                                                                                \r"
     ]
    }
   ],
   "source": [
    "total_data.show(n=10)"
   ]
  },
  {
   "cell_type": "code",
   "execution_count": null,
   "id": "0338bcef-1fef-429e-b54d-dc6887f54a3c",
   "metadata": {},
   "outputs": [],
   "source": []
  },
  {
   "cell_type": "markdown",
   "id": "a5f60d72-1e21-438f-af74-bc94f148e0d8",
   "metadata": {},
   "source": [
    "## Profile text 화"
   ]
  },
  {
   "cell_type": "code",
   "execution_count": 33,
   "id": "adf62a0d-b291-43f7-a8c5-3940fc6f9e1a",
   "metadata": {
    "execution": {
     "iopub.execute_input": "2024-07-19T02:23:17.084992Z",
     "iopub.status.busy": "2024-07-19T02:23:17.084423Z",
     "iopub.status.idle": "2024-07-19T02:23:17.089717Z",
     "shell.execute_reply": "2024-07-19T02:23:17.088607Z",
     "shell.execute_reply.started": "2024-07-19T02:23:17.084941Z"
    },
    "tags": []
   },
   "outputs": [],
   "source": [
    "# profile_template = bq_to_pandas(\"select * from adot_reco_dev.profile_template\")"
   ]
  },
  {
   "cell_type": "code",
   "execution_count": 34,
   "id": "a2e7f20b-f1dc-4a7b-bc18-c4448305dd7d",
   "metadata": {
    "execution": {
     "iopub.execute_input": "2024-07-19T02:23:17.091802Z",
     "iopub.status.busy": "2024-07-19T02:23:17.091201Z",
     "iopub.status.idle": "2024-07-19T02:23:17.101507Z",
     "shell.execute_reply": "2024-07-19T02:23:17.100634Z",
     "shell.execute_reply.started": "2024-07-19T02:23:17.091746Z"
    },
    "tags": []
   },
   "outputs": [],
   "source": [
    "# template = list(profile_template[profile_template['source_domain']==\"xtr\"].template)[0]"
   ]
  },
  {
   "cell_type": "code",
   "execution_count": 35,
   "id": "34373334-69aa-45b0-bb9f-3cf1dc3af3a6",
   "metadata": {
    "execution": {
     "iopub.execute_input": "2024-07-19T02:23:17.102856Z",
     "iopub.status.busy": "2024-07-19T02:23:17.102498Z",
     "iopub.status.idle": "2024-07-19T02:23:17.144376Z",
     "shell.execute_reply": "2024-07-19T02:23:17.143133Z",
     "shell.execute_reply.started": "2024-07-19T02:23:17.102817Z"
    },
    "tags": []
   },
   "outputs": [],
   "source": [
    "# template = list(profile_template[profile_template['source_domain']==\"xtr\"].template)[0]\n",
    "template = \"저는 SKT 멤버십 할인 혜택 중 {cat1_profile} 관련 혜택을 주로 사용했어요.\"\n",
    "\n",
    "def profile_text(tmbr_cat1):\n",
    "    return template.format(cat1_profile=tmbr_cat1)\n",
    "\n",
    "profile_text_udf = udf(profile_text, StringType())\n",
    "total_data = total_data.withColumn(\"tmbr_profile\", profile_text_udf(total_data[\"tmbr_cat1_total\"]))"
   ]
  },
  {
   "cell_type": "code",
   "execution_count": 36,
   "id": "d7c38cdd-5f7e-4387-ad29-580e591f30f6",
   "metadata": {
    "execution": {
     "iopub.execute_input": "2024-07-19T02:23:17.146665Z",
     "iopub.status.busy": "2024-07-19T02:23:17.146051Z",
     "iopub.status.idle": "2024-07-19T02:23:17.155077Z",
     "shell.execute_reply": "2024-07-19T02:23:17.153794Z",
     "shell.execute_reply.started": "2024-07-19T02:23:17.146609Z"
    },
    "tags": []
   },
   "outputs": [
    {
     "data": {
      "text/plain": [
       "['luna_id',\n",
       " 'tmbr_cat1_total',\n",
       " 'tmbr_cat2_total',\n",
       " 'tmbr_cat1_weekend',\n",
       " 'tmbr_cat2_weekend',\n",
       " 'tmbr_cat1_weekday',\n",
       " 'tmbr_cat2_weekday',\n",
       " 'tmbr_profile']"
      ]
     },
     "execution_count": 36,
     "metadata": {},
     "output_type": "execute_result"
    }
   ],
   "source": [
    "total_data.columns"
   ]
  },
  {
   "cell_type": "code",
   "execution_count": 37,
   "id": "32d55475-fd73-407e-91e1-6115140999d9",
   "metadata": {
    "execution": {
     "iopub.execute_input": "2024-07-19T02:23:17.158888Z",
     "iopub.status.busy": "2024-07-19T02:23:17.158262Z",
     "iopub.status.idle": "2024-07-19T02:24:37.177040Z",
     "shell.execute_reply": "2024-07-19T02:24:37.175601Z",
     "shell.execute_reply.started": "2024-07-19T02:23:17.158810Z"
    },
    "tags": []
   },
   "outputs": [
    {
     "name": "stderr",
     "output_type": "stream",
     "text": [
      "[Stage 1103:>                                                       (0 + 1) / 1]\r"
     ]
    },
    {
     "name": "stdout",
     "output_type": "stream",
     "text": [
      "+--------------------+-----------------------------+-------------------------------+-----------------+------------------------+-----------------------------+------------------------------+-----------------------------+\n",
      "|             luna_id|              tmbr_cat1_total|                tmbr_cat2_total|tmbr_cat1_weekend|       tmbr_cat2_weekend|            tmbr_cat1_weekday|             tmbr_cat2_weekday|                 tmbr_profile|\n",
      "+--------------------+-----------------------------+-------------------------------+-----------------+------------------------+-----------------------------+------------------------------+-----------------------------+\n",
      "|APL00000BJ0H4R30LSLC|                       쇼핑몰|                           쇼핑|             null|                    null|                       쇼핑몰|                          쇼핑|저는 SKT 멤버십 할인 혜택 ...|\n",
      "|APL00000BJ19IFQXK54W|                         영화|                 영화/공연/전시|     영화, 쇼핑몰|    쇼핑, 영화/공연/전시|                         영화|                영화/공연/전시|저는 SKT 멤버십 할인 혜택 ...|\n",
      "|APL00000BJ1VXU5TVOQO|               영화, 베이커리|       영화/공연/전시, 베이커리|   영화, 베이커리|영화/공연/전시, 베이커리|  영화, 온라인 쇼핑, 베이커리|쇼핑, 영화/공연/전시, 베이커리|저는 SKT 멤버십 할인 혜택 ...|\n",
      "|APL00000BJ3M81SBZEO0|                     베이커리|                       베이커리|         베이커리|                베이커리|                     베이커리|                      베이커리|저는 SKT 멤버십 할인 혜택 ...|\n",
      "|APL00000BJ3T4RRPWT1C|쇼핑몰, 온라인 쇼핑, 베이커리|                 쇼핑, 베이커리|             null|                    null|쇼핑몰, 온라인 쇼핑, 베이커리|                쇼핑, 베이커리|저는 SKT 멤버십 할인 혜택 ...|\n",
      "|APL00000BJ450BY2BSOW|     편의점, 쇼핑몰, 베이커리|         쇼핑, 편의점, 베이커리|           편의점|                  편의점|     편의점, 쇼핑몰, 베이커리|        쇼핑, 편의점, 베이커리|저는 SKT 멤버십 할인 혜택 ...|\n",
      "|APL00000BJ4VC12P1HJ4|                         카페|                카페/아이스크림|             카페|         카페/아이스크림|            온라인 쇼핑, 카페|         쇼핑, 카페/아이스크림|저는 SKT 멤버십 할인 혜택 ...|\n",
      "|APL00000BJ7880KK6QKG|                     베이커리|                       베이커리|             null|                    null|                     베이커리|                      베이커리|저는 SKT 멤버십 할인 혜택 ...|\n",
      "|APL00000BJAN9OTD7W8W|     패밀리레스토랑, 베이커리|                 외식, 베이커리|   패밀리레스토랑|                    외식|                     베이커리|                      베이커리|저는 SKT 멤버십 할인 혜택 ...|\n",
      "|APL00000BJAR2M2YC8HS|                   영화, 카페|영화/공연/전시, 카페/아이스크림|             카페|         카페/아이스크림|                         영화|                영화/공연/전시|저는 SKT 멤버십 할인 혜택 ...|\n",
      "+--------------------+-----------------------------+-------------------------------+-----------------+------------------------+-----------------------------+------------------------------+-----------------------------+\n",
      "only showing top 10 rows\n",
      "\n"
     ]
    },
    {
     "name": "stderr",
     "output_type": "stream",
     "text": [
      "                                                                                \r"
     ]
    }
   ],
   "source": [
    "total_data.show(n=10)"
   ]
  },
  {
   "cell_type": "code",
   "execution_count": null,
   "id": "0d369dd5-2b66-4297-8a2a-918e7a25566e",
   "metadata": {},
   "outputs": [],
   "source": []
  },
  {
   "cell_type": "code",
   "execution_count": null,
   "id": "232a3639-a2ef-4f0d-b656-458d7250e8b7",
   "metadata": {},
   "outputs": [],
   "source": []
  },
  {
   "cell_type": "code",
   "execution_count": null,
   "id": "0b8834a5-f899-41c0-b114-25f46e077ec4",
   "metadata": {},
   "outputs": [],
   "source": []
  },
  {
   "cell_type": "markdown",
   "id": "1c246162-6f43-4f53-a288-9a8137fca784",
   "metadata": {},
   "source": [
    "### AIDP 저장"
   ]
  },
  {
   "cell_type": "code",
   "execution_count": 38,
   "id": "bb1b5e4f-4313-494f-8759-0b94aeeb4bc6",
   "metadata": {
    "execution": {
     "iopub.execute_input": "2024-07-19T02:24:37.179553Z",
     "iopub.status.busy": "2024-07-19T02:24:37.178885Z",
     "iopub.status.idle": "2024-07-19T02:24:37.185130Z",
     "shell.execute_reply": "2024-07-19T02:24:37.184200Z",
     "shell.execute_reply.started": "2024-07-19T02:24:37.179496Z"
    },
    "tags": []
   },
   "outputs": [],
   "source": [
    "dest_dataset = \"x1113099\"\n",
    "partitioned_dest_table = \"user_retrieval_profile_tmbr_text\""
   ]
  },
  {
   "cell_type": "code",
   "execution_count": 39,
   "id": "eb39d93a-b48d-49a4-862f-ecb160f56644",
   "metadata": {
    "execution": {
     "iopub.execute_input": "2024-07-19T02:24:37.186385Z",
     "iopub.status.busy": "2024-07-19T02:24:37.186122Z",
     "iopub.status.idle": "2024-07-19T02:24:38.938425Z",
     "shell.execute_reply": "2024-07-19T02:24:38.937017Z",
     "shell.execute_reply.started": "2024-07-19T02:24:37.186357Z"
    },
    "tags": []
   },
   "outputs": [
    {
     "name": "stdout",
     "output_type": "stream",
     "text": [
      "생성된 테이블 : x1113099.user_retrieval_profile_tmbr_text\n"
     ]
    }
   ],
   "source": [
    "get_bigquery_client().query(f\"\"\"\n",
    "    CREATE TABLE IF NOT EXISTS {dest_dataset}.{partitioned_dest_table}\n",
    "    (\n",
    "        luna_id STRING,\n",
    "        tmbr_cat1_total STRING,\n",
    "        tmbr_cat2_total STRING,\n",
    "        tmbr_cat1_weekend STRING,\n",
    "        tmbr_cat2_weekend STRING,\n",
    "        tmbr_cat1_weekday STRING,\n",
    "        tmbr_cat2_weekday STRING,\n",
    "        tmbr_profile STRING\n",
    "    )\n",
    "\"\"\").result()\n",
    "\n",
    "print(f\"생성된 테이블 : {dest_dataset}.{partitioned_dest_table}\")"
   ]
  },
  {
   "cell_type": "code",
   "execution_count": 40,
   "id": "9087dbc1-a338-45f5-bc0a-1a0346cf3a4f",
   "metadata": {
    "execution": {
     "iopub.execute_input": "2024-07-19T02:24:38.940871Z",
     "iopub.status.busy": "2024-07-19T02:24:38.940196Z",
     "iopub.status.idle": "2024-07-19T02:26:18.150952Z",
     "shell.execute_reply": "2024-07-19T02:26:18.149573Z",
     "shell.execute_reply.started": "2024-07-19T02:24:38.940803Z"
    },
    "tags": []
   },
   "outputs": [
    {
     "name": "stderr",
     "output_type": "stream",
     "text": [
      "                                                                                \r"
     ]
    }
   ],
   "source": [
    "df_to_bq_table(df=total_data,\n",
    "               dataset=dest_dataset,\n",
    "               table_name=partitioned_dest_table,\n",
    "               mode=\"overwrite\")"
   ]
  },
  {
   "cell_type": "code",
   "execution_count": null,
   "id": "5fe41eed-65be-4490-ba12-5f76d5abeed7",
   "metadata": {},
   "outputs": [],
   "source": []
  },
  {
   "cell_type": "code",
   "execution_count": null,
   "id": "dbaee90e-5037-4179-8457-8d556336d095",
   "metadata": {},
   "outputs": [],
   "source": []
  }
 ],
 "metadata": {
  "kernelspec": {
   "display_name": "Python 3 (ipykernel)",
   "language": "python",
   "name": "python3"
  },
  "language_info": {
   "codemirror_mode": {
    "name": "ipython",
    "version": 3
   },
   "file_extension": ".py",
   "mimetype": "text/x-python",
   "name": "python",
   "nbconvert_exporter": "python",
   "pygments_lexer": "ipython3",
   "version": "3.8.19"
  }
 },
 "nbformat": 4,
 "nbformat_minor": 5
}
