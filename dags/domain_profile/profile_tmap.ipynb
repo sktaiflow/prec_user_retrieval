{
 "cells": [
  {
   "cell_type": "code",
   "execution_count": 17,
   "id": "afa07610-8fe8-4d61-8bfc-f93546444825",
   "metadata": {
    "execution": {
     "iopub.execute_input": "2024-06-11T14:17:08.370144Z",
     "iopub.status.busy": "2024-06-11T14:17:08.369305Z",
     "iopub.status.idle": "2024-06-11T14:17:08.377744Z",
     "shell.execute_reply": "2024-06-11T14:17:08.376416Z",
     "shell.execute_reply.started": "2024-06-11T14:17:08.370076Z"
    },
    "tags": []
   },
   "outputs": [],
   "source": [
    "# # # Parameters\n",
    "DT = \"2024-06-11\"   "
   ]
  },
  {
   "cell_type": "markdown",
   "id": "363b08fe-586b-4b37-9a98-dbee9c39d641",
   "metadata": {},
   "source": [
    "## **One Model Profile 생성 작업**"
   ]
  },
  {
   "cell_type": "markdown",
   "id": "6e8bbfe0-3d1d-41ea-b97d-3394ad548dcf",
   "metadata": {
    "execution": {
     "iopub.execute_input": "2024-06-03T23:07:29.647241Z",
     "iopub.status.busy": "2024-06-03T23:07:29.646408Z",
     "iopub.status.idle": "2024-06-03T23:07:29.655344Z",
     "shell.execute_reply": "2024-06-03T23:07:29.654108Z",
     "shell.execute_reply.started": "2024-06-03T23:07:29.647184Z"
    },
    "tags": []
   },
   "source": [
    "- 개요\n",
    "    - One Model Profile 생성 작업\n",
    "- 내용\n",
    "    - item, cat1, cat2 level로 프로파일링 작업 수행\n",
    "    - 단기 preference 정보\n",
    "        - 7일 내 item 정보를 통해서 생성\n",
    "    - 장기 preference 정보\n",
    "        - 60일 내 cat1, cat2 정보를 통해서 생성\n",
    "        - cat2가 더 상위 레벨임. 어떤 레벨로 장기 구성할지 선택 필요"
   ]
  },
  {
   "cell_type": "code",
   "execution_count": 18,
   "id": "f400f032-be1d-409d-82c1-914745945958",
   "metadata": {
    "execution": {
     "iopub.execute_input": "2024-06-11T14:17:08.821566Z",
     "iopub.status.busy": "2024-06-11T14:17:08.820811Z",
     "iopub.status.idle": "2024-06-11T14:17:08.831052Z",
     "shell.execute_reply": "2024-06-11T14:17:08.829982Z",
     "shell.execute_reply.started": "2024-06-11T14:17:08.821507Z"
    },
    "tags": []
   },
   "outputs": [],
   "source": [
    "from skt.gcp import get_bigquery_client, bq_insert_overwrite, get_max_part, bq_to_df, bq_to_pandas, pandas_to_bq_table, load_query_result_to_table, df_to_bq_table\n",
    "from pyspark.sql.functions import *\n",
    "from pyspark.sql.window import Window\n",
    "from pyspark.sql.functions import row_number\n",
    "from pyspark.sql import functions as F\n",
    "from datetime import datetime, date, timedelta\n",
    "from skt.ye import get_spark\n",
    "import pandas as pd\n",
    "import re\n",
    "from sklearn.feature_extraction.text import TfidfVectorizer\n",
    "import numpy as np"
   ]
  },
  {
   "cell_type": "markdown",
   "id": "a4db68ef-3781-4d45-8e71-17a6663a83ee",
   "metadata": {},
   "source": [
    "# 프로파일 : tmap"
   ]
  },
  {
   "cell_type": "code",
   "execution_count": 19,
   "id": "a45fd9bf-f169-4975-ba44-e07781779a98",
   "metadata": {
    "execution": {
     "iopub.execute_input": "2024-06-11T14:17:09.131781Z",
     "iopub.status.busy": "2024-06-11T14:17:09.131032Z",
     "iopub.status.idle": "2024-06-11T14:17:09.140606Z",
     "shell.execute_reply": "2024-06-11T14:17:09.139648Z",
     "shell.execute_reply.started": "2024-06-11T14:17:09.131723Z"
    },
    "tags": []
   },
   "outputs": [
    {
     "name": "stdout",
     "output_type": "stream",
     "text": [
      "DT :  2024-06-11\n",
      "DT_threshold :  2024-04-12\n",
      "DT_threshold :  2024-06-04\n"
     ]
    }
   ],
   "source": [
    "# DT = \"2024-06-02\"\n",
    "current_date = datetime.strptime(DT, \"%Y-%m-%d\")\n",
    "DT_threshold1 = (current_date - timedelta(days=60)).strftime(\"%Y-%m-%d\")\n",
    "DT_threshold2 = (current_date - timedelta(days=7)).strftime(\"%Y-%m-%d\")\n",
    "\n",
    "print(\"DT : \", DT)\n",
    "print(\"DT_threshold : \", DT_threshold1)\n",
    "print(\"DT_threshold : \", DT_threshold2)"
   ]
  },
  {
   "cell_type": "code",
   "execution_count": 20,
   "id": "25132bec-03d0-44d0-b7e3-60dec430e039",
   "metadata": {
    "execution": {
     "iopub.execute_input": "2024-06-11T14:17:09.280198Z",
     "iopub.status.busy": "2024-06-11T14:17:09.279421Z",
     "iopub.status.idle": "2024-06-11T14:17:09.285703Z",
     "shell.execute_reply": "2024-06-11T14:17:09.284521Z",
     "shell.execute_reply.started": "2024-06-11T14:17:09.280136Z"
    },
    "tags": []
   },
   "outputs": [],
   "source": [
    "query = f\"\"\"\n",
    "    select *\n",
    "    from adot_reco.recgpt_log_sequence_daily_prd\n",
    "    where dt >= '{DT_threshold1}' and type = 'tmap'\n",
    "\"\"\""
   ]
  },
  {
   "cell_type": "code",
   "execution_count": 21,
   "id": "b0424344-3148-4457-bfdc-262457902153",
   "metadata": {
    "execution": {
     "iopub.execute_input": "2024-06-11T14:17:09.432021Z",
     "iopub.status.busy": "2024-06-11T14:17:09.431342Z",
     "iopub.status.idle": "2024-06-11T14:17:55.303313Z",
     "shell.execute_reply": "2024-06-11T14:17:55.301922Z",
     "shell.execute_reply.started": "2024-06-11T14:17:09.431963Z"
    },
    "tags": []
   },
   "outputs": [
    {
     "name": "stderr",
     "output_type": "stream",
     "text": [
      "24/06/11 23:17:54 WARN SQLConf: The SQL config 'spark.sql.execution.arrow.enabled' has been deprecated in Spark v3.0 and may be removed in the future. Use 'spark.sql.execution.arrow.pyspark.enabled' instead of it.\n"
     ]
    }
   ],
   "source": [
    "data = bq_to_df(query)"
   ]
  },
  {
   "cell_type": "code",
   "execution_count": 22,
   "id": "9d553d03-fccb-45b6-ba21-e68d54afb502",
   "metadata": {
    "execution": {
     "iopub.execute_input": "2024-06-11T14:17:55.306588Z",
     "iopub.status.busy": "2024-06-11T14:17:55.305683Z",
     "iopub.status.idle": "2024-06-11T14:17:56.583959Z",
     "shell.execute_reply": "2024-06-11T14:17:56.582603Z",
     "shell.execute_reply.started": "2024-06-11T14:17:55.306528Z"
    },
    "tags": []
   },
   "outputs": [
    {
     "name": "stdout",
     "output_type": "stream",
     "text": [
      "+--------------------+------+----+----+----+--------------------+--------+----+----+----------+----+\n",
      "|        svc_mgmt_num|  item|cat1|cat2|cat3|           unix_time|second_s|etc1|etc2|        dt|type|\n",
      "+--------------------+------+----+----+----+--------------------+--------+----+----+----------+----+\n",
      "|3b9c9ad074f565d9e...| D.I.Y|가구|쇼핑|null|1714032276.000000000|   61476|null|null|2024-04-25|tmap|\n",
      "|c88672cabec36d5b3...|이케아|가구|쇼핑|null|1716253321.000000000|   36121|null|null|2024-05-21|tmap|\n",
      "|3408cfa2572c73d9b...|이케아|가구|쇼핑|null|1716269311.000000000|   52111|null|null|2024-05-21|tmap|\n",
      "|a404393781e4c743f...|이케아|가구|쇼핑|null|1716251758.000000000|   34558|null|null|2024-05-21|tmap|\n",
      "|41c3030e5336caad6...|이케아|가구|쇼핑|null|1713060274.000000000|   39874|null|null|2024-04-14|tmap|\n",
      "|6b33e9c42f92916d1...|이케아|가구|쇼핑|null|1713068544.000000000|   48144|null|null|2024-04-14|tmap|\n",
      "|243475c726fa363fd...|이케아|가구|쇼핑|null|1713075967.000000000|   55567|null|null|2024-04-14|tmap|\n",
      "|540a34ba046298e0d...|이케아|가구|쇼핑|null|1713076833.000000000|   56433|null|null|2024-04-14|tmap|\n",
      "|431199032869c7b9f...|이케아|가구|쇼핑|null|1713056043.000000000|   35643|null|null|2024-04-14|tmap|\n",
      "|8640f34431fb6b762...|이케아|가구|쇼핑|null|1713056301.000000000|   35901|null|null|2024-04-14|tmap|\n",
      "+--------------------+------+----+----+----+--------------------+--------+----+----+----------+----+\n",
      "only showing top 10 rows\n",
      "\n"
     ]
    }
   ],
   "source": [
    "data.show(n=10)"
   ]
  },
  {
   "cell_type": "code",
   "execution_count": 23,
   "id": "8908ed5c-d628-4687-b84d-54728a928771",
   "metadata": {
    "execution": {
     "iopub.execute_input": "2024-06-11T14:17:56.586424Z",
     "iopub.status.busy": "2024-06-11T14:17:56.585718Z",
     "iopub.status.idle": "2024-06-11T14:18:04.896486Z",
     "shell.execute_reply": "2024-06-11T14:18:04.895205Z",
     "shell.execute_reply.started": "2024-06-11T14:17:56.586368Z"
    },
    "tags": []
   },
   "outputs": [
    {
     "name": "stderr",
     "output_type": "stream",
     "text": [
      "[Stage 23:=======================================================>(64 + 1) / 65]\r"
     ]
    },
    {
     "name": "stdout",
     "output_type": "stream",
     "text": [
      "+----+\n",
      "|cat3|\n",
      "+----+\n",
      "|null|\n",
      "+----+\n",
      "\n"
     ]
    },
    {
     "name": "stderr",
     "output_type": "stream",
     "text": [
      "                                                                                \r"
     ]
    }
   ],
   "source": [
    "data.select('cat3').distinct().show()"
   ]
  },
  {
   "cell_type": "code",
   "execution_count": 24,
   "id": "9b85dc0e-8e79-40b2-bec3-2be0b2342870",
   "metadata": {
    "execution": {
     "iopub.execute_input": "2024-06-11T14:18:04.900685Z",
     "iopub.status.busy": "2024-06-11T14:18:04.899974Z",
     "iopub.status.idle": "2024-06-11T14:18:30.598478Z",
     "shell.execute_reply": "2024-06-11T14:18:30.597186Z",
     "shell.execute_reply.started": "2024-06-11T14:18:04.900628Z"
    },
    "tags": []
   },
   "outputs": [
    {
     "name": "stderr",
     "output_type": "stream",
     "text": [
      "[Stage 26:======================================================> (63 + 2) / 65]\r"
     ]
    },
    {
     "name": "stdout",
     "output_type": "stream",
     "text": [
      "+---------+\n",
      "|     cat2|\n",
      "+---------+\n",
      "| 금융편의|\n",
      "| 의료편의|\n",
      "| 교통편의|\n",
      "|여행/레저|\n",
      "| 공공편의|\n",
      "| 생활편의|\n",
      "|건물/시설|\n",
      "|     쇼핑|\n",
      "|      AOI|\n",
      "|기업/단체|\n",
      "|     배경|\n",
      "+---------+\n",
      "\n"
     ]
    },
    {
     "name": "stderr",
     "output_type": "stream",
     "text": [
      "                                                                                \r"
     ]
    }
   ],
   "source": [
    "data.select('cat2').distinct().show()"
   ]
  },
  {
   "cell_type": "code",
   "execution_count": 25,
   "id": "f37238e3-08cd-48a8-b8d7-ac151f123804",
   "metadata": {
    "execution": {
     "iopub.execute_input": "2024-06-11T14:18:30.600944Z",
     "iopub.status.busy": "2024-06-11T14:18:30.600281Z",
     "iopub.status.idle": "2024-06-11T14:18:55.333526Z",
     "shell.execute_reply": "2024-06-11T14:18:55.332057Z",
     "shell.execute_reply.started": "2024-06-11T14:18:30.600887Z"
    },
    "tags": []
   },
   "outputs": [
    {
     "name": "stderr",
     "output_type": "stream",
     "text": [
      "[Stage 29:=======================================================>(64 + 1) / 65]\r"
     ]
    },
    {
     "name": "stdout",
     "output_type": "stream",
     "text": [
      "+--------------+\n",
      "|          cat1|\n",
      "+--------------+\n",
      "|  의료편의기타|\n",
      "|  교통편의기타|\n",
      "| 여행/레저기타|\n",
      "|      의료시설|\n",
      "|          숙박|\n",
      "|      가정의례|\n",
      "|   레저/스포츠|\n",
      "|  공공편의기타|\n",
      "|      관광명소|\n",
      "|      건축관련|\n",
      "|장애인편의시설|\n",
      "|          카페|\n",
      "|        살거리|\n",
      "|    생활서비스|\n",
      "|    대형유통점|\n",
      "|  금융편의기타|\n",
      "|      언론기관|\n",
      "|      공공시설|\n",
      "|      산업시설|\n",
      "|  구역내시설물|\n",
      "+--------------+\n",
      "only showing top 20 rows\n",
      "\n"
     ]
    },
    {
     "name": "stderr",
     "output_type": "stream",
     "text": [
      "                                                                                \r"
     ]
    }
   ],
   "source": [
    "data.select('cat1').distinct().show()"
   ]
  },
  {
   "cell_type": "code",
   "execution_count": 26,
   "id": "3a850281-c1c9-4a52-9161-123e313153f3",
   "metadata": {
    "execution": {
     "iopub.execute_input": "2024-06-11T14:18:55.336026Z",
     "iopub.status.busy": "2024-06-11T14:18:55.335398Z",
     "iopub.status.idle": "2024-06-11T14:19:18.914494Z",
     "shell.execute_reply": "2024-06-11T14:19:18.913183Z",
     "shell.execute_reply.started": "2024-06-11T14:18:55.335970Z"
    },
    "tags": []
   },
   "outputs": [
    {
     "name": "stderr",
     "output_type": "stream",
     "text": [
      "[Stage 32:=======================================================>(64 + 1) / 65]\r"
     ]
    },
    {
     "name": "stdout",
     "output_type": "stream",
     "text": [
      "+-------------------+\n",
      "|               item|\n",
      "+-------------------+\n",
      "|        제2금융기타|\n",
      "|           사회단체|\n",
      "|               악기|\n",
      "|       건강진단센터|\n",
      "|   엔터테인먼트기타|\n",
      "|         경영자단체|\n",
      "|               금호|\n",
      "|       자동차검사소|\n",
      "|           조명기구|\n",
      "|             남성복|\n",
      "|               법원|\n",
      "|             방송사|\n",
      "|   정부출연연구기관|\n",
      "|       의료편의기타|\n",
      "|       건축관련기타|\n",
      "|       교통편의기타|\n",
      "|농/수/축/임협출장소|\n",
      "|               낚시|\n",
      "|               연극|\n",
      "|               연금|\n",
      "+-------------------+\n",
      "only showing top 20 rows\n",
      "\n"
     ]
    },
    {
     "name": "stderr",
     "output_type": "stream",
     "text": [
      "                                                                                \r"
     ]
    }
   ],
   "source": [
    "data.select('item').distinct().show()"
   ]
  },
  {
   "cell_type": "code",
   "execution_count": 27,
   "id": "c8a1a785-edfb-474a-af5b-3c941acc51c4",
   "metadata": {
    "execution": {
     "iopub.execute_input": "2024-06-11T14:19:18.916111Z",
     "iopub.status.busy": "2024-06-11T14:19:18.915836Z",
     "iopub.status.idle": "2024-06-11T14:19:18.923053Z",
     "shell.execute_reply": "2024-06-11T14:19:18.922210Z",
     "shell.execute_reply.started": "2024-06-11T14:19:18.916086Z"
    },
    "tags": []
   },
   "outputs": [],
   "source": [
    "def prefer_list(data, cate=\"cat1\", thre=0.7):\n",
    "    data = data.select(['svc_mgmt_num',f'{cate}']).na.drop(\"any\", subset=f'{cate}')\n",
    "    data = data.groupby('svc_mgmt_num',f'{cate}').agg(count(\"*\").alias(f'{cate}_cnt'))\n",
    "    data_user = data.groupby('svc_mgmt_num').agg(max(f'{cate}_cnt').alias(f'{cate}_max_cnt'))\n",
    "    data = data.join(data_user, on='svc_mgmt_num', how=\"left\")\n",
    "    data = data.withColumn(f'{cate}_prop', col(f'{cate}_cnt')/col(f'{cate}_max_cnt'))\n",
    "    data = data.filter(col(f'{cate}_prop') > thre)\n",
    "    \n",
    "    window_spec = Window.partitionBy(\"svc_mgmt_num\").orderBy(desc(f'{cate}_prop'))\n",
    "\n",
    "    top_keywords = data.withColumn(\"rank\", row_number().over(window_spec)) \\\n",
    "                    .filter(col(\"rank\") <= 10) \\\n",
    "                    .drop(\"rank\")\n",
    "    \n",
    "    data = top_keywords.groupBy(\"svc_mgmt_num\").agg(concat_ws(\", \",collect_list(f'{cate}')).alias(f'{cate}_list'))\n",
    "    \n",
    "    return data"
   ]
  },
  {
   "cell_type": "markdown",
   "id": "9f42b66c-971a-4961-aea6-42c4b9e31e0c",
   "metadata": {},
   "source": [
    "## tmap item level"
   ]
  },
  {
   "cell_type": "code",
   "execution_count": 28,
   "id": "551154c9-7412-46be-961e-48bbf352c631",
   "metadata": {
    "execution": {
     "iopub.execute_input": "2024-06-11T14:19:18.924076Z",
     "iopub.status.busy": "2024-06-11T14:19:18.923885Z",
     "iopub.status.idle": "2024-06-11T14:19:19.093223Z",
     "shell.execute_reply": "2024-06-11T14:19:19.091892Z",
     "shell.execute_reply.started": "2024-06-11T14:19:18.924055Z"
    },
    "tags": []
   },
   "outputs": [],
   "source": [
    "data_item = data.filter(col('dt') >= f'{DT_threshold2}')\n",
    "data_item = data_item.select(['svc_mgmt_num','item']).na.drop(\"any\", subset='item')\n",
    "data_item = prefer_list(data_item, cate=\"item\", thre=0.5)"
   ]
  },
  {
   "cell_type": "code",
   "execution_count": 29,
   "id": "e3aac534-4b6d-43e0-ab1b-77d70c7afa9a",
   "metadata": {
    "execution": {
     "iopub.execute_input": "2024-06-11T14:19:19.095682Z",
     "iopub.status.busy": "2024-06-11T14:19:19.095097Z",
     "iopub.status.idle": "2024-06-11T14:19:19.103522Z",
     "shell.execute_reply": "2024-06-11T14:19:19.102456Z",
     "shell.execute_reply.started": "2024-06-11T14:19:19.095636Z"
    },
    "tags": []
   },
   "outputs": [
    {
     "data": {
      "text/plain": [
       "['svc_mgmt_num', 'item_list']"
      ]
     },
     "execution_count": 29,
     "metadata": {},
     "output_type": "execute_result"
    }
   ],
   "source": [
    "data_item.columns"
   ]
  },
  {
   "cell_type": "markdown",
   "id": "7baaa5d2-932c-459a-8e26-66ddc9337a8d",
   "metadata": {},
   "source": [
    "## tmap cat level\n",
    "- cat2(더 상위 카테고리) > cat1"
   ]
  },
  {
   "cell_type": "markdown",
   "id": "458d2f64-5f8c-4bb8-aa03-b560ef9b3f64",
   "metadata": {},
   "source": [
    "- cat1"
   ]
  },
  {
   "cell_type": "code",
   "execution_count": 30,
   "id": "eccf113f-f1ec-42cd-9ef5-7357b3021ca5",
   "metadata": {
    "execution": {
     "iopub.execute_input": "2024-06-11T14:19:19.106834Z",
     "iopub.status.busy": "2024-06-11T14:19:19.106251Z",
     "iopub.status.idle": "2024-06-11T14:19:19.198105Z",
     "shell.execute_reply": "2024-06-11T14:19:19.196774Z",
     "shell.execute_reply.started": "2024-06-11T14:19:19.106808Z"
    },
    "tags": []
   },
   "outputs": [],
   "source": [
    "data_cat1 = prefer_list(data, cate=\"cat1\", thre=0.6)"
   ]
  },
  {
   "cell_type": "markdown",
   "id": "31b163e1-d5d6-473f-94ee-a3c022c5f211",
   "metadata": {},
   "source": [
    "- cat2"
   ]
  },
  {
   "cell_type": "code",
   "execution_count": 31,
   "id": "674e4c7e-7e2e-4b57-adf0-95581c410f6b",
   "metadata": {
    "execution": {
     "iopub.execute_input": "2024-06-11T14:19:19.200554Z",
     "iopub.status.busy": "2024-06-11T14:19:19.199762Z",
     "iopub.status.idle": "2024-06-11T14:19:19.281878Z",
     "shell.execute_reply": "2024-06-11T14:19:19.280684Z",
     "shell.execute_reply.started": "2024-06-11T14:19:19.200504Z"
    },
    "tags": []
   },
   "outputs": [],
   "source": [
    "data_cat2 = prefer_list(data, cate=\"cat2\", thre=0.6)"
   ]
  },
  {
   "cell_type": "markdown",
   "id": "9bac1cc4-b725-41b7-82b4-be03578e1706",
   "metadata": {},
   "source": [
    "### 전체 데이터 Merge"
   ]
  },
  {
   "cell_type": "code",
   "execution_count": 32,
   "id": "7c1c5068-0366-4060-a618-0afb7714c971",
   "metadata": {
    "execution": {
     "iopub.execute_input": "2024-06-11T14:19:19.284140Z",
     "iopub.status.busy": "2024-06-11T14:19:19.283532Z",
     "iopub.status.idle": "2024-06-11T14:19:19.325758Z",
     "shell.execute_reply": "2024-06-11T14:19:19.324724Z",
     "shell.execute_reply.started": "2024-06-11T14:19:19.284084Z"
    },
    "tags": []
   },
   "outputs": [],
   "source": [
    "full_data = data_item.join(data_cat1,on=\"svc_mgmt_num\")\n",
    "full_data = full_data.join(data_cat2,on=\"svc_mgmt_num\")\n",
    "full_data = full_data.withColumn(\"dt\", lit(DT).cast(\"date\"))"
   ]
  },
  {
   "cell_type": "code",
   "execution_count": 33,
   "id": "d03f6e9d-4b7b-4b51-83e7-0b74bdedf351",
   "metadata": {
    "execution": {
     "iopub.execute_input": "2024-06-11T14:19:19.328039Z",
     "iopub.status.busy": "2024-06-11T14:19:19.327382Z",
     "iopub.status.idle": "2024-06-11T14:25:30.370202Z",
     "shell.execute_reply": "2024-06-11T14:25:30.368658Z",
     "shell.execute_reply.started": "2024-06-11T14:19:19.327982Z"
    },
    "tags": []
   },
   "outputs": [
    {
     "name": "stderr",
     "output_type": "stream",
     "text": [
      "[Stage 56:>                                                         (0 + 1) / 1]\r"
     ]
    },
    {
     "name": "stdout",
     "output_type": "stream",
     "text": [
      "+--------------------+-------------------+-----------------------------------+------------------+----------+\n",
      "|        svc_mgmt_num|          item_list|                          cat1_list|         cat2_list|        dt|\n",
      "+--------------------+-------------------+-----------------------------------+------------------+----------+\n",
      "|000dfdda25bce18c3...|성당시설,중고품기타|     슈퍼/마트,종교,중고품,관광명소|              쇼핑|2024-06-11|\n",
      "|00103359a02e1bceb...|           정비센터|업종별기업,대형유통점,전기/가정용품|    쇼핑,기업/단체|2024-06-11|\n",
      "|0014b1175b9c9b917...|   섬,중식,쇼핑센터|                          슈퍼/마트|              쇼핑|2024-06-11|\n",
      "|00197086be4d7002d...|           행정기관|           의료시설,음식점,교육기관| 생활편의,공공편의|2024-06-11|\n",
      "|001a1b1cf350562bc...|             도서관|                             음식점|          생활편의|2024-06-11|\n",
      "|001b57774a8240d1f...|             납골당|                        음식점,숙박|여행/레저,생활편의|2024-06-11|\n",
      "|001e7e48d5d667209...|    현대아울렛,약국|                             음식점|          생활편의|2024-06-11|\n",
      "|001e8102fb08e9a28...|     패밀리레스토랑|                             음식점|          생활편의|2024-06-11|\n",
      "|0021c5184eebf70d0...|           유아교육|                           교육기관| 공공편의,생활편의|2024-06-11|\n",
      "|0021f8e4a37c7dbfb...|               헬스|                 레저/스포츠,음식점|생활편의,여행/레저|2024-06-11|\n",
      "+--------------------+-------------------+-----------------------------------+------------------+----------+\n",
      "only showing top 10 rows\n",
      "\n"
     ]
    },
    {
     "name": "stderr",
     "output_type": "stream",
     "text": [
      "                                                                                \r"
     ]
    }
   ],
   "source": [
    "full_data.show(n=10)"
   ]
  },
  {
   "cell_type": "code",
   "execution_count": 34,
   "id": "8809d08e-26da-4241-b8e6-78a4425c3474",
   "metadata": {
    "execution": {
     "iopub.execute_input": "2024-06-11T14:25:30.372797Z",
     "iopub.status.busy": "2024-06-11T14:25:30.372169Z",
     "iopub.status.idle": "2024-06-11T14:25:30.395578Z",
     "shell.execute_reply": "2024-06-11T14:25:30.394207Z",
     "shell.execute_reply.started": "2024-06-11T14:25:30.372747Z"
    },
    "tags": []
   },
   "outputs": [],
   "source": [
    "full_data = full_data.withColumnRenamed(\"item_list\", \"tmap_item_prefer\")\\\n",
    "                     .withColumnRenamed(\"cat1_list\", \"tmap_cat1_prefer\")\\\n",
    "                     .withColumnRenamed(\"cat2_list\", \"tmap_cat2_prefer\")"
   ]
  },
  {
   "cell_type": "code",
   "execution_count": 35,
   "id": "2d0c3a53-9d8a-4c18-a3ac-b81936dbb98f",
   "metadata": {
    "execution": {
     "iopub.execute_input": "2024-06-11T14:25:30.398092Z",
     "iopub.status.busy": "2024-06-11T14:25:30.397430Z",
     "iopub.status.idle": "2024-06-11T14:25:30.404560Z",
     "shell.execute_reply": "2024-06-11T14:25:30.403547Z",
     "shell.execute_reply.started": "2024-06-11T14:25:30.398033Z"
    },
    "tags": []
   },
   "outputs": [
    {
     "name": "stdout",
     "output_type": "stream",
     "text": [
      "root\n",
      " |-- svc_mgmt_num: string (nullable = true)\n",
      " |-- tmap_item_prefer: string (nullable = false)\n",
      " |-- tmap_cat1_prefer: string (nullable = false)\n",
      " |-- tmap_cat2_prefer: string (nullable = false)\n",
      " |-- dt: date (nullable = true)\n",
      "\n"
     ]
    }
   ],
   "source": [
    "full_data.printSchema()"
   ]
  },
  {
   "cell_type": "markdown",
   "id": "dba57c93-4317-4dd1-9967-7a1d0d1beeaa",
   "metadata": {},
   "source": [
    "### AIDP 저장"
   ]
  },
  {
   "cell_type": "code",
   "execution_count": 36,
   "id": "5d5e372b-523a-42e8-9441-f3aa2e832519",
   "metadata": {
    "execution": {
     "iopub.execute_input": "2024-06-11T14:25:30.405914Z",
     "iopub.status.busy": "2024-06-11T14:25:30.405618Z",
     "iopub.status.idle": "2024-06-11T14:25:30.417233Z",
     "shell.execute_reply": "2024-06-11T14:25:30.416126Z",
     "shell.execute_reply.started": "2024-06-11T14:25:30.405883Z"
    },
    "tags": []
   },
   "outputs": [],
   "source": [
    "dest_dataset = \"x1113099\"\n",
    "partitioned_dest_table = \"one_model_profile_tmap\""
   ]
  },
  {
   "cell_type": "code",
   "execution_count": 37,
   "id": "ea527d8b-3206-405e-baa6-9bed4f97a905",
   "metadata": {
    "execution": {
     "iopub.execute_input": "2024-06-11T14:25:30.418455Z",
     "iopub.status.busy": "2024-06-11T14:25:30.418190Z",
     "iopub.status.idle": "2024-06-11T14:25:32.465518Z",
     "shell.execute_reply": "2024-06-11T14:25:32.464303Z",
     "shell.execute_reply.started": "2024-06-11T14:25:30.418426Z"
    },
    "tags": []
   },
   "outputs": [
    {
     "name": "stdout",
     "output_type": "stream",
     "text": [
      "생성된 테이블 : x1113099.one_model_profile_tmap\n"
     ]
    }
   ],
   "source": [
    "get_bigquery_client().query(f\"\"\"\n",
    "    CREATE TABLE IF NOT EXISTS {dest_dataset}.{partitioned_dest_table}\n",
    "    (\n",
    "        svc_mgmt_num STRING,\n",
    "        tmap_item_prefer STRING,\n",
    "        tmap_cat1_prefer STRING,\n",
    "        tmap_cat2_prefer STRING,\n",
    "        dt DATE,\n",
    "    )\n",
    "    PARTITION BY dt\n",
    "\"\"\").result()\n",
    "\n",
    "print(f\"생성된 테이블 : {dest_dataset}.{partitioned_dest_table}\")"
   ]
  },
  {
   "cell_type": "code",
   "execution_count": 38,
   "id": "a8c06596-4aa0-4b0e-a481-08bcccd8a313",
   "metadata": {
    "execution": {
     "iopub.execute_input": "2024-06-11T14:25:32.467639Z",
     "iopub.status.busy": "2024-06-11T14:25:32.467031Z",
     "iopub.status.idle": "2024-06-11T14:34:08.623965Z",
     "shell.execute_reply": "2024-06-11T14:34:08.621731Z",
     "shell.execute_reply.started": "2024-06-11T14:25:32.467581Z"
    },
    "tags": []
   },
   "outputs": [
    {
     "name": "stderr",
     "output_type": "stream",
     "text": [
      "24/06/12 08:39:22 WARN JavaUtils: Attempt to delete using native Unix OS command failed for path = /tmp/blockmgr-391429e9-de11-45f9-93f5-2e26fa5f5899. Falling back to Java IO way\n",
      "java.io.IOException: Failed to delete: /tmp/blockmgr-391429e9-de11-45f9-93f5-2e26fa5f5899\n",
      "\tat org.apache.spark.network.util.JavaUtils.deleteRecursivelyUsingUnixNative(JavaUtils.java:171)\n",
      "\tat org.apache.spark.network.util.JavaUtils.deleteRecursively(JavaUtils.java:110)\n",
      "\tat org.apache.spark.network.util.JavaUtils.deleteRecursively(JavaUtils.java:91)\n",
      "\tat org.apache.spark.util.Utils$.deleteRecursively(Utils.scala:1193)\n",
      "\tat org.apache.spark.storage.DiskBlockManager.$anonfun$doStop$1(DiskBlockManager.scala:318)\n",
      "\tat org.apache.spark.storage.DiskBlockManager.$anonfun$doStop$1$adapted(DiskBlockManager.scala:314)\n",
      "\tat scala.collection.IndexedSeqOptimized.foreach(IndexedSeqOptimized.scala:36)\n",
      "\tat scala.collection.IndexedSeqOptimized.foreach$(IndexedSeqOptimized.scala:33)\n",
      "\tat scala.collection.mutable.ArrayOps$ofRef.foreach(ArrayOps.scala:198)\n",
      "\tat org.apache.spark.storage.DiskBlockManager.doStop(DiskBlockManager.scala:314)\n",
      "\tat org.apache.spark.storage.DiskBlockManager.stop(DiskBlockManager.scala:309)\n",
      "\tat org.apache.spark.storage.BlockManager.stop(BlockManager.scala:2013)\n",
      "\tat org.apache.spark.SparkEnv.stop(SparkEnv.scala:92)\n",
      "\tat org.apache.spark.SparkContext.$anonfun$stop$23(SparkContext.scala:2136)\n",
      "\tat org.apache.spark.util.Utils$.tryLogNonFatalError(Utils.scala:1471)\n",
      "\tat org.apache.spark.SparkContext.stop(SparkContext.scala:2136)\n",
      "\tat org.apache.spark.SparkContext.$anonfun$new$38(SparkContext.scala:677)\n",
      "\tat org.apache.spark.util.SparkShutdownHook.run(ShutdownHookManager.scala:214)\n",
      "\tat org.apache.spark.util.SparkShutdownHookManager.$anonfun$runAll$2(ShutdownHookManager.scala:188)\n",
      "\tat scala.runtime.java8.JFunction0$mcV$sp.apply(JFunction0$mcV$sp.java:23)\n",
      "\tat org.apache.spark.util.Utils$.logUncaughtExceptions(Utils.scala:2048)\n",
      "\tat org.apache.spark.util.SparkShutdownHookManager.$anonfun$runAll$1(ShutdownHookManager.scala:188)\n",
      "\tat scala.runtime.java8.JFunction0$mcV$sp.apply(JFunction0$mcV$sp.java:23)\n",
      "\tat scala.util.Try$.apply(Try.scala:213)\n",
      "\tat org.apache.spark.util.SparkShutdownHookManager.runAll(ShutdownHookManager.scala:188)\n",
      "\tat org.apache.spark.util.SparkShutdownHookManager$$anon$2.run(ShutdownHookManager.scala:178)\n",
      "\tat java.util.concurrent.Executors$RunnableAdapter.call(Executors.java:511)\n",
      "\tat java.util.concurrent.FutureTask.run(FutureTask.java:266)\n",
      "\tat java.util.concurrent.ThreadPoolExecutor.runWorker(ThreadPoolExecutor.java:1149)\n",
      "\tat java.util.concurrent.ThreadPoolExecutor$Worker.run(ThreadPoolExecutor.java:624)\n",
      "\tat java.lang.Thread.run(Thread.java:750)\n"
     ]
    }
   ],
   "source": [
    "df_to_bq_table(df=full_data,\n",
    "               dataset=dest_dataset,\n",
    "               table_name=partitioned_dest_table,\n",
    "               mode=\"overwrite\")"
   ]
  },
  {
   "cell_type": "code",
   "execution_count": null,
   "id": "4548d578-1760-4af9-bd0c-2442d8c2f7f5",
   "metadata": {},
   "outputs": [],
   "source": []
  },
  {
   "cell_type": "code",
   "execution_count": null,
   "id": "290acaf2-baff-4eb5-b44e-b89a83e8a568",
   "metadata": {},
   "outputs": [],
   "source": []
  }
 ],
 "metadata": {
  "kernelspec": {
   "display_name": "Python 3 (ipykernel)",
   "language": "python",
   "name": "python3"
  },
  "language_info": {
   "codemirror_mode": {
    "name": "ipython",
    "version": 3
   },
   "file_extension": ".py",
   "mimetype": "text/x-python",
   "name": "python",
   "nbconvert_exporter": "python",
   "pygments_lexer": "ipython3",
   "version": "3.8.19"
  }
 },
 "nbformat": 4,
 "nbformat_minor": 5
}
