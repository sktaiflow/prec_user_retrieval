{
 "cells": [
  {
   "cell_type": "code",
   "execution_count": 1,
   "id": "34e8fb42-4a33-4eb1-a81a-e4346ccbca0d",
   "metadata": {
    "execution": {
     "iopub.execute_input": "2024-06-18T06:29:04.264795Z",
     "iopub.status.busy": "2024-06-18T06:29:04.264188Z",
     "iopub.status.idle": "2024-06-18T06:29:04.275957Z",
     "shell.execute_reply": "2024-06-18T06:29:04.275009Z",
     "shell.execute_reply.started": "2024-06-18T06:29:04.264737Z"
    },
    "tags": []
   },
   "outputs": [],
   "source": [
    "# # # Parameters\n",
    "DT = \"2024-06-17\"   "
   ]
  },
  {
   "cell_type": "code",
   "execution_count": 2,
   "id": "b32e7bcc-24bc-469b-9797-12700bf09003",
   "metadata": {
    "execution": {
     "iopub.execute_input": "2024-06-18T06:29:04.516041Z",
     "iopub.status.busy": "2024-06-18T06:29:04.515354Z",
     "iopub.status.idle": "2024-06-18T06:29:09.807992Z",
     "shell.execute_reply": "2024-06-18T06:29:09.806863Z",
     "shell.execute_reply.started": "2024-06-18T06:29:04.515984Z"
    },
    "tags": []
   },
   "outputs": [],
   "source": [
    "from skt.gcp import bq_to_df, get_bigquery_client, df_to_bq_table\n",
    "from pyspark.sql.functions import pandas_udf, udf, split, explode, collect_list, col, concat_ws, lit\n",
    "from pyspark.sql.types import StringType\n",
    "import pandas as pd\n",
    "from datetime import datetime, date, timedelta"
   ]
  },
  {
   "cell_type": "code",
   "execution_count": 3,
   "id": "33018765-b847-4176-a21b-952b4e6f1adf",
   "metadata": {
    "execution": {
     "iopub.execute_input": "2024-06-18T06:29:09.810970Z",
     "iopub.status.busy": "2024-06-18T06:29:09.809899Z",
     "iopub.status.idle": "2024-06-18T06:29:09.820579Z",
     "shell.execute_reply": "2024-06-18T06:29:09.819467Z",
     "shell.execute_reply.started": "2024-06-18T06:29:09.810902Z"
    },
    "tags": []
   },
   "outputs": [
    {
     "name": "stdout",
     "output_type": "stream",
     "text": [
      "DT :  2024-06-17\n",
      "DT_threshold :  2024-05-18\n",
      "DT_threshold :  2024-06-10\n"
     ]
    }
   ],
   "source": [
    "# DT = \"2024-06-02\"\n",
    "current_date = datetime.strptime(DT, \"%Y-%m-%d\")\n",
    "DT_threshold1 = (current_date - timedelta(days=30)).strftime(\"%Y-%m-%d\")\n",
    "DT_threshold2 = (current_date - timedelta(days=7)).strftime(\"%Y-%m-%d\")\n",
    "\n",
    "print(\"DT : \", DT)\n",
    "print(\"DT_threshold : \", DT_threshold1)\n",
    "print(\"DT_threshold : \", DT_threshold2)"
   ]
  },
  {
   "cell_type": "markdown",
   "id": "857abede-2450-4b21-b597-551c357c2dbf",
   "metadata": {},
   "source": [
    "## Adot user 한정해서 Table 생성 후 각 도메인 별 Text화 작업 수행"
   ]
  },
  {
   "cell_type": "markdown",
   "id": "7b52365d-c8c3-4610-ad0a-d8e69ac3cc48",
   "metadata": {},
   "source": [
    "### (1) Adot 제외한 도메인 TEXT 화"
   ]
  },
  {
   "cell_type": "code",
   "execution_count": 4,
   "id": "befe8eb6-1eda-46a2-b11a-de1a4d2756e7",
   "metadata": {
    "execution": {
     "iopub.execute_input": "2024-06-18T06:29:09.822918Z",
     "iopub.status.busy": "2024-06-18T06:29:09.822216Z",
     "iopub.status.idle": "2024-06-18T06:29:49.863915Z",
     "shell.execute_reply": "2024-06-18T06:29:49.862701Z",
     "shell.execute_reply.started": "2024-06-18T06:29:09.822873Z"
    },
    "tags": []
   },
   "outputs": [
    {
     "name": "stderr",
     "output_type": "stream",
     "text": [
      "Setting default log level to \"WARN\".\n",
      "To adjust logging level use sc.setLogLevel(newLevel). For SparkR, use setLogLevel(newLevel).\n",
      "24/06/18 15:29:23 WARN Client: Neither spark.yarn.jars nor spark.yarn.archive is set, falling back to uploading libraries under SPARK_HOME.\n",
      "24/06/18 15:29:45 WARN SQLConf: The SQL config 'spark.sql.execution.arrow.enabled' has been deprecated in Spark v3.0 and may be removed in the future. Use 'spark.sql.execution.arrow.pyspark.enabled' instead of it.\n"
     ]
    }
   ],
   "source": [
    "total_data = bq_to_df(\"\"\"\n",
    "    WITH\n",
    "    \n",
    "    adot_user_data AS (\n",
    "        SELECT distinct svc_mgmt_num,\n",
    "                        luna_id,\n",
    "                        ci,\n",
    "                        gender,\n",
    "                        age\n",
    "        FROM (\n",
    "            SELECT * \n",
    "            FROM x1112904.adot_agr_meta_daily\n",
    "            WHERE dt = (SELECT max(dt) FROM x1112904.adot_agr_meta_daily)\n",
    "            AND status IS NULL\n",
    "            \n",
    "            UNION DISTINCT\n",
    "            SELECT *\n",
    "            FROM x1112904.adot_agr_meta_daily\n",
    "            WHERE dt = (SELECT max(dt) FROM x1112904.adot_agr_meta_daily)\n",
    "            AND status = 'NORMAL'\n",
    "        )\n",
    "        WHERE svc_mgmt_num is not null\n",
    "    )\n",
    "    \n",
    "    SELECT adot.*, store11.* EXCEPT(svc_mgmt_num, dt), cdr.* EXCEPT(svc_mgmt_num, dt), prod1.* EXCEPT(svc_mgmt_num, dt), subsc.* EXCEPT(svc_mgmt_num, dt), \n",
    "    tdeal.* EXCEPT(svc_mgmt_num, dt), tmap.* EXCEPT(svc_mgmt_num, dt), tmbr.* EXCEPT(svc_mgmt_num, dt), xdr.* EXCEPT(svc_mgmt_num, dt), xtr.* EXCEPT(svc_mgmt_num, dt)\n",
    "    FROM adot_user_data as adot\n",
    "    LEFT JOIN (SELECT * FROM x1113099.one_model_profile_11st WHERE dt = (select max(dt) from x1113099.one_model_profile_11st)) AS store11 ON adot.svc_mgmt_num=store11.svc_mgmt_num\n",
    "    LEFT JOIN (SELECT * FROM x1113099.one_model_profile_cdr WHERE dt = (select max(dt) from x1113099.one_model_profile_cdr)) AS cdr ON adot.svc_mgmt_num=cdr.svc_mgmt_num\n",
    "    LEFT JOIN (SELECT * FROM x1113099.one_model_profile_prod1 WHERE dt = (select max(dt) from x1113099.one_model_profile_prod1)) AS prod1 ON adot.svc_mgmt_num=prod1.svc_mgmt_num\n",
    "    LEFT JOIN (SELECT * FROM x1113099.one_model_profile_subsc WHERE dt = (select max(dt) from x1113099.one_model_profile_subsc)) AS subsc ON adot.svc_mgmt_num=subsc.svc_mgmt_num\n",
    "    LEFT JOIN (SELECT * FROM x1113099.one_model_profile_tdeal WHERE dt = (select max(dt) from x1113099.one_model_profile_tdeal)) AS tdeal ON adot.svc_mgmt_num=tdeal.svc_mgmt_num\n",
    "    LEFT JOIN (SELECT * FROM x1113099.one_model_profile_tmap WHERE dt = (select max(dt) from x1113099.one_model_profile_tmap)) AS tmap ON adot.svc_mgmt_num=tmap.svc_mgmt_num\n",
    "    LEFT JOIN (SELECT * FROM x1113099.one_model_profile_tmbr WHERE dt = (select max(dt) from x1113099.one_model_profile_tmbr)) AS tmbr ON adot.svc_mgmt_num=tmbr.svc_mgmt_num\n",
    "    LEFT JOIN (SELECT * FROM x1113099.one_model_profile_xdr WHERE dt = (select max(dt) from x1113099.one_model_profile_xdr)) AS xdr ON adot.svc_mgmt_num=xdr.svc_mgmt_num\n",
    "    LEFT JOIN (SELECT * FROM x1113099.one_model_profile_xtr WHERE dt = (select max(dt) from x1113099.one_model_profile_xtr)) AS xtr ON adot.svc_mgmt_num=xtr.svc_mgmt_num\n",
    "\"\"\")"
   ]
  },
  {
   "cell_type": "code",
   "execution_count": 5,
   "id": "f8ef22e8-5a39-4657-b926-86898eff5b61",
   "metadata": {
    "execution": {
     "iopub.execute_input": "2024-06-18T06:29:49.867727Z",
     "iopub.status.busy": "2024-06-18T06:29:49.866733Z",
     "iopub.status.idle": "2024-06-18T06:29:50.104830Z",
     "shell.execute_reply": "2024-06-18T06:29:50.103640Z",
     "shell.execute_reply.started": "2024-06-18T06:29:49.867666Z"
    },
    "tags": []
   },
   "outputs": [],
   "source": [
    "total_data1 = total_data.fillna(\"정보없음\")"
   ]
  },
  {
   "cell_type": "markdown",
   "id": "30082ca2-fe14-4683-8d66-444237691dd2",
   "metadata": {},
   "source": [
    "- 11st : 11번가 관련 정보"
   ]
  },
  {
   "cell_type": "code",
   "execution_count": 6,
   "id": "1842ba77-4cc1-4b94-81dc-8b78fea674bc",
   "metadata": {
    "execution": {
     "iopub.execute_input": "2024-06-18T06:29:50.108197Z",
     "iopub.status.busy": "2024-06-18T06:29:50.107532Z",
     "iopub.status.idle": "2024-06-18T06:29:50.114964Z",
     "shell.execute_reply": "2024-06-18T06:29:50.114174Z",
     "shell.execute_reply.started": "2024-06-18T06:29:50.108143Z"
    },
    "tags": []
   },
   "outputs": [],
   "source": [
    "def _11st_profile_text(_11st_cat2_prefer, _11st_item_prefer):\n",
    "    if _11st_item_prefer == \"정보없음\":\n",
    "        return \"\"\n",
    "    else:\n",
    "        return f\"저는 11번가 쇼핑몰에서 주로 {_11st_cat2_prefer} 카테고리에 관심이 있고, 최근에는 {_11st_item_prefer} 키워드 기반의 상품을 찾아봤어요.\"\n",
    "\n",
    "_11st_text_udf = udf(_11st_profile_text, StringType())"
   ]
  },
  {
   "cell_type": "code",
   "execution_count": 7,
   "id": "4ffb0b25-d3b6-4615-a978-a52bc976140f",
   "metadata": {
    "execution": {
     "iopub.execute_input": "2024-06-18T06:29:50.116041Z",
     "iopub.status.busy": "2024-06-18T06:29:50.115825Z",
     "iopub.status.idle": "2024-06-18T06:29:50.242063Z",
     "shell.execute_reply": "2024-06-18T06:29:50.241041Z",
     "shell.execute_reply.started": "2024-06-18T06:29:50.116018Z"
    },
    "tags": []
   },
   "outputs": [],
   "source": [
    "total_data1 = total_data1.withColumn(\"_11st_text\", _11st_text_udf(total_data1[\"_11st_cat2_prefer\"], total_data1[\"_11st_item_prefer\"]))"
   ]
  },
  {
   "cell_type": "markdown",
   "id": "d0f253ca-cd0a-47fe-9b76-5390014028f8",
   "metadata": {},
   "source": [
    "- cdr : 수발신이력"
   ]
  },
  {
   "cell_type": "code",
   "execution_count": 8,
   "id": "12d427ab-f5e8-4e48-a9da-768c5e1a4c04",
   "metadata": {
    "execution": {
     "iopub.execute_input": "2024-06-18T06:29:50.244230Z",
     "iopub.status.busy": "2024-06-18T06:29:50.243633Z",
     "iopub.status.idle": "2024-06-18T06:29:50.255925Z",
     "shell.execute_reply": "2024-06-18T06:29:50.254746Z",
     "shell.execute_reply.started": "2024-06-18T06:29:50.244179Z"
    },
    "tags": []
   },
   "outputs": [],
   "source": [
    "def cdr_profile_text(cdr_cat2_prefer, cdr_item_prefer):\n",
    "    if cdr_item_prefer == \"정보없음\":\n",
    "        return \"\"\n",
    "    else:\n",
    "        return f\"저는 주로 {cdr_cat2_prefer} 카테고리에 수발신을 하고, 최근에는 {cdr_item_prefer} 쪽으로 주로 연락했어요.\"\n",
    "\n",
    "cdr_text_udf = udf(cdr_profile_text, StringType())"
   ]
  },
  {
   "cell_type": "code",
   "execution_count": 9,
   "id": "c73cf780-6260-4178-9844-2b2709ce5a31",
   "metadata": {
    "execution": {
     "iopub.execute_input": "2024-06-18T06:29:50.258137Z",
     "iopub.status.busy": "2024-06-18T06:29:50.257537Z",
     "iopub.status.idle": "2024-06-18T06:29:50.356640Z",
     "shell.execute_reply": "2024-06-18T06:29:50.355367Z",
     "shell.execute_reply.started": "2024-06-18T06:29:50.258086Z"
    },
    "tags": []
   },
   "outputs": [],
   "source": [
    "total_data1 = total_data1.withColumn(\"cdr_text\", cdr_text_udf(total_data1[\"cdr_cat2_prefer\"], total_data1[\"cdr_item_prefer\"]))"
   ]
  },
  {
   "cell_type": "markdown",
   "id": "886a26d9-ba84-4ab3-bfc4-738b22d462f1",
   "metadata": {},
   "source": [
    "- prod1 : 요금제 정보 \n",
    "    - item : 실제 요금제 정보\n",
    "    - cat1 : 일반 요금제인지 다이렉트 요금제인지\n",
    "    - cat2 : 어디에서 개통했는지? 기타 티월드 유통망 고객센터"
   ]
  },
  {
   "cell_type": "code",
   "execution_count": 10,
   "id": "16c7cfa9-67dc-4614-90cb-0e406aaa7c3e",
   "metadata": {
    "execution": {
     "iopub.execute_input": "2024-06-18T06:29:50.357743Z",
     "iopub.status.busy": "2024-06-18T06:29:50.357546Z",
     "iopub.status.idle": "2024-06-18T06:29:50.382160Z",
     "shell.execute_reply": "2024-06-18T06:29:50.381208Z",
     "shell.execute_reply.started": "2024-06-18T06:29:50.357723Z"
    },
    "tags": []
   },
   "outputs": [],
   "source": [
    "def prod1_profile_text(prod1_cat2_prefer, prod1_cat1_prefer, prod1_item_prefer):\n",
    "    if prod1_item_prefer == \"정보없음\":\n",
    "        return \"\"\n",
    "    else:\n",
    "        return f\"저는 {prod1_cat2_prefer} 통해서 요금제를 선택했고, 구체적으로 {prod1_cat1_prefer} 중 {prod1_item_prefer} 요금제를 쓰고 있어요.\"\n",
    "\n",
    "prod1_text_udf = udf(prod1_profile_text, StringType())"
   ]
  },
  {
   "cell_type": "code",
   "execution_count": 11,
   "id": "1a3de3c4-fad4-4d5d-b0c2-ee5d6317947b",
   "metadata": {
    "execution": {
     "iopub.execute_input": "2024-06-18T06:29:50.385887Z",
     "iopub.status.busy": "2024-06-18T06:29:50.385485Z",
     "iopub.status.idle": "2024-06-18T06:29:50.467849Z",
     "shell.execute_reply": "2024-06-18T06:29:50.466425Z",
     "shell.execute_reply.started": "2024-06-18T06:29:50.385854Z"
    },
    "tags": []
   },
   "outputs": [],
   "source": [
    "total_data1 = total_data1.withColumn(\"prod1_text\", prod1_text_udf(total_data1[\"prod1_cat2_prefer\"], total_data1[\"prod1_cat1_prefer\"], total_data1[\"prod1_item_prefer\"]))"
   ]
  },
  {
   "cell_type": "markdown",
   "id": "8d345c9e-2174-4734-bf3a-1e2fb08c202f",
   "metadata": {},
   "source": [
    "- subsc : 구독하고 있는 상품 정보"
   ]
  },
  {
   "cell_type": "code",
   "execution_count": 12,
   "id": "4bd56af1-628c-4ee0-b19f-e753a6597463",
   "metadata": {
    "execution": {
     "iopub.execute_input": "2024-06-18T06:29:50.470599Z",
     "iopub.status.busy": "2024-06-18T06:29:50.469873Z",
     "iopub.status.idle": "2024-06-18T06:29:50.481537Z",
     "shell.execute_reply": "2024-06-18T06:29:50.480472Z",
     "shell.execute_reply.started": "2024-06-18T06:29:50.470540Z"
    },
    "tags": []
   },
   "outputs": [],
   "source": [
    "def subsc_profile_text(subsc_item_prefer):\n",
    "    if subsc_item_prefer == \"정보없음\":\n",
    "        return \"\"\n",
    "    else:\n",
    "        return f\"저는 구독 상품 중에서 {subsc_item_prefer}를 사용하고 있어요.\"\n",
    "\n",
    "subsc_text_udf = udf(subsc_profile_text, StringType())"
   ]
  },
  {
   "cell_type": "code",
   "execution_count": 13,
   "id": "9d81aeb6-4d59-40c0-b38a-f8e9d713859e",
   "metadata": {
    "execution": {
     "iopub.execute_input": "2024-06-18T06:29:50.483065Z",
     "iopub.status.busy": "2024-06-18T06:29:50.482736Z",
     "iopub.status.idle": "2024-06-18T06:29:50.567716Z",
     "shell.execute_reply": "2024-06-18T06:29:50.566879Z",
     "shell.execute_reply.started": "2024-06-18T06:29:50.483029Z"
    },
    "tags": []
   },
   "outputs": [],
   "source": [
    "total_data1 = total_data1.withColumn(\"subsc_text\", subsc_text_udf(total_data1[\"subsc_item_prefer\"]))"
   ]
  },
  {
   "cell_type": "markdown",
   "id": "a15a7a9c-4398-43fa-908b-4aa153922d43",
   "metadata": {},
   "source": [
    "- tdeal : 티딜"
   ]
  },
  {
   "cell_type": "code",
   "execution_count": 14,
   "id": "8d4d998c-d9f8-4902-87dc-4378fbf19d12",
   "metadata": {
    "execution": {
     "iopub.execute_input": "2024-06-18T06:29:50.569458Z",
     "iopub.status.busy": "2024-06-18T06:29:50.569156Z",
     "iopub.status.idle": "2024-06-18T06:29:50.579574Z",
     "shell.execute_reply": "2024-06-18T06:29:50.578998Z",
     "shell.execute_reply.started": "2024-06-18T06:29:50.569427Z"
    },
    "tags": []
   },
   "outputs": [],
   "source": [
    "def tdeal_profile_text(tdeal_cat2_prefer, tdeal_item_prefer):\n",
    "    if tdeal_item_prefer == \"정보없음\":\n",
    "        return \"\"\n",
    "    else:\n",
    "        return f\"저는 티딜 쇼핑몰에서 주로 {tdeal_cat2_prefer} 카테고리에 관심이 있고, 최근에는 {tdeal_item_prefer} 키워드 기반의 상품을 찾아봤어요.\"\n",
    "\n",
    "tdeal_text_udf = udf(tdeal_profile_text, StringType())"
   ]
  },
  {
   "cell_type": "code",
   "execution_count": 15,
   "id": "75163013-973c-4f5d-b2d9-0d6ba7c930fd",
   "metadata": {
    "execution": {
     "iopub.execute_input": "2024-06-18T06:29:50.580574Z",
     "iopub.status.busy": "2024-06-18T06:29:50.580391Z",
     "iopub.status.idle": "2024-06-18T06:29:50.672703Z",
     "shell.execute_reply": "2024-06-18T06:29:50.671726Z",
     "shell.execute_reply.started": "2024-06-18T06:29:50.580555Z"
    },
    "tags": []
   },
   "outputs": [],
   "source": [
    "total_data1 = total_data1.withColumn(\"tdeal_text\", tdeal_text_udf(total_data1[\"tdeal_cat2_prefer\"], total_data1[\"tdeal_item_prefer\"]))"
   ]
  },
  {
   "cell_type": "markdown",
   "id": "175bf4bd-6eda-420f-8180-16061239bb19",
   "metadata": {},
   "source": [
    "- tmap"
   ]
  },
  {
   "cell_type": "code",
   "execution_count": 16,
   "id": "c8e4ce18-a848-4ff5-981f-67c346c9089d",
   "metadata": {
    "execution": {
     "iopub.execute_input": "2024-06-18T06:29:50.674209Z",
     "iopub.status.busy": "2024-06-18T06:29:50.673828Z",
     "iopub.status.idle": "2024-06-18T06:29:50.682310Z",
     "shell.execute_reply": "2024-06-18T06:29:50.681806Z",
     "shell.execute_reply.started": "2024-06-18T06:29:50.674187Z"
    },
    "tags": []
   },
   "outputs": [],
   "source": [
    "def tmap_profile_text(tmap_cat2_prefer, tmap_item_prefer):\n",
    "    if tmap_item_prefer == \"정보없음\":\n",
    "        return \"\"\n",
    "    else:\n",
    "        return f\"저는 운전할 때 주로 {tmap_cat2_prefer} 관련된 카테고리를 입력 후 이동하며, 최근에는 {tmap_item_prefer} 키워드 관련 경로지로 주로 이동했어요.\"\n",
    "\n",
    "tmap_text_udf = udf(tmap_profile_text, StringType())"
   ]
  },
  {
   "cell_type": "code",
   "execution_count": 17,
   "id": "074b2f13-6738-40d6-9e81-4fa6d0f3b096",
   "metadata": {
    "execution": {
     "iopub.execute_input": "2024-06-18T06:29:50.683228Z",
     "iopub.status.busy": "2024-06-18T06:29:50.683038Z",
     "iopub.status.idle": "2024-06-18T06:29:50.767432Z",
     "shell.execute_reply": "2024-06-18T06:29:50.766550Z",
     "shell.execute_reply.started": "2024-06-18T06:29:50.683208Z"
    },
    "tags": []
   },
   "outputs": [],
   "source": [
    "total_data1 = total_data1.withColumn(\"tmap_text\", tmap_text_udf(total_data1[\"tmap_cat2_prefer\"], total_data1[\"tmap_item_prefer\"]))"
   ]
  },
  {
   "cell_type": "markdown",
   "id": "ae4943bf-787d-46f3-87e9-6903dab081ab",
   "metadata": {},
   "source": [
    "- tmbr : 티멤버십"
   ]
  },
  {
   "cell_type": "code",
   "execution_count": 18,
   "id": "a86c533a-837a-4b9c-ad27-80107b6a6729",
   "metadata": {
    "execution": {
     "iopub.execute_input": "2024-06-18T06:29:50.769622Z",
     "iopub.status.busy": "2024-06-18T06:29:50.768646Z",
     "iopub.status.idle": "2024-06-18T06:29:50.795177Z",
     "shell.execute_reply": "2024-06-18T06:29:50.794220Z",
     "shell.execute_reply.started": "2024-06-18T06:29:50.769592Z"
    },
    "tags": []
   },
   "outputs": [],
   "source": [
    "def tmbr_profile_text(tmbr_item_prefer):\n",
    "    if tmbr_item_prefer == \"정보없음\":\n",
    "        return \"\"\n",
    "    else:\n",
    "        return f\"저는 티멤버십에서 {tmbr_item_prefer} 혜택을 주로 사용하고 있어요.\"\n",
    "\n",
    "tmbr_text_udf = udf(tmbr_profile_text, StringType())"
   ]
  },
  {
   "cell_type": "code",
   "execution_count": 19,
   "id": "9eae8694-3cb5-43a4-83d9-c85b8c6b8162",
   "metadata": {
    "execution": {
     "iopub.execute_input": "2024-06-18T06:29:50.796838Z",
     "iopub.status.busy": "2024-06-18T06:29:50.796429Z",
     "iopub.status.idle": "2024-06-18T06:29:50.877250Z",
     "shell.execute_reply": "2024-06-18T06:29:50.876496Z",
     "shell.execute_reply.started": "2024-06-18T06:29:50.796809Z"
    },
    "tags": []
   },
   "outputs": [],
   "source": [
    "total_data1 = total_data1.withColumn(\"tmbr_text\", tmbr_text_udf(total_data1[\"tmbr_item_prefer\"]))"
   ]
  },
  {
   "cell_type": "markdown",
   "id": "fa4280bb-1135-44b0-be18-c7179e10ffbe",
   "metadata": {},
   "source": [
    "- xdr : 앱 사용 정보"
   ]
  },
  {
   "cell_type": "code",
   "execution_count": 20,
   "id": "e3049dae-8ff2-4eb5-84b5-a7419991a5fc",
   "metadata": {
    "execution": {
     "iopub.execute_input": "2024-06-18T06:29:50.879121Z",
     "iopub.status.busy": "2024-06-18T06:29:50.878738Z",
     "iopub.status.idle": "2024-06-18T06:29:50.897981Z",
     "shell.execute_reply": "2024-06-18T06:29:50.896930Z",
     "shell.execute_reply.started": "2024-06-18T06:29:50.879095Z"
    },
    "tags": []
   },
   "outputs": [],
   "source": [
    "def xdr_profile_text(xdr_cat2_prefer, xdr_item_prefer):\n",
    "    if xdr_item_prefer == \"정보없음\":\n",
    "        return \"\"\n",
    "    else:\n",
    "        return f\"제가 주로 사용하는 앱의 카테고리는 {xdr_cat2_prefer} 들이 있고, 최근에는 {xdr_item_prefer} 앱을 사용했어요.\"\n",
    "\n",
    "xdr_text_udf = udf(xdr_profile_text, StringType())"
   ]
  },
  {
   "cell_type": "code",
   "execution_count": 21,
   "id": "bf8b2c69-ecc8-4459-86b7-331e1a213218",
   "metadata": {
    "execution": {
     "iopub.execute_input": "2024-06-18T06:29:50.899594Z",
     "iopub.status.busy": "2024-06-18T06:29:50.899260Z",
     "iopub.status.idle": "2024-06-18T06:29:50.988414Z",
     "shell.execute_reply": "2024-06-18T06:29:50.987147Z",
     "shell.execute_reply.started": "2024-06-18T06:29:50.899559Z"
    },
    "tags": []
   },
   "outputs": [],
   "source": [
    "total_data1 = total_data1.withColumn(\"xdr_text\", xdr_text_udf(total_data1[\"xdr_cat2_prefer\"],total_data1[\"xdr_item_prefer\"]))"
   ]
  },
  {
   "cell_type": "markdown",
   "id": "11e51e71-915e-4217-81c5-133186ce4a3a",
   "metadata": {},
   "source": [
    "- xtr : MNO 서비스 관련\n",
    "    - item : 사용한 서비스\n",
    "    - cat1 : item 상위 레벨\n",
    "    - cat2 : 이용채널"
   ]
  },
  {
   "cell_type": "code",
   "execution_count": 22,
   "id": "a0372da7-9235-47f3-ad4f-42c52ade56b4",
   "metadata": {
    "execution": {
     "iopub.execute_input": "2024-06-18T06:29:50.990800Z",
     "iopub.status.busy": "2024-06-18T06:29:50.990131Z",
     "iopub.status.idle": "2024-06-18T06:29:51.000147Z",
     "shell.execute_reply": "2024-06-18T06:29:50.999382Z",
     "shell.execute_reply.started": "2024-06-18T06:29:50.990735Z"
    },
    "tags": []
   },
   "outputs": [],
   "source": [
    "def xtr_profile_text(xtr_cat2_prefer, xtr_cat1_prefer, xtr_item_prefer):\n",
    "    if xtr_item_prefer == \"정보없음\":\n",
    "        return \"\"\n",
    "    else:\n",
    "        return f\"저는 주로 MNO(통신) 관련 서비스를 이용하는 채널로 {xtr_cat2_prefer}를 이용하고 있고, 자주 사용하는 서비스는 {xtr_cat1_prefer}이고 최근 {xtr_item_prefer} 기능을 많이 사용하고 있어요.\"\n",
    "\n",
    "xtr_text_udf = udf(xtr_profile_text, StringType())"
   ]
  },
  {
   "cell_type": "code",
   "execution_count": 23,
   "id": "834c2300-9f5b-40b5-aab5-cfd1f7c5012b",
   "metadata": {
    "execution": {
     "iopub.execute_input": "2024-06-18T06:29:51.001630Z",
     "iopub.status.busy": "2024-06-18T06:29:51.001193Z",
     "iopub.status.idle": "2024-06-18T06:29:51.088395Z",
     "shell.execute_reply": "2024-06-18T06:29:51.087328Z",
     "shell.execute_reply.started": "2024-06-18T06:29:51.001597Z"
    },
    "tags": []
   },
   "outputs": [],
   "source": [
    "total_data1 = total_data1.withColumn(\"xtr_text\", xtr_text_udf(total_data1[\"xtr_cat2_prefer\"],total_data1[\"xtr_cat1_prefer\"],total_data1[\"xtr_item_prefer\"]))"
   ]
  },
  {
   "cell_type": "markdown",
   "id": "be033419-4cc2-4f65-91db-ece68c7d1ec5",
   "metadata": {},
   "source": [
    "### (2) Adot 도메인 TEXT 화\n",
    "- 메타 정보는 음악만 풍부한 상황이기 때문에 음악만 따로 자세하게 구별해서 텍스트화"
   ]
  },
  {
   "cell_type": "code",
   "execution_count": 24,
   "id": "5c89c780-1d6c-407f-b271-7d4bbdfdf1c7",
   "metadata": {
    "execution": {
     "iopub.execute_input": "2024-06-18T06:29:51.090748Z",
     "iopub.status.busy": "2024-06-18T06:29:51.090103Z",
     "iopub.status.idle": "2024-06-18T06:29:51.102381Z",
     "shell.execute_reply": "2024-06-18T06:29:51.101798Z",
     "shell.execute_reply.started": "2024-06-18T06:29:51.090693Z"
    },
    "tags": []
   },
   "outputs": [],
   "source": [
    "sevice_set = {'apollo_alarm':\"알람\", \"apollo_anniversary\":\"생일\", \"apollo_calendar\":\"캘린더\", \"apollo_calendar2\":\"특일정보\", \"apollo_call\":\"전화\", \"apollo_campaign\":\"캠페인\", \"apollo_character\":\"캐릭터꾸미기\",\n",
    "              \"apollo_chatgpt\":\"챗T\", \"apollo_congestion\":\"혼잡도\", \"apollo_cqa\":\"CQA\", \"apollo_dailycostume\":\"오늘뭐입지\", \"apollo_dictionary\":\"어학사전\", \"apollo_english\":\"튜터\", \"apollo_fortune\":\"운세\",\n",
    "              \"apollo_friendsbitna\":\"프렌즈_길빛나\", \"apollo_friendsharu\":\"프렌즈_강하루\", \"apollo_friendsj\":\"프렌즈_육제이\", \"apollo_game\":\"게임\", \"apollo_glm\":\"감성대화\", \"apollo_glmtosqa\":\"GLMtoSQA\", \"apollo_keep\":\"keep\",\n",
    "              \"apollo_liveqa\":\"LiveQA\", \"apollo_menu\":\"메뉴추천\", \"apollo_message\":\"문자\", \"apollo_mj\":\"맛집추천\", \"apollo_mno\":\"T서비스\", \"apollo_music\":\"음악\", \"apollo_mytv\":\"TV\", \"apollo_news\":\"뉴스\", \"apollo_photo\":\"포토\",\n",
    "              \"apollo_podcast\":\"팟캐스트\", \"apollo_qfeed\":\"큐피드\", \"apollo_quest\":\"퀘스트\", \"apollo_radio\":\"라디오\", \"apollo_recipe\":\"레시피\", \"apollo_reward\":\"리워드\", \"apollo_ring\":\"링\", \"apollo_routine\":\"루틴\",\n",
    "              \"apollo_samsungstock\":\"증권\", \"apollo_sleep\":\"sleep\", \"apollo_sports\":\"스포츠\", \"apollo_sqa\":\"SQA\", \"apollo_survey\":\"선호도조사\", \"apollo_time\":\"시간\", \"apollo_tmap\":\"TMAP\", \"apollo_tmembership\":\"T 멤버십\",\n",
    "              \"apollo_tworld\":\"T 월드\", \"apollo_video\":\"비디오\", \"apollo_weather\":\"날씨\", \"apollo_wordchain\":\"끝말잇기\", \"apollo_friends\":\"프렌즈톡\", \"apollo_media\":\"미디어\", \"apollo_qa\":\"대표발화\"}"
   ]
  },
  {
   "cell_type": "code",
   "execution_count": 25,
   "id": "ca8c79d9-a156-497d-a311-6b8eb5bda338",
   "metadata": {
    "execution": {
     "iopub.execute_input": "2024-06-18T06:29:51.103509Z",
     "iopub.status.busy": "2024-06-18T06:29:51.103173Z",
     "iopub.status.idle": "2024-06-18T06:30:02.466739Z",
     "shell.execute_reply": "2024-06-18T06:30:02.465271Z",
     "shell.execute_reply.started": "2024-06-18T06:29:51.103487Z"
    },
    "tags": []
   },
   "outputs": [
    {
     "name": "stderr",
     "output_type": "stream",
     "text": [
      "24/06/18 15:29:54 WARN SQLConf: The SQL config 'spark.sql.execution.arrow.enabled' has been deprecated in Spark v3.0 and may be removed in the future. Use 'spark.sql.execution.arrow.pyspark.enabled' instead of it.\n",
      "24/06/18 15:30:01 WARN SQLConf: The SQL config 'spark.sql.execution.arrow.enabled' has been deprecated in Spark v3.0 and may be removed in the future. Use 'spark.sql.execution.arrow.pyspark.enabled' instead of it.\n"
     ]
    }
   ],
   "source": [
    "adot_cat1_data = bq_to_df(\"\"\"\n",
    "    SELECT user_id, adot_cat1_prefer as adot_cat1\n",
    "    FROM x1113099.one_model_profile_adot_cat1\n",
    "    WHERE dt = (SELECT max(dt) FROM x1113099.one_model_profile_adot_cat1)\n",
    "\"\"\")\n",
    "\n",
    "adot_cat3_item_data = bq_to_df(\"\"\"\n",
    "    SELECT *\n",
    "    FROM x1113099.one_model_profile_adot_cat3_item\n",
    "    WHERE dt = (SELECT max(dt) FROM x1113099.one_model_profile_adot_cat3_item)\n",
    "\"\"\")"
   ]
  },
  {
   "cell_type": "code",
   "execution_count": 26,
   "id": "42f10ee1-3bd8-4b97-a6b0-29b5ecd4854c",
   "metadata": {
    "execution": {
     "iopub.execute_input": "2024-06-18T06:30:02.470604Z",
     "iopub.status.busy": "2024-06-18T06:30:02.469744Z",
     "iopub.status.idle": "2024-06-18T06:30:02.510187Z",
     "shell.execute_reply": "2024-06-18T06:30:02.508541Z",
     "shell.execute_reply.started": "2024-06-18T06:30:02.470531Z"
    },
    "tags": []
   },
   "outputs": [],
   "source": [
    "adot_merged = adot_cat1_data.join(adot_cat3_item_data, on=['user_id','adot_cat1'],how=\"left\")"
   ]
  },
  {
   "cell_type": "code",
   "execution_count": 27,
   "id": "b914b518-83b9-4fa4-8730-f90b7769cead",
   "metadata": {
    "execution": {
     "iopub.execute_input": "2024-06-18T06:30:02.513863Z",
     "iopub.status.busy": "2024-06-18T06:30:02.512648Z",
     "iopub.status.idle": "2024-06-18T06:30:02.558292Z",
     "shell.execute_reply": "2024-06-18T06:30:02.557047Z",
     "shell.execute_reply.started": "2024-06-18T06:30:02.513775Z"
    },
    "tags": []
   },
   "outputs": [],
   "source": [
    "def adot_domain_to_text(adot_cat1):\n",
    "    return sevice_set[f'{adot_cat1}']\n",
    "\n",
    "adot_domain_to_text_udf = udf(adot_domain_to_text, StringType())\n",
    "adot_merged = adot_merged.withColumn(\"adot_cat1_text\", adot_domain_to_text_udf(adot_merged[\"adot_cat1\"]))"
   ]
  },
  {
   "cell_type": "code",
   "execution_count": 28,
   "id": "617dab19-0dfc-4f23-a993-795ea948dae9",
   "metadata": {
    "execution": {
     "iopub.execute_input": "2024-06-18T06:30:02.560248Z",
     "iopub.status.busy": "2024-06-18T06:30:02.559730Z",
     "iopub.status.idle": "2024-06-18T06:30:02.659124Z",
     "shell.execute_reply": "2024-06-18T06:30:02.657938Z",
     "shell.execute_reply.started": "2024-06-18T06:30:02.560206Z"
    },
    "tags": []
   },
   "outputs": [],
   "source": [
    "adot_merged1 = adot_merged.groupBy(\"user_id\").agg(concat_ws(\",\",collect_list('adot_cat1_text')).alias(f'adot_cat1_text_list'),\n",
    "                                                  concat_ws(\",\",collect_list('adot_item_prefer')).alias(f'adot_item_prefer_list'),\n",
    "                                                  concat_ws(\",\",collect_list('music_item_list')).alias(f'music_item_list'),\n",
    "                                                  concat_ws(\",\",collect_list('adot_cat3_prefer')).alias(f'adot_cat3_prefer_list'))\n",
    "\n",
    "adot_merged2 = adot_merged.groupBy(\"user_id\").agg(concat_ws(\",\",collect_list('cat3_genre_list')).alias(f'cat3_genre_list'),\n",
    "                                                  concat_ws(\",\",collect_list('cat3_artist_list')).alias(f'cat3_artist_list'))"
   ]
  },
  {
   "cell_type": "code",
   "execution_count": 29,
   "id": "314bb2f6-1b38-422e-a6d5-b74d335017b4",
   "metadata": {
    "execution": {
     "iopub.execute_input": "2024-06-18T06:30:02.667376Z",
     "iopub.status.busy": "2024-06-18T06:30:02.666834Z",
     "iopub.status.idle": "2024-06-18T06:30:02.692783Z",
     "shell.execute_reply": "2024-06-18T06:30:02.692106Z",
     "shell.execute_reply.started": "2024-06-18T06:30:02.667339Z"
    },
    "tags": []
   },
   "outputs": [],
   "source": [
    "final_adot_merged = adot_merged1.join(adot_merged2, on=\"user_id\", how=\"left\")"
   ]
  },
  {
   "cell_type": "code",
   "execution_count": 30,
   "id": "8495a59a-9bb0-489f-80dd-bc3001b7b231",
   "metadata": {
    "execution": {
     "iopub.execute_input": "2024-06-18T06:30:02.694426Z",
     "iopub.status.busy": "2024-06-18T06:30:02.694062Z",
     "iopub.status.idle": "2024-06-18T06:30:27.266637Z",
     "shell.execute_reply": "2024-06-18T06:30:27.265678Z",
     "shell.execute_reply.started": "2024-06-18T06:30:02.694403Z"
    },
    "tags": []
   },
   "outputs": [
    {
     "name": "stderr",
     "output_type": "stream",
     "text": [
      "[Stage 6:>                                                          (0 + 1) / 1]\r"
     ]
    },
    {
     "name": "stdout",
     "output_type": "stream",
     "text": [
      "+--------------------+-----------------------------+---------------------+------------------------+---------------------+---------------+-----------------------------+\n",
      "|             user_id|          adot_cat1_text_list|adot_item_prefer_list|         music_item_list|adot_cat3_prefer_list|cat3_genre_list|             cat3_artist_list|\n",
      "+--------------------+-----------------------------+---------------------+------------------------+---------------------+---------------+-----------------------------+\n",
      "|APL00000BJ0H4R30LSLC|                         루틴|                     |                        |                     |               |                             |\n",
      "|APL00000BJ19IFQXK54W|                         전화|                     |                        |                     |               |                             |\n",
      "|APL00000BJ1GGZ9T2MM8|음악,챗T,맛집추천,뉴스,Liv...|                     |                        |                     |               |                             |\n",
      "|APL00000BJ1VXU5TVOQO|                           TV|                     |                        |                     |               |                             |\n",
      "|APL00000BJ3E6HO1X3B4|                         전화|                     |                        |                     |               |                             |\n",
      "|APL00000BJ3M81SBZEO0|                         음악|                     |하루하루,LOSER,Making...|                     |    국내 발라드|박효신,성시경,엠씨더맥스,빅뱅|\n",
      "|APL00000BJ3T4RRPWT1C|        T서비스,전화,특일정보|                     |                        |                     |               |                             |\n",
      "|APL00000BJ450BY2BSOW|                      T서비스|                     |                        |                     |               |                             |\n",
      "|APL00000BJ4VC12P1HJ4|                  전화,비디오|                     |                        |                     |               |                             |\n",
      "|APL00000BJ7880KK6QKG|                           TV|                     |                        |                     |               |                             |\n",
      "+--------------------+-----------------------------+---------------------+------------------------+---------------------+---------------+-----------------------------+\n",
      "only showing top 10 rows\n",
      "\n"
     ]
    },
    {
     "name": "stderr",
     "output_type": "stream",
     "text": [
      "                                                                                \r"
     ]
    }
   ],
   "source": [
    "final_adot_merged.show(n=10)"
   ]
  },
  {
   "cell_type": "code",
   "execution_count": 31,
   "id": "c0e2dd84-f150-4239-984d-37ad30dcea83",
   "metadata": {
    "execution": {
     "iopub.execute_input": "2024-06-18T06:30:27.268492Z",
     "iopub.status.busy": "2024-06-18T06:30:27.267929Z",
     "iopub.status.idle": "2024-06-18T06:30:27.276586Z",
     "shell.execute_reply": "2024-06-18T06:30:27.275759Z",
     "shell.execute_reply.started": "2024-06-18T06:30:27.268454Z"
    },
    "tags": []
   },
   "outputs": [],
   "source": [
    "def adot_profile_text(adot_cat1_text_list, adot_item_prefer_list, music_item_list, adot_cat3_prefer_list, cat3_genre_list, cat3_artist_list):\n",
    "    if \"음악\" in adot_cat1_text_list:\n",
    "        if (adot_item_prefer_list != \"\") & (adot_cat3_prefer_list != \"\"):\n",
    "            return f\"저는 에이닷(AI Agent Service) 서비스 기능 중 {adot_cat1_text_list} 서비스를 사용하고 있고, 주로 사용하는 컨텐츠는 {adot_cat3_prefer_list}이고 최근에는 {adot_item_prefer_list}에 관심이 있습니다. \\\n",
    "                     그리고 특히 음악 서비스 중에서는 {cat3_genre_list} 장르와 {cat3_artist_list} 가수를 좋아하고 최근에는 {music_item_list} 곡을 들었어요.\"\n",
    "        else:\n",
    "            return f\"저는 에이닷(AI Agent Service) 서비스 기능 중 {adot_cat1_text_list} 서비스를 사용하고 있습니다. \\\n",
    "                     그리고 특히 음악 서비스 중에서는 {cat3_genre_list} 장르와 {cat3_artist_list} 가수를 좋아하고 최근에는 {music_item_list} 곡을 들었어요.\"\n",
    "            \n",
    "    else:\n",
    "        if (adot_item_prefer_list != \"\") & (adot_cat3_prefer_list != \"\"):\n",
    "            return f\"저는 에이닷(AI Agent Service) 서비스 기능 중 {adot_cat1_text_list} 서비스를 사용하고 있고, 주로 사용하는 컨텐츠는 {adot_cat3_prefer_list}이고 최근에는 {adot_item_prefer_list}에 관심이 있습니다.\"\n",
    "        else:\n",
    "            return f\"저는 에이닷(AI Agent Service) 서비스 기능 중 {adot_cat1_text_list} 서비스를 사용하고 있습니다.\"\n",
    "\n",
    "adot_text_udf = udf(adot_profile_text, StringType())"
   ]
  },
  {
   "cell_type": "code",
   "execution_count": 32,
   "id": "1eb0272f-77ec-44e7-8414-0335795257d6",
   "metadata": {
    "execution": {
     "iopub.execute_input": "2024-06-18T06:30:27.278058Z",
     "iopub.status.busy": "2024-06-18T06:30:27.277649Z",
     "iopub.status.idle": "2024-06-18T06:30:27.549989Z",
     "shell.execute_reply": "2024-06-18T06:30:27.548778Z",
     "shell.execute_reply.started": "2024-06-18T06:30:27.278023Z"
    },
    "tags": []
   },
   "outputs": [],
   "source": [
    "final_adot_merged = final_adot_merged.withColumn(\"adot_text\", adot_text_udf(final_adot_merged[\"adot_cat1_text_list\"],final_adot_merged[\"adot_item_prefer_list\"],final_adot_merged[\"music_item_list\"],\n",
    "                                                                            final_adot_merged[\"adot_cat3_prefer_list\"],final_adot_merged[\"cat3_genre_list\"],final_adot_merged[\"cat3_artist_list\"]))"
   ]
  },
  {
   "cell_type": "code",
   "execution_count": null,
   "id": "eba9db31-5544-4875-b156-a69e54d777a1",
   "metadata": {},
   "outputs": [],
   "source": []
  },
  {
   "cell_type": "markdown",
   "id": "11a1fe3b-d087-4364-91ae-ab714f81b744",
   "metadata": {},
   "source": [
    "### (3) Merge"
   ]
  },
  {
   "cell_type": "code",
   "execution_count": 42,
   "id": "50abef71-dd20-4e5d-ac4d-3153fb9befed",
   "metadata": {
    "execution": {
     "iopub.execute_input": "2024-06-18T06:45:43.089514Z",
     "iopub.status.busy": "2024-06-18T06:45:43.088809Z",
     "iopub.status.idle": "2024-06-18T06:45:43.190932Z",
     "shell.execute_reply": "2024-06-18T06:45:43.189548Z",
     "shell.execute_reply.started": "2024-06-18T06:45:43.089470Z"
    },
    "tags": []
   },
   "outputs": [],
   "source": [
    "final_total_data = final_adot_merged.join(total_data1, total_data1.luna_id==final_adot_merged.user_id, how=\"left\")"
   ]
  },
  {
   "cell_type": "markdown",
   "id": "229b12c6-bb35-42c5-935c-997e960409d9",
   "metadata": {},
   "source": [
    "- 추가로 나이와 성별에 대한 text 화"
   ]
  },
  {
   "cell_type": "code",
   "execution_count": 43,
   "id": "72e59966-a8fd-4f80-b76c-4d611f6928ee",
   "metadata": {
    "execution": {
     "iopub.execute_input": "2024-06-18T06:45:44.586454Z",
     "iopub.status.busy": "2024-06-18T06:45:44.585507Z",
     "iopub.status.idle": "2024-06-18T06:45:44.592969Z",
     "shell.execute_reply": "2024-06-18T06:45:44.591448Z",
     "shell.execute_reply.started": "2024-06-18T06:45:44.586379Z"
    },
    "tags": []
   },
   "outputs": [],
   "source": [
    "def demo_profile_text(gender, age):\n",
    "    if gender == \"female\":\n",
    "        return f\"저의 성별을 여성이고, 나이는 {age}살 입니다.\"\n",
    "    else: \n",
    "        return f\"저의 성별을 남성이고, 나이는 {age}살 입니다.\"\n",
    "\n",
    "demo_text_udf = udf(demo_profile_text, StringType())"
   ]
  },
  {
   "cell_type": "code",
   "execution_count": 44,
   "id": "57e3de6b-bfae-4044-9be1-df4aa7555204",
   "metadata": {
    "execution": {
     "iopub.execute_input": "2024-06-18T06:45:44.878493Z",
     "iopub.status.busy": "2024-06-18T06:45:44.877789Z",
     "iopub.status.idle": "2024-06-18T06:45:44.913527Z",
     "shell.execute_reply": "2024-06-18T06:45:44.912473Z",
     "shell.execute_reply.started": "2024-06-18T06:45:44.878446Z"
    },
    "tags": []
   },
   "outputs": [],
   "source": [
    "final_total_data = final_total_data.withColumn(\"demo_text\", demo_text_udf(final_total_data[\"gender\"],final_total_data[\"age\"]))"
   ]
  },
  {
   "cell_type": "code",
   "execution_count": 45,
   "id": "9648ecce-0b11-4b1f-8957-caae2c84477d",
   "metadata": {
    "execution": {
     "iopub.execute_input": "2024-06-18T06:45:45.867646Z",
     "iopub.status.busy": "2024-06-18T06:45:45.866791Z",
     "iopub.status.idle": "2024-06-18T06:45:46.192090Z",
     "shell.execute_reply": "2024-06-18T06:45:46.190495Z",
     "shell.execute_reply.started": "2024-06-18T06:45:45.867582Z"
    },
    "tags": []
   },
   "outputs": [],
   "source": [
    "final_total_data_text = final_total_data.select(['svc_mgmt_num','user_id','_11st_text','cdr_text','prod1_text','subsc_text','tdeal_text','tmap_text','tmbr_text','xdr_text','xtr_text','adot_text','demo_text'])\n",
    "final_total_data_text = final_total_data_text.withColumn(\"dt\", lit(DT).cast(\"date\"))"
   ]
  },
  {
   "cell_type": "code",
   "execution_count": 46,
   "id": "e7cfa2ce-ed8f-43b4-9bd1-c6dd79c8099f",
   "metadata": {
    "execution": {
     "iopub.execute_input": "2024-06-18T06:45:46.195085Z",
     "iopub.status.busy": "2024-06-18T06:45:46.194393Z",
     "iopub.status.idle": "2024-06-18T06:45:46.565039Z",
     "shell.execute_reply": "2024-06-18T06:45:46.507955Z",
     "shell.execute_reply.started": "2024-06-18T06:45:46.195036Z"
    },
    "tags": []
   },
   "outputs": [],
   "source": [
    "# final_total_data_text.count()"
   ]
  },
  {
   "cell_type": "code",
   "execution_count": 47,
   "id": "da14988a-1f07-48f6-8e86-e6d75492deb2",
   "metadata": {
    "execution": {
     "iopub.execute_input": "2024-06-18T06:45:46.568448Z",
     "iopub.status.busy": "2024-06-18T06:45:46.567662Z",
     "iopub.status.idle": "2024-06-18T06:45:46.601729Z",
     "shell.execute_reply": "2024-06-18T06:45:46.600611Z",
     "shell.execute_reply.started": "2024-06-18T06:45:46.568340Z"
    },
    "tags": []
   },
   "outputs": [
    {
     "name": "stdout",
     "output_type": "stream",
     "text": [
      "root\n",
      " |-- svc_mgmt_num: string (nullable = true)\n",
      " |-- user_id: string (nullable = true)\n",
      " |-- _11st_text: string (nullable = true)\n",
      " |-- cdr_text: string (nullable = true)\n",
      " |-- prod1_text: string (nullable = true)\n",
      " |-- subsc_text: string (nullable = true)\n",
      " |-- tdeal_text: string (nullable = true)\n",
      " |-- tmap_text: string (nullable = true)\n",
      " |-- tmbr_text: string (nullable = true)\n",
      " |-- xdr_text: string (nullable = true)\n",
      " |-- xtr_text: string (nullable = true)\n",
      " |-- adot_text: string (nullable = true)\n",
      " |-- demo_text: string (nullable = true)\n",
      " |-- dt: date (nullable = true)\n",
      "\n"
     ]
    }
   ],
   "source": [
    "final_total_data_text.printSchema()"
   ]
  },
  {
   "cell_type": "markdown",
   "id": "da077029-6575-4c84-9859-a39fabf65e91",
   "metadata": {},
   "source": [
    "### (4) Text화 된 데이터만 AIDP 업로드"
   ]
  },
  {
   "cell_type": "code",
   "execution_count": 48,
   "id": "6cc76f2f-ebcf-4e83-bbb6-f1ae174e08d8",
   "metadata": {
    "execution": {
     "iopub.execute_input": "2024-06-18T06:45:51.265786Z",
     "iopub.status.busy": "2024-06-18T06:45:51.264976Z",
     "iopub.status.idle": "2024-06-18T06:45:51.271935Z",
     "shell.execute_reply": "2024-06-18T06:45:51.270483Z",
     "shell.execute_reply.started": "2024-06-18T06:45:51.265727Z"
    },
    "tags": []
   },
   "outputs": [],
   "source": [
    "dest_dataset = \"x1113099\"\n",
    "partitioned_dest_table = \"one_model_profile_text\""
   ]
  },
  {
   "cell_type": "code",
   "execution_count": 49,
   "id": "f3f77a59-ce19-4e80-85e5-9523a88d0d33",
   "metadata": {
    "execution": {
     "iopub.execute_input": "2024-06-18T06:45:51.275170Z",
     "iopub.status.busy": "2024-06-18T06:45:51.274564Z",
     "iopub.status.idle": "2024-06-18T06:45:53.146393Z",
     "shell.execute_reply": "2024-06-18T06:45:53.145638Z",
     "shell.execute_reply.started": "2024-06-18T06:45:51.275114Z"
    },
    "tags": []
   },
   "outputs": [
    {
     "name": "stdout",
     "output_type": "stream",
     "text": [
      "생성된 테이블 : x1113099.one_model_profile_text\n"
     ]
    }
   ],
   "source": [
    "get_bigquery_client().query(f\"\"\"\n",
    "    CREATE TABLE IF NOT EXISTS {dest_dataset}.{partitioned_dest_table}\n",
    "    (\n",
    "        svc_mgmt_num STRING,\n",
    "        user_id STRING,\n",
    "        _11st_text STRING,\n",
    "        cdr_text STRING,\n",
    "        prod1_text STRING,\n",
    "        subsc_text STRING,\n",
    "        tdeal_text STRING,\n",
    "        tmap_text STRING,\n",
    "        tmbr_text STRING,\n",
    "        xdr_text STRING,\n",
    "        xtr_text STRING,\n",
    "        adot_text STRING,\n",
    "        demo_text STRING,\n",
    "        dt DATE,\n",
    "    )\n",
    "    PARTITION BY dt\n",
    "\"\"\").result()\n",
    "\n",
    "print(f\"생성된 테이블 : {dest_dataset}.{partitioned_dest_table}\")"
   ]
  },
  {
   "cell_type": "code",
   "execution_count": 50,
   "id": "5ea843cc-a9b8-4159-876e-e1743b740dc9",
   "metadata": {
    "execution": {
     "iopub.execute_input": "2024-06-18T06:45:53.147644Z",
     "iopub.status.busy": "2024-06-18T06:45:53.147380Z",
     "iopub.status.idle": "2024-06-18T06:46:36.914750Z",
     "shell.execute_reply": "2024-06-18T06:46:36.913222Z",
     "shell.execute_reply.started": "2024-06-18T06:45:53.147613Z"
    },
    "tags": []
   },
   "outputs": [
    {
     "name": "stderr",
     "output_type": "stream",
     "text": [
      "                                                                                \r"
     ]
    }
   ],
   "source": [
    "df_to_bq_table(df=final_total_data_text,\n",
    "               dataset=dest_dataset,\n",
    "               table_name=partitioned_dest_table,\n",
    "               mode=\"overwrite\")"
   ]
  },
  {
   "cell_type": "code",
   "execution_count": null,
   "id": "1a0c5146-6f79-4717-ba48-833e256b5fd7",
   "metadata": {},
   "outputs": [],
   "source": []
  },
  {
   "cell_type": "code",
   "execution_count": null,
   "id": "83b24a9d-e954-4d48-bf01-700da5e3424b",
   "metadata": {},
   "outputs": [],
   "source": []
  },
  {
   "cell_type": "code",
   "execution_count": null,
   "id": "fcda4228-cdf4-4e2e-b9e7-e957d35b6ecb",
   "metadata": {},
   "outputs": [],
   "source": []
  }
 ],
 "metadata": {
  "kernelspec": {
   "display_name": "Python 3 (ipykernel)",
   "language": "python",
   "name": "python3"
  },
  "language_info": {
   "codemirror_mode": {
    "name": "ipython",
    "version": 3
   },
   "file_extension": ".py",
   "mimetype": "text/x-python",
   "name": "python",
   "nbconvert_exporter": "python",
   "pygments_lexer": "ipython3",
   "version": "3.8.19"
  }
 },
 "nbformat": 4,
 "nbformat_minor": 5
}
