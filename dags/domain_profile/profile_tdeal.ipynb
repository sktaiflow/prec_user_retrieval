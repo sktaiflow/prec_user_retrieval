{
 "cells": [
  {
   "cell_type": "code",
   "execution_count": 1,
   "id": "afa07610-8fe8-4d61-8bfc-f93546444825",
   "metadata": {
    "execution": {
     "iopub.execute_input": "2024-06-11T06:49:42.598266Z",
     "iopub.status.busy": "2024-06-11T06:49:42.597435Z",
     "iopub.status.idle": "2024-06-11T06:49:42.609850Z",
     "shell.execute_reply": "2024-06-11T06:49:42.608823Z",
     "shell.execute_reply.started": "2024-06-11T06:49:42.598201Z"
    },
    "tags": []
   },
   "outputs": [],
   "source": [
    "# # # Parameters\n",
    "DT = \"2024-06-11\"   "
   ]
  },
  {
   "cell_type": "markdown",
   "id": "363b08fe-586b-4b37-9a98-dbee9c39d641",
   "metadata": {},
   "source": [
    "## **One Model Profile 생성 작업**"
   ]
  },
  {
   "cell_type": "markdown",
   "id": "6e8bbfe0-3d1d-41ea-b97d-3394ad548dcf",
   "metadata": {
    "execution": {
     "iopub.execute_input": "2024-06-03T23:07:29.647241Z",
     "iopub.status.busy": "2024-06-03T23:07:29.646408Z",
     "iopub.status.idle": "2024-06-03T23:07:29.655344Z",
     "shell.execute_reply": "2024-06-03T23:07:29.654108Z",
     "shell.execute_reply.started": "2024-06-03T23:07:29.647184Z"
    },
    "tags": []
   },
   "source": [
    "- 개요\n",
    "    - One Model Profile 생성 작업\n",
    "- 내용\n",
    "    - item, cat1, cat2 level로 프로파일링 작업 수행\n",
    "    - 단기 preference 정보\n",
    "        - 7일 내 item 정보를 통해서 생성\n",
    "        - 이때, item은 정규화 로직을 통해 추출된 단어 기반으로 최종 단어들은 추출\n",
    "    - 장기 preference 정보\n",
    "        - 60일 내 cat1, cat2 정보를 통해서 생성\n",
    "        - cat2가 더 상위 레벨임. 어떤 레벨로 장기 구성할지 선택 필요- 내용- 내용"
   ]
  },
  {
   "cell_type": "code",
   "execution_count": 2,
   "id": "683fb10c-f398-4690-942d-19f99dd2df12",
   "metadata": {
    "execution": {
     "iopub.execute_input": "2024-06-11T06:49:44.351009Z",
     "iopub.status.busy": "2024-06-11T06:49:44.350255Z",
     "iopub.status.idle": "2024-06-11T06:49:47.508550Z",
     "shell.execute_reply": "2024-06-11T06:49:47.506804Z",
     "shell.execute_reply.started": "2024-06-11T06:49:44.350950Z"
    },
    "tags": []
   },
   "outputs": [
    {
     "name": "stdout",
     "output_type": "stream",
     "text": [
      "Collecting konlpy\n",
      "  Using cached konlpy-0.6.0-py2.py3-none-any.whl.metadata (1.9 kB)\n",
      "Collecting JPype1>=0.7.0 (from konlpy)\n",
      "  Using cached JPype1-1.5.0-cp310-cp310-manylinux_2_17_x86_64.manylinux2014_x86_64.whl.metadata (4.9 kB)\n",
      "Collecting lxml>=4.1.0 (from konlpy)\n",
      "  Using cached lxml-5.2.2-cp310-cp310-manylinux_2_28_x86_64.whl.metadata (3.4 kB)\n",
      "Requirement already satisfied: numpy>=1.6 in /usr/local/lib/python3.10/dist-packages (from konlpy) (1.26.4)\n",
      "Requirement already satisfied: packaging in /usr/local/lib/python3.10/dist-packages (from JPype1>=0.7.0->konlpy) (24.0)\n",
      "Using cached konlpy-0.6.0-py2.py3-none-any.whl (19.4 MB)\n",
      "Using cached JPype1-1.5.0-cp310-cp310-manylinux_2_17_x86_64.manylinux2014_x86_64.whl (488 kB)\n",
      "Using cached lxml-5.2.2-cp310-cp310-manylinux_2_28_x86_64.whl (5.0 MB)\n",
      "Installing collected packages: lxml, JPype1, konlpy\n",
      "Successfully installed JPype1-1.5.0 konlpy-0.6.0 lxml-5.2.2\n"
     ]
    }
   ],
   "source": [
    "!pip install konlpy"
   ]
  },
  {
   "cell_type": "code",
   "execution_count": 3,
   "id": "f400f032-be1d-409d-82c1-914745945958",
   "metadata": {
    "execution": {
     "iopub.execute_input": "2024-06-11T06:49:47.512593Z",
     "iopub.status.busy": "2024-06-11T06:49:47.511794Z",
     "iopub.status.idle": "2024-06-11T06:49:48.918974Z",
     "shell.execute_reply": "2024-06-11T06:49:48.918178Z",
     "shell.execute_reply.started": "2024-06-11T06:49:47.512528Z"
    },
    "tags": []
   },
   "outputs": [],
   "source": [
    "from skt.gcp import get_bigquery_client, bq_insert_overwrite, get_max_part, bq_to_df, bq_to_pandas, pandas_to_bq_table, load_query_result_to_table, df_to_bq_table\n",
    "from pyspark.sql.functions import *\n",
    "from pyspark.sql.window import Window\n",
    "from pyspark.sql.functions import row_number\n",
    "from pyspark.sql import functions as F\n",
    "from datetime import datetime, date, timedelta\n",
    "from skt.ye import get_spark\n",
    "import pandas as pd\n",
    "import re\n",
    "from konlpy.tag import Okt\n",
    "from sklearn.feature_extraction.text import TfidfVectorizer\n",
    "import numpy as np"
   ]
  },
  {
   "cell_type": "code",
   "execution_count": 4,
   "id": "03c78959-500c-497c-84d9-5af7814acdbf",
   "metadata": {
    "execution": {
     "iopub.execute_input": "2024-06-11T06:49:48.920361Z",
     "iopub.status.busy": "2024-06-11T06:49:48.920018Z",
     "iopub.status.idle": "2024-06-11T06:49:49.278810Z",
     "shell.execute_reply": "2024-06-11T06:49:49.278041Z",
     "shell.execute_reply.started": "2024-06-11T06:49:48.920337Z"
    },
    "tags": []
   },
   "outputs": [],
   "source": [
    "okt = Okt()\n",
    "\n",
    "protected_keywords = ['특가']\n",
    "\n",
    "except_keywords = ['이', '그', '저', '것', '수', '등', '들', '및', '의', '를', '에', '가', '은', '는', '으로', '도', '과', '와', '한', '하고', '에서', '하다',\n",
    "                   '택', \"종\", \"개\", \"형\", \"모음\", \"세트\", \"모듬\", \"모음전\", \"외\", \"정\"]\n",
    "\n",
    "def extract_words_by_numbers(words, numbers):\n",
    "    # 단어와 숫자를 합친 쌍을 만듭니다.\n",
    "    word_number_pairs = list(zip(words, numbers))\n",
    "\n",
    "    # 숫자를 기준으로 쌍을 정렬합니다.\n",
    "    sorted_pairs = sorted(word_number_pairs, key=lambda x: -x[1])\n",
    "\n",
    "    # 정렬된 쌍에서 단어를 추출합니다.\n",
    "    sorted_words = [pair[0] for pair in sorted_pairs]\n",
    "\n",
    "    return sorted_words\n",
    "\n",
    "def preprocess_text(text):\n",
    "    # 특수문자와 숫자 제거\n",
    "    text = re.sub(r'[^가-힣\\s]', ' ', text)\n",
    "    \n",
    "    # 텍스트를 소문자로 변환\n",
    "    text = text.lower()\n",
    "    \n",
    "    # 단어 정규화\n",
    "    text = okt.normalize(text)\n",
    "    \n",
    "    # 전처리하여 단어 보호\n",
    "    protect_text = [x for x in text.split() if x in protected_keywords]\n",
    "    text = [x for x in text.split() if (x not in protected_keywords) & (x not in except_keywords)]\n",
    "    text = ' '.join(text)\n",
    "    \n",
    "    # 명사만 활용\n",
    "    text = text.split() # okt.nouns(text)\n",
    "    text.extend(protect_text)\n",
    "    \n",
    "    return ' '.join(text)\n",
    "\n",
    "\n",
    "def extract_keywords_low_idf(texts, num_keywords=10):\n",
    "    # 텍스트 전처리\n",
    "    processed_texts = [preprocess_text(text) for text in texts]\n",
    "    \n",
    "    # TF-IDF 벡터화\n",
    "    vectorizer = TfidfVectorizer()\n",
    "    tfidf_matrix = vectorizer.fit_transform(processed_texts)\n",
    "    \n",
    "    # 단어 순서와 IDF 값을 가져오기\n",
    "    feature_names = vectorizer.get_feature_names_out()\n",
    "    idf_values = vectorizer.idf_\n",
    "    \n",
    "    keywords = []\n",
    "    for i in range(len(processed_texts)):\n",
    "        split_dt = processed_texts[i].split()\n",
    "        scroe_idf = [-idf_values[feature_names==x][0] if len(idf_values[feature_names==x])>0 else 0 for x in split_dt]\n",
    "        sorted_indices = np.argsort(scroe_idf)\n",
    "        sorted_features = [split_dt[idx] for idx in sorted_indices]\n",
    "        keywords.append(sorted_features[:np.min([num_keywords, len(split_dt)])])\n",
    "    \n",
    "    return keywords"
   ]
  },
  {
   "cell_type": "markdown",
   "id": "a4db68ef-3781-4d45-8e71-17a6663a83ee",
   "metadata": {},
   "source": [
    "# 프로파일 : tdeal_v3"
   ]
  },
  {
   "cell_type": "code",
   "execution_count": 5,
   "id": "a45fd9bf-f169-4975-ba44-e07781779a98",
   "metadata": {
    "execution": {
     "iopub.execute_input": "2024-06-11T06:49:49.281187Z",
     "iopub.status.busy": "2024-06-11T06:49:49.280827Z",
     "iopub.status.idle": "2024-06-11T06:49:49.286166Z",
     "shell.execute_reply": "2024-06-11T06:49:49.285567Z",
     "shell.execute_reply.started": "2024-06-11T06:49:49.281164Z"
    },
    "tags": []
   },
   "outputs": [
    {
     "name": "stdout",
     "output_type": "stream",
     "text": [
      "DT :  2024-06-11\n",
      "DT_threshold :  2024-04-12\n",
      "DT_threshold :  2024-06-04\n"
     ]
    }
   ],
   "source": [
    "# DT = \"2024-06-02\"\n",
    "current_date = datetime.strptime(DT, \"%Y-%m-%d\")\n",
    "DT_threshold1 = (current_date - timedelta(days=60)).strftime(\"%Y-%m-%d\")\n",
    "DT_threshold2 = (current_date - timedelta(days=7)).strftime(\"%Y-%m-%d\")\n",
    "\n",
    "print(\"DT : \", DT)\n",
    "print(\"DT_threshold : \", DT_threshold1)\n",
    "print(\"DT_threshold : \", DT_threshold2)"
   ]
  },
  {
   "cell_type": "code",
   "execution_count": 6,
   "id": "25132bec-03d0-44d0-b7e3-60dec430e039",
   "metadata": {
    "execution": {
     "iopub.execute_input": "2024-06-11T06:49:49.287088Z",
     "iopub.status.busy": "2024-06-11T06:49:49.286898Z",
     "iopub.status.idle": "2024-06-11T06:49:49.297802Z",
     "shell.execute_reply": "2024-06-11T06:49:49.297067Z",
     "shell.execute_reply.started": "2024-06-11T06:49:49.287068Z"
    },
    "tags": []
   },
   "outputs": [],
   "source": [
    "query = f\"\"\"\n",
    "    select *\n",
    "    from adot_reco.recgpt_log_sequence_lag_daily_prd\n",
    "    where dt >= '{DT_threshold1}' and type = 'tdeal_v3'\n",
    "\"\"\""
   ]
  },
  {
   "cell_type": "code",
   "execution_count": 7,
   "id": "b0424344-3148-4457-bfdc-262457902153",
   "metadata": {
    "execution": {
     "iopub.execute_input": "2024-06-11T06:49:49.299034Z",
     "iopub.status.busy": "2024-06-11T06:49:49.298763Z",
     "iopub.status.idle": "2024-06-11T06:51:21.965864Z",
     "shell.execute_reply": "2024-06-11T06:51:21.964276Z",
     "shell.execute_reply.started": "2024-06-11T06:49:49.299013Z"
    },
    "tags": []
   },
   "outputs": [
    {
     "name": "stderr",
     "output_type": "stream",
     "text": [
      "Setting default log level to \"WARN\".\n",
      "To adjust logging level use sc.setLogLevel(newLevel). For SparkR, use setLogLevel(newLevel).\n",
      "24/06/11 15:50:53 WARN Client: Neither spark.yarn.jars nor spark.yarn.archive is set, falling back to uploading libraries under SPARK_HOME.\n",
      "24/06/11 15:51:17 WARN SQLConf: The SQL config 'spark.sql.execution.arrow.enabled' has been deprecated in Spark v3.0 and may be removed in the future. Use 'spark.sql.execution.arrow.pyspark.enabled' instead of it.\n"
     ]
    }
   ],
   "source": [
    "data = bq_to_df(query)"
   ]
  },
  {
   "cell_type": "markdown",
   "id": "9f42b66c-971a-4961-aea6-42c4b9e31e0c",
   "metadata": {},
   "source": [
    "## tdeal item level"
   ]
  },
  {
   "cell_type": "code",
   "execution_count": 9,
   "id": "593be244-e759-4d06-87ca-1046c9388e32",
   "metadata": {
    "execution": {
     "iopub.execute_input": "2024-06-11T06:52:43.601512Z",
     "iopub.status.busy": "2024-06-11T06:52:43.600712Z",
     "iopub.status.idle": "2024-06-11T06:52:43.759685Z",
     "shell.execute_reply": "2024-06-11T06:52:43.758329Z",
     "shell.execute_reply.started": "2024-06-11T06:52:43.601452Z"
    },
    "tags": []
   },
   "outputs": [],
   "source": [
    "data_item = data.filter(col('dt') >= f'{DT_threshold2}')"
   ]
  },
  {
   "cell_type": "code",
   "execution_count": 10,
   "id": "05b755ca-814e-4452-9bc5-dc075541d3a7",
   "metadata": {
    "execution": {
     "iopub.execute_input": "2024-06-11T06:52:43.972576Z",
     "iopub.status.busy": "2024-06-11T06:52:43.971591Z",
     "iopub.status.idle": "2024-06-11T06:52:44.016367Z",
     "shell.execute_reply": "2024-06-11T06:52:44.015023Z",
     "shell.execute_reply.started": "2024-06-11T06:52:43.972512Z"
    },
    "tags": []
   },
   "outputs": [],
   "source": [
    "data_item = data_item.select(['svc_mgmt_num','item']).na.drop(\"any\", subset='item')"
   ]
  },
  {
   "cell_type": "code",
   "execution_count": 12,
   "id": "75ef43ff-862c-4c01-b64b-611e681019db",
   "metadata": {
    "execution": {
     "iopub.execute_input": "2024-06-11T06:52:50.691371Z",
     "iopub.status.busy": "2024-06-11T06:52:50.690592Z",
     "iopub.status.idle": "2024-06-11T06:52:50.844466Z",
     "shell.execute_reply": "2024-06-11T06:52:50.843148Z",
     "shell.execute_reply.started": "2024-06-11T06:52:50.691310Z"
    },
    "tags": []
   },
   "outputs": [],
   "source": [
    "data_item = data_item.groupby('svc_mgmt_num','item').agg(count(\"*\").alias(\"item_cnt\"))\n",
    "data_item_user = data_item.groupby('svc_mgmt_num').agg(max(\"item_cnt\").alias(\"item_max_cnt\"))\n",
    "data_item = data_item.join(data_item_user, on='svc_mgmt_num', how=\"left\")\n",
    "data_item = data_item.withColumn('item_prop', col(\"item_cnt\")/col(\"item_max_cnt\"))\n",
    "data_item1 = data_item.filter(col('item_prop') > 0.6)"
   ]
  },
  {
   "cell_type": "code",
   "execution_count": null,
   "id": "d950bd91-c816-4c3b-bb93-d6840fb7ecf5",
   "metadata": {
    "execution": {
     "iopub.status.busy": "2024-06-11T06:51:22.263833Z",
     "iopub.status.idle": "2024-06-11T06:51:22.264132Z",
     "shell.execute_reply": "2024-06-11T06:51:22.264005Z",
     "shell.execute_reply.started": "2024-06-11T06:51:22.263990Z"
    },
    "tags": []
   },
   "outputs": [],
   "source": [
    "# data1_item1.show(n=2)"
   ]
  },
  {
   "cell_type": "code",
   "execution_count": null,
   "id": "0c5b50ff-dfc3-48c5-af0f-5709bfac563b",
   "metadata": {
    "execution": {
     "iopub.status.busy": "2024-06-11T06:51:22.265087Z",
     "iopub.status.idle": "2024-06-11T06:51:22.265376Z",
     "shell.execute_reply": "2024-06-11T06:51:22.265247Z",
     "shell.execute_reply.started": "2024-06-11T06:51:22.265232Z"
    },
    "tags": []
   },
   "outputs": [],
   "source": [
    "# data1_item1.count()"
   ]
  },
  {
   "cell_type": "code",
   "execution_count": 13,
   "id": "a02bcb19-311d-4aec-a372-27e804276c9d",
   "metadata": {
    "execution": {
     "iopub.execute_input": "2024-06-11T06:52:56.642805Z",
     "iopub.status.busy": "2024-06-11T06:52:56.642247Z",
     "iopub.status.idle": "2024-06-11T06:52:56.669559Z",
     "shell.execute_reply": "2024-06-11T06:52:56.668303Z",
     "shell.execute_reply.started": "2024-06-11T06:52:56.642765Z"
    },
    "tags": []
   },
   "outputs": [],
   "source": [
    "data_item2 = data_item1.select('item').distinct()"
   ]
  },
  {
   "cell_type": "code",
   "execution_count": 14,
   "id": "bc836556-d545-4629-80f3-0ea3812d8a27",
   "metadata": {
    "execution": {
     "iopub.execute_input": "2024-06-11T06:53:00.483750Z",
     "iopub.status.busy": "2024-06-11T06:53:00.482944Z",
     "iopub.status.idle": "2024-06-11T06:54:00.631257Z",
     "shell.execute_reply": "2024-06-11T06:54:00.630271Z",
     "shell.execute_reply.started": "2024-06-11T06:53:00.483690Z"
    },
    "tags": []
   },
   "outputs": [
    {
     "name": "stderr",
     "output_type": "stream",
     "text": [
      "                                                                                \r"
     ]
    }
   ],
   "source": [
    "data_item2_pd = data_item2.toPandas()"
   ]
  },
  {
   "cell_type": "code",
   "execution_count": 15,
   "id": "b116ac18-ad03-423c-aa4e-460adaa359c1",
   "metadata": {
    "execution": {
     "iopub.execute_input": "2024-06-11T06:54:00.633611Z",
     "iopub.status.busy": "2024-06-11T06:54:00.633263Z",
     "iopub.status.idle": "2024-06-11T06:54:00.641660Z",
     "shell.execute_reply": "2024-06-11T06:54:00.641044Z",
     "shell.execute_reply.started": "2024-06-11T06:54:00.633586Z"
    },
    "tags": []
   },
   "outputs": [],
   "source": [
    "item_list = list(data_item2_pd['item'])"
   ]
  },
  {
   "cell_type": "markdown",
   "id": "f02a1b3b-b2a0-4389-afe9-49351203e3e7",
   "metadata": {
    "execution": {
     "iopub.execute_input": "2024-06-03T02:43:18.754750Z",
     "iopub.status.busy": "2024-06-03T02:43:18.753667Z",
     "iopub.status.idle": "2024-06-03T02:43:18.769653Z",
     "shell.execute_reply": "2024-06-03T02:43:18.768831Z",
     "shell.execute_reply.started": "2024-06-03T02:43:18.754696Z"
    },
    "tags": []
   },
   "source": [
    "- item을 단어 단위로 재가공(정규화 작업)하는 파트"
   ]
  },
  {
   "cell_type": "code",
   "execution_count": null,
   "id": "b52ecf1d-7e17-47b2-af11-59252510a94b",
   "metadata": {
    "execution": {
     "iopub.status.busy": "2024-06-11T06:51:22.269549Z",
     "iopub.status.idle": "2024-06-11T06:51:22.269780Z",
     "shell.execute_reply": "2024-06-11T06:51:22.269677Z",
     "shell.execute_reply.started": "2024-06-11T06:51:22.269665Z"
    },
    "tags": []
   },
   "outputs": [],
   "source": [
    "# keywords_per_text_low_idf = extract_keywords_low_idf(item_list, num_keywords=5)"
   ]
  },
  {
   "cell_type": "code",
   "execution_count": null,
   "id": "3fc61d77-81bf-43bd-b798-f631adbcfabe",
   "metadata": {
    "execution": {
     "iopub.status.busy": "2024-06-11T06:51:22.270486Z",
     "iopub.status.idle": "2024-06-11T06:51:22.270722Z",
     "shell.execute_reply": "2024-06-11T06:51:22.270617Z",
     "shell.execute_reply.started": "2024-06-11T06:51:22.270604Z"
    },
    "tags": []
   },
   "outputs": [],
   "source": [
    "# keywords_per_text_low_idf_normalized = extract_keywords_low_idf(item_list, num_keywords=5)"
   ]
  },
  {
   "cell_type": "code",
   "execution_count": 16,
   "id": "4a6fc3b2-5255-4608-a00a-8d39e420fcd9",
   "metadata": {
    "execution": {
     "iopub.execute_input": "2024-06-11T06:54:00.642709Z",
     "iopub.status.busy": "2024-06-11T06:54:00.642517Z",
     "iopub.status.idle": "2024-06-11T06:58:39.063590Z",
     "shell.execute_reply": "2024-06-11T06:58:39.058270Z",
     "shell.execute_reply.started": "2024-06-11T06:54:00.642689Z"
    },
    "tags": []
   },
   "outputs": [],
   "source": [
    "keywords_per_text_low_idf_normalized1 = extract_keywords_low_idf(item_list, num_keywords=5)"
   ]
  },
  {
   "cell_type": "markdown",
   "id": "43c14099-999a-4b74-99ea-96ee382e10c8",
   "metadata": {},
   "source": [
    "- 기존 item에 정규화 작업된 것들 merge"
   ]
  },
  {
   "cell_type": "code",
   "execution_count": 17,
   "id": "aab40b44-df9b-45e1-ac9a-0115f28565b4",
   "metadata": {
    "execution": {
     "iopub.execute_input": "2024-06-11T06:58:39.069398Z",
     "iopub.status.busy": "2024-06-11T06:58:39.068884Z",
     "iopub.status.idle": "2024-06-11T06:58:39.716191Z",
     "shell.execute_reply": "2024-06-11T06:58:39.715478Z",
     "shell.execute_reply.started": "2024-06-11T06:58:39.069356Z"
    },
    "tags": []
   },
   "outputs": [],
   "source": [
    "# keywords_idf_nor_pd = pd.DataFrame([item_list,keywords_per_text_low_idf_normalized],index=['item','item_normalized']).T\n",
    "keywords_idf_nor_pd1 = pd.DataFrame([item_list,keywords_per_text_low_idf_normalized1],index=['item','item_normalized']).T"
   ]
  },
  {
   "cell_type": "code",
   "execution_count": 18,
   "id": "7758a5e7-4737-46e9-961b-95f6b632dc21",
   "metadata": {
    "execution": {
     "iopub.execute_input": "2024-06-11T06:58:39.717346Z",
     "iopub.status.busy": "2024-06-11T06:58:39.717124Z",
     "iopub.status.idle": "2024-06-11T06:58:39.729454Z",
     "shell.execute_reply": "2024-06-11T06:58:39.728866Z",
     "shell.execute_reply.started": "2024-06-11T06:58:39.717325Z"
    },
    "tags": []
   },
   "outputs": [],
   "source": [
    "spark = get_spark()"
   ]
  },
  {
   "cell_type": "code",
   "execution_count": 19,
   "id": "df3860a7-83d1-40b3-a7f4-204f749caadb",
   "metadata": {
    "execution": {
     "iopub.execute_input": "2024-06-11T06:58:39.730413Z",
     "iopub.status.busy": "2024-06-11T06:58:39.730225Z",
     "iopub.status.idle": "2024-06-11T06:58:39.875635Z",
     "shell.execute_reply": "2024-06-11T06:58:39.874255Z",
     "shell.execute_reply.started": "2024-06-11T06:58:39.730393Z"
    },
    "tags": []
   },
   "outputs": [
    {
     "name": "stderr",
     "output_type": "stream",
     "text": [
      "/opt/spark/python/lib/pyspark.zip/pyspark/sql/pandas/conversion.py:471: FutureWarning: iteritems is deprecated and will be removed in a future version. Use .items instead.\n",
      "  arrow_data = [[(c, t) for (_, c), t in zip(pdf_slice.iteritems(), arrow_types)]\n"
     ]
    }
   ],
   "source": [
    "keywords_idf_nor_spark = spark.createDataFrame(keywords_idf_nor_pd1)"
   ]
  },
  {
   "cell_type": "code",
   "execution_count": 20,
   "id": "4693e1cc-870a-4c04-969d-fdf49e0623d6",
   "metadata": {
    "execution": {
     "iopub.execute_input": "2024-06-11T06:58:39.878338Z",
     "iopub.status.busy": "2024-06-11T06:58:39.877646Z",
     "iopub.status.idle": "2024-06-11T06:58:40.270006Z",
     "shell.execute_reply": "2024-06-11T06:58:40.269252Z",
     "shell.execute_reply.started": "2024-06-11T06:58:39.878278Z"
    },
    "tags": []
   },
   "outputs": [],
   "source": [
    "data_item1 = data_item1.join(keywords_idf_nor_spark, on='item')\n",
    "data_item1_exploded = data_item1.withColumn(\"item_normalized\", explode(\"item_normalized\"))\n",
    "item_keyword_counts = data_item1_exploded.groupBy(\"svc_mgmt_num\", \"item_normalized\").count()\n",
    "window_item_spec = Window.partitionBy(\"svc_mgmt_num\").orderBy(desc(\"count\"))\n",
    "\n",
    "top_keywords = item_keyword_counts.withColumn(\"rank\", row_number().over(window_item_spec)) \\\n",
    "                .filter(col(\"rank\") <= 10) \\\n",
    "                .drop(\"rank\")\n",
    "data_item2 = top_keywords.groupBy(\"svc_mgmt_num\").agg(concat_ws(\",\",collect_list(\"item_normalized\")).alias(\"top_item_normalized\"))"
   ]
  },
  {
   "cell_type": "code",
   "execution_count": null,
   "id": "771043b0-a9bc-4523-8757-4cb2da0620ef",
   "metadata": {
    "execution": {
     "iopub.status.busy": "2024-06-11T06:51:22.276665Z",
     "iopub.status.idle": "2024-06-11T06:51:22.276913Z",
     "shell.execute_reply": "2024-06-11T06:51:22.276795Z",
     "shell.execute_reply.started": "2024-06-11T06:51:22.276782Z"
    },
    "tags": []
   },
   "outputs": [],
   "source": [
    "# data1_item2.show(n=10)"
   ]
  },
  {
   "cell_type": "markdown",
   "id": "7baaa5d2-932c-459a-8e26-66ddc9337a8d",
   "metadata": {},
   "source": [
    "## tdeal cat level\n",
    "- cat2(더 상위 카테고리) > cat1"
   ]
  },
  {
   "cell_type": "code",
   "execution_count": 21,
   "id": "027bfeaf-d3f3-4e67-b5df-62375b2836ac",
   "metadata": {
    "execution": {
     "iopub.execute_input": "2024-06-11T06:58:40.271318Z",
     "iopub.status.busy": "2024-06-11T06:58:40.270914Z",
     "iopub.status.idle": "2024-06-11T06:58:40.278314Z",
     "shell.execute_reply": "2024-06-11T06:58:40.277542Z",
     "shell.execute_reply.started": "2024-06-11T06:58:40.271292Z"
    },
    "tags": []
   },
   "outputs": [],
   "source": [
    "def cat_level_prefer(data, cate=\"cat1\", thre=0.7):\n",
    "    data = data.select(['svc_mgmt_num',f'{cate}']).na.drop(\"any\", subset=f'{cate}')\n",
    "    data = data.groupby('svc_mgmt_num',f'{cate}').agg(count(\"*\").alias(f'{cate}_cnt'))\n",
    "    data_user = data.groupby('svc_mgmt_num').agg(max(f'{cate}_cnt').alias(f'{cate}_max_cnt'))\n",
    "    data = data.join(data_user, on='svc_mgmt_num', how=\"left\")\n",
    "    data = data.withColumn(f'{cate}_prop', col(f'{cate}_cnt')/col(f'{cate}_max_cnt'))\n",
    "    data = data.filter(col(f'{cate}_prop') > thre)\n",
    "    data = data.groupBy(\"svc_mgmt_num\").agg(concat_ws(\", \",collect_list(f'{cate}')).alias(f'{cate}_list'))\n",
    "    \n",
    "    return data"
   ]
  },
  {
   "cell_type": "markdown",
   "id": "458d2f64-5f8c-4bb8-aa03-b560ef9b3f64",
   "metadata": {},
   "source": [
    "- cat1"
   ]
  },
  {
   "cell_type": "code",
   "execution_count": 22,
   "id": "eccf113f-f1ec-42cd-9ef5-7357b3021ca5",
   "metadata": {
    "execution": {
     "iopub.execute_input": "2024-06-11T06:58:40.279673Z",
     "iopub.status.busy": "2024-06-11T06:58:40.279299Z",
     "iopub.status.idle": "2024-06-11T06:58:40.417061Z",
     "shell.execute_reply": "2024-06-11T06:58:40.415662Z",
     "shell.execute_reply.started": "2024-06-11T06:58:40.279642Z"
    },
    "tags": []
   },
   "outputs": [],
   "source": [
    "data_cat1 = cat_level_prefer(data, cate=\"cat1\", thre=0.6)"
   ]
  },
  {
   "cell_type": "markdown",
   "id": "31b163e1-d5d6-473f-94ee-a3c022c5f211",
   "metadata": {},
   "source": [
    "- cat2"
   ]
  },
  {
   "cell_type": "code",
   "execution_count": 23,
   "id": "674e4c7e-7e2e-4b57-adf0-95581c410f6b",
   "metadata": {
    "execution": {
     "iopub.execute_input": "2024-06-11T06:58:40.422283Z",
     "iopub.status.busy": "2024-06-11T06:58:40.421598Z",
     "iopub.status.idle": "2024-06-11T06:58:40.499567Z",
     "shell.execute_reply": "2024-06-11T06:58:40.498418Z",
     "shell.execute_reply.started": "2024-06-11T06:58:40.422224Z"
    },
    "tags": []
   },
   "outputs": [],
   "source": [
    "data_cat2 = cat_level_prefer(data, cate=\"cat2\", thre=0.5)"
   ]
  },
  {
   "cell_type": "markdown",
   "id": "31394bc8-3dee-464d-b9c1-d38b5e91f453",
   "metadata": {},
   "source": [
    "- cat3"
   ]
  },
  {
   "cell_type": "code",
   "execution_count": null,
   "id": "e4693261-dbfb-479a-8d6b-3c9a529626b6",
   "metadata": {
    "execution": {
     "iopub.status.busy": "2024-06-11T06:51:22.280456Z",
     "iopub.status.idle": "2024-06-11T06:51:22.280693Z",
     "shell.execute_reply": "2024-06-11T06:51:22.280585Z",
     "shell.execute_reply.started": "2024-06-11T06:51:22.280572Z"
    },
    "tags": []
   },
   "outputs": [],
   "source": [
    "# data1_cat3 = cat_level_prefer(data1, cate=\"cat3\", thre=0.7)"
   ]
  },
  {
   "cell_type": "markdown",
   "id": "9bac1cc4-b725-41b7-82b4-be03578e1706",
   "metadata": {},
   "source": [
    "### 전체 데이터 Merge"
   ]
  },
  {
   "cell_type": "code",
   "execution_count": 24,
   "id": "7c1c5068-0366-4060-a618-0afb7714c971",
   "metadata": {
    "execution": {
     "iopub.execute_input": "2024-06-11T06:58:40.501909Z",
     "iopub.status.busy": "2024-06-11T06:58:40.501181Z",
     "iopub.status.idle": "2024-06-11T06:58:40.540918Z",
     "shell.execute_reply": "2024-06-11T06:58:40.539894Z",
     "shell.execute_reply.started": "2024-06-11T06:58:40.501831Z"
    },
    "tags": []
   },
   "outputs": [],
   "source": [
    "full_data = data_item2.join(data_cat1,on=\"svc_mgmt_num\")\n",
    "full_data = full_data.join(data_cat2,on=\"svc_mgmt_num\")\n",
    "# full_data = full_data.join(data1_cat3,on=\"svc_mgmt_num\")"
   ]
  },
  {
   "cell_type": "code",
   "execution_count": 25,
   "id": "764e836c-0e2f-40d3-8758-3302adf89ead",
   "metadata": {
    "execution": {
     "iopub.execute_input": "2024-06-11T06:58:40.543126Z",
     "iopub.status.busy": "2024-06-11T06:58:40.542499Z",
     "iopub.status.idle": "2024-06-11T06:58:40.562193Z",
     "shell.execute_reply": "2024-06-11T06:58:40.561303Z",
     "shell.execute_reply.started": "2024-06-11T06:58:40.543070Z"
    },
    "tags": []
   },
   "outputs": [],
   "source": [
    "full_data1 = full_data.withColumn(\"dt\", lit(DT).cast(\"date\"))"
   ]
  },
  {
   "cell_type": "code",
   "execution_count": 69,
   "id": "d03f6e9d-4b7b-4b51-83e7-0b74bdedf351",
   "metadata": {
    "execution": {
     "iopub.execute_input": "2024-06-04T00:18:39.309515Z",
     "iopub.status.busy": "2024-06-04T00:18:39.308704Z",
     "iopub.status.idle": "2024-06-04T00:19:28.285945Z",
     "shell.execute_reply": "2024-06-04T00:19:28.284515Z",
     "shell.execute_reply.started": "2024-06-04T00:18:39.309455Z"
    },
    "tags": []
   },
   "outputs": [
    {
     "name": "stderr",
     "output_type": "stream",
     "text": [
      "[Stage 130:>                                                        (0 + 1) / 1]\r"
     ]
    },
    {
     "name": "stdout",
     "output_type": "stream",
     "text": [
      "+--------------------+---------------------------------+-------------------+--------------------+---------+----------+\n",
      "|        svc_mgmt_num|              top_item_normalized|          cat1_list|           cat2_list|cat3_list|        dt|\n",
      "+--------------------+---------------------------------+-------------------+--------------------+---------+----------+\n",
      "|000097438935ad46c...|               [스파클, 생수, 병]|             [음료]|              [식품]|  [click]|2024-06-04|\n",
      "|0001a217490e46046...|  [속옷, 캘빈클라인, 목요특가,...|[남성언더웨어/잠옷]|          [패션의류]|  [click]|2024-06-04|\n",
      "|00066d5a8c7275e3e...|    [조선, 이용, 그랜드, 부산,...|             [숙박]|         [여행/티켓]|  [click]|2024-06-04|\n",
      "|0007ba4a17fcd1d42...|  [칸디스, 남여공용, 트레이닝,...|         [남성의류]|          [패션의류]|  [click]|2024-06-04|\n",
      "|0008addabe88ac82d...|   [반팔, 티셔츠, 나이키, 남녀...|         [남성의류]|          [패션의류]|  [click]|2024-06-04|\n",
      "|000b6fb0e93adfcfa...|   [나이키, 반바지, 미뉴트리, ...|         [남성의류]|[패션잡화, 패션의류]|  [click]|2024-06-04|\n",
      "|000eabf2c1108ea72...|[라이트스탠다드, 동원에프앤비,...|         [가공식품]|    [패션의류, 식품]|  [click]|2024-06-04|\n",
      "|000f1de87158e5b82...| [카라니트, 반팔니트, 폴로랄프...|         [여성의류]|          [패션의류]|  [click]|2024-06-04|\n",
      "|000f431b5d901e1fa...|     [코털제거기, 스위스밀리터리]|       [이미용가전]|       [디지털/가전]|  [click]|2024-06-04|\n",
      "|00101cd8636509a3f...|   [락토핏, 생유산균, 코어, 종...|           [영양제]|          [건강식품]|  [click]|2024-06-04|\n",
      "+--------------------+---------------------------------+-------------------+--------------------+---------+----------+\n",
      "only showing top 10 rows\n",
      "\n"
     ]
    },
    {
     "name": "stderr",
     "output_type": "stream",
     "text": [
      "                                                                                \r"
     ]
    }
   ],
   "source": [
    "full_data1.show(n=10)"
   ]
  },
  {
   "cell_type": "code",
   "execution_count": 26,
   "id": "8809d08e-26da-4241-b8e6-78a4425c3474",
   "metadata": {
    "execution": {
     "iopub.execute_input": "2024-06-11T06:58:40.564158Z",
     "iopub.status.busy": "2024-06-11T06:58:40.563582Z",
     "iopub.status.idle": "2024-06-11T06:58:40.587218Z",
     "shell.execute_reply": "2024-06-11T06:58:40.586033Z",
     "shell.execute_reply.started": "2024-06-11T06:58:40.564101Z"
    },
    "tags": []
   },
   "outputs": [],
   "source": [
    "full_data1 = full_data1.drop('cat3_list')\n",
    "full_data1 = full_data1.withColumnRenamed(\"top_item_normalized\", \"tdeal_item_prefer\")\\\n",
    "                        .withColumnRenamed(\"cat1_list\", \"tdeal_cat1_prefer\")\\\n",
    "                        .withColumnRenamed(\"cat2_list\", \"tdeal_cat2_prefer\")"
   ]
  },
  {
   "cell_type": "code",
   "execution_count": 27,
   "id": "2d0c3a53-9d8a-4c18-a3ac-b81936dbb98f",
   "metadata": {
    "execution": {
     "iopub.execute_input": "2024-06-11T06:58:40.589454Z",
     "iopub.status.busy": "2024-06-11T06:58:40.588877Z",
     "iopub.status.idle": "2024-06-11T06:58:40.596173Z",
     "shell.execute_reply": "2024-06-11T06:58:40.594885Z",
     "shell.execute_reply.started": "2024-06-11T06:58:40.589400Z"
    },
    "tags": []
   },
   "outputs": [
    {
     "name": "stdout",
     "output_type": "stream",
     "text": [
      "root\n",
      " |-- svc_mgmt_num: string (nullable = true)\n",
      " |-- tdeal_item_prefer: string (nullable = false)\n",
      " |-- tdeal_cat1_prefer: string (nullable = false)\n",
      " |-- tdeal_cat2_prefer: string (nullable = false)\n",
      " |-- dt: date (nullable = true)\n",
      "\n"
     ]
    }
   ],
   "source": [
    "full_data1.printSchema()"
   ]
  },
  {
   "cell_type": "markdown",
   "id": "dba57c93-4317-4dd1-9967-7a1d0d1beeaa",
   "metadata": {},
   "source": [
    "### AIDP 저장"
   ]
  },
  {
   "cell_type": "code",
   "execution_count": 28,
   "id": "5d5e372b-523a-42e8-9441-f3aa2e832519",
   "metadata": {
    "execution": {
     "iopub.execute_input": "2024-06-11T06:58:40.597893Z",
     "iopub.status.busy": "2024-06-11T06:58:40.597483Z",
     "iopub.status.idle": "2024-06-11T06:58:40.604815Z",
     "shell.execute_reply": "2024-06-11T06:58:40.603959Z",
     "shell.execute_reply.started": "2024-06-11T06:58:40.597860Z"
    },
    "tags": []
   },
   "outputs": [],
   "source": [
    "dest_dataset = \"x1113099\"\n",
    "partitioned_dest_table = \"one_model_profile_tdeal\""
   ]
  },
  {
   "cell_type": "code",
   "execution_count": 29,
   "id": "ea527d8b-3206-405e-baa6-9bed4f97a905",
   "metadata": {
    "execution": {
     "iopub.execute_input": "2024-06-11T06:58:40.606314Z",
     "iopub.status.busy": "2024-06-11T06:58:40.605928Z",
     "iopub.status.idle": "2024-06-11T06:58:42.279037Z",
     "shell.execute_reply": "2024-06-11T06:58:42.277727Z",
     "shell.execute_reply.started": "2024-06-11T06:58:40.606282Z"
    },
    "tags": []
   },
   "outputs": [
    {
     "name": "stdout",
     "output_type": "stream",
     "text": [
      "생성된 테이블 : x1113099.one_model_profile_tdeal\n"
     ]
    }
   ],
   "source": [
    "get_bigquery_client().query(f\"\"\"\n",
    "    CREATE TABLE IF NOT EXISTS {dest_dataset}.{partitioned_dest_table}\n",
    "    (\n",
    "        svc_mgmt_num STRING,\n",
    "        tdeal_item_prefer STRING,\n",
    "        tdeal_cat1_prefer STRING,\n",
    "        tdeal_cat2_prefer STRING,\n",
    "        dt DATE,\n",
    "    )\n",
    "    PARTITION BY dt\n",
    "\"\"\").result()\n",
    "\n",
    "print(f\"생성된 테이블 : {dest_dataset}.{partitioned_dest_table}\")"
   ]
  },
  {
   "cell_type": "code",
   "execution_count": 30,
   "id": "a8c06596-4aa0-4b0e-a481-08bcccd8a313",
   "metadata": {
    "execution": {
     "iopub.execute_input": "2024-06-11T06:58:42.281579Z",
     "iopub.status.busy": "2024-06-11T06:58:42.280938Z",
     "iopub.status.idle": "2024-06-11T07:14:01.222386Z",
     "shell.execute_reply": "2024-06-11T07:14:01.221100Z",
     "shell.execute_reply.started": "2024-06-11T06:58:42.281520Z"
    },
    "tags": []
   },
   "outputs": [
    {
     "name": "stderr",
     "output_type": "stream",
     "text": [
      "                                                                                \r"
     ]
    }
   ],
   "source": [
    "df_to_bq_table(df=full_data1,\n",
    "               dataset=dest_dataset,\n",
    "               table_name=partitioned_dest_table,\n",
    "               mode=\"overwrite\")"
   ]
  },
  {
   "cell_type": "code",
   "execution_count": null,
   "id": "d97528fb-c9bb-454b-a91a-4e74fca38080",
   "metadata": {},
   "outputs": [],
   "source": []
  }
 ],
 "metadata": {
  "kernelspec": {
   "display_name": "Python 3 (ipykernel)",
   "language": "python",
   "name": "python3"
  },
  "language_info": {
   "codemirror_mode": {
    "name": "ipython",
    "version": 3
   },
   "file_extension": ".py",
   "mimetype": "text/x-python",
   "name": "python",
   "nbconvert_exporter": "python",
   "pygments_lexer": "ipython3",
   "version": "3.8.19"
  }
 },
 "nbformat": 4,
 "nbformat_minor": 5
}
