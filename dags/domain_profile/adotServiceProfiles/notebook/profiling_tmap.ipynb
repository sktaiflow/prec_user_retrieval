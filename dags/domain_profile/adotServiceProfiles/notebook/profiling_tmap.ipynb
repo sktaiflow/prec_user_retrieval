{
 "cells": [
  {
   "cell_type": "code",
   "execution_count": null,
   "id": "b083b584",
   "metadata": {},
   "outputs": [],
   "source": [
    "from skt.gcp import (\n",
    "    PROJECT_ID,\n",
    "    bq_insert_overwrite,\n",
    "    bq_to_df,\n",
    "    bq_to_pandas,\n",
    "    get_bigquery_client,\n",
    "    bq_table_exists,\n",
    "    get_max_part,\n",
    "    load_query_result_to_table,\n",
    "    pandas_to_bq,\n",
    "    pandas_to_bq_table,\n",
    "    load_bigquery_ipython_magic,\n",
    "    get_bigquery_client,\n",
    "    _print_query_job_results,\n",
    "    load_query_result_to_partitions,\n",
    "    df_to_bq_table\n",
    "    \n",
    ")\n",
    "\n",
    "from skt.ye import (\n",
    "    get_hdfs_conn,\n",
    "    get_spark,\n",
    "    hive_execute,\n",
    "    hive_to_pandas,\n",
    "    pandas_to_parquet,\n",
    "    slack_send,\n",
    "    get_secrets\n",
    ")"
   ]
  },
  {
   "cell_type": "code",
   "execution_count": null,
   "id": "05b8b9c2",
   "metadata": {},
   "outputs": [],
   "source": [
    "from pyspark.sql.functions import *\n",
    "from pyspark.sql.window import Window\n",
    "from pyspark.sql.functions import (\n",
    "    row_number, \n",
    "    col, \n",
    "    lit, \n",
    "    count, \n",
    "    log, \n",
    "    exp, \n",
    "    sum as spark_sum\n",
    ")\n",
    "from pyspark.sql import functions as F\n",
    "from pyspark.sql.types import DoubleType"
   ]
  },
  {
   "cell_type": "code",
   "execution_count": null,
   "id": "9e3e6f73",
   "metadata": {},
   "outputs": [],
   "source": [
    "import pandas as pd\n",
    "from datetime import datetime, date, timedelta"
   ]
  },
  {
   "cell_type": "code",
   "execution_count": null,
   "id": "149aaa4c",
   "metadata": {},
   "outputs": [],
   "source": [
    "print(f'current_dt: {current_dt}')\n",
    "print(f'state: {state}')\n",
    "print(f'log_duration: {log_duration}')\n"
   ]
  },
  {
   "cell_type": "code",
   "execution_count": null,
   "id": "dc30fdcb",
   "metadata": {},
   "outputs": [],
   "source": [
    "execution_dt = datetime.strptime(current_dt, '%Y-%m-%d')\n",
    "execution_dt_one_ago = (execution_dt - timedelta(days=1)).strftime('%Y-%m-%d')\n",
    "log_duration = int(log_duration) - 1\n",
    "short_duration = 6\n"
   ]
  },
  {
   "cell_type": "code",
   "execution_count": null,
   "id": "8f3a62b6",
   "metadata": {},
   "outputs": [],
   "source": [
    "long_start_dt = (execution_dt - timedelta(days=log_duration)).strftime(\"%Y-%m-%d\")\n",
    "short_start_dt = (execution_dt - timedelta(days=short_duration)).strftime(\"%Y-%m-%d\")\n",
    "\n",
    "print(\"long_start_dt : \", long_start_dt)\n",
    "print(\"short_start_dt : \", short_start_dt)"
   ]
  },
  {
   "cell_type": "code",
   "execution_count": null,
   "id": "595cab73",
   "metadata": {},
   "outputs": [],
   "source": [
    "db_name = \"adot_reco_dev\""
   ]
  },
  {
   "cell_type": "code",
   "execution_count": null,
   "id": "76215d17",
   "metadata": {},
   "outputs": [],
   "source": [
    "def extract_prefer_list(data, thre=0.7, col_names='tmap_total'):\n",
    "    data_distinct = data.select(['cat1','cat2','item']).distinct()\n",
    "    \n",
    "    data = data.select(['svc_mgmt_num','luna_id','item']).na.drop(\"any\", subset='item')\n",
    "    data = data.groupby('svc_mgmt_num','luna_id','item').agg(count(\"*\").alias('item_cnt'))\n",
    "    data_user = data.groupby(['svc_mgmt_num','luna_id']).agg(max('item_cnt').alias('item_max_cnt'))\n",
    "    data = data.join(data_user, on=['svc_mgmt_num','luna_id'], how=\"left\")\n",
    "    data = data.withColumn('item_prop', col('item_cnt')/col('item_max_cnt'))\n",
    "    \n",
    "    # 전체 빈도수 기반으로 선호 장소 추출\n",
    "    data1 = data.filter(col('item_prop') > thre)\n",
    "    window_spec1 = Window.partitionBy([\"svc_mgmt_num\",'luna_id']).orderBy(F.desc('item_prop'))\n",
    "\n",
    "    top_keywords1 = data1.withColumn(\"rank\", row_number().over(window_spec1)) \\\n",
    "                    .filter(col(\"rank\") <= 10) \\\n",
    "                    .drop(\"rank\")\n",
    "    \n",
    "    top_keywords1 = top_keywords1.dropDuplicates(['luna_id','item']).select(['svc_mgmt_num', 'luna_id', 'item'])\n",
    "    # data1 = top_keywords.groupBy(\"svc_mgmt_num\",'luna_id').agg(concat_ws(\", \",collect_list(f'{cate}')).alias(f'{cate}_list'))\n",
    "    \n",
    "    # IDF 고려하여 유저가 특이하게 방문하는 장소 추출\n",
    "    data_item_user_cnt = data.select(['svc_mgmt_num','luna_id']).distinct().count()\n",
    "    \n",
    "    data_idf = data.select(['svc_mgmt_num','luna_id','item']).distinct()\n",
    "    data_idf_cnt = data_idf.groupby('item').agg(count(\"*\").alias('item_idf_cnt'))\n",
    "    data2 = data.join(data_idf_cnt,on='item',how=\"left\")\n",
    "    data2 = data2.withColumn('idf_wei', log(data_item_user_cnt / (1+col(\"item_idf_cnt\"))))\n",
    "    data2 = data2.withColumn('rev_item_prop', 0.6/(1.0 + exp(-col(\"idf_wei\")))+col('item_prop')*0.4)\n",
    "    data2 = data2.filter(col('rev_item_prop') > 0.7)\n",
    "    \n",
    "    window_spec2 = Window.partitionBy([\"svc_mgmt_num\",'luna_id']).orderBy(desc('rev_item_prop'))\n",
    "\n",
    "    top_keywords2 = data2.withColumn(\"rank\", row_number().over(window_spec2)) \\\n",
    "                    .filter(col(\"rank\") <= 5) \\\n",
    "                    .drop(\"rank\")\n",
    "    \n",
    "    top_keywords2 = top_keywords2.dropDuplicates(['luna_id','item'])\n",
    "    # top_keywords2 = top_keywords2.withColumnRenamed('item', 'item_rev')\n",
    "    \n",
    "    # top_keywords = top_keywords1.join(top_keywords2, on=['svc_mgmt_num', 'luna_id'], how=\"left\")\n",
    "    item_per_group = top_keywords1.groupBy(['svc_mgmt_num', 'luna_id']).agg(F.collect_set(\"item\").alias(\"item_values\"))\n",
    "    \n",
    "    top_keywords2 = top_keywords2.join(item_per_group, on=['svc_mgmt_num', 'luna_id'])\n",
    "    top_keywords2 = top_keywords2.filter(~array_contains(col(\"item_values\"), col(\"item\"))).select(['svc_mgmt_num', 'luna_id', 'item'])\n",
    "    \n",
    "    \n",
    "    ## cat1, cat2 붙이기 위한 작업\n",
    "    top_keywords = top_keywords1.union(top_keywords2)\n",
    "    top_keywords = top_keywords.join(data_distinct, on=\"item\", how=\"left\")\n",
    "    \n",
    "    ## 전체 데이터 merge\n",
    "    data = top_keywords1.groupBy('luna_id').agg(F.concat_ws(\", \", F.collect_set('item')).alias(f'{col_names}_item_list'))\n",
    "    data = data.join(top_keywords2.groupBy('luna_id').agg(F.concat_ws(\", \", F.collect_set('item')).alias(f'{col_names}_item_list_unique')), on=['luna_id'], how=\"left\")\n",
    "    data = data.join(top_keywords.groupBy('luna_id').agg(F.concat_ws(\", \", F.collect_set('cat1')).alias(f'{col_names}_cat1_list'), F.concat_ws(\", \", F.collect_set('cat2')).alias(f'{col_names}_cat2_list')), on=['luna_id'], how=\"left\")\n",
    "    \n",
    "    return data"
   ]
  },
  {
   "cell_type": "code",
   "execution_count": null,
   "id": "d29273fd",
   "metadata": {},
   "outputs": [],
   "source": [
    "def calculate_days(start_date, end_date):\n",
    "    date_range = pd.date_range(start=start_date, end=end_date)\n",
    "    total_days = len(date_range)\n",
    "    weekend_days = date_range.to_series().map(lambda x: x.weekday() >= 5).sum()\n",
    "    weekday_days = total_days - weekend_days\n",
    "    return total_days, int(weekend_days), int(weekday_days)"
   ]
  },
  {
   "cell_type": "code",
   "execution_count": 12,
   "id": "06cd646c-2f36-4318-984f-0ecec4225bff",
   "metadata": {
    "execution": {
     "iopub.execute_input": "2024-06-27T08:13:29.758831Z",
     "iopub.status.busy": "2024-06-27T08:13:29.758214Z",
     "iopub.status.idle": "2024-06-27T08:13:29.766202Z",
     "shell.execute_reply": "2024-06-27T08:13:29.765185Z",
     "shell.execute_reply.started": "2024-06-27T08:13:29.758777Z"
    },
    "tags": []
   },
   "outputs": [],
   "source": [
    "total_days, weekend_days, weekday_days = calculate_days(long_start_dt, current_dt)\n",
    "log_format = f\"\"\"\n",
    "    total_days: {total_days},\n",
    "    weekend_days: {weekend_days},\n",
    "    weekday_days: {weekday_days}\n",
    "\"\"\"\n",
    "print(log_format)"
   ]
  },
  {
   "cell_type": "code",
   "execution_count": 14,
   "id": "4a3e1e90-d4f5-4fab-a14a-3fe4971eeb76",
   "metadata": {
    "execution": {
     "iopub.execute_input": "2024-06-27T08:13:30.386338Z",
     "iopub.status.busy": "2024-06-27T08:13:30.385663Z",
     "iopub.status.idle": "2024-06-27T08:13:30.392582Z",
     "shell.execute_reply": "2024-06-27T08:13:30.391381Z",
     "shell.execute_reply.started": "2024-06-27T08:13:30.386283Z"
    },
    "tags": []
   },
   "outputs": [],
   "source": [
    "query_item = f\"\"\"\n",
    "    SELECT *\n",
    "    FROM {db_name}.tmap_item_cnt\n",
    "    where dt >= '{long_start_dt}'\n",
    "\"\"\"\n",
    "data_item = bq_to_df(query_item)"
   ]
  },
  {
   "cell_type": "markdown",
   "id": "07aba5f1",
   "metadata": {},
   "source": [
    "## item 기준으로 주말, 평일로 나누고, item에 해당하는 cat1,cat2도 함께 저장하는 형태"
   ]
  },
  {
   "cell_type": "code",
   "execution_count": null,
   "id": "306803b4",
   "metadata": {},
   "outputs": [],
   "source": [
    "total_data = extract_prefer_list(data_item, 0.5, 'tmap_total')\n",
    "total_data = total_data.join(extract_prefer_list(data_item.filter(col('is_weekend')==1), 0.5, 'tmap_weekend'),on=\"luna_id\",how=\"left\")\n",
    "total_data = total_data.join(extract_prefer_list(data_item.filter(col('is_weekend')==0), 0.5, 'tmap_weekday'),on=\"luna_id\",how=\"left\")"
   ]
  },
  {
   "cell_type": "code",
   "execution_count": null,
   "id": "1ecd2738",
   "metadata": {},
   "outputs": [],
   "source": [
    "total_data = total_data.withColumn(\"item_profiles\", F.concat_ws(\", \", total_data.tmap_total_item_list, total_data.tmap_total_item_list_unique))\\\n",
    "                       .withColumn(\"cat1_profiles\", F.col(\"tmap_total_cat1_list\"))\\\n",
    "                       .withColumn(\"cat2_profiles\", F.col(\"tmap_total_cat2_list\"))\\\n",
    "                       .withColumn(\"source_domain\", F.lit(\"tmap\"))\n"
   ]
  },
  {
   "cell_type": "code",
   "execution_count": null,
   "id": "e1a51141",
   "metadata": {},
   "outputs": [],
   "source": [
    "total_data.show(3,False)\n",
    "print(total_data.printSchema())"
   ]
  },
  {
   "cell_type": "markdown",
   "id": "45f43829",
   "metadata": {},
   "source": [
    "# 프로 파일 테이블 저장"
   ]
  },
  {
   "cell_type": "code",
   "execution_count": null,
   "id": "fd97beb8",
   "metadata": {},
   "outputs": [],
   "source": [
    "PROJECT_ID = \"skt-datahub\"\n",
    "db_name = \"adot_reco_dev\"\n",
    "partitioned_dest_table = \"adotServiceProfile_tmap\""
   ]
  },
  {
   "cell_type": "code",
   "execution_count": null,
   "id": "aa827578",
   "metadata": {},
   "outputs": [],
   "source": [
    "table_exists = bq_table_exists(table=f'{db_name}.{partitioned_dest_table}', project_id = PROJECT_ID)"
   ]
  },
  {
   "cell_type": "code",
   "execution_count": null,
   "id": "045b5af5",
   "metadata": {},
   "outputs": [],
   "source": [
    "if not table_exists:\n",
    "    get_bigquery_client().query(f\"\"\"\n",
    "        CREATE TABLE IF NOT EXISTS {db_name}.{partitioned_dest_table}(\n",
    "            luna_id STRING,\n",
    "            item_profiles STRING,\n",
    "            cat1_profiles STRING,\n",
    "            cat2_profiles STRING,\n",
    "            tmap_total_item_list_unique STRING,\n",
    "            tmap_weekend_item_list STRING,\n",
    "            tmap_weekend_item_list_unique STRING,\n",
    "            tmap_weekend_cat1_list STRING,\n",
    "            tmap_weekend_cat2_list STRING,\n",
    "            tmap_weekday_item_list STRING,\n",
    "            tmap_weekday_item_list_unique STRING,\n",
    "            tmap_weekday_cat1_list STRING,\n",
    "            tmap_weekday_cat2_list STRING,\n",
    "            source_domain STRING,\n",
    "            dt DATE\n",
    "        )\n",
    "        PARTITION BY dt\n",
    "    \"\"\").result()\n",
    "\n",
    "    print(f\"생성된 테이블 : {db_name}.{partitioned_dest_table}\")"
   ]
  },
  {
   "cell_type": "code",
   "execution_count": null,
   "id": "af5a2321",
   "metadata": {},
   "outputs": [],
   "source": [
    "df_to_bq_table(df=total_data,\n",
    "               dataset=db_name,\n",
    "               table_name=partitioned_dest_table,\n",
    "               mode=\"overwrite\")"
   ]
  },
  {
   "cell_type": "markdown",
   "id": "fdf5d44e",
   "metadata": {},
   "source": [
    "# Template 입히기"
   ]
  },
  {
   "cell_type": "code",
   "execution_count": 2,
   "id": "36fe2db0-3bbc-49cb-8e05-622efbac792e",
   "metadata": {
    "execution": {
     "iopub.execute_input": "2024-06-28T00:15:43.723104Z",
     "iopub.status.busy": "2024-06-28T00:15:43.722031Z",
     "iopub.status.idle": "2024-06-28T00:15:47.332382Z",
     "shell.execute_reply": "2024-06-28T00:15:47.331203Z",
     "shell.execute_reply.started": "2024-06-28T00:15:43.723040Z"
    },
    "tags": []
   },
   "outputs": [
    {
     "name": "stdout",
     "output_type": "stream",
     "text": [
      "Warning: exception on print statistics\n",
      "unsupported operand type(s) for /: 'NoneType' and 'int'\n"
     ]
    },
    {
     "name": "stderr",
     "output_type": "stream",
     "text": [
      "/usr/local/lib/python3.8/dist-packages/google/cloud/bigquery/table.py:2309: UserWarning: Unable to represent RANGE schema as struct using pandas ArrowDtype. Using `object` instead. To use ArrowDtype, use pandas >= 1.5 and pyarrow >= 10.0.1.\n",
      "  warnings.warn(_RANGE_PYARROW_WARNING)\n",
      "/usr/local/lib/python3.8/dist-packages/google/cloud/bigquery/table.py:2323: UserWarning: Unable to represent RANGE schema as struct using pandas ArrowDtype. Using `object` instead. To use ArrowDtype, use pandas >= 1.5 and pyarrow >= 10.0.1.\n",
      "  warnings.warn(_RANGE_PYARROW_WARNING)\n",
      "/usr/local/lib/python3.8/dist-packages/google/cloud/bigquery/table.py:2337: UserWarning: Unable to represent RANGE schema as struct using pandas ArrowDtype. Using `object` instead. To use ArrowDtype, use pandas >= 1.5 and pyarrow >= 10.0.1.\n",
      "  warnings.warn(_RANGE_PYARROW_WARNING)\n"
     ]
    },
    {
     "name": "stdout",
     "output_type": "stream",
     "text": [
      "Downloading: 100%|\u001b[32m██████████\u001b[0m|\n"
     ]
    }
   ],
   "source": [
    "profile_template = bq_to_pandas(\"SELECT * FROM adot_reco_dev.profile_template\")"
   ]
  },
  {
   "cell_type": "code",
   "execution_count": 23,
   "id": "d71ecc50-10fb-45b2-9340-7dadde4e5177",
   "metadata": {
    "execution": {
     "iopub.execute_input": "2024-06-27T08:16:21.176439Z",
     "iopub.status.busy": "2024-06-27T08:16:21.175695Z",
     "iopub.status.idle": "2024-06-27T08:16:21.222966Z",
     "shell.execute_reply": "2024-06-27T08:16:21.221810Z",
     "shell.execute_reply.started": "2024-06-27T08:16:21.176380Z"
    },
    "tags": []
   },
   "outputs": [],
   "source": [
    "template = list(profile_template[profile_template['source_domain']==\"tmap\"].template)[0]\n",
    "def profile_text(tmap_cat1,tmap_item):\n",
    "    return template.format(cat1_profile=tmap_cat1, item_profile=tmap_item)\n",
    "\n",
    "profile_text_udf = F.udf(profile_text, StringType())\n",
    "total_data = total_data.withColumn(\"profile_templates\", profile_text_udf(total_data[\"cat1_profiles\"], total_data[\"item_profiles\"]))"
   ]
  },
  {
   "cell_type": "markdown",
   "id": "1c246162-6f43-4f53-a288-9a8137fca784",
   "metadata": {},
   "source": [
    "### Template 입힌 테이블 저장"
   ]
  },
  {
   "cell_type": "code",
   "execution_count": 26,
   "id": "bb1b5e4f-4313-494f-8759-0b94aeeb4bc6",
   "metadata": {
    "execution": {
     "iopub.execute_input": "2024-06-27T08:18:24.802763Z",
     "iopub.status.busy": "2024-06-27T08:18:24.801318Z",
     "iopub.status.idle": "2024-06-27T08:18:24.808269Z",
     "shell.execute_reply": "2024-06-27T08:18:24.806940Z",
     "shell.execute_reply.started": "2024-06-27T08:18:24.802687Z"
    },
    "tags": []
   },
   "outputs": [],
   "source": [
    "db_name = \"adot_reco_dev\"\n",
    "partitioned_dest_table = \"adotServiceProfile_templated_tmap\""
   ]
  },
  {
   "cell_type": "code",
   "execution_count": null,
   "id": "1fcf85b2",
   "metadata": {},
   "outputs": [],
   "source": [
    "table_exists = bq_table_exists(table=f'{db_name}.{partitioned_dest_table}', project_id = PROJECT_ID)"
   ]
  },
  {
   "cell_type": "code",
   "execution_count": 27,
   "id": "eb39d93a-b48d-49a4-862f-ecb160f56644",
   "metadata": {
    "execution": {
     "iopub.execute_input": "2024-06-27T08:18:25.294677Z",
     "iopub.status.busy": "2024-06-27T08:18:25.293892Z",
     "iopub.status.idle": "2024-06-27T08:18:27.228965Z",
     "shell.execute_reply": "2024-06-27T08:18:27.227831Z",
     "shell.execute_reply.started": "2024-06-27T08:18:25.294619Z"
    },
    "tags": []
   },
   "outputs": [
    {
     "name": "stderr",
     "output_type": "stream",
     "text": [
      "[Stage 4:=> (22 + 8) / 52][Stage 5:>   (0 + 0) / 52][Stage 6:>   (0 + 0) / 52]\r"
     ]
    },
    {
     "name": "stdout",
     "output_type": "stream",
     "text": [
      "생성된 테이블 : x1113099.user_retrieval_profile_adot_text\n"
     ]
    }
   ],
   "source": [
    "if not table_exists:\n",
    "    get_bigquery_client().query(f\"\"\"\n",
    "        CREATE TABLE IF NOT EXISTS {db_name}.{partitioned_dest_table}(\n",
    "            luna_id STRING,\n",
    "            cat1_profiles STRING,\n",
    "            item_profiles STRING,\n",
    "            source_domain STRING,\n",
    "            profile_templates STRING,\n",
    "            dt DATE\n",
    "        )\n",
    "        PARTITION BY dt\n",
    "    \"\"\").result()\n",
    "    print(f\"생성된 테이블 : {db_name}.{partitioned_dest_table}\")"
   ]
  },
  {
   "cell_type": "code",
   "execution_count": 28,
   "id": "9087dbc1-a338-45f5-bc0a-1a0346cf3a4f",
   "metadata": {
    "execution": {
     "iopub.execute_input": "2024-06-27T08:18:27.230887Z",
     "iopub.status.busy": "2024-06-27T08:18:27.230557Z",
     "iopub.status.idle": "2024-06-27T08:51:08.758456Z",
     "shell.execute_reply": "2024-06-27T08:51:08.756564Z",
     "shell.execute_reply.started": "2024-06-27T08:18:27.230853Z"
    },
    "tags": []
   },
   "outputs": [
    {
     "name": "stderr",
     "output_type": "stream",
     "text": [
      "                                                                                \r"
     ]
    }
   ],
   "source": [
    "df_to_bq_table(df=total_data,\n",
    "               dataset=db_name,\n",
    "               table_name=partitioned_dest_table,\n",
    "               mode=\"overwrite\")"
   ]
  }
 ],
 "metadata": {
  "kernelspec": {
   "display_name": "Python 3 (ipykernel)",
   "language": "python",
   "name": "python3"
  },
  "language_info": {
   "codemirror_mode": {
    "name": "ipython",
    "version": 3
   },
   "file_extension": ".py",
   "mimetype": "text/x-python",
   "name": "python",
   "nbconvert_exporter": "python",
   "pygments_lexer": "ipython3",
   "version": "3.8.19"
  }
 },
 "nbformat": 4,
 "nbformat_minor": 5
}
