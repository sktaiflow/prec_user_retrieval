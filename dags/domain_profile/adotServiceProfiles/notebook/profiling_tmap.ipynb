{
 "cells": [
  {
   "cell_type": "code",
   "execution_count": null,
   "id": "b083b584",
   "metadata": {},
   "outputs": [],
   "source": [
    "from skt.gcp import (\n",
    "    PROJECT_ID,\n",
    "    bq_insert_overwrite,\n",
    "    bq_to_df,\n",
    "    bq_to_pandas,\n",
    "    get_bigquery_client,\n",
    "    bq_table_exists,\n",
    "    get_max_part,\n",
    "    get_bigquery_client,\n",
    "    df_to_bq_table\n",
    ")"
   ]
  },
  {
   "cell_type": "code",
   "execution_count": null,
   "id": "86f3fcfb",
   "metadata": {},
   "outputs": [],
   "source": [
    "from google.cloud.bigquery.job import QueryJobConfig"
   ]
  },
  {
   "cell_type": "code",
   "execution_count": null,
   "id": "05b8b9c2",
   "metadata": {},
   "outputs": [],
   "source": [
    "from pyspark.sql.functions import *\n",
    "from pyspark.sql.window import Window\n",
    "from pyspark.sql.functions import (\n",
    "    row_number, \n",
    "    col, \n",
    "    lit, \n",
    "    count, \n",
    "    log, \n",
    "    exp, \n",
    "    sum as spark_sum\n",
    ")\n",
    "from pyspark.sql import functions as F\n",
    "from pyspark.sql.types import DoubleType, DateType"
   ]
  },
  {
   "cell_type": "code",
   "execution_count": null,
   "id": "9e3e6f73",
   "metadata": {},
   "outputs": [],
   "source": [
    "import pandas as pd\n",
    "from datetime import datetime, date, timedelta"
   ]
  },
  {
   "cell_type": "code",
   "execution_count": null,
   "id": "149aaa4c",
   "metadata": {},
   "outputs": [],
   "source": [
    "print(f'current_dt: {current_dt}')\n",
    "print(f'state: {state}')\n",
    "print(f'log_duration: {log_duration}')\n"
   ]
  },
  {
   "cell_type": "code",
   "execution_count": null,
   "id": "dc30fdcb",
   "metadata": {},
   "outputs": [],
   "source": [
    "execution_dt = datetime.strptime(current_dt, '%Y-%m-%d')\n",
    "execution_dt_one_ago = (execution_dt - timedelta(days=1)).strftime('%Y-%m-%d')\n",
    "log_duration = int(log_duration) - 1\n",
    "short_duration = 6\n"
   ]
  },
  {
   "cell_type": "code",
   "execution_count": null,
   "id": "8f3a62b6",
   "metadata": {},
   "outputs": [],
   "source": [
    "long_start_dt = (execution_dt - timedelta(days=log_duration)).strftime(\"%Y-%m-%d\")\n",
    "short_start_dt = (execution_dt - timedelta(days=short_duration)).strftime(\"%Y-%m-%d\")\n",
    "\n",
    "print(\"long_start_dt : \", long_start_dt)\n",
    "print(\"short_start_dt : \", short_start_dt)"
   ]
  },
  {
   "cell_type": "code",
   "execution_count": null,
   "id": "595cab73",
   "metadata": {},
   "outputs": [],
   "source": [
    "db_name = \"adot_reco_dev\""
   ]
  },
  {
   "cell_type": "code",
   "execution_count": null,
   "id": "0865b280",
   "metadata": {},
   "outputs": [],
   "source": [
    "bq_client = get_bigquery_client()"
   ]
  },
  {
   "cell_type": "code",
   "execution_count": null,
   "id": "76215d17",
   "metadata": {},
   "outputs": [],
   "source": [
    "# def extract_prefer_list(data, thre=0.7, col_names='tmap_total'):\n",
    "#     data_distinct = data.select(['cat1','cat2','item']).distinct()\n",
    "    \n",
    "#     data = data.select(['svc_mgmt_num','luna_id','item']).na.drop(\"any\", subset='item')\n",
    "#     data = data.groupby('svc_mgmt_num','luna_id','item').agg(count(\"*\").alias('item_cnt'))\n",
    "#     data_user = data.groupby(['svc_mgmt_num','luna_id']).agg(max('item_cnt').alias('item_max_cnt'))\n",
    "#     data = data.join(data_user, on=['svc_mgmt_num','luna_id'], how=\"left\")\n",
    "#     data = data.withColumn('item_prop', col('item_cnt')/col('item_max_cnt'))\n",
    "    \n",
    "#     # 전체 빈도수 기반으로 선호 장소 추출\n",
    "#     data1 = data.filter(col('item_prop') > thre)\n",
    "#     window_spec1 = Window.partitionBy([\"svc_mgmt_num\",'luna_id']).orderBy(F.desc('item_prop'))\n",
    "\n",
    "#     top_keywords1 = data1.withColumn(\"rank\", row_number().over(window_spec1)) \\\n",
    "#                     .filter(col(\"rank\") <= 10) \\\n",
    "#                     .drop(\"rank\")\n",
    "    \n",
    "#     top_keywords1 = top_keywords1.dropDuplicates(['luna_id','item']).select(['svc_mgmt_num', 'luna_id', 'item'])\n",
    "#     # data1 = top_keywords.groupBy(\"svc_mgmt_num\",'luna_id').agg(concat_ws(\", \",collect_list(f'{cate}')).alias(f'{cate}_list'))\n",
    "    \n",
    "#     # IDF 고려하여 유저가 특이하게 방문하는 장소 추출\n",
    "#     data_item_user_cnt = data.select(['svc_mgmt_num','luna_id']).distinct().count()\n",
    "    \n",
    "#     data_idf = data.select(['svc_mgmt_num','luna_id','item']).distinct()\n",
    "#     data_idf_cnt = data_idf.groupby('item').agg(count(\"*\").alias('item_idf_cnt'))\n",
    "#     data2 = data.join(data_idf_cnt,on='item',how=\"left\")\n",
    "#     data2 = data2.withColumn('idf_wei', log(data_item_user_cnt / (1+col(\"item_idf_cnt\"))))\n",
    "#     data2 = data2.withColumn('rev_item_prop', 0.6/(1.0 + exp(-col(\"idf_wei\")))+col('item_prop')*0.4)\n",
    "#     data2 = data2.filter(col('rev_item_prop') > 0.7)\n",
    "    \n",
    "#     window_spec2 = Window.partitionBy([\"svc_mgmt_num\",'luna_id']).orderBy(desc('rev_item_prop'))\n",
    "\n",
    "#     top_keywords2 = data2.withColumn(\"rank\", row_number().over(window_spec2)) \\\n",
    "#                     .filter(col(\"rank\") <= 5) \\\n",
    "#                     .drop(\"rank\")\n",
    "    \n",
    "#     top_keywords2 = top_keywords2.dropDuplicates(['luna_id','item'])\n",
    "#     # top_keywords2 = top_keywords2.withColumnRenamed('item', 'item_rev')\n",
    "    \n",
    "#     # top_keywords = top_keywords1.join(top_keywords2, on=['svc_mgmt_num', 'luna_id'], how=\"left\")\n",
    "#     item_per_group = top_keywords1.groupBy(['svc_mgmt_num', 'luna_id']).agg(F.collect_set(\"item\").alias(\"item_values\"))\n",
    "    \n",
    "#     top_keywords2 = top_keywords2.join(item_per_group, on=['svc_mgmt_num', 'luna_id'])\n",
    "#     top_keywords2 = top_keywords2.filter(~array_contains(col(\"item_values\"), col(\"item\"))).select(['svc_mgmt_num', 'luna_id', 'item'])\n",
    "    \n",
    "    \n",
    "#     ## cat1, cat2 붙이기 위한 작업\n",
    "#     top_keywords = top_keywords1.union(top_keywords2)\n",
    "#     top_keywords = top_keywords.join(data_distinct, on=\"item\", how=\"left\")\n",
    "    \n",
    "#     ## 전체 데이터 merge\n",
    "#     data = top_keywords1.groupBy('luna_id').agg(F.concat_ws(\", \", F.collect_set('item')).alias(f'{col_names}_item_list'))\n",
    "#     data = data.join(top_keywords2.groupBy('luna_id').agg(F.concat_ws(\", \", F.collect_set('item')).alias(f'{col_names}_item_list_unique')), on=['luna_id'], how=\"left\")\n",
    "#     data = data.join(top_keywords.groupBy('luna_id').agg(F.concat_ws(\", \", F.collect_set('cat1')).alias(f'{col_names}_cat1_list'), F.concat_ws(\", \", F.collect_set('cat2')).alias(f'{col_names}_cat2_list')), on=['luna_id'], how=\"left\")\n",
    "    \n",
    "#     return data"
   ]
  },
  {
   "cell_type": "code",
   "execution_count": null,
   "id": "d29273fd",
   "metadata": {},
   "outputs": [],
   "source": [
    "def calculate_days(start_date, end_date):\n",
    "    date_range = pd.date_range(start=start_date, end=end_date)\n",
    "    total_days = len(date_range)\n",
    "    weekend_days = date_range.to_series().map(lambda x: x.weekday() >= 5).sum()\n",
    "    weekday_days = total_days - weekend_days\n",
    "    return total_days, int(weekend_days), int(weekday_days)"
   ]
  },
  {
   "cell_type": "code",
   "execution_count": 12,
   "id": "06cd646c-2f36-4318-984f-0ecec4225bff",
   "metadata": {
    "execution": {
     "iopub.execute_input": "2024-06-27T08:13:29.758831Z",
     "iopub.status.busy": "2024-06-27T08:13:29.758214Z",
     "iopub.status.idle": "2024-06-27T08:13:29.766202Z",
     "shell.execute_reply": "2024-06-27T08:13:29.765185Z",
     "shell.execute_reply.started": "2024-06-27T08:13:29.758777Z"
    },
    "tags": []
   },
   "outputs": [],
   "source": [
    "total_days, weekend_days, weekday_days = calculate_days(long_start_dt, current_dt)\n",
    "log_format = f\"\"\"\n",
    "    total_days: {total_days},\n",
    "    weekend_days: {weekend_days},\n",
    "    weekday_days: {weekday_days}\n",
    "\"\"\"\n",
    "print(log_format)"
   ]
  },
  {
   "cell_type": "code",
   "execution_count": 14,
   "id": "4a3e1e90-d4f5-4fab-a14a-3fe4971eeb76",
   "metadata": {
    "execution": {
     "iopub.execute_input": "2024-06-27T08:13:30.386338Z",
     "iopub.status.busy": "2024-06-27T08:13:30.385663Z",
     "iopub.status.idle": "2024-06-27T08:13:30.392582Z",
     "shell.execute_reply": "2024-06-27T08:13:30.391381Z",
     "shell.execute_reply.started": "2024-06-27T08:13:30.386283Z"
    },
    "tags": []
   },
   "outputs": [],
   "source": [
    "# query_item = f\"\"\"\n",
    "#     SELECT *\n",
    "#     FROM {db_name}.tmap_item_cnt\n",
    "#     where dt >= '{long_start_dt}'\n",
    "# \"\"\"\n",
    "# data_item = bq_to_df(query_item)"
   ]
  },
  {
   "cell_type": "markdown",
   "id": "07aba5f1",
   "metadata": {},
   "source": [
    "## ADOT 유저만 처리하는 where caluse"
   ]
  },
  {
   "cell_type": "code",
   "execution_count": null,
   "id": "2dc08695",
   "metadata": {},
   "outputs": [],
   "source": [
    "only_adot_where_clause  = f\"\"\"luna_id is not null\"\"\""
   ]
  },
  {
   "cell_type": "code",
   "execution_count": null,
   "id": "8efc31f4",
   "metadata": {},
   "outputs": [],
   "source": [
    "query = f\"\"\"\n",
    "WITH data AS (\n",
    "  SELECT\n",
    "    svc_mgmt_num,\n",
    "    luna_id,\n",
    "    item\n",
    "  FROM adot_reco_dev.tmap_item_cnt\n",
    "  WHERE dt >= '{long_start_dt}'\n",
    "  AND item is not null\n",
    "),\n",
    "\n",
    "-- 전체 통계량 보는 곳\n",
    "count_by_group AS (\n",
    "  SELECT\n",
    "    item,\n",
    "    COUNT(*) AS item_count\n",
    "  FROM data\n",
    "  GROUP BY item\n",
    "),\n",
    "\n",
    "-- 전체 통계량 보는 곳 (item_max_cnt 이후부터는 전체 svc_mgmt_num 볼 필요 x)\n",
    "df_with_max_count AS (\n",
    "  SELECT *,\n",
    "         MAX(item_count) OVER (PARTITION BY svc_mgmt_num, luna_id, item) AS item_max_cnt\n",
    "  FROM (\n",
    "    SELECT\n",
    "      a.svc_mgmt_num,\n",
    "      a.luna_id,\n",
    "      a.item,\n",
    "      b.item_count\n",
    "    FROM data a\n",
    "    LEFT JOIN count_by_group b\n",
    "    ON a.item = b.item\n",
    "  )\n",
    "),\n",
    "\n",
    "SELECT\n",
    "  svc_mgmt_num,\n",
    "  luna_id,\n",
    "  item,\n",
    "  item_max_cnt,\n",
    "  item_count,\n",
    "  (item_count / item_max_cnt) as item_prop\n",
    "FROM df_with_max_count\n",
    "\"\"\""
   ]
  },
  {
   "cell_type": "code",
   "execution_count": null,
   "id": "0bd42ca3",
   "metadata": {},
   "outputs": [],
   "source": [
    "temp_db = 'temp_1d'\n",
    "job_config = QueryJobConfig()\n",
    "temp_table = f'{PROJECT_ID}.{temp_db}.item_prop_temp_table'\n",
    "job_config.destination = temp_table\n",
    "job_config.write_disposition = 'WRITE_TRUNCATE'"
   ]
  },
  {
   "cell_type": "code",
   "execution_count": null,
   "id": "0afcbb24",
   "metadata": {},
   "outputs": [],
   "source": [
    "# 임시 테이블 생성\n",
    "query_job = bq_client.query(query, job_config=job_config)\n",
    "query_job.result() "
   ]
  },
  {
   "cell_type": "code",
   "execution_count": null,
   "id": "4762ea03",
   "metadata": {},
   "outputs": [],
   "source": [
    "query = f\"\"\"\n",
    "WITH filtered_table AS (\n",
    "    SELECT *\n",
    "    FROM  {PROJECT_ID}.{temp_db}.item_prop_temp_table\n",
    "    WHERE item_prop > 0.7\n",
    "    AND {only_adot_where_clause}\n",
    "),\n",
    "ranked_data AS (\n",
    "    SELECT distinct svc_mgmt_num,\n",
    "                    luna_id,\n",
    "                    item,\n",
    "                    item_prop\n",
    "    FROM (\n",
    "    SELECT \n",
    "        svc_mgmt_num,\n",
    "        luna_id,\n",
    "        item_prop,\n",
    "        item,\n",
    "        ROW_NUMBER() OVER (PARTITION BY svc_mgmt_num, luna_id ORDER BY item_prop DESC) AS rank\n",
    "    FROM \n",
    "        filtered_table\n",
    "    )\n",
    "    WHERE rank <=10\n",
    ")\n",
    "SELECT *\n",
    "FROM  ranked_data\n",
    "\"\"\""
   ]
  },
  {
   "cell_type": "code",
   "execution_count": null,
   "id": "eaf5e42d",
   "metadata": {},
   "outputs": [],
   "source": [
    "temp_db = 'temp_1d'\n",
    "job_config = QueryJobConfig()\n",
    "temp_table = f'{PROJECT_ID}.{temp_db}.tmap10keyword_profile_temp_table'\n",
    "job_config.destination = temp_table\n",
    "job_config.write_disposition = 'WRITE_TRUNCATE'"
   ]
  },
  {
   "cell_type": "code",
   "execution_count": null,
   "id": "e058f265",
   "metadata": {},
   "outputs": [],
   "source": [
    "# 임시 테이블 생성\n",
    "query_job = bq_client.query(query, job_config=job_config)\n",
    "query_job.result() "
   ]
  },
  {
   "cell_type": "code",
   "execution_count": null,
   "id": "ba285781",
   "metadata": {},
   "outputs": [],
   "source": [
    "query = f\"\"\"\n",
    "WITH data AS (\n",
    "  SELECT\n",
    "      svc_mgmt_num,\n",
    "      luna_id,\n",
    "      item,\n",
    "      item_prop\n",
    "  FROM {PROJECT_ID}.{temp_db}.item_prop_temp_table\n",
    "  WHERE item is not null\n",
    "),\n",
    "-- 전체 통계량 이용\n",
    "data_item_user_cnt AS (\n",
    "  SELECT COUNT(*) AS user_cnt\n",
    "  FROM (\n",
    "    SELECT DISTINCT svc_mgmt_num, luna_id\n",
    "    FROM data\n",
    "  )\n",
    "  GROUP BY svc_mgmt_num, luna_id\n",
    "),\n",
    "\n",
    "-- Calculate data_idf_cnt (전체 통계량 이용)\n",
    "data_idf_cnt AS (\n",
    "  SELECT  item, \n",
    "          COUNT(*) AS item_idf_cnt\n",
    "  FROM (SELECT DISTINCT svc_mgmt_num, luna_id, item FROM data)\n",
    "  GROUP BY item\n",
    "),\n",
    "\n",
    "-- Join and calculate idf_wei and rev_item_prop (전체 통계량 이용)\n",
    "data_idf_score AS (\n",
    "  SELECT \n",
    "    d.*,\n",
    "    idf_table.item_idf_cnt,\n",
    "    LOG((SELECT user_cnt FROM data_item_user_cnt) / (1 + idf_table.item_idf_cnt)) AS idf_wei,\n",
    "    0.6 / (1.0 + EXP(-LOG((SELECT user_cnt FROM data_item_user_cnt) / (1 + idf_table.item_idf_cnt)))) + d.item_prop * 0.4 AS rev_item_prop\n",
    "  FROM data d\n",
    "  LEFT JOIN data_idf_cnt idf_table ON d.item = idf_table.item\n",
    "  WHERE {only_adot_where_clause}\n",
    "),\n",
    "\n",
    "-- Filter and rank\n",
    "ranked_data AS (\n",
    "  SELECT \n",
    "    *,\n",
    "    ROW_NUMBER() OVER (PARTITION BY svc_mgmt_num, luna_id ORDER BY rev_item_prop DESC) AS rank\n",
    "  FROM data_idf_score\n",
    "  WHERE rev_item_prop > 0.7\n",
    "),\n",
    "\n",
    "top_keywords2 AS (\n",
    "  SELECT DISTINCT\n",
    "    svc_mgmt_num,\n",
    "    luna_id,\n",
    "    item\n",
    "  FROM ranked_data\n",
    "  WHERE rank <= 5\n",
    "),\n",
    "\n",
    "-- Calculate item_per_group\n",
    "item_per_group AS (\n",
    "  SELECT \n",
    "    svc_mgmt_num, \n",
    "    luna_id, \n",
    "    ARRAY_AGG(DISTINCT item) AS item_values\n",
    "  FROM data\n",
    "  WHERE {only_adot_where_clause}\n",
    "  GROUP BY svc_mgmt_num, luna_id\n",
    ")\n",
    "\n",
    "-- Final result\n",
    "SELECT \n",
    "  t.svc_mgmt_num, \n",
    "  t.luna_id, \n",
    "  t.item\n",
    "FROM top_keywords2 t\n",
    "JOIN item_per_group i ON t.svc_mgmt_num = i.svc_mgmt_num AND t.luna_id = i.luna_id\n",
    "WHERE t.item NOT IN UNNEST(i.item_values)\n",
    "\"\"\""
   ]
  },
  {
   "cell_type": "code",
   "execution_count": null,
   "id": "c16825a4",
   "metadata": {},
   "outputs": [],
   "source": [
    "temp_db = 'temp_1d'\n",
    "job_config = QueryJobConfig()\n",
    "temp_table = f'{PROJECT_ID}.{temp_db}.tmap5keyword2_profile_temp_table'\n",
    "job_config.destination = temp_table\n",
    "job_config.write_disposition = 'WRITE_TRUNCATE'"
   ]
  },
  {
   "cell_type": "code",
   "execution_count": null,
   "id": "d77ebfae",
   "metadata": {},
   "outputs": [],
   "source": [
    "# 임시 테이블 생성\n",
    "query_job = bq_client.query(query, job_config=job_config)\n",
    "query_job.result() "
   ]
  },
  {
   "cell_type": "code",
   "execution_count": null,
   "id": "dbe66582",
   "metadata": {},
   "outputs": [],
   "source": [
    "merge_query =f\"\"\"\n",
    "WITH JOIND_KEYWORD_TABLE AS (\n",
    "    SELECT  A.*,\n",
    "            B.cat1,\n",
    "            B.cat2\n",
    "    FROM (\n",
    "        SELECT  svc_mgmt_num,\n",
    "                luna_id,\n",
    "                item\n",
    "            \n",
    "        FROM {PROJECT_ID}.{temp_db}.tmap10keyword_profile_temp_table\n",
    "\n",
    "        UNION ALL\n",
    "\n",
    "        SELECT  svc_mgmt_num,\n",
    "                luna_id,\n",
    "                item\n",
    "        FROM {PROJECT_ID}.{temp_db}.tmap5keyword2_profile_temp_table\n",
    "    ) AS A\n",
    "    LEFT JOIN \n",
    "    (\n",
    "        SELECT distinct cat2,\n",
    "                        cat1,\n",
    "                        item\n",
    "        FROM adot_reco_dev.tmap_item_cnt\n",
    "        WHERE dt >= '{long_start_dt}'\n",
    "        AND item is not null\n",
    "    ) AS B \n",
    "    ON A.item = B.item\n",
    "),\n",
    "keywords_list_table AS (\n",
    "\n",
    "    SELECT A.svc_mgmt_num,\n",
    "           A.luna_id,\n",
    "           A.top10keywords,\n",
    "           B.top5keywords\n",
    "    FROM (\n",
    "      SELECT  svc_mgmt_num,\n",
    "              luna_id,\n",
    "              STRING_AGG(DISTINCT item, ', ') AS top10keywords\n",
    "      FROM {PROJECT_ID}.{temp_db}.tmap10keyword_profile_temp_table\n",
    "      GROUP BY svc_mgmt_num, luna_id\n",
    "    ) AS A\n",
    "    LEFT JOIN (\n",
    "      SELECT  svc_mgmt_num,\n",
    "              luna_id,\n",
    "              STRING_AGG(DISTINCT item, ', ') AS top5keywords\n",
    "\n",
    "      FROM {PROJECT_ID}.{temp_db}.tmap5keyword2_profile_temp_table\n",
    "      GROUP BY svc_mgmt_num, luna_id\n",
    "    ) AS B\n",
    "    ON A.svc_mgmt_num = B.svc_mgmt_num AND A.luna_id = B.luna_id\n",
    "),\n",
    "cat_profiles_table AS (\n",
    "  SELECT\n",
    "    svc_mgmt_num,\n",
    "    luna_id,\n",
    "    STRING_AGG(DISTINCT cat1, ', ') AS cat1_profiles\n",
    "    STRING_AGG(DISTINCT cat2, ', ') AS cat2_profiles\n",
    "  FROM {PROJECT_ID}.{temp_db}.tmap10keyword_profile_temp_table\n",
    "  GROUP BY svc_mgmt_num, luna_id\n",
    "),\n",
    "\n",
    "item_profiles_table A (\n",
    "  SELECT svc_mgmt_num,\n",
    "         luna_id,\n",
    "         CASE\n",
    "            WHEN NULLIF(top10keywords, '') IS NOT NULL AND NULLIF(top5keywords, '') IS NOT NULL\n",
    "              THEN CONCAT(top10keywords, ', ', top5keywords)\n",
    "            WHEN NULLIF(top10keywords, '') IS NOT NULL\n",
    "              THEN top10keywords\n",
    "            WHEN NULLIF(top5keywords, '') IS NOT NULL\n",
    "              THEN top5keywords\n",
    "            ELSE ''\n",
    "         END AS item_profiles\n",
    "  FROM keywords_list_table\n",
    ")\n",
    "\n",
    "SELECT  A.svc_mgmt_num, \n",
    "        A.luna_id,\n",
    "        A.item_profiles,\n",
    "        B.cat1_profiles,\n",
    "        B.cat2_profiles,\n",
    "        'tmap' as source_domain,\n",
    "        PARSE_DATE('%Y-%m-%d', '{current_dt}') as dt \n",
    "        \n",
    "\n",
    "FROM item_profiles_table AS A\n",
    "\n",
    "LEFT JOIN (\n",
    "  SELECT * \n",
    "  FROM cat_profiles_table\n",
    "  ) AS B\n",
    "ON A.svc_mgmt_num = B.svc_mgmt_num AND A.luna_id = B.luna_id\n",
    ")\n",
    "\"\"\"  "
   ]
  },
  {
   "cell_type": "markdown",
   "id": "45f43829",
   "metadata": {},
   "source": [
    "# 프로 파일 테이블 저장"
   ]
  },
  {
   "cell_type": "code",
   "execution_count": null,
   "id": "fd97beb8",
   "metadata": {},
   "outputs": [],
   "source": [
    "PROJECT_ID = \"skt-datahub\"\n",
    "db_name = \"adot_reco_dev\"\n",
    "partitioned_dest_table = \"adotServiceProfile_tmap\""
   ]
  },
  {
   "cell_type": "code",
   "execution_count": null,
   "id": "aa827578",
   "metadata": {},
   "outputs": [],
   "source": [
    "table_exists = bq_table_exists(table=f'{db_name}.{partitioned_dest_table}', project_id = PROJECT_ID)"
   ]
  },
  {
   "cell_type": "code",
   "execution_count": null,
   "id": "045b5af5",
   "metadata": {},
   "outputs": [],
   "source": [
    "if not table_exists:\n",
    "    get_bigquery_client().query(f\"\"\"\n",
    "        CREATE TABLE IF NOT EXISTS {db_name}.{partitioned_dest_table}(\n",
    "            svc_mgmt_num STRING,\n",
    "            luna_id STRING,\n",
    "            item_profiles STRING,\n",
    "            cat1_profiles STRING,\n",
    "            cat2_profiles STRING,\n",
    "            source_domain STRING,\n",
    "            dt DATE\n",
    "        )\n",
    "        PARTITION BY dt\n",
    "    \"\"\").result()\n",
    "\n",
    "    print(f\"생성된 테이블 : {db_name}.{partitioned_dest_table}\")"
   ]
  },
  {
   "cell_type": "code",
   "execution_count": null,
   "id": "abc35b79",
   "metadata": {},
   "outputs": [],
   "source": [
    "bq_insert_overwrite(sql=query, destination=f'{PROJECT_ID}.{db_name}.{partitioned_dest_table}', partition='dt')"
   ]
  },
  {
   "cell_type": "code",
   "execution_count": null,
   "id": "af5a2321",
   "metadata": {},
   "outputs": [],
   "source": [
    "# df_to_bq_table(df=total_data,\n",
    "#                dataset=db_name,\n",
    "#                table_name=partitioned_dest_table,\n",
    "#                mode=\"overwrite\")"
   ]
  },
  {
   "cell_type": "markdown",
   "id": "fdf5d44e",
   "metadata": {},
   "source": [
    "# Template 입히기"
   ]
  },
  {
   "cell_type": "code",
   "execution_count": 2,
   "id": "36fe2db0-3bbc-49cb-8e05-622efbac792e",
   "metadata": {
    "execution": {
     "iopub.execute_input": "2024-06-28T00:15:43.723104Z",
     "iopub.status.busy": "2024-06-28T00:15:43.722031Z",
     "iopub.status.idle": "2024-06-28T00:15:47.332382Z",
     "shell.execute_reply": "2024-06-28T00:15:47.331203Z",
     "shell.execute_reply.started": "2024-06-28T00:15:43.723040Z"
    },
    "tags": []
   },
   "outputs": [
    {
     "name": "stdout",
     "output_type": "stream",
     "text": [
      "Warning: exception on print statistics\n",
      "unsupported operand type(s) for /: 'NoneType' and 'int'\n"
     ]
    },
    {
     "name": "stderr",
     "output_type": "stream",
     "text": [
      "/usr/local/lib/python3.8/dist-packages/google/cloud/bigquery/table.py:2309: UserWarning: Unable to represent RANGE schema as struct using pandas ArrowDtype. Using `object` instead. To use ArrowDtype, use pandas >= 1.5 and pyarrow >= 10.0.1.\n",
      "  warnings.warn(_RANGE_PYARROW_WARNING)\n",
      "/usr/local/lib/python3.8/dist-packages/google/cloud/bigquery/table.py:2323: UserWarning: Unable to represent RANGE schema as struct using pandas ArrowDtype. Using `object` instead. To use ArrowDtype, use pandas >= 1.5 and pyarrow >= 10.0.1.\n",
      "  warnings.warn(_RANGE_PYARROW_WARNING)\n",
      "/usr/local/lib/python3.8/dist-packages/google/cloud/bigquery/table.py:2337: UserWarning: Unable to represent RANGE schema as struct using pandas ArrowDtype. Using `object` instead. To use ArrowDtype, use pandas >= 1.5 and pyarrow >= 10.0.1.\n",
      "  warnings.warn(_RANGE_PYARROW_WARNING)\n"
     ]
    },
    {
     "name": "stdout",
     "output_type": "stream",
     "text": [
      "Downloading: 100%|\u001b[32m██████████\u001b[0m|\n"
     ]
    }
   ],
   "source": [
    "profile_template = bq_to_pandas(\"SELECT * FROM adot_reco_dev.profile_template\")"
   ]
  },
  {
   "cell_type": "code",
   "execution_count": null,
   "id": "8c618307",
   "metadata": {},
   "outputs": [],
   "source": [
    "partial_data = total_data.select('luna_id', 'cat1_profiles', 'item_profiles', 'source_domain' ,'dt')"
   ]
  },
  {
   "cell_type": "code",
   "execution_count": null,
   "id": "cb7fdd09",
   "metadata": {},
   "outputs": [],
   "source": [
    "template = list(profile_template[profile_template['source_domain']==\"tmap\"].template)[0]"
   ]
  },
  {
   "cell_type": "code",
   "execution_count": 23,
   "id": "d71ecc50-10fb-45b2-9340-7dadde4e5177",
   "metadata": {
    "execution": {
     "iopub.execute_input": "2024-06-27T08:16:21.176439Z",
     "iopub.status.busy": "2024-06-27T08:16:21.175695Z",
     "iopub.status.idle": "2024-06-27T08:16:21.222966Z",
     "shell.execute_reply": "2024-06-27T08:16:21.221810Z",
     "shell.execute_reply.started": "2024-06-27T08:16:21.176380Z"
    },
    "tags": []
   },
   "outputs": [],
   "source": [
    "def profile_text(tmap_cat1,tmap_item):\n",
    "    return template.format(cat1_profile=tmap_cat1, item_profile=tmap_item)"
   ]
  },
  {
   "cell_type": "code",
   "execution_count": null,
   "id": "b97f62fc",
   "metadata": {},
   "outputs": [],
   "source": [
    "profile_text_udf = F.udf(profile_text, StringType())\n",
    "template_data = partial_data.withColumn(\"profile_templates\", profile_text_udf(partial_data[\"cat1_profiles\"], partial_data[\"item_profiles\"]))"
   ]
  },
  {
   "cell_type": "markdown",
   "id": "1c246162-6f43-4f53-a288-9a8137fca784",
   "metadata": {},
   "source": [
    "### Template 입힌 테이블 저장"
   ]
  },
  {
   "cell_type": "code",
   "execution_count": 26,
   "id": "bb1b5e4f-4313-494f-8759-0b94aeeb4bc6",
   "metadata": {
    "execution": {
     "iopub.execute_input": "2024-06-27T08:18:24.802763Z",
     "iopub.status.busy": "2024-06-27T08:18:24.801318Z",
     "iopub.status.idle": "2024-06-27T08:18:24.808269Z",
     "shell.execute_reply": "2024-06-27T08:18:24.806940Z",
     "shell.execute_reply.started": "2024-06-27T08:18:24.802687Z"
    },
    "tags": []
   },
   "outputs": [],
   "source": [
    "db_name = \"adot_reco_dev\"\n",
    "partitioned_dest_table = \"adotServiceProfile_templated_tmap\""
   ]
  },
  {
   "cell_type": "code",
   "execution_count": null,
   "id": "1fcf85b2",
   "metadata": {},
   "outputs": [],
   "source": [
    "table_exists = bq_table_exists(table=f'{db_name}.{partitioned_dest_table}', project_id = PROJECT_ID)"
   ]
  },
  {
   "cell_type": "code",
   "execution_count": 27,
   "id": "eb39d93a-b48d-49a4-862f-ecb160f56644",
   "metadata": {
    "execution": {
     "iopub.execute_input": "2024-06-27T08:18:25.294677Z",
     "iopub.status.busy": "2024-06-27T08:18:25.293892Z",
     "iopub.status.idle": "2024-06-27T08:18:27.228965Z",
     "shell.execute_reply": "2024-06-27T08:18:27.227831Z",
     "shell.execute_reply.started": "2024-06-27T08:18:25.294619Z"
    },
    "tags": []
   },
   "outputs": [
    {
     "name": "stderr",
     "output_type": "stream",
     "text": [
      "[Stage 4:=> (22 + 8) / 52][Stage 5:>   (0 + 0) / 52][Stage 6:>   (0 + 0) / 52]\r"
     ]
    },
    {
     "name": "stdout",
     "output_type": "stream",
     "text": [
      "생성된 테이블 : x1113099.user_retrieval_profile_adot_text\n"
     ]
    }
   ],
   "source": [
    "if not table_exists:\n",
    "    get_bigquery_client().query(f\"\"\"\n",
    "        CREATE TABLE IF NOT EXISTS {db_name}.{partitioned_dest_table}(\n",
    "            luna_id STRING,\n",
    "            cat1_profiles STRING,\n",
    "            item_profiles STRING,\n",
    "            source_domain STRING,\n",
    "            profile_templates STRING,\n",
    "            dt DATE\n",
    "        )\n",
    "        PARTITION BY dt\n",
    "    \"\"\").result()\n",
    "    print(f\"생성된 테이블 : {db_name}.{partitioned_dest_table}\")"
   ]
  },
  {
   "cell_type": "code",
   "execution_count": 28,
   "id": "9087dbc1-a338-45f5-bc0a-1a0346cf3a4f",
   "metadata": {
    "execution": {
     "iopub.execute_input": "2024-06-27T08:18:27.230887Z",
     "iopub.status.busy": "2024-06-27T08:18:27.230557Z",
     "iopub.status.idle": "2024-06-27T08:51:08.758456Z",
     "shell.execute_reply": "2024-06-27T08:51:08.756564Z",
     "shell.execute_reply.started": "2024-06-27T08:18:27.230853Z"
    },
    "tags": []
   },
   "outputs": [
    {
     "name": "stderr",
     "output_type": "stream",
     "text": [
      "                                                                                \r"
     ]
    }
   ],
   "source": [
    "df_to_bq_table(df=template_data,\n",
    "               dataset=db_name,\n",
    "               table_name=partitioned_dest_table,\n",
    "               mode=\"overwrite\")"
   ]
  },
  {
   "cell_type": "markdown",
   "id": "cc43c74a",
   "metadata": {},
   "source": [
    "# Model 용 Template 입힌 테이블 저장"
   ]
  },
  {
   "cell_type": "code",
   "execution_count": null,
   "id": "11d6f332",
   "metadata": {},
   "outputs": [],
   "source": [
    "db_name = \"adot_reco_dev\"\n",
    "partitioned_dest_table = \"adotServiceProfile_templated_tmap_model\""
   ]
  },
  {
   "cell_type": "code",
   "execution_count": null,
   "id": "6c6cc1a7",
   "metadata": {},
   "outputs": [],
   "source": [
    "template = list(profile_template[profile_template['source_domain']==\"tmap_onemodel\"].template)[0]"
   ]
  },
  {
   "cell_type": "code",
   "execution_count": null,
   "id": "7364331d",
   "metadata": {},
   "outputs": [],
   "source": [
    "def profile_text(tmap_cat1,tmap_item):\n",
    "    return template.format(cat1_profile=tmap_cat1, item_profile=tmap_item)\n",
    "\n",
    "profile_text_udf = F.udf(profile_text, StringType())\n",
    "template_data = partial_data.withColumn(\"profile_templates\", profile_text_udf(partial_data[\"cat1_profiles\"], partial_data[\"item_profiles\"]))"
   ]
  },
  {
   "cell_type": "code",
   "execution_count": null,
   "id": "2f91e0a6",
   "metadata": {},
   "outputs": [],
   "source": [
    "df_to_bq_table(df=template_data,\n",
    "               dataset=db_name,\n",
    "               table_name=partitioned_dest_table,\n",
    "               mode=\"overwrite\")"
   ]
  }
 ],
 "metadata": {
  "kernelspec": {
   "display_name": "Python 3 (ipykernel)",
   "language": "python",
   "name": "python3"
  },
  "language_info": {
   "codemirror_mode": {
    "name": "ipython",
    "version": 3
   },
   "file_extension": ".py",
   "mimetype": "text/x-python",
   "name": "python",
   "nbconvert_exporter": "python",
   "pygments_lexer": "ipython3",
   "version": "3.8.19"
  }
 },
 "nbformat": 4,
 "nbformat_minor": 5
}
