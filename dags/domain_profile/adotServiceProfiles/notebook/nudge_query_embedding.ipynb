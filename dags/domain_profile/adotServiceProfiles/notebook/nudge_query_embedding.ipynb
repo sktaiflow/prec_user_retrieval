{
 "cells": [
  {
   "cell_type": "code",
   "execution_count": null,
   "id": "b083b584",
   "metadata": {},
   "outputs": [],
   "source": [
    "from skt.gcp import (\n",
    "    PROJECT_ID,\n",
    "    bq_insert_overwrite,\n",
    "    bq_to_df,\n",
    "    bq_to_pandas,\n",
    "    get_bigquery_client,\n",
    "    bq_table_exists,\n",
    "    get_max_part,\n",
    "    load_query_result_to_table,\n",
    "    pandas_to_bq,\n",
    "    pandas_to_bq_table,\n",
    "    load_bigquery_ipython_magic,\n",
    "    get_bigquery_client,\n",
    "    _print_query_job_results,\n",
    "    load_query_result_to_partitions\n",
    "    \n",
    ")\n",
    "\n",
    "from skt.ye import (\n",
    "    get_hdfs_conn,\n",
    "    get_spark,\n",
    "    hive_execute,\n",
    "    hive_to_pandas,\n",
    "    pandas_to_parquet,\n",
    "    slack_send,\n",
    "    get_secrets\n",
    ")"
   ]
  },
  {
   "cell_type": "code",
   "execution_count": null,
   "id": "c177f900",
   "metadata": {},
   "outputs": [],
   "source": [
    "from skt.vault_utils import get_secrets"
   ]
  },
  {
   "cell_type": "code",
   "execution_count": null,
   "id": "5965d02f",
   "metadata": {},
   "outputs": [],
   "source": [
    "from google.cloud.bigquery.job import QueryJobConfig"
   ]
  },
  {
   "cell_type": "code",
   "execution_count": null,
   "id": "9e3e6f73",
   "metadata": {},
   "outputs": [],
   "source": [
    "import pandas as pd\n",
    "import requests\n",
    "import json\n",
    "from datetime import datetime, date, timedelta\n",
    "from typing import List, Dict\n",
    "import os"
   ]
  },
  {
   "cell_type": "code",
   "execution_count": null,
   "id": "c9cf4d82",
   "metadata": {},
   "outputs": [],
   "source": [
    "import torch\n",
    "from transformers import (\n",
    "    AdamW,\n",
    "    AutoModel,\n",
    "    get_linear_schedule_with_warmup,\n",
    "    AutoTokenizer,\n",
    "    AutoConfig\n",
    ")\n",
    "import torch.nn.functional as F\n"
   ]
  },
  {
   "cell_type": "code",
   "execution_count": null,
   "id": "7f5ed968",
   "metadata": {},
   "outputs": [],
   "source": [
    "proxies = get_secrets('proxies')"
   ]
  },
  {
   "cell_type": "code",
   "execution_count": null,
   "id": "76918aa7",
   "metadata": {},
   "outputs": [],
   "source": [
    "os.environ['http_proxy'] = proxies['http']\n",
    "os.environ['https_proxy'] = proxies['https']"
   ]
  },
  {
   "cell_type": "code",
   "execution_count": null,
   "id": "149aaa4c",
   "metadata": {},
   "outputs": [],
   "source": [
    "print(f'current_dt: {current_dt}')\n",
    "print(f'state: {state}')\n",
    "print(f'long_duration: {long_duration}')\n"
   ]
  },
  {
   "cell_type": "code",
   "execution_count": null,
   "id": "dc30fdcb",
   "metadata": {},
   "outputs": [],
   "source": [
    "execution_dt = datetime.strptime(current_dt, '%Y-%m-%d')\n",
    "execution_dt_one_ago = (execution_dt - timedelta(days=1)).strftime('%Y-%m-%d')\n",
    "execution_dt_next = (execution_dt + timedelta(days=1))\n",
    "current_dt_next = execution_dt_next.strftime('%Y-%m-%d')"
   ]
  },
  {
   "cell_type": "code",
   "execution_count": null,
   "id": "13822c60",
   "metadata": {},
   "outputs": [],
   "source": [
    "db_name = 'adot_reco_dev'\n",
    "project_id = 'skt-datahub'\n",
    "table_name = \"nudge_offering_api_table\""
   ]
  },
  {
   "cell_type": "code",
   "execution_count": null,
   "id": "b813afcf",
   "metadata": {},
   "outputs": [],
   "source": [
    "bq_client = get_bigquery_client()"
   ]
  },
  {
   "cell_type": "code",
   "execution_count": null,
   "id": "e5a49040",
   "metadata": {},
   "outputs": [],
   "source": [
    "query = f\"\"\"\n",
    "SELECT  event_id,\n",
    "        event_id_description\n",
    "FROM {db_name}.{table_name}\n",
    "\"\"\""
   ]
  },
  {
   "cell_type": "code",
   "execution_count": null,
   "id": "4299eafb",
   "metadata": {},
   "outputs": [],
   "source": [
    "nudge_table = bq_to_pandas(query)"
   ]
  },
  {
   "cell_type": "code",
   "execution_count": null,
   "id": "53b7e587",
   "metadata": {},
   "outputs": [],
   "source": [
    "embedding_candidate_dict = nudge_table.set_index(\"event_id\").to_dict()[\"event_id_description\"]"
   ]
  },
  {
   "cell_type": "code",
   "execution_count": null,
   "id": "516d3f16",
   "metadata": {},
   "outputs": [],
   "source": [
    "query_list = []\n",
    "event_ids = []\n",
    "for event_id, query in embedding_candidate_dict.items():\n",
    "    query_list.append(query)\n",
    "    event_ids.append(event_id)"
   ]
  },
  {
   "cell_type": "code",
   "execution_count": null,
   "id": "b409f6e5",
   "metadata": {},
   "outputs": [],
   "source": [
    "model = AutoModel.from_pretrained('BM-K/KoDiffCSE-RoBERTa')\n",
    "tokenizer = AutoTokenizer.from_pretrained('BM-K/KoDiffCSE-RoBERTa')"
   ]
  },
  {
   "cell_type": "code",
   "execution_count": null,
   "id": "fcd67a9a",
   "metadata": {},
   "outputs": [],
   "source": [
    "device = torch.device(\"cuda\" if torch.cuda.is_available() else \"cpu\")\n",
    "print(device)\n",
    "model = model.to(device)"
   ]
  },
  {
   "cell_type": "code",
   "execution_count": null,
   "id": "fb031872",
   "metadata": {},
   "outputs": [],
   "source": [
    "def batch_embedd(query_list:list, event_ids:list, batch_size = 128, method=\"cls\"):\n",
    "    embedding_result = []\n",
    "    event_id_result = []\n",
    "    with torch.no_grad():\n",
    "        for i in range(0, len(query_list), batch_size):\n",
    "            batch = query_list[i:i+batch_size]\n",
    "            batch_event_ids = event_ids[i:i+batch_size]\n",
    "            inputs = tokenizer(batch, padding=True, truncation=True, return_tensors=\"pt\").to(device)\n",
    "            outputs = model(**inputs, return_dict=True)\n",
    "            #embeddings, _ = model(**inputs, return_dict=False)\n",
    "            if method =='cls':\n",
    "                embeddings = outputs.last_hidden_state[:, 0, :]  \n",
    "                embeddings = F.normalize(embeddings, p=2, dim=1)\n",
    "                embeddings = embeddings.unsqueeze(1)\n",
    "            elif method =='mean_pool':\n",
    "                embeddings = torch.mean(outputs.last_hidden_state, dim=1)\n",
    "                embeddings = F.normalize(embeddings, p=2, dim=1)\n",
    "                embeddings = embeddings.unsqueeze(1) # Shape: (batch_size, 768)\n",
    "            embedding_result.extend(embeddings.cpu().numpy())\n",
    "            event_id_result.extend(batch_event_ids)\n",
    "            \n",
    "    return embedding_result, event_id_result"
   ]
  },
  {
   "cell_type": "code",
   "execution_count": null,
   "id": "5767b394",
   "metadata": {},
   "outputs": [],
   "source": [
    "embedding_result, event_id_result = batch_embedd(query_list=query_list, event_ids=event_ids)"
   ]
  },
  {
   "cell_type": "code",
   "execution_count": null,
   "id": "edc32526",
   "metadata": {},
   "outputs": [],
   "source": [
    "result = []\n",
    "for i in range(len(event_id_result)):\n",
    "    result.append(\n",
    "        {\n",
    "         \"event_description\": query_list[i], \n",
    "         \"event_description_vector\": embedding_result[i].squeeze(0), \n",
    "         \"event_id\":event_id_result[i].split('_')[0], \n",
    "         'dt': current_dt_next\n",
    "        }\n",
    "    )"
   ]
  },
  {
   "cell_type": "code",
   "execution_count": null,
   "id": "b92b7201",
   "metadata": {},
   "outputs": [],
   "source": [
    "import pandas as pd\n",
    "df = pd.DataFrame(result)"
   ]
  },
  {
   "cell_type": "code",
   "execution_count": null,
   "id": "f6d5cb3a",
   "metadata": {},
   "outputs": [],
   "source": [
    "PROJECT_ID = \"skt-datahub\"\n",
    "db_name = \"adot_reco_dev\"\n",
    "table_name = \"nudge_eventId_embedding_userretrive\""
   ]
  },
  {
   "cell_type": "code",
   "execution_count": null,
   "id": "26e8fde0",
   "metadata": {},
   "outputs": [],
   "source": [
    "pandas_to_bq(pd_df = df, destination=f\"{PROJECT_ID}.{db_name}.{table_name}\", partition='dt')"
   ]
  }
 ],
 "metadata": {
  "kernelspec": {
   "display_name": "Python 3 (ipykernel)",
   "language": "python",
   "name": "python3"
  },
  "language_info": {
   "codemirror_mode": {
    "name": "ipython",
    "version": 3
   },
   "file_extension": ".py",
   "mimetype": "text/x-python",
   "name": "python",
   "nbconvert_exporter": "python",
   "pygments_lexer": "ipython3",
   "version": "3.8.19"
  }
 },
 "nbformat": 4,
 "nbformat_minor": 5
}
