{
 "cells": [
  {
   "cell_type": "code",
   "execution_count": null,
   "id": "b083b584",
   "metadata": {},
   "outputs": [],
   "source": [
    "from skt.gcp import (\n",
    "    PROJECT_ID,\n",
    "    bq_insert_overwrite,\n",
    "    bq_to_df,\n",
    "    bq_to_pandas,\n",
    "    get_bigquery_client,\n",
    "    bq_table_exists,\n",
    "    get_max_part,\n",
    "    load_query_result_to_table,\n",
    "    pandas_to_bq,\n",
    "    pandas_to_bq_table,\n",
    "    load_bigquery_ipython_magic,\n",
    "    get_bigquery_client,\n",
    "    _print_query_job_results,\n",
    "    load_query_result_to_partitions,\n",
    "    df_to_bq_table\n",
    "    \n",
    ")\n",
    "\n",
    "from skt.ye import (\n",
    "    get_hdfs_conn,\n",
    "    get_spark,\n",
    "    hive_execute,\n",
    "    hive_to_pandas,\n",
    "    pandas_to_parquet,\n",
    "    slack_send,\n",
    "    get_secrets\n",
    ")"
   ]
  },
  {
   "cell_type": "code",
   "execution_count": null,
   "id": "05b8b9c2",
   "metadata": {},
   "outputs": [],
   "source": [
    "from pyspark.sql.functions import *\n",
    "from pyspark.sql.window import Window\n",
    "from pyspark.sql.functions import (\n",
    "    row_number, \n",
    "    col, \n",
    "    lit, \n",
    "    count, \n",
    "    log, \n",
    "    exp, \n",
    "    sum as spark_sum\n",
    ")\n",
    "from pyspark.sql import functions as F\n",
    "from pyspark.sql.types import DoubleType"
   ]
  },
  {
   "cell_type": "code",
   "execution_count": null,
   "id": "9e3e6f73",
   "metadata": {},
   "outputs": [],
   "source": [
    "import pandas as pd\n",
    "from datetime import datetime, date, timedelta"
   ]
  },
  {
   "cell_type": "code",
   "execution_count": null,
   "id": "149aaa4c",
   "metadata": {},
   "outputs": [],
   "source": [
    "print(f'current_dt: {current_dt}')\n",
    "print(f'state: {state}')\n",
    "print(f'long_duration: {long_duration}')\n"
   ]
  },
  {
   "cell_type": "code",
   "execution_count": null,
   "id": "dc30fdcb",
   "metadata": {},
   "outputs": [],
   "source": [
    "execution_dt = datetime.strptime(current_dt, '%Y-%m-%d')\n",
    "execution_dt_one_ago = (execution_dt - timedelta(days=1)).strftime('%Y-%m-%d')\n",
    "long_duration = int(long_duration) - 1\n",
    "short_duration = 6\n"
   ]
  },
  {
   "cell_type": "code",
   "execution_count": null,
   "id": "8f3a62b6",
   "metadata": {},
   "outputs": [],
   "source": [
    "long_start_dt = (execution_dt - timedelta(days=long_duration)).strftime(\"%Y-%m-%d\")\n",
    "short_start_dt = (execution_dt - timedelta(days=short_duration)).strftime(\"%Y-%m-%d\")\n",
    "\n",
    "print(\"long_start_dt : \", long_start_dt)\n",
    "print(\"short_start_dt : \", short_start_dt)"
   ]
  },
  {
   "cell_type": "markdown",
   "id": "ff9feea3",
   "metadata": {},
   "source": [
    "# 운영성 "
   ]
  },
  {
   "cell_type": "code",
   "execution_count": null,
   "id": "7689ff5b",
   "metadata": {},
   "outputs": [],
   "source": [
    "cat2_set = {\n",
    "            \"information\":\"정보\", \n",
    "            \"life\":\"생활\", \n",
    "            \"location\":\"위치/이동\", \n",
    "            \"game\":\"게임\", \n",
    "            \"shopping\":\"쇼핑\",\n",
    "            \"communication\":\"커뮤니케이션\", \n",
    "            \"finance\":\"금융\", \n",
    "            \"utility\":\"유틸리티\", \n",
    "            \"entertainment\": \"엔터테인먼트\",\n",
    "            \"education\":\"교육\", \n",
    "            \"business\":\"회사/사업\", \n",
    "            \"leisure\":\"스포츠/레져/여행\"\n",
    "        }"
   ]
  },
  {
   "cell_type": "code",
   "execution_count": null,
   "id": "b0b29c31",
   "metadata": {},
   "outputs": [],
   "source": [
    "cat1_set = {\n",
    "    \"references\": \"지식/위키\",\n",
    "    \"fashion_beauty\": \"스타일/패션/뷰티\",\n",
    "    \"art_design\": \"디자인\",\n",
    "    \"location_etc\": \"location_etc\",\n",
    "    \"action\": \"액션게임\",\n",
    "    \"openmarket\": \"온라인 쇼핑몰\",\n",
    "    \"voip\": \"화상 채팅/회의\",\n",
    "    \"stock\": \"주식투자\",\n",
    "    \"blog\": \"블로그\",\n",
    "    \"casual\": \"캐주얼 게임\",\n",
    "    \"bank_card\": \"은행\",\n",
    "    \"webservice\": \"웹서비스\",\n",
    "    \"information_etc\": \"기타 정보 커뮤니티\",\n",
    "    \"payment\": \"결제\",\n",
    "    \"entertainment_etc\": \"entertainment_etc\",\n",
    "    \"cartoon\": \"만화\",\n",
    "    \"sns\": \"소셜미디어/SNS\",\n",
    "    \"religion\": \"종교\",\n",
    "    \"carlife\": \"자동차/중고차/렌트\",\n",
    "    \"government\": \"정부운영\",\n",
    "    \"job\": \"구직\",\n",
    "    \"weather\": \"날씨/미세먼지\",\n",
    "    \"sktservice\": \"SKT서비스\",\n",
    "    \"strategy\": \"전략게임\",\n",
    "    \"sharing\": \"공유 전기 자전거/킥보드\",\n",
    "    \"operation/management\": \"출퇴근 관리\",\n",
    "    \"itshopping\": \"IT/ 전자기기 쇼핑몰\",\n",
    "    \"puzzle_quiz\": \"퍼즐/퀴즈 게임\",\n",
    "    \"messenger\": \"메신저\",\n",
    "    \"travel\": \"여행\",\n",
    "    \"mall_mart_dfs\": \"대형 쇼핑몰 앱\",\n",
    "    \"b2b_solution\": \"전자상거래 비즈니스/마케팅 제휴\",\n",
    "    \"life_etc\": \"life_etc\",\n",
    "    \"lifestyle\": \"라이프스타일\",\n",
    "    \"simulation\": \"시뮬레이션 게임\",\n",
    "    \"food\": \"맛집/음식점, 배달\",\n",
    "    \"hotel\": \"호텔/숙박\",\n",
    "    \"rhythmgame\": \"리듬게임\",\n",
    "    \"move/interior\": \"이사 및 인테리어\",\n",
    "    \"education_info\": \"학생/아이 케어 및 관리\",\n",
    "    \"delivery_cargo\": \"물류/택배\",\n",
    "    \"productivity_tools\": \"공유 협업\",\n",
    "    \"mnd\": \"군인\",\n",
    "    \"ride_request\": \"공유차(택시앱)\",\n",
    "    \"vr/ar\": \"vr/ar\",\n",
    "    \"leisure\": \"취미 활동\",\n",
    "    \"dating\": \"데이팅\",\n",
    "    \"assetmanagement\": \"자산 관리/투자\",\n",
    "    \"racing\": \"레이싱게임\",\n",
    "    \"communication_etc\": \"communication_etc\",\n",
    "    \"telco\": \"통신사\",\n",
    "    \"cloudgaming\": \"클라우드 게임\",\n",
    "    \"portal\": \"포탈앱\",\n",
    "    \"business_etc\": \"회사 관련\",\n",
    "    \"email\": \"메일\",\n",
    "    \"aiservice\": \"AI서비스\",\n",
    "    \"overseas direct purchase\": \"해외직구\",\n",
    "    \"used\": \"중고거래\",\n",
    "    \"movie\": \"영화관\",\n",
    "    \"news\": \"온라인 뉴스\",\n",
    "    \"coupons_discounts\": \"쿠폰/포인트앱\",\n",
    "    \"video_broadcasting\": \"라이브 방송 플랫폼\",\n",
    "    \"sportsgame\": \"스포츠게임\",\n",
    "    \"book\": \"온라인 서점/e 북\",\n",
    "    \"socialcommerce\": \"소셜커머스\",\n",
    "    \"culture and arts\": \"문화예술\",\n",
    "    \"board\": \"보드게임\",\n",
    "    \"transport\": \"운송(공유차/비행기/버스)\",\n",
    "    \"smartdevice\": \"홈 IOT\",\n",
    "    \"map_navigation\": \"지도/네비\",\n",
    "    \"game_etc\": \"game_etc\",\n",
    "    \"homeshopping\": \"홈쇼핑\",\n",
    "    \"p2p_webhard\": \"P2P_Webhard\",\n",
    "    \"photo\": \"사진\",\n",
    "    \"shopping_etc\": \"Shopping_etc\",\n",
    "    \"security\": \"보안\",\n",
    "    \"pcs\": \"PC 쇼핑몰\",\n",
    "    \"english\": \"영어교육\",\n",
    "    \"fresh_delivery\": \"신선 식품/식재료 전문 스토어\",\n",
    "    \"finance_etc\": \"finance_etc\",\n",
    "    \"utility_etc\": \"utility_etc\",\n",
    "    \"radio\": \"라디오\",\n",
    "    \"music\": \"음악\",\n",
    "    \"education_etc\": \"education_etc\",\n",
    "    \"insurance\": \"보험\",\n",
    "    \"roleplaying\": \"롤플레잉게임\",\n",
    "    \"kids\": \"유아/아기\",\n",
    "    \"school\": \"대학교 홈페이지\",\n",
    "    \"onlinepayment\": \"온라인 결제\",\n",
    "    \"health\": \"헬스/비대면진료\",\n",
    "    \"svod\": \"영상 OTT\",\n",
    "    \"card\": \"카드게임\",\n",
    "    \"companion animal\": \"동물 캠페인\",\n",
    "    \"realestates\": \"부동산\",\n",
    "    \"cryptocurrency\": \"암호화폐\",\n",
    "    \"sports\": \"스포츠\",\n",
    "    \"adult\": \"성인관련\",\n",
    "    \"humor\": \"유머/코믹\"\n",
    "}\n",
    "\n"
   ]
  },
  {
   "cell_type": "code",
   "execution_count": null,
   "id": "595cab73",
   "metadata": {},
   "outputs": [],
   "source": [
    "db_name = \"adot_reco_dev\""
   ]
  },
  {
   "cell_type": "code",
   "execution_count": null,
   "id": "54d484bf",
   "metadata": {},
   "outputs": [],
   "source": [
    "def xdr_extract_profile(data, thre=0.6, ecdf_wei = 0.6, dt_cnt = 60, col_names1='xdr_cat1_total', col_names2='xdr_cat2_total'):\n",
    "    #################\n",
    "    ### ECDF 계산 ###\n",
    "    #################\n",
    "    \n",
    "    # 그룹별로 데이터 정렬\n",
    "    windowSpec = Window.partitionBy(\"cat1\").orderBy(\"cat1_cnt_sum\").rowsBetween(Window.unboundedPreceding, 0)\n",
    "    data_sum = data.groupBy([\"svc_mgmt_num\",\"luna_id\",\"cat1\"]).agg(sum('cat1_cnt').alias('cat1_cnt_sum'))\n",
    "\n",
    "    # 그룹별로 값의 개수 세기\n",
    "    count_by_group = data_sum.groupBy(\"cat1\").agg(count(\"*\").alias(\"count\"))\n",
    "\n",
    "    # 원래 데이터프레임에 그룹별 카운트를 조인\n",
    "    df_with_count = data_sum.join(count_by_group, on=\"cat1\", how=\"left\")\n",
    "\n",
    "    # 누적합 계산\n",
    "    df_with_cumsum = df_with_count.withColumn(\"cum_sum\", spark_sum(lit(1)).over(windowSpec))\n",
    "\n",
    "    # ECDF 계산\n",
    "    df_with_ecdf = df_with_cumsum.withColumn(\"ecdf\", col(\"cum_sum\") / col(\"count\"))\n",
    "\n",
    "    # 필요한 열 선택\n",
    "    result_df = df_with_ecdf.select('svc_mgmt_num','luna_id',\"cat1\", \"cat1_cnt_sum\", \"ecdf\").dropDuplicates(['luna_id',\"cat1\"])\n",
    "    \n",
    "    ############################\n",
    "    ### IDF 기반 weight 계산 ###\n",
    "    ############################\n",
    "    data_dt_cnt = data.select(['luna_id','cat1','dt']).distinct().groupby(['luna_id','cat1']).agg(count(\"*\").alias(\"luna_cat1_cnt\"))\n",
    "    data_dt_cnt = data_dt_cnt.withColumn(\"df_weight\", 1/log(lit(dt_cnt) / col(\"luna_cat1_cnt\") + 1.0e-8))\n",
    "    data_dt_cnt = data_dt_cnt.withColumn(\"rev_df_weight\", 1.0/(1.0 + exp(-col(\"df_weight\"))))\n",
    "    \n",
    "    #### Merge ####\n",
    "    merge_data = result_df.dropna(subset=\"luna_id\")\\\n",
    "                          .select(['luna_id','cat1','ecdf'])\\\n",
    "                          .join(data_dt_cnt.select(['luna_id', 'cat1','rev_df_weight']), on=['luna_id','cat1'], how=\"left\")\n",
    "    merge_data = merge_data.withColumn('score', col('ecdf')*ecdf_wei + col('rev_df_weight')*(1-ecdf_wei))\n",
    "    \n",
    "    data_cat1_distinct = data.select(['cat1','cat2']).distinct()\n",
    "    merge_data = merge_data.join(data_cat1_distinct, on=\"cat1\", how=\"left\")\n",
    "    \n",
    "    window_spec = Window.partitionBy(['luna_id']).orderBy(F.desc('score'))\n",
    "    merge_data = merge_data.withColumn(\"rank\", row_number().over(window_spec)) \\\n",
    "                    .filter(col(\"rank\") <= 10) \\\n",
    "                    .drop(\"rank\")\n",
    "    \n",
    "    merge_data = merge_data.filter(col(\"score\") >= thre).orderBy(F.desc(\"score\")).groupBy(\"luna_id\").agg(F.concat_ws(\",\", F.collect_set(\"cat1\")).alias(\"cat1_list\"), F.concat_ws(\",\", F.collect_set(\"cat2\")).alias(\"cat2_list\"))\n",
    "    merge_data = merge_data.withColumnRenamed(\"cat1_list\", col_names1)\n",
    "    merge_data = merge_data.withColumnRenamed(\"cat2_list\", col_names2)\n",
    "    \n",
    "    return merge_data"
   ]
  },
  {
   "cell_type": "code",
   "execution_count": null,
   "id": "d29273fd",
   "metadata": {},
   "outputs": [],
   "source": [
    "def calculate_days(start_date, end_date):\n",
    "    date_range = pd.date_range(start=start_date, end=end_date)\n",
    "    total_days = len(date_range)\n",
    "    weekend_days = date_range.to_series().map(lambda x: x.weekday() >= 5).sum()\n",
    "    weekday_days = total_days - weekend_days\n",
    "    return total_days, int(weekend_days), int(weekday_days)"
   ]
  },
  {
   "cell_type": "markdown",
   "id": "363b08fe-586b-4b37-9a98-dbee9c39d641",
   "metadata": {},
   "source": [
    "## **One Model Profile 생성 작업**"
   ]
  },
  {
   "cell_type": "markdown",
   "id": "6e8bbfe0-3d1d-41ea-b97d-3394ad548dcf",
   "metadata": {
    "execution": {
     "iopub.execute_input": "2024-06-03T23:07:29.647241Z",
     "iopub.status.busy": "2024-06-03T23:07:29.646408Z",
     "iopub.status.idle": "2024-06-03T23:07:29.655344Z",
     "shell.execute_reply": "2024-06-03T23:07:29.654108Z",
     "shell.execute_reply.started": "2024-06-03T23:07:29.647184Z"
    },
    "tags": []
   },
   "source": [
    "- 개요\n",
    "    - One Model Profile 생성 작업\n",
    "- 내용\n",
    "    - item, cat1, cat2 level로 프로파일링 작업 수행\n",
    "    - 단기 preference 정보\n",
    "        - 7일 내 item 정보를 통해서 생성\n",
    "        - 이때, item은 정규화 로직을 통해 추출된 단어 기반으로 최종 단어들은 추출\n",
    "    - 장기 preference 정보\n",
    "        - 60일 내 cat1, cat2 정보를 통해서 생성\n",
    "        - cat2가 더 상위 레벨임. 어떤 레벨로 장기 구성할지 선택 필요- 내용- 내용"
   ]
  },
  {
   "cell_type": "code",
   "execution_count": 12,
   "id": "06cd646c-2f36-4318-984f-0ecec4225bff",
   "metadata": {
    "execution": {
     "iopub.execute_input": "2024-06-27T08:13:29.758831Z",
     "iopub.status.busy": "2024-06-27T08:13:29.758214Z",
     "iopub.status.idle": "2024-06-27T08:13:29.766202Z",
     "shell.execute_reply": "2024-06-27T08:13:29.765185Z",
     "shell.execute_reply.started": "2024-06-27T08:13:29.758777Z"
    },
    "tags": []
   },
   "outputs": [],
   "source": [
    "total_days, weekend_days, weekday_days = calculate_days(long_start_dt, current_dt)\n",
    "log_format = f\"\"\"\n",
    "    total_days: {total_days},\n",
    "    weekend_days: {weekend_days},\n",
    "    weekday_days: {weekday_days}\n",
    "\"\"\"\n",
    "print(log_format)"
   ]
  },
  {
   "cell_type": "code",
   "execution_count": 14,
   "id": "4a3e1e90-d4f5-4fab-a14a-3fe4971eeb76",
   "metadata": {
    "execution": {
     "iopub.execute_input": "2024-06-27T08:13:30.386338Z",
     "iopub.status.busy": "2024-06-27T08:13:30.385663Z",
     "iopub.status.idle": "2024-06-27T08:13:30.392582Z",
     "shell.execute_reply": "2024-06-27T08:13:30.391381Z",
     "shell.execute_reply.started": "2024-06-27T08:13:30.386283Z"
    },
    "tags": []
   },
   "outputs": [],
   "source": [
    "query_cat1 = f\"\"\"\n",
    "    SELECT *\n",
    "    FROM {db_name}.xdr_cat1_cnt\n",
    "    where dt >= '{long_start_dt}'\n",
    "\"\"\""
   ]
  },
  {
   "cell_type": "code",
   "execution_count": 15,
   "id": "5eb902fa-7786-405e-a1ec-36887b6458e4",
   "metadata": {
    "execution": {
     "iopub.execute_input": "2024-06-27T08:13:30.638503Z",
     "iopub.status.busy": "2024-06-27T08:13:30.637812Z",
     "iopub.status.idle": "2024-06-27T08:14:32.064382Z",
     "shell.execute_reply": "2024-06-27T08:14:32.062662Z",
     "shell.execute_reply.started": "2024-06-27T08:13:30.638450Z"
    },
    "tags": []
   },
   "outputs": [
    {
     "name": "stderr",
     "output_type": "stream",
     "text": [
      "Setting default log level to \"WARN\".\n",
      "To adjust logging level use sc.setLogLevel(newLevel). For SparkR, use setLogLevel(newLevel).\n",
      "24/06/27 17:14:04 WARN Client: Neither spark.yarn.jars nor spark.yarn.archive is set, falling back to uploading libraries under SPARK_HOME.\n",
      "24/06/27 17:14:27 WARN SQLConf: The SQL config 'spark.sql.execution.arrow.enabled' has been deprecated in Spark v3.0 and may be removed in the future. Use 'spark.sql.execution.arrow.pyspark.enabled' instead of it.\n",
      "----------------------------------------\n",
      "Exception happened during processing of request from ('127.0.0.1', 32771)\n",
      "Traceback (most recent call last):\n",
      "  File \"/usr/lib/python3.8/socketserver.py\", line 316, in _handle_request_noblock\n",
      "    self.process_request(request, client_address)\n",
      "  File \"/usr/lib/python3.8/socketserver.py\", line 347, in process_request\n",
      "    self.finish_request(request, client_address)\n",
      "  File \"/usr/lib/python3.8/socketserver.py\", line 360, in finish_request\n",
      "    self.RequestHandlerClass(request, client_address, self)\n",
      "  File \"/usr/lib/python3.8/socketserver.py\", line 747, in __init__\n",
      "    self.handle()\n",
      "  File \"/opt/spark/python/lib/pyspark.zip/pyspark/accumulators.py\", line 262, in handle\n",
      "    poll(accum_updates)\n",
      "  File \"/opt/spark/python/lib/pyspark.zip/pyspark/accumulators.py\", line 235, in poll\n",
      "    if func():\n",
      "  File \"/opt/spark/python/lib/pyspark.zip/pyspark/accumulators.py\", line 239, in accum_updates\n",
      "    num_updates = read_int(self.rfile)\n",
      "  File \"/opt/spark/python/lib/pyspark.zip/pyspark/serializers.py\", line 564, in read_int\n",
      "    raise EOFError\n",
      "EOFError\n",
      "----------------------------------------\n"
     ]
    }
   ],
   "source": [
    "data_cat1 = bq_to_df(query_cat1)"
   ]
  },
  {
   "cell_type": "code",
   "execution_count": 16,
   "id": "e9f4d86a-c880-4d39-9fef-20a9243f7a1a",
   "metadata": {
    "execution": {
     "iopub.execute_input": "2024-06-27T08:14:32.068560Z",
     "iopub.status.busy": "2024-06-27T08:14:32.067791Z",
     "iopub.status.idle": "2024-06-27T08:14:38.489046Z",
     "shell.execute_reply": "2024-06-27T08:14:38.488328Z",
     "shell.execute_reply.started": "2024-06-27T08:14:32.068497Z"
    },
    "tags": []
   },
   "outputs": [
    {
     "name": "stderr",
     "output_type": "stream",
     "text": [
      "[Stage 0:>                                                          (0 + 1) / 1]\r"
     ]
    },
    {
     "name": "stdout",
     "output_type": "stream",
     "text": [
      "+--------------------+--------------------+----+------------------+--------+--------+----------+----------+\n",
      "|        svc_mgmt_num|             luna_id|cat2|              cat1|cat1_cnt|second_s|is_weekend|        dt|\n",
      "+--------------------+--------------------+----+------------------+--------+--------+----------+----------+\n",
      "|0f037d5a2f42ba8ab...|APL00000D1QENHBVQPS0|    |      apollo_radio|       1|   13_18|         1|2024-06-22|\n",
      "|98107bdf0577d2ac8...|APL00000CXD2M7KGYI2O|    |      apollo_alarm|       1|   21_24|         1|2024-06-22|\n",
      "|                null|APL00000DOEYDJI0LDKW|    |      apollo_radio|       1|   11_13|         1|2024-06-22|\n",
      "|52cc2bdc6157c97cc...|APL00000BLHBPJQJ4RNK|    |      apollo_radio|       1|    9_11|         0|2024-06-12|\n",
      "|5204e1b27da2f33a1...|APL00000D6M8ZFJVWLJ4|    |      apollo_radio|       1|     0_6|         0|2024-05-27|\n",
      "|2fd8fe1dadaca3d99...|APL00000D5310BS3WGSG|    |      apollo_radio|       1|   13_18|         0|2024-06-18|\n",
      "|8e7d69711b4196406...|APL00000DBAI6UF99GCG|    |      apollo_radio|       1|    9_11|         0|2024-05-22|\n",
      "|223799bd69e690c46...|APL00000BT8PICUK2TXC|    |apollo_anniversary|       1|    9_11|         0|2024-05-22|\n",
      "|5863013b5dc4c1569...|APL00000DGS8RDYAZW8W|    |      apollo_radio|       1|   11_13|         0|2024-05-22|\n",
      "|ffab8a027bcf64aa0...|APL00000BXJ1DT3RO0LC|    |      apollo_radio|       1|     6_9|         0|2024-06-13|\n",
      "+--------------------+--------------------+----+------------------+--------+--------+----------+----------+\n",
      "only showing top 10 rows\n",
      "\n"
     ]
    },
    {
     "name": "stderr",
     "output_type": "stream",
     "text": [
      "                                                                                \r"
     ]
    }
   ],
   "source": [
    "data_cat1.show(3, False)"
   ]
  },
  {
   "cell_type": "code",
   "execution_count": null,
   "id": "988c68b3",
   "metadata": {},
   "outputs": [],
   "source": [
    "def xdr_cat2_to_text(xdr_cat2):\n",
    "    if xdr_cat2 in list(cat2_set.keys()):\n",
    "        return cat2_set[xdr_cat2]\n",
    "    else:\n",
    "        return \"기타\"\n",
    "\n",
    "xdr_cat2_to_text_udf = F.udf(xdr_cat2_to_text, StringType())\n",
    "data_cat1 = data_cat1.withColumn(\"cat2\", xdr_cat2_to_text_udf(data_cat1[\"cat2\"]))"
   ]
  },
  {
   "cell_type": "code",
   "execution_count": 19,
   "id": "c405e5a5-04da-4a20-9bd2-483a9b225389",
   "metadata": {
    "execution": {
     "iopub.execute_input": "2024-06-27T08:15:02.449594Z",
     "iopub.status.busy": "2024-06-27T08:15:02.449096Z",
     "iopub.status.idle": "2024-06-27T08:15:02.505602Z",
     "shell.execute_reply": "2024-06-27T08:15:02.504394Z",
     "shell.execute_reply.started": "2024-06-27T08:15:02.449560Z"
    },
    "tags": []
   },
   "outputs": [],
   "source": [
    "def xdr_cat1_to_text(xdr_cat1, xdr_cat2):\n",
    "    if xdr_cat1 in list(cat1_set.keys()):\n",
    "        if xdr_cat1 == \"community\":\n",
    "            if xdr_cat2 == \"회사/사업\":\n",
    "                return '커뮤니티/게시판'\n",
    "            else: # '커뮤니케이션'\n",
    "                return '대학교 관련 정보'\n",
    "        else:\n",
    "            return cat1_set[xdr_cat1]\n",
    "    else:\n",
    "        return \"기타\"\n",
    "\n",
    "xdr_cat1_to_text_udf = F.udf(xdr_cat1_to_text, StringType())\n",
    "data_cat1 = data_cat1.withColumn(\"cat1\", xdr_cat1_to_text_udf(data_cat1[\"cat1\"], data_cat1[\"cat2\"]))"
   ]
  },
  {
   "cell_type": "markdown",
   "id": "abb5af39-4943-4485-a073-6496ea4e8d09",
   "metadata": {
    "tags": []
   },
   "source": [
    "## 전체, 주말, 주중(출근, 퇴근, 일과시간) 별 cat1 list 추출"
   ]
  },
  {
   "cell_type": "code",
   "execution_count": 21,
   "id": "d8610c9e-6a7a-4353-92fe-5e183ba2db99",
   "metadata": {
    "execution": {
     "iopub.execute_input": "2024-06-27T08:15:02.514097Z",
     "iopub.status.busy": "2024-06-27T08:15:02.513549Z",
     "iopub.status.idle": "2024-06-27T08:15:04.158271Z",
     "shell.execute_reply": "2024-06-27T08:15:04.156932Z",
     "shell.execute_reply.started": "2024-06-27T08:15:02.514055Z"
    },
    "tags": []
   },
   "outputs": [],
   "source": [
    "total_data = xdr_extract_profile(data_cat1, 0.6, 0.6, total_days , 'cat1_profiles', 'cat2_profiles')\n",
    "total_data = total_data.join(xdr_extract_profile(data_cat1.filter(col('is_weekend')==1), 0.5, 0.6, weekend_days, 'xdr_cat1_weekend', 'xdr_cat2_weekend'),on=\"luna_id\",how=\"left\")\n",
    "total_data = total_data.join(xdr_extract_profile(data_cat1.filter((col('is_weekend')==0) & (col('second_s')==\"6_9\")), 0.5, 0.6, weekday_days, 'xdr_cat1_go_to_work', \"xdr_cat2_go_to_work\"),on=\"luna_id\",how=\"left\")\n",
    "total_data = total_data.join(xdr_extract_profile(data_cat1.filter((col('is_weekend')==0) & ((col('second_s')==\"18_21\") | (col('second_s')==\"21_24\"))), 0.5, 0.6, weekday_days, 'xdr_cat1_leave_work', 'xdr_cat2_leave_work'),on=\"luna_id\",how=\"left\")\n",
    "total_data = total_data.join(xdr_extract_profile(data_cat1.filter((col('is_weekend')==0) & ((col('second_s')==\"9_11\") | (col('second_s')==\"11_13\") | (col('second_s')==\"13_18\"))), 0.5, 0.6, weekday_days, 'xdr_cat1_working_hour','xdr_cat2_working_hour'),on=\"luna_id\",how=\"left\")\n",
    "total_data = total_data.withColumn(\"source_domain\", F.lit(\"xdr\"))"
   ]
  },
  {
   "cell_type": "markdown",
   "id": "45f43829",
   "metadata": {},
   "source": [
    "# 프로 파일 테이블 저장"
   ]
  },
  {
   "cell_type": "code",
   "execution_count": null,
   "id": "fd97beb8",
   "metadata": {},
   "outputs": [],
   "source": [
    "PROJECT_ID = \"skt-datahub\"\n",
    "db_name = \"adot_reco_dev\"\n",
    "partitioned_dest_table = \"adotServiceProfile_xdr\""
   ]
  },
  {
   "cell_type": "code",
   "execution_count": null,
   "id": "a6e00627",
   "metadata": {},
   "outputs": [],
   "source": [
    "table_exists = bq_table_exists(table=f'{db_name}.{partitioned_dest_table}', project_id = PROJECT_ID)"
   ]
  },
  {
   "cell_type": "code",
   "execution_count": null,
   "id": "bf6e2290",
   "metadata": {},
   "outputs": [],
   "source": [
    "get_bigquery_client().query(f\"\"\"\n",
    "    CREATE TABLE IF NOT EXISTS {db_name}.{partitioned_dest_table}(\n",
    "        luna_id STRING,\n",
    "        cat1_profiles STRING,\n",
    "        cat2_profiles STRING,\n",
    "        xdr_cat1_weekend STRING,\n",
    "        xdr_cat2_weekend STRING,\n",
    "        xdr_cat1_go_to_work STRING,\n",
    "        xdr_cat2_go_to_work STRING,\n",
    "        xdr_cat1_leave_work STRING,\n",
    "        xdr_cat2_leave_work STRING,\n",
    "        xdr_cat1_working_hours STRING,\n",
    "        xdr_cat2_working_hours STRING,\n",
    "        source_domain STRING,\n",
    "        dt DATE\n",
    "    )\n",
    "    PARTITION BY dt\n",
    "\"\"\").result()\n",
    "\n",
    "print(f\"생성된 테이블 : {db_name}.{partitioned_dest_table}\")"
   ]
  },
  {
   "cell_type": "code",
   "execution_count": null,
   "id": "27ed956a",
   "metadata": {},
   "outputs": [],
   "source": [
    "table_exists = bq_table_exists(table=f'{db_name}.{partitioned_dest_table}', project_id = PROJECT_ID)"
   ]
  },
  {
   "cell_type": "code",
   "execution_count": null,
   "id": "af5a2321",
   "metadata": {},
   "outputs": [],
   "source": [
    "df_to_bq_table(df=total_data,\n",
    "               dataset=db_name,\n",
    "               table_name=partitioned_dest_table,\n",
    "               mode=\"overwrite\")"
   ]
  },
  {
   "cell_type": "markdown",
   "id": "fdf5d44e",
   "metadata": {},
   "source": [
    "# Template 입히기"
   ]
  },
  {
   "cell_type": "code",
   "execution_count": null,
   "id": "36fe2db0-3bbc-49cb-8e05-622efbac792e",
   "metadata": {
    "execution": {
     "iopub.execute_input": "2024-06-28T00:15:43.723104Z",
     "iopub.status.busy": "2024-06-28T00:15:43.722031Z",
     "iopub.status.idle": "2024-06-28T00:15:47.332382Z",
     "shell.execute_reply": "2024-06-28T00:15:47.331203Z",
     "shell.execute_reply.started": "2024-06-28T00:15:43.723040Z"
    },
    "tags": []
   },
   "outputs": [
    {
     "ename": "",
     "evalue": "",
     "output_type": "error",
     "traceback": [
      "\u001b[1;31m'Python 3.9.6'(으)로 셀을 실행하려면 ipykernel 패키지가 필요합니다.\n",
      "\u001b[1;31m다음 명령어를 실행하여 Python 환경에 'ipykernel'을(를) 설치합니다. \n",
      "\u001b[1;31m 명령: '/usr/bin/python3 -m pip install ipykernel -U --user --force-reinstall'"
     ]
    }
   ],
   "source": [
    "profile_template = bq_to_pandas(\"select * from adot_reco_dev.profile_template\")"
   ]
  },
  {
   "cell_type": "code",
   "execution_count": 23,
   "id": "d71ecc50-10fb-45b2-9340-7dadde4e5177",
   "metadata": {
    "execution": {
     "iopub.execute_input": "2024-06-27T08:16:21.176439Z",
     "iopub.status.busy": "2024-06-27T08:16:21.175695Z",
     "iopub.status.idle": "2024-06-27T08:16:21.222966Z",
     "shell.execute_reply": "2024-06-27T08:16:21.221810Z",
     "shell.execute_reply.started": "2024-06-27T08:16:21.176380Z"
    },
    "tags": []
   },
   "outputs": [],
   "source": [
    "template = list(profile_template[profile_template['source_domain']==\"xdr\"].template)[0]\n",
    "\n",
    "def profile_text(xdr_cat1):\n",
    "    return template.format(cat1_profile=xdr_cat1)\n",
    "\n",
    "profile_text_udf = F.udf(profile_text, StringType())\n",
    "total_data = total_data.withColumn(\"profile_templates\", profile_text_udf(total_data[\"cat1_profiles\"]))"
   ]
  },
  {
   "cell_type": "markdown",
   "id": "1c246162-6f43-4f53-a288-9a8137fca784",
   "metadata": {},
   "source": [
    "### Template 입힌 테이블 저장"
   ]
  },
  {
   "cell_type": "code",
   "execution_count": 26,
   "id": "bb1b5e4f-4313-494f-8759-0b94aeeb4bc6",
   "metadata": {
    "execution": {
     "iopub.execute_input": "2024-06-27T08:18:24.802763Z",
     "iopub.status.busy": "2024-06-27T08:18:24.801318Z",
     "iopub.status.idle": "2024-06-27T08:18:24.808269Z",
     "shell.execute_reply": "2024-06-27T08:18:24.806940Z",
     "shell.execute_reply.started": "2024-06-27T08:18:24.802687Z"
    },
    "tags": []
   },
   "outputs": [],
   "source": [
    "PROJECT_ID = \"skt-datahub\"\n",
    "db_name = \"adot_reco_dev\"\n",
    "partitioned_dest_table = \"adotServiceProfile_templated_adot\""
   ]
  },
  {
   "cell_type": "code",
   "execution_count": null,
   "id": "8a0f86b1",
   "metadata": {},
   "outputs": [],
   "source": [
    "table_exists = bq_table_exists(table=f'{db_name}.{partitioned_dest_table}', project_id = PROJECT_ID)"
   ]
  },
  {
   "cell_type": "code",
   "execution_count": 27,
   "id": "eb39d93a-b48d-49a4-862f-ecb160f56644",
   "metadata": {
    "execution": {
     "iopub.execute_input": "2024-06-27T08:18:25.294677Z",
     "iopub.status.busy": "2024-06-27T08:18:25.293892Z",
     "iopub.status.idle": "2024-06-27T08:18:27.228965Z",
     "shell.execute_reply": "2024-06-27T08:18:27.227831Z",
     "shell.execute_reply.started": "2024-06-27T08:18:25.294619Z"
    },
    "tags": []
   },
   "outputs": [
    {
     "name": "stderr",
     "output_type": "stream",
     "text": [
      "[Stage 4:=> (22 + 8) / 52][Stage 5:>   (0 + 0) / 52][Stage 6:>   (0 + 0) / 52]\r"
     ]
    },
    {
     "name": "stdout",
     "output_type": "stream",
     "text": [
      "생성된 테이블 : x1113099.user_retrieval_profile_adot_text\n"
     ]
    }
   ],
   "source": [
    "if not table_exists:\n",
    "    get_bigquery_client().query(f\"\"\"\n",
    "        CREATE TABLE IF NOT EXISTS {db_name}.{partitioned_dest_table}(\n",
    "            luna_id STRING,\n",
    "            cat1_profiles STRING,\n",
    "            profile_templates STRING,\n",
    "            source_domain STRING,\n",
    "            dt DATE\n",
    "        )\n",
    "        PARTITION BY dt\n",
    "    \"\"\").result()   \n",
    "    print(f\"생성된 테이블 : {db_name}.{partitioned_dest_table}\")"
   ]
  },
  {
   "cell_type": "code",
   "execution_count": 28,
   "id": "9087dbc1-a338-45f5-bc0a-1a0346cf3a4f",
   "metadata": {
    "execution": {
     "iopub.execute_input": "2024-06-27T08:18:27.230887Z",
     "iopub.status.busy": "2024-06-27T08:18:27.230557Z",
     "iopub.status.idle": "2024-06-27T08:51:08.758456Z",
     "shell.execute_reply": "2024-06-27T08:51:08.756564Z",
     "shell.execute_reply.started": "2024-06-27T08:18:27.230853Z"
    },
    "tags": []
   },
   "outputs": [
    {
     "name": "stderr",
     "output_type": "stream",
     "text": [
      "                                                                                \r"
     ]
    }
   ],
   "source": [
    "df_to_bq_table(df=total_data,\n",
    "               dataset=db_name,\n",
    "               table_name=partitioned_dest_table,\n",
    "               mode=\"overwrite\")"
   ]
  }
 ],
 "metadata": {
  "kernelspec": {
   "display_name": "Python 3 (ipykernel)",
   "language": "python",
   "name": "python3"
  },
  "language_info": {
   "codemirror_mode": {
    "name": "ipython",
    "version": 3
   },
   "file_extension": ".py",
   "mimetype": "text/x-python",
   "name": "python",
   "nbconvert_exporter": "python",
   "pygments_lexer": "ipython3",
   "version": "3.9.6"
  }
 },
 "nbformat": 4,
 "nbformat_minor": 5
}
