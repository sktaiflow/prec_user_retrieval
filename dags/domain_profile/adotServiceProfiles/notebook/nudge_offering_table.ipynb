{
 "cells": [
  {
   "cell_type": "code",
   "execution_count": null,
   "id": "b083b584",
   "metadata": {},
   "outputs": [],
   "source": [
    "from skt.gcp import (\n",
    "    PROJECT_ID,\n",
    "    bq_insert_overwrite,\n",
    "    bq_to_df,\n",
    "    bq_to_pandas,\n",
    "    get_bigquery_client,\n",
    "    bq_table_exists,\n",
    "    get_max_part,\n",
    "    load_query_result_to_table,\n",
    "    pandas_to_bq,\n",
    "    pandas_to_bq_table,\n",
    "    load_bigquery_ipython_magic,\n",
    "    get_bigquery_client,\n",
    "    _print_query_job_results,\n",
    "    load_query_result_to_partitions\n",
    "    \n",
    ")\n",
    "\n",
    "from skt.ye import (\n",
    "    get_hdfs_conn,\n",
    "    get_spark,\n",
    "    hive_execute,\n",
    "    hive_to_pandas,\n",
    "    pandas_to_parquet,\n",
    "    slack_send,\n",
    "    get_secrets\n",
    ")"
   ]
  },
  {
   "cell_type": "code",
   "execution_count": null,
   "id": "5965d02f",
   "metadata": {},
   "outputs": [],
   "source": [
    "from google.cloud.bigquery.job import QueryJobConfig"
   ]
  },
  {
   "cell_type": "code",
   "execution_count": null,
   "id": "05b8b9c2",
   "metadata": {},
   "outputs": [],
   "source": [
    "from pyspark.sql.functions import *\n",
    "from pyspark.sql.window import Window\n",
    "from pyspark.sql.functions import (\n",
    "    row_number, \n",
    "    col, \n",
    "    lit, \n",
    "    count, \n",
    "    log, \n",
    "    exp, \n",
    "    sum as spark_sum\n",
    ")\n",
    "from pyspark.sql import functions as F\n",
    "from pyspark.sql.types import DoubleType"
   ]
  },
  {
   "cell_type": "code",
   "execution_count": null,
   "id": "9e3e6f73",
   "metadata": {},
   "outputs": [],
   "source": [
    "import pandas as pd\n",
    "import requests\n",
    "import json\n",
    "from datetime import datetime, date, timedelta\n",
    "from typing import List, Dict"
   ]
  },
  {
   "cell_type": "code",
   "execution_count": null,
   "id": "149aaa4c",
   "metadata": {},
   "outputs": [],
   "source": [
    "print(f'current_dt: {current_dt}')\n",
    "print(f'state: {state}')\n",
    "print(f'long_duration: {long_duration}')\n"
   ]
  },
  {
   "cell_type": "code",
   "execution_count": null,
   "id": "dc30fdcb",
   "metadata": {},
   "outputs": [],
   "source": [
    "execution_dt = datetime.strptime(current_dt, '%Y-%m-%d')\n",
    "execution_dt_one_ago = (execution_dt - timedelta(days=1)).strftime('%Y-%m-%d')\n",
    "execution_dt_next = (execution_dt + timedelta(days=1))\n",
    "current_dt_next = execution_dt_next.strftime('%Y-%m-%d')"
   ]
  },
  {
   "cell_type": "code",
   "execution_count": null,
   "id": "13822c60",
   "metadata": {},
   "outputs": [],
   "source": [
    "db_name = 'adot_reco_dev'\n",
    "project_id = 'skt-datahub'"
   ]
  },
  {
   "cell_type": "code",
   "execution_count": null,
   "id": "b813afcf",
   "metadata": {},
   "outputs": [],
   "source": [
    "bq_client = get_bigquery_client()"
   ]
  },
  {
   "cell_type": "code",
   "execution_count": null,
   "id": "2f941e01",
   "metadata": {},
   "outputs": [],
   "source": [
    "import requests\n",
    "import pandas as pd\n",
    "import json"
   ]
  },
  {
   "cell_type": "code",
   "execution_count": null,
   "id": "010c629d",
   "metadata": {},
   "outputs": [],
   "source": [
    "url = \"http://insight.nugu.co.kr/psionic/v1/api/export/edf_1718241386286\"\n",
    "headers = {\n",
    "    \"Content-Type\": \"application/json\", \n",
    "    \"token\": nudge_token\n",
    "}"
   ]
  },
  {
   "cell_type": "code",
   "execution_count": null,
   "id": "0a8c6004",
   "metadata": {},
   "outputs": [],
   "source": [
    "response = requests.post(url, headers=headers, data=\"{}\")\n",
    "if int(response.status_code) != 200:\n",
    "    raise RuntimeError(f\"api request failed: {response.status_code}\")\n"
   ]
  },
  {
   "cell_type": "code",
   "execution_count": null,
   "id": "b7e45fd8",
   "metadata": {},
   "outputs": [],
   "source": [
    "api_text = json.loads(response.text)"
   ]
  },
  {
   "cell_type": "code",
   "execution_count": null,
   "id": "805d1bfc",
   "metadata": {},
   "outputs": [],
   "source": [
    "def get_api_cols(infos:List[Dict]):\n",
    "    result = list()\n",
    "    for info in infos:\n",
    "        result.append(info['name'])\n",
    "    return result"
   ]
  },
  {
   "cell_type": "code",
   "execution_count": null,
   "id": "c7b50fc5",
   "metadata": {},
   "outputs": [],
   "source": [
    "api_info = api_text['info']\n",
    "api_data = api_text['data']\n",
    "col_names = get_api_cols(api_info)"
   ]
  },
  {
   "cell_type": "code",
   "execution_count": null,
   "id": "bab3915a",
   "metadata": {},
   "outputs": [],
   "source": [
    "api_final_result = []\n",
    "for api_datum in api_data:\n",
    "    temp_dict = dict()\n",
    "    data = api_datum['row']\n",
    "    for col_name, datum in zip(col_names, data):\n",
    "        if col_name == 'event_id_description' and (datum is None or datum ==\"\"):\n",
    "            temp_dict = None\n",
    "            break\n",
    "        elif col_name =='variable':\n",
    "            datum = datum['titleTextPolite']\n",
    "        else:\n",
    "            temp_dict[col_name] = datum\n",
    "    if temp_dict is not None:\n",
    "        temp_dict['dt'] = current_dt_next\n",
    "        api_final_result.append(temp_dict)"
   ]
  },
  {
   "cell_type": "code",
   "execution_count": null,
   "id": "7dd0e3f6",
   "metadata": {},
   "outputs": [],
   "source": [
    "api_data = pd.DataFrame(api_final_result)"
   ]
  },
  {
   "cell_type": "code",
   "execution_count": null,
   "id": "a155537b",
   "metadata": {},
   "outputs": [],
   "source": [
    "table_nm = 'nudge_offering_api_table'"
   ]
  },
  {
   "cell_type": "code",
   "execution_count": null,
   "id": "4bebe82e",
   "metadata": {},
   "outputs": [],
   "source": [
    "table_exists = bq_table_exists(table=f'{db_name}.{table_nm}', project_id=project_id)"
   ]
  },
  {
   "cell_type": "code",
   "execution_count": null,
   "id": "a2613733",
   "metadata": {},
   "outputs": [],
   "source": [
    "if not table_exists:\n",
    "    bq_client.query(f\"\"\"\n",
    "        CREATE TABLE IF NOT EXISTS {db_name}.{table_nm}(\n",
    "            product STRING,\n",
    "            scenario_id STRING,\n",
    "            nudge_id STRING,\n",
    "            event_id,\n",
    "            event_id_description,\n",
    "            variable,\n",
    "            nudge_title,\n",
    "            nudge_description,\n",
    "            mandatory_yn\n",
    "            dt Date\n",
    "        )\n",
    "    \"\"\").result()\n",
    "    print(f\"생성된 테이블 : {db_name}.{table_nm}\")\n",
    "\n",
    "else:\n",
    "    table_ref = bq_client.dataset(db_name).table(table_nm)\n",
    "    table = bq_client.get_table(table_ref)\n",
    "\n",
    "    # Get the schema\n",
    "    schema = table.schema\n",
    "\n",
    "    #Extract column names\n",
    "    column_names = [field.name for field in schema]\n",
    "\n",
    "    new_columns = []\n",
    "    for col_nm in col_names:\n",
    "        if col_nm not in column_names:\n",
    "            new_columns.append(col_nm)\n",
    "    \n",
    "    if new_columns:\n",
    "        raise TypeError(f\"new column:{new_columns} added from api\")"
   ]
  },
  {
   "cell_type": "code",
   "execution_count": null,
   "id": "0dfac4fd",
   "metadata": {},
   "outputs": [],
   "source": [
    "pandas_to_bq(pd_df=api_data, destination=f'{project_id}.{db_name}.{table_nm}')"
   ]
  }
 ],
 "metadata": {
  "kernelspec": {
   "display_name": "Python 3 (ipykernel)",
   "language": "python",
   "name": "python3"
  },
  "language_info": {
   "codemirror_mode": {
    "name": "ipython",
    "version": 3
   },
   "file_extension": ".py",
   "mimetype": "text/x-python",
   "name": "python",
   "nbconvert_exporter": "python",
   "pygments_lexer": "ipython3",
   "version": "3.8.19"
  }
 },
 "nbformat": 4,
 "nbformat_minor": 5
}
