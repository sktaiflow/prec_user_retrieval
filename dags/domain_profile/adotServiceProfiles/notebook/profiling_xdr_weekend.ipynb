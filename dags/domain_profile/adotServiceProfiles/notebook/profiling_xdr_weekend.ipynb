{
 "cells": [
  {
   "cell_type": "code",
   "execution_count": null,
   "id": "b083b584",
   "metadata": {},
   "outputs": [],
   "source": [
    "from skt.gcp import (\n",
    "    PROJECT_ID,\n",
    "    bq_insert_overwrite,\n",
    "    bq_to_df,\n",
    "    bq_to_pandas,\n",
    "    get_bigquery_client,\n",
    "    bq_table_exists,\n",
    "    get_max_part,\n",
    "    load_query_result_to_table,\n",
    "    pandas_to_bq,\n",
    "    pandas_to_bq_table,\n",
    "    load_bigquery_ipython_magic,\n",
    "    get_bigquery_client,\n",
    "    _print_query_job_results,\n",
    "    load_query_result_to_partitions,\n",
    "    df_to_bq_table\n",
    "    \n",
    ")\n",
    "\n",
    "from skt.ye import (\n",
    "    get_hdfs_conn,\n",
    "    get_spark,\n",
    "    hive_execute,\n",
    "    hive_to_pandas,\n",
    "    pandas_to_parquet,\n",
    "    slack_send,\n",
    "    get_secrets\n",
    ")"
   ]
  },
  {
   "cell_type": "code",
   "execution_count": null,
   "id": "05b8b9c2",
   "metadata": {},
   "outputs": [],
   "source": [
    "from pyspark.sql.functions import *\n",
    "from pyspark.sql.window import Window\n",
    "from pyspark.sql.functions import (\n",
    "    row_number, \n",
    "    col, \n",
    "    lit, \n",
    "    count, \n",
    "    log, \n",
    "    exp, \n",
    "    sum as spark_sum\n",
    ")\n",
    "from pyspark.sql import functions as F\n",
    "from pyspark.sql.types import DoubleType, DateType"
   ]
  },
  {
   "cell_type": "code",
   "execution_count": null,
   "id": "9e3e6f73",
   "metadata": {},
   "outputs": [],
   "source": [
    "import pandas as pd\n",
    "import json\n",
    "from datetime import datetime, date, timedelta"
   ]
  },
  {
   "cell_type": "code",
   "execution_count": null,
   "id": "5ccf6ccb",
   "metadata": {},
   "outputs": [],
   "source": [
    "from google.cloud.bigquery.job import QueryJobConfig"
   ]
  },
  {
   "cell_type": "code",
   "execution_count": null,
   "id": "149aaa4c",
   "metadata": {},
   "outputs": [],
   "source": [
    "print(f'current_dt: {current_dt}')\n",
    "print(f'state: {state}')\n",
    "print(f'log_duration: {log_duration}')\n"
   ]
  },
  {
   "cell_type": "code",
   "execution_count": null,
   "id": "dc30fdcb",
   "metadata": {},
   "outputs": [],
   "source": [
    "execution_dt = datetime.strptime(current_dt, '%Y-%m-%d')\n",
    "execution_dt_one_ago = (execution_dt - timedelta(days=1)).strftime('%Y-%m-%d')\n",
    "log_duration = int(log_duration) - 1\n",
    "short_duration = 6\n"
   ]
  },
  {
   "cell_type": "code",
   "execution_count": null,
   "id": "8f3a62b6",
   "metadata": {},
   "outputs": [],
   "source": [
    "long_start_dt = (execution_dt - timedelta(days=log_duration)).strftime(\"%Y-%m-%d\")\n",
    "short_start_dt = (execution_dt - timedelta(days=short_duration)).strftime(\"%Y-%m-%d\")\n",
    "\n",
    "print(\"long_start_dt : \", long_start_dt)\n",
    "print(\"short_start_dt : \", short_start_dt)"
   ]
  },
  {
   "cell_type": "code",
   "execution_count": null,
   "id": "7c96097c",
   "metadata": {},
   "outputs": [],
   "source": [
    "PROJECT_ID = \"skt-datahub\"\n",
    "db_name = \"adot_reco_dev\"\n",
    "input_table_name = \"xdr_cat1_cnt\""
   ]
  },
  {
   "cell_type": "markdown",
   "id": "ff9feea3",
   "metadata": {},
   "source": [
    "# 운영성 "
   ]
  },
  {
   "cell_type": "code",
   "execution_count": null,
   "id": "7689ff5b",
   "metadata": {},
   "outputs": [],
   "source": [
    "cat2_set = {\n",
    "            \"information\":\"정보\", \n",
    "            \"life\":\"생활\", \n",
    "            \"location\":\"위치/이동\", \n",
    "            \"game\":\"게임\", \n",
    "            \"shopping\":\"쇼핑\",\n",
    "            \"communication\":\"커뮤니케이션\", \n",
    "            \"finance\":\"금융\", \n",
    "            \"utility\":\"유틸리티\", \n",
    "            \"entertainment\": \"엔터테인먼트\",\n",
    "            \"education\":\"교육\", \n",
    "            \"business\":\"회사/사업\", \n",
    "            \"leisure\":\"스포츠/레져/여행\"\n",
    "        }"
   ]
  },
  {
   "cell_type": "code",
   "execution_count": null,
   "id": "b0b29c31",
   "metadata": {},
   "outputs": [],
   "source": [
    "cat1_set = {\n",
    "    \"references\": \"지식/위키\",\n",
    "    \"fashion_beauty\": \"스타일/패션/뷰티\",\n",
    "    \"art_design\": \"디자인\",\n",
    "    \"location_etc\": \"location_etc\",\n",
    "    \"action\": \"액션게임\",\n",
    "    \"openmarket\": \"온라인 쇼핑몰\",\n",
    "    \"voip\": \"화상 채팅/회의\",\n",
    "    \"stock\": \"주식투자\",\n",
    "    \"blog\": \"블로그\",\n",
    "    \"casual\": \"캐주얼 게임\",\n",
    "    \"bank_card\": \"은행\",\n",
    "    \"webservice\": \"웹서비스\",\n",
    "    \"information_etc\": \"기타 정보 커뮤니티\",\n",
    "    \"payment\": \"결제\",\n",
    "    \"entertainment_etc\": \"entertainment_etc\",\n",
    "    \"cartoon\": \"만화\",\n",
    "    \"sns\": \"소셜미디어/SNS\",\n",
    "    \"religion\": \"종교\",\n",
    "    \"carlife\": \"자동차/중고차/렌트\",\n",
    "    \"government\": \"정부운영\",\n",
    "    \"job\": \"구직\",\n",
    "    \"weather\": \"날씨/미세먼지\",\n",
    "    \"sktservice\": \"SKT서비스\",\n",
    "    \"strategy\": \"전략게임\",\n",
    "    \"sharing\": \"공유 전기 자전거/킥보드\",\n",
    "    \"operation/management\": \"출퇴근 관리\",\n",
    "    \"itshopping\": \"IT/ 전자기기 쇼핑몰\",\n",
    "    \"puzzle_quiz\": \"퍼즐/퀴즈 게임\",\n",
    "    \"messenger\": \"메신저\",\n",
    "    \"travel\": \"여행\",\n",
    "    \"mall_mart_dfs\": \"대형 쇼핑몰 앱\",\n",
    "    \"b2b_solution\": \"전자상거래 비즈니스/마케팅 제휴\",\n",
    "    \"life_etc\": \"life_etc\",\n",
    "    \"lifestyle\": \"라이프스타일\",\n",
    "    \"simulation\": \"시뮬레이션 게임\",\n",
    "    \"food\": \"맛집/음식점, 배달\",\n",
    "    \"hotel\": \"호텔/숙박\",\n",
    "    \"rhythmgame\": \"리듬게임\",\n",
    "    \"move/interior\": \"이사 및 인테리어\",\n",
    "    \"education_info\": \"학생/아이 케어 및 관리\",\n",
    "    \"delivery_cargo\": \"물류/택배\",\n",
    "    \"productivity_tools\": \"공유 협업\",\n",
    "    \"mnd\": \"군인\",\n",
    "    \"ride_request\": \"공유차(택시앱)\",\n",
    "    \"vr/ar\": \"vr/ar\",\n",
    "    \"leisure\": \"취미 활동\",\n",
    "    \"dating\": \"데이팅\",\n",
    "    \"assetmanagement\": \"자산 관리/투자\",\n",
    "    \"racing\": \"레이싱게임\",\n",
    "    \"communication_etc\": \"communication_etc\",\n",
    "    \"telco\": \"통신사\",\n",
    "    \"cloudgaming\": \"클라우드 게임\",\n",
    "    \"portal\": \"포탈앱\",\n",
    "    \"business_etc\": \"회사 관련\",\n",
    "    \"email\": \"메일\",\n",
    "    \"aiservice\": \"AI서비스\",\n",
    "    \"overseas direct purchase\": \"해외직구\",\n",
    "    \"used\": \"중고거래\",\n",
    "    \"movie\": \"영화관\",\n",
    "    \"news\": \"온라인 뉴스\",\n",
    "    \"coupons_discounts\": \"쿠폰/포인트앱\",\n",
    "    \"video_broadcasting\": \"라이브 방송 플랫폼\",\n",
    "    \"sportsgame\": \"스포츠게임\",\n",
    "    \"book\": \"온라인 서점/e 북\",\n",
    "    \"socialcommerce\": \"소셜커머스\",\n",
    "    \"culture and arts\": \"문화예술\",\n",
    "    \"board\": \"보드게임\",\n",
    "    \"transport\": \"운송(공유차/비행기/버스)\",\n",
    "    \"smartdevice\": \"홈 IOT\",\n",
    "    \"map_navigation\": \"지도/네비\",\n",
    "    \"game_etc\": \"game_etc\",\n",
    "    \"homeshopping\": \"홈쇼핑\",\n",
    "    \"p2p_webhard\": \"P2P_Webhard\",\n",
    "    \"photo\": \"사진\",\n",
    "    \"shopping_etc\": \"Shopping_etc\",\n",
    "    \"security\": \"보안\",\n",
    "    \"pcs\": \"PC 쇼핑몰\",\n",
    "    \"english\": \"영어교육\",\n",
    "    \"fresh_delivery\": \"신선 식품/식재료 전문 스토어\",\n",
    "    \"finance_etc\": \"finance_etc\",\n",
    "    \"utility_etc\": \"utility_etc\",\n",
    "    \"radio\": \"라디오\",\n",
    "    \"music\": \"음악\",\n",
    "    \"education_etc\": \"education_etc\",\n",
    "    \"insurance\": \"보험\",\n",
    "    \"roleplaying\": \"롤플레잉게임\",\n",
    "    \"kids\": \"유아/아기\",\n",
    "    \"school\": \"대학교 홈페이지\",\n",
    "    \"onlinepayment\": \"온라인 결제\",\n",
    "    \"health\": \"헬스/비대면진료\",\n",
    "    \"svod\": \"영상 OTT\",\n",
    "    \"card\": \"카드게임\",\n",
    "    \"companion animal\": \"동물 캠페인\",\n",
    "    \"realestates\": \"부동산\",\n",
    "    \"cryptocurrency\": \"암호화폐\",\n",
    "    \"sports\": \"스포츠\",\n",
    "    \"adult\": \"성인관련\",\n",
    "    \"humor\": \"유머/코믹\"\n",
    "}\n",
    "\n"
   ]
  },
  {
   "cell_type": "code",
   "execution_count": null,
   "id": "c86216fe",
   "metadata": {},
   "outputs": [],
   "source": [
    "xdr_valid_cat_list = {\n",
    "    \"business\": [],\n",
    "    \"communication\": [\"community\", \"sns\", \"dating\"],\n",
    "    \"education\":[\"education_info\"],\n",
    "    \"entertainment\": [\"movie, svod\", \"music\", \"bideo_broadcasting\", \"radio\"],\n",
    "    \"finance\": [\"stock\", \"cryptoCurrency\", \"assetmanagement\"],\n",
    "    \"game\": \"all\",\n",
    "    \"information\": [\"news\", \"blog\"],\n",
    "    \"leisure\": [\"travel\", \"leisure\", \"sports\", \"travel\", \"hotel\"],\n",
    "    \"location\": [\"map_navigation\", \"ride_request\", \"transport\", \"kids\"],\n",
    "    \"shopping\": [\"fresh_delivery\", \"overseas direct purchase\", \"itshopping\", \"openmarket\", \"homeshopping\", \"used\", \"socialcommerce\"],\n",
    "    \"life\":[\"weather\", \"food\", \"kids\", \"health\", \"carlife\", \"fashion_beauty\"],\n",
    "    \"utility\": [\"sktservice\"],\n",
    "}"
   ]
  },
  {
   "cell_type": "code",
   "execution_count": null,
   "id": "6e8600be",
   "metadata": {},
   "outputs": [],
   "source": [
    "xdr_where_clauses = []\n",
    "for key, vals in xdr_valid_cat_list.items():\n",
    "    if isinstance(vals, str):\n",
    "        if vals == \"all\":\n",
    "            xdr_where_clauses.append(\n",
    "                f\"TRIM(LOWER(cat2)) = '{key.lower()}'\"\n",
    "            )\n",
    "            xdr_where_clauses.append(\"OR\")\n",
    "        else:\n",
    "            continue\n",
    "    elif isinstance(vals, list):\n",
    "        if vals:\n",
    "            item_list_str = ', '.join(f'\"{item.lower()}\"' for item in vals)\n",
    "            xdr_where_clauses.append(\n",
    "                f\"(TRIM(LOWER(cat2)) = '{key.lower()}' AND TRIM(LOWER(cat1)) in ({item_list_str}))\"\n",
    "            )\n",
    "            xdr_where_clauses.append(\"OR\")\n",
    "    else:\n",
    "        raise TypeError(f'should be list | str type')\n",
    "    \n",
    "xdr_where_clause = ' '.join(xdr_where_clauses[:-1])\n",
    " "
   ]
  },
  {
   "cell_type": "code",
   "execution_count": null,
   "id": "c6db049f",
   "metadata": {},
   "outputs": [],
   "source": [
    "js_cat1_set = json.dumps(cat1_set, ensure_ascii=False)\n",
    "js_cat2_set = json.dumps(cat2_set, ensure_ascii=False)"
   ]
  },
  {
   "cell_type": "code",
   "execution_count": null,
   "id": "d29273fd",
   "metadata": {},
   "outputs": [],
   "source": [
    "def calculate_days(start_date, end_date):\n",
    "    date_range = pd.date_range(start=start_date, end=end_date)\n",
    "    total_days = len(date_range)\n",
    "    weekend_days = date_range.to_series().map(lambda x: x.weekday() >= 5).sum()\n",
    "    weekday_days = total_days - weekend_days\n",
    "    return total_days, int(weekend_days), int(weekday_days)"
   ]
  },
  {
   "cell_type": "markdown",
   "id": "363b08fe-586b-4b37-9a98-dbee9c39d641",
   "metadata": {},
   "source": [
    "## **One Model Profile 생성 작업**"
   ]
  },
  {
   "cell_type": "markdown",
   "id": "6e8bbfe0-3d1d-41ea-b97d-3394ad548dcf",
   "metadata": {
    "execution": {
     "iopub.execute_input": "2024-06-03T23:07:29.647241Z",
     "iopub.status.busy": "2024-06-03T23:07:29.646408Z",
     "iopub.status.idle": "2024-06-03T23:07:29.655344Z",
     "shell.execute_reply": "2024-06-03T23:07:29.654108Z",
     "shell.execute_reply.started": "2024-06-03T23:07:29.647184Z"
    },
    "tags": []
   },
   "source": [
    "- 개요\n",
    "    - One Model Profile 생성 작업\n",
    "- 내용\n",
    "    - item, cat1, cat2 level로 프로파일링 작업 수행\n",
    "    - 단기 preference 정보\n",
    "        - 7일 내 item 정보를 통해서 생성\n",
    "        - 이때, item은 정규화 로직을 통해 추출된 단어 기반으로 최종 단어들은 추출\n",
    "    - 장기 preference 정보\n",
    "        - 60일 내 cat1, cat2 정보를 통해서 생성\n",
    "        - cat2가 더 상위 레벨임. 어떤 레벨로 장기 구성할지 선택 필요- 내용- 내용"
   ]
  },
  {
   "cell_type": "code",
   "execution_count": 12,
   "id": "06cd646c-2f36-4318-984f-0ecec4225bff",
   "metadata": {
    "execution": {
     "iopub.execute_input": "2024-06-27T08:13:29.758831Z",
     "iopub.status.busy": "2024-06-27T08:13:29.758214Z",
     "iopub.status.idle": "2024-06-27T08:13:29.766202Z",
     "shell.execute_reply": "2024-06-27T08:13:29.765185Z",
     "shell.execute_reply.started": "2024-06-27T08:13:29.758777Z"
    },
    "tags": []
   },
   "outputs": [],
   "source": [
    "total_days, weekend_days, weekday_days = calculate_days(long_start_dt, current_dt)\n",
    "log_format = f\"\"\"\n",
    "    total_days: {total_days},\n",
    "    weekend_days: {weekend_days},\n",
    "    weekday_days: {weekday_days}\n",
    "\"\"\"\n",
    "print(log_format)"
   ]
  },
  {
   "cell_type": "code",
   "execution_count": null,
   "id": "8b9847b2",
   "metadata": {},
   "outputs": [],
   "source": [
    "query = f\"\"\"\n",
    "CREATE TEMP FUNCTION xdr_cat2_to_text(xdr_cat2 STRING)\n",
    "RETURNS STRING\n",
    "LANGUAGE js AS '''\n",
    "  var cat2_set = {js_cat2_set};\n",
    "  \n",
    "  return (xdr_cat2 in cat2_set) ? cat2_set[xdr_cat2] : '기타';\n",
    "''';\n",
    "\n",
    "CREATE TEMP FUNCTION xdr_cat1_to_text(xdr_cat1 STRING, xdr_cat2 STRING)\n",
    "RETURNS STRING\n",
    "LANGUAGE js AS '''\n",
    "  var cat1_set = {js_cat1_set};\n",
    "  \n",
    "  if (xdr_cat1 in cat1_set) {{\n",
    "    if (xdr_cat1 === \"community\") {{\n",
    "      if (xdr_cat2 === \"회사/사업\") {{\n",
    "        return '커뮤니티/게시판';\n",
    "      }} else {{\n",
    "        return '대학교 관련 정보';\n",
    "      }}\n",
    "    }} else {{\n",
    "      return cat1_set[xdr_cat1];\n",
    "    }}\n",
    "  }} else {{\n",
    "    return \"기타\";\n",
    "  }}\n",
    "''';\n",
    "\n",
    "\n",
    "WITH data_sum AS (\n",
    "  SELECT\n",
    "    svc_mgmt_num,\n",
    "    luna_id,\n",
    "    cat1,\n",
    "    SUM(cat1_cnt) AS cat1_cnt_sum\n",
    "  FROM adot_reco_dev.xdr_cat1_cnt\n",
    "  WHERE dt >= '{long_start_dt}'\n",
    "  AND ( {xdr_where_clause} )\n",
    "  AND is_weekend = 1\n",
    "  GROUP BY svc_mgmt_num, luna_id, cat1\n",
    "),\n",
    "count_by_group AS (\n",
    "  SELECT\n",
    "    cat1,\n",
    "    COUNT(*) AS count\n",
    "  FROM data_sum\n",
    "  GROUP BY cat1\n",
    "),\n",
    "df_with_count AS (\n",
    "  SELECT\n",
    "    a.*,\n",
    "    b.count\n",
    "  FROM data_sum a\n",
    "  LEFT JOIN count_by_group b\n",
    "  ON a.cat1 = b.cat1\n",
    "),\n",
    "\n",
    "df_with_cumsum AS (\n",
    "  SELECT\n",
    "    *,\n",
    "    SUM(1) OVER (PARTITION BY cat1 ORDER BY cat1_cnt_sum ROWS BETWEEN UNBOUNDED PRECEDING AND CURRENT ROW) AS cum_sum\n",
    "  FROM df_with_count\n",
    "),\n",
    "\n",
    "df_with_ecdf AS (\n",
    "  SELECT\n",
    "    svc_mgmt_num,\n",
    "    luna_id,\n",
    "    cat1,\n",
    "    cat1_cnt_sum,\n",
    "    cum_sum / count AS ecdf\n",
    "  FROM df_with_cumsum\n",
    "),\n",
    "\n",
    "data_dt_cnt AS (\n",
    "  SELECT\n",
    "    luna_id,\n",
    "    cat1,\n",
    "    COUNT(DISTINCT dt) AS luna_cat1_cnt\n",
    "  FROM adot_reco_dev.xdr_cat1_cnt\n",
    "  WHERE dt >= '{long_start_dt}'\n",
    "  AND ( {xdr_where_clause} )\n",
    "  AND is_weekend = 1\n",
    "  GROUP BY luna_id, cat1\n",
    "),\n",
    "\n",
    "data_dt_cnt_with_weights AS (\n",
    "  SELECT\n",
    "    *,\n",
    "    1 / LOG(60 / luna_cat1_cnt + 1.0e-8) AS df_weight,\n",
    "    1.0 / (1.0 + EXP(-1 / LOG(60 / luna_cat1_cnt + 1.0e-8))) AS rev_df_weight\n",
    "  FROM data_dt_cnt\n",
    "),\n",
    "\n",
    "merge_data AS (\n",
    "  SELECT\n",
    "    a.luna_id,\n",
    "    a.cat1,\n",
    "    a.ecdf,\n",
    "    b.rev_df_weight,\n",
    "    a.ecdf * 0.6 + b.rev_df_weight * 0.4 AS score\n",
    "  FROM df_with_ecdf a\n",
    "  LEFT JOIN data_dt_cnt_with_weights b\n",
    "  ON a.luna_id = b.luna_id AND a.cat1 = b.cat1\n",
    "),\n",
    "\n",
    "data_cat1_distinct AS (\n",
    "  SELECT DISTINCT\n",
    "    cat1,\n",
    "    cat2\n",
    " FROM adot_reco_dev.xdr_cat1_cnt\n",
    "  WHERE dt >= '{long_start_dt}'\n",
    "  AND ( {xdr_where_clause} )\n",
    "  AND is_weekend = 1\n",
    "),\n",
    "\n",
    "merge_data_with_cat2 AS (\n",
    "  SELECT\n",
    "    a.*,\n",
    "    b.cat2\n",
    "  FROM merge_data a\n",
    "  LEFT JOIN data_cat1_distinct b\n",
    "  ON a.cat1 = b.cat1\n",
    "),\n",
    "\n",
    "ranked_data AS (\n",
    "  SELECT\n",
    "    *,\n",
    "    ROW_NUMBER() OVER (PARTITION BY luna_id ORDER BY score DESC) AS rank\n",
    "  FROM merge_data_with_cat2\n",
    "),\n",
    "\n",
    "filtered_data AS (\n",
    "  SELECT\n",
    "    luna_id,\n",
    "    STRING_AGG(DISTINCT xdr_cat1_to_text(cat1, cat2)) AS cat1_profiles,\n",
    "    STRING_AGG(DISTINCT xdr_cat2_to_text(cat2)) AS cat2_profiles\n",
    "  FROM ranked_data\n",
    "  WHERE rank <= 10 AND score >= 0.5\n",
    "  GROUP BY luna_id\n",
    ")\n",
    "\n",
    "SELECT  luna_id,\n",
    "        cat1_profiles,\n",
    "        cat2_profiles,\n",
    "        \"xdr\" as source_domain,\n",
    "        PARSE_DATE('%Y-%m-%d', '{current_dt}') as dt \n",
    "\n",
    "FROM filtered_data\n",
    "\"\"\""
   ]
  },
  {
   "cell_type": "code",
   "execution_count": null,
   "id": "f37f0c3c",
   "metadata": {},
   "outputs": [],
   "source": [
    "temp_table = f'{PROJECT_ID}.temp_1d.xdr_temp'\n",
    "job_config = QueryJobConfig()\n",
    "job_config.destination = temp_table\n",
    "job_config.write_disposition = 'WRITE_TRUNCATE'"
   ]
  },
  {
   "cell_type": "code",
   "execution_count": null,
   "id": "44dae888",
   "metadata": {},
   "outputs": [],
   "source": [
    "bq_client = get_bigquery_client()"
   ]
  },
  {
   "cell_type": "code",
   "execution_count": null,
   "id": "9a754189",
   "metadata": {},
   "outputs": [],
   "source": [
    "# 절대 비교 프로파일 추출 로직\n",
    "query_job = bq_client.query(query, job_config=job_config)\n",
    "query_job.result() "
   ]
  },
  {
   "cell_type": "markdown",
   "id": "33871770",
   "metadata": {},
   "source": [
    "# Profile template 저장"
   ]
  },
  {
   "cell_type": "code",
   "execution_count": null,
   "id": "252188fd",
   "metadata": {},
   "outputs": [],
   "source": [
    "query = f\"\"\"\n",
    "SELECT  *\n",
    "FROM {temp_table}\n",
    "\"\"\""
   ]
  },
  {
   "cell_type": "code",
   "execution_count": null,
   "id": "d9623838",
   "metadata": {},
   "outputs": [],
   "source": [
    "partitioned_dest_table = \"adotServiceProfile_xdr_weekend\""
   ]
  },
  {
   "cell_type": "code",
   "execution_count": null,
   "id": "7f2399cd",
   "metadata": {},
   "outputs": [],
   "source": [
    "bq_insert_overwrite(sql=query, destination=f'{PROJECT_ID}.{db_name}.{partitioned_dest_table}', partition='dt')"
   ]
  },
  {
   "cell_type": "markdown",
   "id": "fdf5d44e",
   "metadata": {},
   "source": [
    "# Template 입히기"
   ]
  },
  {
   "cell_type": "code",
   "execution_count": null,
   "id": "36fe2db0-3bbc-49cb-8e05-622efbac792e",
   "metadata": {
    "execution": {
     "iopub.execute_input": "2024-06-28T00:15:43.723104Z",
     "iopub.status.busy": "2024-06-28T00:15:43.722031Z",
     "iopub.status.idle": "2024-06-28T00:15:47.332382Z",
     "shell.execute_reply": "2024-06-28T00:15:47.331203Z",
     "shell.execute_reply.started": "2024-06-28T00:15:43.723040Z"
    },
    "tags": []
   },
   "outputs": [
    {
     "ename": "",
     "evalue": "",
     "output_type": "error",
     "traceback": [
      "\u001b[1;31m'Python 3.9.6'(으)로 셀을 실행하려면 ipykernel 패키지가 필요합니다.\n",
      "\u001b[1;31m다음 명령어를 실행하여 Python 환경에 'ipykernel'을(를) 설치합니다. \n",
      "\u001b[1;31m 명령: '/usr/bin/python3 -m pip install ipykernel -U --user --force-reinstall'"
     ]
    }
   ],
   "source": [
    "template_query = f\"\"\"\n",
    "    SELECT * \n",
    "    FROM adot_reco_dev.profile_template\n",
    "    WHERE source_domain = 'xdr'\n",
    "\"\"\""
   ]
  },
  {
   "cell_type": "code",
   "execution_count": null,
   "id": "b78396a2",
   "metadata": {},
   "outputs": [],
   "source": [
    "template_df = bq_to_pandas(template_query)"
   ]
  },
  {
   "cell_type": "code",
   "execution_count": null,
   "id": "de23972b",
   "metadata": {},
   "outputs": [],
   "source": [
    "xdr_template = template_df.template.values[0]"
   ]
  },
  {
   "cell_type": "code",
   "execution_count": null,
   "id": "9f57f7e1",
   "metadata": {},
   "outputs": [
    {
     "ename": "",
     "evalue": "",
     "output_type": "error",
     "traceback": [
      "\u001b[1;31m'Python 3.9.6'(으)로 셀을 실행하려면 ipykernel 패키지가 필요합니다.\n",
      "\u001b[1;31m다음 명령어를 실행하여 Python 환경에 'ipykernel'을(를) 설치합니다. \n",
      "\u001b[1;31m 명령: '/usr/bin/python3 -m pip install ipykernel -U --user --force-reinstall'"
     ]
    }
   ],
   "source": [
    "query = f\"\"\"\n",
    "    SELECT  luna_id,\n",
    "            CASE \n",
    "                WHEN cat1_profiles='' THEN \"\"\n",
    "                ELSE  REGEXP_REPLACE(\n",
    "                      '{xdr_template}',\n",
    "                        r'\\\\{{cat1_profile\\\\}}',\n",
    "                        cat1_profiles\n",
    "                      )\n",
    "            END AS profile_templates,\n",
    "            \"xdr\" as source_domain,\n",
    "            PARSE_DATE('%Y-%m-%d', '{current_dt}') as dt           \n",
    "    \n",
    "    FROM {temp_table}\n",
    "\"\"\""
   ]
  },
  {
   "cell_type": "markdown",
   "id": "1c246162-6f43-4f53-a288-9a8137fca784",
   "metadata": {},
   "source": [
    "### Template 입힌 테이블 저장"
   ]
  },
  {
   "cell_type": "code",
   "execution_count": 26,
   "id": "bb1b5e4f-4313-494f-8759-0b94aeeb4bc6",
   "metadata": {
    "execution": {
     "iopub.execute_input": "2024-06-27T08:18:24.802763Z",
     "iopub.status.busy": "2024-06-27T08:18:24.801318Z",
     "iopub.status.idle": "2024-06-27T08:18:24.808269Z",
     "shell.execute_reply": "2024-06-27T08:18:24.806940Z",
     "shell.execute_reply.started": "2024-06-27T08:18:24.802687Z"
    },
    "tags": []
   },
   "outputs": [],
   "source": [
    "PROJECT_ID = \"skt-datahub\"\n",
    "db_name = \"adot_reco_dev\"\n",
    "partitioned_dest_table = \"adotServiceProfile_templated_xdr_weekend\""
   ]
  },
  {
   "cell_type": "code",
   "execution_count": null,
   "id": "b39a175f",
   "metadata": {},
   "outputs": [],
   "source": [
    "bq_insert_overwrite(sql=query, destination=f'{PROJECT_ID}.{db_name}.{partitioned_dest_table}', partition='dt')"
   ]
  },
  {
   "cell_type": "code",
   "execution_count": null,
   "id": "078290b3",
   "metadata": {},
   "outputs": [],
   "source": [
    "bq_client.query(f\"drop table if exists {temp_table}\")"
   ]
  }
 ],
 "metadata": {
  "kernelspec": {
   "display_name": "Python 3 (ipykernel)",
   "language": "python",
   "name": "python3"
  },
  "language_info": {
   "codemirror_mode": {
    "name": "ipython",
    "version": 3
   },
   "file_extension": ".py",
   "mimetype": "text/x-python",
   "name": "python",
   "nbconvert_exporter": "python",
   "pygments_lexer": "ipython3",
   "version": "3.9.6"
  }
 },
 "nbformat": 4,
 "nbformat_minor": 5
}
