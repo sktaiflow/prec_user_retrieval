{
 "cells": [
  {
   "cell_type": "code",
   "execution_count": null,
   "id": "b083b584",
   "metadata": {},
   "outputs": [],
   "source": [
    "from skt.gcp import (\n",
    "    PROJECT_ID,\n",
    "    bq_insert_overwrite,\n",
    "    bq_to_df,\n",
    "    bq_to_pandas,\n",
    "    get_bigquery_client,\n",
    "    bq_table_exists,\n",
    "    get_max_part,\n",
    "    load_query_result_to_table,\n",
    "    pandas_to_bq,\n",
    "    pandas_to_bq_table,\n",
    "    load_bigquery_ipython_magic,\n",
    "    get_bigquery_client,\n",
    "    _print_query_job_results,\n",
    "    load_query_result_to_partitions\n",
    "    \n",
    ")\n",
    "\n",
    "from skt.ye import (\n",
    "    get_hdfs_conn,\n",
    "    get_spark,\n",
    "    hive_execute,\n",
    "    hive_to_pandas,\n",
    "    pandas_to_parquet,\n",
    "    slack_send,\n",
    "    get_secrets\n",
    ")"
   ]
  },
  {
   "cell_type": "code",
   "execution_count": null,
   "id": "05b8b9c2",
   "metadata": {},
   "outputs": [],
   "source": [
    "from pyspark.sql.functions import *\n",
    "from pyspark.sql.window import Window\n",
    "from pyspark.sql.functions import (\n",
    "    row_number, \n",
    "    col, \n",
    "    lit, \n",
    "    count, \n",
    "    log, \n",
    "    exp, \n",
    "    sum as spark_sum\n",
    ")\n",
    "from pyspark.sql import functions as F\n",
    "from pyspark.sql.types import DoubleType"
   ]
  },
  {
   "cell_type": "code",
   "execution_count": null,
   "id": "a194fa48",
   "metadata": {},
   "outputs": [],
   "source": [
    "from google.cloud.bigquery.job import QueryJobConfig"
   ]
  },
  {
   "cell_type": "code",
   "execution_count": null,
   "id": "9e3e6f73",
   "metadata": {},
   "outputs": [],
   "source": [
    "import pandas as pd\n",
    "from datetime import datetime, date, timedelta"
   ]
  },
  {
   "cell_type": "code",
   "execution_count": null,
   "id": "149aaa4c",
   "metadata": {},
   "outputs": [],
   "source": [
    "print(f'current_dt: {current_dt}')\n",
    "print(f'state: {state}')\n",
    "print(f'log_duration: {log_duration}')"
   ]
  },
  {
   "cell_type": "code",
   "execution_count": null,
   "id": "b45f01ea",
   "metadata": {},
   "outputs": [],
   "source": [
    "# 최신날짜 계산\n",
    "execution_dt = datetime.strptime(current_dt, '%Y-%m-%d')\n",
    "execution_dt_one_ago = (execution_dt - timedelta(days=1))\n",
    "lag_current_dt= execution_dt_one_ago.strftime('%Y-%m-%d')\n",
    "print(f'execution_dt: {lag_current_dt}')"
   ]
  },
  {
   "cell_type": "code",
   "execution_count": null,
   "id": "dc30fdcb",
   "metadata": {},
   "outputs": [],
   "source": [
    "log_duration = int(log_duration) - 1\n",
    "short_duration = 6"
   ]
  },
  {
   "cell_type": "code",
   "execution_count": null,
   "id": "2becc062",
   "metadata": {},
   "outputs": [],
   "source": [
    "end_dt = lag_current_dt\n",
    "start_dt = (execution_dt_one_ago - timedelta(days=log_duration)).strftime('%Y-%m-%d')\n",
    "print(\"long_start_dt : \", end_dt)\n",
    "print(\"short_start_dt : \", start_dt)"
   ]
  },
  {
   "cell_type": "code",
   "execution_count": null,
   "id": "595cab73",
   "metadata": {},
   "outputs": [],
   "source": [
    "db_name = 'adot_reco_dev'\n",
    "table_nm = 'tdeal_cat1_cnt'\n",
    "project_id = 'skt-datahub'"
   ]
  },
  {
   "cell_type": "code",
   "execution_count": null,
   "id": "4f5c08b6",
   "metadata": {},
   "outputs": [],
   "source": [
    "bq_client = get_bigquery_client()"
   ]
  },
  {
   "cell_type": "markdown",
   "id": "67b87b71",
   "metadata": {},
   "source": [
    "# 운영성"
   ]
  },
  {
   "cell_type": "code",
   "execution_count": null,
   "id": "76215d17",
   "metadata": {},
   "outputs": [],
   "source": [
    "tdeal_temp_cat_list = {\n",
    "    \"여행/티켓\": [],\n",
    "    \"건강식품\": [],\n",
    "    \"스포츠/레저\": [],\n",
    "    \"출산/육아\": [],\n",
    "    \"반려동물용품\": [],\n",
    "    \"화장품/미용\": [],\n",
    "    \"디지털/가전\": []\n",
    "}"
   ]
  },
  {
   "cell_type": "code",
   "execution_count": null,
   "id": "b1d198bc",
   "metadata": {},
   "outputs": [],
   "source": [
    "tdeal_where_clauses = []\n",
    "for key, vals in tdeal_temp_cat_list.items():\n",
    "    tdeal_where_clauses.append(\n",
    "        f\"TRIM(LOWER(cat2)) = '{key}'\"\n",
    "    )\n",
    "    tdeal_where_clauses.append(\"OR\")\n",
    "tdeal_where_clause = ' '.join(tdeal_where_clauses[:-1])"
   ]
  },
  {
   "cell_type": "code",
   "execution_count": null,
   "id": "bb35ffb2",
   "metadata": {},
   "outputs": [],
   "source": [
    "# 상대 비교 프로파일 추출 |로직\n",
    "cat1_query = f\"\"\"\n",
    "WITH params AS (\n",
    "  SELECT\n",
    "    {long_duration/2} AS longterm_decay_param, \n",
    "    {short_duration/2} AS shortterm_decay_param\n",
    "),\n",
    "\n",
    "BUY_TABLE AS (\n",
    "    SELECT distinct svc_mgmt_num, \n",
    "                    luna_id,\n",
    "                    cat2, \n",
    "                    cat1, \n",
    "                    cat3, \n",
    "                    is_weekend, \n",
    "                    dt\n",
    "    \n",
    "    FROM {db_name}.{table_nm}\n",
    "    WHERE dt <= '{lag_current_dt}' \n",
    "    AND dt >= '{start_dt}'\n",
    "    AND cat3='buy'\n",
    "    AND ( {tdeal_where_clause} )\n",
    "),\n",
    "\n",
    "USER_PURCHASE_TABLE AS (\n",
    "\n",
    "    SELECT  *\n",
    "           \n",
    "    FROM (\n",
    "        SELECT  svc_mgmt_num,\n",
    "                luna_id,\n",
    "                cat2,\n",
    "                cat1,\n",
    "                ARRAY_AGG(dt ORDER BY dt asc) as purchase_date\n",
    "        FROM BUY_TABLE\n",
    "        group by svc_mgmt_num, luna_id, cat1, cat2\n",
    "    )\n",
    "),\n",
    "unnested_purchases AS (\n",
    "  SELECT\n",
    "    svc_mgmt_num,\n",
    "    luna_id,\n",
    "    cat2,\n",
    "    cat1,\n",
    "    purchase_date\n",
    "    \n",
    "  FROM USER_PURCHASE_TABLE, UNNEST(purchase_date) AS purchase_date\n",
    "),\n",
    "\n",
    "purchase_metrics AS (\n",
    "    SELECT  svc_mgmt_num,\n",
    "            luna_id,\n",
    "            cat1,\n",
    "            cat2,\n",
    "            COUNT(*) AS frequency,\n",
    "            ARRAY_AGG(DATE_DIFF(PARSE_DATE('%Y-%m-%d', '{lag_current_dt}'), purchase_date, DAY) ORDER BY DATE_DIFF(PARSE_DATE('%Y-%m-%d', '{lag_current_dt}'), purchase_date, DAY) DESC) AS days_since_purchases\n",
    "           \n",
    "  FROM unnested_purchases\n",
    "  GROUP BY svc_mgmt_num, luna_id, cat1, cat2\n",
    "),\n",
    "\n",
    "interest_score AS (\n",
    "  SELECT\n",
    "    svc_mgmt_num,\n",
    "    luna_id,\n",
    "    cat1,\n",
    "    cat2,\n",
    "    frequency,\n",
    "    (\n",
    "      SELECT SUM(EXP(-1 * day / longterm_decay_param))  -- Exponential decay with 60-day half-life\n",
    "      FROM UNNEST(days_since_purchases) day\n",
    "    ) AS long_term_recency_score,\n",
    "    (\n",
    "      SELECT SUM(EXP(-1 * day / shortterm_decay_param))  \n",
    "      FROM UNNEST(days_since_purchases) day\n",
    "    ) AS short_term_recency_score,\n",
    "  FROM purchase_metrics, params\n",
    ")\n",
    "\n",
    "SELECT *\n",
    "FROM interest_score\n",
    "\"\"\""
   ]
  },
  {
   "cell_type": "code",
   "execution_count": null,
   "id": "1ef627b2",
   "metadata": {},
   "outputs": [],
   "source": [
    "job_config = QueryJobConfig()\n",
    "temp_table = f'{project_id}.adot_reco_dev.jh_tdeal_eda_temp'\n",
    "job_config.destination = temp_table\n",
    "job_config.write_disposition = 'WRITE_TRUNCATE'"
   ]
  },
  {
   "cell_type": "code",
   "execution_count": null,
   "id": "3a90c877",
   "metadata": {},
   "outputs": [],
   "source": [
    "# 절대 비교 프로파일 추출 로직\n",
    "query_job = bq_client.query(cat1_query, job_config=job_config)\n",
    "query_job.result() "
   ]
  },
  {
   "cell_type": "code",
   "execution_count": null,
   "id": "32446a03",
   "metadata": {},
   "outputs": [],
   "source": [
    "query = f\"\"\"\n",
    "SELECT  cat1,\n",
    "        cat2,\n",
    "        APPROX_QUANTILES(long_term_recency_score, 4) as long_percentile_list,\n",
    "        APPROX_QUANTILES(short_term_recency_score, 4) as short_percentile_list,\n",
    "FROM {temp_table}\n",
    "GROUP BY cat1, cat2\n",
    "\"\"\""
   ]
  },
  {
   "cell_type": "code",
   "execution_count": null,
   "id": "97a16a78",
   "metadata": {},
   "outputs": [],
   "source": [
    "percentile_table_cat1 = bq_to_pandas(query)"
   ]
  },
  {
   "cell_type": "code",
   "execution_count": null,
   "id": "28e392b0",
   "metadata": {},
   "outputs": [],
   "source": [
    "long_quantile_tables_cat1 = percentile_table_cat1.set_index('cat1').to_dict()['long_percentile_list']\n",
    "short_quantile_tables_cat1 = percentile_table_cat1.set_index('cat1').to_dict()['short_percentile_list']"
   ]
  },
  {
   "cell_type": "code",
   "execution_count": null,
   "id": "b06abfb5",
   "metadata": {},
   "outputs": [],
   "source": [
    "query = f\"\"\"\n",
    "SELECT distinct cat2, \n",
    "                cat1, \n",
    "                cat3, \n",
    "                dt\n",
    "\n",
    "FROM {db_name}.{table_nm}\n",
    "WHERE dt <= '{end_dt}' \n",
    "AND dt >= '{start_dt}'\n",
    "AND cat3='buy'\n",
    "AND ( {tdeal_where_clause} )\n",
    "\"\"\""
   ]
  },
  {
   "cell_type": "code",
   "execution_count": null,
   "id": "16dd7c71",
   "metadata": {},
   "outputs": [],
   "source": [
    "cat_df = bq_to_pandas(query)"
   ]
  },
  {
   "cell_type": "code",
   "execution_count": null,
   "id": "8c1b1b66",
   "metadata": {},
   "outputs": [],
   "source": [
    "cat_dict = cat_df.set_index(\"cat1\").to_dict()['cat2']"
   ]
  },
  {
   "cell_type": "code",
   "execution_count": null,
   "id": "d2fe9ab7",
   "metadata": {},
   "outputs": [],
   "source": [
    "cat1_list = [\"스포츠/레저\"]    "
   ]
  },
  {
   "cell_type": "code",
   "execution_count": null,
   "id": "efccbc15",
   "metadata": {},
   "outputs": [],
   "source": [
    "long_percentile_cat1_conditions = \" OR \".join([f\"(cat1 = '{key}' AND long_term_recency_score>={values[3]})\" for key, values in long_quantile_tables_cat1.items() if cat_dict[key] in cat1_list])\n",
    "short_percentile_cat1_conditions = \" OR \".join([f\"(cat1 = '{key}' AND long_term_recency_score>={values[3]})\" for key, values in short_quantile_tables_cat1.items() if cat_dict[key] in cat1_list])"
   ]
  },
  {
   "cell_type": "code",
   "execution_count": null,
   "id": "56ec38fd",
   "metadata": {},
   "outputs": [],
   "source": [
    "cat1_query = f\"\"\"\n",
    "    SELECT  *,\n",
    "            \"long\" as pref\n",
    "    FROM {temp_table}\n",
    "    WHERE ({long_percentile_cat1_conditions})\n",
    "    \n",
    "    UNION ALL\n",
    "    SELECT  *,\n",
    "            \"short\" as pref\n",
    "    FROM {temp_table}\n",
    "    WHERE ({short_percentile_cat1_conditions})\n",
    "\"\"\""
   ]
  },
  {
   "cell_type": "code",
   "execution_count": null,
   "id": "a897198b",
   "metadata": {},
   "outputs": [],
   "source": [
    "temp_table = f'{project_id}.adot_reco_dev.jh_tdeal_cat1_temp'"
   ]
  },
  {
   "cell_type": "code",
   "execution_count": null,
   "id": "c4270b53",
   "metadata": {},
   "outputs": [],
   "source": [
    "job_config = QueryJobConfig()\n",
    "job_config.destination = temp_table\n",
    "job_config.write_disposition = 'WRITE_TRUNCATE'"
   ]
  },
  {
   "cell_type": "code",
   "execution_count": null,
   "id": "fc939d04",
   "metadata": {},
   "outputs": [],
   "source": [
    "# 절대 비교 프로파일 추출 로직\n",
    "query_job = bq_client.query(cat1_query, job_config=job_config)\n",
    "query_job.result() "
   ]
  },
  {
   "cell_type": "markdown",
   "id": "2834a973",
   "metadata": {},
   "source": [
    "# CAT2"
   ]
  },
  {
   "cell_type": "code",
   "execution_count": null,
   "id": "d4355502",
   "metadata": {},
   "outputs": [],
   "source": [
    "# 상대 비교 프로파일 추출 로직\n",
    "cat2_query = f\"\"\"\n",
    "WITH params AS (\n",
    "  SELECT\n",
    "    {long_duration/2} AS longterm_decay_param, \n",
    "    {short_duration/2} AS shortterm_decay_param\n",
    "),\n",
    "\n",
    "BUY_TABLE AS (\n",
    "    SELECT distinct svc_mgmt_num, \n",
    "                    luna_id,\n",
    "                    cat2, \n",
    "                    is_weekend, \n",
    "                    dt\n",
    "    \n",
    "    FROM {db_name}.{table_nm}\n",
    "    WHERE dt <= '{end_dt}' \n",
    "    AND dt >= '{start_dt}'\n",
    "    AND cat3='buy'\n",
    "    AND ( {tdeal_where_clause} )\n",
    "),\n",
    "\n",
    "USER_PURCHASE_TABLE AS (\n",
    "\n",
    "    SELECT  *\n",
    "           \n",
    "    FROM (\n",
    "        SELECT  svc_mgmt_num,\n",
    "                luna_id,\n",
    "                cat2,\n",
    "                ARRAY_AGG(dt ORDER BY dt asc) as purchase_date\n",
    "        FROM BUY_TABLE\n",
    "        group by svc_mgmt_num, luna_id, cat2\n",
    "    )\n",
    "),\n",
    "unnested_purchases AS (\n",
    "  SELECT\n",
    "    svc_mgmt_num,\n",
    "    luna_id,\n",
    "    cat2,\n",
    "    purchase_date\n",
    "    \n",
    "  FROM USER_PURCHASE_TABLE, UNNEST(purchase_date) AS purchase_date\n",
    "),\n",
    "\n",
    "purchase_metrics AS (\n",
    "    SELECT  svc_mgmt_num,\n",
    "            luna_id,\n",
    "            cat2,\n",
    "            COUNT(*) AS frequency,\n",
    "            ARRAY_AGG(DATE_DIFF(PARSE_DATE('%Y-%m-%d', '{end_dt}'), purchase_date, DAY) ORDER BY DATE_DIFF(PARSE_DATE('%Y-%m-%d', '{end_dt}'), purchase_date, DAY) DESC) AS days_since_purchases\n",
    "           \n",
    "  FROM unnested_purchases\n",
    "  GROUP BY svc_mgmt_num, luna_id, cat2\n",
    "),\n",
    "\n",
    "interest_score AS (\n",
    "  SELECT\n",
    "    svc_mgmt_num,\n",
    "    luna_id,\n",
    "    cat2,\n",
    "    frequency,\n",
    "    (\n",
    "      SELECT SUM(EXP(-1 * day / longterm_decay_param))  -- Exponential decay with 60-day half-life\n",
    "      FROM UNNEST(days_since_purchases) day\n",
    "    ) AS long_term_recency_score,\n",
    "    (\n",
    "      SELECT SUM(EXP(-1 * day / shortterm_decay_param))  \n",
    "      FROM UNNEST(days_since_purchases) day\n",
    "    ) AS short_term_recency_score,\n",
    "  FROM purchase_metrics, params\n",
    ")\n",
    "\n",
    "SELECT *\n",
    "FROM interest_score\n",
    "\"\"\""
   ]
  },
  {
   "cell_type": "code",
   "execution_count": null,
   "id": "234b584f",
   "metadata": {},
   "outputs": [],
   "source": [
    "temp_table = f'{project_id}.adot_reco_dev.jh_tdeal_eda_temp'\n",
    "job_config = QueryJobConfig()\n",
    "job_config.destination = temp_table\n",
    "job_config.write_disposition = 'WRITE_TRUNCATE'"
   ]
  },
  {
   "cell_type": "code",
   "execution_count": null,
   "id": "14703703",
   "metadata": {},
   "outputs": [],
   "source": [
    "# 절대 비교 프로파일 추출 로직\n",
    "query_job = bq_client.query(cat2_query, job_config=job_config)\n",
    "query_job.result() "
   ]
  },
  {
   "cell_type": "code",
   "execution_count": null,
   "id": "b4ab00d3",
   "metadata": {},
   "outputs": [],
   "source": [
    "query = f\"\"\"\n",
    "SELECT  cat2,\n",
    "        APPROX_QUANTILES(long_term_recency_score, 4) as long_percentile_list,\n",
    "        APPROX_QUANTILES(short_term_recency_score, 4) as short_percentile_list,\n",
    "FROM {temp_table}\n",
    "GROUP BY cat2\n",
    "\"\"\""
   ]
  },
  {
   "cell_type": "code",
   "execution_count": null,
   "id": "080fb887",
   "metadata": {},
   "outputs": [],
   "source": [
    "percentile_table_cat2 = bq_to_pandas(query)"
   ]
  },
  {
   "cell_type": "code",
   "execution_count": null,
   "id": "120721f9",
   "metadata": {},
   "outputs": [],
   "source": [
    "long_quantile_tables_cat2 = percentile_table_cat2.set_index('cat2').to_dict()['long_percentile_list']\n",
    "short_quantile_tables_cat2 = percentile_table_cat2.set_index('cat2').to_dict()['short_percentile_list']"
   ]
  },
  {
   "cell_type": "code",
   "execution_count": null,
   "id": "12b7886d",
   "metadata": {},
   "outputs": [],
   "source": [
    "cat2list = list(set(cat_dict.values()))"
   ]
  },
  {
   "cell_type": "code",
   "execution_count": null,
   "id": "bbd024c1",
   "metadata": {},
   "outputs": [],
   "source": [
    "user_state_list = [\"반려동물용품\", \"출산/육아\"]"
   ]
  },
  {
   "cell_type": "code",
   "execution_count": null,
   "id": "47ffc633",
   "metadata": {},
   "outputs": [],
   "source": [
    "long_percentile_conditions = \" OR \".join([f\"(cat2 = '{key}' AND long_term_recency_score>={values[3]})\" if key not in user_state_list else f\"(cat2 = '{key}' AND long_term_recency_score>={values[1]})\"  for key, values in long_quantile_tables_cat2.items()])\n",
    "short_percentile_conditions = \" OR \".join([f\"(cat2 = '{key}' AND short_term_recency_score>={values[3]})\" if key not in user_state_list else f\"(cat2 = '{key}' AND short_term_recency_score>={values[1]})\"  for key, values in short_quantile_tables_cat2.items()])"
   ]
  },
  {
   "cell_type": "code",
   "execution_count": null,
   "id": "af3d743c",
   "metadata": {},
   "outputs": [],
   "source": [
    "cat2_query = f\"\"\"\n",
    "    SELECT  *,\n",
    "            \"long\" as pref\n",
    "    FROM {temp_table}\n",
    "    WHERE ({long_percentile_conditions})\n",
    "    \n",
    "    UNION ALL\n",
    "    SELECT  *,\n",
    "            \"short\" as pref\n",
    "    FROM {temp_table}\n",
    "    WHERE ({short_percentile_conditions})\n",
    "\"\"\""
   ]
  },
  {
   "cell_type": "code",
   "execution_count": null,
   "id": "94a698aa",
   "metadata": {},
   "outputs": [],
   "source": [
    "temp_table = f'{project_id}.adot_reco_dev.jh_tdeal_cat2_temp'"
   ]
  },
  {
   "cell_type": "code",
   "execution_count": null,
   "id": "202a7cce",
   "metadata": {},
   "outputs": [],
   "source": [
    "job_config = QueryJobConfig()\n",
    "job_config.destination = temp_table\n",
    "job_config.write_disposition = 'WRITE_TRUNCATE'"
   ]
  },
  {
   "cell_type": "code",
   "execution_count": null,
   "id": "b8c14efd",
   "metadata": {},
   "outputs": [],
   "source": [
    "# 절대 비교 프로파일 추출 로직\n",
    "query_job = bq_client.query(cat2_query, job_config=job_config)\n",
    "query_job.result() "
   ]
  },
  {
   "cell_type": "code",
   "execution_count": null,
   "id": "0873f8c9",
   "metadata": {},
   "outputs": [],
   "source": [
    "query = f\"\"\"\n",
    "WITH User_state_tables AS(\n",
    "    SELECT  svc_mgmt_num,\n",
    "            luna_id,\n",
    "            ARRAY_AGG(user_state) as user_state,\n",
    "    FROM (\n",
    "        SELECT distinct svc_mgmt_num,\n",
    "                        luna_id,\n",
    "                        CASE\n",
    "                            WHEN cat2 = \"출산/육아\" THEN '육아/아기'\n",
    "                            ELSE '반려동물'\n",
    "                        END AS user_state\n",
    "\n",
    "        FROM skt-datahub.adot_reco_dev.jh_tdeal_cat2_temp\n",
    "        WHERE cat2 in (\"출산/육아\", \"반려동물용품\")\n",
    "    )\n",
    "    GROUP BY svc_mgmt_num, luna_id\n",
    "),\n",
    "\n",
    "Long_User_preference_tables AS (\n",
    "        SELECT  svc_mgmt_num,\n",
    "                luna_id,\n",
    "                ARRAY_AGG(long_prefered_domain) as long_prefered_domain,\n",
    "        FROM (\n",
    "            SELECT distinct  svc_mgmt_num,\n",
    "                             luna_id,\n",
    "                             cat2 as long_prefered_domain\n",
    "\n",
    "            FROM skt-datahub.adot_reco_dev.jh_tdeal_cat2_temp\n",
    "            WHERE cat2 not in (\"출산/육아\", \"반려동물용품\") and pref='long'\n",
    "\n",
    "            UNION ALL\n",
    "\n",
    "            SELECT distinct  svc_mgmt_num,\n",
    "                             luna_id,\n",
    "                             cat1 as long_prefered_domain\n",
    "\n",
    "            FROM skt-datahub.adot_reco_dev.jh_tdeal_cat1_temp\n",
    "            WHERE pref='long'\n",
    "        ) \n",
    "        GROUP BY svc_mgmt_num, luna_id\n",
    "),\n",
    "\n",
    "Short_User_preference_tables AS (\n",
    "\n",
    "    SELECT *\n",
    "    FROM (\n",
    "        SELECT  svc_mgmt_num,\n",
    "                luna_id,\n",
    "                ARRAY_AGG(short_prefered_domain) as short_prefered_domain,\n",
    "        FROM (\n",
    "            SELECT distinct  svc_mgmt_num,\n",
    "                             luna_id,\n",
    "                             cat2 as short_prefered_domain\n",
    "\n",
    "            FROM skt-datahub.adot_reco_dev.jh_tdeal_cat2_temp\n",
    "            WHERE cat2 not in (\"출산/육아\", \"반려동물용품\") and pref='short'\n",
    "\n",
    "            UNION ALL\n",
    "\n",
    "            SELECT distinct  svc_mgmt_num,\n",
    "                             luna_id,\n",
    "                             cat1 as short_prefered_domain\n",
    "\n",
    "            FROM skt-datahub.adot_reco_dev.jh_tdeal_cat1_temp\n",
    "            WHERE pref='short'\n",
    "        ) \n",
    "        GROUP BY svc_mgmt_num, luna_id\n",
    "    )\n",
    ")\n",
    "\n",
    "SELECT  A.svc_mgmt_num,\n",
    "        A.luna_id,\n",
    "        A.long_prefered_domain as  long_term_profile,\n",
    "        A.short_prefered_domain as short_term_profile,\n",
    "        B.user_state as user_state_profile,\n",
    "        PARSE_DATE('%Y-%m-%d', '{lag_current_dt}') as dt \n",
    "FROM (\n",
    "    SELECT \n",
    "    COALESCE(t1.svc_mgmt_num, t2.svc_mgmt_num) AS svc_mgmt_num,\n",
    "    COALESCE(t1.luna_id, t2.luna_id) AS luna_id,\n",
    "    t1.long_prefered_domain,\n",
    "    t2.short_prefered_domain\n",
    "    FROM Long_User_preference_tables t1\n",
    "    FULL OUTER JOIN Short_User_preference_tables t2\n",
    "    ON t1.svc_mgmt_num = t2.svc_mgmt_num\n",
    ") AS A\n",
    "\n",
    "LEFT JOIN (\n",
    "    SELECT *\n",
    "    FROM User_state_tables\n",
    ")AS B\n",
    "ON A.svc_mgmt_num = B.svc_mgmt_num\n",
    "\n",
    "\"\"\""
   ]
  },
  {
   "cell_type": "markdown",
   "id": "45f43829",
   "metadata": {},
   "source": [
    "# 프로 파일 테이블 저장"
   ]
  },
  {
   "cell_type": "code",
   "execution_count": null,
   "id": "fd97beb8",
   "metadata": {},
   "outputs": [],
   "source": [
    "PROJECT_ID = \"skt-datahub\"\n",
    "db_name = \"adot_reco_dev\"\n",
    "partitioned_dest_table = \"adotServiceProfile_tdeal\""
   ]
  },
  {
   "cell_type": "code",
   "execution_count": null,
   "id": "aa827578",
   "metadata": {},
   "outputs": [],
   "source": [
    "table_exists = bq_table_exists(table=f'{db_name}.{partitioned_dest_table}', project_id = PROJECT_ID)"
   ]
  },
  {
   "cell_type": "code",
   "execution_count": null,
   "id": "045b5af5",
   "metadata": {},
   "outputs": [],
   "source": [
    "if not table_exists:\n",
    "    get_bigquery_client().query(f\"\"\"\n",
    "        CREATE TABLE IF NOT EXISTS {db_name}.{partitioned_dest_table}(\n",
    "            svc_mgmt_num STRING,\n",
    "            luna_id STRING,\n",
    "            long_term_profile STRING,\n",
    "            short_term_profile STRING,\n",
    "            adot_cat1_go_to_work STRING,\n",
    "            user_state_profile STRING,\n",
    "            dt DATE\n",
    "        )\n",
    "        PARTITION BY dt\n",
    "    \"\"\").result()\n",
    "\n",
    "    print(f\"생성된 테이블 : {db_name}.{partitioned_dest_table}\")"
   ]
  },
  {
   "cell_type": "code",
   "execution_count": null,
   "id": "af5a2321",
   "metadata": {},
   "outputs": [],
   "source": [
    "bq_insert_overwrite(sql=query, destination=f'{PROJECT_ID}.{db_name}.{partitioned_dest_table}', partition='dt')"
   ]
  },
  {
   "cell_type": "markdown",
   "id": "8458d39d",
   "metadata": {},
   "source": [
    "# Template 입히기"
   ]
  },
  {
   "cell_type": "code",
   "execution_count": null,
   "metadata": {},
   "outputs": [],
   "source": [
    "template_query = f\"\"\"\n",
    "    SELECT * \n",
    "    FROM adot_reco_dev.profile_template\n",
    "    WHERE source_domain = 'tdeal'\n",
    "\"\"\""
   ]
  },
  {
   "cell_type": "code",
   "execution_count": null,
   "id": "1ea6152a",
   "metadata": {},
   "outputs": [],
   "source": [
    "template_df = bq_to_pandas(template_query)"
   ]
  },
  {
   "cell_type": "code",
   "execution_count": null,
   "id": "cef865f0",
   "metadata": {},
   "outputs": [],
   "source": [
    "tdeal_long_template = template_df.loc[template_df.property=='long'].template.values[0]\n",
    "tdeal_short_template = template_df.loc[template_df.property=='short'].template.values[0]\n",
    "tdeal_state_template = template_df.loc[template_df.property=='state'].template.values[0]"
   ]
  },
  {
   "cell_type": "code",
   "execution_count": null,
   "id": "c6803852",
   "metadata": {},
   "outputs": [],
   "source": [
    "query = f\"\"\"\n",
    "WITH LOW_TABLE AS (\n",
    "    SELECT  luna_id,\n",
    "            CASE \n",
    "                WHEN longterm_profile='' THEN \"\"\n",
    "                ELSE    REGEXP_REPLACE(\n",
    "                          '{tdeal_long_template}',\n",
    "                          r'\\\\{{longterm_profile\\\\}}',\n",
    "                          longterm_profile\n",
    "                    )\n",
    "            END AS longterm_profile_template,\n",
    "\n",
    "            CASE \n",
    "                WHEN shortterm_profile='' THEN \"\"\n",
    "                ELSE \n",
    "                    REGEXP_REPLACE(\n",
    "                    '{tdeal_short_template}',\n",
    "                    r'\\\\{{shortterm_profile\\\\}}',\n",
    "                        shortterm_profile\n",
    "                    ) \n",
    "            END AS shortterm_profile_template,\n",
    "            CASE \n",
    "                WHEN state_profile='' THEN \"\"\n",
    "                ELSE \n",
    "                    REGEXP_REPLACE(\n",
    "                    '{tdeal_state_template}',\n",
    "                    r'\\\\{{state_profile\\\\}}',\n",
    "                        state_profile\n",
    "                    ) \n",
    "            END AS state_profile_template,\n",
    "            dt\n",
    "\n",
    "    FROM (\n",
    "        SELECT  luna_id,            \n",
    "                COALESCE(ARRAY_TO_STRING(long_prefered_domain, ','), '') as longterm_profile,\n",
    "                COALESCE(ARRAY_TO_STRING(short_prefered_domain, ','), '') as shortterm_profile,\n",
    "                COALESCE(ARRAY_TO_STRING(user_state, ','), '') as state_profile,\n",
    "                dt\n",
    "        FROM {db_name}.{partitioned_dest_table}\n",
    "        WHERE luna_id is not null\n",
    "    )\n",
    "),\n",
    "\n",
    "MIDDLE_TABLE AS(\n",
    "    SELECT  luna_id,\n",
    "            CASE \n",
    "                WHEN longterm_profile_template !='' THEN  CONCAT(longterm_profile_template, ',' , shortterm_profile_template)\n",
    "            ELSE shortterm_profile_template\n",
    "            END AS tdeal_profile,\n",
    "            state_profile_template,\n",
    "            dt\n",
    "    FROM LOW_TABLE\n",
    ")\n",
    "\n",
    "SELECT  luna_id,\n",
    "        CASE \n",
    "            WHEN state_profile_template !='' THEN  CONCAT(state_profile_template, ',' , tdeal_profile)\n",
    "            ELSE tdeal_profile\n",
    "        END AS profile_templates,\n",
    "        \"tdeal\" as source_domain,\n",
    "        dt\n",
    "FROM MIDDLE_TABLE\n",
    "\"\"\""
   ]
  },
  {
   "cell_type": "code",
   "execution_count": null,
   "id": "042ec472",
   "metadata": {},
   "outputs": [],
   "source": [
    "table_name = \"adotServiceProfile_templated_tdeal\""
   ]
  },
  {
   "cell_type": "code",
   "execution_count": null,
   "id": "aa081eff",
   "metadata": {},
   "outputs": [],
   "source": [
    "bq_insert_overwrite(sql=query, destination=f'{PROJECT_ID}.{db_name}.{table_name}', partition='dt')"
   ]
  }
 ],
 "metadata": {
  "kernelspec": {
   "display_name": "Python 3 (ipykernel)",
   "language": "python",
   "name": "python3"
  },
  "language_info": {
   "codemirror_mode": {
    "name": "ipython",
    "version": 3
   },
   "file_extension": ".py",
   "mimetype": "text/x-python",
   "name": "python",
   "nbconvert_exporter": "python",
   "pygments_lexer": "ipython3",
   "version": "3.9.6"
  }
 },
 "nbformat": 4,
 "nbformat_minor": 5
}
