{
 "cells": [
  {
   "cell_type": "code",
   "execution_count": null,
   "id": "b083b584",
   "metadata": {},
   "outputs": [],
   "source": [
    "from skt.gcp import (\n",
    "    PROJECT_ID,\n",
    "    bq_insert_overwrite,\n",
    "    bq_to_df,\n",
    "    bq_to_pandas,\n",
    "    get_bigquery_client,\n",
    "    bq_table_exists,\n",
    "    get_max_part,\n",
    "    get_bigquery_client,\n",
    "    df_to_bq_table\n",
    ")\n",
    "\n",
    "from skt.ye import (\n",
    "    get_hdfs_conn,\n",
    "    get_spark,\n",
    ")"
   ]
  },
  {
   "cell_type": "code",
   "execution_count": null,
   "id": "05b8b9c2",
   "metadata": {},
   "outputs": [],
   "source": [
    "from pyspark.sql.window import Window\n",
    "from pyspark.sql import functions as F\n",
    "from pyspark.sql.types import *"
   ]
  },
  {
   "cell_type": "code",
   "execution_count": null,
   "id": "a194fa48",
   "metadata": {},
   "outputs": [],
   "source": [
    "from google.cloud.bigquery.job import QueryJobConfig"
   ]
  },
  {
   "cell_type": "code",
   "execution_count": null,
   "id": "9e3e6f73",
   "metadata": {},
   "outputs": [],
   "source": [
    "import pandas as pd\n",
    "from datetime import datetime, date, timedelta"
   ]
  },
  {
   "cell_type": "code",
   "execution_count": null,
   "id": "149aaa4c",
   "metadata": {},
   "outputs": [],
   "source": [
    "print(f'current_dt: {current_dt}')\n",
    "print(f'state: {state}')\n",
    "print(f'log_duration: {log_duration}')"
   ]
  },
  {
   "cell_type": "code",
   "execution_count": null,
   "id": "b45f01ea",
   "metadata": {},
   "outputs": [],
   "source": [
    "# 최신날짜 계산\n",
    "execution_dt = datetime.strptime(current_dt, '%Y-%m-%d')\n",
    "execution_dt_one_ago = (execution_dt - timedelta(days=1))\n",
    "lag_current_dt= execution_dt_one_ago.strftime('%Y-%m-%d')"
   ]
  },
  {
   "cell_type": "code",
   "execution_count": null,
   "id": "5b22221b",
   "metadata": {},
   "outputs": [],
   "source": [
    "log_duration = int(log_duration) - 1\n",
    "short_duration = 6"
   ]
  },
  {
   "cell_type": "code",
   "execution_count": null,
   "id": "2becc062",
   "metadata": {},
   "outputs": [],
   "source": [
    "long_start_dt = (execution_dt - timedelta(days=log_duration)).strftime(\"%Y-%m-%d\")\n",
    "short_start_dt = (execution_dt - timedelta(days=short_duration)).strftime(\"%Y-%m-%d\")\n",
    "\n",
    "print(\"long_start_dt : \", long_start_dt)\n",
    "print(\"short_start_dt : \", short_start_dt)"
   ]
  },
  {
   "cell_type": "code",
   "execution_count": null,
   "id": "595cab73",
   "metadata": {},
   "outputs": [],
   "source": [
    "db_name = 'adot_reco_dev'\n",
    "table_nm = 'tmbr_cat1_cnt'"
   ]
  },
  {
   "cell_type": "code",
   "execution_count": null,
   "id": "4f5c08b6",
   "metadata": {},
   "outputs": [],
   "source": [
    "bq_client = get_bigquery_client()"
   ]
  },
  {
   "cell_type": "markdown",
   "id": "67b87b71",
   "metadata": {},
   "source": [
    "# 전처리 함수"
   ]
  },
  {
   "cell_type": "code",
   "execution_count": null,
   "id": "71e9a351",
   "metadata": {},
   "outputs": [],
   "source": [
    "def tmbr_extract_profile(data, thre=0.6, freq_wei=0.6, dt_cnt=60):\n",
    "    #############################\n",
    "    ### 빈도기반 확률 값 계산 ###\n",
    "    #############################\n",
    "    data_freq = data.select([\"svc_mgmt_num\", \"luna_id\", \"cat1\"]).na.drop(\"any\", subset=\"cat1\")\n",
    "    data_freq = data_freq.groupby(\"svc_mgmt_num\", \"luna_id\", \"cat1\").agg(F.count(\"*\").alias(\"cat1_cnt\"))\n",
    "    data_freq_user = data_freq.groupby([\"svc_mgmt_num\", \"luna_id\"]).agg(max(\"cat1_cnt\").alias(\"cat1_max_cnt\"))\n",
    "    data_freq = data_freq.join(data_freq_user, on=[\"svc_mgmt_num\", \"luna_id\"], how=\"left\")\n",
    "    data_freq = data_freq.withColumn(\"cat1_prop\", F.col(\"cat1_cnt\") / F.col(\"cat1_max_cnt\"))\n",
    "\n",
    "    result_df = data_freq.select(\"svc_mgmt_num\", \"luna_id\", \"cat1\", \"cat1_prop\").dropDuplicates([\"svc_mgmt_num\", \"luna_id\", \"cat1\"])\n",
    "\n",
    "    ############################\n",
    "    ### IDF 기반 weight 계산 ###\n",
    "    ############################\n",
    "    data_dt_cnt = data.select([\"svc_mgmt_num\", \"luna_id\", \"cat1\", \"dt\"]).distinct().groupby([\"svc_mgmt_num\", \"luna_id\", \"cat1\"]).agg(F.count(\"*\").alias(\"svc_mgmt_num_cat1_cnt\"))\n",
    "    data_dt_cnt = data_dt_cnt.withColumn(\"df_weight\", 1 / F.log(F.lit(dt_cnt) / F.col(\"svc_mgmt_num_cat1_cnt\") + 1.0e-8))\n",
    "    data_dt_cnt = data_dt_cnt.withColumn(\"rev_df_weight\", 1.0 / (1.0 + F.exp(-F.col(\"df_weight\"))))\n",
    "\n",
    "    #### Merge ####\n",
    "    merge_data = result_df.dropna(subset=[\"svc_mgmt_num\", \"luna_id\"]).select([\"svc_mgmt_num\", \"luna_id\", \"cat1\", \"cat1_prop\"]).join(data_dt_cnt.select([\"svc_mgmt_num\", \"luna_id\", \"cat1\", \"rev_df_weight\"]), on=[\"svc_mgmt_num\", \"luna_id\", \"cat1\"], how=\"left\")\n",
    "    merge_data = merge_data.withColumn(\"score\", F.col(\"cat1_prop\") * freq_wei + F.col(\"rev_df_weight\") * (1 - freq_wei))\n",
    "\n",
    "    data_cat1_distinct = data.select([\"cat1\", \"cat2\"]).distinct()\n",
    "    merge_data = merge_data.join(data_cat1_distinct, on=\"cat1\", how=\"left\")\n",
    "\n",
    "    window_spec = Window.partitionBy([\"svc_mgmt_num\", \"luna_id\"]).orderBy(F.desc(\"score\"))\n",
    "    merge_data = merge_data.withColumn(\"rank\", F.row_number().over(window_spec)) \\\n",
    "                    .filter(F.col(\"rank\") <= 10) \\\n",
    "                    .drop(\"rank\")\n",
    "\n",
    "    merge_data = merge_data.filter(F.col(\"score\") >= thre).orderBy(F.desc(\"score\")).groupBy(\"luna_id\").agg(F.concat_ws(\", \", F.collect_set(\"cat1\")).alias(\"cat1_profiles\"), F.concat_ws(\", \", F.collect_set(\"cat2\")).alias(\"cat2_profiles\"))\n",
    "    return merge_data"
   ]
  },
  {
   "cell_type": "code",
   "execution_count": null,
   "id": "1ea9cac4",
   "metadata": {},
   "outputs": [],
   "source": [
    "def calculate_days(start_date, end_date):\n",
    "    date_range = pd.date_range(start=start_date, end=end_date)\n",
    "    total_days = len(date_range)\n",
    "    weekend_days = date_range.to_series().map(lambda x: x.weekday() >= 5).sum()\n",
    "    weekday_days = total_days - weekend_days\n",
    "    return total_days, int(weekend_days), int(weekday_days)"
   ]
  },
  {
   "cell_type": "markdown",
   "id": "b4ce56ff",
   "metadata": {},
   "source": [
    "# 프로파일링"
   ]
  },
  {
   "cell_type": "code",
   "execution_count": null,
   "id": "13ab725b",
   "metadata": {},
   "outputs": [],
   "source": [
    "total_days, weekend_days, weekday_days = calculate_days(long_start_dt, current_dt)\n",
    "log_format = f\"\"\"\n",
    "    total_days: {total_days},\n",
    "    weekend_days: {weekend_days},\n",
    "    weekday_days: {weekday_days}\n",
    "\"\"\"\n",
    "print(log_format)"
   ]
  },
  {
   "cell_type": "code",
   "execution_count": null,
   "id": "aed84901",
   "metadata": {},
   "outputs": [],
   "source": [
    "query_cat1 = f\"\"\"\n",
    "    select *\n",
    "    from {db_name}.tmbr_cat1_cnt\n",
    "    where dt >= '{long_start_dt}'\n",
    "\"\"\""
   ]
  },
  {
   "cell_type": "code",
   "execution_count": null,
   "id": "8a9f4edf",
   "metadata": {},
   "outputs": [],
   "source": [
    "data_cat1 = bq_to_df(query_cat1)"
   ]
  },
  {
   "cell_type": "code",
   "execution_count": null,
   "id": "48286d0a",
   "metadata": {},
   "outputs": [],
   "source": [
    "total_data = tmbr_extract_profile(data_cat1, 0.6, 0.6, total_days)"
   ]
  },
  {
   "cell_type": "code",
   "execution_count": null,
   "id": "690a483f",
   "metadata": {},
   "outputs": [],
   "source": [
    "total_data.show(3, False)\n",
    "print(total_data.printSchema())"
   ]
  },
  {
   "cell_type": "markdown",
   "id": "8e67f8c3",
   "metadata": {},
   "source": [
    "# 프로 파일 테이블 저장"
   ]
  },
  {
   "cell_type": "code",
   "execution_count": null,
   "id": "529042b6",
   "metadata": {},
   "outputs": [],
   "source": [
    "partitioned_dest_table = \"adotServiceProfile_tmbr\""
   ]
  },
  {
   "cell_type": "code",
   "execution_count": null,
   "id": "0fd6bb90",
   "metadata": {},
   "outputs": [],
   "source": [
    "table_exists = bq_table_exists(table=f'{db_name}.{partitioned_dest_table}', project_id = PROJECT_ID)"
   ]
  },
  {
   "cell_type": "code",
   "execution_count": null,
   "id": "b0477250",
   "metadata": {},
   "outputs": [],
   "source": [
    "if not table_exists:\n",
    "    get_bigquery_client().query(f\"\"\"\n",
    "        CREATE TABLE IF NOT EXISTS {db_name}.{partitioned_dest_table}(\n",
    "            svc_mgmt_num STRING,\n",
    "            luna_id STRING,\n",
    "            cat1_profiles STRING,\n",
    "            cat2_profiles STRING,\n",
    "            source_domain STRING,\n",
    "            dt Date\n",
    "        )\n",
    "        PARTITION BY dt\n",
    "    \"\"\").result()\n",
    "\n",
    "    print(f\"생성된 테이블 : {db_name}.{partitioned_dest_table}\")"
   ]
  },
  {
   "cell_type": "code",
   "execution_count": null,
   "id": "a8484484",
   "metadata": {},
   "outputs": [],
   "source": [
    "df_to_bq_table(df=total_data,\n",
    "               dataset=db_name,\n",
    "               table_name=partitioned_dest_table,\n",
    "               mode=\"overwrite\")"
   ]
  },
  {
   "cell_type": "markdown",
   "id": "e5a15538",
   "metadata": {},
   "source": [
    "# Template 입히기"
   ]
  },
  {
   "cell_type": "code",
   "execution_count": null,
   "id": "17847954",
   "metadata": {},
   "outputs": [],
   "source": [
    "profile_template = bq_to_pandas(f\"SELECT * FROM {db_name}.profile_template\")"
   ]
  },
  {
   "cell_type": "code",
   "execution_count": null,
   "id": "52b4c7ba",
   "metadata": {},
   "outputs": [],
   "source": [
    "template = list(profile_template[profile_template['source_domain']==\"tmbr\"].template)[0]\n",
    "\n",
    "def profile_text(cat1_profiles):\n",
    "    return template.format(cat1_profile=cat1_profiles)\n",
    "\n",
    "profile_text_udf = F.udf(profile_text, StringType())\n",
    "total_data = total_data.withColumn(\"profile_templates\", profile_text_udf(total_data[\"cat1_profiles\"]))"
   ]
  },
  {
   "cell_type": "code",
   "execution_count": null,
   "id": "a8473788",
   "metadata": {},
   "outputs": [],
   "source": [
    "partitioned_dest_table = \"adotServiceProfile_templated_tmbr\""
   ]
  },
  {
   "cell_type": "code",
   "execution_count": null,
   "id": "93bcb593",
   "metadata": {},
   "outputs": [],
   "source": [
    "table_exists = bq_table_exists(table=f'{db_name}.{partitioned_dest_table}', project_id = PROJECT_ID)"
   ]
  },
  {
   "cell_type": "code",
   "execution_count": null,
   "id": "f2f1c1a8",
   "metadata": {},
   "outputs": [],
   "source": [
    "if not table_exists:\n",
    "    get_bigquery_client().query(f\"\"\"\n",
    "        CREATE TABLE IF NOT EXISTS {db_name}.{partitioned_dest_table}(\n",
    "            svc_mgmt_num STRING,\n",
    "            luna_id STRING,\n",
    "            cat1_profiles STRING,\n",
    "            source_domain STRING,\n",
    "            profile_templates STRING,\n",
    "            dt DATE\n",
    "        )\n",
    "        PARTITION BY dt\n",
    "    \"\"\").result()\n",
    "    print(f\"생성된 테이블 : {db_name}.{partitioned_dest_table}\")"
   ]
  },
  {
   "cell_type": "code",
   "execution_count": null,
   "id": "7b95bcc1",
   "metadata": {},
   "outputs": [],
   "source": [
    "df_to_bq_table(df=total_data,\n",
    "               dataset=db_name,\n",
    "               table_name=partitioned_dest_table,\n",
    "               mode=\"overwrite\")"
   ]
  }
 ],
 "metadata": {
  "kernelspec": {
   "display_name": "Python 3 (ipykernel)",
   "language": "python",
   "name": "python3"
  },
  "language_info": {
   "codemirror_mode": {
    "name": "ipython",
    "version": 3
   },
   "file_extension": ".py",
   "mimetype": "text/x-python",
   "name": "python",
   "nbconvert_exporter": "python",
   "pygments_lexer": "ipython3",
   "version": "3.9.6"
  }
 },
 "nbformat": 4,
 "nbformat_minor": 5
}
