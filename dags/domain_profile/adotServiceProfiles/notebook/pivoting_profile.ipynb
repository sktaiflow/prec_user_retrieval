{
 "cells": [
  {
   "cell_type": "code",
   "execution_count": null,
   "id": "b083b584",
   "metadata": {},
   "outputs": [],
   "source": [
    "from skt.gcp import (\n",
    "    PROJECT_ID,\n",
    "    bq_insert_overwrite,\n",
    "    bq_to_df,\n",
    "    bq_to_pandas,\n",
    "    get_bigquery_client,\n",
    "    bq_table_exists,\n",
    "    get_max_part,\n",
    "    load_query_result_to_table,\n",
    "    pandas_to_bq,\n",
    "    pandas_to_bq_table,\n",
    "    load_bigquery_ipython_magic,\n",
    "    get_bigquery_client,\n",
    "    _print_query_job_results,\n",
    "    load_query_result_to_partitions\n",
    "    \n",
    ")\n",
    "\n",
    "from skt.ye import (\n",
    "    get_hdfs_conn,\n",
    "    get_spark,\n",
    "    hive_execute,\n",
    "    hive_to_pandas,\n",
    "    pandas_to_parquet,\n",
    "    slack_send,\n",
    "    get_secrets\n",
    ")"
   ]
  },
  {
   "cell_type": "code",
   "execution_count": null,
   "id": "5965d02f",
   "metadata": {},
   "outputs": [],
   "source": [
    "from google.cloud.bigquery.job import QueryJobConfig"
   ]
  },
  {
   "cell_type": "code",
   "execution_count": null,
   "id": "05b8b9c2",
   "metadata": {},
   "outputs": [],
   "source": [
    "from pyspark.sql.functions import *\n",
    "from pyspark.sql.window import Window\n",
    "from pyspark.sql.functions import (\n",
    "    row_number, \n",
    "    col, \n",
    "    lit, \n",
    "    count, \n",
    "    log, \n",
    "    exp, \n",
    "    sum as spark_sum\n",
    ")\n",
    "from pyspark.sql import functions as F\n",
    "from pyspark.sql.types import DoubleType"
   ]
  },
  {
   "cell_type": "code",
   "execution_count": null,
   "id": "9e3e6f73",
   "metadata": {},
   "outputs": [],
   "source": [
    "import pandas as pd\n",
    "from datetime import datetime, date, timedelta"
   ]
  },
  {
   "cell_type": "code",
   "execution_count": null,
   "id": "dc30fdcb",
   "metadata": {},
   "outputs": [],
   "source": [
    "execution_dt = datetime.strptime(current_dt, '%Y-%m-%d')\n",
    "execution_dt_one_ago = (execution_dt - timedelta(days=1)).strftime('%Y-%m-%d')\n",
    "execution_dt_next = (execution_dt + timedelta(days=1))\n",
    "current_dt_next = execution_dt_next.strftime('%Y-%m-%d')"
   ]
  },
  {
   "cell_type": "code",
   "execution_count": null,
   "id": "06e16b9c",
   "metadata": {},
   "outputs": [],
   "source": [
    "print(f'current_dt: {current_dt}')\n",
    "print(f'current_dt_next: {current_dt_next}')\n",
    "print(f'state: {state}')\n"
   ]
  },
  {
   "cell_type": "code",
   "execution_count": null,
   "id": "13822c60",
   "metadata": {},
   "outputs": [],
   "source": [
    "db_name = 'adot_reco_dev'\n",
    "temp_db = 'temp_1d'"
   ]
  },
  {
   "cell_type": "code",
   "execution_count": null,
   "id": "4729555c",
   "metadata": {},
   "outputs": [],
   "source": [
    "pivot_table_nm = \"adotServiceMultiProfilesPivotTable\""
   ]
  },
  {
   "cell_type": "code",
   "execution_count": null,
   "id": "b813afcf",
   "metadata": {},
   "outputs": [],
   "source": [
    "bq_client = get_bigquery_client()"
   ]
  },
  {
   "cell_type": "code",
   "execution_count": null,
   "id": "c9f5e848",
   "metadata": {},
   "outputs": [],
   "source": [
    "table_exists = bq_table_exists(table=f\"{db_name}.{pivot_table_nm}\", project_id = PROJECT_ID)"
   ]
  },
  {
   "cell_type": "code",
   "execution_count": null,
   "id": "4e964883",
   "metadata": {},
   "outputs": [],
   "source": [
    "if table_exists:\n",
    "    try:\n",
    "        max_pivot_dt = get_max_part(f\"{db_name}.{pivot_table_nm}\")\n",
    "        query = f\"\"\"\n",
    "            SELECT *\n",
    "            FROM {db_name}.adotServiceMultiProfilesPivotTable\n",
    "            WHERE dt <='{max_pivot_dt}'\n",
    "        \"\"\"\n",
    "\n",
    "        job_config = QueryJobConfig()\n",
    "        temp_history_pivot_table = f'{PROJECT_ID}.{temp_db}.temp_history_pivot'\n",
    "        job_config.destination = temp_history_pivot_table\n",
    "        job_config.write_disposition = 'WRITE_TRUNCATE'\n",
    "        query_job = bq_client.query(query, job_config=job_config)\n",
    "        query_job.result() \n",
    "    except ValueError as e:\n",
    "        is_first = True\n",
    "        pass"
   ]
  },
  {
   "cell_type": "code",
   "execution_count": null,
   "id": "3dde14d9",
   "metadata": {},
   "outputs": [],
   "source": [
    "pivot_query = f\"\"\"\n",
    "SELECT  profile_templates,\n",
    "        source_domain,\n",
    "        user_keys\n",
    "FROM  (\n",
    "        SELECT  profile_templates,\n",
    "                source_domain,\n",
    "                ARRAY_AGG(user_key) as user_keys\n",
    "        FROM (\n",
    "\n",
    "                SELECT  distinct svc_mgmt_num,\n",
    "                                luna_id,\n",
    "                                profile_templates,\n",
    "                                source_domain,\n",
    "                                ARRAY_TO_STRING([svc_mgmt_num, luna_id, source_domain], '_') as user_key\n",
    "                FROM {db_name}.adotServiceProfile_templated_xdr\n",
    "                WHERE dt = '{current_dt}' and luna_id is not null and profile_templates is not null and profile_templates!=''\n",
    "        ) \n",
    "        GROUP BY profile_templates, source_domain\n",
    "\n",
    "        UNION ALL\n",
    "\n",
    "        SELECT  profile_templates,\n",
    "                source_domain,\n",
    "                ARRAY_AGG(user_key) as user_keys\n",
    "        FROM (\n",
    "                SELECT distinct svc_mgmt_num,\n",
    "                                luna_id,\n",
    "                                profile_templates,\n",
    "                                source_domain,\n",
    "                                ARRAY_TO_STRING([svc_mgmt_num, luna_id, source_domain], '_') as user_key\n",
    "\n",
    "                FROM {db_name}.adotServiceProfile_templated_tdeal\n",
    "                WHERE dt = '{current_dt}' and luna_id is not null and profile_templates is not null and profile_templates!=''\n",
    "        )\n",
    "        GROUP BY profile_templates, source_domain\n",
    "\n",
    "        UNION ALL\n",
    "\n",
    "        SELECT  profile_templates,\n",
    "                source_domain,\n",
    "                ARRAY_AGG(user_key) as user_keys\n",
    "        FROM (\n",
    "                SELECT  distinct svc_mgmt_num, \n",
    "                                luna_id,\n",
    "                                profile_templates,\n",
    "                                source_domain,\n",
    "                                ARRAY_TO_STRING([svc_mgmt_num, luna_id, source_domain], '_') as user_key\n",
    "                FROM {db_name}.adotServiceProfile_templated_adot\n",
    "                WHERE dt = '{current_dt}' and luna_id is not null and profile_templates is not null and profile_templates!=''\n",
    "        )\n",
    "        GROUP BY profile_templates, source_domain\n",
    "\n",
    "        UNION ALL\n",
    "\n",
    "        SELECT  profile_templates,\n",
    "                source_domain,\n",
    "                ARRAY_AGG(user_key) as user_keys\n",
    "        FROM (\n",
    "                SELECT  distinct svc_mgmt_num, \n",
    "                                luna_id,\n",
    "                                profile_templates,\n",
    "                                source_domain,\n",
    "                                ARRAY_TO_STRING([svc_mgmt_num, luna_id, source_domain], '_') as user_key\n",
    "                FROM {db_name}.adotServiceProfile_templated_tmap\n",
    "                WHERE dt = '{current_dt}' and luna_id is not null and profile_templates is not null and profile_templates!=''\n",
    "        )\n",
    "        GROUP BY profile_templates, source_domain \n",
    "\n",
    "        UNION ALL\n",
    "        \n",
    "        SELECT  profile_templates,\n",
    "                source_domain,\n",
    "                ARRAY_AGG(user_key) as user_keys\n",
    "        FROM (\n",
    "                SELECT  distinct svc_mgmt_num, \n",
    "                                luna_id,\n",
    "                                profile_templates,\n",
    "                                source_domain,\n",
    "                                ARRAY_TO_STRING([svc_mgmt_num, luna_id, source_domain], '_') as user_key\n",
    "                FROM {db_name}.adotServiceProfile_templated_tmbr\n",
    "                WHERE dt = '{current_dt}' and luna_id is not null and profile_templates is not null and profile_templates!=''\n",
    "        )\n",
    "        GROUP BY profile_templates, source_domain \n",
    ") \n",
    "\"\"\""
   ]
  },
  {
   "cell_type": "code",
   "execution_count": null,
   "id": "f7a52755",
   "metadata": {},
   "outputs": [],
   "source": [
    "job_config = QueryJobConfig()\n",
    "current_pivot_table = f'{PROJECT_ID}.{temp_db}.temp_current_pivot_table'\n",
    "job_config.destination = current_pivot_table\n",
    "job_config.write_disposition = 'WRITE_TRUNCATE'\n",
    "query_job = bq_client.query(pivot_query, job_config=job_config)\n",
    "query_job.result() "
   ]
  },
  {
   "cell_type": "code",
   "execution_count": null,
   "id": "1f6c670e",
   "metadata": {},
   "outputs": [],
   "source": [
    "if is_first:\n",
    "    start_query = f\"\"\"WITH PREVIOUS_PIVOT_TALBE AS (\n",
    "        SELECT *\n",
    "        FROM  {PROJECT_ID}.{temp_db}.temp_history_pivot\n",
    "        )\n",
    "    \"\"\"\n",
    "else:\n",
    "    start_query = \"\"\"WITH PREVIOUS_PIVOT_TALBE AS (\n",
    "        SELECT\n",
    "            CAST(NULL AS INT) AS profile_id,\n",
    "            CAST(NULL AS STRING) AS profile_templates,\n",
    "            CAST(NULL AS STRING) AS source_domain\n",
    "        FROM UNNEST([]) AS dummy\n",
    "        WHERE\n",
    "            FALSE\n",
    "        )\n",
    "    \"\"\""
   ]
  },
  {
   "cell_type": "code",
   "execution_count": null,
   "id": "4fd4d3ae",
   "metadata": {},
   "outputs": [],
   "source": [
    "\n",
    "query = f\"\"\"\n",
    "{start_query},\n",
    "\n",
    "LastIndex AS (\n",
    "        SELECT COALESCE(MAX(profile_id), 0) AS max_idx\n",
    "        FROM   PREVIOUS_PIVOT_TALBE\n",
    "),\n",
    "CURRENT_PIVOT_TALBE AS (\n",
    "        SELECT  profile_templates,\n",
    "                source_domain\n",
    "        FROM   {PROJECT_ID}.{temp_db}.temp_current_pivot\n",
    ")\n",
    "\n",
    "SELECT  profile_templates,\n",
    "        source_domain,\n",
    "        (profile_id + (SELECT max_id FROM LastIndex)) AS profile_id, -- Add max_idx to each row's idx\n",
    "        PARSE_DATE('%Y-%m-%d', '{current_dt_next}') as dt           \n",
    "FROM (\n",
    "        SELECT  *,\n",
    "                ROW_NUMBER() OVER (ORDER BY profile_templates, source_domain) AS profile_id\n",
    "        FROM (\n",
    "                SELECT  A.*,\n",
    "                        B.profile_id\n",
    "                FROM PREVIOUS_PIVOT_TALBE AS A\n",
    "                LEFT JOIN (\n",
    "                        SELECT *\n",
    "                        FROM CURRENT_PIVOT_TALBE\n",
    "                ) AS B\n",
    "                ON A.profile_templates = B.profile_templates AND A.source_domain = B.source_domain\n",
    "        ) \n",
    "        WHERE profile_id is null\n",
    ")\n",
    "\"\"\""
   ]
  },
  {
   "cell_type": "code",
   "execution_count": null,
   "id": "7e221b1b",
   "metadata": {},
   "outputs": [],
   "source": [
    "# 증분량 빅쿼리 테이블로 우선 저장\n",
    "bq_insert_overwrite(sql=query, destination=f'{PROJECT_ID}.{db_name}.adotServiceMultiProfilesPivotTable', partition='dt')"
   ]
  },
  {
   "cell_type": "code",
   "execution_count": null,
   "id": "f4ba399a",
   "metadata": {},
   "outputs": [],
   "source": [
    "hdfs_root_path = \"/data/temp/ca_recsys\"\n",
    "current_root_path = f\"{hdfs_root_path}/{state}/user_retriev/{current_dt_next}\"\n",
    "hdfs_data_path =  f\"{current_root_path}/data/profiles\""
   ]
  },
  {
   "cell_type": "code",
   "execution_count": null,
   "id": "3e611441",
   "metadata": {},
   "outputs": [],
   "source": [
    "# 추론용 하둡 패스에 저장\n",
    "profiles_table = bq_to_df(query)\n",
    "profiles_table.write.mode(\"overwrite\").parquet(hdfs_data_path)"
   ]
  },
  {
   "cell_type": "code",
   "execution_count": null,
   "id": "ef51458a",
   "metadata": {},
   "outputs": [],
   "source": [
    "query = f\"\"\"\n",
    "WITH explodedByLuna AS (\n",
    "        SELECT  ARRAY_AGG(SPLIT(user_key, '_')[OFFSET(0)]) as svc_mgmt_num,\n",
    "                ARRAY_AGG(SPLIT(user_key, '_')[OFFSET(1)]) as luna_id,\n",
    "                ARRAY_AGG(SPLIT(user_key, '_')[OFFSET(2)]) as source_domain,\n",
    "                profile_templates,\n",
    "                profile_id,\n",
    "        FROM    {PROJECT_ID}.{temp_db}.temp_current_pivot_table,\n",
    "                UNNEST(luna_ids) AS unique_key\n",
    ")\n",
    "SELECT  svc_mgmt_num,\n",
    "        luna_id,\n",
    "        ARRAY_AGG(DISTINCT source_domain) AS source_domains,\n",
    "        ARRAY_AGG(DISTINCT profile_id) AS profile_ids,\n",
    "        PARSE_DATE('%Y-%m-%d', '{current_dt_next}') as dt \n",
    "\n",
    "FROM explodedByLuna\n",
    "GROUP BY svc_mgmt_num, luna_id\n",
    "\"\"\""
   ]
  },
  {
   "cell_type": "code",
   "execution_count": null,
   "id": "ef5e8b20",
   "metadata": {},
   "outputs": [],
   "source": [
    "bq_insert_overwrite(sql=query, destination=f'{PROJECT_ID}.{db_name}.adotServiceUnionUserProfiles', partition='dt')"
   ]
  },
  {
   "cell_type": "markdown",
   "id": "ee48d485",
   "metadata": {},
   "source": [
    "# add ttl"
   ]
  },
  {
   "cell_type": "code",
   "execution_count": null,
   "id": "6feb1475",
   "metadata": {},
   "outputs": [],
   "source": [
    "ttl_query = f\"\"\"\n",
    "ALTER TABLE\n",
    "  {PROJECT_ID}.{db_name}.adotServiceUnionUserProfiles\n",
    "SET\n",
    "  OPTIONS(partition_expiration_days={ttl})\n",
    "\"\"\"\n",
    "bq_client.query(ttl_query).result()"
   ]
  },
  {
   "cell_type": "markdown",
   "id": "12d55e3d",
   "metadata": {},
   "source": [
    "# DROP TEMP TABLE"
   ]
  },
  {
   "cell_type": "code",
   "execution_count": null,
   "id": "78535abd",
   "metadata": {},
   "outputs": [],
   "source": [
    "temp_table_list = [f\"{PROJECT_ID}.{temp_db}.temp_current_pivot_table\", f'{PROJECT_ID}.{temp_db}.temp_history_pivot']\n",
    "for temp_table in temp_table_list:\n",
    "    drop_query = f\"\"\"Drop table if exists {temp_table}\"\"\"\n",
    "    bq_client.query(drop_query).result()"
   ]
  }
 ],
 "metadata": {
  "kernelspec": {
   "display_name": "Python 3 (ipykernel)",
   "language": "python",
   "name": "python3"
  },
  "language_info": {
   "codemirror_mode": {
    "name": "ipython",
    "version": 3
   },
   "file_extension": ".py",
   "mimetype": "text/x-python",
   "name": "python",
   "nbconvert_exporter": "python",
   "pygments_lexer": "ipython3",
   "version": "3.8.19"
  }
 },
 "nbformat": 4,
 "nbformat_minor": 5
}
