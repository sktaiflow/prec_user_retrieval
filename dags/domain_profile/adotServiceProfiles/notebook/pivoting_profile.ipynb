{
 "cells": [
  {
   "cell_type": "code",
   "execution_count": null,
   "id": "b083b584",
   "metadata": {},
   "outputs": [],
   "source": [
    "from skt.gcp import (\n",
    "    PROJECT_ID,\n",
    "    bq_insert_overwrite,\n",
    "    bq_to_df,\n",
    "    bq_to_pandas,\n",
    "    get_bigquery_client,\n",
    "    bq_table_exists,\n",
    "    get_max_part,\n",
    "    load_query_result_to_table,\n",
    "    pandas_to_bq,\n",
    "    pandas_to_bq_table,\n",
    "    load_bigquery_ipython_magic,\n",
    "    get_bigquery_client,\n",
    "    _print_query_job_results,\n",
    "    load_query_result_to_partitions\n",
    "    \n",
    ")\n",
    "\n",
    "from skt.ye import (\n",
    "    get_hdfs_conn,\n",
    "    get_spark,\n",
    "    hive_execute,\n",
    "    hive_to_pandas,\n",
    "    pandas_to_parquet,\n",
    "    slack_send,\n",
    "    get_secrets\n",
    ")"
   ]
  },
  {
   "cell_type": "code",
   "execution_count": null,
   "id": "5965d02f",
   "metadata": {},
   "outputs": [],
   "source": [
    "from google.cloud.bigquery.job import QueryJobConfig"
   ]
  },
  {
   "cell_type": "code",
   "execution_count": null,
   "id": "05b8b9c2",
   "metadata": {},
   "outputs": [],
   "source": [
    "from pyspark.sql.functions import *\n",
    "from pyspark.sql.window import Window\n",
    "from pyspark.sql.functions import (\n",
    "    row_number, \n",
    "    col, \n",
    "    lit, \n",
    "    count, \n",
    "    log, \n",
    "    exp, \n",
    "    sum as spark_sum\n",
    ")\n",
    "from pyspark.sql import functions as F\n",
    "from pyspark.sql.types import DoubleType"
   ]
  },
  {
   "cell_type": "code",
   "execution_count": null,
   "id": "9e3e6f73",
   "metadata": {},
   "outputs": [],
   "source": [
    "import pandas as pd\n",
    "from datetime import datetime, date, timedelta"
   ]
  },
  {
   "cell_type": "code",
   "execution_count": null,
   "id": "dc30fdcb",
   "metadata": {},
   "outputs": [],
   "source": [
    "execution_dt = datetime.strptime(current_dt, '%Y-%m-%d')\n",
    "execution_dt_one_ago = (execution_dt - timedelta(days=1)).strftime('%Y-%m-%d')\n",
    "execution_dt_next = (execution_dt + timedelta(days=1))\n",
    "current_dt_next = execution_dt_next.strftime('%Y-%m-%d')"
   ]
  },
  {
   "cell_type": "code",
   "execution_count": null,
   "id": "06e16b9c",
   "metadata": {},
   "outputs": [],
   "source": [
    "print(f'current_dt: {current_dt}')\n",
    "print(f'current_dt_next: {current_dt_next}')\n",
    "print(f'state: {state}')\n"
   ]
  },
  {
   "cell_type": "code",
   "execution_count": null,
   "id": "13822c60",
   "metadata": {},
   "outputs": [],
   "source": [
    "db_name = 'adot_reco_dev'\n",
    "table_nm = 'tdeal_cat1_cnt'\n",
    "project_id = 'skt-datahub'"
   ]
  },
  {
   "cell_type": "code",
   "execution_count": null,
   "id": "b813afcf",
   "metadata": {},
   "outputs": [],
   "source": [
    "bq_client = get_bigquery_client()"
   ]
  },
  {
   "cell_type": "code",
   "execution_count": null,
   "id": "3dde14d9",
   "metadata": {},
   "outputs": [],
   "source": [
    "pivot_query = f\"\"\"\n",
    "SELECT  ROW_NUMBER() OVER (ORDER BY profile_templates) AS profile_id,\n",
    "        profile_templates,\n",
    "        source_domain,\n",
    "        luna_ids,\n",
    "        PARSE_DATE('%Y-%m-%d', '{current_dt_next}') as dt \n",
    "        \n",
    "FROM (\n",
    "\n",
    "        SELECT  profile_templates,\n",
    "                source_domain,\n",
    "                ARRAY_AGG(luna_id) as luna_ids\n",
    "        FROM (\n",
    "\n",
    "                SELECT  distinct luna_id,\n",
    "                                profile_templates,\n",
    "                                source_domain\n",
    "                FROM {db_name}.adotServiceProfile_xdr\n",
    "                WHERE dt = '{current_date}' and luna_id is not null and profile_templates is not null and profile_templates!=''\n",
    "        ) \n",
    "        GROUP BY profile_templates, source_domain\n",
    "\n",
    "        UNION ALL\n",
    "        SELECT  profile_templates,\n",
    "                source_domain,\n",
    "                ARRAY_AGG(luna_id) as luna_ids\n",
    "        FROM (\n",
    "                SELECT distinct luna_id\n",
    "                                profile_templates,\n",
    "                                source_domain\n",
    "\n",
    "                FROM {db_name}.adotServiceProfile_tdeal\n",
    "                WHERE dt = '{current_date}' and luna_id is not null and profile_templates is not null and profile_templates!=''\n",
    "        )\n",
    "        GROUP BY profile_templates, source_domain\n",
    "\n",
    "        UNION ALL\n",
    "        SELECT  profile_templates,\n",
    "                source_domain,\n",
    "                ARRAY_AGG(luna_id) as luna_ids\n",
    "        FROM (\n",
    "                SELECT  distinct luna_id,\n",
    "                                profile_templates,\n",
    "                                source_domain\n",
    "                FROM {db_name}.adotServiceProfile_adot\n",
    "                WHERE dt = '{current_dt_next}' and luna_id is not null and profile_templates is not null and profile_templates!=''\n",
    "        )\n",
    "        GROUP BY profile_templates, source_domain\n",
    "\n",
    "        UNION ALL\n",
    "        SELECT  profile_templates,\n",
    "                source_domain,\n",
    "                ARRAY_AGG(luna_id) as luna_ids\n",
    "        FROM (\n",
    "                SELECT distinct  profile_templates,\n",
    "                                source_domain\n",
    "                FROM {db_name}.adotServiceProfile_tmap\n",
    "                WHERE dt = '{current_date}' and luna_id is not null and profile_templates is not null and profile_templates!=''\n",
    "        )\n",
    "        GROUP BY profile_templates, source_domain\n",
    ")\n",
    "\n",
    "\"\"\""
   ]
  },
  {
   "cell_type": "code",
   "execution_count": null,
   "id": "7e221b1b",
   "metadata": {},
   "outputs": [],
   "source": [
    "# 빅쿼리 테이블로 우선 저장\n",
    "bq_insert_overwrite(sql=pivot_query, destination=f'{PROJECT_ID}.{db_name}.adotServiceProfilesPivotTable', partition='dt')"
   ]
  },
  {
   "cell_type": "code",
   "execution_count": null,
   "id": "f4ba399a",
   "metadata": {},
   "outputs": [],
   "source": [
    "hdfs_root_path = \"/data/temp/ca_recsys\"\n",
    "current_root_path = f\"{hdfs_root_path}/{state}/user_retriev/{current_dt_next}\"\n",
    "hdfs_data_path =  f\"{current_root_path}/data/profiles\""
   ]
  },
  {
   "cell_type": "code",
   "execution_count": null,
   "id": "3e611441",
   "metadata": {},
   "outputs": [],
   "source": [
    "# 추론용 하둡 패스에 저장\n",
    "profiles_table = bq_to_df(pivot_query)\n",
    "profiles_table.write.mode(\"overwrite\").parquet(hdfs_data_path)"
   ]
  },
  {
   "cell_type": "code",
   "execution_count": null,
   "id": "ef51458a",
   "metadata": {},
   "outputs": [],
   "source": [
    "query = f\"\"\"\n",
    "WITH explodedByLuna AS (\n",
    "    SELECT  *\n",
    "    FROM    '{project_id}.{db_name}.adotServicePivotProfiles'\n",
    "    UNNEST(luna_ids) AS luna_id\n",
    ")\n",
    "SELECT  luna_id,\n",
    "        ARRAY_AGG(DISTINCT profile_templates) AS total_profile_templates,\n",
    "        ARRAY_AGG(DISTINCT profile_id) AS profile_ids,\n",
    "        PARSE_DATE('%Y-%m-%d', '{current_dt_next}') as dt \n",
    "\n",
    "FROM explodedByLuna\n",
    "GROUP BY luna_id\n",
    "\"\"\""
   ]
  },
  {
   "cell_type": "code",
   "execution_count": null,
   "id": "ef5e8b20",
   "metadata": {},
   "outputs": [],
   "source": [
    "bq_insert_overwrite(sql=query, destination=f'{PROJECT_ID}.{db_name}.adotServiceUnionUserProfiles', partition='dt')"
   ]
  }
 ],
 "metadata": {
  "kernelspec": {
   "display_name": "Python 3 (ipykernel)",
   "language": "python",
   "name": "python3"
  },
  "language_info": {
   "codemirror_mode": {
    "name": "ipython",
    "version": 3
   },
   "file_extension": ".py",
   "mimetype": "text/x-python",
   "name": "python",
   "nbconvert_exporter": "python",
   "pygments_lexer": "ipython3",
   "version": "3.8.19"
  }
 },
 "nbformat": 4,
 "nbformat_minor": 5
}
