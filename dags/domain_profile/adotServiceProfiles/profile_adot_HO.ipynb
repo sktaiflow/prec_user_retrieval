{
 "cells": [
  {
   "cell_type": "code",
   "execution_count": 1,
   "id": "afa07610-8fe8-4d61-8bfc-f93546444825",
   "metadata": {
    "execution": {
     "iopub.execute_input": "2024-06-27T08:10:40.145838Z",
     "iopub.status.busy": "2024-06-27T08:10:40.144932Z",
     "iopub.status.idle": "2024-06-27T08:10:40.159101Z",
     "shell.execute_reply": "2024-06-27T08:10:40.157937Z",
     "shell.execute_reply.started": "2024-06-27T08:10:40.145782Z"
    },
    "tags": []
   },
   "outputs": [],
   "source": [
    "# # # Parameters\n",
    "DT = \"2024-06-26\"   "
   ]
  },
  {
   "cell_type": "markdown",
   "id": "363b08fe-586b-4b37-9a98-dbee9c39d641",
   "metadata": {},
   "source": [
    "## **One Model Profile 생성 작업**"
   ]
  },
  {
   "cell_type": "markdown",
   "id": "6e8bbfe0-3d1d-41ea-b97d-3394ad548dcf",
   "metadata": {
    "execution": {
     "iopub.execute_input": "2024-06-03T23:07:29.647241Z",
     "iopub.status.busy": "2024-06-03T23:07:29.646408Z",
     "iopub.status.idle": "2024-06-03T23:07:29.655344Z",
     "shell.execute_reply": "2024-06-03T23:07:29.654108Z",
     "shell.execute_reply.started": "2024-06-03T23:07:29.647184Z"
    },
    "tags": []
   },
   "source": [
    "- 개요\n",
    "    - One Model Profile 생성 작업\n",
    "- 내용\n",
    "    - item, cat1, cat2 level로 프로파일링 작업 수행\n",
    "    - 단기 preference 정보\n",
    "        - 7일 내 item 정보를 통해서 생성\n",
    "        - 이때, item은 정규화 로직을 통해 추출된 단어 기반으로 최종 단어들은 추출\n",
    "    - 장기 preference 정보\n",
    "        - 60일 내 cat1, cat2 정보를 통해서 생성\n",
    "        - cat2가 더 상위 레벨임. 어떤 레벨로 장기 구성할지 선택 필요- 내용- 내용"
   ]
  },
  {
   "cell_type": "code",
   "execution_count": 1,
   "id": "f400f032-be1d-409d-82c1-914745945958",
   "metadata": {
    "execution": {
     "iopub.execute_input": "2024-06-28T00:15:40.113863Z",
     "iopub.status.busy": "2024-06-28T00:15:40.113243Z",
     "iopub.status.idle": "2024-06-28T00:15:41.900366Z",
     "shell.execute_reply": "2024-06-28T00:15:41.899230Z",
     "shell.execute_reply.started": "2024-06-28T00:15:40.113804Z"
    },
    "tags": []
   },
   "outputs": [],
   "source": [
    "from skt.gcp import get_bigquery_client, bq_insert_overwrite, get_max_part, bq_to_df, bq_to_pandas, pandas_to_bq_table, load_query_result_to_table, df_to_bq_table\n",
    "from pyspark.sql.functions import *\n",
    "from pyspark.sql.window import Window\n",
    "from pyspark.sql.functions import row_number, col, lit, count, log, exp, sum as spark_sum\n",
    "from pyspark.sql import functions as F\n",
    "from datetime import datetime, date, timedelta\n",
    "from skt.ye import get_spark\n",
    "import pandas as pd\n",
    "import re\n",
    "from sklearn.feature_extraction.text import TfidfVectorizer\n",
    "import numpy as np\n",
    "import math\n",
    "from pyspark.sql.types import DoubleType"
   ]
  },
  {
   "cell_type": "code",
   "execution_count": 10,
   "id": "833d4a36-7a7f-4587-b170-a6c3904d41ea",
   "metadata": {
    "execution": {
     "iopub.execute_input": "2024-06-27T08:13:28.864603Z",
     "iopub.status.busy": "2024-06-27T08:13:28.863763Z",
     "iopub.status.idle": "2024-06-27T08:13:28.887160Z",
     "shell.execute_reply": "2024-06-27T08:13:28.886562Z",
     "shell.execute_reply.started": "2024-06-27T08:13:28.864543Z"
    },
    "tags": []
   },
   "outputs": [],
   "source": [
    "def adot_extract_profile(data, thre=0.6, ecdf_wei = 0.6, dt_cnt = 60, col_names='adot_cat1_total'):\n",
    "    #################\n",
    "    ### ECDF 계산 ###\n",
    "    #################\n",
    "    \n",
    "    # 그룹별로 데이터 정렬\n",
    "    windowSpec = Window.partitionBy(\"cat1\").orderBy(\"cat1_cnt_sum\").rowsBetween(Window.unboundedPreceding, 0)\n",
    "\n",
    "\n",
    "    data_sum = data.groupBy([\"svc_mgmt_num\",\"luna_id\",\"cat1\"]).agg(sum('cat1_cnt').alias('cat1_cnt_sum'))\n",
    "\n",
    "    # 그룹별로 값의 개수 세기\n",
    "    count_by_group = data_sum.groupBy(\"cat1\").agg(count(\"*\").alias(\"count\"))\n",
    "\n",
    "    # 원래 데이터프레임에 그룹별 카운트를 조인\n",
    "    df_with_count = data_sum.join(count_by_group, on=\"cat1\", how=\"left\")\n",
    "\n",
    "    # 누적합 계산\n",
    "    df_with_cumsum = df_with_count.withColumn(\"cum_sum\", spark_sum(lit(1)).over(windowSpec))\n",
    "\n",
    "    # ECDF 계산\n",
    "    df_with_ecdf = df_with_cumsum.withColumn(\"ecdf\", col(\"cum_sum\") / col(\"count\"))\n",
    "\n",
    "    # 필요한 열 선택\n",
    "    result_df = df_with_ecdf.select('svc_mgmt_num','luna_id',\"cat1\", \"cat1_cnt_sum\", \"ecdf\").dropDuplicates(['luna_id',\"cat1\"])\n",
    "    \n",
    "    ############################\n",
    "    ### IDF 기반 weight 계산 ###\n",
    "    ############################\n",
    "    data_dt_cnt = data.select(['luna_id','cat1','dt']).distinct().groupby(['luna_id','cat1']).agg(count(\"*\").alias(\"luna_cat1_cnt\"))\n",
    "    data_dt_cnt = data_dt_cnt.withColumn(\"df_weight\", 1/log(lit(dt_cnt) / col(\"luna_cat1_cnt\") + 1.0e-8))\n",
    "    data_dt_cnt = data_dt_cnt.withColumn(\"rev_df_weight\", 1.0/(1.0 + exp(-col(\"df_weight\"))))\n",
    "    \n",
    "    #### Merge ####\n",
    "    merge_data = result_df.dropna(subset=\"luna_id\").select(['luna_id','cat1','ecdf']).join(data_dt_cnt.select(['luna_id', 'cat1','rev_df_weight']),on=['luna_id','cat1'],how=\"left\")\n",
    "    merge_data = merge_data.withColumn('score', col('ecdf')*ecdf_wei + col('rev_df_weight')*(1-ecdf_wei))\n",
    "    merge_data = merge_data.filter(col(\"score\") >= thre).orderBy(desc(\"score\")).groupBy(\"luna_id\").agg(concat_ws(\", \",collect_set(\"cat1\")).alias(\"cat1_list\"))\n",
    "    merge_data = merge_data.withColumnRenamed(\"cat1_list\", col_names)\n",
    "    \n",
    "    return merge_data\n",
    "\n",
    "def calculate_days(start_date, end_date):\n",
    "    date_range = pd.date_range(start=start_date, end=end_date)\n",
    "    total_days = len(date_range)\n",
    "    weekend_days = date_range.to_series().map(lambda x: x.weekday() >= 5).sum()\n",
    "    weekday_days = total_days - weekend_days\n",
    "    return total_days, int(weekend_days), int(weekday_days)"
   ]
  },
  {
   "cell_type": "markdown",
   "id": "a4db68ef-3781-4d45-8e71-17a6663a83ee",
   "metadata": {},
   "source": [
    "# 프로파일 : adot"
   ]
  },
  {
   "cell_type": "code",
   "execution_count": 11,
   "id": "a45fd9bf-f169-4975-ba44-e07781779a98",
   "metadata": {
    "execution": {
     "iopub.execute_input": "2024-06-27T08:13:29.571060Z",
     "iopub.status.busy": "2024-06-27T08:13:29.570330Z",
     "iopub.status.idle": "2024-06-27T08:13:29.580392Z",
     "shell.execute_reply": "2024-06-27T08:13:29.579489Z",
     "shell.execute_reply.started": "2024-06-27T08:13:29.571003Z"
    },
    "tags": []
   },
   "outputs": [
    {
     "name": "stdout",
     "output_type": "stream",
     "text": [
      "DT :  2024-06-26\n",
      "DT_threshold :  2024-04-27\n",
      "DT_threshold :  2024-06-19\n"
     ]
    }
   ],
   "source": [
    "# DT = \"2024-06-02\"\n",
    "current_date = datetime.strptime(DT, \"%Y-%m-%d\") - timedelta(days=1)\n",
    "DT_threshold1 = (current_date - timedelta(days=59)).strftime(\"%Y-%m-%d\")\n",
    "DT_threshold2 = (current_date - timedelta(days=6)).strftime(\"%Y-%m-%d\")\n",
    "\n",
    "print(\"DT : \", DT)\n",
    "print(\"DT_threshold : \", DT_threshold1)\n",
    "print(\"DT_threshold : \", DT_threshold2)"
   ]
  },
  {
   "cell_type": "code",
   "execution_count": 12,
   "id": "06cd646c-2f36-4318-984f-0ecec4225bff",
   "metadata": {
    "execution": {
     "iopub.execute_input": "2024-06-27T08:13:29.758831Z",
     "iopub.status.busy": "2024-06-27T08:13:29.758214Z",
     "iopub.status.idle": "2024-06-27T08:13:29.766202Z",
     "shell.execute_reply": "2024-06-27T08:13:29.765185Z",
     "shell.execute_reply.started": "2024-06-27T08:13:29.758777Z"
    },
    "tags": []
   },
   "outputs": [],
   "source": [
    "total_days, weekend_days, weekday_days = calculate_days(DT_threshold1, current_date.strftime(\"%Y-%m-%d\"))"
   ]
  },
  {
   "cell_type": "code",
   "execution_count": 13,
   "id": "170c0ea6-af85-4176-896a-1f8a2b99f469",
   "metadata": {
    "execution": {
     "iopub.execute_input": "2024-06-27T08:13:29.985599Z",
     "iopub.status.busy": "2024-06-27T08:13:29.984880Z",
     "iopub.status.idle": "2024-06-27T08:13:29.992739Z",
     "shell.execute_reply": "2024-06-27T08:13:29.991745Z",
     "shell.execute_reply.started": "2024-06-27T08:13:29.985544Z"
    },
    "tags": []
   },
   "outputs": [
    {
     "data": {
      "text/plain": [
       "(60, 18, 42)"
      ]
     },
     "execution_count": 13,
     "metadata": {},
     "output_type": "execute_result"
    }
   ],
   "source": [
    "total_days, weekend_days, weekday_days"
   ]
  },
  {
   "cell_type": "code",
   "execution_count": 14,
   "id": "4a3e1e90-d4f5-4fab-a14a-3fe4971eeb76",
   "metadata": {
    "execution": {
     "iopub.execute_input": "2024-06-27T08:13:30.386338Z",
     "iopub.status.busy": "2024-06-27T08:13:30.385663Z",
     "iopub.status.idle": "2024-06-27T08:13:30.392582Z",
     "shell.execute_reply": "2024-06-27T08:13:30.391381Z",
     "shell.execute_reply.started": "2024-06-27T08:13:30.386283Z"
    },
    "tags": []
   },
   "outputs": [],
   "source": [
    "# query_cat2 = f\"\"\"\n",
    "#     select *\n",
    "#     from adot_reco_dev.adot_cat2_cnt\n",
    "#     where dt >= '{DT_threshold1}'\n",
    "# \"\"\"\n",
    "\n",
    "query_cat1 = f\"\"\"\n",
    "    select *\n",
    "    from adot_reco_dev.adot_cat1_cnt\n",
    "    where dt >= '{DT_threshold1}'\n",
    "\"\"\"\n",
    "\n",
    "# query_item = f\"\"\"\n",
    "#     select *\n",
    "#     from adot_reco_dev.adot_item_cnt\n",
    "#     where dt >= '{DT_threshold2}'\n",
    "# \"\"\""
   ]
  },
  {
   "cell_type": "code",
   "execution_count": 15,
   "id": "5eb902fa-7786-405e-a1ec-36887b6458e4",
   "metadata": {
    "execution": {
     "iopub.execute_input": "2024-06-27T08:13:30.638503Z",
     "iopub.status.busy": "2024-06-27T08:13:30.637812Z",
     "iopub.status.idle": "2024-06-27T08:14:32.064382Z",
     "shell.execute_reply": "2024-06-27T08:14:32.062662Z",
     "shell.execute_reply.started": "2024-06-27T08:13:30.638450Z"
    },
    "tags": []
   },
   "outputs": [
    {
     "name": "stderr",
     "output_type": "stream",
     "text": [
      "Setting default log level to \"WARN\".\n",
      "To adjust logging level use sc.setLogLevel(newLevel). For SparkR, use setLogLevel(newLevel).\n",
      "24/06/27 17:14:04 WARN Client: Neither spark.yarn.jars nor spark.yarn.archive is set, falling back to uploading libraries under SPARK_HOME.\n",
      "24/06/27 17:14:27 WARN SQLConf: The SQL config 'spark.sql.execution.arrow.enabled' has been deprecated in Spark v3.0 and may be removed in the future. Use 'spark.sql.execution.arrow.pyspark.enabled' instead of it.\n",
      "----------------------------------------\n",
      "Exception happened during processing of request from ('127.0.0.1', 32771)\n",
      "Traceback (most recent call last):\n",
      "  File \"/usr/lib/python3.8/socketserver.py\", line 316, in _handle_request_noblock\n",
      "    self.process_request(request, client_address)\n",
      "  File \"/usr/lib/python3.8/socketserver.py\", line 347, in process_request\n",
      "    self.finish_request(request, client_address)\n",
      "  File \"/usr/lib/python3.8/socketserver.py\", line 360, in finish_request\n",
      "    self.RequestHandlerClass(request, client_address, self)\n",
      "  File \"/usr/lib/python3.8/socketserver.py\", line 747, in __init__\n",
      "    self.handle()\n",
      "  File \"/opt/spark/python/lib/pyspark.zip/pyspark/accumulators.py\", line 262, in handle\n",
      "    poll(accum_updates)\n",
      "  File \"/opt/spark/python/lib/pyspark.zip/pyspark/accumulators.py\", line 235, in poll\n",
      "    if func():\n",
      "  File \"/opt/spark/python/lib/pyspark.zip/pyspark/accumulators.py\", line 239, in accum_updates\n",
      "    num_updates = read_int(self.rfile)\n",
      "  File \"/opt/spark/python/lib/pyspark.zip/pyspark/serializers.py\", line 564, in read_int\n",
      "    raise EOFError\n",
      "EOFError\n",
      "----------------------------------------\n"
     ]
    }
   ],
   "source": [
    "# data_cat2 = bq_to_df(query_cat2)\n",
    "data_cat1 = bq_to_df(query_cat1)\n",
    "# data_item = bq_to_df(query_item)"
   ]
  },
  {
   "cell_type": "code",
   "execution_count": 16,
   "id": "e9f4d86a-c880-4d39-9fef-20a9243f7a1a",
   "metadata": {
    "execution": {
     "iopub.execute_input": "2024-06-27T08:14:32.068560Z",
     "iopub.status.busy": "2024-06-27T08:14:32.067791Z",
     "iopub.status.idle": "2024-06-27T08:14:38.489046Z",
     "shell.execute_reply": "2024-06-27T08:14:38.488328Z",
     "shell.execute_reply.started": "2024-06-27T08:14:32.068497Z"
    },
    "tags": []
   },
   "outputs": [
    {
     "name": "stderr",
     "output_type": "stream",
     "text": [
      "[Stage 0:>                                                          (0 + 1) / 1]\r"
     ]
    },
    {
     "name": "stdout",
     "output_type": "stream",
     "text": [
      "+--------------------+--------------------+----+------------------+--------+--------+----------+----------+\n",
      "|        svc_mgmt_num|             luna_id|cat2|              cat1|cat1_cnt|second_s|is_weekend|        dt|\n",
      "+--------------------+--------------------+----+------------------+--------+--------+----------+----------+\n",
      "|0f037d5a2f42ba8ab...|APL00000D1QENHBVQPS0|    |      apollo_radio|       1|   13_18|         1|2024-06-22|\n",
      "|98107bdf0577d2ac8...|APL00000CXD2M7KGYI2O|    |      apollo_alarm|       1|   21_24|         1|2024-06-22|\n",
      "|                null|APL00000DOEYDJI0LDKW|    |      apollo_radio|       1|   11_13|         1|2024-06-22|\n",
      "|52cc2bdc6157c97cc...|APL00000BLHBPJQJ4RNK|    |      apollo_radio|       1|    9_11|         0|2024-06-12|\n",
      "|5204e1b27da2f33a1...|APL00000D6M8ZFJVWLJ4|    |      apollo_radio|       1|     0_6|         0|2024-05-27|\n",
      "|2fd8fe1dadaca3d99...|APL00000D5310BS3WGSG|    |      apollo_radio|       1|   13_18|         0|2024-06-18|\n",
      "|8e7d69711b4196406...|APL00000DBAI6UF99GCG|    |      apollo_radio|       1|    9_11|         0|2024-05-22|\n",
      "|223799bd69e690c46...|APL00000BT8PICUK2TXC|    |apollo_anniversary|       1|    9_11|         0|2024-05-22|\n",
      "|5863013b5dc4c1569...|APL00000DGS8RDYAZW8W|    |      apollo_radio|       1|   11_13|         0|2024-05-22|\n",
      "|ffab8a027bcf64aa0...|APL00000BXJ1DT3RO0LC|    |      apollo_radio|       1|     6_9|         0|2024-06-13|\n",
      "+--------------------+--------------------+----+------------------+--------+--------+----------+----------+\n",
      "only showing top 10 rows\n",
      "\n"
     ]
    },
    {
     "name": "stderr",
     "output_type": "stream",
     "text": [
      "                                                                                \r"
     ]
    }
   ],
   "source": [
    "data_cat1.show(n=10)"
   ]
  },
  {
   "cell_type": "code",
   "execution_count": 17,
   "id": "886db97d-cd9a-4cf7-8ec8-468c9c632101",
   "metadata": {
    "execution": {
     "iopub.execute_input": "2024-06-27T08:14:38.490334Z",
     "iopub.status.busy": "2024-06-27T08:14:38.489905Z",
     "iopub.status.idle": "2024-06-27T08:15:02.435680Z",
     "shell.execute_reply": "2024-06-27T08:15:02.434599Z",
     "shell.execute_reply.started": "2024-06-27T08:14:38.490309Z"
    },
    "tags": []
   },
   "outputs": [
    {
     "name": "stderr",
     "output_type": "stream",
     "text": [
      "[Stage 1:======================================================>  (26 + 1) / 27]\r"
     ]
    },
    {
     "name": "stdout",
     "output_type": "stream",
     "text": [
      "+--------+\n",
      "|second_s|\n",
      "+--------+\n",
      "|   13_18|\n",
      "|   21_24|\n",
      "|   18_21|\n",
      "|   11_13|\n",
      "|    9_11|\n",
      "|     0_6|\n",
      "|     6_9|\n",
      "+--------+\n",
      "\n"
     ]
    },
    {
     "name": "stderr",
     "output_type": "stream",
     "text": [
      "                                                                                \r"
     ]
    }
   ],
   "source": [
    "data_cat1.select('second_s').distinct().show()"
   ]
  },
  {
   "cell_type": "code",
   "execution_count": 18,
   "id": "b05f6373-4e63-444e-b9fa-5587e31625ec",
   "metadata": {
    "execution": {
     "iopub.execute_input": "2024-06-27T08:15:02.438320Z",
     "iopub.status.busy": "2024-06-27T08:15:02.437846Z",
     "iopub.status.idle": "2024-06-27T08:15:02.447692Z",
     "shell.execute_reply": "2024-06-27T08:15:02.446560Z",
     "shell.execute_reply.started": "2024-06-27T08:15:02.438283Z"
    },
    "tags": []
   },
   "outputs": [],
   "source": [
    "sevice_set = {'apollo_alarm':\"알람\", \"apollo_anniversary\":\"생일\", \"apollo_calendar\":\"캘린더\", \"apollo_calendar2\":\"특일정보\", \"apollo_call\":\"전화\", \"apollo_campaign\":\"캠페인\", \"apollo_character\":\"캐릭터꾸미기\",\n",
    "              \"apollo_chatgpt\":\"챗T\", \"apollo_congestion\":\"혼잡도\", \"apollo_cqa\":\"CQA\", \"apollo_dailycostume\":\"오늘뭐입지\", \"apollo_dictionary\":\"어학사전\", \"apollo_english\":\"튜터\", \"apollo_fortune\":\"운세\",\n",
    "              \"apollo_friendsbitna\":\"프렌즈_길빛나\", \"apollo_friendsharu\":\"프렌즈_강하루\", \"apollo_friendsj\":\"프렌즈_육제이\", \"apollo_game\":\"게임\", \"apollo_glm\":\"감성대화\", \"apollo_glmtosqa\":\"GLMtoSQA\", \"apollo_keep\":\"keep\",\n",
    "              \"apollo_liveqa\":\"LiveQA\", \"apollo_menu\":\"메뉴추천\", \"apollo_message\":\"문자\", \"apollo_mj\":\"맛집추천\", \"apollo_mno\":\"T서비스\", \"apollo_music\":\"음악\", \"apollo_mytv\":\"TV\", \"apollo_news\":\"뉴스\", \"apollo_photo\":\"포토\",\n",
    "              \"apollo_podcast\":\"팟캐스트\", \"apollo_qfeed\":\"큐피드\", \"apollo_quest\":\"퀘스트\", \"apollo_radio\":\"라디오\", \"apollo_recipe\":\"레시피\", \"apollo_reward\":\"리워드\", \"apollo_ring\":\"링\", \"apollo_routine\":\"루틴\",\n",
    "              \"apollo_samsungstock\":\"증권\", \"apollo_sleep\":\"sleep\", \"apollo_sports\":\"스포츠\", \"apollo_sqa\":\"SQA\", \"apollo_survey\":\"선호도조사\", \"apollo_time\":\"시간\", \"apollo_tmap\":\"TMAP\", \"apollo_tmembership\":\"T 멤버십\",\n",
    "              \"apollo_tworld\":\"T 월드\", \"apollo_video\":\"비디오\", \"apollo_weather\":\"날씨\", \"apollo_wordchain\":\"끝말잇기\", \"apollo_friends\":\"프렌즈톡\", \"apollo_media\":\"미디어\", \"apollo_qa\":\"대표발화\"}"
   ]
  },
  {
   "cell_type": "code",
   "execution_count": 19,
   "id": "c405e5a5-04da-4a20-9bd2-483a9b225389",
   "metadata": {
    "execution": {
     "iopub.execute_input": "2024-06-27T08:15:02.449594Z",
     "iopub.status.busy": "2024-06-27T08:15:02.449096Z",
     "iopub.status.idle": "2024-06-27T08:15:02.505602Z",
     "shell.execute_reply": "2024-06-27T08:15:02.504394Z",
     "shell.execute_reply.started": "2024-06-27T08:15:02.449560Z"
    },
    "tags": []
   },
   "outputs": [],
   "source": [
    "def adot_domain_to_text(adot_cat1):\n",
    "    if adot_cat1 in list(sevice_set.keys()):\n",
    "        return sevice_set[adot_cat1]\n",
    "    else:\n",
    "        return \"기타 서비스\"\n",
    "\n",
    "adot_domain_to_text_udf = udf(adot_domain_to_text, StringType())\n",
    "data_cat1 = data_cat1.withColumn(\"cat1\", adot_domain_to_text_udf(data_cat1[\"cat1\"]))"
   ]
  },
  {
   "cell_type": "markdown",
   "id": "abb5af39-4943-4485-a073-6496ea4e8d09",
   "metadata": {
    "tags": []
   },
   "source": [
    "## 전체, 주말, 주중(출근, 퇴근, 일과시간) 별 cat1 list 추출"
   ]
  },
  {
   "cell_type": "code",
   "execution_count": 20,
   "id": "73f42a47-df37-4f3f-b183-60550a57cac0",
   "metadata": {
    "execution": {
     "iopub.execute_input": "2024-06-27T08:15:02.507910Z",
     "iopub.status.busy": "2024-06-27T08:15:02.507283Z",
     "iopub.status.idle": "2024-06-27T08:15:02.512211Z",
     "shell.execute_reply": "2024-06-27T08:15:02.511180Z",
     "shell.execute_reply.started": "2024-06-27T08:15:02.507854Z"
    },
    "tags": []
   },
   "outputs": [],
   "source": [
    "# def adot_extract_profile(data, thre=0.6, ecdf_wei = 0.6, dt_cnt = 60, col_names='adot_cat1_total')\n",
    "# total_days, weekend_days, weekday_days"
   ]
  },
  {
   "cell_type": "code",
   "execution_count": 21,
   "id": "d8610c9e-6a7a-4353-92fe-5e183ba2db99",
   "metadata": {
    "execution": {
     "iopub.execute_input": "2024-06-27T08:15:02.514097Z",
     "iopub.status.busy": "2024-06-27T08:15:02.513549Z",
     "iopub.status.idle": "2024-06-27T08:15:04.158271Z",
     "shell.execute_reply": "2024-06-27T08:15:04.156932Z",
     "shell.execute_reply.started": "2024-06-27T08:15:02.514055Z"
    },
    "tags": []
   },
   "outputs": [],
   "source": [
    "total_data = adot_extract_profile(data_cat1, 0.5, 0.6, total_days , 'adot_cat1_total')\n",
    "total_data = total_data.join(adot_extract_profile(data_cat1.filter(col('is_weekend')==1), 0.4, 0.6, weekend_days, 'adot_cat1_weekend'),on=\"luna_id\",how=\"left\")\n",
    "total_data = total_data.join(adot_extract_profile(data_cat1.filter((col('is_weekend')==0) & (col('second_s')==\"6_9\")), 0.4, 0.6, weekday_days, 'adot_cat1_go_to_work'),on=\"luna_id\",how=\"left\")\n",
    "total_data = total_data.join(adot_extract_profile(data_cat1.filter((col('is_weekend')==0) & ((col('second_s')==\"18_21\") | (col('second_s')==\"21_24\"))), 0.4, 0.6, weekday_days, 'adot_cat1_leave_work'),on=\"luna_id\",how=\"left\")\n",
    "total_data = total_data.join(adot_extract_profile(data_cat1.filter((col('is_weekend')==0) & ((col('second_s')==\"9_11\") | (col('second_s')==\"11_13\") | (col('second_s')==\"13_18\"))), 0.4, 0.6, weekday_days, 'adot_cat1_working_hour'),on=\"luna_id\",how=\"left\")"
   ]
  },
  {
   "cell_type": "code",
   "execution_count": 22,
   "id": "f92ae07b-2c22-45e8-acdb-8290d7dd6e22",
   "metadata": {
    "execution": {
     "iopub.execute_input": "2024-06-27T08:15:04.160707Z",
     "iopub.status.busy": "2024-06-27T08:15:04.160059Z",
     "iopub.status.idle": "2024-06-27T08:15:04.178267Z",
     "shell.execute_reply": "2024-06-27T08:15:04.177312Z",
     "shell.execute_reply.started": "2024-06-27T08:15:04.160651Z"
    },
    "tags": []
   },
   "outputs": [
    {
     "data": {
      "text/plain": [
       "['luna_id',\n",
       " 'adot_cat1_total',\n",
       " 'adot_cat1_weekend',\n",
       " 'adot_cat1_go_to_work',\n",
       " 'adot_cat1_leave_work',\n",
       " 'adot_cat1_working_hour']"
      ]
     },
     "execution_count": 22,
     "metadata": {},
     "output_type": "execute_result"
    }
   ],
   "source": [
    "total_data.columns"
   ]
  },
  {
   "cell_type": "markdown",
   "id": "c58fe707-ce64-4ff8-9a1e-f19d934b5f9f",
   "metadata": {},
   "source": [
    "## Profile text 화"
   ]
  },
  {
   "cell_type": "code",
   "execution_count": 2,
   "id": "36fe2db0-3bbc-49cb-8e05-622efbac792e",
   "metadata": {
    "execution": {
     "iopub.execute_input": "2024-06-28T00:15:43.723104Z",
     "iopub.status.busy": "2024-06-28T00:15:43.722031Z",
     "iopub.status.idle": "2024-06-28T00:15:47.332382Z",
     "shell.execute_reply": "2024-06-28T00:15:47.331203Z",
     "shell.execute_reply.started": "2024-06-28T00:15:43.723040Z"
    },
    "tags": []
   },
   "outputs": [
    {
     "name": "stdout",
     "output_type": "stream",
     "text": [
      "Warning: exception on print statistics\n",
      "unsupported operand type(s) for /: 'NoneType' and 'int'\n"
     ]
    },
    {
     "name": "stderr",
     "output_type": "stream",
     "text": [
      "/usr/local/lib/python3.8/dist-packages/google/cloud/bigquery/table.py:2309: UserWarning: Unable to represent RANGE schema as struct using pandas ArrowDtype. Using `object` instead. To use ArrowDtype, use pandas >= 1.5 and pyarrow >= 10.0.1.\n",
      "  warnings.warn(_RANGE_PYARROW_WARNING)\n",
      "/usr/local/lib/python3.8/dist-packages/google/cloud/bigquery/table.py:2323: UserWarning: Unable to represent RANGE schema as struct using pandas ArrowDtype. Using `object` instead. To use ArrowDtype, use pandas >= 1.5 and pyarrow >= 10.0.1.\n",
      "  warnings.warn(_RANGE_PYARROW_WARNING)\n",
      "/usr/local/lib/python3.8/dist-packages/google/cloud/bigquery/table.py:2337: UserWarning: Unable to represent RANGE schema as struct using pandas ArrowDtype. Using `object` instead. To use ArrowDtype, use pandas >= 1.5 and pyarrow >= 10.0.1.\n",
      "  warnings.warn(_RANGE_PYARROW_WARNING)\n"
     ]
    },
    {
     "name": "stdout",
     "output_type": "stream",
     "text": [
      "Downloading: 100%|\u001b[32m██████████\u001b[0m|\n"
     ]
    }
   ],
   "source": [
    "profile_template = bq_to_pandas(\"select * from adot_reco_dev.profile_template\")"
   ]
  },
  {
   "cell_type": "code",
   "execution_count": 23,
   "id": "d71ecc50-10fb-45b2-9340-7dadde4e5177",
   "metadata": {
    "execution": {
     "iopub.execute_input": "2024-06-27T08:16:21.176439Z",
     "iopub.status.busy": "2024-06-27T08:16:21.175695Z",
     "iopub.status.idle": "2024-06-27T08:16:21.222966Z",
     "shell.execute_reply": "2024-06-27T08:16:21.221810Z",
     "shell.execute_reply.started": "2024-06-27T08:16:21.176380Z"
    },
    "tags": []
   },
   "outputs": [],
   "source": [
    "template = list(profile_template[profile_template['source_domain']==\"adot\"].template)[0]\n",
    "\n",
    "def profile_text(adot_cat1):\n",
    "    return template.format(cat1_profile=adot_cat1)\n",
    "\n",
    "profile_text_udf = udf(profile_text, StringType())\n",
    "total_data = total_data.withColumn(\"adot_profile\", profile_text_udf(total_data[\"adot_cat1_total\"]))"
   ]
  },
  {
   "cell_type": "code",
   "execution_count": 25,
   "id": "d565b0f0-5f4d-4f50-b63a-e7b43a12e6ff",
   "metadata": {
    "execution": {
     "iopub.execute_input": "2024-06-27T08:18:22.623668Z",
     "iopub.status.busy": "2024-06-27T08:18:22.622799Z",
     "iopub.status.idle": "2024-06-27T08:18:22.634165Z",
     "shell.execute_reply": "2024-06-27T08:18:22.633013Z",
     "shell.execute_reply.started": "2024-06-27T08:18:22.623592Z"
    },
    "tags": []
   },
   "outputs": [
    {
     "data": {
      "text/plain": [
       "['luna_id',\n",
       " 'adot_cat1_total',\n",
       " 'adot_cat1_weekend',\n",
       " 'adot_cat1_go_to_work',\n",
       " 'adot_cat1_leave_work',\n",
       " 'adot_cat1_working_hour',\n",
       " 'adot_profile']"
      ]
     },
     "execution_count": 25,
     "metadata": {},
     "output_type": "execute_result"
    },
    {
     "name": "stderr",
     "output_type": "stream",
     "text": [
      "[Stage 4:=> (21 + 8) / 52][Stage 5:>   (0 + 0) / 52][Stage 6:>   (0 + 0) / 52]\r"
     ]
    }
   ],
   "source": [
    "total_data.columns"
   ]
  },
  {
   "cell_type": "code",
   "execution_count": 4,
   "id": "d93d6cb8-f621-4bbe-a0c2-abe2ec108ff3",
   "metadata": {
    "execution": {
     "iopub.execute_input": "2024-06-28T00:15:57.639302Z",
     "iopub.status.busy": "2024-06-28T00:15:57.638497Z",
     "iopub.status.idle": "2024-06-28T00:15:57.659916Z",
     "shell.execute_reply": "2024-06-28T00:15:57.658970Z",
     "shell.execute_reply.started": "2024-06-28T00:15:57.639242Z"
    },
    "tags": []
   },
   "outputs": [
    {
     "data": {
      "text/html": [
       "<div>\n",
       "<style scoped>\n",
       "    .dataframe tbody tr th:only-of-type {\n",
       "        vertical-align: middle;\n",
       "    }\n",
       "\n",
       "    .dataframe tbody tr th {\n",
       "        vertical-align: top;\n",
       "    }\n",
       "\n",
       "    .dataframe thead th {\n",
       "        text-align: right;\n",
       "    }\n",
       "</style>\n",
       "<table border=\"1\" class=\"dataframe\">\n",
       "  <thead>\n",
       "    <tr style=\"text-align: right;\">\n",
       "      <th></th>\n",
       "      <th>template</th>\n",
       "      <th>source_domain</th>\n",
       "      <th>target_domain</th>\n",
       "      <th>dt</th>\n",
       "      <th>property</th>\n",
       "    </tr>\n",
       "  </thead>\n",
       "  <tbody>\n",
       "    <tr>\n",
       "      <th>0</th>\n",
       "      <td>저는 에이닷 서비스 중 주로 {cat1_profile} 서비스를 사용했어요</td>\n",
       "      <td>adot</td>\n",
       "      <td>adot</td>\n",
       "      <td>2024-06-27</td>\n",
       "      <td>None</td>\n",
       "    </tr>\n",
       "    <tr>\n",
       "      <th>1</th>\n",
       "      <td>저는 주로 {cat1_profile} 카테고리와 관련된 앱을 사용했어요</td>\n",
       "      <td>xtr</td>\n",
       "      <td>adot</td>\n",
       "      <td>2024-06-27</td>\n",
       "      <td>None</td>\n",
       "    </tr>\n",
       "    <tr>\n",
       "      <th>2</th>\n",
       "      <td>저는 이동 시 주로 {cat1_profile} 관련 장소 중 {item_profil...</td>\n",
       "      <td>tmap</td>\n",
       "      <td>adot</td>\n",
       "      <td>2024-06-27</td>\n",
       "      <td>None</td>\n",
       "    </tr>\n",
       "    <tr>\n",
       "      <th>3</th>\n",
       "      <td>평소 {longterm_profile} 관련 용품 구매에 관심</td>\n",
       "      <td>tdeal</td>\n",
       "      <td>adot</td>\n",
       "      <td>2024-06-27</td>\n",
       "      <td>long</td>\n",
       "    </tr>\n",
       "    <tr>\n",
       "      <th>4</th>\n",
       "      <td>최근 {shortterm_profile} 관련 용품 구매</td>\n",
       "      <td>tdeal</td>\n",
       "      <td>adot</td>\n",
       "      <td>2024-06-27</td>\n",
       "      <td>short</td>\n",
       "    </tr>\n",
       "    <tr>\n",
       "      <th>5</th>\n",
       "      <td>특징: {state_profile}</td>\n",
       "      <td>tdeal</td>\n",
       "      <td>adot</td>\n",
       "      <td>2024-06-27</td>\n",
       "      <td>state</td>\n",
       "    </tr>\n",
       "  </tbody>\n",
       "</table>\n",
       "</div>"
      ],
      "text/plain": [
       "                                            template source_domain  \\\n",
       "0          저는 에이닷 서비스 중 주로 {cat1_profile} 서비스를 사용했어요          adot   \n",
       "1            저는 주로 {cat1_profile} 카테고리와 관련된 앱을 사용했어요           xtr   \n",
       "2  저는 이동 시 주로 {cat1_profile} 관련 장소 중 {item_profil...          tmap   \n",
       "3                 평소 {longterm_profile} 관련 용품 구매에 관심         tdeal   \n",
       "4                    최근 {shortterm_profile} 관련 용품 구매         tdeal   \n",
       "5                                특징: {state_profile}         tdeal   \n",
       "\n",
       "  target_domain          dt property  \n",
       "0          adot  2024-06-27     None  \n",
       "1          adot  2024-06-27     None  \n",
       "2          adot  2024-06-27     None  \n",
       "3          adot  2024-06-27     long  \n",
       "4          adot  2024-06-27    short  \n",
       "5          adot  2024-06-27    state  "
      ]
     },
     "execution_count": 4,
     "metadata": {},
     "output_type": "execute_result"
    }
   ],
   "source": [
    "profile_template"
   ]
  },
  {
   "cell_type": "markdown",
   "id": "1c246162-6f43-4f53-a288-9a8137fca784",
   "metadata": {},
   "source": [
    "### AIDP 저장"
   ]
  },
  {
   "cell_type": "code",
   "execution_count": 26,
   "id": "bb1b5e4f-4313-494f-8759-0b94aeeb4bc6",
   "metadata": {
    "execution": {
     "iopub.execute_input": "2024-06-27T08:18:24.802763Z",
     "iopub.status.busy": "2024-06-27T08:18:24.801318Z",
     "iopub.status.idle": "2024-06-27T08:18:24.808269Z",
     "shell.execute_reply": "2024-06-27T08:18:24.806940Z",
     "shell.execute_reply.started": "2024-06-27T08:18:24.802687Z"
    },
    "tags": []
   },
   "outputs": [],
   "source": [
    "dest_dataset = \"x1113099\"\n",
    "partitioned_dest_table = \"user_retrieval_profile_adot_text\""
   ]
  },
  {
   "cell_type": "code",
   "execution_count": 27,
   "id": "eb39d93a-b48d-49a4-862f-ecb160f56644",
   "metadata": {
    "execution": {
     "iopub.execute_input": "2024-06-27T08:18:25.294677Z",
     "iopub.status.busy": "2024-06-27T08:18:25.293892Z",
     "iopub.status.idle": "2024-06-27T08:18:27.228965Z",
     "shell.execute_reply": "2024-06-27T08:18:27.227831Z",
     "shell.execute_reply.started": "2024-06-27T08:18:25.294619Z"
    },
    "tags": []
   },
   "outputs": [
    {
     "name": "stderr",
     "output_type": "stream",
     "text": [
      "[Stage 4:=> (22 + 8) / 52][Stage 5:>   (0 + 0) / 52][Stage 6:>   (0 + 0) / 52]\r"
     ]
    },
    {
     "name": "stdout",
     "output_type": "stream",
     "text": [
      "생성된 테이블 : x1113099.user_retrieval_profile_adot_text\n"
     ]
    }
   ],
   "source": [
    "get_bigquery_client().query(f\"\"\"\n",
    "    CREATE TABLE IF NOT EXISTS {dest_dataset}.{partitioned_dest_table}\n",
    "    (\n",
    "        luna_id STRING,\n",
    "        adot_cat1_total STRING,\n",
    "        adot_cat1_weekend STRING,\n",
    "        adot_cat1_go_to_work STRING,\n",
    "        adot_cat1_leave_work STRING,\n",
    "        adot_cat1_working_hours STRING,\n",
    "        adot_profile STRING\n",
    "    )\n",
    "\"\"\").result()\n",
    "\n",
    "print(f\"생성된 테이블 : {dest_dataset}.{partitioned_dest_table}\")"
   ]
  },
  {
   "cell_type": "code",
   "execution_count": 28,
   "id": "9087dbc1-a338-45f5-bc0a-1a0346cf3a4f",
   "metadata": {
    "execution": {
     "iopub.execute_input": "2024-06-27T08:18:27.230887Z",
     "iopub.status.busy": "2024-06-27T08:18:27.230557Z",
     "iopub.status.idle": "2024-06-27T08:51:08.758456Z",
     "shell.execute_reply": "2024-06-27T08:51:08.756564Z",
     "shell.execute_reply.started": "2024-06-27T08:18:27.230853Z"
    },
    "tags": []
   },
   "outputs": [
    {
     "name": "stderr",
     "output_type": "stream",
     "text": [
      "                                                                                \r"
     ]
    }
   ],
   "source": [
    "df_to_bq_table(df=total_data,\n",
    "               dataset=dest_dataset,\n",
    "               table_name=partitioned_dest_table,\n",
    "               mode=\"overwrite\")"
   ]
  },
  {
   "cell_type": "code",
   "execution_count": null,
   "id": "5fe41eed-65be-4490-ba12-5f76d5abeed7",
   "metadata": {},
   "outputs": [],
   "source": []
  },
  {
   "cell_type": "code",
   "execution_count": null,
   "id": "dbaee90e-5037-4179-8457-8d556336d095",
   "metadata": {},
   "outputs": [],
   "source": []
  },
  {
   "cell_type": "code",
   "execution_count": null,
   "id": "baa39f6f-9e3e-47a1-898c-5a69119ec816",
   "metadata": {},
   "outputs": [],
   "source": []
  },
  {
   "cell_type": "code",
   "execution_count": null,
   "id": "8d1da4e1-2e14-4634-9923-403d139bab5d",
   "metadata": {},
   "outputs": [],
   "source": []
  },
  {
   "cell_type": "code",
   "execution_count": null,
   "id": "241afd49-e2be-4896-860b-69a83a84940a",
   "metadata": {},
   "outputs": [],
   "source": []
  },
  {
   "cell_type": "code",
   "execution_count": null,
   "id": "56177797-fa3a-4682-8b27-96ca086a3ed9",
   "metadata": {},
   "outputs": [],
   "source": []
  },
  {
   "cell_type": "code",
   "execution_count": null,
   "id": "38f85985-6652-454c-888a-8aca12af67cf",
   "metadata": {},
   "outputs": [],
   "source": []
  },
  {
   "cell_type": "code",
   "execution_count": null,
   "id": "a2848c48-8061-4957-85b5-f520b0b478ae",
   "metadata": {},
   "outputs": [],
   "source": []
  },
  {
   "cell_type": "code",
   "execution_count": null,
   "id": "ecc275ee-94e6-4887-a87a-3a96127fdc79",
   "metadata": {},
   "outputs": [],
   "source": []
  },
  {
   "cell_type": "code",
   "execution_count": null,
   "id": "0dc45d1b-1764-4b87-8d31-0f235e888479",
   "metadata": {},
   "outputs": [],
   "source": []
  },
  {
   "cell_type": "code",
   "execution_count": null,
   "id": "4004242c-af8a-4fee-ba41-01f021d5be3d",
   "metadata": {},
   "outputs": [],
   "source": []
  },
  {
   "cell_type": "code",
   "execution_count": null,
   "id": "3af5796f-fd47-4d22-a432-4d559dc0e27a",
   "metadata": {},
   "outputs": [],
   "source": []
  },
  {
   "cell_type": "markdown",
   "id": "1f601b67-200d-4246-9126-d3b841bf204e",
   "metadata": {},
   "source": [
    "### ECDF 계산"
   ]
  },
  {
   "cell_type": "code",
   "execution_count": 8,
   "id": "170aaf5a-8682-4a16-b466-2e0d2896e6bf",
   "metadata": {
    "execution": {
     "iopub.execute_input": "2024-06-25T05:33:03.566024Z",
     "iopub.status.busy": "2024-06-25T05:33:03.565575Z",
     "iopub.status.idle": "2024-06-25T05:33:03.834801Z",
     "shell.execute_reply": "2024-06-25T05:33:03.833472Z",
     "shell.execute_reply.started": "2024-06-25T05:33:03.565993Z"
    },
    "tags": []
   },
   "outputs": [],
   "source": [
    "# 그룹별로 데이터 정렬\n",
    "windowSpec = Window.partitionBy(\"cat1\").orderBy(\"cat1_cnt_sum\").rowsBetween(Window.unboundedPreceding, 0)\n",
    "\n",
    "\n",
    "data_cat1_sum = data_cat1.groupBy([\"svc_mgmt_num\",\"luna_id\",\"cat1\"]).agg(sum('cat1_cnt').alias('cat1_cnt_sum'))\n",
    "\n",
    "# 그룹별로 값의 개수 세기\n",
    "count_by_group = data_cat1_sum.groupBy(\"cat1\").agg(count(\"*\").alias(\"count\"))\n",
    "\n",
    "# 원래 데이터프레임에 그룹별 카운트를 조인\n",
    "df_with_count = data_cat1_sum.join(count_by_group, on=\"cat1\", how=\"left\")\n",
    "\n",
    "# 누적합 계산\n",
    "df_with_cumsum = df_with_count.withColumn(\"cum_sum\", spark_sum(lit(1)).over(windowSpec))\n",
    "\n",
    "# ECDF 계산\n",
    "df_with_ecdf = df_with_cumsum.withColumn(\"ecdf\", col(\"cum_sum\") / col(\"count\"))\n",
    "\n",
    "# 필요한 열 선택\n",
    "result_df = df_with_ecdf.select('svc_mgmt_num','luna_id',\"cat1\", \"cat1_cnt_sum\", \"ecdf\")"
   ]
  },
  {
   "cell_type": "code",
   "execution_count": 9,
   "id": "b790e139-74b1-49ac-a674-6bfc22f242d6",
   "metadata": {
    "execution": {
     "iopub.execute_input": "2024-06-25T05:33:03.839566Z",
     "iopub.status.busy": "2024-06-25T05:33:03.838809Z",
     "iopub.status.idle": "2024-06-25T05:33:03.844468Z",
     "shell.execute_reply": "2024-06-25T05:33:03.843379Z",
     "shell.execute_reply.started": "2024-06-25T05:33:03.839506Z"
    },
    "tags": []
   },
   "outputs": [],
   "source": [
    "# result_df.show(n=10)"
   ]
  },
  {
   "cell_type": "code",
   "execution_count": 10,
   "id": "abeafaea-de60-4c59-8d2b-362782ffdee9",
   "metadata": {
    "execution": {
     "iopub.execute_input": "2024-06-25T05:33:03.846575Z",
     "iopub.status.busy": "2024-06-25T05:33:03.845859Z",
     "iopub.status.idle": "2024-06-25T05:33:03.854790Z",
     "shell.execute_reply": "2024-06-25T05:33:03.853908Z",
     "shell.execute_reply.started": "2024-06-25T05:33:03.846527Z"
    },
    "tags": []
   },
   "outputs": [],
   "source": [
    "# result_df.filter(col('cat1')==\"apollo_calendar\").orderBy(desc('ecdf')).show(n=10)"
   ]
  },
  {
   "cell_type": "markdown",
   "id": "bfce8ac2-b4b1-4056-bbe8-da0326ae10d3",
   "metadata": {},
   "source": [
    "### IDF 기반 weight 계산"
   ]
  },
  {
   "cell_type": "code",
   "execution_count": 11,
   "id": "b4877c64-61fa-42ba-8eec-e68ba1706ed8",
   "metadata": {
    "execution": {
     "iopub.execute_input": "2024-06-25T05:33:03.856191Z",
     "iopub.status.busy": "2024-06-25T05:33:03.855786Z",
     "iopub.status.idle": "2024-06-25T05:33:03.936451Z",
     "shell.execute_reply": "2024-06-25T05:33:03.935056Z",
     "shell.execute_reply.started": "2024-06-25T05:33:03.856159Z"
    },
    "tags": []
   },
   "outputs": [],
   "source": [
    "data_cat1_dt_cnt = data_cat1.select(['luna_id','cat1','dt']).distinct().groupby(['luna_id','cat1']).agg(count(\"*\").alias(\"luna_cat1_cnt\"))\n",
    "data_cat1_dt_cnt = data_cat1_dt_cnt.withColumn(\"df_weight\", 1/log(lit(60.0) / col(\"luna_cat1_cnt\") + 1.0e-8))"
   ]
  },
  {
   "cell_type": "code",
   "execution_count": 12,
   "id": "c5378fb4-a184-4b59-9faf-4c82fbc28e21",
   "metadata": {
    "execution": {
     "iopub.execute_input": "2024-06-25T05:33:03.938750Z",
     "iopub.status.busy": "2024-06-25T05:33:03.938101Z",
     "iopub.status.idle": "2024-06-25T05:33:03.943199Z",
     "shell.execute_reply": "2024-06-25T05:33:03.942213Z",
     "shell.execute_reply.started": "2024-06-25T05:33:03.938692Z"
    },
    "tags": []
   },
   "outputs": [],
   "source": [
    "# data_cat1_dt_cnt.show(n=10)"
   ]
  },
  {
   "cell_type": "code",
   "execution_count": 13,
   "id": "22959ee4-12ee-40d8-899e-8c9d1e8f702a",
   "metadata": {
    "execution": {
     "iopub.execute_input": "2024-06-25T05:33:03.944890Z",
     "iopub.status.busy": "2024-06-25T05:33:03.944422Z",
     "iopub.status.idle": "2024-06-25T05:33:03.979949Z",
     "shell.execute_reply": "2024-06-25T05:33:03.978721Z",
     "shell.execute_reply.started": "2024-06-25T05:33:03.944851Z"
    },
    "tags": []
   },
   "outputs": [],
   "source": [
    "# def logistic_function(x, k=1):\n",
    "#     return 1 / (1 + math.exp(-k * x))\n",
    "\n",
    "# # UDF로 등록\n",
    "# logistic_function_udf = udf(lambda x: logistic_function(x), DoubleType())\n",
    "\n",
    "# 새로운 열로 로지스틱 함수 적용\n",
    "# data_cat1_dt_cnt = data_cat1_dt_cnt.withColumn(\"rev_df_weight\", logistic_function_udf(col(\"df_weight\")))\n",
    "data_cat1_dt_cnt = data_cat1_dt_cnt.withColumn(\"rev_df_weight\", 1.0/(1.0 + exp(-col(\"df_weight\"))))"
   ]
  },
  {
   "cell_type": "code",
   "execution_count": 14,
   "id": "cc78e8ea-7cb8-40f1-83b9-78f6bb5312ff",
   "metadata": {
    "execution": {
     "iopub.execute_input": "2024-06-25T05:33:03.982094Z",
     "iopub.status.busy": "2024-06-25T05:33:03.981515Z",
     "iopub.status.idle": "2024-06-25T05:33:03.985431Z",
     "shell.execute_reply": "2024-06-25T05:33:03.984536Z",
     "shell.execute_reply.started": "2024-06-25T05:33:03.982066Z"
    },
    "tags": []
   },
   "outputs": [],
   "source": [
    "# data_cat1_dt_cnt.show(n=10)"
   ]
  },
  {
   "cell_type": "code",
   "execution_count": 15,
   "id": "fe34a9ce-35a7-4dfc-952f-03e5fd5429fa",
   "metadata": {
    "execution": {
     "iopub.execute_input": "2024-06-25T05:33:03.987720Z",
     "iopub.status.busy": "2024-06-25T05:33:03.986930Z",
     "iopub.status.idle": "2024-06-25T05:33:04.115951Z",
     "shell.execute_reply": "2024-06-25T05:33:04.114643Z",
     "shell.execute_reply.started": "2024-06-25T05:33:03.987676Z"
    },
    "tags": []
   },
   "outputs": [],
   "source": [
    "merge_data = result_df.dropna(subset=\"luna_id\").select(['luna_id','cat1','ecdf']).join(data_cat1_dt_cnt.select(['luna_id', 'cat1','rev_df_weight']),on=['luna_id','cat1'],how=\"left\")\n",
    "merge_data = merge_data.withColumn('score', col('ecdf')*0.6 + col('rev_df_weight')*0.4)\n",
    "merge_data1 = merge_data.filter(col(\"score\") >= 0.6).orderBy(desc(\"score\")).groupBy(\"luna_id\").agg(concat_ws(\",\",collect_list(\"cat1\")).alias(\"cat1_list\"))"
   ]
  },
  {
   "cell_type": "code",
   "execution_count": 16,
   "id": "b4886e74-d544-4b00-85c3-1c17eedbca16",
   "metadata": {
    "execution": {
     "iopub.execute_input": "2024-06-25T05:33:04.118396Z",
     "iopub.status.busy": "2024-06-25T05:33:04.117679Z",
     "iopub.status.idle": "2024-06-25T05:40:57.085161Z",
     "shell.execute_reply": "2024-06-25T05:40:57.083725Z",
     "shell.execute_reply.started": "2024-06-25T05:33:04.118311Z"
    },
    "tags": []
   },
   "outputs": [
    {
     "name": "stderr",
     "output_type": "stream",
     "text": [
      "                                                                                \r"
     ]
    }
   ],
   "source": [
    "merge_data1_pd = merge_data1.limit(100).toPandas()"
   ]
  },
  {
   "cell_type": "code",
   "execution_count": null,
   "id": "470a7a23-0138-45c7-abe6-a726739899e1",
   "metadata": {},
   "outputs": [],
   "source": []
  },
  {
   "cell_type": "code",
   "execution_count": 18,
   "id": "f63c0470-9492-43e7-8b95-c530990e5a83",
   "metadata": {
    "execution": {
     "iopub.execute_input": "2024-06-25T05:41:21.405885Z",
     "iopub.status.busy": "2024-06-25T05:41:21.405102Z",
     "iopub.status.idle": "2024-06-25T05:41:21.414691Z",
     "shell.execute_reply": "2024-06-25T05:41:21.413734Z",
     "shell.execute_reply.started": "2024-06-25T05:41:21.405823Z"
    },
    "tags": []
   },
   "outputs": [
    {
     "data": {
      "text/plain": [
       "'apollo_news,apollo_call,apollo_music,apollo_routine,apollo_game'"
      ]
     },
     "execution_count": 18,
     "metadata": {},
     "output_type": "execute_result"
    }
   ],
   "source": [
    "merge_data1_pd.loc[0,'cat1_list']"
   ]
  },
  {
   "cell_type": "code",
   "execution_count": 19,
   "id": "d93dd868-e878-4cd9-81dd-70ad3ffbe99f",
   "metadata": {
    "execution": {
     "iopub.execute_input": "2024-06-25T05:41:43.239582Z",
     "iopub.status.busy": "2024-06-25T05:41:43.238812Z",
     "iopub.status.idle": "2024-06-25T05:41:43.247683Z",
     "shell.execute_reply": "2024-06-25T05:41:43.246675Z",
     "shell.execute_reply.started": "2024-06-25T05:41:43.239521Z"
    },
    "tags": []
   },
   "outputs": [
    {
     "data": {
      "text/plain": [
       "'apollo_congestion'"
      ]
     },
     "execution_count": 19,
     "metadata": {},
     "output_type": "execute_result"
    }
   ],
   "source": [
    "merge_data1_pd.loc[1,'cat1_list']"
   ]
  },
  {
   "cell_type": "code",
   "execution_count": 20,
   "id": "8cc06d7c-e83c-412d-b4ef-b5568afa04c0",
   "metadata": {
    "execution": {
     "iopub.execute_input": "2024-06-25T05:41:49.504329Z",
     "iopub.status.busy": "2024-06-25T05:41:49.503579Z",
     "iopub.status.idle": "2024-06-25T05:41:49.520416Z",
     "shell.execute_reply": "2024-06-25T05:41:49.519525Z",
     "shell.execute_reply.started": "2024-06-25T05:41:49.504270Z"
    },
    "tags": []
   },
   "outputs": [
    {
     "data": {
      "text/html": [
       "<div>\n",
       "<style scoped>\n",
       "    .dataframe tbody tr th:only-of-type {\n",
       "        vertical-align: middle;\n",
       "    }\n",
       "\n",
       "    .dataframe tbody tr th {\n",
       "        vertical-align: top;\n",
       "    }\n",
       "\n",
       "    .dataframe thead th {\n",
       "        text-align: right;\n",
       "    }\n",
       "</style>\n",
       "<table border=\"1\" class=\"dataframe\">\n",
       "  <thead>\n",
       "    <tr style=\"text-align: right;\">\n",
       "      <th></th>\n",
       "      <th>luna_id</th>\n",
       "      <th>cat1_list</th>\n",
       "    </tr>\n",
       "  </thead>\n",
       "  <tbody>\n",
       "    <tr>\n",
       "      <th>0</th>\n",
       "      <td>APL00000BJ19IFQXK54W</td>\n",
       "      <td>apollo_news,apollo_call,apollo_music,apollo_ro...</td>\n",
       "    </tr>\n",
       "    <tr>\n",
       "      <th>1</th>\n",
       "      <td>APL00000BJ1GGZ9T2MM8</td>\n",
       "      <td>apollo_congestion</td>\n",
       "    </tr>\n",
       "    <tr>\n",
       "      <th>2</th>\n",
       "      <td>APL00000BJ3M81SBZEO0</td>\n",
       "      <td>apollo_music,apollo_congestion</td>\n",
       "    </tr>\n",
       "    <tr>\n",
       "      <th>3</th>\n",
       "      <td>APL00000BJ3T4RRPWT1C</td>\n",
       "      <td>apollo_weather,apollo_mno,apollo_news,apollo_r...</td>\n",
       "    </tr>\n",
       "    <tr>\n",
       "      <th>4</th>\n",
       "      <td>APL00000BJ450BY2BSOW</td>\n",
       "      <td>apollo_mno</td>\n",
       "    </tr>\n",
       "    <tr>\n",
       "      <th>5</th>\n",
       "      <td>APL00000BJ7880KK6QKG</td>\n",
       "      <td>apollo_mytv</td>\n",
       "    </tr>\n",
       "    <tr>\n",
       "      <th>6</th>\n",
       "      <td>APL00000BJB0ZL9A77K0</td>\n",
       "      <td>apollo_music</td>\n",
       "    </tr>\n",
       "    <tr>\n",
       "      <th>7</th>\n",
       "      <td>APL00000BJBSY57E9S00</td>\n",
       "      <td>apollo_mno</td>\n",
       "    </tr>\n",
       "    <tr>\n",
       "      <th>8</th>\n",
       "      <td>APL00000BJCAJNIZHBLS</td>\n",
       "      <td>apollo_fortune,apollo_routine,apollo_congestio...</td>\n",
       "    </tr>\n",
       "    <tr>\n",
       "      <th>9</th>\n",
       "      <td>APL00000BJEGDEVI6OLC</td>\n",
       "      <td>apollo_congestion</td>\n",
       "    </tr>\n",
       "    <tr>\n",
       "      <th>10</th>\n",
       "      <td>APL00000BJEUSHR47DHC</td>\n",
       "      <td>apollo_mytv,apollo_news,apollo_routine,apollo_...</td>\n",
       "    </tr>\n",
       "    <tr>\n",
       "      <th>11</th>\n",
       "      <td>APL00000BJEY9QQPCJR4</td>\n",
       "      <td>apollo_congestion</td>\n",
       "    </tr>\n",
       "    <tr>\n",
       "      <th>12</th>\n",
       "      <td>APL00000BJHVJ4FU2874</td>\n",
       "      <td>apollo_call,apollo_calendar</td>\n",
       "    </tr>\n",
       "    <tr>\n",
       "      <th>13</th>\n",
       "      <td>APL00000BJIZOEPWJTHC</td>\n",
       "      <td>apollo_congestion</td>\n",
       "    </tr>\n",
       "    <tr>\n",
       "      <th>14</th>\n",
       "      <td>APL00000BJL2ESAK2QRK</td>\n",
       "      <td>apollo_tmap,apollo_mno,apollo_calendar2,apollo...</td>\n",
       "    </tr>\n",
       "    <tr>\n",
       "      <th>15</th>\n",
       "      <td>APL00000BJMRVO3OQHOG</td>\n",
       "      <td>apollo_calendar</td>\n",
       "    </tr>\n",
       "    <tr>\n",
       "      <th>16</th>\n",
       "      <td>APL00000BJN49US9G0LC</td>\n",
       "      <td>apollo_call,apollo_routine</td>\n",
       "    </tr>\n",
       "    <tr>\n",
       "      <th>17</th>\n",
       "      <td>APL00000BJQDV74KI29S</td>\n",
       "      <td>apollo_congestion,apollo_game,apollo_chatgpt,a...</td>\n",
       "    </tr>\n",
       "    <tr>\n",
       "      <th>18</th>\n",
       "      <td>APL00000BJQEBVWAUHVK</td>\n",
       "      <td>apollo_photo</td>\n",
       "    </tr>\n",
       "    <tr>\n",
       "      <th>19</th>\n",
       "      <td>APL00000BJQEIS7ZY8SG</td>\n",
       "      <td>apollo_tmap,apollo_mno,apollo_samsungstock</td>\n",
       "    </tr>\n",
       "  </tbody>\n",
       "</table>\n",
       "</div>"
      ],
      "text/plain": [
       "                 luna_id                                          cat1_list\n",
       "0   APL00000BJ19IFQXK54W  apollo_news,apollo_call,apollo_music,apollo_ro...\n",
       "1   APL00000BJ1GGZ9T2MM8                                  apollo_congestion\n",
       "2   APL00000BJ3M81SBZEO0                     apollo_music,apollo_congestion\n",
       "3   APL00000BJ3T4RRPWT1C  apollo_weather,apollo_mno,apollo_news,apollo_r...\n",
       "4   APL00000BJ450BY2BSOW                                         apollo_mno\n",
       "5   APL00000BJ7880KK6QKG                                        apollo_mytv\n",
       "6   APL00000BJB0ZL9A77K0                                       apollo_music\n",
       "7   APL00000BJBSY57E9S00                                         apollo_mno\n",
       "8   APL00000BJCAJNIZHBLS  apollo_fortune,apollo_routine,apollo_congestio...\n",
       "9   APL00000BJEGDEVI6OLC                                  apollo_congestion\n",
       "10  APL00000BJEUSHR47DHC  apollo_mytv,apollo_news,apollo_routine,apollo_...\n",
       "11  APL00000BJEY9QQPCJR4                                  apollo_congestion\n",
       "12  APL00000BJHVJ4FU2874                        apollo_call,apollo_calendar\n",
       "13  APL00000BJIZOEPWJTHC                                  apollo_congestion\n",
       "14  APL00000BJL2ESAK2QRK  apollo_tmap,apollo_mno,apollo_calendar2,apollo...\n",
       "15  APL00000BJMRVO3OQHOG                                    apollo_calendar\n",
       "16  APL00000BJN49US9G0LC                         apollo_call,apollo_routine\n",
       "17  APL00000BJQDV74KI29S  apollo_congestion,apollo_game,apollo_chatgpt,a...\n",
       "18  APL00000BJQEBVWAUHVK                                       apollo_photo\n",
       "19  APL00000BJQEIS7ZY8SG         apollo_tmap,apollo_mno,apollo_samsungstock"
      ]
     },
     "execution_count": 20,
     "metadata": {},
     "output_type": "execute_result"
    }
   ],
   "source": [
    "merge_data1_pd.head(20)"
   ]
  },
  {
   "cell_type": "code",
   "execution_count": null,
   "id": "d60c9e3b-a736-4a45-9cd7-7cee3191c624",
   "metadata": {},
   "outputs": [],
   "source": []
  },
  {
   "cell_type": "code",
   "execution_count": null,
   "id": "c6635347-dd3d-4980-bf74-46be45f5e902",
   "metadata": {},
   "outputs": [],
   "source": []
  }
 ],
 "metadata": {
  "kernelspec": {
   "display_name": "Python 3 (ipykernel)",
   "language": "python",
   "name": "python3"
  },
  "language_info": {
   "codemirror_mode": {
    "name": "ipython",
    "version": 3
   },
   "file_extension": ".py",
   "mimetype": "text/x-python",
   "name": "python",
   "nbconvert_exporter": "python",
   "pygments_lexer": "ipython3",
   "version": "3.8.19"
  }
 },
 "nbformat": 4,
 "nbformat_minor": 5
}
