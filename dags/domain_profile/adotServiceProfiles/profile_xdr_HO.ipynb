{
 "cells": [
  {
   "cell_type": "code",
   "execution_count": 35,
   "id": "afa07610-8fe8-4d61-8bfc-f93546444825",
   "metadata": {
    "execution": {
     "iopub.execute_input": "2024-06-28T00:06:01.476931Z",
     "iopub.status.busy": "2024-06-28T00:06:01.475927Z",
     "iopub.status.idle": "2024-06-28T00:06:01.485659Z",
     "shell.execute_reply": "2024-06-28T00:06:01.484083Z",
     "shell.execute_reply.started": "2024-06-28T00:06:01.476854Z"
    },
    "tags": []
   },
   "outputs": [],
   "source": [
    "# # # Parameters\n",
    "DT = \"2024-06-26\"   "
   ]
  },
  {
   "cell_type": "markdown",
   "id": "363b08fe-586b-4b37-9a98-dbee9c39d641",
   "metadata": {},
   "source": [
    "## **One Model Profile 생성 작업**"
   ]
  },
  {
   "cell_type": "markdown",
   "id": "6e8bbfe0-3d1d-41ea-b97d-3394ad548dcf",
   "metadata": {
    "execution": {
     "iopub.execute_input": "2024-06-03T23:07:29.647241Z",
     "iopub.status.busy": "2024-06-03T23:07:29.646408Z",
     "iopub.status.idle": "2024-06-03T23:07:29.655344Z",
     "shell.execute_reply": "2024-06-03T23:07:29.654108Z",
     "shell.execute_reply.started": "2024-06-03T23:07:29.647184Z"
    },
    "tags": []
   },
   "source": [
    "- 개요\n",
    "    - One Model Profile 생성 작업\n",
    "- 내용\n",
    "    - item, cat1, cat2 level로 프로파일링 작업 수행\n",
    "    - 단기 preference 정보\n",
    "        - 7일 내 item 정보를 통해서 생성\n",
    "        - 이때, item은 정규화 로직을 통해 추출된 단어 기반으로 최종 단어들은 추출\n",
    "    - 장기 preference 정보\n",
    "        - 60일 내 cat1, cat2 정보를 통해서 생성\n",
    "        - cat2가 더 상위 레벨임. 어떤 레벨로 장기 구성할지 선택 필요- 내용- 내용"
   ]
  },
  {
   "cell_type": "code",
   "execution_count": 36,
   "id": "f400f032-be1d-409d-82c1-914745945958",
   "metadata": {
    "execution": {
     "iopub.execute_input": "2024-06-28T00:06:02.016469Z",
     "iopub.status.busy": "2024-06-28T00:06:02.015652Z",
     "iopub.status.idle": "2024-06-28T00:06:02.027038Z",
     "shell.execute_reply": "2024-06-28T00:06:02.025869Z",
     "shell.execute_reply.started": "2024-06-28T00:06:02.016409Z"
    },
    "tags": []
   },
   "outputs": [],
   "source": [
    "from skt.gcp import get_bigquery_client, bq_insert_overwrite, get_max_part, bq_to_df, bq_to_pandas, pandas_to_bq_table, load_query_result_to_table, df_to_bq_table\n",
    "from pyspark.sql.functions import *\n",
    "from pyspark.sql.window import Window\n",
    "from pyspark.sql.functions import row_number, col, lit, count, log, exp, sum as spark_sum\n",
    "from pyspark.sql import functions as F\n",
    "from datetime import datetime, date, timedelta\n",
    "from skt.ye import get_spark\n",
    "import pandas as pd\n",
    "import re\n",
    "from sklearn.feature_extraction.text import TfidfVectorizer\n",
    "import numpy as np\n",
    "import math\n",
    "from pyspark.sql.types import DoubleType"
   ]
  },
  {
   "cell_type": "code",
   "execution_count": 37,
   "id": "833d4a36-7a7f-4587-b170-a6c3904d41ea",
   "metadata": {
    "execution": {
     "iopub.execute_input": "2024-06-28T00:06:02.202695Z",
     "iopub.status.busy": "2024-06-28T00:06:02.201881Z",
     "iopub.status.idle": "2024-06-28T00:06:02.221150Z",
     "shell.execute_reply": "2024-06-28T00:06:02.220563Z",
     "shell.execute_reply.started": "2024-06-28T00:06:02.202634Z"
    },
    "tags": []
   },
   "outputs": [],
   "source": [
    "def xdr_extract_profile(data, thre=0.6, ecdf_wei = 0.6, dt_cnt = 60, col_names1='xdr_cat1_total', col_names2='xdr_cat2_total'):\n",
    "    #################\n",
    "    ### ECDF 계산 ###\n",
    "    #################\n",
    "    \n",
    "    # 그룹별로 데이터 정렬\n",
    "    windowSpec = Window.partitionBy(\"cat1\").orderBy(\"cat1_cnt_sum\").rowsBetween(Window.unboundedPreceding, 0)\n",
    "\n",
    "\n",
    "    data_sum = data.groupBy([\"svc_mgmt_num\",\"luna_id\",\"cat1\"]).agg(sum('cat1_cnt').alias('cat1_cnt_sum'))\n",
    "\n",
    "    # 그룹별로 값의 개수 세기\n",
    "    count_by_group = data_sum.groupBy(\"cat1\").agg(count(\"*\").alias(\"count\"))\n",
    "\n",
    "    # 원래 데이터프레임에 그룹별 카운트를 조인\n",
    "    df_with_count = data_sum.join(count_by_group, on=\"cat1\", how=\"left\")\n",
    "\n",
    "    # 누적합 계산\n",
    "    df_with_cumsum = df_with_count.withColumn(\"cum_sum\", spark_sum(lit(1)).over(windowSpec))\n",
    "\n",
    "    # ECDF 계산\n",
    "    df_with_ecdf = df_with_cumsum.withColumn(\"ecdf\", col(\"cum_sum\") / col(\"count\"))\n",
    "\n",
    "    # 필요한 열 선택\n",
    "    result_df = df_with_ecdf.select('svc_mgmt_num','luna_id',\"cat1\", \"cat1_cnt_sum\", \"ecdf\").dropDuplicates(['luna_id',\"cat1\"])\n",
    "    \n",
    "    ############################\n",
    "    ### IDF 기반 weight 계산 ###\n",
    "    ############################\n",
    "    data_dt_cnt = data.select(['luna_id','cat1','dt']).distinct().groupby(['luna_id','cat1']).agg(count(\"*\").alias(\"luna_cat1_cnt\"))\n",
    "    data_dt_cnt = data_dt_cnt.withColumn(\"df_weight\", 1/log(lit(dt_cnt) / col(\"luna_cat1_cnt\") + 1.0e-8))\n",
    "    data_dt_cnt = data_dt_cnt.withColumn(\"rev_df_weight\", 1.0/(1.0 + exp(-col(\"df_weight\"))))\n",
    "    \n",
    "    #### Merge ####\n",
    "    merge_data = result_df.dropna(subset=\"luna_id\").select(['luna_id','cat1','ecdf']).join(data_dt_cnt.select(['luna_id', 'cat1','rev_df_weight']),on=['luna_id','cat1'],how=\"left\")\n",
    "    merge_data = merge_data.withColumn('score', col('ecdf')*ecdf_wei + col('rev_df_weight')*(1-ecdf_wei))\n",
    "    \n",
    "    data_cat1_distinct = data_cat1.select(['cat1','cat2']).distinct()\n",
    "    merge_data = merge_data.join(data_cat1_distinct, on=\"cat1\", how=\"left\")\n",
    "    \n",
    "    window_spec = Window.partitionBy(['luna_id']).orderBy(desc('score'))\n",
    "    merge_data = merge_data.withColumn(\"rank\", row_number().over(window_spec)) \\\n",
    "                    .filter(col(\"rank\") <= 10) \\\n",
    "                    .drop(\"rank\")\n",
    "    \n",
    "    merge_data = merge_data.filter(col(\"score\") >= thre).orderBy(desc(\"score\")).groupBy(\"luna_id\").agg(concat_ws(\",\",collect_set(\"cat1\")).alias(\"cat1_list\"), concat_ws(\",\",collect_set(\"cat2\")).alias(\"cat2_list\"))\n",
    "    merge_data = merge_data.withColumnRenamed(\"cat1_list\", col_names1)\n",
    "    merge_data = merge_data.withColumnRenamed(\"cat2_list\", col_names2)\n",
    "    \n",
    "    return merge_data\n",
    "\n",
    "def calculate_days(start_date, end_date):\n",
    "    date_range = pd.date_range(start=start_date, end=end_date)\n",
    "    total_days = len(date_range)\n",
    "    weekend_days = date_range.to_series().map(lambda x: x.weekday() >= 5).sum()\n",
    "    weekday_days = total_days - weekend_days\n",
    "    return total_days, int(weekend_days), int(weekday_days)"
   ]
  },
  {
   "cell_type": "markdown",
   "id": "a4db68ef-3781-4d45-8e71-17a6663a83ee",
   "metadata": {},
   "source": [
    "# 프로파일 : xdr"
   ]
  },
  {
   "cell_type": "code",
   "execution_count": 38,
   "id": "a45fd9bf-f169-4975-ba44-e07781779a98",
   "metadata": {
    "execution": {
     "iopub.execute_input": "2024-06-28T00:06:02.521411Z",
     "iopub.status.busy": "2024-06-28T00:06:02.520710Z",
     "iopub.status.idle": "2024-06-28T00:06:02.530099Z",
     "shell.execute_reply": "2024-06-28T00:06:02.529174Z",
     "shell.execute_reply.started": "2024-06-28T00:06:02.521331Z"
    },
    "tags": []
   },
   "outputs": [
    {
     "name": "stdout",
     "output_type": "stream",
     "text": [
      "DT :  2024-06-26\n",
      "DT_threshold :  2024-05-26\n",
      "DT_threshold :  2024-06-18\n"
     ]
    }
   ],
   "source": [
    "# DT = \"2024-06-02\"\n",
    "current_date = datetime.strptime(DT, \"%Y-%m-%d\") - timedelta(days=2)\n",
    "DT_threshold1 = (current_date - timedelta(days=29)).strftime(\"%Y-%m-%d\")\n",
    "DT_threshold2 = (current_date - timedelta(days=6)).strftime(\"%Y-%m-%d\")\n",
    "\n",
    "print(\"DT : \", DT)\n",
    "print(\"DT_threshold : \", DT_threshold1)\n",
    "print(\"DT_threshold : \", DT_threshold2)"
   ]
  },
  {
   "cell_type": "code",
   "execution_count": 39,
   "id": "c78779d6-f895-4118-ab9f-e821db8f857b",
   "metadata": {
    "execution": {
     "iopub.execute_input": "2024-06-28T00:06:02.682234Z",
     "iopub.status.busy": "2024-06-28T00:06:02.681538Z",
     "iopub.status.idle": "2024-06-28T00:06:02.693376Z",
     "shell.execute_reply": "2024-06-28T00:06:02.692596Z",
     "shell.execute_reply.started": "2024-06-28T00:06:02.682178Z"
    },
    "tags": []
   },
   "outputs": [],
   "source": [
    "total_days, weekend_days, weekday_days = calculate_days(DT_threshold1, current_date.strftime(\"%Y-%m-%d\"))"
   ]
  },
  {
   "cell_type": "code",
   "execution_count": 40,
   "id": "94dabfbb-98c6-49e2-a467-43cede77439d",
   "metadata": {
    "execution": {
     "iopub.execute_input": "2024-06-28T00:06:02.822606Z",
     "iopub.status.busy": "2024-06-28T00:06:02.821899Z",
     "iopub.status.idle": "2024-06-28T00:06:02.831095Z",
     "shell.execute_reply": "2024-06-28T00:06:02.829863Z",
     "shell.execute_reply.started": "2024-06-28T00:06:02.822523Z"
    },
    "tags": []
   },
   "outputs": [
    {
     "data": {
      "text/plain": [
       "(30, 9, 21)"
      ]
     },
     "execution_count": 40,
     "metadata": {},
     "output_type": "execute_result"
    }
   ],
   "source": [
    "total_days, weekend_days, weekday_days"
   ]
  },
  {
   "cell_type": "code",
   "execution_count": 41,
   "id": "4a3e1e90-d4f5-4fab-a14a-3fe4971eeb76",
   "metadata": {
    "execution": {
     "iopub.execute_input": "2024-06-28T00:06:02.984278Z",
     "iopub.status.busy": "2024-06-28T00:06:02.983605Z",
     "iopub.status.idle": "2024-06-28T00:06:02.989194Z",
     "shell.execute_reply": "2024-06-28T00:06:02.988232Z",
     "shell.execute_reply.started": "2024-06-28T00:06:02.984221Z"
    },
    "tags": []
   },
   "outputs": [],
   "source": [
    "# query_cat2 = f\"\"\"\n",
    "#     select *\n",
    "#     from adot_reco_dev.xdr_cat2_cnt\n",
    "#     where dt >= '{DT_threshold1}'\n",
    "# \"\"\"\n",
    "\n",
    "query_cat1 = f\"\"\"\n",
    "    select *\n",
    "    from adot_reco_dev.xdr_cat1_cnt\n",
    "    where dt >= '{DT_threshold1}'\n",
    "\"\"\""
   ]
  },
  {
   "cell_type": "code",
   "execution_count": 42,
   "id": "5eb902fa-7786-405e-a1ec-36887b6458e4",
   "metadata": {
    "execution": {
     "iopub.execute_input": "2024-06-28T00:06:04.448094Z",
     "iopub.status.busy": "2024-06-28T00:06:04.446248Z",
     "iopub.status.idle": "2024-06-28T00:18:34.913222Z",
     "shell.execute_reply": "2024-06-28T00:18:34.911670Z",
     "shell.execute_reply.started": "2024-06-28T00:06:04.448005Z"
    },
    "tags": []
   },
   "outputs": [
    {
     "name": "stderr",
     "output_type": "stream",
     "text": [
      "24/06/28 09:18:33 WARN SQLConf: The SQL config 'spark.sql.execution.arrow.enabled' has been deprecated in Spark v3.0 and may be removed in the future. Use 'spark.sql.execution.arrow.pyspark.enabled' instead of it.\n"
     ]
    }
   ],
   "source": [
    "# data_cat2 = bq_to_df(query_cat2)\n",
    "data_cat1 = bq_to_df(query_cat1)"
   ]
  },
  {
   "cell_type": "code",
   "execution_count": 43,
   "id": "fee6a34a-cebd-419b-8841-952ff879dfbf",
   "metadata": {
    "execution": {
     "iopub.execute_input": "2024-06-28T00:18:34.916633Z",
     "iopub.status.busy": "2024-06-28T00:18:34.915961Z",
     "iopub.status.idle": "2024-06-28T00:18:34.923654Z",
     "shell.execute_reply": "2024-06-28T00:18:34.923031Z",
     "shell.execute_reply.started": "2024-06-28T00:18:34.916574Z"
    },
    "tags": []
   },
   "outputs": [],
   "source": [
    "cat2_set = {'information':'정보', 'life':'생활', 'location':'위치/이동', 'game':'게임', 'shopping':'쇼핑',\n",
    "            'communication':'커뮤니케이션', 'finance':'금융', 'utility':'유틸리티', 'entertainment':'엔터테인먼트',\n",
    "            'education':'교육', 'business':'회사/사업', 'leisure':'스포츠/레져/여행'}"
   ]
  },
  {
   "cell_type": "code",
   "execution_count": 44,
   "id": "284f03f3-b3c6-414e-b24b-4ae670c52f2b",
   "metadata": {
    "execution": {
     "iopub.execute_input": "2024-06-28T00:18:34.925097Z",
     "iopub.status.busy": "2024-06-28T00:18:34.924869Z",
     "iopub.status.idle": "2024-06-28T00:18:34.943085Z",
     "shell.execute_reply": "2024-06-28T00:18:34.942482Z",
     "shell.execute_reply.started": "2024-06-28T00:18:34.925073Z"
    },
    "tags": []
   },
   "outputs": [],
   "source": [
    "cat1_set = {'references':'지식/위키', 'fashion_beauty':'스타일/패션/뷰티', 'art_design':'디자인', 'location_etc':'location_etc',\n",
    "           'action':'액션게임', 'openmarket':'온라인 쇼핑몰', 'voip':'화상 채팅/회의', 'stock':'주식투자', 'blog':'블로그', 'casual':'캐주얼 게임',\n",
    "           'bank_card':'은행', 'webservice':'웹서비스', 'information_etc':'기타 정보 커뮤니티', 'payment':'페이앱',\n",
    "            'entertainment_etc':'entertainment_etc', 'cartoon':'만화', 'sns':'소셜미디어', 'religion':'종교',\n",
    "           'carlife':'자동차/중고차/렌트', 'government':'정부운영', 'job':'구직', 'weather':'날씨/미세먼지', 'sktservice':'SKT서비스',\n",
    "           'strategy':'전략게임', 'sharing':'공유 전기 자전거/킥보드', 'operation/management':'출퇴근 관리', 'itshopping':'IT/ 전자기기 쇼핑몰',\n",
    "           'puzzle_quiz':'퍼즐/퀴즈 게임', 'messenger':'메신저', 'travel':'여행', 'mall_mart_dfs':'대형 쇼핑몰 앱',\n",
    "           'b2b_solution':'전자상거래 비즈니스/마케팅 제휴', 'life_etc':'life_etc', 'lifestyle':'라이프스타일', 'simulation':'시뮬레이션 게임', 'food':'맛집/음식점, 배달',\n",
    "           'hotel':'호텔/숙박', 'rhythmgame':'리듬게임', 'move/interior':'이사 및 인테리어', 'education_info':'학생/아이 케어 및 관리',\n",
    "           'delivery_cargo':'물류/택배', 'productivity_tools':'공유 협업', 'mnd':'군인', 'ride_request':'공유차(택시앱)',\n",
    "           'vr/ar':'vr/ar', 'leisure':'취미 활동', 'dating':'데이팅', 'assetmanagement':'자산 관리/투자', 'racing':'레이싱게임',\n",
    "           'communication_etc':'communication_etc', 'telco':'통신사', 'cloudgaming':'클라우드 게임', 'portal':'포탈앱',\n",
    "           'business_etc':'회사 관련', 'email':'메일', 'aiservice':'AI서비스', 'overseas direct purchase':'해외직구',\n",
    "           'used':'중고거래', 'movie':'영화관', 'news':'온라인 뉴스', 'coupons_discounts':'쿠폰/포인트앱', 'video_broadcasting':'라이브 방송 플랫폼',\n",
    "           'sportsgame':'스포츠게임', 'book':'온라인 서점/e 북', 'socialcommerce':'소셜커머스', 'culture and arts':'문화예술',\n",
    "           'board':'보드게임', 'transport':'운송(공유차/비행기/버스)', 'smartdevice':'홈 IOT', 'map_navigation':'지도/네비', 'game_etc':'game_etc',\n",
    "           'homeshopping':'홈쇼핑', 'p2p_webhard':'P2P_Webhard', 'photo':'사진', 'shopping_etc':'Shopping_etc', 'security':'보안',\n",
    "           'pcs':'PC 쇼핑몰', 'english':'영어교육', 'fresh_delivery':'신선 식품/식재료 전문 스토어', 'finance_etc':'finance_etc', 'utility_etc':'utility_etc',\n",
    "           'radio':'라디오', 'music':'음악', 'education_etc':'education_etc', 'insurance':'보험', 'roleplaying':'롤플레잉게임',\n",
    "           'kids':'유아/아기', 'school':'대학교 홈페이지', 'onlinepayment':'온라인 결제', 'health':'헬스/비대면진료', 'svod':'영상 OTT', 'card':'카드게임',\n",
    "           'companion animal':'동물 캠페인', 'realestates':'부동산', 'cryptocurrency':'암호화폐', 'sports':'스포츠',\n",
    "           'adult':'성인관련', 'humor':'유머/코믹'}\n",
    "\n",
    "# community = business('커뮤니티/게시판'), communication('대학교 관련 정보') 둘다 있음"
   ]
  },
  {
   "cell_type": "code",
   "execution_count": 45,
   "id": "ebd9b06d-61e6-4b7d-8355-eb719ad2cc1c",
   "metadata": {
    "execution": {
     "iopub.execute_input": "2024-06-28T00:18:34.945406Z",
     "iopub.status.busy": "2024-06-28T00:18:34.945049Z",
     "iopub.status.idle": "2024-06-28T00:18:34.980963Z",
     "shell.execute_reply": "2024-06-28T00:18:34.979660Z",
     "shell.execute_reply.started": "2024-06-28T00:18:34.945380Z"
    },
    "tags": []
   },
   "outputs": [],
   "source": [
    "def xdr_cat2_to_text(xdr_cat2):\n",
    "    if xdr_cat2 in list(cat2_set.keys()):\n",
    "        return cat2_set[xdr_cat2]\n",
    "    else:\n",
    "        return \"기타\"\n",
    "\n",
    "xdr_cat2_to_text_udf = udf(xdr_cat2_to_text, StringType())\n",
    "data_cat1 = data_cat1.withColumn(\"cat2\", xdr_cat2_to_text_udf(data_cat1[\"cat2\"]))"
   ]
  },
  {
   "cell_type": "code",
   "execution_count": 46,
   "id": "64db2f46-08e2-4152-962a-f03d4b206733",
   "metadata": {
    "execution": {
     "iopub.execute_input": "2024-06-28T00:18:34.983142Z",
     "iopub.status.busy": "2024-06-28T00:18:34.982507Z",
     "iopub.status.idle": "2024-06-28T00:18:35.004663Z",
     "shell.execute_reply": "2024-06-28T00:18:35.004068Z",
     "shell.execute_reply.started": "2024-06-28T00:18:34.983089Z"
    },
    "tags": []
   },
   "outputs": [],
   "source": [
    "def xdr_cat1_to_text(xdr_cat1, xdr_cat2):\n",
    "    if xdr_cat1 in list(cat1_set.keys()):\n",
    "        if xdr_cat1 == \"community\":\n",
    "            if xdr_cat2 == \"회사/사업\":\n",
    "                return '커뮤니티/게시판'\n",
    "            else: # '커뮤니케이션'\n",
    "                return '대학교 관련 정보'\n",
    "        else:\n",
    "            return cat1_set[xdr_cat1]\n",
    "    else:\n",
    "        return \"기타\"\n",
    "\n",
    "xdr_cat1_to_text_udf = udf(xdr_cat1_to_text, StringType())\n",
    "data_cat1 = data_cat1.withColumn(\"cat1\", xdr_cat1_to_text_udf(data_cat1[\"cat1\"], data_cat1[\"cat2\"]))"
   ]
  },
  {
   "cell_type": "code",
   "execution_count": 47,
   "id": "65699a24-ecbd-446d-ba65-28887d57b1f7",
   "metadata": {
    "execution": {
     "iopub.execute_input": "2024-06-28T00:18:35.005675Z",
     "iopub.status.busy": "2024-06-28T00:18:35.005489Z",
     "iopub.status.idle": "2024-06-28T00:18:35.008584Z",
     "shell.execute_reply": "2024-06-28T00:18:35.008041Z",
     "shell.execute_reply.started": "2024-06-28T00:18:35.005656Z"
    },
    "tags": []
   },
   "outputs": [],
   "source": [
    "# data_cat2.show(n=10)"
   ]
  },
  {
   "cell_type": "code",
   "execution_count": 35,
   "id": "e9f4d86a-c880-4d39-9fef-20a9243f7a1a",
   "metadata": {
    "execution": {
     "iopub.execute_input": "2024-06-26T22:54:50.712537Z",
     "iopub.status.busy": "2024-06-26T22:54:50.712304Z",
     "iopub.status.idle": "2024-06-26T22:54:52.061862Z",
     "shell.execute_reply": "2024-06-26T22:54:52.060844Z",
     "shell.execute_reply.started": "2024-06-26T22:54:50.712513Z"
    },
    "tags": []
   },
   "outputs": [
    {
     "name": "stdout",
     "output_type": "stream",
     "text": [
      "+--------------------+--------------------+----+----+--------+--------+----------+----------+\n",
      "|        svc_mgmt_num|             luna_id|cat2|cat1|cat1_cnt|second_s|is_weekend|        dt|\n",
      "+--------------------+--------------------+----+----+--------+--------+----------+----------+\n",
      "|dfc3313a5d6a4a9ae...|                null|life| job|       4|   13_18|         1|2024-05-26|\n",
      "|596545417fca4b9c4...|                null|life| job|       2|    9_11|         1|2024-05-26|\n",
      "|877b2b77661bb3879...|                null|life| job|       2|   21_24|         1|2024-05-26|\n",
      "|796fde72c83867aab...|APL00000CW0IO667EO00|life| job|       2|   18_21|         1|2024-05-26|\n",
      "|815445a95ccfba272...|                null|life| job|       4|   18_21|         1|2024-05-26|\n",
      "|007b090b9ebc5c6e0...|APL00000DHUYR674EEBK|life| job|       2|   21_24|         1|2024-05-26|\n",
      "|25bc24900d5b213a1...|                null|life| job|       2|   18_21|         1|2024-05-26|\n",
      "|f4800c58a08184255...|                null|life| job|       6|   13_18|         1|2024-05-26|\n",
      "|fad1d861a31a5c05f...|                null|life| job|       2|   18_21|         1|2024-05-26|\n",
      "|f99496a54a912a9d7...|                null|life| job|       2|   18_21|         1|2024-05-26|\n",
      "+--------------------+--------------------+----+----+--------+--------+----------+----------+\n",
      "only showing top 10 rows\n",
      "\n"
     ]
    }
   ],
   "source": [
    "data_cat1.show(n=10)"
   ]
  },
  {
   "cell_type": "markdown",
   "id": "abb5af39-4943-4485-a073-6496ea4e8d09",
   "metadata": {
    "tags": []
   },
   "source": [
    "## 전체, 주말, 주중(출근, 퇴근, 일과시간) 별 cat1 list 추출"
   ]
  },
  {
   "cell_type": "code",
   "execution_count": 36,
   "id": "4c8b06c9-d6f6-4b0d-88cc-aacd3d45f632",
   "metadata": {
    "execution": {
     "iopub.execute_input": "2024-06-26T22:54:52.065304Z",
     "iopub.status.busy": "2024-06-26T22:54:52.064478Z",
     "iopub.status.idle": "2024-06-26T22:54:52.070922Z",
     "shell.execute_reply": "2024-06-26T22:54:52.069422Z",
     "shell.execute_reply.started": "2024-06-26T22:54:52.065252Z"
    },
    "tags": []
   },
   "outputs": [],
   "source": [
    "# def adot_extract_profile(data, thre=0.6, ecdf_wei = 0.6, dt_cnt = 60, col_names='adot_cat1_total')\n",
    "# total_days, weekend_days, weekday_days"
   ]
  },
  {
   "cell_type": "code",
   "execution_count": 48,
   "id": "d8610c9e-6a7a-4353-92fe-5e183ba2db99",
   "metadata": {
    "execution": {
     "iopub.execute_input": "2024-06-28T00:18:35.009521Z",
     "iopub.status.busy": "2024-06-28T00:18:35.009334Z",
     "iopub.status.idle": "2024-06-28T00:18:36.401478Z",
     "shell.execute_reply": "2024-06-28T00:18:36.399962Z",
     "shell.execute_reply.started": "2024-06-28T00:18:35.009503Z"
    },
    "tags": []
   },
   "outputs": [],
   "source": [
    "total_data = xdr_extract_profile(data_cat1, 0.6, 0.6, total_days , 'xdr_cat1_total', 'xdr_cat2_total')\n",
    "total_data = total_data.join(xdr_extract_profile(data_cat1.filter(col('is_weekend')==1), 0.5, 0.6, weekend_days, 'xdr_cat1_weekend', 'xdr_cat2_weekend'),on=\"luna_id\",how=\"left\")\n",
    "total_data = total_data.join(xdr_extract_profile(data_cat1.filter((col('is_weekend')==0) & (col('second_s')==\"6_9\")), 0.5, 0.6, weekday_days, 'xdr_cat1_go_to_work', \"xdr_cat2_go_to_work\"),on=\"luna_id\",how=\"left\")\n",
    "total_data = total_data.join(xdr_extract_profile(data_cat1.filter((col('is_weekend')==0) & ((col('second_s')==\"18_21\") | (col('second_s')==\"21_24\"))), 0.5, 0.6, weekday_days, 'xdr_cat1_leave_work', 'xdr_cat2_leave_work'),on=\"luna_id\",how=\"left\")\n",
    "total_data = total_data.join(xdr_extract_profile(data_cat1.filter((col('is_weekend')==0) & ((col('second_s')==\"9_11\") | (col('second_s')==\"11_13\") | (col('second_s')==\"13_18\"))), 0.5, 0.6, weekday_days, 'xdr_cat1_working_hour','xdr_cat2_working_hour'),on=\"luna_id\",how=\"left\")"
   ]
  },
  {
   "cell_type": "code",
   "execution_count": 49,
   "id": "f92ae07b-2c22-45e8-acdb-8290d7dd6e22",
   "metadata": {
    "execution": {
     "iopub.execute_input": "2024-06-28T00:18:36.405178Z",
     "iopub.status.busy": "2024-06-28T00:18:36.404327Z",
     "iopub.status.idle": "2024-06-28T00:18:36.422492Z",
     "shell.execute_reply": "2024-06-28T00:18:36.421076Z",
     "shell.execute_reply.started": "2024-06-28T00:18:36.405113Z"
    },
    "tags": []
   },
   "outputs": [
    {
     "data": {
      "text/plain": [
       "['luna_id',\n",
       " 'xdr_cat1_total',\n",
       " 'xdr_cat2_total',\n",
       " 'xdr_cat1_weekend',\n",
       " 'xdr_cat2_weekend',\n",
       " 'xdr_cat1_go_to_work',\n",
       " 'xdr_cat2_go_to_work',\n",
       " 'xdr_cat1_leave_work',\n",
       " 'xdr_cat2_leave_work',\n",
       " 'xdr_cat1_working_hour',\n",
       " 'xdr_cat2_working_hour']"
      ]
     },
     "execution_count": 49,
     "metadata": {},
     "output_type": "execute_result"
    }
   ],
   "source": [
    "total_data.columns"
   ]
  },
  {
   "cell_type": "code",
   "execution_count": 31,
   "id": "cae3c3db-aa5d-44a5-9e2c-4f9087125c19",
   "metadata": {
    "execution": {
     "iopub.execute_input": "2024-06-27T08:04:50.792701Z",
     "iopub.status.busy": "2024-06-27T08:04:50.791883Z",
     "iopub.status.idle": "2024-06-27T08:04:50.798175Z",
     "shell.execute_reply": "2024-06-27T08:04:50.796885Z",
     "shell.execute_reply.started": "2024-06-27T08:04:50.792642Z"
    },
    "tags": []
   },
   "outputs": [],
   "source": [
    "# total_data.show(n=10)"
   ]
  },
  {
   "cell_type": "code",
   "execution_count": null,
   "id": "0338bcef-1fef-429e-b54d-dc6887f54a3c",
   "metadata": {},
   "outputs": [],
   "source": []
  },
  {
   "cell_type": "markdown",
   "id": "a5f60d72-1e21-438f-af74-bc94f148e0d8",
   "metadata": {},
   "source": [
    "## Profile text 화"
   ]
  },
  {
   "cell_type": "code",
   "execution_count": 50,
   "id": "adf62a0d-b291-43f7-a8c5-3940fc6f9e1a",
   "metadata": {
    "execution": {
     "iopub.execute_input": "2024-06-28T00:18:36.424381Z",
     "iopub.status.busy": "2024-06-28T00:18:36.423884Z",
     "iopub.status.idle": "2024-06-28T00:18:39.872254Z",
     "shell.execute_reply": "2024-06-28T00:18:39.871255Z",
     "shell.execute_reply.started": "2024-06-28T00:18:36.424328Z"
    },
    "tags": []
   },
   "outputs": [
    {
     "name": "stdout",
     "output_type": "stream",
     "text": [
      "Warning: exception on print statistics\n",
      "unsupported operand type(s) for /: 'NoneType' and 'int'\n"
     ]
    },
    {
     "name": "stderr",
     "output_type": "stream",
     "text": [
      "/usr/local/lib/python3.8/dist-packages/google/cloud/bigquery/table.py:2309: UserWarning: Unable to represent RANGE schema as struct using pandas ArrowDtype. Using `object` instead. To use ArrowDtype, use pandas >= 1.5 and pyarrow >= 10.0.1.\n",
      "  warnings.warn(_RANGE_PYARROW_WARNING)\n",
      "/usr/local/lib/python3.8/dist-packages/google/cloud/bigquery/table.py:2323: UserWarning: Unable to represent RANGE schema as struct using pandas ArrowDtype. Using `object` instead. To use ArrowDtype, use pandas >= 1.5 and pyarrow >= 10.0.1.\n",
      "  warnings.warn(_RANGE_PYARROW_WARNING)\n",
      "/usr/local/lib/python3.8/dist-packages/google/cloud/bigquery/table.py:2337: UserWarning: Unable to represent RANGE schema as struct using pandas ArrowDtype. Using `object` instead. To use ArrowDtype, use pandas >= 1.5 and pyarrow >= 10.0.1.\n",
      "  warnings.warn(_RANGE_PYARROW_WARNING)\n"
     ]
    },
    {
     "name": "stdout",
     "output_type": "stream",
     "text": [
      "Downloading: 100%|\u001b[32m██████████\u001b[0m|\n"
     ]
    }
   ],
   "source": [
    "profile_template = bq_to_pandas(\"select * from adot_reco_dev.profile_template\")"
   ]
  },
  {
   "cell_type": "code",
   "execution_count": 51,
   "id": "fc25012d-3151-4904-b70c-a0a849b5dbb0",
   "metadata": {
    "execution": {
     "iopub.execute_input": "2024-06-28T00:20:08.081094Z",
     "iopub.status.busy": "2024-06-28T00:20:08.080664Z",
     "iopub.status.idle": "2024-06-28T00:20:08.138012Z",
     "shell.execute_reply": "2024-06-28T00:20:08.136582Z",
     "shell.execute_reply.started": "2024-06-28T00:20:08.081068Z"
    },
    "tags": []
   },
   "outputs": [],
   "source": [
    "template = list(profile_template[profile_template['source_domain']==\"xtr\"].template)[0]\n",
    "\n",
    "def profile_text(xdr_cat1):\n",
    "    return template.format(cat1_profile=xdr_cat1)\n",
    "\n",
    "profile_text_udf = udf(profile_text, StringType())\n",
    "total_data = total_data.withColumn(\"xdr_profile\", profile_text_udf(total_data[\"xdr_cat1_total\"]))"
   ]
  },
  {
   "cell_type": "code",
   "execution_count": 52,
   "id": "d7c38cdd-5f7e-4387-ad29-580e591f30f6",
   "metadata": {
    "execution": {
     "iopub.execute_input": "2024-06-28T00:20:08.596651Z",
     "iopub.status.busy": "2024-06-28T00:20:08.595917Z",
     "iopub.status.idle": "2024-06-28T00:20:08.605804Z",
     "shell.execute_reply": "2024-06-28T00:20:08.604550Z",
     "shell.execute_reply.started": "2024-06-28T00:20:08.596593Z"
    },
    "tags": []
   },
   "outputs": [
    {
     "data": {
      "text/plain": [
       "['luna_id',\n",
       " 'xdr_cat1_total',\n",
       " 'xdr_cat2_total',\n",
       " 'xdr_cat1_weekend',\n",
       " 'xdr_cat2_weekend',\n",
       " 'xdr_cat1_go_to_work',\n",
       " 'xdr_cat2_go_to_work',\n",
       " 'xdr_cat1_leave_work',\n",
       " 'xdr_cat2_leave_work',\n",
       " 'xdr_cat1_working_hour',\n",
       " 'xdr_cat2_working_hour',\n",
       " 'xdr_profile']"
      ]
     },
     "execution_count": 52,
     "metadata": {},
     "output_type": "execute_result"
    }
   ],
   "source": [
    "total_data.columns"
   ]
  },
  {
   "cell_type": "code",
   "execution_count": null,
   "id": "32d55475-fd73-407e-91e1-6115140999d9",
   "metadata": {},
   "outputs": [],
   "source": []
  },
  {
   "cell_type": "markdown",
   "id": "1c246162-6f43-4f53-a288-9a8137fca784",
   "metadata": {},
   "source": [
    "### AIDP 저장"
   ]
  },
  {
   "cell_type": "code",
   "execution_count": 53,
   "id": "bb1b5e4f-4313-494f-8759-0b94aeeb4bc6",
   "metadata": {
    "execution": {
     "iopub.execute_input": "2024-06-28T00:20:22.903166Z",
     "iopub.status.busy": "2024-06-28T00:20:22.902392Z",
     "iopub.status.idle": "2024-06-28T00:20:22.908875Z",
     "shell.execute_reply": "2024-06-28T00:20:22.907640Z",
     "shell.execute_reply.started": "2024-06-28T00:20:22.903107Z"
    },
    "tags": []
   },
   "outputs": [],
   "source": [
    "dest_dataset = \"x1113099\"\n",
    "partitioned_dest_table = \"user_retrieval_profile_xdr_text\""
   ]
  },
  {
   "cell_type": "code",
   "execution_count": 54,
   "id": "eb39d93a-b48d-49a4-862f-ecb160f56644",
   "metadata": {
    "execution": {
     "iopub.execute_input": "2024-06-28T00:20:27.654183Z",
     "iopub.status.busy": "2024-06-28T00:20:27.653426Z",
     "iopub.status.idle": "2024-06-28T00:20:29.310601Z",
     "shell.execute_reply": "2024-06-28T00:20:29.309307Z",
     "shell.execute_reply.started": "2024-06-28T00:20:27.654125Z"
    },
    "tags": []
   },
   "outputs": [
    {
     "name": "stdout",
     "output_type": "stream",
     "text": [
      "생성된 테이블 : x1113099.user_retrieval_profile_xdr_text\n"
     ]
    }
   ],
   "source": [
    "get_bigquery_client().query(f\"\"\"\n",
    "    CREATE TABLE IF NOT EXISTS {dest_dataset}.{partitioned_dest_table}\n",
    "    (\n",
    "        luna_id STRING,\n",
    "        xdr_cat1_total STRING,\n",
    "        xdr_cat2_total STRING,\n",
    "        xdr_cat1_weekend STRING,\n",
    "        xdr_cat2_weekend STRING,\n",
    "        xdr_cat1_go_to_work STRING,\n",
    "        xdr_cat2_go_to_work STRING,\n",
    "        xdr_cat1_leave_work STRING,\n",
    "        xdr_cat2_leave_work STRING,\n",
    "        xdr_cat1_working_hours STRING,\n",
    "        xdr_cat2_working_hours STRING,\n",
    "        xdr_profile STRING\n",
    "    )\n",
    "\"\"\").result()\n",
    "\n",
    "print(f\"생성된 테이블 : {dest_dataset}.{partitioned_dest_table}\")"
   ]
  },
  {
   "cell_type": "code",
   "execution_count": 55,
   "id": "9087dbc1-a338-45f5-bc0a-1a0346cf3a4f",
   "metadata": {
    "execution": {
     "iopub.execute_input": "2024-06-28T00:20:29.313413Z",
     "iopub.status.busy": "2024-06-28T00:20:29.312821Z",
     "iopub.status.idle": "2024-06-28T02:29:04.034122Z",
     "shell.execute_reply": "2024-06-28T02:29:04.032065Z",
     "shell.execute_reply.started": "2024-06-28T00:20:29.313375Z"
    },
    "tags": []
   },
   "outputs": [
    {
     "name": "stderr",
     "output_type": "stream",
     "text": [
      "24/06/28 11:28:16 WARN DAGScheduler: Broadcasting large task binary with size 1642.9 KiB\n",
      "                                                                                \r"
     ]
    }
   ],
   "source": [
    "df_to_bq_table(df=total_data,\n",
    "               dataset=dest_dataset,\n",
    "               table_name=partitioned_dest_table,\n",
    "               mode=\"overwrite\")"
   ]
  },
  {
   "cell_type": "code",
   "execution_count": null,
   "id": "5fe41eed-65be-4490-ba12-5f76d5abeed7",
   "metadata": {},
   "outputs": [],
   "source": []
  },
  {
   "cell_type": "code",
   "execution_count": null,
   "id": "dbaee90e-5037-4179-8457-8d556336d095",
   "metadata": {},
   "outputs": [],
   "source": []
  },
  {
   "cell_type": "code",
   "execution_count": null,
   "id": "baa39f6f-9e3e-47a1-898c-5a69119ec816",
   "metadata": {},
   "outputs": [],
   "source": []
  },
  {
   "cell_type": "code",
   "execution_count": null,
   "id": "8d1da4e1-2e14-4634-9923-403d139bab5d",
   "metadata": {},
   "outputs": [],
   "source": []
  },
  {
   "cell_type": "code",
   "execution_count": null,
   "id": "241afd49-e2be-4896-860b-69a83a84940a",
   "metadata": {},
   "outputs": [],
   "source": []
  },
  {
   "cell_type": "code",
   "execution_count": null,
   "id": "56177797-fa3a-4682-8b27-96ca086a3ed9",
   "metadata": {},
   "outputs": [],
   "source": []
  },
  {
   "cell_type": "code",
   "execution_count": null,
   "id": "38f85985-6652-454c-888a-8aca12af67cf",
   "metadata": {},
   "outputs": [],
   "source": []
  },
  {
   "cell_type": "code",
   "execution_count": null,
   "id": "a2848c48-8061-4957-85b5-f520b0b478ae",
   "metadata": {},
   "outputs": [],
   "source": []
  },
  {
   "cell_type": "code",
   "execution_count": null,
   "id": "ecc275ee-94e6-4887-a87a-3a96127fdc79",
   "metadata": {},
   "outputs": [],
   "source": []
  },
  {
   "cell_type": "code",
   "execution_count": null,
   "id": "0dc45d1b-1764-4b87-8d31-0f235e888479",
   "metadata": {},
   "outputs": [],
   "source": []
  },
  {
   "cell_type": "code",
   "execution_count": null,
   "id": "4004242c-af8a-4fee-ba41-01f021d5be3d",
   "metadata": {},
   "outputs": [],
   "source": []
  },
  {
   "cell_type": "code",
   "execution_count": null,
   "id": "3af5796f-fd47-4d22-a432-4d559dc0e27a",
   "metadata": {},
   "outputs": [],
   "source": []
  },
  {
   "cell_type": "markdown",
   "id": "1f601b67-200d-4246-9126-d3b841bf204e",
   "metadata": {},
   "source": [
    "### ECDF 계산"
   ]
  },
  {
   "cell_type": "code",
   "execution_count": 8,
   "id": "170aaf5a-8682-4a16-b466-2e0d2896e6bf",
   "metadata": {
    "execution": {
     "iopub.execute_input": "2024-06-25T05:33:03.566024Z",
     "iopub.status.busy": "2024-06-25T05:33:03.565575Z",
     "iopub.status.idle": "2024-06-25T05:33:03.834801Z",
     "shell.execute_reply": "2024-06-25T05:33:03.833472Z",
     "shell.execute_reply.started": "2024-06-25T05:33:03.565993Z"
    },
    "tags": []
   },
   "outputs": [],
   "source": [
    "# 그룹별로 데이터 정렬\n",
    "windowSpec = Window.partitionBy(\"cat1\").orderBy(\"cat1_cnt_sum\").rowsBetween(Window.unboundedPreceding, 0)\n",
    "\n",
    "\n",
    "data_cat1_sum = data_cat1.groupBy([\"svc_mgmt_num\",\"luna_id\",\"cat1\"]).agg(sum('cat1_cnt').alias('cat1_cnt_sum'))\n",
    "\n",
    "# 그룹별로 값의 개수 세기\n",
    "count_by_group = data_cat1_sum.groupBy(\"cat1\").agg(count(\"*\").alias(\"count\"))\n",
    "\n",
    "# 원래 데이터프레임에 그룹별 카운트를 조인\n",
    "df_with_count = data_cat1_sum.join(count_by_group, on=\"cat1\", how=\"left\")\n",
    "\n",
    "# 누적합 계산\n",
    "df_with_cumsum = df_with_count.withColumn(\"cum_sum\", spark_sum(lit(1)).over(windowSpec))\n",
    "\n",
    "# ECDF 계산\n",
    "df_with_ecdf = df_with_cumsum.withColumn(\"ecdf\", col(\"cum_sum\") / col(\"count\"))\n",
    "\n",
    "# 필요한 열 선택\n",
    "result_df = df_with_ecdf.select('svc_mgmt_num','luna_id',\"cat1\", \"cat1_cnt_sum\", \"ecdf\")"
   ]
  },
  {
   "cell_type": "code",
   "execution_count": 9,
   "id": "b790e139-74b1-49ac-a674-6bfc22f242d6",
   "metadata": {
    "execution": {
     "iopub.execute_input": "2024-06-25T05:33:03.839566Z",
     "iopub.status.busy": "2024-06-25T05:33:03.838809Z",
     "iopub.status.idle": "2024-06-25T05:33:03.844468Z",
     "shell.execute_reply": "2024-06-25T05:33:03.843379Z",
     "shell.execute_reply.started": "2024-06-25T05:33:03.839506Z"
    },
    "tags": []
   },
   "outputs": [],
   "source": [
    "# result_df.show(n=10)"
   ]
  },
  {
   "cell_type": "code",
   "execution_count": 10,
   "id": "abeafaea-de60-4c59-8d2b-362782ffdee9",
   "metadata": {
    "execution": {
     "iopub.execute_input": "2024-06-25T05:33:03.846575Z",
     "iopub.status.busy": "2024-06-25T05:33:03.845859Z",
     "iopub.status.idle": "2024-06-25T05:33:03.854790Z",
     "shell.execute_reply": "2024-06-25T05:33:03.853908Z",
     "shell.execute_reply.started": "2024-06-25T05:33:03.846527Z"
    },
    "tags": []
   },
   "outputs": [],
   "source": [
    "# result_df.filter(col('cat1')==\"apollo_calendar\").orderBy(desc('ecdf')).show(n=10)"
   ]
  },
  {
   "cell_type": "markdown",
   "id": "bfce8ac2-b4b1-4056-bbe8-da0326ae10d3",
   "metadata": {},
   "source": [
    "### IDF 기반 weight 계산"
   ]
  },
  {
   "cell_type": "code",
   "execution_count": 11,
   "id": "b4877c64-61fa-42ba-8eec-e68ba1706ed8",
   "metadata": {
    "execution": {
     "iopub.execute_input": "2024-06-25T05:33:03.856191Z",
     "iopub.status.busy": "2024-06-25T05:33:03.855786Z",
     "iopub.status.idle": "2024-06-25T05:33:03.936451Z",
     "shell.execute_reply": "2024-06-25T05:33:03.935056Z",
     "shell.execute_reply.started": "2024-06-25T05:33:03.856159Z"
    },
    "tags": []
   },
   "outputs": [],
   "source": [
    "data_cat1_dt_cnt = data_cat1.select(['luna_id','cat1','dt']).distinct().groupby(['luna_id','cat1']).agg(count(\"*\").alias(\"luna_cat1_cnt\"))\n",
    "data_cat1_dt_cnt = data_cat1_dt_cnt.withColumn(\"df_weight\", 1/log(lit(60.0) / col(\"luna_cat1_cnt\") + 1.0e-8))"
   ]
  },
  {
   "cell_type": "code",
   "execution_count": 12,
   "id": "c5378fb4-a184-4b59-9faf-4c82fbc28e21",
   "metadata": {
    "execution": {
     "iopub.execute_input": "2024-06-25T05:33:03.938750Z",
     "iopub.status.busy": "2024-06-25T05:33:03.938101Z",
     "iopub.status.idle": "2024-06-25T05:33:03.943199Z",
     "shell.execute_reply": "2024-06-25T05:33:03.942213Z",
     "shell.execute_reply.started": "2024-06-25T05:33:03.938692Z"
    },
    "tags": []
   },
   "outputs": [],
   "source": [
    "# data_cat1_dt_cnt.show(n=10)"
   ]
  },
  {
   "cell_type": "code",
   "execution_count": 13,
   "id": "22959ee4-12ee-40d8-899e-8c9d1e8f702a",
   "metadata": {
    "execution": {
     "iopub.execute_input": "2024-06-25T05:33:03.944890Z",
     "iopub.status.busy": "2024-06-25T05:33:03.944422Z",
     "iopub.status.idle": "2024-06-25T05:33:03.979949Z",
     "shell.execute_reply": "2024-06-25T05:33:03.978721Z",
     "shell.execute_reply.started": "2024-06-25T05:33:03.944851Z"
    },
    "tags": []
   },
   "outputs": [],
   "source": [
    "# def logistic_function(x, k=1):\n",
    "#     return 1 / (1 + math.exp(-k * x))\n",
    "\n",
    "# # UDF로 등록\n",
    "# logistic_function_udf = udf(lambda x: logistic_function(x), DoubleType())\n",
    "\n",
    "# 새로운 열로 로지스틱 함수 적용\n",
    "# data_cat1_dt_cnt = data_cat1_dt_cnt.withColumn(\"rev_df_weight\", logistic_function_udf(col(\"df_weight\")))\n",
    "data_cat1_dt_cnt = data_cat1_dt_cnt.withColumn(\"rev_df_weight\", 1.0/(1.0 + exp(-col(\"df_weight\"))))"
   ]
  },
  {
   "cell_type": "code",
   "execution_count": 14,
   "id": "cc78e8ea-7cb8-40f1-83b9-78f6bb5312ff",
   "metadata": {
    "execution": {
     "iopub.execute_input": "2024-06-25T05:33:03.982094Z",
     "iopub.status.busy": "2024-06-25T05:33:03.981515Z",
     "iopub.status.idle": "2024-06-25T05:33:03.985431Z",
     "shell.execute_reply": "2024-06-25T05:33:03.984536Z",
     "shell.execute_reply.started": "2024-06-25T05:33:03.982066Z"
    },
    "tags": []
   },
   "outputs": [],
   "source": [
    "# data_cat1_dt_cnt.show(n=10)"
   ]
  },
  {
   "cell_type": "code",
   "execution_count": 15,
   "id": "fe34a9ce-35a7-4dfc-952f-03e5fd5429fa",
   "metadata": {
    "execution": {
     "iopub.execute_input": "2024-06-25T05:33:03.987720Z",
     "iopub.status.busy": "2024-06-25T05:33:03.986930Z",
     "iopub.status.idle": "2024-06-25T05:33:04.115951Z",
     "shell.execute_reply": "2024-06-25T05:33:04.114643Z",
     "shell.execute_reply.started": "2024-06-25T05:33:03.987676Z"
    },
    "tags": []
   },
   "outputs": [],
   "source": [
    "merge_data = result_df.dropna(subset=\"luna_id\").select(['luna_id','cat1','ecdf']).join(data_cat1_dt_cnt.select(['luna_id', 'cat1','rev_df_weight']),on=['luna_id','cat1'],how=\"left\")\n",
    "merge_data = merge_data.withColumn('score', col('ecdf')*0.6 + col('rev_df_weight')*0.4)\n",
    "merge_data1 = merge_data.filter(col(\"score\") >= 0.6).orderBy(desc(\"score\")).groupBy(\"luna_id\").agg(concat_ws(\",\",collect_list(\"cat1\")).alias(\"cat1_list\"))"
   ]
  },
  {
   "cell_type": "code",
   "execution_count": 16,
   "id": "b4886e74-d544-4b00-85c3-1c17eedbca16",
   "metadata": {
    "execution": {
     "iopub.execute_input": "2024-06-25T05:33:04.118396Z",
     "iopub.status.busy": "2024-06-25T05:33:04.117679Z",
     "iopub.status.idle": "2024-06-25T05:40:57.085161Z",
     "shell.execute_reply": "2024-06-25T05:40:57.083725Z",
     "shell.execute_reply.started": "2024-06-25T05:33:04.118311Z"
    },
    "tags": []
   },
   "outputs": [
    {
     "name": "stderr",
     "output_type": "stream",
     "text": [
      "                                                                                \r"
     ]
    }
   ],
   "source": [
    "merge_data1_pd = merge_data1.limit(100).toPandas()"
   ]
  },
  {
   "cell_type": "code",
   "execution_count": null,
   "id": "470a7a23-0138-45c7-abe6-a726739899e1",
   "metadata": {},
   "outputs": [],
   "source": []
  },
  {
   "cell_type": "code",
   "execution_count": 18,
   "id": "f63c0470-9492-43e7-8b95-c530990e5a83",
   "metadata": {
    "execution": {
     "iopub.execute_input": "2024-06-25T05:41:21.405885Z",
     "iopub.status.busy": "2024-06-25T05:41:21.405102Z",
     "iopub.status.idle": "2024-06-25T05:41:21.414691Z",
     "shell.execute_reply": "2024-06-25T05:41:21.413734Z",
     "shell.execute_reply.started": "2024-06-25T05:41:21.405823Z"
    },
    "tags": []
   },
   "outputs": [
    {
     "data": {
      "text/plain": [
       "'apollo_news,apollo_call,apollo_music,apollo_routine,apollo_game'"
      ]
     },
     "execution_count": 18,
     "metadata": {},
     "output_type": "execute_result"
    }
   ],
   "source": [
    "merge_data1_pd.loc[0,'cat1_list']"
   ]
  },
  {
   "cell_type": "code",
   "execution_count": 19,
   "id": "d93dd868-e878-4cd9-81dd-70ad3ffbe99f",
   "metadata": {
    "execution": {
     "iopub.execute_input": "2024-06-25T05:41:43.239582Z",
     "iopub.status.busy": "2024-06-25T05:41:43.238812Z",
     "iopub.status.idle": "2024-06-25T05:41:43.247683Z",
     "shell.execute_reply": "2024-06-25T05:41:43.246675Z",
     "shell.execute_reply.started": "2024-06-25T05:41:43.239521Z"
    },
    "tags": []
   },
   "outputs": [
    {
     "data": {
      "text/plain": [
       "'apollo_congestion'"
      ]
     },
     "execution_count": 19,
     "metadata": {},
     "output_type": "execute_result"
    }
   ],
   "source": [
    "merge_data1_pd.loc[1,'cat1_list']"
   ]
  },
  {
   "cell_type": "code",
   "execution_count": 20,
   "id": "8cc06d7c-e83c-412d-b4ef-b5568afa04c0",
   "metadata": {
    "execution": {
     "iopub.execute_input": "2024-06-25T05:41:49.504329Z",
     "iopub.status.busy": "2024-06-25T05:41:49.503579Z",
     "iopub.status.idle": "2024-06-25T05:41:49.520416Z",
     "shell.execute_reply": "2024-06-25T05:41:49.519525Z",
     "shell.execute_reply.started": "2024-06-25T05:41:49.504270Z"
    },
    "tags": []
   },
   "outputs": [
    {
     "data": {
      "text/html": [
       "<div>\n",
       "<style scoped>\n",
       "    .dataframe tbody tr th:only-of-type {\n",
       "        vertical-align: middle;\n",
       "    }\n",
       "\n",
       "    .dataframe tbody tr th {\n",
       "        vertical-align: top;\n",
       "    }\n",
       "\n",
       "    .dataframe thead th {\n",
       "        text-align: right;\n",
       "    }\n",
       "</style>\n",
       "<table border=\"1\" class=\"dataframe\">\n",
       "  <thead>\n",
       "    <tr style=\"text-align: right;\">\n",
       "      <th></th>\n",
       "      <th>luna_id</th>\n",
       "      <th>cat1_list</th>\n",
       "    </tr>\n",
       "  </thead>\n",
       "  <tbody>\n",
       "    <tr>\n",
       "      <th>0</th>\n",
       "      <td>APL00000BJ19IFQXK54W</td>\n",
       "      <td>apollo_news,apollo_call,apollo_music,apollo_ro...</td>\n",
       "    </tr>\n",
       "    <tr>\n",
       "      <th>1</th>\n",
       "      <td>APL00000BJ1GGZ9T2MM8</td>\n",
       "      <td>apollo_congestion</td>\n",
       "    </tr>\n",
       "    <tr>\n",
       "      <th>2</th>\n",
       "      <td>APL00000BJ3M81SBZEO0</td>\n",
       "      <td>apollo_music,apollo_congestion</td>\n",
       "    </tr>\n",
       "    <tr>\n",
       "      <th>3</th>\n",
       "      <td>APL00000BJ3T4RRPWT1C</td>\n",
       "      <td>apollo_weather,apollo_mno,apollo_news,apollo_r...</td>\n",
       "    </tr>\n",
       "    <tr>\n",
       "      <th>4</th>\n",
       "      <td>APL00000BJ450BY2BSOW</td>\n",
       "      <td>apollo_mno</td>\n",
       "    </tr>\n",
       "    <tr>\n",
       "      <th>5</th>\n",
       "      <td>APL00000BJ7880KK6QKG</td>\n",
       "      <td>apollo_mytv</td>\n",
       "    </tr>\n",
       "    <tr>\n",
       "      <th>6</th>\n",
       "      <td>APL00000BJB0ZL9A77K0</td>\n",
       "      <td>apollo_music</td>\n",
       "    </tr>\n",
       "    <tr>\n",
       "      <th>7</th>\n",
       "      <td>APL00000BJBSY57E9S00</td>\n",
       "      <td>apollo_mno</td>\n",
       "    </tr>\n",
       "    <tr>\n",
       "      <th>8</th>\n",
       "      <td>APL00000BJCAJNIZHBLS</td>\n",
       "      <td>apollo_fortune,apollo_routine,apollo_congestio...</td>\n",
       "    </tr>\n",
       "    <tr>\n",
       "      <th>9</th>\n",
       "      <td>APL00000BJEGDEVI6OLC</td>\n",
       "      <td>apollo_congestion</td>\n",
       "    </tr>\n",
       "    <tr>\n",
       "      <th>10</th>\n",
       "      <td>APL00000BJEUSHR47DHC</td>\n",
       "      <td>apollo_mytv,apollo_news,apollo_routine,apollo_...</td>\n",
       "    </tr>\n",
       "    <tr>\n",
       "      <th>11</th>\n",
       "      <td>APL00000BJEY9QQPCJR4</td>\n",
       "      <td>apollo_congestion</td>\n",
       "    </tr>\n",
       "    <tr>\n",
       "      <th>12</th>\n",
       "      <td>APL00000BJHVJ4FU2874</td>\n",
       "      <td>apollo_call,apollo_calendar</td>\n",
       "    </tr>\n",
       "    <tr>\n",
       "      <th>13</th>\n",
       "      <td>APL00000BJIZOEPWJTHC</td>\n",
       "      <td>apollo_congestion</td>\n",
       "    </tr>\n",
       "    <tr>\n",
       "      <th>14</th>\n",
       "      <td>APL00000BJL2ESAK2QRK</td>\n",
       "      <td>apollo_tmap,apollo_mno,apollo_calendar2,apollo...</td>\n",
       "    </tr>\n",
       "    <tr>\n",
       "      <th>15</th>\n",
       "      <td>APL00000BJMRVO3OQHOG</td>\n",
       "      <td>apollo_calendar</td>\n",
       "    </tr>\n",
       "    <tr>\n",
       "      <th>16</th>\n",
       "      <td>APL00000BJN49US9G0LC</td>\n",
       "      <td>apollo_call,apollo_routine</td>\n",
       "    </tr>\n",
       "    <tr>\n",
       "      <th>17</th>\n",
       "      <td>APL00000BJQDV74KI29S</td>\n",
       "      <td>apollo_congestion,apollo_game,apollo_chatgpt,a...</td>\n",
       "    </tr>\n",
       "    <tr>\n",
       "      <th>18</th>\n",
       "      <td>APL00000BJQEBVWAUHVK</td>\n",
       "      <td>apollo_photo</td>\n",
       "    </tr>\n",
       "    <tr>\n",
       "      <th>19</th>\n",
       "      <td>APL00000BJQEIS7ZY8SG</td>\n",
       "      <td>apollo_tmap,apollo_mno,apollo_samsungstock</td>\n",
       "    </tr>\n",
       "  </tbody>\n",
       "</table>\n",
       "</div>"
      ],
      "text/plain": [
       "                 luna_id                                          cat1_list\n",
       "0   APL00000BJ19IFQXK54W  apollo_news,apollo_call,apollo_music,apollo_ro...\n",
       "1   APL00000BJ1GGZ9T2MM8                                  apollo_congestion\n",
       "2   APL00000BJ3M81SBZEO0                     apollo_music,apollo_congestion\n",
       "3   APL00000BJ3T4RRPWT1C  apollo_weather,apollo_mno,apollo_news,apollo_r...\n",
       "4   APL00000BJ450BY2BSOW                                         apollo_mno\n",
       "5   APL00000BJ7880KK6QKG                                        apollo_mytv\n",
       "6   APL00000BJB0ZL9A77K0                                       apollo_music\n",
       "7   APL00000BJBSY57E9S00                                         apollo_mno\n",
       "8   APL00000BJCAJNIZHBLS  apollo_fortune,apollo_routine,apollo_congestio...\n",
       "9   APL00000BJEGDEVI6OLC                                  apollo_congestion\n",
       "10  APL00000BJEUSHR47DHC  apollo_mytv,apollo_news,apollo_routine,apollo_...\n",
       "11  APL00000BJEY9QQPCJR4                                  apollo_congestion\n",
       "12  APL00000BJHVJ4FU2874                        apollo_call,apollo_calendar\n",
       "13  APL00000BJIZOEPWJTHC                                  apollo_congestion\n",
       "14  APL00000BJL2ESAK2QRK  apollo_tmap,apollo_mno,apollo_calendar2,apollo...\n",
       "15  APL00000BJMRVO3OQHOG                                    apollo_calendar\n",
       "16  APL00000BJN49US9G0LC                         apollo_call,apollo_routine\n",
       "17  APL00000BJQDV74KI29S  apollo_congestion,apollo_game,apollo_chatgpt,a...\n",
       "18  APL00000BJQEBVWAUHVK                                       apollo_photo\n",
       "19  APL00000BJQEIS7ZY8SG         apollo_tmap,apollo_mno,apollo_samsungstock"
      ]
     },
     "execution_count": 20,
     "metadata": {},
     "output_type": "execute_result"
    }
   ],
   "source": [
    "merge_data1_pd.head(20)"
   ]
  },
  {
   "cell_type": "code",
   "execution_count": null,
   "id": "d60c9e3b-a736-4a45-9cd7-7cee3191c624",
   "metadata": {},
   "outputs": [],
   "source": []
  },
  {
   "cell_type": "code",
   "execution_count": null,
   "id": "c6635347-dd3d-4980-bf74-46be45f5e902",
   "metadata": {},
   "outputs": [],
   "source": []
  }
 ],
 "metadata": {
  "kernelspec": {
   "display_name": "Python 3 (ipykernel)",
   "language": "python",
   "name": "python3"
  },
  "language_info": {
   "codemirror_mode": {
    "name": "ipython",
    "version": 3
   },
   "file_extension": ".py",
   "mimetype": "text/x-python",
   "name": "python",
   "nbconvert_exporter": "python",
   "pygments_lexer": "ipython3",
   "version": "3.8.19"
  }
 },
 "nbformat": 4,
 "nbformat_minor": 5
}
