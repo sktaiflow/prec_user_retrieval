{
 "cells": [
  {
   "cell_type": "code",
   "execution_count": 151,
   "id": "71e0f6dc-6963-4c9e-8f0f-c7b597c59413",
   "metadata": {
    "execution": {
     "iopub.execute_input": "2024-06-27T10:21:29.173218Z",
     "iopub.status.busy": "2024-06-27T10:21:29.172493Z",
     "iopub.status.idle": "2024-06-27T10:21:29.180766Z",
     "shell.execute_reply": "2024-06-27T10:21:29.179841Z",
     "shell.execute_reply.started": "2024-06-27T10:21:29.173161Z"
    },
    "tags": []
   },
   "outputs": [],
   "source": [
    "from skt.gcp import (\n",
    "    PROJECT_ID,\n",
    "    bq_insert_overwrite,\n",
    "    bq_to_df,\n",
    "    bq_to_pandas,\n",
    "    get_bigquery_client,\n",
    "    bq_table_exists,\n",
    "    get_max_part,\n",
    "    load_query_result_to_table,\n",
    "    pandas_to_bq,\n",
    "    pandas_to_bq_table,\n",
    "    load_bigquery_ipython_magic,\n",
    "    get_bigquery_client,\n",
    "    _print_query_job_results,\n",
    "    load_query_result_to_partitions\n",
    "    \n",
    ")\n",
    "\n",
    "from skt.ye import (\n",
    "    get_hdfs_conn,\n",
    "    get_spark,\n",
    "    hive_execute,\n",
    "    hive_to_pandas,\n",
    "    pandas_to_parquet,\n",
    "    slack_send,\n",
    "    get_secrets\n",
    ")"
   ]
  },
  {
   "cell_type": "code",
   "execution_count": 152,
   "id": "a1168478-2a82-48b0-8c32-178715593509",
   "metadata": {
    "execution": {
     "iopub.execute_input": "2024-06-27T10:21:29.323097Z",
     "iopub.status.busy": "2024-06-27T10:21:29.322377Z",
     "iopub.status.idle": "2024-06-27T10:21:29.337890Z",
     "shell.execute_reply": "2024-06-27T10:21:29.336672Z",
     "shell.execute_reply.started": "2024-06-27T10:21:29.323038Z"
    },
    "tags": []
   },
   "outputs": [],
   "source": [
    "from skt.vault_utils import get_secrets\n",
    "proxies = get_secrets('proxies')"
   ]
  },
  {
   "cell_type": "code",
   "execution_count": 153,
   "id": "6ea15ce7-3e7e-427d-bf49-6008563cdb9d",
   "metadata": {
    "execution": {
     "iopub.execute_input": "2024-06-27T10:21:29.462717Z",
     "iopub.status.busy": "2024-06-27T10:21:29.462098Z",
     "iopub.status.idle": "2024-06-27T10:21:29.468235Z",
     "shell.execute_reply": "2024-06-27T10:21:29.467045Z",
     "shell.execute_reply.started": "2024-06-27T10:21:29.462662Z"
    },
    "tags": []
   },
   "outputs": [],
   "source": [
    "template_query = f\"\"\"\n",
    "SELECT * \n",
    "FROM adot_reco_dev.profile_template\n",
    "WHERE source_domain = 'tdeal'\n",
    "\"\"\""
   ]
  },
  {
   "cell_type": "code",
   "execution_count": 154,
   "id": "db48e115-2fda-4e9e-aef0-5ee0b55dac71",
   "metadata": {
    "execution": {
     "iopub.execute_input": "2024-06-27T10:21:29.596425Z",
     "iopub.status.busy": "2024-06-27T10:21:29.595735Z",
     "iopub.status.idle": "2024-06-27T10:21:32.854749Z",
     "shell.execute_reply": "2024-06-27T10:21:32.853202Z",
     "shell.execute_reply.started": "2024-06-27T10:21:29.596368Z"
    },
    "tags": []
   },
   "outputs": [
    {
     "name": "stdout",
     "output_type": "stream",
     "text": [
      "query: \n",
      "SELECT * \n",
      "FROM adot_reco_dev.profile_template\n",
      "WHERE source_domain = 'tdeal'\n",
      "\n",
      "destination: skt-datahub._775c5ccab1096b3cccd7ac34a5db11c0a354fb07.anon34076360561f0729eea34caba080f9829e3bed60bdb11628cbf464588e6ca344\n",
      "total_rows: 3\n",
      "slot_secs: 0.023\n",
      "\n",
      "Downloading: 100%|\u001b[32m██████████\u001b[0m|\n"
     ]
    }
   ],
   "source": [
    "template_df = bq_to_pandas(template_query)"
   ]
  },
  {
   "cell_type": "code",
   "execution_count": 155,
   "id": "bf8cff78-f55a-42dd-aea6-89226388b5d4",
   "metadata": {
    "execution": {
     "iopub.execute_input": "2024-06-27T10:21:32.857446Z",
     "iopub.status.busy": "2024-06-27T10:21:32.856629Z",
     "iopub.status.idle": "2024-06-27T10:21:32.865827Z",
     "shell.execute_reply": "2024-06-27T10:21:32.864826Z",
     "shell.execute_reply.started": "2024-06-27T10:21:32.857409Z"
    },
    "tags": []
   },
   "outputs": [],
   "source": [
    "tdeal_long_template = template_df.loc[template_df.property=='long'].template.values[0]\n",
    "tdeal_short_template = template_df.loc[template_df.property=='short'].template.values[0]\n",
    "tdeal_state_template = template_df.loc[template_df.property=='state'].template.values[0]"
   ]
  },
  {
   "cell_type": "code",
   "execution_count": 156,
   "id": "05b75d52-293e-48b7-b495-523562206175",
   "metadata": {
    "execution": {
     "iopub.execute_input": "2024-06-27T10:21:32.867165Z",
     "iopub.status.busy": "2024-06-27T10:21:32.866823Z",
     "iopub.status.idle": "2024-06-27T10:21:32.882530Z",
     "shell.execute_reply": "2024-06-27T10:21:32.881435Z",
     "shell.execute_reply.started": "2024-06-27T10:21:32.867141Z"
    },
    "tags": []
   },
   "outputs": [
    {
     "data": {
      "text/plain": [
       "'특징: {state_profile}'"
      ]
     },
     "execution_count": 156,
     "metadata": {},
     "output_type": "execute_result"
    }
   ],
   "source": [
    "tdeal_state_template"
   ]
  },
  {
   "cell_type": "code",
   "execution_count": 157,
   "id": "0e7db3e5-2998-4448-baff-8e56c682ad8a",
   "metadata": {
    "execution": {
     "iopub.execute_input": "2024-06-27T10:21:32.884562Z",
     "iopub.status.busy": "2024-06-27T10:21:32.884216Z",
     "iopub.status.idle": "2024-06-27T10:21:32.895999Z",
     "shell.execute_reply": "2024-06-27T10:21:32.895155Z",
     "shell.execute_reply.started": "2024-06-27T10:21:32.884537Z"
    },
    "tags": []
   },
   "outputs": [],
   "source": [
    "query = f\"\"\"\n",
    "WITH LOW_TABLE AS (\n",
    "    SELECT  luna_id,\n",
    "            CASE \n",
    "                WHEN longterm_profile='' THEN \"\"\n",
    "                ELSE    REGEXP_REPLACE(\n",
    "                          '{tdeal_long_template}',\n",
    "                          r'\\\\{{longterm_profile\\\\}}',\n",
    "                          longterm_profile\n",
    "                    )\n",
    "            END AS longterm_profile_template,\n",
    "\n",
    "            CASE \n",
    "                WHEN shortterm_profile='' THEN \"\"\n",
    "                ELSE \n",
    "                    REGEXP_REPLACE(\n",
    "                    '{tdeal_short_template}',\n",
    "                    r'\\\\{{shortterm_profile\\\\}}',\n",
    "                        shortterm_profile\n",
    "                    ) \n",
    "            END AS shortterm_profile_template,\n",
    "            CASE \n",
    "                WHEN state_profile='' THEN \"\"\n",
    "                ELSE \n",
    "                    REGEXP_REPLACE(\n",
    "                    '{tdeal_state_template}',\n",
    "                    r'\\\\{{state_profile\\\\}}',\n",
    "                        state_profile\n",
    "                    ) \n",
    "            END AS state_profile_template\n",
    "\n",
    "    FROM (\n",
    "        SELECT  luna_id,            \n",
    "                COALESCE(ARRAY_TO_STRING(long_prefered_domain, ','), '') as longterm_profile,\n",
    "                COALESCE(ARRAY_TO_STRING(short_prefered_domain, ','), '') as shortterm_profile,\n",
    "                COALESCE(ARRAY_TO_STRING(user_state, ','), '') as state_profile\n",
    "        FROM adot_reco_dev.temp_jh_tdeal_profile\n",
    "        WHERE luna_id is not null\n",
    "    )\n",
    "),\n",
    "\n",
    "MIDDLE_TABLE AS(\n",
    "    SELECT  luna_id,\n",
    "            CASE \n",
    "                WHEN longterm_profile_template !='' THEN  CONCAT(longterm_profile_template, ',' , shortterm_profile_template)\n",
    "            ELSE shortterm_profile_template\n",
    "            END AS tdeal_profile,\n",
    "            state_profile_template\n",
    "    FROM LOW_TABLE\n",
    ")\n",
    "\n",
    "SELECT  luna_id,\n",
    "        CASE \n",
    "            WHEN state_profile_template !='' THEN  CONCAT(state_profile_template, ',' , tdeal_profile)\n",
    "        ELSE tdeal_profile\n",
    "        END AS tdeal_profile\n",
    "FROM MIDDLE_TABLE\n",
    "\"\"\""
   ]
  },
  {
   "cell_type": "code",
   "execution_count": 162,
   "id": "2904e75d-ea9a-4c6f-b02c-ad573d4b8232",
   "metadata": {
    "execution": {
     "iopub.execute_input": "2024-06-27T10:23:36.067300Z",
     "iopub.status.busy": "2024-06-27T10:23:36.066593Z",
     "iopub.status.idle": "2024-06-27T10:23:41.103556Z",
     "shell.execute_reply": "2024-06-27T10:23:41.102273Z",
     "shell.execute_reply.started": "2024-06-27T10:23:36.067244Z"
    },
    "tags": []
   },
   "outputs": [
    {
     "name": "stdout",
     "output_type": "stream",
     "text": [
      "query: \n",
      "WITH LOW_TABLE AS (\n",
      "    SELECT  luna_id,\n",
      "            CASE \n",
      "                WHEN longterm_profile='' THEN \"\"\n",
      "                ELSE    REGEXP_REPLACE(\n",
      "                          '평소 {longterm_profile} 용품 구매에 관심',\n",
      "                          r'\\{longterm_profile\\}',\n",
      "                          longterm_profile\n",
      "                    )\n",
      "            END AS longterm_profile_template,\n",
      "\n",
      "            CASE \n",
      "                WHEN shortterm_profile='' THEN \"\"\n",
      "                ELSE \n",
      "                    REGEXP_REPLACE(\n",
      "                    '최근 {shortterm_profile} 용품 구매',\n",
      "                    r'\\{shortterm_profile\\}',\n",
      "                        shortterm_profile\n",
      "                    ) \n",
      "            END AS shortterm_profile_template,\n",
      "            CASE \n",
      "                WHEN state_profile='' THEN \"\"\n",
      "                ELSE \n",
      "                    REGEXP_REPLACE(\n",
      "                    '특징: {state_profile}',\n",
      "                    r'\\{state_profile\\}',\n",
      "                        state_profile\n",
      "                    ) \n",
      "            END AS state_profile_template\n",
      "\n",
      "    FROM (\n",
      "        SELECT  luna_id,            \n",
      "                COALESCE(ARRAY_TO_STRING(long_prefered_domain, ','), '') as longterm_profile,\n",
      "                COALESCE(ARRAY_TO_STRING(short_prefered_domain, ','), '') as shortterm_profile,\n",
      "                COALESCE(ARRAY_TO_STRING(user_state, ','), '') as state_profile\n",
      "        FROM adot_reco_dev.temp_jh_tdeal_profile\n",
      "        WHERE luna_id is not null\n",
      "    )\n",
      "),\n",
      "\n",
      "MIDDLE_TABLE AS(\n",
      "    SELECT  luna_id,\n",
      "            CASE \n",
      "                WHEN longterm_profile_template !='' THEN  CONCAT(longterm_profile_template, ',' , shortterm_profile_template)\n",
      "            ELSE shortterm_profile_template\n",
      "            END AS tdeal_profile,\n",
      "            state_profile_template\n",
      "    FROM LOW_TABLE\n",
      ")\n",
      "\n",
      "SELECT  luna_id,\n",
      "        CASE \n",
      "            WHEN state_profile_template !='' THEN  CONCAT(state_profile_template, ',' , tdeal_profile)\n",
      "        ELSE tdeal_profile\n",
      "        END AS tdeal_profile\n",
      "FROM MIDDLE_TABLE\n",
      "\n",
      "destination: skt-datahub.adot_reco_dev.adotUser_tdeal_profile_temp\n",
      "total_rows: 18964\n",
      "slot_secs: 0.903\n",
      "\n"
     ]
    }
   ],
   "source": [
    "bq_insert_overwrite(sql=query, destination=f'{PROJECT_ID}.adot_reco_dev.adotUser_tdeal_profile_temp')"
   ]
  },
  {
   "cell_type": "code",
   "execution_count": 158,
   "id": "4b8e841b-6b53-4b2d-82de-f2ad2d3a6aef",
   "metadata": {
    "execution": {
     "iopub.execute_input": "2024-06-27T10:21:32.897416Z",
     "iopub.status.busy": "2024-06-27T10:21:32.897038Z",
     "iopub.status.idle": "2024-06-27T10:21:37.345678Z",
     "shell.execute_reply": "2024-06-27T10:21:37.344361Z",
     "shell.execute_reply.started": "2024-06-27T10:21:32.897388Z"
    },
    "tags": []
   },
   "outputs": [
    {
     "name": "stdout",
     "output_type": "stream",
     "text": [
      "query: \n",
      "WITH LOW_TABLE AS (\n",
      "    SELECT  luna_id,\n",
      "            CASE \n",
      "                WHEN longterm_profile='' THEN \"\"\n",
      "                ELSE    REGEXP_REPLACE(\n",
      "                          '평소 {longterm_profile} 용품 구매에 관심',\n",
      "                          r'\\{longterm_profile\\}',\n",
      "                          longterm_profile\n",
      "                    )\n",
      "            END AS longterm_profile_template,\n",
      "\n",
      "            CASE \n",
      "                WHEN shortterm_profile='' THEN \"\"\n",
      "                ELSE \n",
      "                    REGEXP_REPLACE(\n",
      "                    '최근 {shortterm_profile} 용품 구매',\n",
      "                    r'\\{shortterm_profile\\}',\n",
      "                        shortterm_profile\n",
      "                    ) \n",
      "            END AS shortterm_profile_template,\n",
      "            CASE \n",
      "                WHEN state_profile='' THEN \"\"\n",
      "                ELSE \n",
      "                    REGEXP_REPLACE(\n",
      "                    '특징: {state_profile}',\n",
      "                    r'\\{state_profile\\}',\n",
      "                        state_profile\n",
      "                    ) \n",
      "            END AS state_profile_template\n",
      "\n",
      "    FROM (\n",
      "        SELECT  luna_id,            \n",
      "                COALESCE(ARRAY_TO_STRING(long_prefered_domain, ','), '') as longterm_profile,\n",
      "                COALESCE(ARRAY_TO_STRING(short_prefered_domain, ','), '') as shortterm_profile,\n",
      "                COALESCE(ARRAY_TO_STRING(user_state, ','), '') as state_profile\n",
      "        FROM adot_reco_dev.temp_jh_tdeal_profile\n",
      "        WHERE luna_id is not null\n",
      "    )\n",
      "),\n",
      "\n",
      "MIDDLE_TABLE AS(\n",
      "    SELECT  luna_id,\n",
      "            CASE \n",
      "                WHEN longterm_profile_template !='' THEN  CONCAT(longterm_profile_template, ',' , shortterm_profile_template)\n",
      "            ELSE shortterm_profile_template\n",
      "            END AS tdeal_profile,\n",
      "            state_profile_template\n",
      "    FROM LOW_TABLE\n",
      ")\n",
      "\n",
      "SELECT  luna_id,\n",
      "        CASE \n",
      "            WHEN state_profile_template !='' THEN  CONCAT(state_profile_template, ',' , tdeal_profile)\n",
      "        ELSE tdeal_profile\n",
      "        END AS tdeal_profile\n",
      "FROM MIDDLE_TABLE\n",
      "\n",
      "destination: skt-datahub._775c5ccab1096b3cccd7ac34a5db11c0a354fb07.anon295944ab1ae91c7c6c59bd9a1040d232f5341b170360bd592e8f8579451070de\n",
      "total_rows: 18964\n",
      "slot_secs: 0.272\n",
      "\n",
      "Downloading: 100%|\u001b[32m██████████\u001b[0m|\n"
     ]
    }
   ],
   "source": [
    "tdeal_profile = bq_to_pandas(query)"
   ]
  },
  {
   "cell_type": "code",
   "execution_count": null,
   "id": "f12b8297-7ffe-4ef7-9cb9-ac407c518071",
   "metadata": {},
   "outputs": [],
   "source": []
  },
  {
   "cell_type": "code",
   "execution_count": 159,
   "id": "a30a0dc8-d6f5-4efb-804e-0854b6c141a9",
   "metadata": {
    "execution": {
     "iopub.execute_input": "2024-06-27T10:21:37.348083Z",
     "iopub.status.busy": "2024-06-27T10:21:37.347448Z",
     "iopub.status.idle": "2024-06-27T10:21:37.411017Z",
     "shell.execute_reply": "2024-06-27T10:21:37.410018Z",
     "shell.execute_reply.started": "2024-06-27T10:21:37.348028Z"
    },
    "tags": []
   },
   "outputs": [],
   "source": [
    "tdeal_profile.to_csv('template_sample.csv')"
   ]
  },
  {
   "cell_type": "code",
   "execution_count": 161,
   "id": "03d3eed0-7a8b-431a-a4bf-c08e6bb1d8a3",
   "metadata": {
    "execution": {
     "iopub.execute_input": "2024-06-27T10:21:45.423432Z",
     "iopub.status.busy": "2024-06-27T10:21:45.422696Z",
     "iopub.status.idle": "2024-06-27T10:21:45.435896Z",
     "shell.execute_reply": "2024-06-27T10:21:45.434748Z",
     "shell.execute_reply.started": "2024-06-27T10:21:45.423375Z"
    },
    "tags": []
   },
   "outputs": [
    {
     "data": {
      "text/html": [
       "<div>\n",
       "<style scoped>\n",
       "    .dataframe tbody tr th:only-of-type {\n",
       "        vertical-align: middle;\n",
       "    }\n",
       "\n",
       "    .dataframe tbody tr th {\n",
       "        vertical-align: top;\n",
       "    }\n",
       "\n",
       "    .dataframe thead th {\n",
       "        text-align: right;\n",
       "    }\n",
       "</style>\n",
       "<table border=\"1\" class=\"dataframe\">\n",
       "  <thead>\n",
       "    <tr style=\"text-align: right;\">\n",
       "      <th></th>\n",
       "      <th>luna_id</th>\n",
       "      <th>tdeal_profile</th>\n",
       "    </tr>\n",
       "  </thead>\n",
       "  <tbody>\n",
       "    <tr>\n",
       "      <th>0</th>\n",
       "      <td>APL00000D8HTGIIHYZ9C</td>\n",
       "      <td>최근 골프 용품 구매</td>\n",
       "    </tr>\n",
       "    <tr>\n",
       "      <th>1</th>\n",
       "      <td>APL00000BYM42M1A248W</td>\n",
       "      <td>최근 골프 용품 구매</td>\n",
       "    </tr>\n",
       "    <tr>\n",
       "      <th>2</th>\n",
       "      <td>APL00000CJW5BXEJ2NSW</td>\n",
       "      <td>최근 골프 용품 구매</td>\n",
       "    </tr>\n",
       "    <tr>\n",
       "      <th>3</th>\n",
       "      <td>APL00000D4FXYRK04WZK</td>\n",
       "      <td>최근 골프 용품 구매</td>\n",
       "    </tr>\n",
       "    <tr>\n",
       "      <th>4</th>\n",
       "      <td>APL00000CASI8AJHAWHS</td>\n",
       "      <td>최근 골프 용품 구매</td>\n",
       "    </tr>\n",
       "    <tr>\n",
       "      <th>5</th>\n",
       "      <td>APL00000DGX3K077K6BK</td>\n",
       "      <td>최근 골프 용품 구매</td>\n",
       "    </tr>\n",
       "    <tr>\n",
       "      <th>6</th>\n",
       "      <td>APL00000CU3Z4N4K3R40</td>\n",
       "      <td>최근 골프 용품 구매</td>\n",
       "    </tr>\n",
       "    <tr>\n",
       "      <th>7</th>\n",
       "      <td>APL00000BR1BB1WK0BUO</td>\n",
       "      <td>최근 골프 용품 구매</td>\n",
       "    </tr>\n",
       "    <tr>\n",
       "      <th>8</th>\n",
       "      <td>APL00000D2EJGWFWFWU8</td>\n",
       "      <td>최근 골프 용품 구매</td>\n",
       "    </tr>\n",
       "    <tr>\n",
       "      <th>9</th>\n",
       "      <td>APL00000BPJNTODWB1FK</td>\n",
       "      <td>최근 골프 용품 구매</td>\n",
       "    </tr>\n",
       "  </tbody>\n",
       "</table>\n",
       "</div>"
      ],
      "text/plain": [
       "                luna_id tdeal_profile\n",
       "0  APL00000D8HTGIIHYZ9C   최근 골프 용품 구매\n",
       "1  APL00000BYM42M1A248W   최근 골프 용품 구매\n",
       "2  APL00000CJW5BXEJ2NSW   최근 골프 용품 구매\n",
       "3  APL00000D4FXYRK04WZK   최근 골프 용품 구매\n",
       "4  APL00000CASI8AJHAWHS   최근 골프 용품 구매\n",
       "5  APL00000DGX3K077K6BK   최근 골프 용품 구매\n",
       "6  APL00000CU3Z4N4K3R40   최근 골프 용품 구매\n",
       "7  APL00000BR1BB1WK0BUO   최근 골프 용품 구매\n",
       "8  APL00000D2EJGWFWFWU8   최근 골프 용품 구매\n",
       "9  APL00000BPJNTODWB1FK   최근 골프 용품 구매"
      ]
     },
     "execution_count": 161,
     "metadata": {},
     "output_type": "execute_result"
    }
   ],
   "source": [
    "tdeal_profile.head(10)"
   ]
  },
  {
   "cell_type": "code",
   "execution_count": null,
   "id": "be9240c2-69a5-44aa-8bba-6da5eccab1c6",
   "metadata": {},
   "outputs": [],
   "source": []
  }
 ],
 "metadata": {
  "kernelspec": {
   "display_name": "Python 3 (ipykernel)",
   "language": "python",
   "name": "python3"
  },
  "language_info": {
   "codemirror_mode": {
    "name": "ipython",
    "version": 3
   },
   "file_extension": ".py",
   "mimetype": "text/x-python",
   "name": "python",
   "nbconvert_exporter": "python",
   "pygments_lexer": "ipython3",
   "version": "3.8.19"
  }
 },
 "nbformat": 4,
 "nbformat_minor": 5
}
