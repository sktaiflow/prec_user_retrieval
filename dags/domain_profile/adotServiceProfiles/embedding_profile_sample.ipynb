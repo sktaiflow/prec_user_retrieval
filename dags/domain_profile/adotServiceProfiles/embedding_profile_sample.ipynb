{
 "cells": [
  {
   "cell_type": "code",
   "execution_count": 1,
   "id": "233ae0d5-b631-4211-903b-bef05c3a3e64",
   "metadata": {
    "execution": {
     "iopub.execute_input": "2024-06-30T06:10:37.125244Z",
     "iopub.status.busy": "2024-06-30T06:10:37.124498Z",
     "iopub.status.idle": "2024-06-30T06:10:37.241222Z",
     "shell.execute_reply": "2024-06-30T06:10:37.239780Z",
     "shell.execute_reply.started": "2024-06-30T06:10:37.125188Z"
    },
    "tags": []
   },
   "outputs": [],
   "source": [
    "from skt.vault_utils import get_secrets\n",
    "proxies = get_secrets('proxies')"
   ]
  },
  {
   "cell_type": "code",
   "execution_count": 2,
   "id": "19f8eb57-d288-4990-841f-c5d103a78384",
   "metadata": {
    "execution": {
     "iopub.execute_input": "2024-06-30T06:10:37.552213Z",
     "iopub.status.busy": "2024-06-30T06:10:37.551458Z",
     "iopub.status.idle": "2024-06-30T06:10:38.575916Z",
     "shell.execute_reply": "2024-06-30T06:10:38.574421Z",
     "shell.execute_reply.started": "2024-06-30T06:10:37.552149Z"
    },
    "tags": []
   },
   "outputs": [],
   "source": [
    "from skt.gcp import (\n",
    "    PROJECT_ID,\n",
    "    bq_insert_overwrite,\n",
    "    bq_to_df,\n",
    "    bq_to_pandas,\n",
    "    df_to_bq_table,\n",
    "    get_bigquery_client,\n",
    "    bq_table_exists,\n",
    "    get_max_part,\n",
    "    load_query_result_to_table,\n",
    "    pandas_to_bq,\n",
    "    pandas_to_bq_table,\n",
    "    load_bigquery_ipython_magic,\n",
    "    get_bigquery_client,\n",
    "    _print_query_job_results,\n",
    "    load_query_result_to_partitions\n",
    "    \n",
    ")\n",
    "\n",
    "from skt.ye import (\n",
    "    get_hdfs_conn,\n",
    "    get_spark,\n",
    "    hive_execute,\n",
    "    hive_to_pandas,\n",
    "    pandas_to_parquet,\n",
    "    slack_send,\n",
    "    get_secrets\n",
    ")"
   ]
  },
  {
   "cell_type": "code",
   "execution_count": 3,
   "id": "16806681-24d0-4c30-af2e-9d6e1f5e3339",
   "metadata": {
    "execution": {
     "iopub.execute_input": "2024-06-30T06:10:38.588595Z",
     "iopub.status.busy": "2024-06-30T06:10:38.587640Z",
     "iopub.status.idle": "2024-06-30T06:10:38.594064Z",
     "shell.execute_reply": "2024-06-30T06:10:38.592883Z",
     "shell.execute_reply.started": "2024-06-30T06:10:38.588532Z"
    },
    "tags": []
   },
   "outputs": [],
   "source": [
    "import os"
   ]
  },
  {
   "cell_type": "code",
   "execution_count": 4,
   "id": "96a58195-2e91-4a9c-abc1-b912551cda55",
   "metadata": {
    "execution": {
     "iopub.execute_input": "2024-06-30T06:10:40.609340Z",
     "iopub.status.busy": "2024-06-30T06:10:40.608560Z",
     "iopub.status.idle": "2024-06-30T06:10:40.616088Z",
     "shell.execute_reply": "2024-06-30T06:10:40.614846Z",
     "shell.execute_reply.started": "2024-06-30T06:10:40.609260Z"
    },
    "tags": []
   },
   "outputs": [],
   "source": [
    "os.environ['http_proxy'] = proxies['http']\n",
    "os.environ['https_proxy'] = proxies['https']"
   ]
  },
  {
   "cell_type": "code",
   "execution_count": 5,
   "id": "4a757ba5-f5b1-432d-b2b8-63d4b955edd4",
   "metadata": {
    "execution": {
     "iopub.execute_input": "2024-06-30T06:10:41.119243Z",
     "iopub.status.busy": "2024-06-30T06:10:41.118465Z",
     "iopub.status.idle": "2024-06-30T06:10:41.125005Z",
     "shell.execute_reply": "2024-06-30T06:10:41.123771Z",
     "shell.execute_reply.started": "2024-06-30T06:10:41.119178Z"
    },
    "tags": []
   },
   "outputs": [],
   "source": [
    "#!pip install transformers"
   ]
  },
  {
   "cell_type": "code",
   "execution_count": 6,
   "id": "5f25b522-4abc-4c8f-9bec-fd22047fb448",
   "metadata": {
    "execution": {
     "iopub.execute_input": "2024-06-30T06:10:45.543945Z",
     "iopub.status.busy": "2024-06-30T06:10:45.543150Z",
     "iopub.status.idle": "2024-06-30T06:10:47.060667Z",
     "shell.execute_reply": "2024-06-30T06:10:47.059927Z",
     "shell.execute_reply.started": "2024-06-30T06:10:45.543881Z"
    },
    "tags": []
   },
   "outputs": [],
   "source": [
    "import torch\n",
    "from transformers import (\n",
    "    AdamW,\n",
    "    AutoModel,\n",
    "    get_linear_schedule_with_warmup,\n",
    "    AutoTokenizer,\n",
    "    AutoConfig\n",
    ")\n",
    "import torch.nn.functional as F\n"
   ]
  },
  {
   "cell_type": "markdown",
   "id": "c538419b-674d-46ff-855d-7e2bafdef678",
   "metadata": {},
   "source": [
    "# EVENT EMBEDDING"
   ]
  },
  {
   "cell_type": "markdown",
   "id": "fec09a01-bd22-4ea0-9463-5e6b356ecffc",
   "metadata": {},
   "source": [
    "# data"
   ]
  },
  {
   "cell_type": "code",
   "execution_count": 8,
   "id": "3dc0d83e-e78b-4411-9731-30f2c3e40946",
   "metadata": {
    "execution": {
     "iopub.execute_input": "2024-06-30T06:11:39.555941Z",
     "iopub.status.busy": "2024-06-30T06:11:39.555092Z",
     "iopub.status.idle": "2024-06-30T06:11:39.563282Z",
     "shell.execute_reply": "2024-06-30T06:11:39.561987Z",
     "shell.execute_reply.started": "2024-06-30T06:11:39.555879Z"
    },
    "tags": []
   },
   "outputs": [],
   "source": [
    "team_ids = (\n",
    "    \"APL00000C9YLLYY6ST1C\",\n",
    "    \"APL00000C32HCIJVBYTC\",\n",
    "    \"APL00000BPQAQNPGIL8G\",\n",
    "    \"APL00000BJHW4MH1CYRK\",\n",
    "    \"APL00000BJQHK6DLFXFK\",\n",
    "    \"APL00000BJ7880KK6QKG\",\n",
    "    \"APL00000BP2XDZPWNLDS\",\n",
    "    \"APL00000BJIDIL2TP62O\",\n",
    "    \"APL00000BLE4UX86YN7K\",\n",
    "    \"APL00000BK0HM6I9TKW0\",\n",
    "    \"APL00000BJ7SZYXMPKW0\",\n",
    "    \"APL00000CBG69D7ZF0N4\",\n",
    "    \"APL00000D2RF7YKOULFK\",\n",
    "    \"APL00000BWL870Y1IDXC\",\n",
    "    \"APL00000BJQDP1MB591C\",\n",
    "    \"APL00000BJWB7QDVTKHS\",\n",
    "    \"APL00000C9W84KVCT6V4\",\n",
    "    \"APL00000BJAN9OTD7W8W\",\n",
    "    \"APL00000CQFNC0VHSWE8\",\n",
    "    \"APL00000BJIFB8GKCVSW\",\n",
    "    \"APL00000D7VQ7G7XIW3K\"\n",
    ")"
   ]
  },
  {
   "cell_type": "code",
   "execution_count": 28,
   "id": "73e24cb5-0897-47c2-a835-d091adf2e132",
   "metadata": {
    "execution": {
     "iopub.execute_input": "2024-06-30T06:27:57.271183Z",
     "iopub.status.busy": "2024-06-30T06:27:57.270031Z",
     "iopub.status.idle": "2024-06-30T06:27:57.279388Z",
     "shell.execute_reply": "2024-06-30T06:27:57.278444Z",
     "shell.execute_reply.started": "2024-06-30T06:27:57.271123Z"
    },
    "tags": []
   },
   "outputs": [],
   "source": [
    "def get_tables(table_nm:str):\n",
    "    query = f\"\"\"\n",
    "        SELECT  CONCAT(luna_id, \"_\", \"tmap\") as luna_id_key,\n",
    "                luna_id,\n",
    "                tmap_profile as profile_templates,\n",
    "                'tmap' as source_domain\n",
    "        FROM x1113099.user_retrieval_profile_tmap_text\n",
    "        WHERE luna_id in {team_ids}\n",
    "        \n",
    "        UNION ALL\n",
    "        \n",
    "        SELECT  CONCAT(luna_id, \"_\", \"adot\") as luna_id_key,\n",
    "                luna_id, \n",
    "                adot_profile as profile_templates,\n",
    "                'adot' as source_domain\n",
    "        FROM x1113099.user_retrieval_profile_adot_text\n",
    "        WHERE luna_id in {team_ids}\n",
    "        \n",
    "        UNION ALL\n",
    "        \n",
    "        SELECT  CONCAT(luna_id, \"_\", \"xdr\") as luna_id_key,\n",
    "                luna_id, \n",
    "                xdr_profile as profile_templates,\n",
    "                'xdr' as source_domain\n",
    "        FROM x1113099.user_retrieval_profile_xdr_text\n",
    "        WHERE luna_id in {team_ids}\n",
    "        \n",
    "        UNION ALL\n",
    "        \n",
    "        SELECT  CONCAT(luna_id, \"_\", \"tdeal\") as luna_id_key,\n",
    "                luna_id,\n",
    "                tdeal_profile as profile_templates,\n",
    "                'tdeal' as source_domain\n",
    "        FROM adot_reco_dev.adotUser_tdeal_profile_temp\n",
    "        WHERE luna_id in {team_ids}\n",
    "    \"\"\"\n",
    "    return bq_to_pandas(query)"
   ]
  },
  {
   "cell_type": "code",
   "execution_count": 29,
   "id": "2d45fd11-4eb9-47bc-a6c0-e847700f5a72",
   "metadata": {
    "execution": {
     "iopub.execute_input": "2024-06-30T06:27:57.514526Z",
     "iopub.status.busy": "2024-06-30T06:27:57.513830Z",
     "iopub.status.idle": "2024-06-30T06:28:21.867748Z",
     "shell.execute_reply": "2024-06-30T06:28:21.866539Z",
     "shell.execute_reply.started": "2024-06-30T06:27:57.514468Z"
    },
    "tags": []
   },
   "outputs": [
    {
     "name": "stdout",
     "output_type": "stream",
     "text": [
      "query: \n",
      "        SELECT  CONCAT(luna_id, \"_\", \"tmap\") as luna_id_key,\n",
      "                luna_id,\n",
      "                tmap_profile as profile_templates,\n",
      "                'tmap' as source_domain\n",
      "        FROM x1113099.user_retrieval_profile_tmap_text\n",
      "        WHERE luna_id in ('APL00000C9YLLYY6ST1C', 'APL00000C32HCIJVBYTC', 'APL00000BPQAQNPGIL8G', 'APL00000BJHW4MH1CYRK', 'APL00000BJQHK6DLFXFK', 'APL00000BJ7880KK6QKG', 'APL00000BP2XDZPWNLDS', 'APL00000BJIDIL2TP62O', 'APL00000BLE4UX86YN7K', 'APL00000BK0HM6I9TKW0', 'APL00000BJ7SZYXMPKW0', 'APL00000CBG69D7ZF0N4', 'APL00000D2RF7YKOULFK', 'APL00000BWL870Y1IDXC', 'APL00000BJQDP1MB591C', 'APL00000BJWB7QDVTKHS', 'APL00000C9W84KVCT6V4', 'APL00000BJAN9OTD7W8W', 'APL00000CQFNC0VHSWE8', 'APL00000BJIFB8GKCVSW', 'APL00000D7VQ7G7XIW3K')\n",
      "        \n",
      "        UNION ALL\n",
      "        \n",
      "        SELECT  CONCAT(luna_id, \"_\", \"adot\") as luna_id_key,\n",
      "                luna_id, \n",
      "                adot_profile as profile_templates,\n",
      "                'adot' as source_domain\n",
      "        FROM x1113099.user_retrieval_profile_adot_text\n",
      "        WHERE luna_id in ('APL00000C9YLLYY6ST1C', 'APL00000C32HCIJVBYTC', 'APL00000BPQAQNPGIL8G', 'APL00000BJHW4MH1CYRK', 'APL00000BJQHK6DLFXFK', 'APL00000BJ7880KK6QKG', 'APL00000BP2XDZPWNLDS', 'APL00000BJIDIL2TP62O', 'APL00000BLE4UX86YN7K', 'APL00000BK0HM6I9TKW0', 'APL00000BJ7SZYXMPKW0', 'APL00000CBG69D7ZF0N4', 'APL00000D2RF7YKOULFK', 'APL00000BWL870Y1IDXC', 'APL00000BJQDP1MB591C', 'APL00000BJWB7QDVTKHS', 'APL00000C9W84KVCT6V4', 'APL00000BJAN9OTD7W8W', 'APL00000CQFNC0VHSWE8', 'APL00000BJIFB8GKCVSW', 'APL00000D7VQ7G7XIW3K')\n",
      "        \n",
      "        UNION ALL\n",
      "        \n",
      "        SELECT  CONCAT(luna_id, \"_\", \"xdr\") as luna_id_key,\n",
      "                luna_id, \n",
      "                xdr_profile as profile_templates,\n",
      "                'xdr' as source_domain\n",
      "        FROM x1113099.user_retrieval_profile_xdr_text\n",
      "        WHERE luna_id in ('APL00000C9YLLYY6ST1C', 'APL00000C32HCIJVBYTC', 'APL00000BPQAQNPGIL8G', 'APL00000BJHW4MH1CYRK', 'APL00000BJQHK6DLFXFK', 'APL00000BJ7880KK6QKG', 'APL00000BP2XDZPWNLDS', 'APL00000BJIDIL2TP62O', 'APL00000BLE4UX86YN7K', 'APL00000BK0HM6I9TKW0', 'APL00000BJ7SZYXMPKW0', 'APL00000CBG69D7ZF0N4', 'APL00000D2RF7YKOULFK', 'APL00000BWL870Y1IDXC', 'APL00000BJQDP1MB591C', 'APL00000BJWB7QDVTKHS', 'APL00000C9W84KVCT6V4', 'APL00000BJAN9OTD7W8W', 'APL00000CQFNC0VHSWE8', 'APL00000BJIFB8GKCVSW', 'APL00000D7VQ7G7XIW3K')\n",
      "        \n",
      "        UNION ALL\n",
      "        \n",
      "        SELECT  CONCAT(luna_id, \"_\", \"tdeal\") as luna_id_key,\n",
      "                luna_id,\n",
      "                tdeal_profile as profile_templates,\n",
      "                'tdeal' as source_domain\n",
      "        FROM adot_reco_dev.adotUser_tdeal_profile_temp\n",
      "        WHERE luna_id in ('APL00000C9YLLYY6ST1C', 'APL00000C32HCIJVBYTC', 'APL00000BPQAQNPGIL8G', 'APL00000BJHW4MH1CYRK', 'APL00000BJQHK6DLFXFK', 'APL00000BJ7880KK6QKG', 'APL00000BP2XDZPWNLDS', 'APL00000BJIDIL2TP62O', 'APL00000BLE4UX86YN7K', 'APL00000BK0HM6I9TKW0', 'APL00000BJ7SZYXMPKW0', 'APL00000CBG69D7ZF0N4', 'APL00000D2RF7YKOULFK', 'APL00000BWL870Y1IDXC', 'APL00000BJQDP1MB591C', 'APL00000BJWB7QDVTKHS', 'APL00000C9W84KVCT6V4', 'APL00000BJAN9OTD7W8W', 'APL00000CQFNC0VHSWE8', 'APL00000BJIFB8GKCVSW', 'APL00000D7VQ7G7XIW3K')\n",
      "    \n",
      "destination: skt-datahub._775c5ccab1096b3cccd7ac34a5db11c0a354fb07.anond4b4d7ea8eebf737c5fbc8d9e46bd95fa7730ce1253cd842ea7314cb442103ef\n",
      "total_rows: 40\n",
      "slot_secs: 2.033\n",
      "\n",
      "Downloading: 100%|\u001b[32m██████████\u001b[0m|\n"
     ]
    }
   ],
   "source": [
    "data_df = get_tables(table_nm=\"adotUser_tdeal_profile_temp\")"
   ]
  },
  {
   "cell_type": "code",
   "execution_count": 31,
   "id": "9f34feca-f782-43a0-8481-0c627028b68a",
   "metadata": {
    "execution": {
     "iopub.execute_input": "2024-06-30T06:29:59.573875Z",
     "iopub.status.busy": "2024-06-30T06:29:59.573294Z",
     "iopub.status.idle": "2024-06-30T06:29:59.586745Z",
     "shell.execute_reply": "2024-06-30T06:29:59.585848Z",
     "shell.execute_reply.started": "2024-06-30T06:29:59.573819Z"
    },
    "tags": []
   },
   "outputs": [
    {
     "data": {
      "text/html": [
       "<div>\n",
       "<style scoped>\n",
       "    .dataframe tbody tr th:only-of-type {\n",
       "        vertical-align: middle;\n",
       "    }\n",
       "\n",
       "    .dataframe tbody tr th {\n",
       "        vertical-align: top;\n",
       "    }\n",
       "\n",
       "    .dataframe thead th {\n",
       "        text-align: right;\n",
       "    }\n",
       "</style>\n",
       "<table border=\"1\" class=\"dataframe\">\n",
       "  <thead>\n",
       "    <tr style=\"text-align: right;\">\n",
       "      <th></th>\n",
       "      <th>luna_id_key</th>\n",
       "      <th>luna_id</th>\n",
       "      <th>profile_templates</th>\n",
       "      <th>source_domain</th>\n",
       "    </tr>\n",
       "  </thead>\n",
       "  <tbody>\n",
       "    <tr>\n",
       "      <th>0</th>\n",
       "      <td>APL00000BJIFB8GKCVSW_xdr</td>\n",
       "      <td>APL00000BJIFB8GKCVSW</td>\n",
       "      <td>저는 주로 페이앱,공유 협업,라이브 방송 플랫폼 카테고리와 관련된 앱을 사용했어요</td>\n",
       "      <td>xdr</td>\n",
       "    </tr>\n",
       "    <tr>\n",
       "      <th>1</th>\n",
       "      <td>APL00000BJAN9OTD7W8W_xdr</td>\n",
       "      <td>APL00000BJAN9OTD7W8W</td>\n",
       "      <td>저는 주로 메일,온라인 쇼핑몰,구직,공유 협업,유아/아기,헬스/비대면진료,블로그,기...</td>\n",
       "      <td>xdr</td>\n",
       "    </tr>\n",
       "    <tr>\n",
       "      <th>2</th>\n",
       "      <td>APL00000C9W84KVCT6V4_xdr</td>\n",
       "      <td>APL00000C9W84KVCT6V4</td>\n",
       "      <td>저는 주로 포탈앱,소셜미디어,맛집/음식점, 배달,스타일/패션/뷰티,라이프스타일,공유...</td>\n",
       "      <td>xdr</td>\n",
       "    </tr>\n",
       "    <tr>\n",
       "      <th>3</th>\n",
       "      <td>APL00000BJQHK6DLFXFK_xdr</td>\n",
       "      <td>APL00000BJQHK6DLFXFK</td>\n",
       "      <td>저는 주로 메일,구직,라이프스타일,공유 협업,지도/네비,AI서비스 카테고리와 관련된...</td>\n",
       "      <td>xdr</td>\n",
       "    </tr>\n",
       "    <tr>\n",
       "      <th>4</th>\n",
       "      <td>APL00000D7VQ7G7XIW3K_xdr</td>\n",
       "      <td>APL00000D7VQ7G7XIW3K</td>\n",
       "      <td>저는 주로 영상 OTT,소셜미디어,맛집/음식점, 배달,메일,공유 협업,지도/네비,헬...</td>\n",
       "      <td>xdr</td>\n",
       "    </tr>\n",
       "    <tr>\n",
       "      <th>5</th>\n",
       "      <td>APL00000C9YLLYY6ST1C_xdr</td>\n",
       "      <td>APL00000C9YLLYY6ST1C</td>\n",
       "      <td>저는 주로 소셜미디어,부동산,메일,주식투자,자산 관리/투자,공유 협업,지도/네비,기...</td>\n",
       "      <td>xdr</td>\n",
       "    </tr>\n",
       "    <tr>\n",
       "      <th>6</th>\n",
       "      <td>APL00000CBG69D7ZF0N4_xdr</td>\n",
       "      <td>APL00000CBG69D7ZF0N4</td>\n",
       "      <td>저는 주로 음악,암호화폐,스타일/패션/뷰티,페이앱,주식투자,공유 협업,은행,온라인 ...</td>\n",
       "      <td>xdr</td>\n",
       "    </tr>\n",
       "    <tr>\n",
       "      <th>7</th>\n",
       "      <td>APL00000BJIDIL2TP62O_xdr</td>\n",
       "      <td>APL00000BJIDIL2TP62O</td>\n",
       "      <td>저는 주로 소셜미디어,온라인 서점/e 북,공유 협업,finance_etc,지도/네비...</td>\n",
       "      <td>xdr</td>\n",
       "    </tr>\n",
       "    <tr>\n",
       "      <th>8</th>\n",
       "      <td>APL00000C32HCIJVBYTC_xdr</td>\n",
       "      <td>APL00000C32HCIJVBYTC</td>\n",
       "      <td>저는 주로 communication_etc,game_etc,쿠폰/포인트앱,메일,온라...</td>\n",
       "      <td>xdr</td>\n",
       "    </tr>\n",
       "    <tr>\n",
       "      <th>9</th>\n",
       "      <td>APL00000BPQAQNPGIL8G_xdr</td>\n",
       "      <td>APL00000BPQAQNPGIL8G</td>\n",
       "      <td>저는 주로 소셜미디어,운송(공유차/비행기/버스),맛집/음식점, 배달,메일,공유 협업...</td>\n",
       "      <td>xdr</td>\n",
       "    </tr>\n",
       "    <tr>\n",
       "      <th>10</th>\n",
       "      <td>APL00000BJWB7QDVTKHS_xdr</td>\n",
       "      <td>APL00000BJWB7QDVTKHS</td>\n",
       "      <td>저는 주로 SKT서비스,문화예술,통신사,공유 협업,기타,라이브 방송 플랫폼 카테고리...</td>\n",
       "      <td>xdr</td>\n",
       "    </tr>\n",
       "    <tr>\n",
       "      <th>11</th>\n",
       "      <td>APL00000BJQDP1MB591C_xdr</td>\n",
       "      <td>APL00000BJQDP1MB591C</td>\n",
       "      <td>저는 주로 운송(공유차/비행기/버스),공유차(택시앱),페이앱,주식투자,통신사,지도/...</td>\n",
       "      <td>xdr</td>\n",
       "    </tr>\n",
       "    <tr>\n",
       "      <th>12</th>\n",
       "      <td>APL00000CQFNC0VHSWE8_xdr</td>\n",
       "      <td>APL00000CQFNC0VHSWE8</td>\n",
       "      <td>저는 주로 포탈앱,영상 OTT,소셜미디어,맛집/음식점, 배달,공유 협업,블로그,온라...</td>\n",
       "      <td>xdr</td>\n",
       "    </tr>\n",
       "    <tr>\n",
       "      <th>13</th>\n",
       "      <td>APL00000BJ7SZYXMPKW0_xdr</td>\n",
       "      <td>APL00000BJ7SZYXMPKW0</td>\n",
       "      <td>저는 주로 공유차(택시앱) 카테고리와 관련된 앱을 사용했어요</td>\n",
       "      <td>xdr</td>\n",
       "    </tr>\n",
       "    <tr>\n",
       "      <th>14</th>\n",
       "      <td>APL00000BLE4UX86YN7K_xdr</td>\n",
       "      <td>APL00000BLE4UX86YN7K</td>\n",
       "      <td>저는 주로 맛집/음식점, 배달,물류/택배,암호화폐,구직,주식투자,공유 협업,기타,온...</td>\n",
       "      <td>xdr</td>\n",
       "    </tr>\n",
       "    <tr>\n",
       "      <th>15</th>\n",
       "      <td>APL00000BK0HM6I9TKW0_xdr</td>\n",
       "      <td>APL00000BK0HM6I9TKW0</td>\n",
       "      <td>저는 주로 소셜미디어,쿠폰/포인트앱,메일,페이앱,주식투자,공유 협업,지도/네비,스포...</td>\n",
       "      <td>xdr</td>\n",
       "    </tr>\n",
       "    <tr>\n",
       "      <th>16</th>\n",
       "      <td>APL00000BJHW4MH1CYRK_xdr</td>\n",
       "      <td>APL00000BJHW4MH1CYRK</td>\n",
       "      <td>저는 주로 메일,공유 협업,기타,라이브 방송 플랫폼 카테고리와 관련된 앱을 사용했어요</td>\n",
       "      <td>xdr</td>\n",
       "    </tr>\n",
       "    <tr>\n",
       "      <th>17</th>\n",
       "      <td>APL00000BJ7880KK6QKG_xdr</td>\n",
       "      <td>APL00000BJ7880KK6QKG</td>\n",
       "      <td>저는 주로 소셜미디어,디자인,화상 채팅/회의,맛집/음식점, 배달,주식투자,공유 협업...</td>\n",
       "      <td>xdr</td>\n",
       "    </tr>\n",
       "    <tr>\n",
       "      <th>18</th>\n",
       "      <td>APL00000BJ7880KK6QKG_adot</td>\n",
       "      <td>APL00000BJ7880KK6QKG</td>\n",
       "      <td>저는 에이닷 서비스 중 주로 TV 서비스를 사용했어요</td>\n",
       "      <td>adot</td>\n",
       "    </tr>\n",
       "    <tr>\n",
       "      <th>19</th>\n",
       "      <td>APL00000BP2XDZPWNLDS_adot</td>\n",
       "      <td>APL00000BP2XDZPWNLDS</td>\n",
       "      <td>저는 에이닷 서비스 중 주로 루틴 서비스를 사용했어요</td>\n",
       "      <td>adot</td>\n",
       "    </tr>\n",
       "    <tr>\n",
       "      <th>20</th>\n",
       "      <td>APL00000D2RF7YKOULFK_adot</td>\n",
       "      <td>APL00000D2RF7YKOULFK</td>\n",
       "      <td>저는 에이닷 서비스 중 주로 전화, T서비스 서비스를 사용했어요</td>\n",
       "      <td>adot</td>\n",
       "    </tr>\n",
       "    <tr>\n",
       "      <th>21</th>\n",
       "      <td>APL00000C9W84KVCT6V4_adot</td>\n",
       "      <td>APL00000C9W84KVCT6V4</td>\n",
       "      <td>저는 에이닷 서비스 중 주로 전화, TV, 날씨, 루틴, 챗T 서비스를 사용했어요</td>\n",
       "      <td>adot</td>\n",
       "    </tr>\n",
       "    <tr>\n",
       "      <th>22</th>\n",
       "      <td>APL00000D7VQ7G7XIW3K_adot</td>\n",
       "      <td>APL00000D7VQ7G7XIW3K</td>\n",
       "      <td>저는 에이닷 서비스 중 주로 전화, 포토, 뉴스 서비스를 사용했어요</td>\n",
       "      <td>adot</td>\n",
       "    </tr>\n",
       "    <tr>\n",
       "      <th>23</th>\n",
       "      <td>APL00000BJQDP1MB591C_adot</td>\n",
       "      <td>APL00000BJQDP1MB591C</td>\n",
       "      <td>저는 에이닷 서비스 중 주로 혼잡도, 루틴, 뉴스 서비스를 사용했어요</td>\n",
       "      <td>adot</td>\n",
       "    </tr>\n",
       "    <tr>\n",
       "      <th>24</th>\n",
       "      <td>APL00000BPQAQNPGIL8G_adot</td>\n",
       "      <td>APL00000BPQAQNPGIL8G</td>\n",
       "      <td>저는 에이닷 서비스 중 주로 전화, 캘린더, 캠페인, TV, 날씨, 루틴, 뉴스, ...</td>\n",
       "      <td>adot</td>\n",
       "    </tr>\n",
       "    <tr>\n",
       "      <th>25</th>\n",
       "      <td>APL00000BJWB7QDVTKHS_adot</td>\n",
       "      <td>APL00000BJWB7QDVTKHS</td>\n",
       "      <td>저는 에이닷 서비스 중 주로 혼잡도, 루틴, T서비스 서비스를 사용했어요</td>\n",
       "      <td>adot</td>\n",
       "    </tr>\n",
       "    <tr>\n",
       "      <th>26</th>\n",
       "      <td>APL00000C9YLLYY6ST1C_adot</td>\n",
       "      <td>APL00000C9YLLYY6ST1C</td>\n",
       "      <td>저는 에이닷 서비스 중 주로 포토, 전화, 루틴, 뉴스 서비스를 사용했어요</td>\n",
       "      <td>adot</td>\n",
       "    </tr>\n",
       "    <tr>\n",
       "      <th>27</th>\n",
       "      <td>APL00000BJIFB8GKCVSW_adot</td>\n",
       "      <td>APL00000BJIFB8GKCVSW</td>\n",
       "      <td>저는 에이닷 서비스 중 주로 전화, 캘린더 서비스를 사용했어요</td>\n",
       "      <td>adot</td>\n",
       "    </tr>\n",
       "    <tr>\n",
       "      <th>28</th>\n",
       "      <td>APL00000BJHW4MH1CYRK_adot</td>\n",
       "      <td>APL00000BJHW4MH1CYRK</td>\n",
       "      <td>저는 에이닷 서비스 중 주로 전화, 캘린더, 루틴 서비스를 사용했어요</td>\n",
       "      <td>adot</td>\n",
       "    </tr>\n",
       "    <tr>\n",
       "      <th>29</th>\n",
       "      <td>APL00000BK0HM6I9TKW0_adot</td>\n",
       "      <td>APL00000BK0HM6I9TKW0</td>\n",
       "      <td>저는 에이닷 서비스 중 주로 음악 서비스를 사용했어요</td>\n",
       "      <td>adot</td>\n",
       "    </tr>\n",
       "    <tr>\n",
       "      <th>30</th>\n",
       "      <td>APL00000D2RF7YKOULFK_tmap</td>\n",
       "      <td>APL00000D2RF7YKOULFK</td>\n",
       "      <td>저는 이동 시 주로 생활서비스, 가구, 숙박, 자동차시설, 기타의료시설 관련 장소 ...</td>\n",
       "      <td>tmap</td>\n",
       "    </tr>\n",
       "    <tr>\n",
       "      <th>31</th>\n",
       "      <td>APL00000BPQAQNPGIL8G_tmap</td>\n",
       "      <td>APL00000BPQAQNPGIL8G</td>\n",
       "      <td>저는 이동 시 주로 대형유통점, 슈퍼/마트 관련 장소 중 편의점, 대형마트 경로지에...</td>\n",
       "      <td>tmap</td>\n",
       "    </tr>\n",
       "    <tr>\n",
       "      <th>32</th>\n",
       "      <td>APL00000BJ7SZYXMPKW0_tmap</td>\n",
       "      <td>APL00000BJ7SZYXMPKW0</td>\n",
       "      <td>저는 이동 시 주로 의료시설, 자동차시설 관련 장소 중 주차장, 의원 경로지에 자주...</td>\n",
       "      <td>tmap</td>\n",
       "    </tr>\n",
       "    <tr>\n",
       "      <th>33</th>\n",
       "      <td>APL00000D7VQ7G7XIW3K_tmap</td>\n",
       "      <td>APL00000D7VQ7G7XIW3K</td>\n",
       "      <td>저는 이동 시 주로 음식점, 카페 관련 장소 중 패밀리레스토랑, 이색카페 경로지에 ...</td>\n",
       "      <td>tmap</td>\n",
       "    </tr>\n",
       "    <tr>\n",
       "      <th>34</th>\n",
       "      <td>APL00000BJHW4MH1CYRK_tmap</td>\n",
       "      <td>APL00000BJHW4MH1CYRK</td>\n",
       "      <td>저는 이동 시 주로 음식점, 레저/스포츠 관련 장소 중 캠프장, 한식 경로지에 자주...</td>\n",
       "      <td>tmap</td>\n",
       "    </tr>\n",
       "    <tr>\n",
       "      <th>35</th>\n",
       "      <td>APL00000BJAN9OTD7W8W_tmap</td>\n",
       "      <td>APL00000BJAN9OTD7W8W</td>\n",
       "      <td>저는 이동 시 주로 상설할인매장, 자동차시설 관련 장소 중 주차장, 유아용품 경로지...</td>\n",
       "      <td>tmap</td>\n",
       "    </tr>\n",
       "    <tr>\n",
       "      <th>36</th>\n",
       "      <td>APL00000BJQDP1MB591C_tmap</td>\n",
       "      <td>APL00000BJQDP1MB591C</td>\n",
       "      <td>저는 이동 시 주로 레저/스포츠 관련 장소 중 골프연습장 경로지에 자주 방문했어요</td>\n",
       "      <td>tmap</td>\n",
       "    </tr>\n",
       "    <tr>\n",
       "      <th>37</th>\n",
       "      <td>APL00000CBG69D7ZF0N4_tmap</td>\n",
       "      <td>APL00000CBG69D7ZF0N4</td>\n",
       "      <td>저는 이동 시 주로 문화생활시설, 의료시설, 음식점, 레저/스포츠, 아울렛, 자동차...</td>\n",
       "      <td>tmap</td>\n",
       "    </tr>\n",
       "    <tr>\n",
       "      <th>38</th>\n",
       "      <td>APL00000C9YLLYY6ST1C_tmap</td>\n",
       "      <td>APL00000C9YLLYY6ST1C</td>\n",
       "      <td>저는 이동 시 주로 의료시설, 슈퍼/마트 관련 장소 중 의원, 대형마트 경로지에 자...</td>\n",
       "      <td>tmap</td>\n",
       "    </tr>\n",
       "    <tr>\n",
       "      <th>39</th>\n",
       "      <td>APL00000BJ7880KK6QKG_tmap</td>\n",
       "      <td>APL00000BJ7880KK6QKG</td>\n",
       "      <td>저는 이동 시 주로 음식점, 레저/스포츠, 자동차시설, 교통시설 관련 장소 중 주차...</td>\n",
       "      <td>tmap</td>\n",
       "    </tr>\n",
       "  </tbody>\n",
       "</table>\n",
       "</div>"
      ],
      "text/plain": [
       "                  luna_id_key               luna_id  \\\n",
       "0    APL00000BJIFB8GKCVSW_xdr  APL00000BJIFB8GKCVSW   \n",
       "1    APL00000BJAN9OTD7W8W_xdr  APL00000BJAN9OTD7W8W   \n",
       "2    APL00000C9W84KVCT6V4_xdr  APL00000C9W84KVCT6V4   \n",
       "3    APL00000BJQHK6DLFXFK_xdr  APL00000BJQHK6DLFXFK   \n",
       "4    APL00000D7VQ7G7XIW3K_xdr  APL00000D7VQ7G7XIW3K   \n",
       "5    APL00000C9YLLYY6ST1C_xdr  APL00000C9YLLYY6ST1C   \n",
       "6    APL00000CBG69D7ZF0N4_xdr  APL00000CBG69D7ZF0N4   \n",
       "7    APL00000BJIDIL2TP62O_xdr  APL00000BJIDIL2TP62O   \n",
       "8    APL00000C32HCIJVBYTC_xdr  APL00000C32HCIJVBYTC   \n",
       "9    APL00000BPQAQNPGIL8G_xdr  APL00000BPQAQNPGIL8G   \n",
       "10   APL00000BJWB7QDVTKHS_xdr  APL00000BJWB7QDVTKHS   \n",
       "11   APL00000BJQDP1MB591C_xdr  APL00000BJQDP1MB591C   \n",
       "12   APL00000CQFNC0VHSWE8_xdr  APL00000CQFNC0VHSWE8   \n",
       "13   APL00000BJ7SZYXMPKW0_xdr  APL00000BJ7SZYXMPKW0   \n",
       "14   APL00000BLE4UX86YN7K_xdr  APL00000BLE4UX86YN7K   \n",
       "15   APL00000BK0HM6I9TKW0_xdr  APL00000BK0HM6I9TKW0   \n",
       "16   APL00000BJHW4MH1CYRK_xdr  APL00000BJHW4MH1CYRK   \n",
       "17   APL00000BJ7880KK6QKG_xdr  APL00000BJ7880KK6QKG   \n",
       "18  APL00000BJ7880KK6QKG_adot  APL00000BJ7880KK6QKG   \n",
       "19  APL00000BP2XDZPWNLDS_adot  APL00000BP2XDZPWNLDS   \n",
       "20  APL00000D2RF7YKOULFK_adot  APL00000D2RF7YKOULFK   \n",
       "21  APL00000C9W84KVCT6V4_adot  APL00000C9W84KVCT6V4   \n",
       "22  APL00000D7VQ7G7XIW3K_adot  APL00000D7VQ7G7XIW3K   \n",
       "23  APL00000BJQDP1MB591C_adot  APL00000BJQDP1MB591C   \n",
       "24  APL00000BPQAQNPGIL8G_adot  APL00000BPQAQNPGIL8G   \n",
       "25  APL00000BJWB7QDVTKHS_adot  APL00000BJWB7QDVTKHS   \n",
       "26  APL00000C9YLLYY6ST1C_adot  APL00000C9YLLYY6ST1C   \n",
       "27  APL00000BJIFB8GKCVSW_adot  APL00000BJIFB8GKCVSW   \n",
       "28  APL00000BJHW4MH1CYRK_adot  APL00000BJHW4MH1CYRK   \n",
       "29  APL00000BK0HM6I9TKW0_adot  APL00000BK0HM6I9TKW0   \n",
       "30  APL00000D2RF7YKOULFK_tmap  APL00000D2RF7YKOULFK   \n",
       "31  APL00000BPQAQNPGIL8G_tmap  APL00000BPQAQNPGIL8G   \n",
       "32  APL00000BJ7SZYXMPKW0_tmap  APL00000BJ7SZYXMPKW0   \n",
       "33  APL00000D7VQ7G7XIW3K_tmap  APL00000D7VQ7G7XIW3K   \n",
       "34  APL00000BJHW4MH1CYRK_tmap  APL00000BJHW4MH1CYRK   \n",
       "35  APL00000BJAN9OTD7W8W_tmap  APL00000BJAN9OTD7W8W   \n",
       "36  APL00000BJQDP1MB591C_tmap  APL00000BJQDP1MB591C   \n",
       "37  APL00000CBG69D7ZF0N4_tmap  APL00000CBG69D7ZF0N4   \n",
       "38  APL00000C9YLLYY6ST1C_tmap  APL00000C9YLLYY6ST1C   \n",
       "39  APL00000BJ7880KK6QKG_tmap  APL00000BJ7880KK6QKG   \n",
       "\n",
       "                                    profile_templates source_domain  \n",
       "0       저는 주로 페이앱,공유 협업,라이브 방송 플랫폼 카테고리와 관련된 앱을 사용했어요           xdr  \n",
       "1   저는 주로 메일,온라인 쇼핑몰,구직,공유 협업,유아/아기,헬스/비대면진료,블로그,기...           xdr  \n",
       "2   저는 주로 포탈앱,소셜미디어,맛집/음식점, 배달,스타일/패션/뷰티,라이프스타일,공유...           xdr  \n",
       "3   저는 주로 메일,구직,라이프스타일,공유 협업,지도/네비,AI서비스 카테고리와 관련된...           xdr  \n",
       "4   저는 주로 영상 OTT,소셜미디어,맛집/음식점, 배달,메일,공유 협업,지도/네비,헬...           xdr  \n",
       "5   저는 주로 소셜미디어,부동산,메일,주식투자,자산 관리/투자,공유 협업,지도/네비,기...           xdr  \n",
       "6   저는 주로 음악,암호화폐,스타일/패션/뷰티,페이앱,주식투자,공유 협업,은행,온라인 ...           xdr  \n",
       "7   저는 주로 소셜미디어,온라인 서점/e 북,공유 협업,finance_etc,지도/네비...           xdr  \n",
       "8   저는 주로 communication_etc,game_etc,쿠폰/포인트앱,메일,온라...           xdr  \n",
       "9   저는 주로 소셜미디어,운송(공유차/비행기/버스),맛집/음식점, 배달,메일,공유 협업...           xdr  \n",
       "10  저는 주로 SKT서비스,문화예술,통신사,공유 협업,기타,라이브 방송 플랫폼 카테고리...           xdr  \n",
       "11  저는 주로 운송(공유차/비행기/버스),공유차(택시앱),페이앱,주식투자,통신사,지도/...           xdr  \n",
       "12  저는 주로 포탈앱,영상 OTT,소셜미디어,맛집/음식점, 배달,공유 협업,블로그,온라...           xdr  \n",
       "13                  저는 주로 공유차(택시앱) 카테고리와 관련된 앱을 사용했어요           xdr  \n",
       "14  저는 주로 맛집/음식점, 배달,물류/택배,암호화폐,구직,주식투자,공유 협업,기타,온...           xdr  \n",
       "15  저는 주로 소셜미디어,쿠폰/포인트앱,메일,페이앱,주식투자,공유 협업,지도/네비,스포...           xdr  \n",
       "16    저는 주로 메일,공유 협업,기타,라이브 방송 플랫폼 카테고리와 관련된 앱을 사용했어요           xdr  \n",
       "17  저는 주로 소셜미디어,디자인,화상 채팅/회의,맛집/음식점, 배달,주식투자,공유 협업...           xdr  \n",
       "18                      저는 에이닷 서비스 중 주로 TV 서비스를 사용했어요          adot  \n",
       "19                      저는 에이닷 서비스 중 주로 루틴 서비스를 사용했어요          adot  \n",
       "20                저는 에이닷 서비스 중 주로 전화, T서비스 서비스를 사용했어요          adot  \n",
       "21      저는 에이닷 서비스 중 주로 전화, TV, 날씨, 루틴, 챗T 서비스를 사용했어요          adot  \n",
       "22              저는 에이닷 서비스 중 주로 전화, 포토, 뉴스 서비스를 사용했어요          adot  \n",
       "23             저는 에이닷 서비스 중 주로 혼잡도, 루틴, 뉴스 서비스를 사용했어요          adot  \n",
       "24  저는 에이닷 서비스 중 주로 전화, 캘린더, 캠페인, TV, 날씨, 루틴, 뉴스, ...          adot  \n",
       "25           저는 에이닷 서비스 중 주로 혼잡도, 루틴, T서비스 서비스를 사용했어요          adot  \n",
       "26          저는 에이닷 서비스 중 주로 포토, 전화, 루틴, 뉴스 서비스를 사용했어요          adot  \n",
       "27                 저는 에이닷 서비스 중 주로 전화, 캘린더 서비스를 사용했어요          adot  \n",
       "28             저는 에이닷 서비스 중 주로 전화, 캘린더, 루틴 서비스를 사용했어요          adot  \n",
       "29                      저는 에이닷 서비스 중 주로 음악 서비스를 사용했어요          adot  \n",
       "30  저는 이동 시 주로 생활서비스, 가구, 숙박, 자동차시설, 기타의료시설 관련 장소 ...          tmap  \n",
       "31  저는 이동 시 주로 대형유통점, 슈퍼/마트 관련 장소 중 편의점, 대형마트 경로지에...          tmap  \n",
       "32  저는 이동 시 주로 의료시설, 자동차시설 관련 장소 중 주차장, 의원 경로지에 자주...          tmap  \n",
       "33  저는 이동 시 주로 음식점, 카페 관련 장소 중 패밀리레스토랑, 이색카페 경로지에 ...          tmap  \n",
       "34  저는 이동 시 주로 음식점, 레저/스포츠 관련 장소 중 캠프장, 한식 경로지에 자주...          tmap  \n",
       "35  저는 이동 시 주로 상설할인매장, 자동차시설 관련 장소 중 주차장, 유아용품 경로지...          tmap  \n",
       "36      저는 이동 시 주로 레저/스포츠 관련 장소 중 골프연습장 경로지에 자주 방문했어요          tmap  \n",
       "37  저는 이동 시 주로 문화생활시설, 의료시설, 음식점, 레저/스포츠, 아울렛, 자동차...          tmap  \n",
       "38  저는 이동 시 주로 의료시설, 슈퍼/마트 관련 장소 중 의원, 대형마트 경로지에 자...          tmap  \n",
       "39  저는 이동 시 주로 음식점, 레저/스포츠, 자동차시설, 교통시설 관련 장소 중 주차...          tmap  "
      ]
     },
     "execution_count": 31,
     "metadata": {},
     "output_type": "execute_result"
    }
   ],
   "source": [
    "data_df"
   ]
  },
  {
   "cell_type": "code",
   "execution_count": 32,
   "id": "30de2f67-2ea9-4124-bc3c-6fba86ba8962",
   "metadata": {
    "execution": {
     "iopub.execute_input": "2024-06-30T06:30:11.251102Z",
     "iopub.status.busy": "2024-06-30T06:30:11.250384Z",
     "iopub.status.idle": "2024-06-30T06:30:11.258900Z",
     "shell.execute_reply": "2024-06-30T06:30:11.257809Z",
     "shell.execute_reply.started": "2024-06-30T06:30:11.251039Z"
    },
    "tags": []
   },
   "outputs": [],
   "source": [
    "profile_dict = data_df.set_index(\"luna_id_key\").to_dict()['profile_templates']"
   ]
  },
  {
   "cell_type": "code",
   "execution_count": 33,
   "id": "a757a9de-f0fb-4622-b987-07921ccb3761",
   "metadata": {
    "execution": {
     "iopub.execute_input": "2024-06-28T06:53:57.357095Z",
     "iopub.status.busy": "2024-06-28T06:53:57.356649Z",
     "iopub.status.idle": "2024-06-28T06:53:57.382310Z",
     "shell.execute_reply": "2024-06-28T06:53:57.381533Z",
     "shell.execute_reply.started": "2024-06-28T06:53:57.357058Z"
    },
    "tags": []
   },
   "outputs": [],
   "source": [
    "profile_dict = data_df.set_index(\"luna_id\").to_dict()['tdeal_profile']"
   ]
  },
  {
   "cell_type": "code",
   "execution_count": 34,
   "id": "d6e23f5b-29ba-4eb0-8ff7-756a084b4b4f",
   "metadata": {
    "execution": {
     "iopub.execute_input": "2024-06-30T06:30:37.434591Z",
     "iopub.status.busy": "2024-06-30T06:30:37.433811Z",
     "iopub.status.idle": "2024-06-30T06:30:37.441371Z",
     "shell.execute_reply": "2024-06-30T06:30:37.440257Z",
     "shell.execute_reply.started": "2024-06-30T06:30:37.434525Z"
    },
    "tags": []
   },
   "outputs": [],
   "source": [
    "profiles = []\n",
    "luna_ids = []\n",
    "for luna_id, profile in profile_dict.items():\n",
    "    profiles.append(profile)\n",
    "    luna_ids.append(luna_id)"
   ]
  },
  {
   "cell_type": "markdown",
   "id": "dfa5f979-74ae-436a-b8a8-300afad57ee5",
   "metadata": {},
   "source": [
    "# Inference"
   ]
  },
  {
   "cell_type": "code",
   "execution_count": 35,
   "id": "37d4495d-8277-4bb1-a1f8-56a214d439f6",
   "metadata": {
    "execution": {
     "iopub.execute_input": "2024-06-30T06:30:47.019678Z",
     "iopub.status.busy": "2024-06-30T06:30:47.018895Z",
     "iopub.status.idle": "2024-06-30T06:30:49.375294Z",
     "shell.execute_reply": "2024-06-30T06:30:49.374507Z",
     "shell.execute_reply.started": "2024-06-30T06:30:47.019613Z"
    },
    "tags": []
   },
   "outputs": [],
   "source": [
    "model = AutoModel.from_pretrained('BM-K/KoDiffCSE-RoBERTa')\n",
    "tokenizer = AutoTokenizer.from_pretrained('BM-K/KoDiffCSE-RoBERTa')"
   ]
  },
  {
   "cell_type": "code",
   "execution_count": 36,
   "id": "bf013d95-0389-4bc9-a6f5-326a1ec5070b",
   "metadata": {
    "execution": {
     "iopub.execute_input": "2024-06-30T06:30:49.892560Z",
     "iopub.status.busy": "2024-06-30T06:30:49.891468Z",
     "iopub.status.idle": "2024-06-30T06:30:50.184736Z",
     "shell.execute_reply": "2024-06-30T06:30:50.183851Z",
     "shell.execute_reply.started": "2024-06-30T06:30:49.892492Z"
    },
    "tags": []
   },
   "outputs": [],
   "source": [
    "device = torch.device(\"cuda\" if torch.cuda.is_available() else \"cpu\")\n",
    "model = model.to(device)"
   ]
  },
  {
   "cell_type": "code",
   "execution_count": 38,
   "id": "1b81386c-83e4-405b-b7d5-0e2f0d182421",
   "metadata": {
    "execution": {
     "iopub.execute_input": "2024-06-30T06:31:18.175991Z",
     "iopub.status.busy": "2024-06-30T06:31:18.175229Z",
     "iopub.status.idle": "2024-06-30T06:31:18.182153Z",
     "shell.execute_reply": "2024-06-30T06:31:18.180764Z",
     "shell.execute_reply.started": "2024-06-30T06:31:18.175930Z"
    },
    "tags": []
   },
   "outputs": [],
   "source": [
    "from tqdm.notebook import tqdm"
   ]
  },
  {
   "cell_type": "code",
   "execution_count": 39,
   "id": "bba69d70-6266-4a3a-bfd1-ebbdb4874a20",
   "metadata": {
    "execution": {
     "iopub.execute_input": "2024-06-30T06:31:23.234505Z",
     "iopub.status.busy": "2024-06-30T06:31:23.233679Z",
     "iopub.status.idle": "2024-06-30T06:31:23.247125Z",
     "shell.execute_reply": "2024-06-30T06:31:23.245885Z",
     "shell.execute_reply.started": "2024-06-30T06:31:23.234441Z"
    },
    "tags": []
   },
   "outputs": [],
   "source": [
    "def batch_embedd(profiles:list, luna_ids:list, batch_size = 32, method=\"cls\"):\n",
    "    embedding_result = []\n",
    "    luna_id_result = []\n",
    "    with torch.no_grad():\n",
    "        for i in range(0, len(profiles), batch_size):\n",
    "            batch = profiles[i:i+batch_size]\n",
    "            batch_luna_ids = luna_ids[i:i+batch_size]\n",
    "            inputs = tokenizer(batch, padding=True, truncation=True, return_tensors=\"pt\").to(device)\n",
    "            outputs = model(**inputs, return_dict=True)\n",
    "            #embeddings, _ = model(**inputs, return_dict=False)\n",
    "            if method =='cls':\n",
    "                embeddings = outputs.last_hidden_state[:, 0, :]  \n",
    "                embeddings = F.normalize(embeddings, p=2, dim=1)\n",
    "                embeddings = embeddings.unsqueeze(1)\n",
    "            elif method =='mean_pool':\n",
    "                embeddings = torch.mean(outputs.last_hidden_state, dim=1)\n",
    "                embeddings = F.normalize(embeddings, p=2, dim=1)\n",
    "                embeddings = embeddings.unsqueeze(1) # Shape: (batch_size, 768)\n",
    "            embedding_result.extend(embeddings.cpu().numpy())\n",
    "            luna_id_result.extend(batch_luna_ids)\n",
    "            \n",
    "    return embedding_result, luna_id_result"
   ]
  },
  {
   "cell_type": "code",
   "execution_count": 40,
   "id": "6ba72170-a834-4cd0-8dc4-7bc2331a444e",
   "metadata": {
    "execution": {
     "iopub.execute_input": "2024-06-30T06:31:32.432683Z",
     "iopub.status.busy": "2024-06-30T06:31:32.431873Z",
     "iopub.status.idle": "2024-06-30T06:31:33.410119Z",
     "shell.execute_reply": "2024-06-30T06:31:33.409209Z",
     "shell.execute_reply.started": "2024-06-30T06:31:32.432620Z"
    },
    "tags": []
   },
   "outputs": [],
   "source": [
    "embedding_result, luna_id_result = batch_embedd(profiles, luna_ids)"
   ]
  },
  {
   "cell_type": "code",
   "execution_count": 42,
   "id": "a41cf083-b53a-47c0-8d7f-c4b9aeee1af7",
   "metadata": {
    "execution": {
     "iopub.execute_input": "2024-06-30T06:32:05.279440Z",
     "iopub.status.busy": "2024-06-30T06:32:05.278692Z",
     "iopub.status.idle": "2024-06-30T06:32:05.283887Z",
     "shell.execute_reply": "2024-06-30T06:32:05.283230Z",
     "shell.execute_reply.started": "2024-06-30T06:32:05.279379Z"
    },
    "tags": []
   },
   "outputs": [],
   "source": [
    "# id단위로 reformulate"
   ]
  },
  {
   "cell_type": "code",
   "execution_count": 45,
   "id": "b59648f3-21e4-4cf8-8108-0f5a123f7f6d",
   "metadata": {
    "execution": {
     "iopub.execute_input": "2024-06-30T06:32:19.230329Z",
     "iopub.status.busy": "2024-06-30T06:32:19.229552Z",
     "iopub.status.idle": "2024-06-30T06:32:19.238795Z",
     "shell.execute_reply": "2024-06-30T06:32:19.237489Z",
     "shell.execute_reply.started": "2024-06-30T06:32:19.230252Z"
    },
    "tags": []
   },
   "outputs": [
    {
     "data": {
      "text/plain": [
       "'APL00000BJIFB8GKCVSW_xdr'"
      ]
     },
     "execution_count": 45,
     "metadata": {},
     "output_type": "execute_result"
    }
   ],
   "source": [
    "luna_id_result[0]"
   ]
  },
  {
   "cell_type": "code",
   "execution_count": 46,
   "id": "51815043-532a-4683-acea-9383bdf65480",
   "metadata": {
    "execution": {
     "iopub.execute_input": "2024-06-30T06:34:00.736846Z",
     "iopub.status.busy": "2024-06-30T06:34:00.736086Z",
     "iopub.status.idle": "2024-06-30T06:34:00.743524Z",
     "shell.execute_reply": "2024-06-30T06:34:00.742754Z",
     "shell.execute_reply.started": "2024-06-30T06:34:00.736785Z"
    },
    "tags": []
   },
   "outputs": [],
   "source": [
    "result = []\n",
    "for i in range(len(luna_id_result)):\n",
    "    result.append({\"profile_text\": profiles[i], \"profile_vector\": embedding_result[i].squeeze(0), \"luna_id\":luna_id_result[i].split('_')[0], 'source_domain':luna_id_result[i].split('_')[1], 'dt':'temp'})"
   ]
  },
  {
   "cell_type": "code",
   "execution_count": 49,
   "id": "651e7e54-4ae8-49fa-8874-3e14ebc4bcde",
   "metadata": {
    "execution": {
     "iopub.execute_input": "2024-06-30T06:34:27.234674Z",
     "iopub.status.busy": "2024-06-30T06:34:27.233883Z",
     "iopub.status.idle": "2024-06-30T06:34:27.242650Z",
     "shell.execute_reply": "2024-06-30T06:34:27.241262Z",
     "shell.execute_reply.started": "2024-06-30T06:34:27.234613Z"
    },
    "tags": []
   },
   "outputs": [],
   "source": [
    "import pandas as pd\n",
    "df = pd.DataFrame(result)"
   ]
  },
  {
   "cell_type": "code",
   "execution_count": 50,
   "id": "2ce5259b-ef14-4f1c-b237-b123a2eee7ff",
   "metadata": {
    "execution": {
     "iopub.execute_input": "2024-06-30T06:35:55.540958Z",
     "iopub.status.busy": "2024-06-30T06:35:55.540197Z",
     "iopub.status.idle": "2024-06-30T06:35:55.546550Z",
     "shell.execute_reply": "2024-06-30T06:35:55.545327Z",
     "shell.execute_reply.started": "2024-06-30T06:35:55.540895Z"
    },
    "tags": []
   },
   "outputs": [],
   "source": [
    "PROJECT_ID = \"skt-datahub\"\n",
    "db_name = \"adot_reco_dev\"\n",
    "table_name = \"team_profiles_table\""
   ]
  },
  {
   "cell_type": "code",
   "execution_count": 51,
   "id": "c28b5b98-b224-4fc5-a628-cbdd893ef568",
   "metadata": {
    "execution": {
     "iopub.execute_input": "2024-06-30T06:35:57.008775Z",
     "iopub.status.busy": "2024-06-30T06:35:57.008058Z",
     "iopub.status.idle": "2024-06-30T06:36:02.378297Z",
     "shell.execute_reply": "2024-06-30T06:36:02.376677Z",
     "shell.execute_reply.started": "2024-06-30T06:35:57.008715Z"
    },
    "tags": []
   },
   "outputs": [],
   "source": [
    "pandas_to_bq(pd_df = df, destination=f\"{PROJECT_ID}.{db_name}.{table_name}\")"
   ]
  },
  {
   "cell_type": "markdown",
   "id": "dd3b4ae2-a3e7-4a4c-a2a4-46030fbc7bd0",
   "metadata": {},
   "source": [
    "# nudege_api"
   ]
  },
  {
   "cell_type": "code",
   "execution_count": 52,
   "id": "21403877-bb78-49ea-be61-dfbaf09105b3",
   "metadata": {
    "execution": {
     "iopub.execute_input": "2024-06-30T06:40:12.850174Z",
     "iopub.status.busy": "2024-06-30T06:40:12.849332Z",
     "iopub.status.idle": "2024-06-30T06:40:12.857034Z",
     "shell.execute_reply": "2024-06-30T06:40:12.855766Z",
     "shell.execute_reply.started": "2024-06-30T06:40:12.850107Z"
    },
    "tags": []
   },
   "outputs": [],
   "source": [
    "import requests\n",
    "import pandas as pd\n",
    "import json"
   ]
  },
  {
   "cell_type": "code",
   "execution_count": 56,
   "id": "d2c3d962-d453-485f-95a6-cabd6e876cab",
   "metadata": {
    "execution": {
     "iopub.execute_input": "2024-06-30T06:41:09.342265Z",
     "iopub.status.busy": "2024-06-30T06:41:09.341460Z",
     "iopub.status.idle": "2024-06-30T06:41:09.348958Z",
     "shell.execute_reply": "2024-06-30T06:41:09.347843Z",
     "shell.execute_reply.started": "2024-06-30T06:41:09.342203Z"
    },
    "tags": []
   },
   "outputs": [],
   "source": []
  },
  {
   "cell_type": "code",
   "execution_count": null,
   "id": "c1327d9d-ec23-4ad7-81e3-02ab7a09419f",
   "metadata": {},
   "outputs": [],
   "source": [
    "event_id= pd.DataFrame(pd.DataFrame(json.loads(response.text)['data'])['row'].tolist()).fillna('')\n",
    "event_id.columns=['product','scenario_id','nudge_id','event_id','event_id_description','variable','nudge_title','nudge_description']\n",
    "event_id=event_id[event_id['event_id_description']!=''].reset_index().drop(\"index\",axis=1)\n",
    "\n",
    "input_ids=event_id.event_id.tolist()\n",
    "input_=event_id.event_id_description.tolist()"
   ]
  },
  {
   "cell_type": "code",
   "execution_count": 62,
   "id": "3b426ba4-7c06-4a6c-ad58-a4f6bcfe5ee7",
   "metadata": {
    "execution": {
     "iopub.execute_input": "2024-06-30T06:41:57.685885Z",
     "iopub.status.busy": "2024-06-30T06:41:57.685072Z",
     "iopub.status.idle": "2024-06-30T06:41:58.246497Z",
     "shell.execute_reply": "2024-06-30T06:41:58.245010Z",
     "shell.execute_reply.started": "2024-06-30T06:41:57.685822Z"
    },
    "tags": []
   },
   "outputs": [],
   "source": [
    "response = requests.post(url, headers=headers, data=\"{}\")"
   ]
  },
  {
   "cell_type": "code",
   "execution_count": 65,
   "id": "91a1b5af-3e4c-455a-bc89-9653d8c7f43d",
   "metadata": {
    "execution": {
     "iopub.execute_input": "2024-06-30T06:43:23.925674Z",
     "iopub.status.busy": "2024-06-30T06:43:23.924948Z",
     "iopub.status.idle": "2024-06-30T06:43:23.933734Z",
     "shell.execute_reply": "2024-06-30T06:43:23.932529Z",
     "shell.execute_reply.started": "2024-06-30T06:43:23.925615Z"
    },
    "tags": []
   },
   "outputs": [],
   "source": [
    "api_text = json.loads(response.text)"
   ]
  },
  {
   "cell_type": "code",
   "execution_count": 76,
   "id": "3c19e419-5d78-4463-9d56-7fc4b8c0240b",
   "metadata": {
    "execution": {
     "iopub.execute_input": "2024-06-30T06:47:43.364289Z",
     "iopub.status.busy": "2024-06-30T06:47:43.363522Z",
     "iopub.status.idle": "2024-06-30T06:47:43.371241Z",
     "shell.execute_reply": "2024-06-30T06:47:43.369888Z",
     "shell.execute_reply.started": "2024-06-30T06:47:43.364228Z"
    },
    "tags": []
   },
   "outputs": [],
   "source": [
    "from typing import List, Dict\n",
    "def get_api_cols(infos:List[Dict]):\n",
    "    result = list()\n",
    "    for info in infos:\n",
    "        result.append(info['name'])\n",
    "    return result"
   ]
  },
  {
   "cell_type": "code",
   "execution_count": 85,
   "id": "5b7e3868-d7be-47a9-a487-27e4054d2129",
   "metadata": {
    "execution": {
     "iopub.execute_input": "2024-06-30T06:50:51.306501Z",
     "iopub.status.busy": "2024-06-30T06:50:51.305754Z",
     "iopub.status.idle": "2024-06-30T06:50:51.312560Z",
     "shell.execute_reply": "2024-06-30T06:50:51.311344Z",
     "shell.execute_reply.started": "2024-06-30T06:50:51.306440Z"
    },
    "tags": []
   },
   "outputs": [],
   "source": [
    "api_info = api_text['info']\n",
    "api_data = api_text['data']\n",
    "col_names = get_api_cols(api_info)"
   ]
  },
  {
   "cell_type": "code",
   "execution_count": 86,
   "id": "a046ca26-52fa-4526-99c3-dc72f67a7af5",
   "metadata": {
    "execution": {
     "iopub.execute_input": "2024-06-30T06:50:52.699877Z",
     "iopub.status.busy": "2024-06-30T06:50:52.699087Z",
     "iopub.status.idle": "2024-06-30T06:50:52.708283Z",
     "shell.execute_reply": "2024-06-30T06:50:52.707063Z",
     "shell.execute_reply.started": "2024-06-30T06:50:52.699814Z"
    },
    "tags": []
   },
   "outputs": [
    {
     "data": {
      "text/plain": [
       "['product',\n",
       " 'scenario_id',\n",
       " 'nudge_id',\n",
       " 'event_id',\n",
       " 'event_id_description',\n",
       " 'variable',\n",
       " 'mandatory_yn',\n",
       " 'nudge_title',\n",
       " 'nudge_description']"
      ]
     },
     "execution_count": 86,
     "metadata": {},
     "output_type": "execute_result"
    }
   ],
   "source": [
    "col_names"
   ]
  },
  {
   "cell_type": "code",
   "execution_count": 93,
   "id": "f539b03e-16d2-4f9a-a896-93a2eedc3d57",
   "metadata": {
    "execution": {
     "iopub.execute_input": "2024-06-30T06:56:55.256293Z",
     "iopub.status.busy": "2024-06-30T06:56:55.255573Z",
     "iopub.status.idle": "2024-06-30T06:56:55.265181Z",
     "shell.execute_reply": "2024-06-30T06:56:55.264226Z",
     "shell.execute_reply.started": "2024-06-30T06:56:55.256233Z"
    },
    "tags": []
   },
   "outputs": [],
   "source": [
    "api_final_result = []\n",
    "for api_datum in api_data:\n",
    "    temp_dict = dict()\n",
    "    data = api_datum['row']\n",
    "    for col_name, datum in zip(col_names, data):\n",
    "        if col_name == 'event_id_description' and datum is None:\n",
    "            temp_dict = None\n",
    "            break\n",
    "        else:\n",
    "            temp_dict[col_name] = datum\n",
    "    if temp_dict is not None:\n",
    "        api_final_result.append(temp_dict)\n",
    "        "
   ]
  },
  {
   "cell_type": "code",
   "execution_count": 96,
   "id": "687a9507-c25e-4fe6-8a3a-1a6d800384db",
   "metadata": {
    "execution": {
     "iopub.execute_input": "2024-06-30T06:57:11.334456Z",
     "iopub.status.busy": "2024-06-30T06:57:11.333711Z",
     "iopub.status.idle": "2024-06-30T06:57:11.341716Z",
     "shell.execute_reply": "2024-06-30T06:57:11.340661Z",
     "shell.execute_reply.started": "2024-06-30T06:57:11.334395Z"
    },
    "tags": []
   },
   "outputs": [],
   "source": [
    "api_data = pd.DataFrame(api_final_result)"
   ]
  },
  {
   "cell_type": "code",
   "execution_count": 88,
   "id": "d1979fc2-bd88-4076-96ae-dc5b2228b8c1",
   "metadata": {
    "execution": {
     "iopub.execute_input": "2024-06-30T06:51:12.529280Z",
     "iopub.status.busy": "2024-06-30T06:51:12.528493Z",
     "iopub.status.idle": "2024-06-30T06:51:12.537592Z",
     "shell.execute_reply": "2024-06-30T06:51:12.536406Z",
     "shell.execute_reply.started": "2024-06-30T06:51:12.529217Z"
    },
    "tags": []
   },
   "outputs": [
    {
     "data": {
      "text/plain": [
       "{'row': ['agentOffering',\n",
       "  'general',\n",
       "  'nudge_5174',\n",
       "  'EVT_15701',\n",
       "  None,\n",
       "  '{\"titleTextPolite\":\"{{일반선톡_092}}\",\"utteranceGuideApi\":\"{{UT_STATIC}}\"}',\n",
       "  'N',\n",
       "  '일반선톡_091~092',\n",
       "  '#일반선톡 #일요일 #오후']}"
      ]
     },
     "execution_count": 88,
     "metadata": {},
     "output_type": "execute_result"
    }
   ],
   "source": [
    "api_data[0]['row']"
   ]
  },
  {
   "cell_type": "code",
   "execution_count": 81,
   "id": "1976d62b-38d0-4dcc-9b3c-3cacf2bb096e",
   "metadata": {
    "execution": {
     "iopub.execute_input": "2024-06-30T06:48:28.407716Z",
     "iopub.status.busy": "2024-06-30T06:48:28.406978Z",
     "iopub.status.idle": "2024-06-30T06:48:28.429101Z",
     "shell.execute_reply": "2024-06-30T06:48:28.428307Z",
     "shell.execute_reply.started": "2024-06-30T06:48:28.407655Z"
    },
    "tags": []
   },
   "outputs": [
    {
     "ename": "TypeError",
     "evalue": "list indices must be integers or slices, not str",
     "output_type": "error",
     "traceback": [
      "\u001b[0;31m---------------------------------------------------------------------------\u001b[0m",
      "\u001b[0;31mTypeError\u001b[0m                                 Traceback (most recent call last)",
      "Cell \u001b[0;32mIn[81], line 1\u001b[0m\n\u001b[0;32m----> 1\u001b[0m pd\u001b[38;5;241m.\u001b[39mDataFrame(\u001b[43mapi_text\u001b[49m\u001b[43m[\u001b[49m\u001b[38;5;124;43m'\u001b[39;49m\u001b[38;5;124;43mdata\u001b[39;49m\u001b[38;5;124;43m'\u001b[39;49m\u001b[43m]\u001b[49m\u001b[43m[\u001b[49m\u001b[38;5;124;43m'\u001b[39;49m\u001b[38;5;124;43mrow\u001b[39;49m\u001b[38;5;124;43m'\u001b[39;49m\u001b[43m]\u001b[49m, columns\u001b[38;5;241m=\u001b[39mcol_names)\n",
      "\u001b[0;31mTypeError\u001b[0m: list indices must be integers or slices, not str"
     ]
    }
   ],
   "source": [
    "pd.DataFrame(api_text['data']['row'], columns=col_names)"
   ]
  },
  {
   "cell_type": "code",
   "execution_count": 73,
   "id": "5768aff4-19ab-4015-aee5-2e1d5b838f50",
   "metadata": {
    "execution": {
     "iopub.execute_input": "2024-06-30T06:45:48.851435Z",
     "iopub.status.busy": "2024-06-30T06:45:48.850825Z",
     "iopub.status.idle": "2024-06-30T06:45:48.859237Z",
     "shell.execute_reply": "2024-06-30T06:45:48.858265Z",
     "shell.execute_reply.started": "2024-06-30T06:45:48.851375Z"
    },
    "tags": []
   },
   "outputs": [
    {
     "data": {
      "text/plain": [
       "['nudge_description',\n",
       " 'nudge_id',\n",
       " 'product',\n",
       " 'nudge_title',\n",
       " 'variable',\n",
       " 'mandatory_yn',\n",
       " 'event_id',\n",
       " 'scenario_id',\n",
       " 'event_id_description']"
      ]
     },
     "execution_count": 73,
     "metadata": {},
     "output_type": "execute_result"
    }
   ],
   "source": [
    "event_id= pd.DataFrame(pd.DataFrame(json.loads(response.text)['data'])['row'].tolist()).fillna('')\n"
   ]
  },
  {
   "cell_type": "code",
   "execution_count": null,
   "id": "821d78c4-fa67-447b-8440-f751f2c773e0",
   "metadata": {},
   "outputs": [],
   "source": []
  }
 ],
 "metadata": {
  "kernelspec": {
   "display_name": "Python 3 (ipykernel)",
   "language": "python",
   "name": "python3"
  },
  "language_info": {
   "codemirror_mode": {
    "name": "ipython",
    "version": 3
   },
   "file_extension": ".py",
   "mimetype": "text/x-python",
   "name": "python",
   "nbconvert_exporter": "python",
   "pygments_lexer": "ipython3",
   "version": "3.8.19"
  }
 },
 "nbformat": 4,
 "nbformat_minor": 5
}
