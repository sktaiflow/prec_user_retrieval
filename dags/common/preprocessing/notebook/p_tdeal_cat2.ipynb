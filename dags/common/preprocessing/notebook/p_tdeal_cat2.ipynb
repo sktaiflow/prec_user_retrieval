{
 "cells": [
  {
   "cell_type": "code",
   "execution_count": 2,
   "id": "f400f032-be1d-409d-82c1-914745945958",
   "metadata": {
    "execution": {
     "iopub.execute_input": "2024-06-11T06:24:40.059433Z",
     "iopub.status.busy": "2024-06-11T06:24:40.058558Z",
     "iopub.status.idle": "2024-06-11T06:24:41.526764Z",
     "shell.execute_reply": "2024-06-11T06:24:41.526005Z",
     "shell.execute_reply.started": "2024-06-11T06:24:40.059368Z"
    },
    "tags": []
   },
   "outputs": [],
   "source": [
    "from skt.gcp import (\n",
    "    PROJECT_ID,\n",
    "    bq_insert_overwrite,\n",
    "    bq_to_df,\n",
    "    bq_to_pandas,\n",
    "    get_bigquery_client,\n",
    "    bq_table_exists,\n",
    "    get_max_part,\n",
    "    load_query_result_to_table,\n",
    "    pandas_to_bq,\n",
    "    pandas_to_bq_table,\n",
    "    load_bigquery_ipython_magic,\n",
    "    get_bigquery_client,\n",
    "    _print_query_job_results,\n",
    "    load_query_result_to_partitions\n",
    "    \n",
    ")\n",
    "\n",
    "from skt.ye import (\n",
    "    get_hdfs_conn,\n",
    "    get_spark,\n",
    "    hive_execute,\n",
    "    hive_to_pandas,\n",
    "    pandas_to_parquet,\n",
    "    slack_send,\n",
    "    get_secrets\n",
    ")"
   ]
  },
  {
   "cell_type": "code",
   "execution_count": 3,
   "id": "a45fd9bf-f169-4975-ba44-e07781779a98",
   "metadata": {
    "execution": {
     "iopub.execute_input": "2024-06-11T06:24:41.528608Z",
     "iopub.status.busy": "2024-06-11T06:24:41.528262Z",
     "iopub.status.idle": "2024-06-11T06:24:41.533654Z",
     "shell.execute_reply": "2024-06-11T06:24:41.533101Z",
     "shell.execute_reply.started": "2024-06-11T06:24:41.528584Z"
    },
    "tags": []
   },
   "outputs": [
    {
     "name": "stdout",
     "output_type": "stream",
     "text": [
      "DT :  2024-06-11\n",
      "DT_threshold :  2024-04-12\n",
      "DT_threshold :  2024-06-04\n"
     ]
    }
   ],
   "source": [
    "from datetime import date, datetime, timedelta\n",
    "import time\n",
    "from datetime import date, datetime\n",
    "\n",
    "import numpy as np\n",
    "import pandas as pd\n",
    "import pyarrow.parquet as pq\n",
    "from dateutil.relativedelta import relativedelta\n",
    "from pyhive import hive\n",
    "\n",
    "from copy import deepcopy\n",
    "from joblib import Parallel, delayed\n",
    "import warnings\n",
    "\n",
    "from tqdm.notebook import tqdm"
   ]
  },
  {
   "cell_type": "code",
   "execution_count": null,
   "id": "05e8ddfe",
   "metadata": {},
   "outputs": [],
   "source": [
    "print(f'current_dt: {current_dt}')\n",
    "print(f'state: {state}')"
   ]
  },
  {
   "cell_type": "code",
   "execution_count": null,
   "id": "e117bbec",
   "metadata": {},
   "outputs": [],
   "source": [
    "execution_dt = datetime.strptime(current_dt, '%Y-%m-%d')\n",
    "execution_dt_one_ago = (execution_dt - timedelta(days=1))\n",
    "lag_current_dt= execution_dt_one_ago.strftime('%Y-%m-%d')\n",
    "print(f'execution_dt: {lag_current_dt}')"
   ]
  },
  {
   "cell_type": "code",
   "execution_count": null,
   "id": "9a8c6f65",
   "metadata": {},
   "outputs": [],
   "source": [
    "PROJECT_ID = \"skt-datahub\"\n",
    "data_db_name = \"adot_reco\"\n",
    "save_db_name = \"adot_reco_dev\"\n",
    "table_nm = \"recgpt_log_sequence_daily_preprocessed_prd\"\n",
    "lag_table_nm = \"recgpt_log_sequence_lag_daily_preprocessed_prd\""
   ]
  },
  {
   "cell_type": "code",
   "execution_count": null,
   "id": "9b18bdba",
   "metadata": {},
   "outputs": [],
   "source": [
    "query = f\"\"\"\n",
    "WITH TDEAL_TABLE AS (\n",
    "    SELECT  svc_mgmt_num,\n",
    "            luna_id,\n",
    "            \"tdeal\" as source,\n",
    "            TRIM(LOWER(cat2)) as cat2,\n",
    "            TRIM(LOWER(cat3)) as cat3,\n",
    "            unix_time,\n",
    "            CASE \n",
    "                WHEN EXTRACT(DAYOFWEEK FROM dt) IN (1, 7) THEN 1\n",
    "                ELSE 0\n",
    "            END AS is_weekend,\n",
    "            dt\n",
    "\n",
    "    FROM {data_db_name}.{lag_table_nm}\n",
    "    WHERE dt = '{lag_current_dt}' and type = 'tdeal_v3'\n",
    ")\n",
    "\n",
    "SELECT  svc_mgmt_num,\n",
    "        luna_id,\n",
    "        cat2,\n",
    "        cat3,\n",
    "        count(*) as cat2_cnt,\n",
    "        is_weekend,\n",
    "        dt\n",
    "FROM TDEAL_TABLE\n",
    "group by svc_mgmt_num, luna_id, cat2, cat3, dt, is_weekend\n",
    "\"\"\""
   ]
  },
  {
   "cell_type": "code",
   "execution_count": null,
   "id": "b6d3d710",
   "metadata": {},
   "outputs": [],
   "source": [
    "bq_insert_overwrite(sql=query, destination=f'{PROJECT_ID}.{save_db_name}.tdeal_cat2_cnt', partition='dt')"
   ]
  }
 ],
 "metadata": {
  "kernelspec": {
   "display_name": "Python 3 (ipykernel)",
   "language": "python",
   "name": "python3"
  },
  "language_info": {
   "codemirror_mode": {
    "name": "ipython",
    "version": 3
   },
   "file_extension": ".py",
   "mimetype": "text/x-python",
   "name": "python",
   "nbconvert_exporter": "python",
   "pygments_lexer": "ipython3",
   "version": "3.9.6"
  }
 },
 "nbformat": 4,
 "nbformat_minor": 5
}
