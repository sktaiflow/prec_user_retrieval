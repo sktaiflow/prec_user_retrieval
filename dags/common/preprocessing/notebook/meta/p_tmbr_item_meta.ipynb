{
 "cells": [
  {
   "cell_type": "code",
   "execution_count": 1,
   "id": "6f1bad82-8b98-4541-9cec-4e9f42dd813a",
   "metadata": {
    "execution": {
     "iopub.execute_input": "2024-07-08T02:05:15.960277Z",
     "iopub.status.busy": "2024-07-08T02:05:15.959947Z",
     "iopub.status.idle": "2024-07-08T02:05:17.215001Z",
     "shell.execute_reply": "2024-07-08T02:05:17.214086Z",
     "shell.execute_reply.started": "2024-07-08T02:05:15.960247Z"
    },
    "tags": []
   },
   "outputs": [],
   "source": [
    "from skt.gcp import (\n",
    "    PROJECT_ID,\n",
    "    bq_insert_overwrite,\n",
    "    bq_to_df,\n",
    "    bq_to_pandas,\n",
    "    get_bigquery_client,\n",
    "    bq_table_exists,\n",
    "    get_max_part,\n",
    "    load_query_result_to_table,\n",
    "    pandas_to_bq,\n",
    "    pandas_to_bq_table,\n",
    "    load_bigquery_ipython_magic,\n",
    "    get_bigquery_client,\n",
    "    _print_query_job_results,\n",
    "    load_query_result_to_partitions\n",
    "    \n",
    ")\n",
    "\n",
    "from skt.ye import (\n",
    "    get_hdfs_conn,\n",
    "    get_spark,\n",
    "    hive_execute,\n",
    "    hive_to_pandas,\n",
    "    pandas_to_parquet,\n",
    "    slack_send,\n",
    "    get_secrets\n",
    ")"
   ]
  },
  {
   "cell_type": "code",
   "execution_count": 2,
   "id": "289831cd",
   "metadata": {
    "execution": {
     "iopub.execute_input": "2024-07-08T02:05:17.216948Z",
     "iopub.status.busy": "2024-07-08T02:05:17.216421Z",
     "iopub.status.idle": "2024-07-08T02:05:17.220282Z",
     "shell.execute_reply": "2024-07-08T02:05:17.219582Z",
     "shell.execute_reply.started": "2024-07-08T02:05:17.216917Z"
    },
    "tags": []
   },
   "outputs": [],
   "source": [
    "from datetime import datetime, timedelta"
   ]
  },
  {
   "cell_type": "code",
   "execution_count": 7,
   "id": "877ddd58",
   "metadata": {
    "execution": {
     "iopub.execute_input": "2024-07-08T02:05:57.325533Z",
     "iopub.status.busy": "2024-07-08T02:05:57.325049Z",
     "iopub.status.idle": "2024-07-08T02:05:57.330198Z",
     "shell.execute_reply": "2024-07-08T02:05:57.329459Z",
     "shell.execute_reply.started": "2024-07-08T02:05:57.325501Z"
    },
    "tags": []
   },
   "outputs": [
    {
     "name": "stdout",
     "output_type": "stream",
     "text": [
      "execution_dt: 2024-07-06\n"
     ]
    }
   ],
   "source": [
    "execution_dt = datetime.strptime(current_dt, '%Y-%m-%d')\n",
    "execution_dt_one_ago = (execution_dt - timedelta(days=1))\n",
    "lag_current_dt= execution_dt_one_ago.strftime('%Y-%m-%d')\n",
    "print(f'execution_dt: {current_dt}')"
   ]
  },
  {
   "cell_type": "code",
   "execution_count": 8,
   "id": "e39c767a-58ec-450a-9c01-04dd49ca057c",
   "metadata": {
    "execution": {
     "iopub.execute_input": "2024-07-08T02:05:58.242154Z",
     "iopub.status.busy": "2024-07-08T02:05:58.241616Z",
     "iopub.status.idle": "2024-07-08T02:05:58.246280Z",
     "shell.execute_reply": "2024-07-08T02:05:58.245544Z",
     "shell.execute_reply.started": "2024-07-08T02:05:58.242120Z"
    },
    "tags": []
   },
   "outputs": [],
   "source": [
    "\"\"\" no partition data in comm (snapshot) \"\"\"\n",
    "PROJECT_ID = \"skt-datahub\"\n",
    "db_name  = \"comm\"\n",
    "tmbr_meta_tbl= \"mp_taxonomies_brand\" \n",
    "tmbr_meta_map_tbl = \"mp_taxonomies_brandMapp\""
   ]
  },
  {
   "cell_type": "code",
   "execution_count": 9,
   "id": "d9dbe362",
   "metadata": {
    "execution": {
     "iopub.execute_input": "2024-07-08T02:05:59.059301Z",
     "iopub.status.busy": "2024-07-08T02:05:59.058826Z",
     "iopub.status.idle": "2024-07-08T02:05:59.062737Z",
     "shell.execute_reply": "2024-07-08T02:05:59.062009Z",
     "shell.execute_reply.started": "2024-07-08T02:05:59.059270Z"
    },
    "tags": []
   },
   "outputs": [],
   "source": [
    "save_db_name = 'adot_reco_dev'"
   ]
  },
  {
   "cell_type": "code",
   "execution_count": 10,
   "id": "d9b9a611",
   "metadata": {
    "execution": {
     "iopub.execute_input": "2024-07-08T02:05:59.488461Z",
     "iopub.status.busy": "2024-07-08T02:05:59.488058Z",
     "iopub.status.idle": "2024-07-08T02:06:00.406036Z",
     "shell.execute_reply": "2024-07-08T02:06:00.405130Z",
     "shell.execute_reply.started": "2024-07-08T02:05:59.488431Z"
    },
    "tags": []
   },
   "outputs": [],
   "source": [
    "bq_clinet = get_bigquery_client()"
   ]
  },
  {
   "cell_type": "code",
   "execution_count": 201,
   "id": "db7da50d-8b7b-4b5a-95c9-52a14436c830",
   "metadata": {
    "execution": {
     "iopub.execute_input": "2024-07-08T09:22:32.919049Z",
     "iopub.status.busy": "2024-07-08T09:22:32.918618Z",
     "iopub.status.idle": "2024-07-08T09:22:32.925169Z",
     "shell.execute_reply": "2024-07-08T09:22:32.924537Z",
     "shell.execute_reply.started": "2024-07-08T09:22:32.919016Z"
    },
    "tags": []
   },
   "outputs": [],
   "source": [
    "## Meta table 전처리 로직: 중복 product 처리 (제거 x -> 메타 합산)\n",
    "query = f\"\"\"\n",
    "\n",
    "WITH META_TABLE AS (\n",
    "    SELECT  brand_id,\n",
    "            count(distinct brand_name) over(partition by COALESCE(TRIM(LOWER(brand_name)), '')) as brand_cnt,\n",
    "            COALESCE(TRIM(LOWER(brand_name)), '') as brand_name,\n",
    "            del_yn,\n",
    "            display_name\n",
    "            prm_brand_name,\n",
    "            categories,\n",
    "            COALESCE(TRIM(LOWER(category_large_name)), '') as category_large_name,\n",
    "            COALESCE(TRIM(LOWER(category_medium_name)), '') as category_medium_name,\n",
    "            COALESCE(TRIM(LOWER(category_small_name)), '') as category_small_name,\n",
    "            COALESCE(TRIM(LOWER(description)), '') as description\n",
    "\n",
    "    FROM    {db_name}.{tmbr_meta_tbl}\n",
    "    WHERE brand_name is not null and brand_name !='' and LOWER(brand_name) NOT LIKE '%test%'\n",
    "),\n",
    "\n",
    "DUPLICATED_BRAND_TABLE AS(\n",
    "    SELECT  brand_name, \n",
    "            ARRAY_AGG(category_large_name) as category_large_names,\n",
    "            ARRAY_AGG(category_medium_name) as category_medium_names,\n",
    "            ARRAY_AGG(category_small_name) as category_small_names,\n",
    "            ARRAY_AGG(description) as descriptions,\n",
    "\n",
    "    FROM (\n",
    "        SELECT  brand_name,\n",
    "                category_large_name,\n",
    "                category_medium_name,\n",
    "                category_small_name, \n",
    "                description\n",
    "\n",
    "        FROM META_TABLE\n",
    "        WHERE brand_name !='' AND brand_cnt > 1 \n",
    "    )\n",
    "    GROUP BY brand_name\n",
    "),\n",
    "\n",
    "NON_DUPLICATED_BRAND_TABLE AS(\n",
    "    SELECT  brand_name,\n",
    "            category_large_name,\n",
    "            category_medium_name,\n",
    "            category_small_name, \n",
    "            description\n",
    "\n",
    "    FROM META_TABLE\n",
    "    WHERE brand_name !='' AND brand_cnt = 1\n",
    "),\n",
    "\n",
    "MERGED_DUPLICATE_BRAND_TABLE AS(\n",
    "    SELECT  brand_name,\n",
    "            ARRAY_TO_STRING(category_large_names, ',') as category_large_name,\n",
    "            ARRAY_TO_STRING(category_medium_names, ',') as category_medium_name,\n",
    "            ARRAY_TO_STRING(category_small_names, ',') as category_small_name,\n",
    "            ARRAY_TO_STRING(descriptions, ',') as description,\n",
    "    FROM(\n",
    "        SELECT  brand_name,\n",
    "                ARRAY(\n",
    "                    SELECT category_large_name\n",
    "                    FROM UNNEST(category_large_names) AS category_large_name \n",
    "                    WHERE category_large_name != ''\n",
    "                  ) AS category_large_names,\n",
    "                ARRAY(\n",
    "                    SELECT category_medium_name \n",
    "                    FROM UNNEST(category_medium_names) AS category_medium_name \n",
    "                    WHERE category_medium_name != ''\n",
    "                  ) AS category_medium_names,\n",
    "\n",
    "                ARRAY(\n",
    "                    SELECT category_small_name\n",
    "                    FROM UNNEST(category_small_names) AS category_small_name\n",
    "                    WHERE category_small_name != ''\n",
    "                  ) AS category_small_names,\n",
    "                ARRAY(\n",
    "                    SELECT description\n",
    "                    FROM UNNEST(descriptions) AS description\n",
    "                    WHERE description != ''\n",
    "                  ) AS descriptions     \n",
    "\n",
    "        FROM DUPLICATED_BRAND_TABLE\n",
    "    )\n",
    ")\n",
    "SELECT  *,\n",
    "        PARSE_DATE('%Y-%m-%d', '{current_dt}') as dt \n",
    "FROM (\n",
    "    SELECT *,\n",
    "\n",
    "    FROM MERGED_DUPLICATE_BRAND_TABLE\n",
    "\n",
    "    UNION ALL\n",
    "\n",
    "    SELECT *\n",
    "    FROM NON_DUPLICATED_BRAND_TABLE\n",
    ") AS A\n",
    "\"\"\"\n"
   ]
  },
  {
   "cell_type": "code",
   "execution_count": 202,
   "id": "c4b3384f-7f8a-4709-bae9-4cdbeca2432b",
   "metadata": {
    "execution": {
     "iopub.execute_input": "2024-07-08T09:22:33.257316Z",
     "iopub.status.busy": "2024-07-08T09:22:33.256921Z",
     "iopub.status.idle": "2024-07-08T09:22:33.260675Z",
     "shell.execute_reply": "2024-07-08T09:22:33.260047Z",
     "shell.execute_reply.started": "2024-07-08T09:22:33.257284Z"
    },
    "tags": []
   },
   "outputs": [],
   "source": [
    "from google.cloud.bigquery.job import QueryJobConfig"
   ]
  },
  {
   "cell_type": "code",
   "execution_count": 203,
   "id": "c1bdca1e-4185-49d9-befd-27c1dd03d33d",
   "metadata": {
    "execution": {
     "iopub.execute_input": "2024-07-08T09:22:33.845262Z",
     "iopub.status.busy": "2024-07-08T09:22:33.844881Z",
     "iopub.status.idle": "2024-07-08T09:22:33.848902Z",
     "shell.execute_reply": "2024-07-08T09:22:33.848283Z",
     "shell.execute_reply.started": "2024-07-08T09:22:33.845232Z"
    },
    "tags": []
   },
   "outputs": [],
   "source": [
    "job_config = QueryJobConfig()\n",
    "temp_table = f'{PROJECT_ID}.temp_1d.tmbr_temp_table'\n",
    "job_config.destination = temp_table\n",
    "job_config.write_disposition = 'WRITE_TRUNCATE'"
   ]
  },
  {
   "cell_type": "code",
   "execution_count": 204,
   "id": "10a7f6bd-0450-4739-a188-32f544572e7d",
   "metadata": {
    "execution": {
     "iopub.execute_input": "2024-07-08T09:22:34.198243Z",
     "iopub.status.busy": "2024-07-08T09:22:34.197874Z",
     "iopub.status.idle": "2024-07-08T09:22:39.768076Z",
     "shell.execute_reply": "2024-07-08T09:22:39.767430Z",
     "shell.execute_reply.started": "2024-07-08T09:22:34.198214Z"
    },
    "tags": []
   },
   "outputs": [
    {
     "data": {
      "text/plain": [
       "<google.cloud.bigquery.table.RowIterator at 0x7f5d0385a0a0>"
      ]
     },
     "execution_count": 204,
     "metadata": {},
     "output_type": "execute_result"
    }
   ],
   "source": [
    "# 임시 테이블 생성\n",
    "query_job = bq_clinet.query(query, job_config=job_config)\n",
    "query_job.result() "
   ]
  },
  {
   "cell_type": "code",
   "execution_count": 107,
   "id": "78afcad0-620d-4f34-83c8-8dd061c0cd3b",
   "metadata": {
    "execution": {
     "iopub.execute_input": "2024-07-08T07:57:51.898933Z",
     "iopub.status.busy": "2024-07-08T07:57:51.898086Z",
     "iopub.status.idle": "2024-07-08T07:57:51.905894Z",
     "shell.execute_reply": "2024-07-08T07:57:51.905075Z",
     "shell.execute_reply.started": "2024-07-08T07:57:51.898879Z"
    },
    "tags": []
   },
   "outputs": [],
   "source": [
    "query = f\"\"\"\n",
    "WITH META_TABLE AS (\n",
    "    SELECT  *\n",
    "    FROM {temp_table}\n",
    "    WHERE dt = '{current_dt}'\n",
    "),\n",
    "\n",
    "SUB_WORD_TABLE AS (\n",
    "\n",
    "    SELECT  brand_word,\n",
    "            brand_name,\n",
    "            category_large_name,\n",
    "            category_medium_name,\n",
    "            category_small_name,\n",
    "            description,\n",
    "            count(brand_word) over(partition by brand_word) as word_cnt,\n",
    "            dt\n",
    "    FROM (\n",
    "        SELECT  category_large_name,\n",
    "                category_medium_name,\n",
    "                category_small_name,\n",
    "                description,\n",
    "                brand_name,\n",
    "                brand_word,\n",
    "                dt\n",
    "        FROM META_TABLE,\n",
    "        UNNEST(SPLIT(brand_name, ' ')) AS brand_word\n",
    "    )\n",
    "),\n",
    "tmbr_etymology_table AS (\n",
    "    SELECT  distinct A.*,\n",
    "            B.del_yn\n",
    "    FROM (\n",
    "\n",
    "        SELECT distinct brand_name,\n",
    "               category_large_name,\n",
    "               category_medium_name,\n",
    "               category_small_name,\n",
    "               description,\n",
    "               CASE \n",
    "                   WHEN category_medium_name !='' OR category_small_name !='' THEN 'N'\n",
    "                   ELSE 'Y'\n",
    "               END AS is_empty,\n",
    "               dt\n",
    "\n",
    "        FROM SUB_WORD_TABLE\n",
    "        WHERE brand_name = brand_word\n",
    "    )AS A\n",
    "    LEFT JOIN  (\n",
    "        SELECT  distinct COALESCE(TRIM(LOWER(brand_name)), '') as brand_name,\n",
    "                del_yn\n",
    "\n",
    "        FROM  {db_name}.{tmbr_meta_tbl}\n",
    "        WHERE brand_name is not null and brand_name !=''\n",
    "    ) AS B\n",
    "    ON A.brand_name = B.brand_name\n",
    "),\n",
    "\n",
    "derivative_table AS(\n",
    "    SELECT  brand_word,\n",
    "            ARRAY_TO_STRING(ARRAY_AGG(brand_name), '||') as derivative_brands\n",
    "    FROM(\n",
    "        SELECT  distinct brand_word,\n",
    "                         brand_name\n",
    "        FROM SUB_WORD_TABLE\n",
    "        WHERE brand_word in (SELECT distinct brand_name FROM tmbr_etymology_table) \n",
    "        AND brand_name != brand_word AND brand_word !=''\n",
    "    )\n",
    "    GROUP BY brand_word\n",
    ")\n",
    "\n",
    "SELECT distinct *\n",
    "FROM (\n",
    "    SELECT  A.*,\n",
    "            DENSE_RANK() OVER (ORDER BY A.brand_name) AS new_brand_id,\n",
    "            B.derivative_brands\n",
    "\n",
    "    FROM tmbr_etymology_table AS A\n",
    "\n",
    "    LEFT JOIN (\n",
    "        SELECT  brand_word,\n",
    "                derivative_brands\n",
    "        FROM derivative_table\n",
    "    ) AS B\n",
    "    ON A.brand_name = B.brand_word\n",
    ")\n",
    "\"\"\""
   ]
  },
  {
   "cell_type": "code",
   "execution_count": 108,
   "id": "63f8b174-7bdd-477e-a3bd-78e297c205f9",
   "metadata": {
    "execution": {
     "iopub.execute_input": "2024-07-08T07:57:52.709653Z",
     "iopub.status.busy": "2024-07-08T07:57:52.709076Z",
     "iopub.status.idle": "2024-07-08T07:58:02.467107Z",
     "shell.execute_reply": "2024-07-08T07:58:02.466131Z",
     "shell.execute_reply.started": "2024-07-08T07:57:52.709594Z"
    },
    "tags": []
   },
   "outputs": [
    {
     "name": "stdout",
     "output_type": "stream",
     "text": [
      "query: select * from skt-datahub.temp_1d.eba31ac5_ed17_45f6_ac09_5b1bccc40b18 where dt='2024-07-06'\n",
      "destination: skt-datahub.adot_reco_dev.tmbr_etymology_table$20240706\n",
      "total_rows: 3281\n",
      "slot_secs: 0.835\n",
      "\n"
     ]
    }
   ],
   "source": [
    "bq_insert_overwrite(sql=query, destination=f'{PROJECT_ID}.{save_db_name}.tmbr_etymology_table', partition='dt')"
   ]
  },
  {
   "cell_type": "code",
   "execution_count": 147,
   "id": "197394b0-5607-43b6-988a-57fd396b0bb7",
   "metadata": {
    "execution": {
     "iopub.execute_input": "2024-07-08T08:49:38.317275Z",
     "iopub.status.busy": "2024-07-08T08:49:38.316867Z",
     "iopub.status.idle": "2024-07-08T08:49:39.019003Z",
     "shell.execute_reply": "2024-07-08T08:49:39.018375Z",
     "shell.execute_reply.started": "2024-07-08T08:49:38.317246Z"
    },
    "tags": []
   },
   "outputs": [
    {
     "data": {
      "text/plain": [
       "<google.cloud.bigquery.table._EmptyRowIterator at 0x7f5d03f372b0>"
      ]
     },
     "execution_count": 147,
     "metadata": {},
     "output_type": "execute_result"
    }
   ],
   "source": [
    "ttl_query = f\"\"\"\n",
    "ALTER TABLE\n",
    "  {PROJECT_ID}.{save_db_name}.tmbr_etymology_table\n",
    "SET\n",
    "  OPTIONS(partition_expiration_days={ttl})\n",
    "\"\"\"\n",
    "bq_clinet.query(ttl_query).result()"
   ]
  },
  {
   "cell_type": "markdown",
   "id": "795dc405-e980-487d-b4b1-32b0fcf103cc",
   "metadata": {},
   "source": [
    "## Category mapping"
   ]
  },
  {
   "cell_type": "code",
   "execution_count": 191,
   "id": "19b9d86d-a386-4a31-be5d-e253894ed881",
   "metadata": {
    "execution": {
     "iopub.execute_input": "2024-07-08T09:14:47.105117Z",
     "iopub.status.busy": "2024-07-08T09:14:47.104700Z",
     "iopub.status.idle": "2024-07-08T09:14:47.109589Z",
     "shell.execute_reply": "2024-07-08T09:14:47.108652Z",
     "shell.execute_reply.started": "2024-07-08T09:14:47.105088Z"
    },
    "tags": []
   },
   "outputs": [],
   "source": [
    "query = f\"\"\"\n",
    "WITH META_TABLE AS (\n",
    "    SELECT distinct *\n",
    "    FROM {temp_table}\n",
    "    WHERE dt = '{current_dt}'\n",
    "),\n",
    "TEMP_TABLE AS (\n",
    "    SELECT  brand_name,\n",
    "            category_large_name,\n",
    "            CASE\n",
    "                WHEN category_medium_name = '' AND category_small_name = '' THEN ''\n",
    "                WHEN category_medium_name = '' THEN category_small_name\n",
    "                WHEN category_small_name = '' THEN category_medium_name\n",
    "                WHEN category_medium_name = category_small_name THEN category_medium_name\n",
    "                WHEN STRPOS(category_medium_name, category_small_name) > 0 THEN category_small_name\n",
    "                ELSE CONCAT(category_medium_name, ',', category_small_name)\n",
    "            END AS categories,\n",
    "            description,\n",
    "            dt\n",
    "    FROM  META_TABLE\n",
    ")\n",
    "\n",
    "SELECT *\n",
    "FROM TEMP_TABLE \n",
    "WHERE categories !=''\n",
    "\"\"\""
   ]
  },
  {
   "cell_type": "code",
   "execution_count": null,
   "id": "dea12194-8edf-42cf-b370-c3a73da633c1",
   "metadata": {},
   "outputs": [],
   "source": []
  },
  {
   "cell_type": "code",
   "execution_count": 139,
   "id": "9a560e27-03df-4bd7-93d3-1adfc9f83a3e",
   "metadata": {
    "execution": {
     "iopub.execute_input": "2024-07-08T08:16:16.790157Z",
     "iopub.status.busy": "2024-07-08T08:16:16.789746Z",
     "iopub.status.idle": "2024-07-08T08:16:19.951236Z",
     "shell.execute_reply": "2024-07-08T08:16:19.950436Z",
     "shell.execute_reply.started": "2024-07-08T08:16:16.790127Z"
    },
    "tags": []
   },
   "outputs": [
    {
     "name": "stdout",
     "output_type": "stream",
     "text": [
      "Warning: exception on print statistics\n",
      "unsupported operand type(s) for /: 'NoneType' and 'int'\n",
      "Downloading: 100%|\u001b[32m██████████\u001b[0m|\n"
     ]
    }
   ],
   "source": [
    "categories_mapping_df = bq_to_pandas(query)"
   ]
  },
  {
   "cell_type": "code",
   "execution_count": 140,
   "id": "03191ac8-2c23-4cb0-bb5f-5f4333710a8c",
   "metadata": {
    "execution": {
     "iopub.execute_input": "2024-07-08T08:16:29.734151Z",
     "iopub.status.busy": "2024-07-08T08:16:29.733738Z",
     "iopub.status.idle": "2024-07-08T08:16:29.744407Z",
     "shell.execute_reply": "2024-07-08T08:16:29.743767Z",
     "shell.execute_reply.started": "2024-07-08T08:16:29.734121Z"
    },
    "tags": []
   },
   "outputs": [],
   "source": [
    "categories_mapping = categories_mapping_df.set_index('brand_name').to_dict()['categories']"
   ]
  },
  {
   "cell_type": "code",
   "execution_count": 144,
   "id": "87eaef7b-1277-4918-a6cd-c3abd106b12c",
   "metadata": {
    "execution": {
     "iopub.execute_input": "2024-07-08T08:37:05.319817Z",
     "iopub.status.busy": "2024-07-08T08:37:05.319372Z",
     "iopub.status.idle": "2024-07-08T08:37:05.324187Z",
     "shell.execute_reply": "2024-07-08T08:37:05.323315Z",
     "shell.execute_reply.started": "2024-07-08T08:37:05.319787Z"
    },
    "tags": []
   },
   "outputs": [],
   "source": [
    "import json\n",
    "categories_mapping_json = json.dumps(categories_mapping, ensure_ascii=False)"
   ]
  },
  {
   "cell_type": "code",
   "execution_count": 224,
   "id": "e4773ac4-be12-409a-8cbc-dcfa8a0c025b",
   "metadata": {
    "execution": {
     "iopub.execute_input": "2024-07-08T09:51:54.367224Z",
     "iopub.status.busy": "2024-07-08T09:51:54.366584Z",
     "iopub.status.idle": "2024-07-08T09:51:54.372640Z",
     "shell.execute_reply": "2024-07-08T09:51:54.371971Z",
     "shell.execute_reply.started": "2024-07-08T09:51:54.367182Z"
    },
    "tags": []
   },
   "outputs": [],
   "source": [
    "query = f\"\"\"\n",
    "CREATE TEMP FUNCTION get_categories(brand_name STRING)\n",
    "RETURNS STRING\n",
    "LANGUAGE js AS '''\n",
    "  var root_product_mapping_json_set = {categories_mapping_json};\n",
    "  return (brand_name in root_product_mapping_json_set) ? root_product_mapping_json_set[brand_name] : '';\n",
    "''';\n",
    "\n",
    "WITH META_TABLE AS (\n",
    "    SELECT distinct *\n",
    "    FROM {temp_table}\n",
    "    WHERE dt = '{current_dt}'\n",
    "),\n",
    "\n",
    "ARRAY_TABLE AS (\n",
    "    SELECT *\n",
    "    FROM (\n",
    "        SELECT  *,\n",
    "                CASE\n",
    "                    WHEN category_medium_name = '' AND category_small_name = '' THEN ''\n",
    "                    WHEN category_medium_name = '' THEN category_small_name\n",
    "                    WHEN category_small_name = '' THEN category_medium_name\n",
    "                    WHEN category_medium_name = category_small_name THEN category_medium_name\n",
    "                    WHEN STRPOS(category_medium_name, category_small_name) > 0 THEN category_small_name\n",
    "                    ELSE CONCAT(category_medium_name, ',', category_small_name)\n",
    "                END AS categories,\n",
    "                SPLIT(derivative_brands, '||') as derivative_brand_array\n",
    "        FROM {PROJECT_ID}.{save_db_name}.tmbr_etymology_table\n",
    "    )\n",
    "),\n",
    "exploded_data AS (\n",
    "  SELECT \n",
    "    brand_name,\n",
    "    description,\n",
    "    is_empty,\n",
    "    del_yn,\n",
    "    categories,\n",
    "    derivative_brand_element\n",
    "  FROM ARRAY_TABLE,\n",
    "  UNNEST(derivative_brand_array) AS derivative_brand_element\n",
    "),\n",
    "\n",
    "MERGED_TABLE AS (\n",
    "    SELECT distinct brand_name,\n",
    "                    CASE\n",
    "                        WHEN categories = '' AND categories_from_derivative = '' THEN ''\n",
    "                        WHEN categories = '' AND categories_from_derivative != '' THEN categories_from_derivative\n",
    "                        ELSE categories\n",
    "                    END AS categories,\n",
    "                    description\n",
    "\n",
    "    FROM (\n",
    "        SELECT brand_name,\n",
    "               description,\n",
    "               categories,\n",
    "               get_categories(derivative_brand_element) AS categories_from_derivative,\n",
    "               del_yn\n",
    "        FROM exploded_data\n",
    "    )\n",
    "    WHERE categories_from_derivative!='' OR categories!=''\n",
    ")\n",
    "\n",
    "SELECT *\n",
    "FROM (\n",
    "    SELECT  brand_name,\n",
    "            CASE\n",
    "                WHEN category_medium_name = '' AND category_small_name = '' THEN ''\n",
    "                WHEN category_medium_name = '' THEN category_small_name\n",
    "                WHEN category_small_name = '' THEN category_medium_name\n",
    "                WHEN category_medium_name = category_small_name THEN category_medium_name\n",
    "                WHEN STRPOS(category_medium_name, category_small_name) > 0 THEN category_small_name\n",
    "                ELSE CONCAT(category_medium_name, ',', category_small_name)\n",
    "            END AS categories,\n",
    "            description,\n",
    "            PARSE_DATE('%Y-%m-%d', '{current_dt}') as dt \n",
    "    FROM  META_TABLE\n",
    "    WHERE brand_name not in (SELECT distinct brand_name FROM MERGED_TABLE)\n",
    ")\n",
    "WHERE categories!=''\n",
    "\n",
    "UNION ALL\n",
    "SELECT  *,\n",
    "        PARSE_DATE('%Y-%m-%d', '{current_dt}') as dt \n",
    "FROM MERGED_TABLE\n",
    "WHERE categories !=''\n",
    "\"\"\""
   ]
  },
  {
   "cell_type": "code",
   "execution_count": 226,
   "id": "6b1fc6b8-4c19-41f2-bd52-47bb7fb4e442",
   "metadata": {
    "execution": {
     "iopub.execute_input": "2024-07-08T09:52:41.928708Z",
     "iopub.status.busy": "2024-07-08T09:52:41.928286Z",
     "iopub.status.idle": "2024-07-08T09:52:41.931770Z",
     "shell.execute_reply": "2024-07-08T09:52:41.931147Z",
     "shell.execute_reply.started": "2024-07-08T09:52:41.928677Z"
    },
    "tags": []
   },
   "outputs": [],
   "source": [
    "bq_insert_overwrite(sql=query, destination=f'{PROJECT_ID}.{save_db_name}.tmbr_preprocessed_meta_table', partition='dt')"
   ]
  },
  {
   "cell_type": "code",
   "execution_count": 227,
   "id": "09e6b341-325a-479f-b92a-71d641e92430",
   "metadata": {
    "execution": {
     "iopub.execute_input": "2024-07-08T09:52:48.200329Z",
     "iopub.status.busy": "2024-07-08T09:52:48.199888Z",
     "iopub.status.idle": "2024-07-08T09:52:48.994519Z",
     "shell.execute_reply": "2024-07-08T09:52:48.993804Z",
     "shell.execute_reply.started": "2024-07-08T09:52:48.200299Z"
    },
    "tags": []
   },
   "outputs": [
    {
     "data": {
      "text/plain": [
       "<google.cloud.bigquery.table._EmptyRowIterator at 0x7f5d235081c0>"
      ]
     },
     "execution_count": 227,
     "metadata": {},
     "output_type": "execute_result"
    }
   ],
   "source": [
    "ttl_query = f\"\"\"\n",
    "ALTER TABLE\n",
    "  {PROJECT_ID}.{save_db_name}.tmbr_preprocessed_meta_table\n",
    "SET\n",
    "  OPTIONS(partition_expiration_days=30)\n",
    "\"\"\"\n",
    "bq_clinet.query(ttl_query).result()"
   ]
  },
  {
   "cell_type": "markdown",
   "id": "070c0aee-076c-47b5-bd95-83fce40bfcf6",
   "metadata": {},
   "source": [
    "## LOG JOIN"
   ]
  },
  {
   "cell_type": "code",
   "execution_count": 228,
   "id": "86bf2970-790a-415d-9c8e-1b39678d5912",
   "metadata": {
    "execution": {
     "iopub.execute_input": "2024-07-08T09:53:36.175079Z",
     "iopub.status.busy": "2024-07-08T09:53:36.174665Z",
     "iopub.status.idle": "2024-07-08T09:53:36.178303Z",
     "shell.execute_reply": "2024-07-08T09:53:36.177685Z",
     "shell.execute_reply.started": "2024-07-08T09:53:36.175049Z"
    },
    "tags": []
   },
   "outputs": [],
   "source": [
    "#table = \"recgpt_log_sequence_lag_daily_prd\""
   ]
  },
  {
   "cell_type": "code",
   "execution_count": 297,
   "id": "d1322cad-8271-4cfe-a36a-3a075330c7ac",
   "metadata": {
    "execution": {
     "iopub.execute_input": "2024-07-08T10:10:36.453561Z",
     "iopub.status.busy": "2024-07-08T10:10:36.453129Z",
     "iopub.status.idle": "2024-07-08T10:10:36.457457Z",
     "shell.execute_reply": "2024-07-08T10:10:36.456642Z",
     "shell.execute_reply.started": "2024-07-08T10:10:36.453532Z"
    },
    "tags": []
   },
   "outputs": [],
   "source": [
    "#start_dt ='2024-05-01'"
   ]
  },
  {
   "cell_type": "code",
   "execution_count": 340,
   "id": "97e1860a-9fb7-42bc-8f30-6279f056d361",
   "metadata": {
    "execution": {
     "iopub.execute_input": "2024-07-08T10:27:38.923247Z",
     "iopub.status.busy": "2024-07-08T10:27:38.922828Z",
     "iopub.status.idle": "2024-07-08T10:27:38.927354Z",
     "shell.execute_reply": "2024-07-08T10:27:38.926727Z",
     "shell.execute_reply.started": "2024-07-08T10:27:38.923216Z"
    },
    "tags": []
   },
   "outputs": [],
   "source": [
    "# query = f\"\"\"\n",
    "# WITH LOG_MERGED_TABLE AS(\n",
    "#     SELECT  A.*,\n",
    "#             COALESCE(B.categories, '') as categories\n",
    "#     FROM (\n",
    "#     SELECT distinct COALESCE(REPLACE(LOWER(item),' ', ''), '') as item\n",
    "#     FROM adot_reco.recgpt_log_sequence_lag_daily_prd\n",
    "#     WHERE dt > '{start_dt}' and type ='tmbr'\n",
    "#     ) AS A\n",
    "\n",
    "#     LEFT JOIN (\n",
    "#     SELECT  COALESCE(REPLACE(LOWER(brand_name),' ', ''), '') as brand_name,\n",
    "#             categories, \n",
    "#             description,\n",
    "#             dt\n",
    "#     FROM {PROJECT_ID}.{save_db_name}.tmbr_preprocessed_meta_table\n",
    "#     ) AS B\n",
    "\n",
    "#     ON A.item = b.brand_name\n",
    "# ),\n",
    "\n",
    "# NO_CATEGORY_TABLE AS (\n",
    "#     SELECT  A.*,\n",
    "#             COALESCE(B.categories, '') as categories\n",
    "#     FROM (\n",
    "#         SELECT distinct item\n",
    "#         FROM LOG_MERGED_TABLE\n",
    "#         WHERE categories ='' and item !=''\n",
    "#     )AS A\n",
    "#     LEFT JOIN (\n",
    "#         SELECT distinct brand_name, categories\n",
    "#         FROM {PROJECT_ID}.{save_db_name}.tmbr_preprocessed_meta_table\n",
    "#     ) AS B\n",
    "#     ON A.item LIKE CONCAT('%', B.brand_name, '%') \n",
    "        \n",
    "# )\n",
    "\n",
    "# SELECT *\n",
    "# FROM LOG_MERGED_TABLE\n",
    "# WHERE categories !='' and item !=''\n",
    "\n",
    "# UNION ALL\n",
    "\n",
    "# SELECT * \n",
    "# FROM NO_CATEGORY_TABLE\n",
    "\n",
    "# \"\"\""
   ]
  },
  {
   "cell_type": "code",
   "execution_count": 349,
   "id": "df1f98d7-cea4-4f28-9b6e-5a2fc9a852a6",
   "metadata": {
    "execution": {
     "iopub.execute_input": "2024-07-08T11:28:07.758191Z",
     "iopub.status.busy": "2024-07-08T11:28:07.757780Z",
     "iopub.status.idle": "2024-07-08T11:28:07.761193Z",
     "shell.execute_reply": "2024-07-08T11:28:07.760579Z",
     "shell.execute_reply.started": "2024-07-08T11:28:07.758161Z"
    },
    "tags": []
   },
   "outputs": [],
   "source": [
    "#test = bq_to_pandas(query)"
   ]
  }
 ],
 "metadata": {
  "kernelspec": {
   "display_name": "Python 3 (ipykernel)",
   "language": "python",
   "name": "python3"
  },
  "language_info": {
   "codemirror_mode": {
    "name": "ipython",
    "version": 3
   },
   "file_extension": ".py",
   "mimetype": "text/x-python",
   "name": "python",
   "nbconvert_exporter": "python",
   "pygments_lexer": "ipython3",
   "version": "3.8.19"
  }
 },
 "nbformat": 4,
 "nbformat_minor": 5
}
