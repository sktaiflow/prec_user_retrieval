{
 "cells": [
  {
   "cell_type": "code",
   "execution_count": 1,
   "id": "6f1bad82-8b98-4541-9cec-4e9f42dd813a",
   "metadata": {
    "execution": {
     "iopub.execute_input": "2024-07-09T06:11:26.295808Z",
     "iopub.status.busy": "2024-07-09T06:11:26.295321Z",
     "iopub.status.idle": "2024-07-09T06:11:27.261118Z",
     "shell.execute_reply": "2024-07-09T06:11:27.260308Z",
     "shell.execute_reply.started": "2024-07-09T06:11:26.295774Z"
    },
    "tags": []
   },
   "outputs": [],
   "source": [
    "from skt.gcp import (\n",
    "    PROJECT_ID,\n",
    "    bq_insert_overwrite,\n",
    "    bq_to_df,\n",
    "    bq_to_pandas,\n",
    "    get_bigquery_client,\n",
    "    bq_table_exists,\n",
    "    get_max_part,\n",
    "    load_query_result_to_table,\n",
    "    pandas_to_bq,\n",
    "    pandas_to_bq_table,\n",
    "    load_bigquery_ipython_magic,\n",
    "    get_bigquery_client,\n",
    "    _print_query_job_results,\n",
    "    load_query_result_to_partitions\n",
    "    \n",
    ")\n",
    "\n",
    "from skt.ye import (\n",
    "    get_hdfs_conn,\n",
    "    get_spark,\n",
    "    hive_execute,\n",
    "    hive_to_pandas,\n",
    "    pandas_to_parquet,\n",
    "    slack_send,\n",
    "    get_secrets\n",
    ")"
   ]
  },
  {
   "cell_type": "code",
   "execution_count": null,
   "id": "6aa98058",
   "metadata": {},
   "outputs": [],
   "source": [
    "from google.cloud.bigquery.job import QueryJobConfig"
   ]
  },
  {
   "cell_type": "code",
   "execution_count": 2,
   "id": "289831cd",
   "metadata": {
    "execution": {
     "iopub.execute_input": "2024-07-09T06:11:27.263002Z",
     "iopub.status.busy": "2024-07-09T06:11:27.262513Z",
     "iopub.status.idle": "2024-07-09T06:11:27.266704Z",
     "shell.execute_reply": "2024-07-09T06:11:27.266061Z",
     "shell.execute_reply.started": "2024-07-09T06:11:27.262971Z"
    },
    "tags": []
   },
   "outputs": [],
   "source": [
    "from datetime import datetime, timedelta"
   ]
  },
  {
   "cell_type": "code",
   "execution_count": 92,
   "id": "877ddd58",
   "metadata": {
    "execution": {
     "iopub.execute_input": "2024-07-09T10:39:54.765593Z",
     "iopub.status.busy": "2024-07-09T10:39:54.765168Z",
     "iopub.status.idle": "2024-07-09T10:39:54.770563Z",
     "shell.execute_reply": "2024-07-09T10:39:54.769917Z",
     "shell.execute_reply.started": "2024-07-09T10:39:54.765562Z"
    },
    "tags": []
   },
   "outputs": [
    {
     "name": "stdout",
     "output_type": "stream",
     "text": [
      "execution_dt: 2024-07-08\n",
      "state: stg\n",
      "ttl: 30\n"
     ]
    }
   ],
   "source": [
    "execution_dt = datetime.strptime(current_dt, '%Y-%m-%d')\n",
    "execution_dt_next = (execution_dt + timedelta(days=1))\n",
    "current_dt_next = execution_dt_next.strftime('%Y-%m-%d')\n",
    "ttl = int(ttl)\n",
    "print(f'execution_dt: {current_dt}')\n",
    "print(f\"state: {state}\")\n",
    "print(f\"ttl: {ttl}\")"
   ]
  },
  {
   "cell_type": "code",
   "execution_count": 106,
   "id": "e39c767a-58ec-450a-9c01-04dd49ca057c",
   "metadata": {
    "execution": {
     "iopub.execute_input": "2024-07-09T10:41:23.270270Z",
     "iopub.status.busy": "2024-07-09T10:41:23.269831Z",
     "iopub.status.idle": "2024-07-09T10:41:23.273925Z",
     "shell.execute_reply": "2024-07-09T10:41:23.273292Z",
     "shell.execute_reply.started": "2024-07-09T10:41:23.270238Z"
    },
    "tags": []
   },
   "outputs": [],
   "source": [
    "\"\"\" no partition data in comm (snapshot) \"\"\"\n",
    "PROJECT_ID = \"skt-datahub\"\n",
    "db_name  = \"comm\"\n",
    "tmbr_meta_tbl= \"mp_taxonomies_brand\" \n",
    "tmbr_meta_map_tbl = \"mp_taxonomies_brandMapp\""
   ]
  },
  {
   "cell_type": "code",
   "execution_count": 126,
   "id": "4e7f5ac0-0646-49ec-bf12-f4520f78d453",
   "metadata": {
    "execution": {
     "iopub.execute_input": "2024-07-09T10:43:21.908324Z",
     "iopub.status.busy": "2024-07-09T10:43:21.907740Z",
     "iopub.status.idle": "2024-07-09T10:43:21.912649Z",
     "shell.execute_reply": "2024-07-09T10:43:21.911950Z",
     "shell.execute_reply.started": "2024-07-09T10:43:21.908275Z"
    },
    "tags": []
   },
   "outputs": [],
   "source": [
    "temp_db = 'temp_1d'"
   ]
  },
  {
   "cell_type": "code",
   "execution_count": 107,
   "id": "d9dbe362",
   "metadata": {
    "execution": {
     "iopub.execute_input": "2024-07-09T10:41:23.453653Z",
     "iopub.status.busy": "2024-07-09T10:41:23.453161Z",
     "iopub.status.idle": "2024-07-09T10:41:23.457169Z",
     "shell.execute_reply": "2024-07-09T10:41:23.456509Z",
     "shell.execute_reply.started": "2024-07-09T10:41:23.453617Z"
    },
    "tags": []
   },
   "outputs": [],
   "source": [
    "save_db_name = 'adot_reco_dev'\n",
    "save_meta_table = 'tmbr_meta_mapping_tbl'"
   ]
  },
  {
   "cell_type": "code",
   "execution_count": 108,
   "id": "d9b9a611",
   "metadata": {
    "execution": {
     "iopub.execute_input": "2024-07-09T10:41:23.605648Z",
     "iopub.status.busy": "2024-07-09T10:41:23.605233Z",
     "iopub.status.idle": "2024-07-09T10:41:24.527199Z",
     "shell.execute_reply": "2024-07-09T10:41:24.526434Z",
     "shell.execute_reply.started": "2024-07-09T10:41:23.605616Z"
    },
    "tags": []
   },
   "outputs": [],
   "source": [
    "bq_clinet = get_bigquery_client()"
   ]
  },
  {
   "cell_type": "markdown",
   "id": "2eb13725",
   "metadata": {},
   "source": [
    "### UPDATED META 임시테이블에 저장\n"
   ]
  },
  {
   "cell_type": "code",
   "execution_count": null,
   "id": "5bb901e3",
   "metadata": {},
   "outputs": [],
   "source": [
    "recent_meta_dt = get_max_part(f\"{PROJECT_ID}.{save_db_name}.{save_meta_table}\")"
   ]
  },
  {
   "cell_type": "code",
   "execution_count": null,
   "id": "d113c967",
   "metadata": {},
   "outputs": [],
   "source": [
    "query = f\"\"\"\n",
    "    SELECT  *\n",
    "    FROM    {db_name}.{tmbr_meta_tbl}\n",
    "    WHERE brand_name is not null and brand_name !='' and LOWER(brand_name) NOT LIKE '%test%'\n",
    "    AND updated_at >= '{recent_meta_dt}' or created_at >= '{recent_meta_dt}'\n",
    "\"\"\"\n",
    "job_config = QueryJobConfig()\n",
    "temp_update_meta_table = f'{PROJECT_ID}.{temp_db}.tmbr_update_meta'\n",
    "job_config.destination = temp_update_meta_table\n",
    "job_config.write_disposition = 'WRITE_TRUNCATE'\n",
    "# 임시 테이블 생성\n",
    "query_job = bq_clinet.query(query, job_config=job_config)\n",
    "query_job.result() "
   ]
  },
  {
   "cell_type": "code",
   "execution_count": 159,
   "id": "db7da50d-8b7b-4b5a-95c9-52a14436c830",
   "metadata": {
    "execution": {
     "iopub.execute_input": "2024-07-09T10:50:18.016283Z",
     "iopub.status.busy": "2024-07-09T10:50:18.015841Z",
     "iopub.status.idle": "2024-07-09T10:50:18.022193Z",
     "shell.execute_reply": "2024-07-09T10:50:18.021558Z",
     "shell.execute_reply.started": "2024-07-09T10:50:18.016250Z"
    },
    "tags": []
   },
   "outputs": [],
   "source": [
    "## Meta table 전처리 로직: 중복 product 처리 (제거 x -> 메타 합산)\n",
    "query = f\"\"\"\n",
    "\n",
    "WITH META_TABLE AS (\n",
    "    SELECT  brand_id,\n",
    "            count(distinct brand_name) over(partition by COALESCE(TRIM(LOWER(brand_name)), '')) as brand_cnt,\n",
    "            COALESCE(TRIM(LOWER(brand_name)), '') as brand_name,\n",
    "            del_yn,\n",
    "            display_name\n",
    "            prm_brand_name,\n",
    "            categories,\n",
    "            COALESCE(TRIM(LOWER(category_large_name)), '') as category_large_name,\n",
    "            COALESCE(TRIM(LOWER(category_medium_name)), '') as category_medium_name,\n",
    "            COALESCE(TRIM(LOWER(category_small_name)), '') as category_small_name,\n",
    "            COALESCE(TRIM(LOWER(description)), '') as description\n",
    "\n",
    "    FROM    {db_name}.{tmbr_meta_tbl}\n",
    "    WHERE   dt = '{recent_meta_dt}'\n",
    "            AND brand_name is not null and brand_name !='' and LOWER(brand_name) NOT LIKE '%test%'\n",
    "),\n",
    "\n",
    "DUPLICATED_BRAND_TABLE AS(\n",
    "    SELECT  brand_name, \n",
    "            ARRAY_AGG(category_large_name) as category_large_names,\n",
    "            ARRAY_AGG(category_medium_name) as category_medium_names,\n",
    "            ARRAY_AGG(category_small_name) as category_small_names,\n",
    "            ARRAY_AGG(description) as descriptions\n",
    "\n",
    "    FROM (\n",
    "        SELECT  brand_name,\n",
    "                category_large_name,\n",
    "                category_medium_name,\n",
    "                category_small_name, \n",
    "                description\n",
    "\n",
    "        FROM META_TABLE\n",
    "        WHERE brand_name !='' AND brand_cnt > 1 \n",
    "    )\n",
    "    GROUP BY brand_name\n",
    "),\n",
    "\n",
    "NON_DUPLICATED_BRAND_TABLE AS(\n",
    "    SELECT  brand_name,\n",
    "            category_large_name,\n",
    "            category_medium_name,\n",
    "            category_small_name, \n",
    "            description\n",
    "            \n",
    "\n",
    "    FROM META_TABLE\n",
    "    WHERE brand_name !='' AND brand_cnt = 1\n",
    "),\n",
    "\n",
    "MERGED_DUPLICATE_BRAND_TABLE AS(\n",
    "    SELECT  brand_name,\n",
    "            ARRAY_TO_STRING(category_large_names, ',') as category_large_name,\n",
    "            ARRAY_TO_STRING(category_medium_names, ',') as category_medium_name,\n",
    "            ARRAY_TO_STRING(category_small_names, ',') as category_small_name,\n",
    "            ARRAY_TO_STRING(descriptions, ',') as description,\n",
    "            \n",
    "    FROM(\n",
    "        SELECT  brand_name,\n",
    "                ARRAY(\n",
    "                    SELECT category_large_name\n",
    "                    FROM UNNEST(category_large_names) AS category_large_name \n",
    "                    WHERE category_large_name != ''\n",
    "                  ) AS category_large_names,\n",
    "                ARRAY(\n",
    "                    SELECT category_medium_name \n",
    "                    FROM UNNEST(category_medium_names) AS category_medium_name \n",
    "                    WHERE category_medium_name != ''\n",
    "                  ) AS category_medium_names,\n",
    "\n",
    "                ARRAY(\n",
    "                    SELECT category_small_name\n",
    "                    FROM UNNEST(category_small_names) AS category_small_name\n",
    "                    WHERE category_small_name != ''\n",
    "                  ) AS category_small_names,\n",
    "                ARRAY(\n",
    "                    SELECT description\n",
    "                    FROM UNNEST(descriptions) AS description\n",
    "                    WHERE description != ''\n",
    "                  ) AS descriptions     \n",
    "\n",
    "        FROM DUPLICATED_BRAND_TABLE\n",
    "    )\n",
    ")\n",
    "\n",
    "SELECT  *\n",
    "        \n",
    "FROM MERGED_DUPLICATE_BRAND_TABLE\n",
    "\n",
    "UNION ALL\n",
    "\n",
    "SELECT  *\n",
    "\n",
    "FROM NON_DUPLICATED_BRAND_TABLE\n",
    "\"\"\"\n"
   ]
  },
  {
   "cell_type": "code",
   "execution_count": 160,
   "id": "c4b3384f-7f8a-4709-bae9-4cdbeca2432b",
   "metadata": {
    "execution": {
     "iopub.execute_input": "2024-07-09T10:50:18.242510Z",
     "iopub.status.busy": "2024-07-09T10:50:18.242076Z",
     "iopub.status.idle": "2024-07-09T10:50:18.245970Z",
     "shell.execute_reply": "2024-07-09T10:50:18.245324Z",
     "shell.execute_reply.started": "2024-07-09T10:50:18.242479Z"
    },
    "tags": []
   },
   "outputs": [],
   "source": [
    "from google.cloud.bigquery.job import QueryJobConfig"
   ]
  },
  {
   "cell_type": "code",
   "execution_count": 161,
   "id": "c1bdca1e-4185-49d9-befd-27c1dd03d33d",
   "metadata": {
    "execution": {
     "iopub.execute_input": "2024-07-09T10:50:18.737162Z",
     "iopub.status.busy": "2024-07-09T10:50:18.736736Z",
     "iopub.status.idle": "2024-07-09T10:50:18.741424Z",
     "shell.execute_reply": "2024-07-09T10:50:18.740608Z",
     "shell.execute_reply.started": "2024-07-09T10:50:18.737130Z"
    },
    "tags": []
   },
   "outputs": [],
   "source": [
    "job_config = QueryJobConfig()\n",
    "temp_no_duplicate_meta_table = f'{PROJECT_ID}.{temp_db}.tmbr_temp_table'\n",
    "job_config.destination = temp_no_duplicate_meta_table\n",
    "job_config.write_disposition = 'WRITE_TRUNCATE'"
   ]
  },
  {
   "cell_type": "code",
   "execution_count": 162,
   "id": "10a7f6bd-0450-4739-a188-32f544572e7d",
   "metadata": {
    "execution": {
     "iopub.execute_input": "2024-07-09T10:50:19.317126Z",
     "iopub.status.busy": "2024-07-09T10:50:19.316692Z",
     "iopub.status.idle": "2024-07-09T10:50:21.175332Z",
     "shell.execute_reply": "2024-07-09T10:50:21.174677Z",
     "shell.execute_reply.started": "2024-07-09T10:50:19.317080Z"
    },
    "tags": []
   },
   "outputs": [
    {
     "data": {
      "text/plain": [
       "<google.cloud.bigquery.table.RowIterator at 0x7f0abf0047c0>"
      ]
     },
     "execution_count": 162,
     "metadata": {},
     "output_type": "execute_result"
    }
   ],
   "source": [
    "# 임시 테이블 생성\n",
    "query_job = bq_clinet.query(query, job_config=job_config)\n",
    "query_job.result() "
   ]
  },
  {
   "cell_type": "code",
   "execution_count": null,
   "id": "bae482c0",
   "metadata": {},
   "outputs": [],
   "source": [
    "query = f\"\"\"\n",
    "WITH META_TABLE AS (\n",
    "    SELECT  *\n",
    "    FROM {temp_no_duplicate_meta_table}\n",
    "),\n",
    "\n",
    "SUB_WORD_TABLE AS (\n",
    "\n",
    "    SELECT  brand_word,\n",
    "            brand_name,\n",
    "            category_large_name,\n",
    "            category_medium_name,\n",
    "            category_small_name,\n",
    "            description,\n",
    "            count(brand_word) over(partition by brand_word) as word_cnt\n",
    "            \n",
    "    FROM (\n",
    "        SELECT  category_large_name,\n",
    "                category_medium_name,\n",
    "                category_small_name,\n",
    "                description,\n",
    "                brand_name,\n",
    "                brand_word\n",
    "                \n",
    "        FROM META_TABLE,\n",
    "        UNNEST(SPLIT(brand_name, ' ')) AS brand_word\n",
    "    )\n",
    "),\n",
    "\n",
    "tmbr_etymology_table AS (\n",
    "    SELECT  A.brand_name,\n",
    "            A.category_large_name,\n",
    "            A.category_medium_name,\n",
    "            A.category_small_name,\n",
    "            A.description,\n",
    "            A.is_empty,\n",
    "            B.del_yn\n",
    "    FROM (\n",
    "\n",
    "        SELECT distinct brand_name,\n",
    "               category_large_name,\n",
    "               category_medium_name,\n",
    "               category_small_name,\n",
    "               description,\n",
    "               CASE \n",
    "                   WHEN category_medium_name !='' OR category_small_name !='' THEN 'N'\n",
    "                   ELSE 'Y'\n",
    "               END AS is_empty\n",
    "               \n",
    "        FROM SUB_WORD_TABLE\n",
    "        WHERE brand_name = brand_word\n",
    "    )AS A\n",
    "    LEFT JOIN  (\n",
    "        SELECT  distinct COALESCE(TRIM(LOWER(brand_name)), '') as brand_name,\n",
    "                del_yn\n",
    "\n",
    "        FROM  {db_name}.{tmbr_meta_tbl}\n",
    "        WHERE brand_name is not null and brand_name !=''\n",
    "    ) AS B\n",
    "    ON A.brand_name = B.brand_name\n",
    "),\n",
    "\n",
    "derivative_table AS(\n",
    "    SELECT  distinct    brand_word as brand_name,\n",
    "                        brand_name as derivative_brand\n",
    "    FROM SUB_WORD_TABLE\n",
    "    WHERE brand_word in (SELECT distinct brand_name FROM tmbr_etymology_table) \n",
    "    AND brand_name != brand_word AND brand_word !=''\n",
    "),\n",
    "\n",
    "final_tmbr_etymology_table AS (\n",
    "\n",
    "    SELECT distinct COALESCE(brand_name, '') as brand_name,\n",
    "                    COALESCE(category_large_name, '') as category_large_name,\n",
    "                    COALESCE(category_medium_name, '') as category_medium_name,\n",
    "                    COALESCE(category_small_name, '') as category_small_name,\n",
    "                    COALESCE(description, '') as description,\n",
    "                    COALESCE(derivative_brand, '') as derivative_brand,\n",
    "                    PARSE_DATE('%Y-%m-%d', '{current_dt_next}') as dt \n",
    "    FROM (\n",
    "        SELECT  A.brand_name,\n",
    "                A.category_large_name,\n",
    "                A.category_medium_name,\n",
    "                A.category_small_name,\n",
    "                A.description,\n",
    "                B.derivative_brand\n",
    "\n",
    "        FROM tmbr_etymology_table AS A\n",
    "\n",
    "        LEFT JOIN (\n",
    "            SELECT  brand_name,\n",
    "                    derivative_brand\n",
    "            FROM derivative_table\n",
    "        ) AS B\n",
    "        ON A.brand_name = B.brand_name\n",
    "    )\n",
    ")\n",
    "SELECT * \n",
    "FROM final_tmbr_etymology_table A\n",
    "\"\"\""
   ]
  },
  {
   "cell_type": "code",
   "execution_count": null,
   "id": "a4fe92da",
   "metadata": {},
   "outputs": [],
   "source": [
    "try:\n",
    "    etymology_max_dt = get_max_part(f\"{PROJECT_ID}.{save_db_name}.tmbr_etymology_table\")\n",
    "    query = query + f\"\"\"WHERE NOT EXISTS (\n",
    "                SELECT 1\n",
    "                FROM {PROJECT_ID}.{save_db_name}.tmbr_etymology_table AS B\n",
    "                WHERE A.brand_name = B.brand_name AND A.category_medium_name = B.category_medium_name AND A.category_small_name = B.category_small_name\n",
    "                      AND A.derivative_brand = B.derivative_brand \n",
    "                AND dt <= '{etymology_max_dt}'\n",
    "            )\"\"\"\n",
    "except ValueError as e:\n",
    "    pass"
   ]
  },
  {
   "cell_type": "code",
   "execution_count": null,
   "id": "9995b4ea",
   "metadata": {},
   "outputs": [],
   "source": [
    "bq_insert_overwrite(sql=query, destination=f'{PROJECT_ID}.{save_db_name}.tmbr_etymology_table', partition='dt')"
   ]
  },
  {
   "cell_type": "code",
   "execution_count": 176,
   "id": "78afcad0-620d-4f34-83c8-8dd061c0cd3b",
   "metadata": {
    "execution": {
     "iopub.execute_input": "2024-07-09T10:52:12.067317Z",
     "iopub.status.busy": "2024-07-09T10:52:12.066891Z",
     "iopub.status.idle": "2024-07-09T10:52:12.072520Z",
     "shell.execute_reply": "2024-07-09T10:52:12.071852Z",
     "shell.execute_reply.started": "2024-07-09T10:52:12.067285Z"
    },
    "tags": []
   },
   "outputs": [],
   "source": [
    "# query = f\"\"\"\n",
    "# WITH META_TABLE AS (\n",
    "#     SELECT  *\n",
    "#     FROM {temp_no_duplicate_meta_table}\n",
    "# ),\n",
    "\n",
    "# SUB_WORD_TABLE AS (\n",
    "\n",
    "#     SELECT  brand_word,\n",
    "#             brand_name,\n",
    "#             category_large_name,\n",
    "#             category_medium_name,\n",
    "#             category_small_name,\n",
    "#             description,\n",
    "#             count(brand_word) over(partition by brand_word) as word_cnt\n",
    "            \n",
    "#     FROM (\n",
    "#         SELECT  category_large_name,\n",
    "#                 category_medium_name,\n",
    "#                 category_small_name,\n",
    "#                 description,\n",
    "#                 brand_name,\n",
    "#                 brand_word\n",
    "                \n",
    "#         FROM META_TABLE,\n",
    "#         UNNEST(SPLIT(brand_name, ' ')) AS brand_word\n",
    "#     )\n",
    "# ),\n",
    "\n",
    "# tmbr_etymology_table AS (\n",
    "#     SELECT  A.brand_name,\n",
    "#             A.category_large_name,\n",
    "#             A.category_medium_name,\n",
    "#             A.category_small_name,\n",
    "#             A.description,\n",
    "#             A.is_empty,\n",
    "#             B.del_yn\n",
    "#     FROM (\n",
    "\n",
    "#         SELECT distinct brand_name,\n",
    "#                category_large_name,\n",
    "#                category_medium_name,\n",
    "#                category_small_name,\n",
    "#                description,\n",
    "#                CASE \n",
    "#                    WHEN category_medium_name !='' OR category_small_name !='' THEN 'N'\n",
    "#                    ELSE 'Y'\n",
    "#                END AS is_empty\n",
    "               \n",
    "#         FROM SUB_WORD_TABLE\n",
    "#         WHERE brand_name = brand_word\n",
    "#     )AS A\n",
    "#     LEFT JOIN  (\n",
    "#         SELECT  distinct COALESCE(TRIM(LOWER(brand_name)), '') as brand_name,\n",
    "#                 del_yn\n",
    "\n",
    "#         FROM  {db_name}.{tmbr_meta_tbl}\n",
    "#         WHERE brand_name is not null and brand_name !=''\n",
    "#     ) AS B\n",
    "#     ON A.brand_name = B.brand_name\n",
    "# ),\n",
    "\n",
    "# derivative_table AS(\n",
    "#     SELECT  brand_word,\n",
    "#             ARRAY_TO_STRING(ARRAY_AGG(brand_name), '||') as derivative_brands\n",
    "#     FROM(\n",
    "#         SELECT  distinct brand_word,\n",
    "#                          brand_name\n",
    "#         FROM SUB_WORD_TABLE\n",
    "#         WHERE brand_word in (SELECT distinct brand_name FROM tmbr_etymology_table) \n",
    "#         AND brand_name != brand_word AND brand_word !=''\n",
    "#     )\n",
    "#     GROUP BY brand_word\n",
    "# )\n",
    "\n",
    "# final_tmbr_etymology_table AS (\n",
    "\n",
    "#     SELECT distinct *,\n",
    "#            PARSE_DATE('%Y-%m-%d', '{current_dt_next}') as dt \n",
    "#     FROM (\n",
    "#         SELECT  A.*,\n",
    "#                 B.derivative_brands\n",
    "\n",
    "#         FROM tmbr_etymology_table AS A\n",
    "\n",
    "#         LEFT JOIN (\n",
    "#             SELECT  brand_word,\n",
    "#                     derivative_brands\n",
    "#             FROM derivative_table\n",
    "#         ) AS B\n",
    "#         ON A.brand_name = B.brand_word\n",
    "#     )\n",
    "# )\n",
    "\n",
    "# SELECT * \n",
    "# FROM final_tmbr_etymology_table A\n",
    "\n",
    "# WHERE NOT EXISTS (\n",
    "#     SELECT 1\n",
    "#     FROM {PROJECT_ID}.{save_db_name}.tmbr_etymology_table\n",
    "#     WHERE A.brand_name = B.brand_name\n",
    "#     AND dt <= '{etymology_max_dt}'\n",
    "# \"\"\""
   ]
  },
  {
   "cell_type": "markdown",
   "id": "795dc405-e980-487d-b4b1-32b0fcf103cc",
   "metadata": {},
   "source": [
    "## Category mapping"
   ]
  },
  {
   "cell_type": "code",
   "execution_count": null,
   "id": "6b5df86a",
   "metadata": {},
   "outputs": [],
   "source": [
    "query = f\"\"\"\n",
    "WITH META_TABLE AS (\n",
    "    SELECT distinct *\n",
    "    FROM {temp_no_duplicate_meta_table}\n",
    ")\n",
    "\n",
    "SELECT \n",
    "    brand_name,\n",
    "    category_large_name,\n",
    "    category_medium_name,\n",
    "    category_small_name,\n",
    "    description,\n",
    "    PARSE_DATE('%Y-%m-%d', '{current_dt_next}') as dt \n",
    "\n",
    "FROM  META_TABLE\n",
    "WHERE category_small_name !='' OR category_medium_name!=''\n",
    "\"\"\""
   ]
  },
  {
   "cell_type": "code",
   "execution_count": null,
   "id": "33adacba",
   "metadata": {},
   "outputs": [],
   "source": [
    "try:\n",
    "    category_mapping_table_max_dt = get_max_part(f\"{PROJECT_ID}.{save_db_name}.tmbr_category_mapping_table\")\n",
    "    query = query + f\"\"\"AND NOT EXISTS (\n",
    "                SELECT 1\n",
    "                FROM {PROJECT_ID}.{save_db_name}.tmbr_category_mapping_table AS B\n",
    "                WHERE A.brand_name = B.brand_name AND A.category_medium_name = B.category_medium_name AND A.category_small_name = B.category_small_name\n",
    "                AND dt <= '{etymology_max_dt}'\n",
    "            )\"\"\"\n",
    "except ValueError as e:\n",
    "    pass"
   ]
  },
  {
   "cell_type": "code",
   "execution_count": null,
   "id": "aba0e0f5",
   "metadata": {},
   "outputs": [],
   "source": [
    "bq_insert_overwrite(sql=query, destination=f'{PROJECT_ID}.{save_db_name}.tmbr_category_mapping_table', partition='dt')"
   ]
  },
  {
   "cell_type": "code",
   "execution_count": null,
   "id": "c3c56a75",
   "metadata": {},
   "outputs": [],
   "source": []
  },
  {
   "cell_type": "code",
   "execution_count": null,
   "id": "b78e86e9",
   "metadata": {},
   "outputs": [],
   "source": []
  },
  {
   "cell_type": "code",
   "execution_count": 179,
   "id": "19b9d86d-a386-4a31-be5d-e253894ed881",
   "metadata": {
    "execution": {
     "iopub.execute_input": "2024-07-09T10:52:16.703259Z",
     "iopub.status.busy": "2024-07-09T10:52:16.702812Z",
     "iopub.status.idle": "2024-07-09T10:52:16.707309Z",
     "shell.execute_reply": "2024-07-09T10:52:16.706650Z",
     "shell.execute_reply.started": "2024-07-09T10:52:16.703227Z"
    },
    "tags": []
   },
   "outputs": [],
   "source": [
    "query = f\"\"\"\n",
    "WITH META_TABLE AS (\n",
    "    SELECT distinct *\n",
    "    FROM {temp_no_duplicate_meta_table}\n",
    "),\n",
    "TEMP_TABLE AS (\n",
    "    SELECT  brand_name,\n",
    "            category_large_name,\n",
    "            CASE\n",
    "                WHEN category_medium_name = '' AND category_small_name = '' THEN ''\n",
    "                WHEN category_medium_name = '' THEN category_small_name\n",
    "                WHEN category_small_name = '' THEN category_medium_name\n",
    "                WHEN category_medium_name = category_small_name THEN category_medium_name\n",
    "                WHEN STRPOS(category_medium_name, category_small_name) > 0 THEN category_small_name\n",
    "                ELSE CONCAT(category_medium_name, ',', category_small_name)\n",
    "            END AS categories,\n",
    "            description\n",
    "        \n",
    "    FROM  META_TABLE\n",
    ")\n",
    "\n",
    "SELECT *\n",
    "FROM TEMP_TABLE \n",
    "WHERE categories !=''\n",
    "\"\"\""
   ]
  },
  {
   "cell_type": "code",
   "execution_count": 180,
   "id": "9a560e27-03df-4bd7-93d3-1adfc9f83a3e",
   "metadata": {
    "execution": {
     "iopub.execute_input": "2024-07-09T10:52:16.867451Z",
     "iopub.status.busy": "2024-07-09T10:52:16.866805Z",
     "iopub.status.idle": "2024-07-09T10:52:19.961812Z",
     "shell.execute_reply": "2024-07-09T10:52:19.960914Z",
     "shell.execute_reply.started": "2024-07-09T10:52:16.867398Z"
    },
    "tags": []
   },
   "outputs": [
    {
     "name": "stdout",
     "output_type": "stream",
     "text": [
      "Warning: exception on print statistics\n",
      "unsupported operand type(s) for /: 'NoneType' and 'int'\n",
      "Downloading: 100%|\u001b[32m██████████\u001b[0m|\n"
     ]
    }
   ],
   "source": [
    "categories_mapping_df = bq_to_pandas(query)"
   ]
  },
  {
   "cell_type": "code",
   "execution_count": 181,
   "id": "03191ac8-2c23-4cb0-bb5f-5f4333710a8c",
   "metadata": {
    "execution": {
     "iopub.execute_input": "2024-07-09T10:52:19.963678Z",
     "iopub.status.busy": "2024-07-09T10:52:19.963315Z",
     "iopub.status.idle": "2024-07-09T10:52:19.973985Z",
     "shell.execute_reply": "2024-07-09T10:52:19.973187Z",
     "shell.execute_reply.started": "2024-07-09T10:52:19.963648Z"
    },
    "tags": []
   },
   "outputs": [],
   "source": [
    "categories_mapping = categories_mapping_df.set_index('brand_name').to_dict()['categories']"
   ]
  },
  {
   "cell_type": "code",
   "execution_count": 182,
   "id": "87eaef7b-1277-4918-a6cd-c3abd106b12c",
   "metadata": {
    "execution": {
     "iopub.execute_input": "2024-07-09T10:52:19.975367Z",
     "iopub.status.busy": "2024-07-09T10:52:19.975016Z",
     "iopub.status.idle": "2024-07-09T10:52:19.986707Z",
     "shell.execute_reply": "2024-07-09T10:52:19.986047Z",
     "shell.execute_reply.started": "2024-07-09T10:52:19.975336Z"
    },
    "tags": []
   },
   "outputs": [],
   "source": [
    "import json\n",
    "categories_mapping_json = json.dumps(categories_mapping, ensure_ascii=False)"
   ]
  },
  {
   "cell_type": "code",
   "execution_count": 199,
   "id": "e4773ac4-be12-409a-8cbc-dcfa8a0c025b",
   "metadata": {
    "execution": {
     "iopub.execute_input": "2024-07-09T10:55:17.062037Z",
     "iopub.status.busy": "2024-07-09T10:55:17.061626Z",
     "iopub.status.idle": "2024-07-09T10:55:17.067830Z",
     "shell.execute_reply": "2024-07-09T10:55:17.067189Z",
     "shell.execute_reply.started": "2024-07-09T10:55:17.062004Z"
    },
    "tags": []
   },
   "outputs": [],
   "source": [
    "query = f\"\"\"\n",
    "CREATE TEMP FUNCTION get_categories(brand_name STRING)\n",
    "RETURNS STRING\n",
    "LANGUAGE js AS '''\n",
    "  var root_product_mapping_json_set = {categories_mapping_json};\n",
    "  return (brand_name in root_product_mapping_json_set) ? root_product_mapping_json_set[brand_name] : '';\n",
    "''';\n",
    "\n",
    "WITH META_TABLE AS (\n",
    "    SELECT distinct *\n",
    "    FROM {temp_no_duplicate_meta_table}\n",
    "),\n",
    "\n",
    "ARRAY_TABLE AS (\n",
    "    SELECT *\n",
    "    FROM (\n",
    "        SELECT  *,\n",
    "                CASE\n",
    "                    WHEN category_medium_name = '' AND category_small_name = '' THEN ''\n",
    "                    WHEN category_medium_name = '' THEN category_small_name\n",
    "                    WHEN category_small_name = '' THEN category_medium_name\n",
    "                    WHEN category_medium_name = category_small_name THEN category_medium_name\n",
    "                    WHEN STRPOS(category_medium_name, category_small_name) > 0 THEN category_small_name\n",
    "                    ELSE CONCAT(category_medium_name, ',', category_small_name)\n",
    "                END AS categories,\n",
    "                SPLIT(derivative_brands, '||') as derivative_brand_array\n",
    "        FROM {PROJECT_ID}.{save_db_name}.tmbr_etymology_table\n",
    "        WHERE dt <= '{current_dt_next}'\n",
    "    )\n",
    "),\n",
    "exploded_data AS (\n",
    "  SELECT \n",
    "    brand_name,\n",
    "    description,\n",
    "    is_empty,\n",
    "    del_yn,\n",
    "    categories,\n",
    "    derivative_brand_element\n",
    "  FROM ARRAY_TABLE,\n",
    "  UNNEST(derivative_brand_array) AS derivative_brand_element\n",
    "),\n",
    "\n",
    "MERGED_TABLE AS (\n",
    "    SELECT distinct brand_name,\n",
    "                    CASE\n",
    "                        WHEN categories = '' AND categories_from_derivative = '' THEN ''\n",
    "                        WHEN categories = '' AND categories_from_derivative != '' THEN categories_from_derivative\n",
    "                        ELSE categories\n",
    "                    END AS categories,\n",
    "                    description\n",
    "\n",
    "    FROM (\n",
    "        SELECT brand_name,\n",
    "               description,\n",
    "               categories,\n",
    "               get_categories(derivative_brand_element) AS categories_from_derivative,\n",
    "               del_yn\n",
    "        FROM exploded_data\n",
    "    )\n",
    "    WHERE categories_from_derivative!='' OR categories!=''\n",
    ")\n",
    "\n",
    "SELECT *\n",
    "FROM (\n",
    "    SELECT  brand_name,\n",
    "            CASE\n",
    "                WHEN category_medium_name = '' AND category_small_name = '' THEN ''\n",
    "                WHEN category_medium_name = '' THEN category_small_name\n",
    "                WHEN category_small_name = '' THEN category_medium_name\n",
    "                WHEN category_medium_name = category_small_name THEN category_medium_name\n",
    "                WHEN STRPOS(category_medium_name, category_small_name) > 0 THEN category_small_name\n",
    "                ELSE CONCAT(category_medium_name, ',', category_small_name)\n",
    "            END AS categories,\n",
    "            description\n",
    "\n",
    "    FROM  META_TABLE\n",
    "    WHERE brand_name not in (SELECT distinct brand_name FROM MERGED_TABLE)\n",
    ")\n",
    "WHERE categories!=''\n",
    "\n",
    "UNION ALL\n",
    "SELECT  *\n",
    "\n",
    "FROM MERGED_TABLE\n",
    "WHERE categories !=''\n",
    "\"\"\""
   ]
  },
  {
   "cell_type": "code",
   "execution_count": 200,
   "id": "6b1fc6b8-4c19-41f2-bd52-47bb7fb4e442",
   "metadata": {
    "execution": {
     "iopub.execute_input": "2024-07-09T10:55:17.531806Z",
     "iopub.status.busy": "2024-07-09T10:55:17.531375Z",
     "iopub.status.idle": "2024-07-09T10:55:17.536016Z",
     "shell.execute_reply": "2024-07-09T10:55:17.535161Z",
     "shell.execute_reply.started": "2024-07-09T10:55:17.531774Z"
    },
    "tags": []
   },
   "outputs": [],
   "source": [
    "job_config = QueryJobConfig()\n",
    "temp_meta_preprocessed_table = f'{PROJECT_ID}.{temp_db}.tmbr_meta_preprocessed_table'\n",
    "job_config.destination = temp_meta_preprocessed_table\n",
    "job_config.write_disposition = 'WRITE_TRUNCATE'"
   ]
  },
  {
   "cell_type": "code",
   "execution_count": 201,
   "id": "5ed48ea3-fbb1-4a8b-a0c8-446f589de638",
   "metadata": {
    "execution": {
     "iopub.execute_input": "2024-07-09T10:55:18.123759Z",
     "iopub.status.busy": "2024-07-09T10:55:18.123232Z",
     "iopub.status.idle": "2024-07-09T10:55:20.269701Z",
     "shell.execute_reply": "2024-07-09T10:55:20.269033Z",
     "shell.execute_reply.started": "2024-07-09T10:55:18.123717Z"
    },
    "tags": []
   },
   "outputs": [
    {
     "data": {
      "text/plain": [
       "<google.cloud.bigquery.table.RowIterator at 0x7f0abeeeda90>"
      ]
     },
     "execution_count": 201,
     "metadata": {},
     "output_type": "execute_result"
    }
   ],
   "source": [
    "query_job = bq_clinet.query(query, job_config=job_config)\n",
    "query_job.result() "
   ]
  },
  {
   "cell_type": "markdown",
   "id": "5f5cc896-93d0-4468-b2e2-67c7d58694ca",
   "metadata": {},
   "source": [
    "# AGGREGATE"
   ]
  },
  {
   "cell_type": "code",
   "execution_count": 225,
   "id": "c2ecab43-ff1f-4c7a-9e7e-6378052a80a2",
   "metadata": {
    "execution": {
     "iopub.execute_input": "2024-07-09T12:24:39.123621Z",
     "iopub.status.busy": "2024-07-09T12:24:39.123074Z",
     "iopub.status.idle": "2024-07-09T12:24:39.129263Z",
     "shell.execute_reply": "2024-07-09T12:24:39.128460Z",
     "shell.execute_reply.started": "2024-07-09T12:24:39.123575Z"
    },
    "tags": []
   },
   "outputs": [],
   "source": [
    "query = f\"\"\"\n",
    "WITH category_split_table AS (\n",
    "  SELECT \n",
    "    brand_name,\n",
    "    SPLIT(categories, ',') as category_array\n",
    "  FROM {PROJECT_ID}.{temp_db}.tmbr_meta_preprocessed_table\n",
    "),\n",
    "\n",
    "exploded_tables AS (\n",
    "  SELECT \n",
    "    brand_name,\n",
    "    category\n",
    "  FROM category_split_table, UNNEST(category_array) AS category\n",
    "),\n",
    "\n",
    "categories_count_table AS (\n",
    "  SELECT \n",
    "    brand_name,\n",
    "    category,\n",
    "    COUNT(*) as category_count\n",
    "  FROM exploded_tables\n",
    "  GROUP BY brand_name, category\n",
    "),\n",
    "\n",
    "ranked_items AS (\n",
    "  SELECT \n",
    "    brand_name,\n",
    "    category,\n",
    "    category_count,\n",
    "    ROW_NUMBER() OVER (PARTITION BY brand_name ORDER BY category_count DESC) as rank\n",
    "  FROM categories_count_table\n",
    ")\n",
    "\n",
    "SELECT  B.brand_name,\n",
    "        A.categories,\n",
    "        REPLACE(TRIM(LOWER(A.brand_name)), ' ', '') as brand_name_model,\n",
    "        B.brand_id,\n",
    "        B.updated_at,\n",
    "        B.created_at,\n",
    "        PARSE_DATE('%Y-%m-%d', '{current_dt_next}') as dt \n",
    "FROM (\n",
    "    SELECT brand_name,\n",
    "           ARRAY_TO_STRING(ARRAY_AGG(DISTINCT category), ',') AS categories\n",
    "    FROM ranked_items\n",
    "    WHERE rank = 1 or category_count > 1\n",
    "    GROUP BY brand_name \n",
    ") AS A\n",
    "\n",
    "LEFT JOIN (\n",
    "    SELECT *\n",
    "    FROM  {db_name}.{tmbr_meta_tbl}\n",
    "    WHERE   brand_status_type = 'ACTIVE'\n",
    "            AND     del_yn = 'N'\n",
    ") AS B\n",
    "ON A.brand_name = TRIM(LOWER(B.brand_name))\n",
    "\"\"\""
   ]
  },
  {
   "cell_type": "code",
   "execution_count": null,
   "id": "f9d33055-6848-4705-b47e-9de2f8c4640f",
   "metadata": {},
   "outputs": [],
   "source": [
    "bq_insert_overwrite(sql=query, destination=f'{PROJECT_ID}.{save_db_name}.tmbr_meta_mapping_tbl', partition='dt')"
   ]
  },
  {
   "cell_type": "code",
   "execution_count": 1,
   "id": "fb1fe21a-8428-4ab0-88f7-2febdc0488c0",
   "metadata": {
    "execution": {
     "iopub.execute_input": "2024-07-10T04:11:25.198164Z",
     "iopub.status.busy": "2024-07-10T04:11:25.197634Z",
     "iopub.status.idle": "2024-07-10T04:11:25.201753Z",
     "shell.execute_reply": "2024-07-10T04:11:25.201105Z",
     "shell.execute_reply.started": "2024-07-10T04:11:25.198127Z"
    },
    "tags": []
   },
   "outputs": [],
   "source": [
    "# job_config = QueryJobConfig()\n",
    "# temp_meta_mapping_table = f'{PROJECT_ID}.{temp_db}.tmbr_meta_mapping_tbl'\n",
    "# job_config.destination = temp_meta_mapping_table\n",
    "# job_config.write_disposition = 'WRITE_TRUNCATE'"
   ]
  },
  {
   "cell_type": "code",
   "execution_count": 2,
   "id": "d332d3ab-ec31-4a78-97da-16b634cbfd5e",
   "metadata": {
    "execution": {
     "iopub.execute_input": "2024-07-10T04:11:27.134452Z",
     "iopub.status.busy": "2024-07-10T04:11:27.133970Z",
     "iopub.status.idle": "2024-07-10T04:11:27.137747Z",
     "shell.execute_reply": "2024-07-10T04:11:27.136951Z",
     "shell.execute_reply.started": "2024-07-10T04:11:27.134420Z"
    },
    "tags": []
   },
   "outputs": [],
   "source": [
    "# query_job = bq_clinet.query(query, job_config=job_config)\n",
    "# query_job.result() "
   ]
  },
  {
   "cell_type": "code",
   "execution_count": 3,
   "id": "cecb9374-e159-4175-9ff7-fd2be764d1a3",
   "metadata": {
    "execution": {
     "iopub.execute_input": "2024-07-10T04:11:29.066283Z",
     "iopub.status.busy": "2024-07-10T04:11:29.065776Z",
     "iopub.status.idle": "2024-07-10T04:11:29.069525Z",
     "shell.execute_reply": "2024-07-10T04:11:29.068905Z",
     "shell.execute_reply.started": "2024-07-10T04:11:29.066250Z"
    },
    "tags": []
   },
   "outputs": [],
   "source": [
    "# meta_mapping_table_dt = get_max_part(f'{PROJECT_ID}.{save_db_name}.tmbr_meta_mapping_tbl')"
   ]
  },
  {
   "cell_type": "code",
   "execution_count": null,
   "id": "0c5c5bb7-b2e6-4e5c-855c-7c361608a1ce",
   "metadata": {},
   "outputs": [],
   "source": [
    "ttl_query = f\"\"\"\n",
    "ALTER TABLE\n",
    "  {PROJECT_ID}.{save_db_name}.tmbr_meta_mapping_tbl\n",
    "SET\n",
    "  OPTIONS(partition_expiration_days={ttl})\n",
    "\"\"\"\n",
    "bq_clinet.query(ttl_query).result()"
   ]
  },
  {
   "cell_type": "markdown",
   "id": "e84f24d3",
   "metadata": {},
   "source": [
    "# drop temp table code"
   ]
  },
  {
   "cell_type": "code",
   "execution_count": null,
   "id": "87f2af39",
   "metadata": {},
   "outputs": [],
   "source": [
    "for temp_table_name in [\"tmbr_etymology_table\", \"tmbr_meta_preprocessed_table\"]:\n",
    "    drop_query = f\"\"\"\n",
    "    DROP TABLE IF EXISTS {PROJECT_ID}.{temp_db}.{temp_table_name}\n",
    "    \"\"\"\n",
    "    bq_clinet.query(drop_query).result()"
   ]
  }
 ],
 "metadata": {
  "kernelspec": {
   "display_name": "Python 3 (ipykernel)",
   "language": "python",
   "name": "python3"
  },
  "language_info": {
   "codemirror_mode": {
    "name": "ipython",
    "version": 3
   },
   "file_extension": ".py",
   "mimetype": "text/x-python",
   "name": "python",
   "nbconvert_exporter": "python",
   "pygments_lexer": "ipython3",
   "version": "3.8.19"
  }
 },
 "nbformat": 4,
 "nbformat_minor": 5
}
