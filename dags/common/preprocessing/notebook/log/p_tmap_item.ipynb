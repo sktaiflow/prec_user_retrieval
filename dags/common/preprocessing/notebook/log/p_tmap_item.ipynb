{
 "cells": [
  {
   "cell_type": "code",
   "execution_count": 2,
   "id": "f400f032-be1d-409d-82c1-914745945958",
   "metadata": {
    "execution": {
     "iopub.execute_input": "2024-06-11T06:24:40.059433Z",
     "iopub.status.busy": "2024-06-11T06:24:40.058558Z",
     "iopub.status.idle": "2024-06-11T06:24:41.526764Z",
     "shell.execute_reply": "2024-06-11T06:24:41.526005Z",
     "shell.execute_reply.started": "2024-06-11T06:24:40.059368Z"
    },
    "tags": []
   },
   "outputs": [],
   "source": [
    "from skt.gcp import (\n",
    "    PROJECT_ID,\n",
    "    bq_insert_overwrite   \n",
    ")"
   ]
  },
  {
   "cell_type": "code",
   "execution_count": 3,
   "id": "a45fd9bf-f169-4975-ba44-e07781779a98",
   "metadata": {
    "execution": {
     "iopub.execute_input": "2024-06-11T06:24:41.528608Z",
     "iopub.status.busy": "2024-06-11T06:24:41.528262Z",
     "iopub.status.idle": "2024-06-11T06:24:41.533654Z",
     "shell.execute_reply": "2024-06-11T06:24:41.533101Z",
     "shell.execute_reply.started": "2024-06-11T06:24:41.528584Z"
    },
    "tags": []
   },
   "outputs": [
    {
     "name": "stdout",
     "output_type": "stream",
     "text": [
      "DT :  2024-06-11\n",
      "DT_threshold :  2024-04-12\n",
      "DT_threshold :  2024-06-04\n"
     ]
    }
   ],
   "source": [
    "from datetime import date, datetime, timedelta\n",
    "import time\n",
    "from datetime import date, datetime\n",
    "\n",
    "import numpy as np\n",
    "import pandas as pd\n",
    "import pyarrow.parquet as pq\n",
    "from dateutil.relativedelta import relativedelta\n",
    "from pyhive import hive\n",
    "\n",
    "from copy import deepcopy\n",
    "from joblib import Parallel, delayed\n",
    "import warnings\n",
    "\n",
    "from tqdm.notebook import tqdm"
   ]
  },
  {
   "cell_type": "code",
   "execution_count": null,
   "id": "05e8ddfe",
   "metadata": {},
   "outputs": [],
   "source": [
    "print(f'current_dt: {current_dt}')\n",
    "print(f'state: {state}')"
   ]
  },
  {
   "cell_type": "code",
   "execution_count": null,
   "id": "9a8c6f65",
   "metadata": {},
   "outputs": [],
   "source": [
    "PROJECT_ID = \"skt-datahub\"\n",
    "data_db_name = \"adot_reco\"\n",
    "save_db_name = \"adot_reco_dev\"\n",
    "table_nm = \"recgpt_log_sequence_daily_preprocessed_prd\"\n",
    "lag_table_nm = \"recgpt_log_sequence_lag_daily_preprocessed_prd\""
   ]
  },
  {
   "cell_type": "code",
   "execution_count": null,
   "id": "7a728a67",
   "metadata": {},
   "outputs": [],
   "source": [
    "tmap_temp_cat_list = {\n",
    "    \"교통편의\": [],\n",
    "    \"생활편의\": [],\n",
    "    \"쇼핑\": [],\n",
    "    \"여행/레저\": [],\n",
    "    \"의료편의\": []\n",
    "}\n",
    "\n",
    "tmap_where_clauses = []\n",
    "for key, vals in tmap_temp_cat_list.items():\n",
    "    tmap_where_clauses.append(\n",
    "        f\"TRIM(LOWER(cat2)) = '{key}'\"\n",
    "    )\n",
    "    tmap_where_clauses.append(\"OR\")\n",
    "tmap_where_clause = ' '.join(tmap_where_clauses[:-1])"
   ]
  },
  {
   "cell_type": "code",
   "execution_count": null,
   "id": "20572546",
   "metadata": {},
   "outputs": [],
   "source": [
    "query = f\"\"\"\n",
    "WITH TMAP_TABLE AS (\n",
    "    SELECT  svc_mgmt_num,\n",
    "            luna_id,\n",
    "            \"tmap\" as source,\n",
    "            TRIM(LOWER(cat2)) as cat2,\n",
    "            TRIM(LOWER(cat1)) as cat1,\n",
    "            TRIM(LOWER(item)) as item,\n",
    "            unix_time,\n",
    "            CASE \n",
    "                WHEN EXTRACT(DAYOFWEEK FROM dt) IN (1, 7) THEN 1\n",
    "                ELSE 0\n",
    "            END AS is_weekend,\n",
    "            CASE\n",
    "                WHEN EXTRACT(HOUR FROM DATETIME(TIMESTAMP_SECONDS(CAST(unix_time AS INT64)), 'Asia/Seoul')) >= 0 \n",
    "                    AND EXTRACT(HOUR FROM DATETIME(TIMESTAMP_SECONDS(CAST(unix_time AS INT64)), 'Asia/Seoul')) < 6 THEN '0_6'\n",
    "                WHEN EXTRACT(HOUR FROM DATETIME(TIMESTAMP_SECONDS(CAST(unix_time AS INT64)), 'Asia/Seoul')) >= 6 \n",
    "                    AND EXTRACT(HOUR FROM DATETIME(TIMESTAMP_SECONDS(CAST(unix_time AS INT64)), 'Asia/Seoul')) < 10 THEN '6_9'\n",
    "                WHEN EXTRACT(HOUR FROM DATETIME(TIMESTAMP_SECONDS(CAST(unix_time AS INT64)), 'Asia/Seoul')) >= 10 \n",
    "                    AND EXTRACT(HOUR FROM DATETIME(TIMESTAMP_SECONDS(CAST(unix_time AS INT64)), 'Asia/Seoul')) < 12 THEN '9_11'\n",
    "                WHEN EXTRACT(HOUR FROM DATETIME(TIMESTAMP_SECONDS(CAST(unix_time AS INT64)), 'Asia/Seoul')) >= 12 \n",
    "                    AND EXTRACT(HOUR FROM DATETIME(TIMESTAMP_SECONDS(CAST(unix_time AS INT64)), 'Asia/Seoul')) < 13 THEN '11_13'\n",
    "                WHEN EXTRACT(HOUR FROM DATETIME(TIMESTAMP_SECONDS(CAST(unix_time AS INT64)), 'Asia/Seoul')) >= 13 \n",
    "                    AND EXTRACT(HOUR FROM DATETIME(TIMESTAMP_SECONDS(CAST(unix_time AS INT64)), 'Asia/Seoul')) < 17 THEN '13_18'\n",
    "                WHEN EXTRACT(HOUR FROM DATETIME(TIMESTAMP_SECONDS(CAST(unix_time AS INT64)), 'Asia/Seoul')) >= 17 \n",
    "                    AND EXTRACT(HOUR FROM DATETIME(TIMESTAMP_SECONDS(CAST(unix_time AS INT64)), 'Asia/Seoul')) < 21 THEN '18_21'\n",
    "                WHEN EXTRACT(HOUR FROM DATETIME(TIMESTAMP_SECONDS(CAST(unix_time AS INT64)), 'Asia/Seoul')) >= 21 \n",
    "                    AND EXTRACT(HOUR FROM DATETIME(TIMESTAMP_SECONDS(CAST(unix_time AS INT64)), 'Asia/Seoul')) < 24 THEN '21_24'\n",
    "            END AS second_s,\n",
    "            dt\n",
    "\n",
    "    FROM {data_db_name}.{table_nm}\n",
    "    WHERE dt = '{current_dt}' and type = 'tmap' and ({tmap_where_clause})\n",
    "\n",
    ")\n",
    "\n",
    "SELECT  svc_mgmt_num,\n",
    "        luna_id,\n",
    "        item,\n",
    "        cat1,\n",
    "        cat2,\n",
    "        count(*) as item_cnt,\n",
    "        second_s,\n",
    "        is_weekend,\n",
    "        dt\n",
    "FROM TMAP_TABLE\n",
    "group by svc_mgmt_num, luna_id, item, cat1, cat2, dt, second_s, is_weekend\n",
    "\"\"\""
   ]
  },
  {
   "cell_type": "code",
   "execution_count": null,
   "id": "c07b9db0",
   "metadata": {},
   "outputs": [],
   "source": [
    "print(query)"
   ]
  },
  {
   "cell_type": "code",
   "execution_count": null,
   "id": "b6d3d710",
   "metadata": {},
   "outputs": [],
   "source": [
    "bq_insert_overwrite(sql=query, destination=f'{PROJECT_ID}.{save_db_name}.tmap_item_cnt', partition='dt')"
   ]
  }
 ],
 "metadata": {
  "kernelspec": {
   "display_name": "Python 3 (ipykernel)",
   "language": "python",
   "name": "python3"
  },
  "language_info": {
   "codemirror_mode": {
    "name": "ipython",
    "version": 3
   },
   "file_extension": ".py",
   "mimetype": "text/x-python",
   "name": "python",
   "nbconvert_exporter": "python",
   "pygments_lexer": "ipython3",
   "version": "3.9.6"
  }
 },
 "nbformat": 4,
 "nbformat_minor": 5
}
